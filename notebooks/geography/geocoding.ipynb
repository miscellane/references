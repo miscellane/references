{
  "nbformat": 4,
  "nbformat_minor": 0,
  "metadata": {
    "colab": {
      "provenance": [],
      "toc_visible": true
    },
    "kernelspec": {
      "name": "python3",
      "display_name": "Python 3"
    }
  },
  "cells": [
    {
      "cell_type": "markdown",
      "metadata": {
        "id": "ByM9ozHaYpZR"
      },
      "source": [
        "## Preliminaries"
      ]
    },
    {
      "cell_type": "markdown",
      "metadata": {
        "id": "it2UE73cVHba"
      },
      "source": [
        "<br>\n",
        "\n",
        "### Packages"
      ]
    },
    {
      "cell_type": "code",
      "metadata": {
        "id": "c7EeGqICUXEA"
      },
      "source": [
        "import os\n",
        "import signal"
      ],
      "execution_count": null,
      "outputs": []
    },
    {
      "cell_type": "markdown",
      "metadata": {
        "id": "hBnLxOJEU_eq"
      },
      "source": [
        "<br>\n",
        "<br>\n",
        "\n",
        "#### Install libspatialindex\n",
        "\n",
        "* Future: `export LD_LIBRARY_PATH=$LD_LIBRARY_PATH:${directory}lib/`"
      ]
    },
    {
      "cell_type": "code",
      "metadata": {
        "id": "plVYwxL5Lo_4"
      },
      "source": [
        "%%bash\n",
        "\n",
        "apt-get install -qq curl g++ make\n",
        "\n",
        "# Parameters\n",
        "version=1.9.2\n",
        "package=spatialindex-src-$version\n",
        "directory=\"/usr/local/\"\n",
        "\n",
        "# Download & unpack tar\n",
        "curl -L https://github.com/libspatialindex/libspatialindex/releases/download/$version/$package.tar.gz | tar xz\n",
        "\n",
        "# Switch directory\n",
        "cd $package\n",
        "\n",
        "# make\n",
        "cmake -DCMAKE_INSTALL_PREFIX=$directory .\n",
        "make\n",
        "make install\n",
        "\n",
        "cp ${directory}lib/libspatialindex* /lib/"
      ],
      "execution_count": null,
      "outputs": []
    },
    {
      "cell_type": "markdown",
      "metadata": {
        "id": "EMq7MJP-U5Wg"
      },
      "source": [
        "<br>\n",
        "<br>\n",
        "\n",
        "#### Install RTree"
      ]
    },
    {
      "cell_type": "code",
      "metadata": {
        "id": "2PiUjMbWMeXQ"
      },
      "source": [
        "%%bash\n",
        "\n",
        "package=Rtree-0.9.4\n",
        "\n",
        "curl -L https://files.pythonhosted.org/packages/56/6f/f1e91001d5ad9fa9bed65875152f5a1c7955c5763168cae309546e6e9fda/$package.tar.gz | tar xz\n",
        "\n",
        "cd $package && /usr/local/bin/python setup.py install"
      ],
      "execution_count": null,
      "outputs": []
    },
    {
      "cell_type": "code",
      "metadata": {
        "id": "DfI0h_Jvofvw"
      },
      "source": [
        "!rm -rf Rtree-0.9.4 && rm -rf spatialindex-src-1.9.2"
      ],
      "execution_count": null,
      "outputs": []
    },
    {
      "cell_type": "markdown",
      "metadata": {
        "id": "e8OYfMeGUdKJ"
      },
      "source": [
        "<br>\n",
        "<br>\n",
        "\n",
        "#### Restart\n",
        "\n",
        "* `os.kill(os.getpid(), signal.SIGKILL.value)`\n",
        "* `os.system('systemctl reboot -i')`\n",
        "* !ps"
      ]
    },
    {
      "cell_type": "code",
      "metadata": {
        "id": "IXndDRcrZDxT"
      },
      "source": [
        "!kill -SIGKILL `pgrep -f jupyter-noteboo`"
      ],
      "execution_count": null,
      "outputs": []
    },
    {
      "cell_type": "markdown",
      "metadata": {
        "id": "CKIcS8uknvDX"
      },
      "source": [
        "<br>\n",
        "<br>\n",
        "\n",
        "#### GeoPandas"
      ]
    },
    {
      "cell_type": "code",
      "metadata": {
        "id": "XKM1ZjSYn2l5",
        "outputId": "92a6e764-66af-4aaa-9325-f9bc62da0200",
        "colab": {
          "base_uri": "https://localhost:8080/",
          "height": 491
        }
      },
      "source": [
        "!pip install geopandas"
      ],
      "execution_count": null,
      "outputs": [
        {
          "output_type": "stream",
          "text": [
            "Collecting geopandas\n",
            "\u001b[?25l  Downloading https://files.pythonhosted.org/packages/83/c5/3cf9cdc39a6f2552922f79915f36b45a95b71fd343cfc51170a5b6ddb6e8/geopandas-0.7.0-py2.py3-none-any.whl (928kB)\n",
            "\u001b[K     |████████████████████████████████| 931kB 2.7MB/s \n",
            "\u001b[?25hCollecting pyproj>=2.2.0\n",
            "\u001b[?25l  Downloading https://files.pythonhosted.org/packages/e5/c3/071e080230ac4b6c64f1a2e2f9161c9737a2bc7b683d2c90b024825000c0/pyproj-2.6.1.post1-cp36-cp36m-manylinux2010_x86_64.whl (10.9MB)\n",
            "\u001b[K     |████████████████████████████████| 10.9MB 14.4MB/s \n",
            "\u001b[?25hRequirement already satisfied: pandas>=0.23.0 in /usr/local/lib/python3.6/dist-packages (from geopandas) (1.0.3)\n",
            "Collecting fiona\n",
            "\u001b[?25l  Downloading https://files.pythonhosted.org/packages/ec/20/4e63bc5c6e62df889297b382c3ccd4a7a488b00946aaaf81a118158c6f09/Fiona-1.8.13.post1-cp36-cp36m-manylinux1_x86_64.whl (14.7MB)\n",
            "\u001b[K     |████████████████████████████████| 14.7MB 257kB/s \n",
            "\u001b[?25hRequirement already satisfied: shapely in /usr/local/lib/python3.6/dist-packages (from geopandas) (1.7.0)\n",
            "Requirement already satisfied: python-dateutil>=2.6.1 in /usr/local/lib/python3.6/dist-packages (from pandas>=0.23.0->geopandas) (2.8.1)\n",
            "Requirement already satisfied: pytz>=2017.2 in /usr/local/lib/python3.6/dist-packages (from pandas>=0.23.0->geopandas) (2018.9)\n",
            "Requirement already satisfied: numpy>=1.13.3 in /usr/local/lib/python3.6/dist-packages (from pandas>=0.23.0->geopandas) (1.18.4)\n",
            "Collecting click-plugins>=1.0\n",
            "  Downloading https://files.pythonhosted.org/packages/e9/da/824b92d9942f4e472702488857914bdd50f73021efea15b4cad9aca8ecef/click_plugins-1.1.1-py2.py3-none-any.whl\n",
            "Collecting cligj>=0.5\n",
            "  Downloading https://files.pythonhosted.org/packages/e4/be/30a58b4b0733850280d01f8bd132591b4668ed5c7046761098d665ac2174/cligj-0.5.0-py3-none-any.whl\n",
            "Requirement already satisfied: click<8,>=4.0 in /usr/local/lib/python3.6/dist-packages (from fiona->geopandas) (7.1.2)\n",
            "Requirement already satisfied: six>=1.7 in /usr/local/lib/python3.6/dist-packages (from fiona->geopandas) (1.12.0)\n",
            "Requirement already satisfied: attrs>=17 in /usr/local/lib/python3.6/dist-packages (from fiona->geopandas) (19.3.0)\n",
            "Collecting munch\n",
            "  Downloading https://files.pythonhosted.org/packages/cc/ab/85d8da5c9a45e072301beb37ad7f833cd344e04c817d97e0cc75681d248f/munch-2.5.0-py2.py3-none-any.whl\n",
            "Installing collected packages: pyproj, click-plugins, cligj, munch, fiona, geopandas\n",
            "Successfully installed click-plugins-1.1.1 cligj-0.5.0 fiona-1.8.13.post1 geopandas-0.7.0 munch-2.5.0 pyproj-2.6.1.post1\n"
          ],
          "name": "stdout"
        }
      ]
    },
    {
      "cell_type": "markdown",
      "metadata": {
        "id": "huqT-uxqYkVT"
      },
      "source": [
        "<br>\n",
        "<br>\n",
        "\n",
        "### Libraries"
      ]
    },
    {
      "cell_type": "code",
      "metadata": {
        "id": "Ll1nIps6YdWe"
      },
      "source": [
        "import geopandas as gpd\n",
        "import pandas as pd\n",
        "import folium\n",
        "import rtree\n",
        "import numpy as np"
      ],
      "execution_count": null,
      "outputs": []
    },
    {
      "cell_type": "markdown",
      "metadata": {
        "id": "NRSCb_mLii_G"
      },
      "source": [
        "<br>\n",
        "<br>\n",
        "\n",
        "### Classes & Functions"
      ]
    },
    {
      "cell_type": "code",
      "metadata": {
        "id": "FyqToWlMg7hi"
      },
      "source": [
        "class Geocoders:\n",
        "\n",
        "    @staticmethod\n",
        "    def simple(i):\n",
        "        try:\n",
        "            return gpd.tools.geocode(i, provider='nominatim', user_agent='spatial.analysis').loc[0, :]\n",
        "        except:\n",
        "            return pd.Series({'geometry': None, 'address': None})\n"
      ],
      "execution_count": null,
      "outputs": []
    },
    {
      "cell_type": "code",
      "metadata": {
        "id": "jSoXfFydpq_w"
      },
      "source": [
        "class GeoPandasCoders:\n",
        "\n",
        "    def __init__(self):\n",
        "\n",
        "        self.provider = 'nominatim'\n",
        "        self.user_agent = 'spatial.analysis'\n",
        "\n",
        "    def via(self, data: str):\n",
        "        \"\"\"\n",
        "        :param data: An address string whose latitude & longitude coordinates will be searched-for\n",
        "        :return:\n",
        "            A pandas.core.series.Series of geopy.Location objects .. if the address is\n",
        "            located, otherwise None.\n",
        "        \"\"\"\n",
        "\n",
        "        try:\n",
        "            return gpd.tools.geocode(data, provider=self.provider, user_agent=self.user_agent).loc[0, :]\n",
        "        except:\n",
        "            return pd.Series({'geometry': None, 'address': None})\n",
        "\n",
        "    def geocoding(self, data: gpd.GeoDataFrame, field: str):\n",
        "        \"\"\"\n",
        "        :param data: A series of addresses whose latitude & longitude coordinates will be searched-for\n",
        "        :return:\n",
        "            A GeoDataFrame of ... consisting of the address' geometry & address details; None\n",
        "            if not found ...\n",
        "        \"\"\"\n",
        "\n",
        "        instances = data.copy()\n",
        "\n",
        "        estimates = instances.apply(lambda x: self.via(x[field]), axis=1 )\n",
        "        estimates.dropna(axis=0, how='any', inplace=True)\n",
        "\n",
        "        instances = instances.join(estimates, how='inner')\n",
        "\n",
        "        instances['latitude'] = instances.geometry.y\n",
        "        instances['longitude'] = instances.geometry.x\n",
        "\n",
        "        return instances\n"
      ],
      "execution_count": null,
      "outputs": []
    },
    {
      "cell_type": "markdown",
      "metadata": {
        "id": "jfCWst5nY9Zu"
      },
      "source": [
        "<br>\n",
        "<br>\n",
        "\n",
        "## Explore"
      ]
    },
    {
      "cell_type": "markdown",
      "metadata": {
        "id": "1PADAr-lgGBT"
      },
      "source": [
        "<br>\n",
        "\n",
        "### Single Place"
      ]
    },
    {
      "cell_type": "code",
      "metadata": {
        "id": "sKgx23nVdemS"
      },
      "source": [
        "place = 'sabine mfg.'\n",
        "setup = gpd.GeoDataFrame(data={'place': [place]})"
      ],
      "execution_count": null,
      "outputs": []
    },
    {
      "cell_type": "markdown",
      "metadata": {
        "id": "dAhzKpKpdHia"
      },
      "source": [
        "<br>\n",
        "<br>\n",
        "\n",
        "The coördinates of\n",
        "\n",
        "* `setup.join( setup.apply(lambda x: Geocoders().simple(x['place']), axis=1) )`\n"
      ]
    },
    {
      "cell_type": "code",
      "metadata": {
        "id": "1OYnz2n_AlLk",
        "colab": {
          "base_uri": "https://localhost:8080/",
          "height": 81
        },
        "outputId": "c5fb8ae2-89e4-45f1-8e32-107d660f2d6f"
      },
      "source": [
        "sample = setup.apply(lambda x: Geocoders().simple(x['place']), axis=1)\n",
        "sample"
      ],
      "execution_count": null,
      "outputs": [
        {
          "output_type": "execute_result",
          "data": {
            "text/html": [
              "<div>\n",
              "<style scoped>\n",
              "    .dataframe tbody tr th:only-of-type {\n",
              "        vertical-align: middle;\n",
              "    }\n",
              "\n",
              "    .dataframe tbody tr th {\n",
              "        vertical-align: top;\n",
              "    }\n",
              "\n",
              "    .dataframe thead th {\n",
              "        text-align: right;\n",
              "    }\n",
              "</style>\n",
              "<table border=\"1\" class=\"dataframe\">\n",
              "  <thead>\n",
              "    <tr style=\"text-align: right;\">\n",
              "      <th></th>\n",
              "      <th>geometry</th>\n",
              "      <th>address</th>\n",
              "    </tr>\n",
              "  </thead>\n",
              "  <tbody>\n",
              "    <tr>\n",
              "      <th>0</th>\n",
              "      <td>None</td>\n",
              "      <td>None</td>\n",
              "    </tr>\n",
              "  </tbody>\n",
              "</table>\n",
              "</div>"
            ],
            "text/plain": [
              "  geometry address\n",
              "0     None    None"
            ]
          },
          "metadata": {
            "tags": []
          },
          "execution_count": 32
        }
      ]
    },
    {
      "cell_type": "code",
      "metadata": {
        "id": "q2iOJ-ZSjkVo",
        "outputId": "e603f415-ed10-44cc-a532-fe44e47c5c93",
        "colab": {
          "base_uri": "https://localhost:8080/",
          "height": 81
        }
      },
      "source": [
        "sample = setup.join(sample)\n",
        "sample"
      ],
      "execution_count": null,
      "outputs": [
        {
          "output_type": "execute_result",
          "data": {
            "text/html": [
              "<div>\n",
              "<style scoped>\n",
              "    .dataframe tbody tr th:only-of-type {\n",
              "        vertical-align: middle;\n",
              "    }\n",
              "\n",
              "    .dataframe tbody tr th {\n",
              "        vertical-align: top;\n",
              "    }\n",
              "\n",
              "    .dataframe thead th {\n",
              "        text-align: right;\n",
              "    }\n",
              "</style>\n",
              "<table border=\"1\" class=\"dataframe\">\n",
              "  <thead>\n",
              "    <tr style=\"text-align: right;\">\n",
              "      <th></th>\n",
              "      <th>place</th>\n",
              "      <th>geometry</th>\n",
              "      <th>address</th>\n",
              "    </tr>\n",
              "  </thead>\n",
              "  <tbody>\n",
              "    <tr>\n",
              "      <th>0</th>\n",
              "      <td>sabine mfg.</td>\n",
              "      <td>None</td>\n",
              "      <td>None</td>\n",
              "    </tr>\n",
              "  </tbody>\n",
              "</table>\n",
              "</div>"
            ],
            "text/plain": [
              "         place geometry address\n",
              "0  sabine mfg.     None    None"
            ]
          },
          "metadata": {
            "tags": []
          },
          "execution_count": 33
        }
      ]
    },
    {
      "cell_type": "code",
      "metadata": {
        "id": "TTdn9EZ3A8l5",
        "colab": {
          "base_uri": "https://localhost:8080/",
          "height": 35
        },
        "outputId": "88d70695-3039-4033-e107-0a3f600ba4e6"
      },
      "source": [
        "type(sample)"
      ],
      "execution_count": null,
      "outputs": [
        {
          "output_type": "execute_result",
          "data": {
            "text/plain": [
              "geopandas.geodataframe.GeoDataFrame"
            ]
          },
          "metadata": {
            "tags": []
          },
          "execution_count": 34
        }
      ]
    },
    {
      "cell_type": "markdown",
      "metadata": {
        "id": "MzuOqtqsh0rn"
      },
      "source": [
        "<br>\n",
        "\n",
        "Points"
      ]
    },
    {
      "cell_type": "code",
      "metadata": {
        "id": "xPQKF2dPalxt"
      },
      "source": [
        "points = sample.geometry\n",
        "latitude = points.y.values[0]\n",
        "longitude = points.x.values[0]"
      ],
      "execution_count": null,
      "outputs": []
    },
    {
      "cell_type": "code",
      "metadata": {
        "id": "s6zDhPOHBDtO",
        "colab": {
          "base_uri": "https://localhost:8080/",
          "height": 35
        },
        "outputId": "227d68f4-fb19-4a08-ecb5-b2541c55240d"
      },
      "source": [
        "longitude"
      ],
      "execution_count": null,
      "outputs": [
        {
          "output_type": "execute_result",
          "data": {
            "text/plain": [
              "nan"
            ]
          },
          "metadata": {
            "tags": []
          },
          "execution_count": 37
        }
      ]
    },
    {
      "cell_type": "markdown",
      "metadata": {
        "id": "MasHqQPa7hsA"
      },
      "source": [
        "<br>\n",
        "\n",
        "Altogether"
      ]
    },
    {
      "cell_type": "code",
      "metadata": {
        "id": "vg_RVlOPxqDW",
        "outputId": "20d8f2b8-388c-40c3-eae2-959bf369c200",
        "colab": {
          "base_uri": "https://localhost:8080/",
          "height": 49
        }
      },
      "source": [
        "GeoPandasCoders().geocoding(data=setup, field='place')"
      ],
      "execution_count": null,
      "outputs": [
        {
          "output_type": "execute_result",
          "data": {
            "text/html": [
              "<div>\n",
              "<style scoped>\n",
              "    .dataframe tbody tr th:only-of-type {\n",
              "        vertical-align: middle;\n",
              "    }\n",
              "\n",
              "    .dataframe tbody tr th {\n",
              "        vertical-align: top;\n",
              "    }\n",
              "\n",
              "    .dataframe thead th {\n",
              "        text-align: right;\n",
              "    }\n",
              "</style>\n",
              "<table border=\"1\" class=\"dataframe\">\n",
              "  <thead>\n",
              "    <tr style=\"text-align: right;\">\n",
              "      <th></th>\n",
              "      <th>place</th>\n",
              "      <th>geometry</th>\n",
              "      <th>address</th>\n",
              "      <th>latitude</th>\n",
              "      <th>longitude</th>\n",
              "    </tr>\n",
              "  </thead>\n",
              "  <tbody>\n",
              "  </tbody>\n",
              "</table>\n",
              "</div>"
            ],
            "text/plain": [
              "Empty GeoDataFrame\n",
              "Columns: [place, geometry, address, latitude, longitude]\n",
              "Index: []"
            ]
          },
          "metadata": {
            "tags": []
          },
          "execution_count": 40
        }
      ]
    },
    {
      "cell_type": "markdown",
      "metadata": {
        "id": "GlmCsKtXgLFA"
      },
      "source": [
        "<br>\n",
        "<br>\n",
        "\n",
        "### Places"
      ]
    },
    {
      "cell_type": "markdown",
      "metadata": {
        "id": "BFhjz_X3ifkB"
      },
      "source": [
        "<br>\n",
        "\n",
        "#### Request latitudes & longitudes"
      ]
    },
    {
      "cell_type": "code",
      "metadata": {
        "id": "ZZo4w0P7gPMA",
        "outputId": "fbeb2335-9bfd-47da-faa8-62eb029cca90",
        "colab": {
          "base_uri": "https://localhost:8080/",
          "height": 143
        }
      },
      "source": [
        "field = 'place'\n",
        "\n",
        "universities = gpd.GeoDataFrame(\n",
        "    data={field: ['The University of Edinburgh', 'The University of Cambridge', 'MIT', 'stjhn']}\n",
        ")\n",
        "\n",
        "estimates = universities.apply(lambda x: Geocoders().simple(x[field]), axis=1)\n",
        "estimates.dropna(axis=0, how='any', inplace=True)\n",
        "\n",
        "estimates"
      ],
      "execution_count": null,
      "outputs": [
        {
          "output_type": "execute_result",
          "data": {
            "text/html": [
              "<div>\n",
              "<style scoped>\n",
              "    .dataframe tbody tr th:only-of-type {\n",
              "        vertical-align: middle;\n",
              "    }\n",
              "\n",
              "    .dataframe tbody tr th {\n",
              "        vertical-align: top;\n",
              "    }\n",
              "\n",
              "    .dataframe thead th {\n",
              "        text-align: right;\n",
              "    }\n",
              "</style>\n",
              "<table border=\"1\" class=\"dataframe\">\n",
              "  <thead>\n",
              "    <tr style=\"text-align: right;\">\n",
              "      <th></th>\n",
              "      <th>geometry</th>\n",
              "      <th>address</th>\n",
              "    </tr>\n",
              "  </thead>\n",
              "  <tbody>\n",
              "    <tr>\n",
              "      <th>0</th>\n",
              "      <td>POINT (-3.18841 55.94413)</td>\n",
              "      <td>University of Edinburgh, Lothian Street, Pleas...</td>\n",
              "    </tr>\n",
              "    <tr>\n",
              "      <th>1</th>\n",
              "      <td>POINT (0.11974 52.19985)</td>\n",
              "      <td>Fitzwilliam Museum, Trumpington Street, Newnha...</td>\n",
              "    </tr>\n",
              "    <tr>\n",
              "      <th>2</th>\n",
              "      <td>POINT (-71.09568 42.35840)</td>\n",
              "      <td>Massachusetts Institute of Technology, Portlan...</td>\n",
              "    </tr>\n",
              "  </tbody>\n",
              "</table>\n",
              "</div>"
            ],
            "text/plain": [
              "                     geometry                                            address\n",
              "0   POINT (-3.18841 55.94413)  University of Edinburgh, Lothian Street, Pleas...\n",
              "1    POINT (0.11974 52.19985)  Fitzwilliam Museum, Trumpington Street, Newnha...\n",
              "2  POINT (-71.09568 42.35840)  Massachusetts Institute of Technology, Portlan..."
            ]
          },
          "metadata": {
            "tags": []
          },
          "execution_count": 42
        }
      ]
    },
    {
      "cell_type": "markdown",
      "metadata": {
        "id": "yUWOCBh3sHO8"
      },
      "source": [
        "<br>\n",
        "\n",
        "#### Join"
      ]
    },
    {
      "cell_type": "code",
      "metadata": {
        "id": "7TGqMRpdk9AK",
        "outputId": "577c819a-ef1e-45f1-9e46-b447be012f6f",
        "colab": {
          "base_uri": "https://localhost:8080/",
          "height": 36
        }
      },
      "source": [
        "data = universities.join(estimates, how='inner')\n",
        "type(data)"
      ],
      "execution_count": null,
      "outputs": [
        {
          "output_type": "execute_result",
          "data": {
            "text/plain": [
              "geopandas.geodataframe.GeoDataFrame"
            ]
          },
          "metadata": {
            "tags": []
          },
          "execution_count": 15
        }
      ]
    },
    {
      "cell_type": "markdown",
      "metadata": {
        "id": "WXJyQ0lOTEBb"
      },
      "source": [
        "<br>\n",
        "<br>\n",
        "\n",
        "#### DataFrame / GeoDataFrame"
      ]
    },
    {
      "cell_type": "markdown",
      "metadata": {
        "id": "-Lxj9RBSowEk"
      },
      "source": [
        "If the variable **data** is a DataFrame, rather than a GeoDataFrame, then the expressions\n",
        "\n",
        "\n",
        "```python\n",
        "    data['latitude'] = data.geometry.apply(lambda x: x.y)\n",
        "    data['longitude'] = data.geometry.apply(lambda x: x.x )\n",
        "    data\n",
        "```\n",
        "\n",
        "can be used to explicitly set **latutude** & **logitude** fields.  The expression\n",
        "\n",
        "```python\n",
        "    institutions = gpd.GeoDataFrame(data=data, geometry=data.geometry)\n",
        "```\n",
        "\n",
        "creates a GeoDataFrame from the DataFrame, and\n",
        "\n",
        "```python\n",
        "    institutions.crs = 'epsg:4326'\n",
        "```\n",
        "\n",
        "sets a coördinate reference system.\n",
        "\n",
        "<br>\n",
        "<br>\n"
      ]
    },
    {
      "cell_type": "code",
      "metadata": {
        "id": "dPEATfIqwGiZ",
        "outputId": "60effaa7-6426-4c8f-8d17-c2fdc44f007f",
        "colab": {
          "base_uri": "https://localhost:8080/",
          "height": 36
        }
      },
      "source": [
        "data.crs == None"
      ],
      "execution_count": null,
      "outputs": [
        {
          "output_type": "execute_result",
          "data": {
            "text/plain": [
              "True"
            ]
          },
          "metadata": {
            "tags": []
          },
          "execution_count": 16
        }
      ]
    },
    {
      "cell_type": "code",
      "metadata": {
        "id": "SGFJlhgFQX0g",
        "outputId": "77fb41a1-f0ae-47b4-8124-6c70e7a585f2",
        "colab": {
          "base_uri": "https://localhost:8080/",
          "height": 143
        }
      },
      "source": [
        "data['latitude'] = data.geometry.y\n",
        "data['longitude'] = data.geometry.x\n",
        "data.crs = 'epsg:4326'\n",
        "data"
      ],
      "execution_count": null,
      "outputs": [
        {
          "output_type": "execute_result",
          "data": {
            "text/html": [
              "<div>\n",
              "<style scoped>\n",
              "    .dataframe tbody tr th:only-of-type {\n",
              "        vertical-align: middle;\n",
              "    }\n",
              "\n",
              "    .dataframe tbody tr th {\n",
              "        vertical-align: top;\n",
              "    }\n",
              "\n",
              "    .dataframe thead th {\n",
              "        text-align: right;\n",
              "    }\n",
              "</style>\n",
              "<table border=\"1\" class=\"dataframe\">\n",
              "  <thead>\n",
              "    <tr style=\"text-align: right;\">\n",
              "      <th></th>\n",
              "      <th>place</th>\n",
              "      <th>geometry</th>\n",
              "      <th>address</th>\n",
              "      <th>latitude</th>\n",
              "      <th>longitude</th>\n",
              "    </tr>\n",
              "  </thead>\n",
              "  <tbody>\n",
              "    <tr>\n",
              "      <th>0</th>\n",
              "      <td>The University of Edinburgh</td>\n",
              "      <td>POINT (-3.18841 55.94413)</td>\n",
              "      <td>University of Edinburgh, Lothian Street, Pleas...</td>\n",
              "      <td>55.944128</td>\n",
              "      <td>-3.188406</td>\n",
              "    </tr>\n",
              "    <tr>\n",
              "      <th>1</th>\n",
              "      <td>The University of Cambridge</td>\n",
              "      <td>POINT (0.11974 52.19985)</td>\n",
              "      <td>Fitzwilliam Museum, Trumpington Street, Newnha...</td>\n",
              "      <td>52.199852</td>\n",
              "      <td>0.119739</td>\n",
              "    </tr>\n",
              "    <tr>\n",
              "      <th>2</th>\n",
              "      <td>MIT</td>\n",
              "      <td>POINT (-71.09568 42.35840)</td>\n",
              "      <td>Massachusetts Institute of Technology, Portlan...</td>\n",
              "      <td>42.358396</td>\n",
              "      <td>-71.095678</td>\n",
              "    </tr>\n",
              "  </tbody>\n",
              "</table>\n",
              "</div>"
            ],
            "text/plain": [
              "                         place  ...  longitude\n",
              "0  The University of Edinburgh  ...  -3.188406\n",
              "1  The University of Cambridge  ...   0.119739\n",
              "2                          MIT  ... -71.095678\n",
              "\n",
              "[3 rows x 5 columns]"
            ]
          },
          "metadata": {
            "tags": []
          },
          "execution_count": 17
        }
      ]
    },
    {
      "cell_type": "code",
      "metadata": {
        "id": "GlpOjRfHofd1",
        "outputId": "e328ab12-37bb-40e2-91e8-8efa9a11784a",
        "colab": {
          "base_uri": "https://localhost:8080/",
          "height": 36
        }
      },
      "source": [
        "type(data)"
      ],
      "execution_count": null,
      "outputs": [
        {
          "output_type": "execute_result",
          "data": {
            "text/plain": [
              "geopandas.geodataframe.GeoDataFrame"
            ]
          },
          "metadata": {
            "tags": []
          },
          "execution_count": 27
        }
      ]
    },
    {
      "cell_type": "markdown",
      "metadata": {
        "id": "35z1lkEE8PHq"
      },
      "source": [
        "<br>\n",
        "\n",
        "#### Altogether"
      ]
    },
    {
      "cell_type": "code",
      "metadata": {
        "id": "7RwZhpfO77M_",
        "outputId": "530d62e3-ef9c-4ede-fbcb-7c76c4b18fe1",
        "colab": {
          "base_uri": "https://localhost:8080/",
          "height": 143
        }
      },
      "source": [
        "GeoPandasCoders().geocoding(data=universities, field=field)"
      ],
      "execution_count": null,
      "outputs": [
        {
          "output_type": "execute_result",
          "data": {
            "text/html": [
              "<div>\n",
              "<style scoped>\n",
              "    .dataframe tbody tr th:only-of-type {\n",
              "        vertical-align: middle;\n",
              "    }\n",
              "\n",
              "    .dataframe tbody tr th {\n",
              "        vertical-align: top;\n",
              "    }\n",
              "\n",
              "    .dataframe thead th {\n",
              "        text-align: right;\n",
              "    }\n",
              "</style>\n",
              "<table border=\"1\" class=\"dataframe\">\n",
              "  <thead>\n",
              "    <tr style=\"text-align: right;\">\n",
              "      <th></th>\n",
              "      <th>place</th>\n",
              "      <th>geometry</th>\n",
              "      <th>address</th>\n",
              "      <th>latitude</th>\n",
              "      <th>longitude</th>\n",
              "    </tr>\n",
              "  </thead>\n",
              "  <tbody>\n",
              "    <tr>\n",
              "      <th>0</th>\n",
              "      <td>The University of Edinburgh</td>\n",
              "      <td>POINT (-3.18841 55.94413)</td>\n",
              "      <td>University of Edinburgh, Lothian Street, Pleas...</td>\n",
              "      <td>55.944128</td>\n",
              "      <td>-3.188406</td>\n",
              "    </tr>\n",
              "    <tr>\n",
              "      <th>1</th>\n",
              "      <td>The University of Cambridge</td>\n",
              "      <td>POINT (0.11974 52.19985)</td>\n",
              "      <td>Fitzwilliam Museum, Trumpington Street, Newnha...</td>\n",
              "      <td>52.199852</td>\n",
              "      <td>0.119739</td>\n",
              "    </tr>\n",
              "    <tr>\n",
              "      <th>2</th>\n",
              "      <td>MIT</td>\n",
              "      <td>POINT (-71.09568 42.35840)</td>\n",
              "      <td>Massachusetts Institute of Technology, Portlan...</td>\n",
              "      <td>42.358396</td>\n",
              "      <td>-71.095678</td>\n",
              "    </tr>\n",
              "  </tbody>\n",
              "</table>\n",
              "</div>"
            ],
            "text/plain": [
              "                         place  ...  longitude\n",
              "0  The University of Edinburgh  ...  -3.188406\n",
              "1  The University of Cambridge  ...   0.119739\n",
              "2                          MIT  ... -71.095678\n",
              "\n",
              "[3 rows x 5 columns]"
            ]
          },
          "metadata": {
            "tags": []
          },
          "execution_count": 18
        }
      ]
    },
    {
      "cell_type": "markdown",
      "metadata": {
        "id": "_o_IhPiqBD0I"
      },
      "source": [
        "<br>\n",
        "\n",
        "#### Map"
      ]
    },
    {
      "cell_type": "code",
      "metadata": {
        "id": "JIpYyyMtBFkA",
        "outputId": "b6dde7bb-1dd2-41d9-ff7f-9fe841d5b26b",
        "colab": {
          "base_uri": "https://localhost:8080/",
          "height": 636
        }
      },
      "source": [
        "# Create a map\n",
        "m = folium.Map(location=[54, 15], tiles='openstreetmap', zoom_start=2)\n",
        "\n",
        "# Add points to the map\n",
        "for _, record in data.iterrows():\n",
        "    folium.Marker([record['latitude'], record['longitude']], popup=record['place']).add_to(m)\n",
        "\n",
        "# Display the map\n",
        "m"
      ],
      "execution_count": null,
      "outputs": [
        {
          "output_type": "execute_result",
          "data": {
            "text/html": [
              "<div style=\"width:100%;\"><div style=\"position:relative;width:100%;height:0;padding-bottom:60%;\"><iframe src=\"about:blank\" style=\"position:absolute;width:100%;height:100%;left:0;top:0;border:none !important;\" data-html=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 onload=\"this.contentDocument.open();this.contentDocument.write(atob(this.getAttribute('data-html')));this.contentDocument.close();\" allowfullscreen webkitallowfullscreen mozallowfullscreen></iframe></div></div>"
            ],
            "text/plain": [
              "<folium.folium.Map at 0x7fe1d66b18d0>"
            ]
          },
          "metadata": {
            "tags": []
          },
          "execution_count": 19
        }
      ]
    },
    {
      "cell_type": "markdown",
      "metadata": {
        "id": "C1eiAQ8nDJJw"
      },
      "source": [
        "<br>\n",
        "<br>\n",
        "\n",
        "### Merges & Spatial Joins"
      ]
    },
    {
      "cell_type": "code",
      "metadata": {
        "id": "Bj14aWNkDTIF",
        "outputId": "6f1adb92-418c-43a5-f42e-e97ad109d2a6",
        "colab": {
          "base_uri": "https://localhost:8080/",
          "height": 206
        }
      },
      "source": [
        "world = gpd.read_file(gpd.datasets.get_path('naturalearth_lowres'))\n",
        "europe = world.loc[world.continent == 'Europe'].reset_index(drop=True)\n",
        "europe.head()"
      ],
      "execution_count": null,
      "outputs": [
        {
          "output_type": "execute_result",
          "data": {
            "text/html": [
              "<div>\n",
              "<style scoped>\n",
              "    .dataframe tbody tr th:only-of-type {\n",
              "        vertical-align: middle;\n",
              "    }\n",
              "\n",
              "    .dataframe tbody tr th {\n",
              "        vertical-align: top;\n",
              "    }\n",
              "\n",
              "    .dataframe thead th {\n",
              "        text-align: right;\n",
              "    }\n",
              "</style>\n",
              "<table border=\"1\" class=\"dataframe\">\n",
              "  <thead>\n",
              "    <tr style=\"text-align: right;\">\n",
              "      <th></th>\n",
              "      <th>pop_est</th>\n",
              "      <th>continent</th>\n",
              "      <th>name</th>\n",
              "      <th>iso_a3</th>\n",
              "      <th>gdp_md_est</th>\n",
              "      <th>geometry</th>\n",
              "    </tr>\n",
              "  </thead>\n",
              "  <tbody>\n",
              "    <tr>\n",
              "      <th>0</th>\n",
              "      <td>142257519</td>\n",
              "      <td>Europe</td>\n",
              "      <td>Russia</td>\n",
              "      <td>RUS</td>\n",
              "      <td>3745000.0</td>\n",
              "      <td>MULTIPOLYGON (((178.725 71.099, 180.000 71.516...</td>\n",
              "    </tr>\n",
              "    <tr>\n",
              "      <th>1</th>\n",
              "      <td>5320045</td>\n",
              "      <td>Europe</td>\n",
              "      <td>Norway</td>\n",
              "      <td>-99</td>\n",
              "      <td>364700.0</td>\n",
              "      <td>MULTIPOLYGON (((15.143 79.674, 15.523 80.016, ...</td>\n",
              "    </tr>\n",
              "    <tr>\n",
              "      <th>2</th>\n",
              "      <td>67106161</td>\n",
              "      <td>Europe</td>\n",
              "      <td>France</td>\n",
              "      <td>-99</td>\n",
              "      <td>2699000.0</td>\n",
              "      <td>MULTIPOLYGON (((-51.658 4.156, -52.249 3.241, ...</td>\n",
              "    </tr>\n",
              "    <tr>\n",
              "      <th>3</th>\n",
              "      <td>9960487</td>\n",
              "      <td>Europe</td>\n",
              "      <td>Sweden</td>\n",
              "      <td>SWE</td>\n",
              "      <td>498100.0</td>\n",
              "      <td>POLYGON ((11.027 58.856, 11.468 59.432, 12.300...</td>\n",
              "    </tr>\n",
              "    <tr>\n",
              "      <th>4</th>\n",
              "      <td>9549747</td>\n",
              "      <td>Europe</td>\n",
              "      <td>Belarus</td>\n",
              "      <td>BLR</td>\n",
              "      <td>165400.0</td>\n",
              "      <td>POLYGON ((28.177 56.169, 29.230 55.918, 29.372...</td>\n",
              "    </tr>\n",
              "  </tbody>\n",
              "</table>\n",
              "</div>"
            ],
            "text/plain": [
              "     pop_est  ...                                           geometry\n",
              "0  142257519  ...  MULTIPOLYGON (((178.725 71.099, 180.000 71.516...\n",
              "1    5320045  ...  MULTIPOLYGON (((15.143 79.674, 15.523 80.016, ...\n",
              "2   67106161  ...  MULTIPOLYGON (((-51.658 4.156, -52.249 3.241, ...\n",
              "3    9960487  ...  POLYGON ((11.027 58.856, 11.468 59.432, 12.300...\n",
              "4    9549747  ...  POLYGON ((28.177 56.169, 29.230 55.918, 29.372...\n",
              "\n",
              "[5 rows x 6 columns]"
            ]
          },
          "metadata": {
            "tags": []
          },
          "execution_count": 20
        }
      ]
    },
    {
      "cell_type": "code",
      "metadata": {
        "id": "2HlOc1lDooDr",
        "outputId": "506b147f-f44b-4672-93cc-d8f1dc6e52f1",
        "colab": {
          "base_uri": "https://localhost:8080/",
          "height": 36
        }
      },
      "source": [
        "type(europe)"
      ],
      "execution_count": null,
      "outputs": [
        {
          "output_type": "execute_result",
          "data": {
            "text/plain": [
              "geopandas.geodataframe.GeoDataFrame"
            ]
          },
          "metadata": {
            "tags": []
          },
          "execution_count": 28
        }
      ]
    },
    {
      "cell_type": "markdown",
      "metadata": {
        "id": "h63lIDSLDtw7"
      },
      "source": [
        "<br>\n",
        "\n",
        "Slicing"
      ]
    },
    {
      "cell_type": "code",
      "metadata": {
        "id": "hEElRhg-DeAy"
      },
      "source": [
        "europe_stats = europe[[\"name\", \"pop_est\", \"gdp_md_est\"]]\n",
        "europe_boundaries = europe[[\"name\", \"geometry\"]]"
      ],
      "execution_count": null,
      "outputs": []
    },
    {
      "cell_type": "code",
      "metadata": {
        "id": "gAKwNlmVEFaR",
        "outputId": "5697a47c-c938-4a38-e06b-20db4cfc9008",
        "colab": {
          "base_uri": "https://localhost:8080/",
          "height": 36
        }
      },
      "source": [
        "type(europe_stats)"
      ],
      "execution_count": null,
      "outputs": [
        {
          "output_type": "execute_result",
          "data": {
            "text/plain": [
              "pandas.core.frame.DataFrame"
            ]
          },
          "metadata": {
            "tags": []
          },
          "execution_count": 22
        }
      ]
    },
    {
      "cell_type": "code",
      "metadata": {
        "id": "1107NQr_EJla",
        "outputId": "9b349386-eadb-413d-d305-ae237c532fc2",
        "colab": {
          "base_uri": "https://localhost:8080/",
          "height": 36
        }
      },
      "source": [
        "type(europe_boundaries)"
      ],
      "execution_count": null,
      "outputs": [
        {
          "output_type": "execute_result",
          "data": {
            "text/plain": [
              "geopandas.geodataframe.GeoDataFrame"
            ]
          },
          "metadata": {
            "tags": []
          },
          "execution_count": 23
        }
      ]
    },
    {
      "cell_type": "markdown",
      "metadata": {
        "id": "FLnsMMWBECdB"
      },
      "source": [
        "<br>\n",
        "\n",
        "Merge"
      ]
    },
    {
      "cell_type": "code",
      "metadata": {
        "id": "vlHLu2ZkES3Q",
        "outputId": "353b31a2-ec90-479c-ca39-84e38f657250",
        "colab": {
          "base_uri": "https://localhost:8080/",
          "height": 206
        }
      },
      "source": [
        "europe_boundaries.merge(europe_stats, on='name').head()"
      ],
      "execution_count": null,
      "outputs": [
        {
          "output_type": "execute_result",
          "data": {
            "text/html": [
              "<div>\n",
              "<style scoped>\n",
              "    .dataframe tbody tr th:only-of-type {\n",
              "        vertical-align: middle;\n",
              "    }\n",
              "\n",
              "    .dataframe tbody tr th {\n",
              "        vertical-align: top;\n",
              "    }\n",
              "\n",
              "    .dataframe thead th {\n",
              "        text-align: right;\n",
              "    }\n",
              "</style>\n",
              "<table border=\"1\" class=\"dataframe\">\n",
              "  <thead>\n",
              "    <tr style=\"text-align: right;\">\n",
              "      <th></th>\n",
              "      <th>name</th>\n",
              "      <th>geometry</th>\n",
              "      <th>pop_est</th>\n",
              "      <th>gdp_md_est</th>\n",
              "    </tr>\n",
              "  </thead>\n",
              "  <tbody>\n",
              "    <tr>\n",
              "      <th>0</th>\n",
              "      <td>Russia</td>\n",
              "      <td>MULTIPOLYGON (((178.725 71.099, 180.000 71.516...</td>\n",
              "      <td>142257519</td>\n",
              "      <td>3745000.0</td>\n",
              "    </tr>\n",
              "    <tr>\n",
              "      <th>1</th>\n",
              "      <td>Norway</td>\n",
              "      <td>MULTIPOLYGON (((15.143 79.674, 15.523 80.016, ...</td>\n",
              "      <td>5320045</td>\n",
              "      <td>364700.0</td>\n",
              "    </tr>\n",
              "    <tr>\n",
              "      <th>2</th>\n",
              "      <td>France</td>\n",
              "      <td>MULTIPOLYGON (((-51.658 4.156, -52.249 3.241, ...</td>\n",
              "      <td>67106161</td>\n",
              "      <td>2699000.0</td>\n",
              "    </tr>\n",
              "    <tr>\n",
              "      <th>3</th>\n",
              "      <td>Sweden</td>\n",
              "      <td>POLYGON ((11.027 58.856, 11.468 59.432, 12.300...</td>\n",
              "      <td>9960487</td>\n",
              "      <td>498100.0</td>\n",
              "    </tr>\n",
              "    <tr>\n",
              "      <th>4</th>\n",
              "      <td>Belarus</td>\n",
              "      <td>POLYGON ((28.177 56.169, 29.230 55.918, 29.372...</td>\n",
              "      <td>9549747</td>\n",
              "      <td>165400.0</td>\n",
              "    </tr>\n",
              "  </tbody>\n",
              "</table>\n",
              "</div>"
            ],
            "text/plain": [
              "      name  ... gdp_md_est\n",
              "0   Russia  ...  3745000.0\n",
              "1   Norway  ...   364700.0\n",
              "2   France  ...  2699000.0\n",
              "3   Sweden  ...   498100.0\n",
              "4  Belarus  ...   165400.0\n",
              "\n",
              "[5 rows x 4 columns]"
            ]
          },
          "metadata": {
            "tags": []
          },
          "execution_count": 24
        }
      ]
    },
    {
      "cell_type": "markdown",
      "metadata": {
        "id": "tU3ezy1EEu6_"
      },
      "source": [
        "<br>\n",
        "\n",
        "Spatial Join"
      ]
    },
    {
      "cell_type": "code",
      "metadata": {
        "id": "ugMPTcNuFNCU"
      },
      "source": [
        "if not data.crs == europe.crs:\n",
        "    data.crs = '{}'.format(europe.crs)"
      ],
      "execution_count": null,
      "outputs": []
    },
    {
      "cell_type": "code",
      "metadata": {
        "id": "PbCT5S0iGGxD",
        "outputId": "23a9e712-9abe-4e6f-def6-43de7ce8112f",
        "colab": {
          "base_uri": "https://localhost:8080/",
          "height": 216
        }
      },
      "source": [
        "join = gpd.sjoin(data, europe, how='inner', op='within')\n",
        "join"
      ],
      "execution_count": null,
      "outputs": [
        {
          "output_type": "execute_result",
          "data": {
            "text/html": [
              "<div>\n",
              "<style scoped>\n",
              "    .dataframe tbody tr th:only-of-type {\n",
              "        vertical-align: middle;\n",
              "    }\n",
              "\n",
              "    .dataframe tbody tr th {\n",
              "        vertical-align: top;\n",
              "    }\n",
              "\n",
              "    .dataframe thead th {\n",
              "        text-align: right;\n",
              "    }\n",
              "</style>\n",
              "<table border=\"1\" class=\"dataframe\">\n",
              "  <thead>\n",
              "    <tr style=\"text-align: right;\">\n",
              "      <th></th>\n",
              "      <th>place</th>\n",
              "      <th>geometry</th>\n",
              "      <th>address</th>\n",
              "      <th>latitude</th>\n",
              "      <th>longitude</th>\n",
              "      <th>index_right</th>\n",
              "      <th>pop_est</th>\n",
              "      <th>continent</th>\n",
              "      <th>name</th>\n",
              "      <th>iso_a3</th>\n",
              "      <th>gdp_md_est</th>\n",
              "    </tr>\n",
              "  </thead>\n",
              "  <tbody>\n",
              "    <tr>\n",
              "      <th>0</th>\n",
              "      <td>The University of Edinburgh</td>\n",
              "      <td>POINT (-3.18841 55.94413)</td>\n",
              "      <td>University of Edinburgh, Lothian Street, Pleas...</td>\n",
              "      <td>55.944128</td>\n",
              "      <td>-3.188406</td>\n",
              "      <td>28</td>\n",
              "      <td>64769452</td>\n",
              "      <td>Europe</td>\n",
              "      <td>United Kingdom</td>\n",
              "      <td>GBR</td>\n",
              "      <td>2788000.0</td>\n",
              "    </tr>\n",
              "    <tr>\n",
              "      <th>1</th>\n",
              "      <td>The University of Cambridge</td>\n",
              "      <td>POINT (0.11974 52.19985)</td>\n",
              "      <td>Fitzwilliam Museum, Trumpington Street, Newnha...</td>\n",
              "      <td>52.199852</td>\n",
              "      <td>0.119739</td>\n",
              "      <td>28</td>\n",
              "      <td>64769452</td>\n",
              "      <td>Europe</td>\n",
              "      <td>United Kingdom</td>\n",
              "      <td>GBR</td>\n",
              "      <td>2788000.0</td>\n",
              "    </tr>\n",
              "  </tbody>\n",
              "</table>\n",
              "</div>"
            ],
            "text/plain": [
              "                         place                   geometry  ... iso_a3  gdp_md_est\n",
              "0  The University of Edinburgh  POINT (-3.18841 55.94413)  ...    GBR   2788000.0\n",
              "1  The University of Cambridge   POINT (0.11974 52.19985)  ...    GBR   2788000.0\n",
              "\n",
              "[2 rows x 11 columns]"
            ]
          },
          "metadata": {
            "tags": []
          },
          "execution_count": 26
        }
      ]
    }
  ]
}