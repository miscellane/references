{
  "nbformat": 4,
  "nbformat_minor": 0,
  "metadata": {
    "kernelspec": {
      "display_name": "Python 3",
      "language": "python",
      "name": "python3"
    },
    "language_info": {
      "codemirror_mode": {
        "name": "ipython",
        "version": 3
      },
      "file_extension": ".py",
      "mimetype": "text/x-python",
      "name": "python",
      "nbconvert_exporter": "python",
      "pygments_lexer": "ipython3",
      "version": "3.6.2"
    },
    "name": "Mini_Project_SQL_with_Spark_Solutions",
    "notebookId": 1931807081501703,
    "colab": {
      "provenance": [],
      "collapsed_sections": [],
      "toc_visible": true
    }
  },
  "cells": [
    {
      "cell_type": "markdown",
      "metadata": {
        "id": "vhlFB7zMTL7Z"
      },
      "source": [
        "## SQL at Scale with Spark SQL\n",
        "\n",
        "Welcome to the SQL mini project. For this project, you will use the Domino Data Lab Platform and work through a series of exercises using Spark SQL. The dataset size may not be too big but the intent here is to familiarize yourself with the Spark SQL interface which scales easily to huge datasets, without you having to worry about changing your SQL queries. \n",
        "\n",
        "The data you need is present in the mini-project folder in the form of three CSV files. You need to make sure that these datasets are uploaded and present in the same directory as this notebook file, since we will be importing these files in Spark and create the following tables under the __`country_club`__ database using Spark SQL.\n",
        "\n",
        "1. The __`bookings`__ table,\n",
        "2. The __`facilities`__ table, and\n",
        "3. The __`members`__ table.\n",
        "\n",
        "You will be uploading these datasets shortly into Spark to understand how to create a database within minutes! Once the database and the tables are populated, you will be focusing on the mini-project questions.\n",
        "\n",
        "In the mini project, you'll be asked a series of questions. You can solve them using the Domino platform, but for the final deliverable, please download this notebook as an IPython notebook (__`File -> Export -> IPython Notebook`__) and upload it to your GitHub."
      ]
    },
    {
      "cell_type": "markdown",
      "metadata": {
        "id": "utXqpLocTL7e"
      },
      "source": [
        "# Checking Existence of Spark Environment Variables\n",
        "\n",
        "Make sure your notebook is loaded using a PySpark Workspace. If you open up a regular Jupyter workspace the following variables might not exist"
      ]
    },
    {
      "cell_type": "code",
      "metadata": {
        "id": "GZOgiv4LccL3"
      },
      "source": [
        "!pip install pyspark"
      ],
      "execution_count": null,
      "outputs": []
    },
    {
      "cell_type": "markdown",
      "metadata": {
        "id": "2V7wT9MiTL72"
      },
      "source": [
        "### Run the following if you failed to open a notebook in the PySpark Workspace\n",
        "\n",
        "This will work assuming you are using Spark in the cloud on domino or you might need to configure with your own spark instance if you are working offline"
      ]
    },
    {
      "cell_type": "code",
      "metadata": {
        "id": "8zcZL5LHTL74"
      },
      "source": [
        "if 'sc' not in locals():\n",
        "    from pyspark.context import SparkContext\n",
        "    from pyspark.sql.context import SQLContext\n",
        "    from pyspark.sql.session import SparkSession\n",
        "    \n",
        "    sc = SparkContext()\n",
        "    sqlContext = SQLContext(sc)\n",
        "    spark = SparkSession(sc)"
      ],
      "execution_count": null,
      "outputs": []
    },
    {
      "cell_type": "code",
      "metadata": {
        "id": "AzLCooJJTL7h"
      },
      "source": [
        "spark"
      ],
      "execution_count": null,
      "outputs": []
    },
    {
      "cell_type": "code",
      "metadata": {
        "id": "Jr_VSmd-TL7u"
      },
      "source": [
        "sqlContext"
      ],
      "execution_count": null,
      "outputs": []
    },
    {
      "cell_type": "markdown",
      "metadata": {
        "id": "2WvpDAcnTL7_"
      },
      "source": [
        "# Create a utility function to run SQL commands\n",
        "\n",
        "Instead of typing the same python functions repeatedly, we build a small function where you can just pass your query to get results.\n",
        "\n",
        "- Remember we are using Spark SQL in PySpark\n",
        "- We can't run multiple SQL statements in one go (no semi-colon ';' separated SQL statements)\n",
        "- We can run multi-line SQL queries (but still has to be a single statement)"
      ]
    },
    {
      "cell_type": "code",
      "metadata": {
        "id": "7fesfUAYTL8B"
      },
      "source": [
        "def run_sql(statement):\n",
        "    try:\n",
        "        result = sqlContext.sql(statement)\n",
        "    except Exception as e:\n",
        "        print(e.desc, '\\n', e.stackTrace)\n",
        "        return\n",
        "    return result"
      ],
      "execution_count": null,
      "outputs": []
    },
    {
      "cell_type": "markdown",
      "metadata": {
        "id": "q3xKUm4-TL8H"
      },
      "source": [
        "# Creating the Database\n",
        "\n",
        "We will first create our database in which we will be creating our three tables of interest"
      ]
    },
    {
      "cell_type": "code",
      "metadata": {
        "id": "UgBdnN_8TL8J",
        "outputId": "67586aea-4afc-438e-a524-15f7b31d597e"
      },
      "source": [
        "run_sql('drop database if exists country_club cascade')\n",
        "run_sql('create database country_club')\n",
        "dbs = run_sql('show databases')\n",
        "dbs.toPandas()"
      ],
      "execution_count": null,
      "outputs": [
        {
          "output_type": "execute_result",
          "data": {
            "text/html": [
              "<div>\n",
              "<style>\n",
              "    .dataframe thead tr:only-child th {\n",
              "        text-align: right;\n",
              "    }\n",
              "\n",
              "    .dataframe thead th {\n",
              "        text-align: left;\n",
              "    }\n",
              "\n",
              "    .dataframe tbody tr th {\n",
              "        vertical-align: top;\n",
              "    }\n",
              "</style>\n",
              "<table border=\"1\" class=\"dataframe\">\n",
              "  <thead>\n",
              "    <tr style=\"text-align: right;\">\n",
              "      <th></th>\n",
              "      <th>databaseName</th>\n",
              "    </tr>\n",
              "  </thead>\n",
              "  <tbody>\n",
              "    <tr>\n",
              "      <th>0</th>\n",
              "      <td>country_club</td>\n",
              "    </tr>\n",
              "    <tr>\n",
              "      <th>1</th>\n",
              "      <td>default</td>\n",
              "    </tr>\n",
              "  </tbody>\n",
              "</table>\n",
              "</div>"
            ],
            "text/plain": [
              "   databaseName\n",
              "0  country_club\n",
              "1       default"
            ]
          },
          "metadata": {
            "tags": []
          },
          "execution_count": 5
        }
      ]
    },
    {
      "cell_type": "markdown",
      "metadata": {
        "id": "3UBYyK26TL8R"
      },
      "source": [
        "# Creating the Tables\n",
        "\n",
        "In this section, we will be creating the three tables of interest and populate them with the data from the CSV files already available to you.\n",
        "\n",
        "To get started, first make sure you have already uploaded the three CSV files and they are present in the same directory as the notebook.\n",
        "\n",
        "Once you have done this, please remember to execute the following code to build the dataframes which will be saved as tables in our database"
      ]
    },
    {
      "cell_type": "code",
      "metadata": {
        "id": "8jdUUNxkTL8T"
      },
      "source": [
        "# File location and type\n",
        "file_location_bookings = \"./Bookings.csv\"\n",
        "file_location_facilities = \"./Facilities.csv\"\n",
        "file_location_members = \"./Members.csv\"\n",
        "\n",
        "file_type = \"csv\""
      ],
      "execution_count": null,
      "outputs": []
    },
    {
      "cell_type": "code",
      "metadata": {
        "id": "6m3O2O5_TL8a"
      },
      "source": [
        "# CSV options\n",
        "infer_schema = \"true\"\n",
        "first_row_is_header = \"true\"\n",
        "delimiter = \",\"\n",
        "\n",
        "# The applied options are for CSV files. For other file types, these will be ignored.\n",
        "bookings_df = (spark.read.format(file_type) \n",
        "                    .option(\"inferSchema\", infer_schema) \n",
        "                    .option(\"header\", first_row_is_header) \n",
        "                    .option(\"sep\", delimiter) \n",
        "                    .load(file_location_bookings))\n",
        "\n",
        "facilities_df = (spark.read.format(file_type) \n",
        "                      .option(\"inferSchema\", infer_schema) \n",
        "                      .option(\"header\", first_row_is_header) \n",
        "                      .option(\"sep\", delimiter) \n",
        "                      .load(file_location_facilities))\n",
        "\n",
        "members_df = (spark.read.format(file_type) \n",
        "                      .option(\"inferSchema\", infer_schema) \n",
        "                      .option(\"header\", first_row_is_header) \n",
        "                      .option(\"sep\", delimiter) \n",
        "                      .load(file_location_members))"
      ],
      "execution_count": null,
      "outputs": []
    },
    {
      "cell_type": "markdown",
      "metadata": {
        "id": "DyDL7I5UTL8e"
      },
      "source": [
        "### Viewing the dataframe schemas\n",
        "\n",
        "We can take a look at the schemas of our potential tables to be written to our database soon"
      ]
    },
    {
      "cell_type": "code",
      "metadata": {
        "id": "hIfT_-3kTL8h",
        "outputId": "f7c26f2c-85a0-4ddf-a925-cac18333a627"
      },
      "source": [
        "print('Bookings Schema')\n",
        "bookings_df.printSchema()"
      ],
      "execution_count": null,
      "outputs": [
        {
          "output_type": "stream",
          "text": [
            "Bookings Schema\n",
            "root\n",
            " |-- bookid: integer (nullable = true)\n",
            " |-- facid: integer (nullable = true)\n",
            " |-- memid: integer (nullable = true)\n",
            " |-- starttime: timestamp (nullable = true)\n",
            " |-- slots: integer (nullable = true)\n",
            "\n"
          ],
          "name": "stdout"
        }
      ]
    },
    {
      "cell_type": "code",
      "metadata": {
        "id": "lvTbB7MMTL8n",
        "outputId": "b88aba29-cc81-4b43-e17c-4196fe93c450"
      },
      "source": [
        "print('Facilities Schema')\n",
        "facilities_df.printSchema()"
      ],
      "execution_count": null,
      "outputs": [
        {
          "output_type": "stream",
          "text": [
            "Facilities Schema\n",
            "root\n",
            " |-- facid: integer (nullable = true)\n",
            " |-- name: string (nullable = true)\n",
            " |-- membercost: double (nullable = true)\n",
            " |-- guestcost: double (nullable = true)\n",
            " |-- initialoutlay: integer (nullable = true)\n",
            " |-- monthlymaintenance: integer (nullable = true)\n",
            "\n"
          ],
          "name": "stdout"
        }
      ]
    },
    {
      "cell_type": "code",
      "metadata": {
        "id": "tyEI3Od7TL8s",
        "outputId": "62636a38-33d0-468f-9625-613b41041670"
      },
      "source": [
        "print('Members Schema')\n",
        "members_df.printSchema()"
      ],
      "execution_count": null,
      "outputs": [
        {
          "output_type": "stream",
          "text": [
            "Members Schema\n",
            "root\n",
            " |-- memid: integer (nullable = true)\n",
            " |-- surname: string (nullable = true)\n",
            " |-- firstname: string (nullable = true)\n",
            " |-- address: string (nullable = true)\n",
            " |-- zipcode: integer (nullable = true)\n",
            " |-- telephone: string (nullable = true)\n",
            " |-- recommendedby: integer (nullable = true)\n",
            " |-- joindate: timestamp (nullable = true)\n",
            "\n"
          ],
          "name": "stdout"
        }
      ]
    },
    {
      "cell_type": "markdown",
      "metadata": {
        "id": "0noaKCHjTL8y"
      },
      "source": [
        "# Create permanent tables\n",
        "We will be creating three permanent tables here in our __`country_club`__ database as we discussed previously with the following code"
      ]
    },
    {
      "cell_type": "code",
      "metadata": {
        "id": "T7blGSqaTL8y"
      },
      "source": [
        "permanent_table_name_bookings = \"country_club.Bookings\"\n",
        "bookings_df.write.format(\"parquet\").saveAsTable(permanent_table_name_bookings)\n",
        "\n",
        "permanent_table_name_facilities = \"country_club.Facilities\"\n",
        "facilities_df.write.format(\"parquet\").saveAsTable(permanent_table_name_facilities)\n",
        "\n",
        "permanent_table_name_members = \"country_club.Members\"\n",
        "members_df.write.format(\"parquet\").saveAsTable(permanent_table_name_members)"
      ],
      "execution_count": null,
      "outputs": []
    },
    {
      "cell_type": "markdown",
      "metadata": {
        "id": "qsdySCMmTL85"
      },
      "source": [
        "### Refresh tables and check them"
      ]
    },
    {
      "cell_type": "code",
      "metadata": {
        "id": "tA4XoWT0TL86",
        "outputId": "bb2b3b74-9389-46c3-8b3a-f1cf1ad10939"
      },
      "source": [
        "run_sql('use country_club')\n",
        "run_sql('REFRESH table bookings')\n",
        "run_sql('REFRESH table facilities')\n",
        "run_sql('REFRESH table members')\n",
        "tbls = run_sql('show tables')\n",
        "tbls.toPandas()"
      ],
      "execution_count": null,
      "outputs": [
        {
          "output_type": "execute_result",
          "data": {
            "text/html": [
              "<div>\n",
              "<style>\n",
              "    .dataframe thead tr:only-child th {\n",
              "        text-align: right;\n",
              "    }\n",
              "\n",
              "    .dataframe thead th {\n",
              "        text-align: left;\n",
              "    }\n",
              "\n",
              "    .dataframe tbody tr th {\n",
              "        vertical-align: top;\n",
              "    }\n",
              "</style>\n",
              "<table border=\"1\" class=\"dataframe\">\n",
              "  <thead>\n",
              "    <tr style=\"text-align: right;\">\n",
              "      <th></th>\n",
              "      <th>database</th>\n",
              "      <th>tableName</th>\n",
              "      <th>isTemporary</th>\n",
              "    </tr>\n",
              "  </thead>\n",
              "  <tbody>\n",
              "    <tr>\n",
              "      <th>0</th>\n",
              "      <td>country_club</td>\n",
              "      <td>bookings</td>\n",
              "      <td>False</td>\n",
              "    </tr>\n",
              "    <tr>\n",
              "      <th>1</th>\n",
              "      <td>country_club</td>\n",
              "      <td>facilities</td>\n",
              "      <td>False</td>\n",
              "    </tr>\n",
              "    <tr>\n",
              "      <th>2</th>\n",
              "      <td>country_club</td>\n",
              "      <td>members</td>\n",
              "      <td>False</td>\n",
              "    </tr>\n",
              "  </tbody>\n",
              "</table>\n",
              "</div>"
            ],
            "text/plain": [
              "       database   tableName  isTemporary\n",
              "0  country_club    bookings        False\n",
              "1  country_club  facilities        False\n",
              "2  country_club     members        False"
            ]
          },
          "metadata": {
            "tags": []
          },
          "execution_count": 12
        }
      ]
    },
    {
      "cell_type": "markdown",
      "metadata": {
        "id": "vFXu8jEGTL8_"
      },
      "source": [
        "# Test a sample SQL query\n",
        "\n",
        "__Note:__ You can use multi-line SQL queries (but still a single statement) as follows"
      ]
    },
    {
      "cell_type": "code",
      "metadata": {
        "id": "xSDgwYTpTL9A",
        "outputId": "7049e071-01f5-4485-e3b8-ecf484f665d2"
      },
      "source": [
        "result = run_sql('''\n",
        "                    SELECT * \n",
        "                    FROM bookings \n",
        "                    LIMIT 3\n",
        "                 ''')\n",
        "result.toPandas()"
      ],
      "execution_count": null,
      "outputs": [
        {
          "output_type": "execute_result",
          "data": {
            "text/html": [
              "<div>\n",
              "<style>\n",
              "    .dataframe thead tr:only-child th {\n",
              "        text-align: right;\n",
              "    }\n",
              "\n",
              "    .dataframe thead th {\n",
              "        text-align: left;\n",
              "    }\n",
              "\n",
              "    .dataframe tbody tr th {\n",
              "        vertical-align: top;\n",
              "    }\n",
              "</style>\n",
              "<table border=\"1\" class=\"dataframe\">\n",
              "  <thead>\n",
              "    <tr style=\"text-align: right;\">\n",
              "      <th></th>\n",
              "      <th>bookid</th>\n",
              "      <th>facid</th>\n",
              "      <th>memid</th>\n",
              "      <th>starttime</th>\n",
              "      <th>slots</th>\n",
              "    </tr>\n",
              "  </thead>\n",
              "  <tbody>\n",
              "    <tr>\n",
              "      <th>0</th>\n",
              "      <td>0</td>\n",
              "      <td>3</td>\n",
              "      <td>1</td>\n",
              "      <td>2012-07-03 11:00:00</td>\n",
              "      <td>2</td>\n",
              "    </tr>\n",
              "    <tr>\n",
              "      <th>1</th>\n",
              "      <td>1</td>\n",
              "      <td>4</td>\n",
              "      <td>1</td>\n",
              "      <td>2012-07-03 08:00:00</td>\n",
              "      <td>2</td>\n",
              "    </tr>\n",
              "    <tr>\n",
              "      <th>2</th>\n",
              "      <td>2</td>\n",
              "      <td>6</td>\n",
              "      <td>0</td>\n",
              "      <td>2012-07-03 18:00:00</td>\n",
              "      <td>2</td>\n",
              "    </tr>\n",
              "  </tbody>\n",
              "</table>\n",
              "</div>"
            ],
            "text/plain": [
              "   bookid  facid  memid           starttime  slots\n",
              "0       0      3      1 2012-07-03 11:00:00      2\n",
              "1       1      4      1 2012-07-03 08:00:00      2\n",
              "2       2      6      0 2012-07-03 18:00:00      2"
            ]
          },
          "metadata": {
            "tags": []
          },
          "execution_count": 13
        }
      ]
    },
    {
      "cell_type": "markdown",
      "metadata": {
        "id": "Jr7vxgbiTL9G"
      },
      "source": [
        "# Your Turn: Solve the following questions with Spark SQL\n",
        "\n",
        "- Make use of the `run_sql(...)` function as seen in the previous example\n",
        "- You can write multi-line SQL queries but it has to be a single statement (no use of semi-colons ';')\n",
        "- Make use of the `toPandas()` function as depicted in the previous example to display the query results"
      ]
    },
    {
      "cell_type": "markdown",
      "metadata": {
        "id": "w30AF73jTL9H"
      },
      "source": [
        "#### Q1: Some of the facilities charge a fee to members, but some do not. Please list the names of the facilities that do."
      ]
    },
    {
      "cell_type": "code",
      "metadata": {
        "id": "CnT9VpQYTL9J",
        "outputId": "f8d1a962-8b6f-4bc3-a774-dc42f899ebf1"
      },
      "source": [
        "# facilities_df.filter(facilities_df.membercost == 0).select('name').show()\n",
        "result = run_sql('''\n",
        "                    SELECT DISTINCT name FROM facilities WHERE membercost = 0\n",
        "                   \n",
        "                 ''')\n",
        "result.toPandas()"
      ],
      "execution_count": null,
      "outputs": [
        {
          "output_type": "execute_result",
          "data": {
            "text/html": [
              "<div>\n",
              "<style>\n",
              "    .dataframe thead tr:only-child th {\n",
              "        text-align: right;\n",
              "    }\n",
              "\n",
              "    .dataframe thead th {\n",
              "        text-align: left;\n",
              "    }\n",
              "\n",
              "    .dataframe tbody tr th {\n",
              "        vertical-align: top;\n",
              "    }\n",
              "</style>\n",
              "<table border=\"1\" class=\"dataframe\">\n",
              "  <thead>\n",
              "    <tr style=\"text-align: right;\">\n",
              "      <th></th>\n",
              "      <th>name</th>\n",
              "    </tr>\n",
              "  </thead>\n",
              "  <tbody>\n",
              "    <tr>\n",
              "      <th>0</th>\n",
              "      <td>Pool Table</td>\n",
              "    </tr>\n",
              "    <tr>\n",
              "      <th>1</th>\n",
              "      <td>Badminton Court</td>\n",
              "    </tr>\n",
              "    <tr>\n",
              "      <th>2</th>\n",
              "      <td>Table Tennis</td>\n",
              "    </tr>\n",
              "    <tr>\n",
              "      <th>3</th>\n",
              "      <td>Snooker Table</td>\n",
              "    </tr>\n",
              "  </tbody>\n",
              "</table>\n",
              "</div>"
            ],
            "text/plain": [
              "              name\n",
              "0       Pool Table\n",
              "1  Badminton Court\n",
              "2     Table Tennis\n",
              "3    Snooker Table"
            ]
          },
          "metadata": {
            "tags": []
          },
          "execution_count": 14
        }
      ]
    },
    {
      "cell_type": "markdown",
      "metadata": {
        "id": "pajYrySiTL9N"
      },
      "source": [
        "####  Q2: How many facilities do not charge a fee to members?"
      ]
    },
    {
      "cell_type": "code",
      "metadata": {
        "id": "Dqt9xmc8TL9P",
        "outputId": "158e6e8d-0f4b-4858-bd60-723195b508e9"
      },
      "source": [
        "# facilities_df.filter(facilities_df.membercost == 0).distinct().count()\n",
        "result = run_sql('''\n",
        "                    SELECT COUNT(DISTINCT name) AS nfacilities FROM facilities WHERE membercost = 0\n",
        "                   \n",
        "                 ''')\n",
        "result.toPandas()"
      ],
      "execution_count": null,
      "outputs": [
        {
          "output_type": "execute_result",
          "data": {
            "text/html": [
              "<div>\n",
              "<style>\n",
              "    .dataframe thead tr:only-child th {\n",
              "        text-align: right;\n",
              "    }\n",
              "\n",
              "    .dataframe thead th {\n",
              "        text-align: left;\n",
              "    }\n",
              "\n",
              "    .dataframe tbody tr th {\n",
              "        vertical-align: top;\n",
              "    }\n",
              "</style>\n",
              "<table border=\"1\" class=\"dataframe\">\n",
              "  <thead>\n",
              "    <tr style=\"text-align: right;\">\n",
              "      <th></th>\n",
              "      <th>nfacilities</th>\n",
              "    </tr>\n",
              "  </thead>\n",
              "  <tbody>\n",
              "    <tr>\n",
              "      <th>0</th>\n",
              "      <td>4</td>\n",
              "    </tr>\n",
              "  </tbody>\n",
              "</table>\n",
              "</div>"
            ],
            "text/plain": [
              "   nfacilities\n",
              "0            4"
            ]
          },
          "metadata": {
            "tags": []
          },
          "execution_count": 15
        }
      ]
    },
    {
      "cell_type": "markdown",
      "metadata": {
        "id": "m7pmVPaiTL9U"
      },
      "source": [
        "#### Q3: How can you produce a list of facilities that charge a fee to members, where the fee is less than 20% of the facility's monthly maintenance cost? \n",
        "#### Return the facid, facility name, member cost, and monthly maintenance of the facilities in question."
      ]
    },
    {
      "cell_type": "code",
      "metadata": {
        "id": "90vY9VccTL9W",
        "outputId": "fc0f2ecf-9d96-47ec-b8aa-5bc34d8e2e9a"
      },
      "source": [
        "result = run_sql('''\n",
        "                    SELECT facid, name, membercost, monthlymaintenance\n",
        "                        FROM\n",
        "                            (SELECT DISTINCT facid, name, membercost, monthlymaintenance, \n",
        "                                    0.2*monthlymaintenance AS threshold\n",
        "                                FROM  facilities WHERE membercost > 0) as T\n",
        "                    WHERE T.membercost < T.threshold\n",
        "                ''')\n",
        "result.toPandas()"
      ],
      "execution_count": null,
      "outputs": [
        {
          "output_type": "execute_result",
          "data": {
            "text/html": [
              "<div>\n",
              "<style>\n",
              "    .dataframe thead tr:only-child th {\n",
              "        text-align: right;\n",
              "    }\n",
              "\n",
              "    .dataframe thead th {\n",
              "        text-align: left;\n",
              "    }\n",
              "\n",
              "    .dataframe tbody tr th {\n",
              "        vertical-align: top;\n",
              "    }\n",
              "</style>\n",
              "<table border=\"1\" class=\"dataframe\">\n",
              "  <thead>\n",
              "    <tr style=\"text-align: right;\">\n",
              "      <th></th>\n",
              "      <th>facid</th>\n",
              "      <th>name</th>\n",
              "      <th>membercost</th>\n",
              "      <th>monthlymaintenance</th>\n",
              "    </tr>\n",
              "  </thead>\n",
              "  <tbody>\n",
              "    <tr>\n",
              "      <th>0</th>\n",
              "      <td>0</td>\n",
              "      <td>Tennis Court 1</td>\n",
              "      <td>5.0</td>\n",
              "      <td>200</td>\n",
              "    </tr>\n",
              "    <tr>\n",
              "      <th>1</th>\n",
              "      <td>6</td>\n",
              "      <td>Squash Court</td>\n",
              "      <td>3.5</td>\n",
              "      <td>80</td>\n",
              "    </tr>\n",
              "    <tr>\n",
              "      <th>2</th>\n",
              "      <td>5</td>\n",
              "      <td>Massage Room 2</td>\n",
              "      <td>9.9</td>\n",
              "      <td>3000</td>\n",
              "    </tr>\n",
              "    <tr>\n",
              "      <th>3</th>\n",
              "      <td>1</td>\n",
              "      <td>Tennis Court 2</td>\n",
              "      <td>5.0</td>\n",
              "      <td>200</td>\n",
              "    </tr>\n",
              "    <tr>\n",
              "      <th>4</th>\n",
              "      <td>4</td>\n",
              "      <td>Massage Room 1</td>\n",
              "      <td>9.9</td>\n",
              "      <td>3000</td>\n",
              "    </tr>\n",
              "  </tbody>\n",
              "</table>\n",
              "</div>"
            ],
            "text/plain": [
              "   facid            name  membercost  monthlymaintenance\n",
              "0      0  Tennis Court 1         5.0                 200\n",
              "1      6    Squash Court         3.5                  80\n",
              "2      5  Massage Room 2         9.9                3000\n",
              "3      1  Tennis Court 2         5.0                 200\n",
              "4      4  Massage Room 1         9.9                3000"
            ]
          },
          "metadata": {
            "tags": []
          },
          "execution_count": 16
        }
      ]
    },
    {
      "cell_type": "markdown",
      "metadata": {
        "id": "5TC-dTrcTL9b"
      },
      "source": [
        "#### Q4: How can you retrieve the details of facilities with ID 1 and 5? Write the query without using the OR operator."
      ]
    },
    {
      "cell_type": "code",
      "metadata": {
        "id": "9jp_lFQjTL9d",
        "outputId": "b75ff15c-af4d-49d0-c8a6-7418f790d523"
      },
      "source": [
        "result = run_sql('''\n",
        "                    SELECT * FROM facilities  WHERE facid IN (1, 5)\n",
        "                ''')\n",
        "result.toPandas()"
      ],
      "execution_count": null,
      "outputs": [
        {
          "output_type": "execute_result",
          "data": {
            "text/html": [
              "<div>\n",
              "<style>\n",
              "    .dataframe thead tr:only-child th {\n",
              "        text-align: right;\n",
              "    }\n",
              "\n",
              "    .dataframe thead th {\n",
              "        text-align: left;\n",
              "    }\n",
              "\n",
              "    .dataframe tbody tr th {\n",
              "        vertical-align: top;\n",
              "    }\n",
              "</style>\n",
              "<table border=\"1\" class=\"dataframe\">\n",
              "  <thead>\n",
              "    <tr style=\"text-align: right;\">\n",
              "      <th></th>\n",
              "      <th>facid</th>\n",
              "      <th>name</th>\n",
              "      <th>membercost</th>\n",
              "      <th>guestcost</th>\n",
              "      <th>initialoutlay</th>\n",
              "      <th>monthlymaintenance</th>\n",
              "    </tr>\n",
              "  </thead>\n",
              "  <tbody>\n",
              "    <tr>\n",
              "      <th>0</th>\n",
              "      <td>1</td>\n",
              "      <td>Tennis Court 2</td>\n",
              "      <td>5.0</td>\n",
              "      <td>25.0</td>\n",
              "      <td>8000</td>\n",
              "      <td>200</td>\n",
              "    </tr>\n",
              "    <tr>\n",
              "      <th>1</th>\n",
              "      <td>5</td>\n",
              "      <td>Massage Room 2</td>\n",
              "      <td>9.9</td>\n",
              "      <td>80.0</td>\n",
              "      <td>4000</td>\n",
              "      <td>3000</td>\n",
              "    </tr>\n",
              "  </tbody>\n",
              "</table>\n",
              "</div>"
            ],
            "text/plain": [
              "   facid            name  membercost  guestcost  initialoutlay  \\\n",
              "0      1  Tennis Court 2         5.0       25.0           8000   \n",
              "1      5  Massage Room 2         9.9       80.0           4000   \n",
              "\n",
              "   monthlymaintenance  \n",
              "0                 200  \n",
              "1                3000  "
            ]
          },
          "metadata": {
            "tags": []
          },
          "execution_count": 17
        }
      ]
    },
    {
      "cell_type": "markdown",
      "metadata": {
        "id": "RNXppcIcTL9i"
      },
      "source": [
        "#### Q5: How can you produce a list of facilities, with each labelled as 'cheap' or 'expensive', depending on if their monthly maintenance cost is more than $100? \n",
        "#### Return the name and monthly maintenance of the facilities in question."
      ]
    },
    {
      "cell_type": "code",
      "metadata": {
        "id": "VDAp0BPdTL9j",
        "outputId": "456b3ed6-b8ac-4a42-c823-f85fa47737fd"
      },
      "source": [
        "result = run_sql('''\n",
        "                    SELECT name, monthlymaintenance,\n",
        "                            CASE WHEN monthlymaintenance > 100 THEN 'expensive' ELSE 'cheap' END AS label\n",
        "                        FROM facilities                    \n",
        "                 ''')\n",
        "result.toPandas()"
      ],
      "execution_count": null,
      "outputs": [
        {
          "output_type": "execute_result",
          "data": {
            "text/html": [
              "<div>\n",
              "<style>\n",
              "    .dataframe thead tr:only-child th {\n",
              "        text-align: right;\n",
              "    }\n",
              "\n",
              "    .dataframe thead th {\n",
              "        text-align: left;\n",
              "    }\n",
              "\n",
              "    .dataframe tbody tr th {\n",
              "        vertical-align: top;\n",
              "    }\n",
              "</style>\n",
              "<table border=\"1\" class=\"dataframe\">\n",
              "  <thead>\n",
              "    <tr style=\"text-align: right;\">\n",
              "      <th></th>\n",
              "      <th>name</th>\n",
              "      <th>monthlymaintenance</th>\n",
              "      <th>label</th>\n",
              "    </tr>\n",
              "  </thead>\n",
              "  <tbody>\n",
              "    <tr>\n",
              "      <th>0</th>\n",
              "      <td>Tennis Court 1</td>\n",
              "      <td>200</td>\n",
              "      <td>expensive</td>\n",
              "    </tr>\n",
              "    <tr>\n",
              "      <th>1</th>\n",
              "      <td>Tennis Court 2</td>\n",
              "      <td>200</td>\n",
              "      <td>expensive</td>\n",
              "    </tr>\n",
              "    <tr>\n",
              "      <th>2</th>\n",
              "      <td>Badminton Court</td>\n",
              "      <td>50</td>\n",
              "      <td>cheap</td>\n",
              "    </tr>\n",
              "    <tr>\n",
              "      <th>3</th>\n",
              "      <td>Table Tennis</td>\n",
              "      <td>10</td>\n",
              "      <td>cheap</td>\n",
              "    </tr>\n",
              "    <tr>\n",
              "      <th>4</th>\n",
              "      <td>Massage Room 1</td>\n",
              "      <td>3000</td>\n",
              "      <td>expensive</td>\n",
              "    </tr>\n",
              "    <tr>\n",
              "      <th>5</th>\n",
              "      <td>Massage Room 2</td>\n",
              "      <td>3000</td>\n",
              "      <td>expensive</td>\n",
              "    </tr>\n",
              "    <tr>\n",
              "      <th>6</th>\n",
              "      <td>Squash Court</td>\n",
              "      <td>80</td>\n",
              "      <td>cheap</td>\n",
              "    </tr>\n",
              "    <tr>\n",
              "      <th>7</th>\n",
              "      <td>Snooker Table</td>\n",
              "      <td>15</td>\n",
              "      <td>cheap</td>\n",
              "    </tr>\n",
              "    <tr>\n",
              "      <th>8</th>\n",
              "      <td>Pool Table</td>\n",
              "      <td>15</td>\n",
              "      <td>cheap</td>\n",
              "    </tr>\n",
              "  </tbody>\n",
              "</table>\n",
              "</div>"
            ],
            "text/plain": [
              "              name  monthlymaintenance      label\n",
              "0   Tennis Court 1                 200  expensive\n",
              "1   Tennis Court 2                 200  expensive\n",
              "2  Badminton Court                  50      cheap\n",
              "3     Table Tennis                  10      cheap\n",
              "4   Massage Room 1                3000  expensive\n",
              "5   Massage Room 2                3000  expensive\n",
              "6     Squash Court                  80      cheap\n",
              "7    Snooker Table                  15      cheap\n",
              "8       Pool Table                  15      cheap"
            ]
          },
          "metadata": {
            "tags": []
          },
          "execution_count": 18
        }
      ]
    },
    {
      "cell_type": "markdown",
      "metadata": {
        "id": "mJ23tJHNTL9o"
      },
      "source": [
        "#### Q6: You'd like to get the first and last name of the last member(s) who signed up. Do not use the LIMIT clause for your solution."
      ]
    },
    {
      "cell_type": "markdown",
      "metadata": {
        "id": "ak3Q-xMzTL9q"
      },
      "source": [
        "```\n",
        "# This question is not clear.  It would be revisited after contacting Springboard.\n",
        "result = run_sql('''\n",
        "                    \n",
        "                 ''')\n",
        "result.toPandas()\n",
        "```"
      ]
    },
    {
      "cell_type": "markdown",
      "metadata": {
        "id": "XNWzJMXpTL9q"
      },
      "source": [
        "####  Q7: How can you produce a list of all members who have used a tennis court?\n",
        "- Include in your output the name of the court, and the name of the member formatted as a single column. \n",
        "- Ensure no duplicate data\n",
        "- Also order by the member name."
      ]
    },
    {
      "cell_type": "code",
      "metadata": {
        "scrolled": true,
        "id": "zd4qdPEoTL9s",
        "outputId": "0986104a-384b-44bd-bc5d-09deb9524a30"
      },
      "source": [
        "result = run_sql('''\n",
        "                    SELECT T.memid, concat(firstname, ' ', surname) as membername,  T.courtname \n",
        "                    FROM members, \n",
        "                        (SELECT DISTINCT memid, name AS courtname\n",
        "                        FROM bookings AS b INNER JOIN facilities AS f \n",
        "                        USING (facid) \n",
        "                        WHERE name LIKE 'Tennis Court%') AS T\n",
        "                    WHERE members.memid = T.memid and members.memid <> 0\n",
        "                    ORDER BY membername\n",
        "                 ''')\n",
        "result.toPandas()"
      ],
      "execution_count": null,
      "outputs": [
        {
          "output_type": "execute_result",
          "data": {
            "text/html": [
              "<div>\n",
              "<style>\n",
              "    .dataframe thead tr:only-child th {\n",
              "        text-align: right;\n",
              "    }\n",
              "\n",
              "    .dataframe thead th {\n",
              "        text-align: left;\n",
              "    }\n",
              "\n",
              "    .dataframe tbody tr th {\n",
              "        vertical-align: top;\n",
              "    }\n",
              "</style>\n",
              "<table border=\"1\" class=\"dataframe\">\n",
              "  <thead>\n",
              "    <tr style=\"text-align: right;\">\n",
              "      <th></th>\n",
              "      <th>memid</th>\n",
              "      <th>membername</th>\n",
              "      <th>courtname</th>\n",
              "    </tr>\n",
              "  </thead>\n",
              "  <tbody>\n",
              "    <tr>\n",
              "      <th>0</th>\n",
              "      <td>12</td>\n",
              "      <td>Anne Baker</td>\n",
              "      <td>Tennis Court 1</td>\n",
              "    </tr>\n",
              "    <tr>\n",
              "      <th>1</th>\n",
              "      <td>12</td>\n",
              "      <td>Anne Baker</td>\n",
              "      <td>Tennis Court 2</td>\n",
              "    </tr>\n",
              "    <tr>\n",
              "      <th>2</th>\n",
              "      <td>6</td>\n",
              "      <td>Burton Tracy</td>\n",
              "      <td>Tennis Court 2</td>\n",
              "    </tr>\n",
              "    <tr>\n",
              "      <th>3</th>\n",
              "      <td>6</td>\n",
              "      <td>Burton Tracy</td>\n",
              "      <td>Tennis Court 1</td>\n",
              "    </tr>\n",
              "    <tr>\n",
              "      <th>4</th>\n",
              "      <td>10</td>\n",
              "      <td>Charles Owen</td>\n",
              "      <td>Tennis Court 1</td>\n",
              "    </tr>\n",
              "    <tr>\n",
              "      <th>5</th>\n",
              "      <td>10</td>\n",
              "      <td>Charles Owen</td>\n",
              "      <td>Tennis Court 2</td>\n",
              "    </tr>\n",
              "    <tr>\n",
              "      <th>6</th>\n",
              "      <td>1</td>\n",
              "      <td>Darren Smith</td>\n",
              "      <td>Tennis Court 2</td>\n",
              "    </tr>\n",
              "    <tr>\n",
              "      <th>7</th>\n",
              "      <td>28</td>\n",
              "      <td>David Farrell</td>\n",
              "      <td>Tennis Court 1</td>\n",
              "    </tr>\n",
              "    <tr>\n",
              "      <th>8</th>\n",
              "      <td>28</td>\n",
              "      <td>David Farrell</td>\n",
              "      <td>Tennis Court 2</td>\n",
              "    </tr>\n",
              "    <tr>\n",
              "      <th>9</th>\n",
              "      <td>11</td>\n",
              "      <td>David Jones</td>\n",
              "      <td>Tennis Court 2</td>\n",
              "    </tr>\n",
              "    <tr>\n",
              "      <th>10</th>\n",
              "      <td>11</td>\n",
              "      <td>David Jones</td>\n",
              "      <td>Tennis Court 1</td>\n",
              "    </tr>\n",
              "    <tr>\n",
              "      <th>11</th>\n",
              "      <td>17</td>\n",
              "      <td>David Pinker</td>\n",
              "      <td>Tennis Court 1</td>\n",
              "    </tr>\n",
              "    <tr>\n",
              "      <th>12</th>\n",
              "      <td>26</td>\n",
              "      <td>Douglas Jones</td>\n",
              "      <td>Tennis Court 1</td>\n",
              "    </tr>\n",
              "    <tr>\n",
              "      <th>13</th>\n",
              "      <td>36</td>\n",
              "      <td>Erica Crumpet</td>\n",
              "      <td>Tennis Court 1</td>\n",
              "    </tr>\n",
              "    <tr>\n",
              "      <th>14</th>\n",
              "      <td>15</td>\n",
              "      <td>Florence Bader</td>\n",
              "      <td>Tennis Court 1</td>\n",
              "    </tr>\n",
              "    <tr>\n",
              "      <th>15</th>\n",
              "      <td>15</td>\n",
              "      <td>Florence Bader</td>\n",
              "      <td>Tennis Court 2</td>\n",
              "    </tr>\n",
              "    <tr>\n",
              "      <th>16</th>\n",
              "      <td>5</td>\n",
              "      <td>Gerald Butters</td>\n",
              "      <td>Tennis Court 2</td>\n",
              "    </tr>\n",
              "    <tr>\n",
              "      <th>17</th>\n",
              "      <td>5</td>\n",
              "      <td>Gerald Butters</td>\n",
              "      <td>Tennis Court 1</td>\n",
              "    </tr>\n",
              "    <tr>\n",
              "      <th>18</th>\n",
              "      <td>27</td>\n",
              "      <td>Henrietta Rumney</td>\n",
              "      <td>Tennis Court 2</td>\n",
              "    </tr>\n",
              "    <tr>\n",
              "      <th>19</th>\n",
              "      <td>14</td>\n",
              "      <td>Jack Smith</td>\n",
              "      <td>Tennis Court 1</td>\n",
              "    </tr>\n",
              "    <tr>\n",
              "      <th>20</th>\n",
              "      <td>14</td>\n",
              "      <td>Jack Smith</td>\n",
              "      <td>Tennis Court 2</td>\n",
              "    </tr>\n",
              "    <tr>\n",
              "      <th>21</th>\n",
              "      <td>4</td>\n",
              "      <td>Janice Joplette</td>\n",
              "      <td>Tennis Court 2</td>\n",
              "    </tr>\n",
              "    <tr>\n",
              "      <th>22</th>\n",
              "      <td>4</td>\n",
              "      <td>Janice Joplette</td>\n",
              "      <td>Tennis Court 1</td>\n",
              "    </tr>\n",
              "    <tr>\n",
              "      <th>23</th>\n",
              "      <td>13</td>\n",
              "      <td>Jemima Farrell</td>\n",
              "      <td>Tennis Court 1</td>\n",
              "    </tr>\n",
              "    <tr>\n",
              "      <th>24</th>\n",
              "      <td>13</td>\n",
              "      <td>Jemima Farrell</td>\n",
              "      <td>Tennis Court 2</td>\n",
              "    </tr>\n",
              "    <tr>\n",
              "      <th>25</th>\n",
              "      <td>22</td>\n",
              "      <td>Joan Coplin</td>\n",
              "      <td>Tennis Court 1</td>\n",
              "    </tr>\n",
              "    <tr>\n",
              "      <th>26</th>\n",
              "      <td>35</td>\n",
              "      <td>John Hunt</td>\n",
              "      <td>Tennis Court 1</td>\n",
              "    </tr>\n",
              "    <tr>\n",
              "      <th>27</th>\n",
              "      <td>35</td>\n",
              "      <td>John Hunt</td>\n",
              "      <td>Tennis Court 2</td>\n",
              "    </tr>\n",
              "    <tr>\n",
              "      <th>28</th>\n",
              "      <td>20</td>\n",
              "      <td>Matthew Genting</td>\n",
              "      <td>Tennis Court 1</td>\n",
              "    </tr>\n",
              "    <tr>\n",
              "      <th>29</th>\n",
              "      <td>30</td>\n",
              "      <td>Millicent Purview</td>\n",
              "      <td>Tennis Court 2</td>\n",
              "    </tr>\n",
              "    <tr>\n",
              "      <th>30</th>\n",
              "      <td>7</td>\n",
              "      <td>Nancy Dare</td>\n",
              "      <td>Tennis Court 1</td>\n",
              "    </tr>\n",
              "    <tr>\n",
              "      <th>31</th>\n",
              "      <td>7</td>\n",
              "      <td>Nancy Dare</td>\n",
              "      <td>Tennis Court 2</td>\n",
              "    </tr>\n",
              "    <tr>\n",
              "      <th>32</th>\n",
              "      <td>9</td>\n",
              "      <td>Ponder Stibbons</td>\n",
              "      <td>Tennis Court 1</td>\n",
              "    </tr>\n",
              "    <tr>\n",
              "      <th>33</th>\n",
              "      <td>9</td>\n",
              "      <td>Ponder Stibbons</td>\n",
              "      <td>Tennis Court 2</td>\n",
              "    </tr>\n",
              "    <tr>\n",
              "      <th>34</th>\n",
              "      <td>24</td>\n",
              "      <td>Ramnaresh Sarwin</td>\n",
              "      <td>Tennis Court 2</td>\n",
              "    </tr>\n",
              "    <tr>\n",
              "      <th>35</th>\n",
              "      <td>24</td>\n",
              "      <td>Ramnaresh Sarwin</td>\n",
              "      <td>Tennis Court 1</td>\n",
              "    </tr>\n",
              "    <tr>\n",
              "      <th>36</th>\n",
              "      <td>8</td>\n",
              "      <td>Tim Boothe</td>\n",
              "      <td>Tennis Court 2</td>\n",
              "    </tr>\n",
              "    <tr>\n",
              "      <th>37</th>\n",
              "      <td>8</td>\n",
              "      <td>Tim Boothe</td>\n",
              "      <td>Tennis Court 1</td>\n",
              "    </tr>\n",
              "    <tr>\n",
              "      <th>38</th>\n",
              "      <td>3</td>\n",
              "      <td>Tim Rownam</td>\n",
              "      <td>Tennis Court 1</td>\n",
              "    </tr>\n",
              "    <tr>\n",
              "      <th>39</th>\n",
              "      <td>3</td>\n",
              "      <td>Tim Rownam</td>\n",
              "      <td>Tennis Court 2</td>\n",
              "    </tr>\n",
              "    <tr>\n",
              "      <th>40</th>\n",
              "      <td>16</td>\n",
              "      <td>Timothy Baker</td>\n",
              "      <td>Tennis Court 2</td>\n",
              "    </tr>\n",
              "    <tr>\n",
              "      <th>41</th>\n",
              "      <td>16</td>\n",
              "      <td>Timothy Baker</td>\n",
              "      <td>Tennis Court 1</td>\n",
              "    </tr>\n",
              "    <tr>\n",
              "      <th>42</th>\n",
              "      <td>2</td>\n",
              "      <td>Tracy Smith</td>\n",
              "      <td>Tennis Court 1</td>\n",
              "    </tr>\n",
              "    <tr>\n",
              "      <th>43</th>\n",
              "      <td>2</td>\n",
              "      <td>Tracy Smith</td>\n",
              "      <td>Tennis Court 2</td>\n",
              "    </tr>\n",
              "  </tbody>\n",
              "</table>\n",
              "</div>"
            ],
            "text/plain": [
              "    memid         membername       courtname\n",
              "0      12         Anne Baker  Tennis Court 1\n",
              "1      12         Anne Baker  Tennis Court 2\n",
              "2       6       Burton Tracy  Tennis Court 2\n",
              "3       6       Burton Tracy  Tennis Court 1\n",
              "4      10       Charles Owen  Tennis Court 1\n",
              "5      10       Charles Owen  Tennis Court 2\n",
              "6       1       Darren Smith  Tennis Court 2\n",
              "7      28      David Farrell  Tennis Court 1\n",
              "8      28      David Farrell  Tennis Court 2\n",
              "9      11        David Jones  Tennis Court 2\n",
              "10     11        David Jones  Tennis Court 1\n",
              "11     17       David Pinker  Tennis Court 1\n",
              "12     26      Douglas Jones  Tennis Court 1\n",
              "13     36      Erica Crumpet  Tennis Court 1\n",
              "14     15     Florence Bader  Tennis Court 1\n",
              "15     15     Florence Bader  Tennis Court 2\n",
              "16      5     Gerald Butters  Tennis Court 2\n",
              "17      5     Gerald Butters  Tennis Court 1\n",
              "18     27   Henrietta Rumney  Tennis Court 2\n",
              "19     14         Jack Smith  Tennis Court 1\n",
              "20     14         Jack Smith  Tennis Court 2\n",
              "21      4    Janice Joplette  Tennis Court 2\n",
              "22      4    Janice Joplette  Tennis Court 1\n",
              "23     13     Jemima Farrell  Tennis Court 1\n",
              "24     13     Jemima Farrell  Tennis Court 2\n",
              "25     22        Joan Coplin  Tennis Court 1\n",
              "26     35          John Hunt  Tennis Court 1\n",
              "27     35          John Hunt  Tennis Court 2\n",
              "28     20    Matthew Genting  Tennis Court 1\n",
              "29     30  Millicent Purview  Tennis Court 2\n",
              "30      7         Nancy Dare  Tennis Court 1\n",
              "31      7         Nancy Dare  Tennis Court 2\n",
              "32      9    Ponder Stibbons  Tennis Court 1\n",
              "33      9    Ponder Stibbons  Tennis Court 2\n",
              "34     24   Ramnaresh Sarwin  Tennis Court 2\n",
              "35     24   Ramnaresh Sarwin  Tennis Court 1\n",
              "36      8         Tim Boothe  Tennis Court 2\n",
              "37      8         Tim Boothe  Tennis Court 1\n",
              "38      3         Tim Rownam  Tennis Court 1\n",
              "39      3         Tim Rownam  Tennis Court 2\n",
              "40     16      Timothy Baker  Tennis Court 2\n",
              "41     16      Timothy Baker  Tennis Court 1\n",
              "42      2        Tracy Smith  Tennis Court 1\n",
              "43      2        Tracy Smith  Tennis Court 2"
            ]
          },
          "metadata": {
            "tags": []
          },
          "execution_count": 19
        }
      ]
    },
    {
      "cell_type": "markdown",
      "metadata": {
        "id": "y6wVCUmzTL9v"
      },
      "source": [
        "#### Q8: How can you produce a list of bookings on the day of 2012-09-14 which will cost the member (or guest) more than $30? \n",
        "\n",
        "- Remember that guests have different costs to members (the listed costs are per half-hour 'slot')\n",
        "- The guest user's ID is always 0. \n",
        "\n",
        "#### Include in your output the name of the facility, the name of the member formatted as a single column, and the cost.\n",
        "\n",
        "- Order by descending cost, and do not use any subqueries."
      ]
    },
    {
      "cell_type": "code",
      "metadata": {
        "id": "jv-4h_dHTL9w",
        "outputId": "59494b1a-c3e4-4b6f-e4ea-29d32b699621"
      },
      "source": [
        "result = run_sql('''\n",
        "                    SELECT b.bookid, b.memid, concat(m.firstname, ' ', m.surname) AS membername, f.name AS facilityname,  \n",
        "                           CASE WHEN b.memid = 0 THEN b.slots*f.guestcost ELSE b.slots*f.membercost END AS costofbooking\n",
        "                        FROM bookings AS b \n",
        "                            INNER JOIN members AS m USING (memid)\n",
        "                            INNER JOIN facilities AS f USING (facid)\n",
        "                    WHERE date(starttime) = '2012-09-14' AND \n",
        "                          ( (b.slots*f.guestcost > 30 AND b.memid = 0) OR (b.slots*f.membercost > 30 AND b.memid <> 0) )\n",
        "                    ORDER BY costofbooking DESC\n",
        "                 ''')\n",
        "result.toPandas()"
      ],
      "execution_count": null,
      "outputs": [
        {
          "output_type": "execute_result",
          "data": {
            "text/html": [
              "<div>\n",
              "<style>\n",
              "    .dataframe thead tr:only-child th {\n",
              "        text-align: right;\n",
              "    }\n",
              "\n",
              "    .dataframe thead th {\n",
              "        text-align: left;\n",
              "    }\n",
              "\n",
              "    .dataframe tbody tr th {\n",
              "        vertical-align: top;\n",
              "    }\n",
              "</style>\n",
              "<table border=\"1\" class=\"dataframe\">\n",
              "  <thead>\n",
              "    <tr style=\"text-align: right;\">\n",
              "      <th></th>\n",
              "      <th>bookid</th>\n",
              "      <th>memid</th>\n",
              "      <th>membername</th>\n",
              "      <th>facilityname</th>\n",
              "      <th>costofbooking</th>\n",
              "    </tr>\n",
              "  </thead>\n",
              "  <tbody>\n",
              "    <tr>\n",
              "      <th>0</th>\n",
              "      <td>2946</td>\n",
              "      <td>0</td>\n",
              "      <td>GUEST GUEST</td>\n",
              "      <td>Massage Room 2</td>\n",
              "      <td>320.0</td>\n",
              "    </tr>\n",
              "    <tr>\n",
              "      <th>1</th>\n",
              "      <td>2937</td>\n",
              "      <td>0</td>\n",
              "      <td>GUEST GUEST</td>\n",
              "      <td>Massage Room 1</td>\n",
              "      <td>160.0</td>\n",
              "    </tr>\n",
              "    <tr>\n",
              "      <th>2</th>\n",
              "      <td>2940</td>\n",
              "      <td>0</td>\n",
              "      <td>GUEST GUEST</td>\n",
              "      <td>Massage Room 1</td>\n",
              "      <td>160.0</td>\n",
              "    </tr>\n",
              "    <tr>\n",
              "      <th>3</th>\n",
              "      <td>2942</td>\n",
              "      <td>0</td>\n",
              "      <td>GUEST GUEST</td>\n",
              "      <td>Massage Room 1</td>\n",
              "      <td>160.0</td>\n",
              "    </tr>\n",
              "    <tr>\n",
              "      <th>4</th>\n",
              "      <td>2926</td>\n",
              "      <td>0</td>\n",
              "      <td>GUEST GUEST</td>\n",
              "      <td>Tennis Court 2</td>\n",
              "      <td>150.0</td>\n",
              "    </tr>\n",
              "    <tr>\n",
              "      <th>5</th>\n",
              "      <td>2920</td>\n",
              "      <td>0</td>\n",
              "      <td>GUEST GUEST</td>\n",
              "      <td>Tennis Court 1</td>\n",
              "      <td>75.0</td>\n",
              "    </tr>\n",
              "    <tr>\n",
              "      <th>6</th>\n",
              "      <td>2922</td>\n",
              "      <td>0</td>\n",
              "      <td>GUEST GUEST</td>\n",
              "      <td>Tennis Court 1</td>\n",
              "      <td>75.0</td>\n",
              "    </tr>\n",
              "    <tr>\n",
              "      <th>7</th>\n",
              "      <td>2925</td>\n",
              "      <td>0</td>\n",
              "      <td>GUEST GUEST</td>\n",
              "      <td>Tennis Court 2</td>\n",
              "      <td>75.0</td>\n",
              "    </tr>\n",
              "    <tr>\n",
              "      <th>8</th>\n",
              "      <td>2948</td>\n",
              "      <td>0</td>\n",
              "      <td>GUEST GUEST</td>\n",
              "      <td>Squash Court</td>\n",
              "      <td>70.0</td>\n",
              "    </tr>\n",
              "    <tr>\n",
              "      <th>9</th>\n",
              "      <td>2941</td>\n",
              "      <td>13</td>\n",
              "      <td>Jemima Farrell</td>\n",
              "      <td>Massage Room 1</td>\n",
              "      <td>39.6</td>\n",
              "    </tr>\n",
              "    <tr>\n",
              "      <th>10</th>\n",
              "      <td>2949</td>\n",
              "      <td>0</td>\n",
              "      <td>GUEST GUEST</td>\n",
              "      <td>Squash Court</td>\n",
              "      <td>35.0</td>\n",
              "    </tr>\n",
              "    <tr>\n",
              "      <th>11</th>\n",
              "      <td>2951</td>\n",
              "      <td>0</td>\n",
              "      <td>GUEST GUEST</td>\n",
              "      <td>Squash Court</td>\n",
              "      <td>35.0</td>\n",
              "    </tr>\n",
              "  </tbody>\n",
              "</table>\n",
              "</div>"
            ],
            "text/plain": [
              "    bookid  memid      membername    facilityname  costofbooking\n",
              "0     2946      0     GUEST GUEST  Massage Room 2          320.0\n",
              "1     2937      0     GUEST GUEST  Massage Room 1          160.0\n",
              "2     2940      0     GUEST GUEST  Massage Room 1          160.0\n",
              "3     2942      0     GUEST GUEST  Massage Room 1          160.0\n",
              "4     2926      0     GUEST GUEST  Tennis Court 2          150.0\n",
              "5     2920      0     GUEST GUEST  Tennis Court 1           75.0\n",
              "6     2922      0     GUEST GUEST  Tennis Court 1           75.0\n",
              "7     2925      0     GUEST GUEST  Tennis Court 2           75.0\n",
              "8     2948      0     GUEST GUEST    Squash Court           70.0\n",
              "9     2941     13  Jemima Farrell  Massage Room 1           39.6\n",
              "10    2949      0     GUEST GUEST    Squash Court           35.0\n",
              "11    2951      0     GUEST GUEST    Squash Court           35.0"
            ]
          },
          "metadata": {
            "tags": []
          },
          "execution_count": 20
        }
      ]
    },
    {
      "cell_type": "markdown",
      "metadata": {
        "id": "SgtEEnGvTL90"
      },
      "source": [
        "#### Q9: This time, produce the same result as in Q8, but using a subquery."
      ]
    },
    {
      "cell_type": "markdown",
      "metadata": {
        "id": "bawjnekwTL94"
      },
      "source": [
        "```\n",
        "WITH base AS (\n",
        "   SELECT b.bookid, b.memid, concat(m.firstname, ' ', m.surname) AS membername, f.name AS facilityname,  \n",
        "          CASE WHEN b.memid = 0 THEN b.slots*f.guestcost ELSE b.slots*f.membercost END AS costofbooking\n",
        "       FROM bookings AS b \n",
        "           INNER JOIN members AS m USING (memid)\n",
        "           INNER JOIN facilities AS f USING (facid)\n",
        "       WHERE date(starttime) = '2012-09-14'\n",
        ")\n",
        "SELECT * FROM base WHERE base.costofbooking > 30 ORDER BY costofbooking DESC\n",
        "```"
      ]
    },
    {
      "cell_type": "code",
      "metadata": {
        "id": "j48hI5hRTL95",
        "outputId": "8145a31e-b938-45df-aded-ef4ca8b412c4"
      },
      "source": [
        "result = run_sql('''\n",
        "                    SELECT bookid, memid, membername, facilityname, costofbooking FROM\n",
        "                        (SELECT b.bookid, b.memid, concat(m.firstname, ' ', m.surname) AS membername, f.name AS facilityname,  \n",
        "                               CASE WHEN b.memid = 0 THEN b.slots*f.guestcost ELSE b.slots*f.membercost END AS costofbooking\n",
        "                            FROM bookings AS b \n",
        "                                INNER JOIN members AS m USING (memid)\n",
        "                                INNER JOIN facilities AS f USING (facid)\n",
        "                        WHERE date(starttime) = '2012-09-14') AS T\n",
        "                    WHERE T.costofbooking > 30 ORDER BY T.costofbooking DESC\n",
        "                 ''')\n",
        "result.toPandas()"
      ],
      "execution_count": null,
      "outputs": [
        {
          "output_type": "execute_result",
          "data": {
            "text/html": [
              "<div>\n",
              "<style>\n",
              "    .dataframe thead tr:only-child th {\n",
              "        text-align: right;\n",
              "    }\n",
              "\n",
              "    .dataframe thead th {\n",
              "        text-align: left;\n",
              "    }\n",
              "\n",
              "    .dataframe tbody tr th {\n",
              "        vertical-align: top;\n",
              "    }\n",
              "</style>\n",
              "<table border=\"1\" class=\"dataframe\">\n",
              "  <thead>\n",
              "    <tr style=\"text-align: right;\">\n",
              "      <th></th>\n",
              "      <th>bookid</th>\n",
              "      <th>memid</th>\n",
              "      <th>membername</th>\n",
              "      <th>facilityname</th>\n",
              "      <th>costofbooking</th>\n",
              "    </tr>\n",
              "  </thead>\n",
              "  <tbody>\n",
              "    <tr>\n",
              "      <th>0</th>\n",
              "      <td>2946</td>\n",
              "      <td>0</td>\n",
              "      <td>GUEST GUEST</td>\n",
              "      <td>Massage Room 2</td>\n",
              "      <td>320.0</td>\n",
              "    </tr>\n",
              "    <tr>\n",
              "      <th>1</th>\n",
              "      <td>2937</td>\n",
              "      <td>0</td>\n",
              "      <td>GUEST GUEST</td>\n",
              "      <td>Massage Room 1</td>\n",
              "      <td>160.0</td>\n",
              "    </tr>\n",
              "    <tr>\n",
              "      <th>2</th>\n",
              "      <td>2940</td>\n",
              "      <td>0</td>\n",
              "      <td>GUEST GUEST</td>\n",
              "      <td>Massage Room 1</td>\n",
              "      <td>160.0</td>\n",
              "    </tr>\n",
              "    <tr>\n",
              "      <th>3</th>\n",
              "      <td>2942</td>\n",
              "      <td>0</td>\n",
              "      <td>GUEST GUEST</td>\n",
              "      <td>Massage Room 1</td>\n",
              "      <td>160.0</td>\n",
              "    </tr>\n",
              "    <tr>\n",
              "      <th>4</th>\n",
              "      <td>2926</td>\n",
              "      <td>0</td>\n",
              "      <td>GUEST GUEST</td>\n",
              "      <td>Tennis Court 2</td>\n",
              "      <td>150.0</td>\n",
              "    </tr>\n",
              "    <tr>\n",
              "      <th>5</th>\n",
              "      <td>2920</td>\n",
              "      <td>0</td>\n",
              "      <td>GUEST GUEST</td>\n",
              "      <td>Tennis Court 1</td>\n",
              "      <td>75.0</td>\n",
              "    </tr>\n",
              "    <tr>\n",
              "      <th>6</th>\n",
              "      <td>2922</td>\n",
              "      <td>0</td>\n",
              "      <td>GUEST GUEST</td>\n",
              "      <td>Tennis Court 1</td>\n",
              "      <td>75.0</td>\n",
              "    </tr>\n",
              "    <tr>\n",
              "      <th>7</th>\n",
              "      <td>2925</td>\n",
              "      <td>0</td>\n",
              "      <td>GUEST GUEST</td>\n",
              "      <td>Tennis Court 2</td>\n",
              "      <td>75.0</td>\n",
              "    </tr>\n",
              "    <tr>\n",
              "      <th>8</th>\n",
              "      <td>2948</td>\n",
              "      <td>0</td>\n",
              "      <td>GUEST GUEST</td>\n",
              "      <td>Squash Court</td>\n",
              "      <td>70.0</td>\n",
              "    </tr>\n",
              "    <tr>\n",
              "      <th>9</th>\n",
              "      <td>2941</td>\n",
              "      <td>13</td>\n",
              "      <td>Jemima Farrell</td>\n",
              "      <td>Massage Room 1</td>\n",
              "      <td>39.6</td>\n",
              "    </tr>\n",
              "    <tr>\n",
              "      <th>10</th>\n",
              "      <td>2949</td>\n",
              "      <td>0</td>\n",
              "      <td>GUEST GUEST</td>\n",
              "      <td>Squash Court</td>\n",
              "      <td>35.0</td>\n",
              "    </tr>\n",
              "    <tr>\n",
              "      <th>11</th>\n",
              "      <td>2951</td>\n",
              "      <td>0</td>\n",
              "      <td>GUEST GUEST</td>\n",
              "      <td>Squash Court</td>\n",
              "      <td>35.0</td>\n",
              "    </tr>\n",
              "  </tbody>\n",
              "</table>\n",
              "</div>"
            ],
            "text/plain": [
              "    bookid  memid      membername    facilityname  costofbooking\n",
              "0     2946      0     GUEST GUEST  Massage Room 2          320.0\n",
              "1     2937      0     GUEST GUEST  Massage Room 1          160.0\n",
              "2     2940      0     GUEST GUEST  Massage Room 1          160.0\n",
              "3     2942      0     GUEST GUEST  Massage Room 1          160.0\n",
              "4     2926      0     GUEST GUEST  Tennis Court 2          150.0\n",
              "5     2920      0     GUEST GUEST  Tennis Court 1           75.0\n",
              "6     2922      0     GUEST GUEST  Tennis Court 1           75.0\n",
              "7     2925      0     GUEST GUEST  Tennis Court 2           75.0\n",
              "8     2948      0     GUEST GUEST    Squash Court           70.0\n",
              "9     2941     13  Jemima Farrell  Massage Room 1           39.6\n",
              "10    2949      0     GUEST GUEST    Squash Court           35.0\n",
              "11    2951      0     GUEST GUEST    Squash Court           35.0"
            ]
          },
          "metadata": {
            "tags": []
          },
          "execution_count": 21
        }
      ]
    },
    {
      "cell_type": "markdown",
      "metadata": {
        "id": "sBexd-K9TL9-"
      },
      "source": [
        "#### Q10: Produce a list of facilities with a total revenue less than 1000.\n",
        "- The output should have facility name and total revenue, sorted by revenue. \n",
        "- Remember that there's a different cost for guests and members!"
      ]
    },
    {
      "cell_type": "code",
      "metadata": {
        "id": "sFRPdJfCTL9_",
        "outputId": "9671af2c-2709-4114-be42-9baf01d25815"
      },
      "source": [
        "result = run_sql('''\n",
        "                    WITH base AS (\n",
        "                        SELECT facid, facilityname, SUM(costofbooking) AS revenue\n",
        "                        FROM\n",
        "                            (SELECT b.facid, b.bookid, b.memid, b.slots, f.name AS facilityname, f.membercost, f.guestcost,\n",
        "                                CASE WHEN b.memid = 0 THEN b.slots*f.guestcost ELSE b.slots*f.membercost END AS costofbooking\n",
        "                            FROM bookings AS b \n",
        "                            LEFT JOIN facilities AS f \n",
        "                            USING (facid)) AS T\n",
        "                        GROUP BY facid, facilityname\n",
        "                    )\n",
        "                    SELECT facid, facilityname, revenue FROM base WHERE revenue < 1000 ORDER BY revenue\n",
        "                 ''')\n",
        "result.toPandas()"
      ],
      "execution_count": null,
      "outputs": [
        {
          "output_type": "execute_result",
          "data": {
            "text/html": [
              "<div>\n",
              "<style>\n",
              "    .dataframe thead tr:only-child th {\n",
              "        text-align: right;\n",
              "    }\n",
              "\n",
              "    .dataframe thead th {\n",
              "        text-align: left;\n",
              "    }\n",
              "\n",
              "    .dataframe tbody tr th {\n",
              "        vertical-align: top;\n",
              "    }\n",
              "</style>\n",
              "<table border=\"1\" class=\"dataframe\">\n",
              "  <thead>\n",
              "    <tr style=\"text-align: right;\">\n",
              "      <th></th>\n",
              "      <th>facid</th>\n",
              "      <th>facilityname</th>\n",
              "      <th>revenue</th>\n",
              "    </tr>\n",
              "  </thead>\n",
              "  <tbody>\n",
              "    <tr>\n",
              "      <th>0</th>\n",
              "      <td>3</td>\n",
              "      <td>Table Tennis</td>\n",
              "      <td>180.0</td>\n",
              "    </tr>\n",
              "    <tr>\n",
              "      <th>1</th>\n",
              "      <td>7</td>\n",
              "      <td>Snooker Table</td>\n",
              "      <td>240.0</td>\n",
              "    </tr>\n",
              "    <tr>\n",
              "      <th>2</th>\n",
              "      <td>8</td>\n",
              "      <td>Pool Table</td>\n",
              "      <td>270.0</td>\n",
              "    </tr>\n",
              "  </tbody>\n",
              "</table>\n",
              "</div>"
            ],
            "text/plain": [
              "   facid   facilityname  revenue\n",
              "0      3   Table Tennis    180.0\n",
              "1      7  Snooker Table    240.0\n",
              "2      8     Pool Table    270.0"
            ]
          },
          "metadata": {
            "tags": []
          },
          "execution_count": 22
        }
      ]
    }
  ]
}