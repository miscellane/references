{
  "nbformat": 4,
  "nbformat_minor": 0,
  "metadata": {
    "kernelspec": {
      "display_name": "Python 3",
      "language": "python",
      "name": "python3"
    },
    "language_info": {
      "codemirror_mode": {
        "name": "ipython",
        "version": 3
      },
      "file_extension": ".py",
      "mimetype": "text/x-python",
      "name": "python",
      "nbconvert_exporter": "python",
      "pygments_lexer": "ipython3",
      "version": "3.6.2"
    },
    "colab": {
      "provenance": [],
      "collapsed_sections": [],
      "toc_visible": true
    }
  },
  "cells": [
    {
      "cell_type": "markdown",
      "metadata": {
        "id": "3DY7raMtue70"
      },
      "source": [
        "# The Adult Data Set\n",
        "\n",
        "This notebook explores the *adult* data set via Spark ML.  The core objective is to **predict whether an individual's income exceeds $50K/year based on census data**.\n",
        "\n",
        "\n",
        "\n",
        "<br>"
      ]
    },
    {
      "cell_type": "markdown",
      "metadata": {
        "id": "fvHPRtbhH28G"
      },
      "source": [
        "## Preliminaries\n"
      ]
    },
    {
      "cell_type": "markdown",
      "metadata": {
        "id": "vQ3HDfgKYNux"
      },
      "source": [
        "### Java"
      ]
    },
    {
      "cell_type": "markdown",
      "metadata": {
        "id": "tEje9h1ebLTr"
      },
      "source": [
        "Setting-up via Python, after updating `JAVA`\n",
        "\n",
        "\n",
        "> import os\n",
        "\n",
        "> os.environ['JAVA_HOME'] = '/usr/lib/jvm/java-1.8.0-openjdk-amd64'\n",
        "\n",
        "<br>\n",
        "\n",
        "Selecting a `JAVA` version\n",
        "\n",
        "\n",
        "> !update-alternatives --config java\n",
        "\n",
        "\n",
        "\n",
        "<br>\n"
      ]
    },
    {
      "cell_type": "markdown",
      "metadata": {
        "id": "j2tpgKxLb7Ir"
      },
      "source": [
        "<br>\n",
        "\n",
        "Update `JAVA`"
      ]
    },
    {
      "cell_type": "code",
      "metadata": {
        "id": "ZwC3oTizaGYa"
      },
      "source": [
        "%%bash\n",
        "apt purge *java &> java.log\n",
        "apt-get install openjdk-8-jdk &>> java.log\n",
        "update-java-alternatives --list &>> java.log"
      ],
      "execution_count": null,
      "outputs": []
    },
    {
      "cell_type": "markdown",
      "metadata": {
        "id": "oDK_J_D9b1Ow"
      },
      "source": [
        "<br>\n",
        "\n",
        "The `JAVA` version"
      ]
    },
    {
      "cell_type": "code",
      "metadata": {
        "id": "FXEcDKjFY6-2",
        "colab": {
          "base_uri": "https://localhost:8080/"
        },
        "outputId": "c6c0649c-c3c2-4d98-fffd-631ee07108d0"
      },
      "source": [
        "!java -version"
      ],
      "execution_count": null,
      "outputs": [
        {
          "output_type": "stream",
          "text": [
            "openjdk version \"1.8.0_252\"\n",
            "OpenJDK Runtime Environment (build 1.8.0_252-8u252-b09-1~18.04-b09)\n",
            "OpenJDK 64-Bit Server VM (build 25.252-b09, mixed mode)\n"
          ],
          "name": "stdout"
        }
      ]
    },
    {
      "cell_type": "markdown",
      "metadata": {
        "id": "2NePeR7Q5DoD"
      },
      "source": [
        "<br>\n",
        "<br>\n",
        "\n",
        "### Spark Environment Variables"
      ]
    },
    {
      "cell_type": "markdown",
      "metadata": {
        "id": "rycf7-rwc0Vj"
      },
      "source": [
        "Packages"
      ]
    },
    {
      "cell_type": "code",
      "metadata": {
        "id": "VDvUptK8FOPf"
      },
      "source": [
        "!pip install pyspark &> pyspark.log\n",
        "!pip install py4j &> py4j.log"
      ],
      "execution_count": null,
      "outputs": []
    },
    {
      "cell_type": "markdown",
      "metadata": {
        "id": "vjVgU2olc8lI"
      },
      "source": [
        "<br>\n",
        "\n",
        "Spark Session\n",
        "\n",
        "> from pyspark.sql import SparkSession"
      ]
    },
    {
      "cell_type": "code",
      "metadata": {
        "id": "dzKlzsPneoVQ"
      },
      "source": [
        "import pyspark.sql"
      ],
      "execution_count": null,
      "outputs": []
    },
    {
      "cell_type": "code",
      "metadata": {
        "id": "d6CMrOy35Doh",
        "colab": {
          "base_uri": "https://localhost:8080/",
          "height": 222
        },
        "outputId": "b0e1eea1-9c2f-415c-b1a6-fc29d038ecaf"
      },
      "source": [
        "SparkSession = pyspark.sql.SparkSession\n",
        "spark = SparkSession.builder.appName(\"PySpark\").getOrCreate()\n",
        "spark"
      ],
      "execution_count": null,
      "outputs": [
        {
          "output_type": "execute_result",
          "data": {
            "text/html": [
              "\n",
              "            <div>\n",
              "                <p><b>SparkSession - in-memory</b></p>\n",
              "                \n",
              "        <div>\n",
              "            <p><b>SparkContext</b></p>\n",
              "\n",
              "            <p><a href=\"http://a151967ad723:4040\">Spark UI</a></p>\n",
              "\n",
              "            <dl>\n",
              "              <dt>Version</dt>\n",
              "                <dd><code>v3.0.0</code></dd>\n",
              "              <dt>Master</dt>\n",
              "                <dd><code>local[*]</code></dd>\n",
              "              <dt>AppName</dt>\n",
              "                <dd><code>PySpark</code></dd>\n",
              "            </dl>\n",
              "        </div>\n",
              "        \n",
              "            </div>\n",
              "        "
            ],
            "text/plain": [
              "<pyspark.sql.session.SparkSession at 0x7fe5dff3e860>"
            ]
          },
          "metadata": {
            "tags": []
          },
          "execution_count": 11
        }
      ]
    },
    {
      "cell_type": "markdown",
      "metadata": {
        "id": "IxNoTnG3f5sZ"
      },
      "source": [
        "<br>\n",
        "\n",
        "Spark Logging Level"
      ]
    },
    {
      "cell_type": "code",
      "metadata": {
        "id": "5BMCGxU5rzEq"
      },
      "source": [
        "spark.sparkContext.setLogLevel('WARN')"
      ],
      "execution_count": null,
      "outputs": []
    },
    {
      "cell_type": "markdown",
      "metadata": {
        "id": "9hX9mF5IdA7D"
      },
      "source": [
        "<br>\n",
        "<br>\n",
        "\n",
        "### Logging"
      ]
    },
    {
      "cell_type": "markdown",
      "metadata": {
        "id": "fCZi0a19gRJr"
      },
      "source": [
        "> logging.basicConfig(level=logging.WARN)"
      ]
    },
    {
      "cell_type": "code",
      "metadata": {
        "id": "BPen-b1sdFPR"
      },
      "source": [
        "import logging"
      ],
      "execution_count": null,
      "outputs": []
    },
    {
      "cell_type": "code",
      "metadata": {
        "id": "LM8etAAZdIGJ"
      },
      "source": [
        "logging.disable(logging.WARN)\n",
        "logger = logging.getLogger(__name__)"
      ],
      "execution_count": null,
      "outputs": []
    },
    {
      "cell_type": "markdown",
      "metadata": {
        "id": "1GZnbd-mIOMa"
      },
      "source": [
        "<br>\n",
        "<br>\n",
        "\n",
        "### Libraries\n"
      ]
    },
    {
      "cell_type": "markdown",
      "metadata": {
        "id": "-6qV2Udwg0CK"
      },
      "source": [
        "Standard"
      ]
    },
    {
      "cell_type": "code",
      "metadata": {
        "id": "20Ef_V8cge4f",
        "colab": {
          "base_uri": "https://localhost:8080/",
          "height": 54
        },
        "outputId": "5cec69f3-f98b-44d4-e5f3-271c66fff7d4"
      },
      "source": [
        "%matplotlib inline\n",
        "\n",
        "import matplotlib.pyplot as plt\n",
        "import pandas as pd\n",
        "import numpy as np\n",
        "import seaborn as sns\n",
        "\n",
        "sns.set_style(\"darkgrid\")\n",
        "sns.set_context(\"poster\")"
      ],
      "execution_count": null,
      "outputs": [
        {
          "output_type": "stream",
          "text": [
            "/usr/local/lib/python3.6/dist-packages/statsmodels/tools/_testing.py:19: FutureWarning: pandas.util.testing is deprecated. Use the functions in the public API at pandas.testing instead.\n",
            "  import pandas.util.testing as tm\n"
          ],
          "name": "stderr"
        }
      ]
    },
    {
      "cell_type": "markdown",
      "metadata": {
        "id": "-H2KCXJGgvzb"
      },
      "source": [
        "<br>\n",
        "\n",
        "And"
      ]
    },
    {
      "cell_type": "code",
      "metadata": {
        "id": "IQ7FVmCWIZMq"
      },
      "source": [
        "import pyspark\n",
        "\n",
        "from pyspark.sql.types import Row\n",
        "from pyspark.sql.types import StructType, StructField\n",
        "from pyspark.sql.types import DoubleType, IntegerType, StringType\n",
        "from pyspark.sql.functions import when, col, mean, desc, round, lower, count, avg, sum\n",
        "\n",
        "from pyspark.mllib.evaluation import BinaryClassificationMetrics, MulticlassMetrics\n",
        "\n",
        "from pyspark.ml import Pipeline\n",
        "from pyspark.ml.feature import OneHotEncoderEstimator, StringIndexer, VectorAssembler\n",
        "from pyspark.ml.tuning import ParamGridBuilder, CrossValidator\n",
        "from pyspark.ml.evaluation import BinaryClassificationEvaluator\n",
        "from pyspark.ml.classification import LogisticRegression, GBTClassifier\n",
        "from pyspark.ml.classification import RandomForestClassifier\n"
      ],
      "execution_count": null,
      "outputs": []
    },
    {
      "cell_type": "markdown",
      "metadata": {
        "id": "nHfBAo6g5Doq"
      },
      "source": [
        "<br>\n",
        "<br>\n",
        "\n",
        "### Classes, Functions, Methods"
      ]
    },
    {
      "cell_type": "markdown",
      "metadata": {
        "id": "O04r2DRDlwNZ"
      },
      "source": [
        "Data retrieval via query language "
      ]
    },
    {
      "cell_type": "code",
      "metadata": {
        "id": "VwQdpCwckhzK"
      },
      "source": [
        "import src.functions.sql"
      ],
      "execution_count": null,
      "outputs": []
    },
    {
      "cell_type": "code",
      "metadata": {
        "id": "Gr1pAMlhkqOB"
      },
      "source": [
        "qlr = src.functions.sql.SQL(spark=spark)"
      ],
      "execution_count": null,
      "outputs": []
    },
    {
      "cell_type": "markdown",
      "metadata": {
        "id": "fIh3C6OUl8Ok"
      },
      "source": [
        "<br>\n",
        "\n",
        "Default tables"
      ]
    },
    {
      "cell_type": "code",
      "metadata": {
        "id": "NERI5LLhjNAP"
      },
      "source": [
        "defaults = qlr.query('show tables')"
      ],
      "execution_count": null,
      "outputs": []
    },
    {
      "cell_type": "code",
      "metadata": {
        "id": "ghVrnOwxllxU",
        "colab": {
          "base_uri": "https://localhost:8080/",
          "height": 35
        },
        "outputId": "a81160de-e7c3-4daf-f93a-cd0496d3d6e6"
      },
      "source": [
        "defaults"
      ],
      "execution_count": null,
      "outputs": [
        {
          "output_type": "execute_result",
          "data": {
            "text/plain": [
              "DataFrame[database: string, tableName: string, isTemporary: boolean]"
            ]
          },
          "metadata": {
            "tags": []
          },
          "execution_count": 28
        }
      ]
    },
    {
      "cell_type": "code",
      "metadata": {
        "id": "P_tI9_VK5Doy",
        "colab": {
          "base_uri": "https://localhost:8080/",
          "height": 49
        },
        "outputId": "b9fbe2c6-92cd-44ef-c68c-e90757868a87"
      },
      "source": [
        "defaults.toPandas()"
      ],
      "execution_count": null,
      "outputs": [
        {
          "output_type": "execute_result",
          "data": {
            "text/html": [
              "<div>\n",
              "<style scoped>\n",
              "    .dataframe tbody tr th:only-of-type {\n",
              "        vertical-align: middle;\n",
              "    }\n",
              "\n",
              "    .dataframe tbody tr th {\n",
              "        vertical-align: top;\n",
              "    }\n",
              "\n",
              "    .dataframe thead th {\n",
              "        text-align: right;\n",
              "    }\n",
              "</style>\n",
              "<table border=\"1\" class=\"dataframe\">\n",
              "  <thead>\n",
              "    <tr style=\"text-align: right;\">\n",
              "      <th></th>\n",
              "      <th>database</th>\n",
              "      <th>tableName</th>\n",
              "      <th>isTemporary</th>\n",
              "    </tr>\n",
              "  </thead>\n",
              "  <tbody>\n",
              "  </tbody>\n",
              "</table>\n",
              "</div>"
            ],
            "text/plain": [
              "Empty DataFrame\n",
              "Columns: [database, tableName, isTemporary]\n",
              "Index: []"
            ]
          },
          "metadata": {
            "tags": []
          },
          "execution_count": 29
        }
      ]
    },
    {
      "cell_type": "markdown",
      "metadata": {
        "id": "HCDGcjztmDpj"
      },
      "source": [
        "<br>\n",
        "\n",
        "Cleaning-up"
      ]
    },
    {
      "cell_type": "code",
      "metadata": {
        "id": "7z1_VruM5Do5",
        "colab": {
          "base_uri": "https://localhost:8080/",
          "height": 35
        },
        "outputId": "f8281d47-6286-4e1a-d500-a91a1f25e2bf"
      },
      "source": [
        "qlr.query('drop table if exists adult')"
      ],
      "execution_count": null,
      "outputs": [
        {
          "output_type": "execute_result",
          "data": {
            "text/plain": [
              "DataFrame[]"
            ]
          },
          "metadata": {
            "tags": []
          },
          "execution_count": 30
        }
      ]
    },
    {
      "cell_type": "markdown",
      "metadata": {
        "id": "Vnjrdapv5Do-"
      },
      "source": [
        "<br>\n",
        "<br>\n",
        "\n",
        "## Loading the Dataset\n",
        "\n",
        "Below we will use Spark SQL to load in the data and then register it as a Dataframe. So the end result will be a Spark SQL table called `adult` and a Spark Dataframe called `adult_df`."
      ]
    },
    {
      "cell_type": "markdown",
      "metadata": {
        "id": "kjSAsqQ1IpB7"
      },
      "source": [
        "<br>\n",
        "<br>\n",
        "\n",
        "### Data Download"
      ]
    },
    {
      "cell_type": "code",
      "metadata": {
        "id": "xo29ox0QA37d",
        "colab": {
          "base_uri": "https://localhost:8080/",
          "height": 345
        },
        "outputId": "f15b98ac-fa9d-4fa9-bdf8-0459d038d2d7"
      },
      "source": [
        "adult = pd.read_csv('https://docs.google.com/spreadsheets/d/e/2PACX-1vQEAgYxP1ViLp_WLEVQpbXiL0SJX_lafVKvKJGbjjyBhxi1sYVWmajEuGp9ydgUKksoBq0R0r-5-can/pub?output=csv', header=None)\n",
        "adult.head()"
      ],
      "execution_count": null,
      "outputs": [
        {
          "output_type": "execute_result",
          "data": {
            "text/html": [
              "<div>\n",
              "<style scoped>\n",
              "    .dataframe tbody tr th:only-of-type {\n",
              "        vertical-align: middle;\n",
              "    }\n",
              "\n",
              "    .dataframe tbody tr th {\n",
              "        vertical-align: top;\n",
              "    }\n",
              "\n",
              "    .dataframe thead th {\n",
              "        text-align: right;\n",
              "    }\n",
              "</style>\n",
              "<table border=\"1\" class=\"dataframe\">\n",
              "  <thead>\n",
              "    <tr style=\"text-align: right;\">\n",
              "      <th></th>\n",
              "      <th>0</th>\n",
              "      <th>1</th>\n",
              "      <th>2</th>\n",
              "      <th>3</th>\n",
              "      <th>4</th>\n",
              "      <th>5</th>\n",
              "      <th>6</th>\n",
              "      <th>7</th>\n",
              "      <th>8</th>\n",
              "      <th>9</th>\n",
              "      <th>10</th>\n",
              "      <th>11</th>\n",
              "      <th>12</th>\n",
              "      <th>13</th>\n",
              "      <th>14</th>\n",
              "    </tr>\n",
              "  </thead>\n",
              "  <tbody>\n",
              "    <tr>\n",
              "      <th>0</th>\n",
              "      <td>39.0</td>\n",
              "      <td>State-gov</td>\n",
              "      <td>77516.0</td>\n",
              "      <td>Bachelors</td>\n",
              "      <td>13.0</td>\n",
              "      <td>Never-married</td>\n",
              "      <td>Adm-clerical</td>\n",
              "      <td>Not-in-family</td>\n",
              "      <td>White</td>\n",
              "      <td>Male</td>\n",
              "      <td>2174.0</td>\n",
              "      <td>0.0</td>\n",
              "      <td>40.0</td>\n",
              "      <td>United-States</td>\n",
              "      <td>&lt;=50K</td>\n",
              "    </tr>\n",
              "    <tr>\n",
              "      <th>1</th>\n",
              "      <td>50.0</td>\n",
              "      <td>Self-emp-not-inc</td>\n",
              "      <td>83311.0</td>\n",
              "      <td>Bachelors</td>\n",
              "      <td>13.0</td>\n",
              "      <td>Married-civ-spouse</td>\n",
              "      <td>Exec-managerial</td>\n",
              "      <td>Husband</td>\n",
              "      <td>White</td>\n",
              "      <td>Male</td>\n",
              "      <td>0.0</td>\n",
              "      <td>0.0</td>\n",
              "      <td>13.0</td>\n",
              "      <td>United-States</td>\n",
              "      <td>&lt;=50K</td>\n",
              "    </tr>\n",
              "    <tr>\n",
              "      <th>2</th>\n",
              "      <td>38.0</td>\n",
              "      <td>Private</td>\n",
              "      <td>215646.0</td>\n",
              "      <td>HS-grad</td>\n",
              "      <td>9.0</td>\n",
              "      <td>Divorced</td>\n",
              "      <td>Handlers-cleaners</td>\n",
              "      <td>Not-in-family</td>\n",
              "      <td>White</td>\n",
              "      <td>Male</td>\n",
              "      <td>0.0</td>\n",
              "      <td>0.0</td>\n",
              "      <td>40.0</td>\n",
              "      <td>United-States</td>\n",
              "      <td>&lt;=50K</td>\n",
              "    </tr>\n",
              "    <tr>\n",
              "      <th>3</th>\n",
              "      <td>53.0</td>\n",
              "      <td>Private</td>\n",
              "      <td>234721.0</td>\n",
              "      <td>11th</td>\n",
              "      <td>7.0</td>\n",
              "      <td>Married-civ-spouse</td>\n",
              "      <td>Handlers-cleaners</td>\n",
              "      <td>Husband</td>\n",
              "      <td>Black</td>\n",
              "      <td>Male</td>\n",
              "      <td>0.0</td>\n",
              "      <td>0.0</td>\n",
              "      <td>40.0</td>\n",
              "      <td>United-States</td>\n",
              "      <td>&lt;=50K</td>\n",
              "    </tr>\n",
              "    <tr>\n",
              "      <th>4</th>\n",
              "      <td>28.0</td>\n",
              "      <td>Private</td>\n",
              "      <td>338409.0</td>\n",
              "      <td>Bachelors</td>\n",
              "      <td>13.0</td>\n",
              "      <td>Married-civ-spouse</td>\n",
              "      <td>Prof-specialty</td>\n",
              "      <td>Wife</td>\n",
              "      <td>Black</td>\n",
              "      <td>Female</td>\n",
              "      <td>0.0</td>\n",
              "      <td>0.0</td>\n",
              "      <td>40.0</td>\n",
              "      <td>Cuba</td>\n",
              "      <td>&lt;=50K</td>\n",
              "    </tr>\n",
              "  </tbody>\n",
              "</table>\n",
              "</div>"
            ],
            "text/plain": [
              "     0                 1         2          3   ...   11    12             13     14\n",
              "0  39.0         State-gov   77516.0  Bachelors  ...  0.0  40.0  United-States  <=50K\n",
              "1  50.0  Self-emp-not-inc   83311.0  Bachelors  ...  0.0  13.0  United-States  <=50K\n",
              "2  38.0           Private  215646.0    HS-grad  ...  0.0  40.0  United-States  <=50K\n",
              "3  53.0           Private  234721.0       11th  ...  0.0  40.0  United-States  <=50K\n",
              "4  28.0           Private  338409.0  Bachelors  ...  0.0  40.0           Cuba  <=50K\n",
              "\n",
              "[5 rows x 15 columns]"
            ]
          },
          "metadata": {
            "tags": []
          },
          "execution_count": 13
        }
      ]
    },
    {
      "cell_type": "code",
      "metadata": {
        "id": "InLg_BQjFgVA",
        "colab": {
          "base_uri": "https://localhost:8080/",
          "height": 35
        },
        "outputId": "c2722f5f-fb5b-46ce-e485-aa97494e3b17"
      },
      "source": [
        "adult.to_csv('adult.csv', index=False, header=False)\n",
        "del adult\n",
        "!ls"
      ],
      "execution_count": null,
      "outputs": [
        {
          "output_type": "stream",
          "text": [
            "adult.csv  sample_data\tspark-warehouse\n"
          ],
          "name": "stdout"
        }
      ]
    },
    {
      "cell_type": "markdown",
      "metadata": {
        "id": "Ry_nMM-c5DpA"
      },
      "source": [
        "<br>\n",
        "<br>\n",
        "\n",
        "### Creating the DataFrame\n",
        "\n",
        "In this section, a spark dataframe of the `adult` dataset is created."
      ]
    },
    {
      "cell_type": "code",
      "metadata": {
        "id": "nPEj2p9K5DpE"
      },
      "source": [
        "# File location and type\n",
        "file_location_adult = \"adult.csv\"\n",
        "file_type = \"csv\"\n",
        "\n",
        "# CSV options\n",
        "infer_schema = \"false\"\n",
        "first_row_is_header = \"false\"\n",
        "delimiter = \",\"\n",
        "\n",
        "# The schema based on the data set dictionary\n",
        "# at: https://archive.ics.uci.edu/ml/datasets/adult\n",
        "schema = StructType([\n",
        "      StructField('age', DoubleType()),\n",
        "      StructField('workclass', StringType()),\n",
        "      StructField('fnlwgt', DoubleType()),\n",
        "      StructField('education', StringType()),\n",
        "      StructField('education_num', DoubleType()),\n",
        "      StructField('marital_status', StringType()),\n",
        "      StructField('occupation', StringType()),\n",
        "      StructField('relationship', StringType()),\n",
        "      StructField('race', StringType()),\n",
        "      StructField('sex', StringType()),\n",
        "      StructField('capital_gain', DoubleType()),\n",
        "      StructField('capital_loss', DoubleType()),\n",
        "      StructField('hours_per_week', DoubleType()),\n",
        "      StructField('native_country', StringType()),\n",
        "      StructField('income', StringType())\n",
        "])\n",
        "\n",
        "\n",
        "# The applied options are for CSV files\n",
        "adult_df = (spark.read.format(file_type) \n",
        "                    .schema(schema)\n",
        "                    .option(\"inferSchema\", infer_schema) \n",
        "                    .option(\"header\", first_row_is_header) \n",
        "                    .option(\"sep\", delimiter) \n",
        "                    .load(file_location_adult))"
      ],
      "execution_count": null,
      "outputs": []
    },
    {
      "cell_type": "code",
      "metadata": {
        "id": "PL9ZNU1R-jXB",
        "colab": {
          "base_uri": "https://localhost:8080/",
          "height": 35
        },
        "outputId": "2cd6d3ed-148d-4fe5-c267-e6d7965740eb"
      },
      "source": [
        "type(adult_df)"
      ],
      "execution_count": null,
      "outputs": [
        {
          "output_type": "execute_result",
          "data": {
            "text/plain": [
              "pyspark.sql.dataframe.DataFrame"
            ]
          },
          "metadata": {
            "tags": []
          },
          "execution_count": 16
        }
      ]
    },
    {
      "cell_type": "markdown",
      "metadata": {
        "id": "B5-xHqT35DpK"
      },
      "source": [
        "<br>\n",
        "<br>\n",
        "\n",
        "### Viewing the DataFrame Schema\n",
        "\n",
        "The schema of the dataset"
      ]
    },
    {
      "cell_type": "code",
      "metadata": {
        "id": "77owJuaP5DpL",
        "colab": {
          "base_uri": "https://localhost:8080/",
          "height": 344
        },
        "outputId": "ef6bf2f5-4903-491b-971a-8c2df9791b1c"
      },
      "source": [
        "print('Adult Dataset Schema')\n",
        "adult_df.printSchema()"
      ],
      "execution_count": null,
      "outputs": [
        {
          "output_type": "stream",
          "text": [
            "Adult Dataset Schema\n",
            "root\n",
            " |-- age: double (nullable = true)\n",
            " |-- workclass: string (nullable = true)\n",
            " |-- fnlwgt: double (nullable = true)\n",
            " |-- education: string (nullable = true)\n",
            " |-- education_num: double (nullable = true)\n",
            " |-- marital_status: string (nullable = true)\n",
            " |-- occupation: string (nullable = true)\n",
            " |-- relationship: string (nullable = true)\n",
            " |-- race: string (nullable = true)\n",
            " |-- sex: string (nullable = true)\n",
            " |-- capital_gain: double (nullable = true)\n",
            " |-- capital_loss: double (nullable = true)\n",
            " |-- hours_per_week: double (nullable = true)\n",
            " |-- native_country: string (nullable = true)\n",
            " |-- income: string (nullable = true)\n",
            "\n"
          ],
          "name": "stdout"
        }
      ]
    },
    {
      "cell_type": "code",
      "metadata": {
        "id": "wjCm6Nxu5DpS",
        "colab": {
          "base_uri": "https://localhost:8080/",
          "height": 81
        },
        "outputId": "483369e3-a466-4580-e770-d948cb94e2ca"
      },
      "source": [
        "adult_df.registerTempTable(\"adult\")\n",
        "tbls = run_sql('show tables')\n",
        "tbls.toPandas()"
      ],
      "execution_count": null,
      "outputs": [
        {
          "output_type": "execute_result",
          "data": {
            "text/html": [
              "<div>\n",
              "<style scoped>\n",
              "    .dataframe tbody tr th:only-of-type {\n",
              "        vertical-align: middle;\n",
              "    }\n",
              "\n",
              "    .dataframe tbody tr th {\n",
              "        vertical-align: top;\n",
              "    }\n",
              "\n",
              "    .dataframe thead th {\n",
              "        text-align: right;\n",
              "    }\n",
              "</style>\n",
              "<table border=\"1\" class=\"dataframe\">\n",
              "  <thead>\n",
              "    <tr style=\"text-align: right;\">\n",
              "      <th></th>\n",
              "      <th>database</th>\n",
              "      <th>tableName</th>\n",
              "      <th>isTemporary</th>\n",
              "    </tr>\n",
              "  </thead>\n",
              "  <tbody>\n",
              "    <tr>\n",
              "      <th>0</th>\n",
              "      <td></td>\n",
              "      <td>adult</td>\n",
              "      <td>True</td>\n",
              "    </tr>\n",
              "  </tbody>\n",
              "</table>\n",
              "</div>"
            ],
            "text/plain": [
              "  database tableName  isTemporary\n",
              "0              adult         True"
            ]
          },
          "metadata": {
            "tags": []
          },
          "execution_count": 18
        }
      ]
    },
    {
      "cell_type": "markdown",
      "metadata": {
        "id": "En6bCBjr5DpX"
      },
      "source": [
        "<br>\n",
        "<br>\n",
        "\n",
        "### Viewing the Dataset\n",
        "\n",
        "<br>\n",
        "\n",
        "**All fields**"
      ]
    },
    {
      "cell_type": "code",
      "metadata": {
        "id": "T-XefF3o5DpZ",
        "colab": {
          "base_uri": "https://localhost:8080/",
          "height": 295
        },
        "outputId": "7a3e548f-6be0-45a3-e56c-6c1b067b8efc"
      },
      "source": [
        "df = run_sql(\"SELECT * FROM adult LIMIT 5\")\n",
        "df.toPandas()"
      ],
      "execution_count": null,
      "outputs": [
        {
          "output_type": "execute_result",
          "data": {
            "text/html": [
              "<div>\n",
              "<style scoped>\n",
              "    .dataframe tbody tr th:only-of-type {\n",
              "        vertical-align: middle;\n",
              "    }\n",
              "\n",
              "    .dataframe tbody tr th {\n",
              "        vertical-align: top;\n",
              "    }\n",
              "\n",
              "    .dataframe thead th {\n",
              "        text-align: right;\n",
              "    }\n",
              "</style>\n",
              "<table border=\"1\" class=\"dataframe\">\n",
              "  <thead>\n",
              "    <tr style=\"text-align: right;\">\n",
              "      <th></th>\n",
              "      <th>age</th>\n",
              "      <th>workclass</th>\n",
              "      <th>fnlwgt</th>\n",
              "      <th>education</th>\n",
              "      <th>education_num</th>\n",
              "      <th>marital_status</th>\n",
              "      <th>occupation</th>\n",
              "      <th>relationship</th>\n",
              "      <th>race</th>\n",
              "      <th>sex</th>\n",
              "      <th>capital_gain</th>\n",
              "      <th>capital_loss</th>\n",
              "      <th>hours_per_week</th>\n",
              "      <th>native_country</th>\n",
              "      <th>income</th>\n",
              "    </tr>\n",
              "  </thead>\n",
              "  <tbody>\n",
              "    <tr>\n",
              "      <th>0</th>\n",
              "      <td>39.0</td>\n",
              "      <td>State-gov</td>\n",
              "      <td>77516.0</td>\n",
              "      <td>Bachelors</td>\n",
              "      <td>13.0</td>\n",
              "      <td>Never-married</td>\n",
              "      <td>Adm-clerical</td>\n",
              "      <td>Not-in-family</td>\n",
              "      <td>White</td>\n",
              "      <td>Male</td>\n",
              "      <td>2174.0</td>\n",
              "      <td>0.0</td>\n",
              "      <td>40.0</td>\n",
              "      <td>United-States</td>\n",
              "      <td>&lt;=50K</td>\n",
              "    </tr>\n",
              "    <tr>\n",
              "      <th>1</th>\n",
              "      <td>50.0</td>\n",
              "      <td>Self-emp-not-inc</td>\n",
              "      <td>83311.0</td>\n",
              "      <td>Bachelors</td>\n",
              "      <td>13.0</td>\n",
              "      <td>Married-civ-spouse</td>\n",
              "      <td>Exec-managerial</td>\n",
              "      <td>Husband</td>\n",
              "      <td>White</td>\n",
              "      <td>Male</td>\n",
              "      <td>0.0</td>\n",
              "      <td>0.0</td>\n",
              "      <td>13.0</td>\n",
              "      <td>United-States</td>\n",
              "      <td>&lt;=50K</td>\n",
              "    </tr>\n",
              "    <tr>\n",
              "      <th>2</th>\n",
              "      <td>38.0</td>\n",
              "      <td>Private</td>\n",
              "      <td>215646.0</td>\n",
              "      <td>HS-grad</td>\n",
              "      <td>9.0</td>\n",
              "      <td>Divorced</td>\n",
              "      <td>Handlers-cleaners</td>\n",
              "      <td>Not-in-family</td>\n",
              "      <td>White</td>\n",
              "      <td>Male</td>\n",
              "      <td>0.0</td>\n",
              "      <td>0.0</td>\n",
              "      <td>40.0</td>\n",
              "      <td>United-States</td>\n",
              "      <td>&lt;=50K</td>\n",
              "    </tr>\n",
              "    <tr>\n",
              "      <th>3</th>\n",
              "      <td>53.0</td>\n",
              "      <td>Private</td>\n",
              "      <td>234721.0</td>\n",
              "      <td>11th</td>\n",
              "      <td>7.0</td>\n",
              "      <td>Married-civ-spouse</td>\n",
              "      <td>Handlers-cleaners</td>\n",
              "      <td>Husband</td>\n",
              "      <td>Black</td>\n",
              "      <td>Male</td>\n",
              "      <td>0.0</td>\n",
              "      <td>0.0</td>\n",
              "      <td>40.0</td>\n",
              "      <td>United-States</td>\n",
              "      <td>&lt;=50K</td>\n",
              "    </tr>\n",
              "    <tr>\n",
              "      <th>4</th>\n",
              "      <td>28.0</td>\n",
              "      <td>Private</td>\n",
              "      <td>338409.0</td>\n",
              "      <td>Bachelors</td>\n",
              "      <td>13.0</td>\n",
              "      <td>Married-civ-spouse</td>\n",
              "      <td>Prof-specialty</td>\n",
              "      <td>Wife</td>\n",
              "      <td>Black</td>\n",
              "      <td>Female</td>\n",
              "      <td>0.0</td>\n",
              "      <td>0.0</td>\n",
              "      <td>40.0</td>\n",
              "      <td>Cuba</td>\n",
              "      <td>&lt;=50K</td>\n",
              "    </tr>\n",
              "  </tbody>\n",
              "</table>\n",
              "</div>"
            ],
            "text/plain": [
              "    age         workclass    fnlwgt  ... hours_per_week  native_country income\n",
              "0  39.0         State-gov   77516.0  ...           40.0   United-States  <=50K\n",
              "1  50.0  Self-emp-not-inc   83311.0  ...           13.0   United-States  <=50K\n",
              "2  38.0           Private  215646.0  ...           40.0   United-States  <=50K\n",
              "3  53.0           Private  234721.0  ...           40.0   United-States  <=50K\n",
              "4  28.0           Private  338409.0  ...           40.0            Cuba  <=50K\n",
              "\n",
              "[5 rows x 15 columns]"
            ]
          },
          "metadata": {
            "tags": []
          },
          "execution_count": 19
        }
      ]
    },
    {
      "cell_type": "markdown",
      "metadata": {
        "id": "viVuoJr_5Dpd"
      },
      "source": [
        "<br>\n",
        "<br>\n",
        "\n",
        "**Grouped by occupation**"
      ]
    },
    {
      "cell_type": "code",
      "metadata": {
        "id": "P5fN88w35Dpf",
        "colab": {
          "base_uri": "https://localhost:8080/",
          "height": 35
        },
        "outputId": "963cff4c-74cb-4612-e47f-b5310ddf2530"
      },
      "source": [
        "occupations = run_sql(\n",
        "  \"\"\"\n",
        "  SELECT \n",
        "    occupation,\n",
        "    sum(age) as n,\n",
        "    round( avg( if(lower(marital_status) LIKE 'married-%', 1, 0) ), 2) as married_rate,\n",
        "    round( avg( if(lower(marital_status) LIKE '%widow%', 1, 0)), 2) as widow_rate,\n",
        "    round( avg( if(lower(marital_status) = 'divorced', 1, 0)), 2) as divorce_rate,\n",
        "    round( avg( if(lower(marital_status) = 'separated', 1, 0)), 2) as separated_rate,\n",
        "    round( avg( if(lower(marital_status) = 'never-married', 1, 0)), 2) as bachelor_rate\n",
        "  FROM \n",
        "    adult \n",
        "  GROUP BY occupation\n",
        "  ORDER BY n DESC\n",
        "  \"\"\")\n",
        "type(occupations)"
      ],
      "execution_count": null,
      "outputs": [
        {
          "output_type": "execute_result",
          "data": {
            "text/plain": [
              "pyspark.sql.dataframe.DataFrame"
            ]
          },
          "metadata": {
            "tags": []
          },
          "execution_count": 20
        }
      ]
    },
    {
      "cell_type": "code",
      "metadata": {
        "id": "SYcJN8EeBqQP",
        "colab": {
          "base_uri": "https://localhost:8080/",
          "height": 520
        },
        "outputId": "7268cf64-0000-416d-8180-10b8b0e4b9aa"
      },
      "source": [
        "occupations.limit(100).toPandas()"
      ],
      "execution_count": null,
      "outputs": [
        {
          "output_type": "execute_result",
          "data": {
            "text/html": [
              "<div>\n",
              "<style scoped>\n",
              "    .dataframe tbody tr th:only-of-type {\n",
              "        vertical-align: middle;\n",
              "    }\n",
              "\n",
              "    .dataframe tbody tr th {\n",
              "        vertical-align: top;\n",
              "    }\n",
              "\n",
              "    .dataframe thead th {\n",
              "        text-align: right;\n",
              "    }\n",
              "</style>\n",
              "<table border=\"1\" class=\"dataframe\">\n",
              "  <thead>\n",
              "    <tr style=\"text-align: right;\">\n",
              "      <th></th>\n",
              "      <th>occupation</th>\n",
              "      <th>n</th>\n",
              "      <th>married_rate</th>\n",
              "      <th>widow_rate</th>\n",
              "      <th>divorce_rate</th>\n",
              "      <th>separated_rate</th>\n",
              "      <th>bachelor_rate</th>\n",
              "    </tr>\n",
              "  </thead>\n",
              "  <tbody>\n",
              "    <tr>\n",
              "      <th>0</th>\n",
              "      <td>Exec-managerial</td>\n",
              "      <td>171460.0</td>\n",
              "      <td>0.61</td>\n",
              "      <td>0.02</td>\n",
              "      <td>0.15</td>\n",
              "      <td>0.02</td>\n",
              "      <td>0.20</td>\n",
              "    </tr>\n",
              "    <tr>\n",
              "      <th>1</th>\n",
              "      <td>Prof-specialty</td>\n",
              "      <td>167743.0</td>\n",
              "      <td>0.53</td>\n",
              "      <td>0.02</td>\n",
              "      <td>0.13</td>\n",
              "      <td>0.02</td>\n",
              "      <td>0.30</td>\n",
              "    </tr>\n",
              "    <tr>\n",
              "      <th>2</th>\n",
              "      <td>Craft-repair</td>\n",
              "      <td>159990.0</td>\n",
              "      <td>0.64</td>\n",
              "      <td>0.01</td>\n",
              "      <td>0.11</td>\n",
              "      <td>0.03</td>\n",
              "      <td>0.21</td>\n",
              "    </tr>\n",
              "    <tr>\n",
              "      <th>3</th>\n",
              "      <td>Adm-clerical</td>\n",
              "      <td>139356.0</td>\n",
              "      <td>0.28</td>\n",
              "      <td>0.04</td>\n",
              "      <td>0.22</td>\n",
              "      <td>0.04</td>\n",
              "      <td>0.42</td>\n",
              "    </tr>\n",
              "    <tr>\n",
              "      <th>4</th>\n",
              "      <td>Sales</td>\n",
              "      <td>136342.0</td>\n",
              "      <td>0.47</td>\n",
              "      <td>0.03</td>\n",
              "      <td>0.12</td>\n",
              "      <td>0.03</td>\n",
              "      <td>0.36</td>\n",
              "    </tr>\n",
              "    <tr>\n",
              "      <th>5</th>\n",
              "      <td>Other-service</td>\n",
              "      <td>115159.0</td>\n",
              "      <td>0.24</td>\n",
              "      <td>0.05</td>\n",
              "      <td>0.15</td>\n",
              "      <td>0.06</td>\n",
              "      <td>0.50</td>\n",
              "    </tr>\n",
              "    <tr>\n",
              "      <th>6</th>\n",
              "      <td>Machine-op-inspct</td>\n",
              "      <td>75506.0</td>\n",
              "      <td>0.51</td>\n",
              "      <td>0.03</td>\n",
              "      <td>0.14</td>\n",
              "      <td>0.04</td>\n",
              "      <td>0.29</td>\n",
              "    </tr>\n",
              "    <tr>\n",
              "      <th>7</th>\n",
              "      <td>?</td>\n",
              "      <td>75347.0</td>\n",
              "      <td>0.36</td>\n",
              "      <td>0.08</td>\n",
              "      <td>0.10</td>\n",
              "      <td>0.04</td>\n",
              "      <td>0.42</td>\n",
              "    </tr>\n",
              "    <tr>\n",
              "      <th>8</th>\n",
              "      <td>Transport-moving</td>\n",
              "      <td>64196.0</td>\n",
              "      <td>0.63</td>\n",
              "      <td>0.02</td>\n",
              "      <td>0.11</td>\n",
              "      <td>0.02</td>\n",
              "      <td>0.21</td>\n",
              "    </tr>\n",
              "    <tr>\n",
              "      <th>9</th>\n",
              "      <td>Handlers-cleaners</td>\n",
              "      <td>44067.0</td>\n",
              "      <td>0.36</td>\n",
              "      <td>0.01</td>\n",
              "      <td>0.09</td>\n",
              "      <td>0.03</td>\n",
              "      <td>0.51</td>\n",
              "    </tr>\n",
              "    <tr>\n",
              "      <th>10</th>\n",
              "      <td>Farming-fishing</td>\n",
              "      <td>40964.0</td>\n",
              "      <td>0.60</td>\n",
              "      <td>0.02</td>\n",
              "      <td>0.06</td>\n",
              "      <td>0.02</td>\n",
              "      <td>0.29</td>\n",
              "    </tr>\n",
              "    <tr>\n",
              "      <th>11</th>\n",
              "      <td>Tech-support</td>\n",
              "      <td>34357.0</td>\n",
              "      <td>0.44</td>\n",
              "      <td>0.02</td>\n",
              "      <td>0.15</td>\n",
              "      <td>0.03</td>\n",
              "      <td>0.36</td>\n",
              "    </tr>\n",
              "    <tr>\n",
              "      <th>12</th>\n",
              "      <td>Protective-serv</td>\n",
              "      <td>25281.0</td>\n",
              "      <td>0.60</td>\n",
              "      <td>0.01</td>\n",
              "      <td>0.12</td>\n",
              "      <td>0.02</td>\n",
              "      <td>0.24</td>\n",
              "    </tr>\n",
              "    <tr>\n",
              "      <th>13</th>\n",
              "      <td>Priv-house-serv</td>\n",
              "      <td>6217.0</td>\n",
              "      <td>0.13</td>\n",
              "      <td>0.15</td>\n",
              "      <td>0.19</td>\n",
              "      <td>0.08</td>\n",
              "      <td>0.45</td>\n",
              "    </tr>\n",
              "    <tr>\n",
              "      <th>14</th>\n",
              "      <td>Armed-Forces</td>\n",
              "      <td>272.0</td>\n",
              "      <td>0.33</td>\n",
              "      <td>0.00</td>\n",
              "      <td>0.00</td>\n",
              "      <td>0.00</td>\n",
              "      <td>0.67</td>\n",
              "    </tr>\n",
              "  </tbody>\n",
              "</table>\n",
              "</div>"
            ],
            "text/plain": [
              "           occupation         n  ...  separated_rate  bachelor_rate\n",
              "0     Exec-managerial  171460.0  ...            0.02           0.20\n",
              "1      Prof-specialty  167743.0  ...            0.02           0.30\n",
              "2        Craft-repair  159990.0  ...            0.03           0.21\n",
              "3        Adm-clerical  139356.0  ...            0.04           0.42\n",
              "4               Sales  136342.0  ...            0.03           0.36\n",
              "5       Other-service  115159.0  ...            0.06           0.50\n",
              "6   Machine-op-inspct   75506.0  ...            0.04           0.29\n",
              "7                   ?   75347.0  ...            0.04           0.42\n",
              "8    Transport-moving   64196.0  ...            0.02           0.21\n",
              "9   Handlers-cleaners   44067.0  ...            0.03           0.51\n",
              "10    Farming-fishing   40964.0  ...            0.02           0.29\n",
              "11       Tech-support   34357.0  ...            0.03           0.36\n",
              "12    Protective-serv   25281.0  ...            0.02           0.24\n",
              "13    Priv-house-serv    6217.0  ...            0.08           0.45\n",
              "14       Armed-Forces     272.0  ...            0.00           0.67\n",
              "\n",
              "[15 rows x 7 columns]"
            ]
          },
          "metadata": {
            "tags": []
          },
          "execution_count": 21
        }
      ]
    },
    {
      "cell_type": "markdown",
      "metadata": {
        "id": "oLpwrYYm72d0"
      },
      "source": [
        "<br>\n",
        "\n",
        "DataFrame registration"
      ]
    },
    {
      "cell_type": "code",
      "metadata": {
        "id": "Oc-i9OD_5Dpl",
        "colab": {
          "base_uri": "https://localhost:8080/",
          "height": 112
        },
        "outputId": "cc43b25f-244b-4619-b070-1c9029c4c229"
      },
      "source": [
        "# Herein the 'occupations' dataframe is registered so that\n",
        "# it can be queried via Spark SQL also.\n",
        "occupations.registerTempTable('occupations')\n",
        "tbls = run_sql('show tables')\n",
        "tbls.toPandas()"
      ],
      "execution_count": null,
      "outputs": [
        {
          "output_type": "execute_result",
          "data": {
            "text/html": [
              "<div>\n",
              "<style scoped>\n",
              "    .dataframe tbody tr th:only-of-type {\n",
              "        vertical-align: middle;\n",
              "    }\n",
              "\n",
              "    .dataframe tbody tr th {\n",
              "        vertical-align: top;\n",
              "    }\n",
              "\n",
              "    .dataframe thead th {\n",
              "        text-align: right;\n",
              "    }\n",
              "</style>\n",
              "<table border=\"1\" class=\"dataframe\">\n",
              "  <thead>\n",
              "    <tr style=\"text-align: right;\">\n",
              "      <th></th>\n",
              "      <th>database</th>\n",
              "      <th>tableName</th>\n",
              "      <th>isTemporary</th>\n",
              "    </tr>\n",
              "  </thead>\n",
              "  <tbody>\n",
              "    <tr>\n",
              "      <th>0</th>\n",
              "      <td></td>\n",
              "      <td>adult</td>\n",
              "      <td>True</td>\n",
              "    </tr>\n",
              "    <tr>\n",
              "      <th>1</th>\n",
              "      <td></td>\n",
              "      <td>occupations</td>\n",
              "      <td>True</td>\n",
              "    </tr>\n",
              "  </tbody>\n",
              "</table>\n",
              "</div>"
            ],
            "text/plain": [
              "  database    tableName  isTemporary\n",
              "0                 adult         True\n",
              "1           occupations         True"
            ]
          },
          "metadata": {
            "tags": []
          },
          "execution_count": 22
        }
      ]
    },
    {
      "cell_type": "markdown",
      "metadata": {
        "id": "fw2_GfqS7-94"
      },
      "source": [
        "<br>\n",
        "\n",
        "Querying the registered dataframe via Spark SQL"
      ]
    },
    {
      "cell_type": "code",
      "metadata": {
        "id": "FVVeevjv5Dpr",
        "colab": {
          "base_uri": "https://localhost:8080/",
          "height": 206
        },
        "outputId": "3f4f98ac-3ed6-433b-a2ce-0260c527902b"
      },
      "source": [
        "run_sql(\"SELECT * FROM occupations\").limit(5).toPandas()"
      ],
      "execution_count": null,
      "outputs": [
        {
          "output_type": "execute_result",
          "data": {
            "text/html": [
              "<div>\n",
              "<style scoped>\n",
              "    .dataframe tbody tr th:only-of-type {\n",
              "        vertical-align: middle;\n",
              "    }\n",
              "\n",
              "    .dataframe tbody tr th {\n",
              "        vertical-align: top;\n",
              "    }\n",
              "\n",
              "    .dataframe thead th {\n",
              "        text-align: right;\n",
              "    }\n",
              "</style>\n",
              "<table border=\"1\" class=\"dataframe\">\n",
              "  <thead>\n",
              "    <tr style=\"text-align: right;\">\n",
              "      <th></th>\n",
              "      <th>occupation</th>\n",
              "      <th>n</th>\n",
              "      <th>married_rate</th>\n",
              "      <th>widow_rate</th>\n",
              "      <th>divorce_rate</th>\n",
              "      <th>separated_rate</th>\n",
              "      <th>bachelor_rate</th>\n",
              "    </tr>\n",
              "  </thead>\n",
              "  <tbody>\n",
              "    <tr>\n",
              "      <th>0</th>\n",
              "      <td>Exec-managerial</td>\n",
              "      <td>171460.0</td>\n",
              "      <td>0.61</td>\n",
              "      <td>0.02</td>\n",
              "      <td>0.15</td>\n",
              "      <td>0.02</td>\n",
              "      <td>0.20</td>\n",
              "    </tr>\n",
              "    <tr>\n",
              "      <th>1</th>\n",
              "      <td>Prof-specialty</td>\n",
              "      <td>167743.0</td>\n",
              "      <td>0.53</td>\n",
              "      <td>0.02</td>\n",
              "      <td>0.13</td>\n",
              "      <td>0.02</td>\n",
              "      <td>0.30</td>\n",
              "    </tr>\n",
              "    <tr>\n",
              "      <th>2</th>\n",
              "      <td>Craft-repair</td>\n",
              "      <td>159990.0</td>\n",
              "      <td>0.64</td>\n",
              "      <td>0.01</td>\n",
              "      <td>0.11</td>\n",
              "      <td>0.03</td>\n",
              "      <td>0.21</td>\n",
              "    </tr>\n",
              "    <tr>\n",
              "      <th>3</th>\n",
              "      <td>Adm-clerical</td>\n",
              "      <td>139356.0</td>\n",
              "      <td>0.28</td>\n",
              "      <td>0.04</td>\n",
              "      <td>0.22</td>\n",
              "      <td>0.04</td>\n",
              "      <td>0.42</td>\n",
              "    </tr>\n",
              "    <tr>\n",
              "      <th>4</th>\n",
              "      <td>Sales</td>\n",
              "      <td>136342.0</td>\n",
              "      <td>0.47</td>\n",
              "      <td>0.03</td>\n",
              "      <td>0.12</td>\n",
              "      <td>0.03</td>\n",
              "      <td>0.36</td>\n",
              "    </tr>\n",
              "  </tbody>\n",
              "</table>\n",
              "</div>"
            ],
            "text/plain": [
              "        occupation         n  ...  separated_rate  bachelor_rate\n",
              "0  Exec-managerial  171460.0  ...            0.02           0.20\n",
              "1   Prof-specialty  167743.0  ...            0.02           0.30\n",
              "2     Craft-repair  159990.0  ...            0.03           0.21\n",
              "3     Adm-clerical  139356.0  ...            0.04           0.42\n",
              "4            Sales  136342.0  ...            0.03           0.36\n",
              "\n",
              "[5 rows x 7 columns]"
            ]
          },
          "metadata": {
            "tags": []
          },
          "execution_count": 23
        }
      ]
    },
    {
      "cell_type": "markdown",
      "metadata": {
        "id": "qwtLIcv_5Dpw"
      },
      "source": [
        "<br>\n",
        "<br>\n",
        "\n",
        "### Q1\n",
        "\n",
        "\n",
        "Spark SQL: The top 'bachelor_rate' by 'education'"
      ]
    },
    {
      "cell_type": "code",
      "metadata": {
        "id": "ThF3TghV5Dpw",
        "colab": {
          "base_uri": "https://localhost:8080/",
          "height": 143
        },
        "outputId": "4a9e6f1b-e650-48b4-98f2-ecf9233108f4"
      },
      "source": [
        "# Q1\n",
        "\n",
        "education = run_sql(\n",
        "  \"\"\"\n",
        "  SELECT \n",
        "    lower(education) as education,    \n",
        "    round( avg( if(lower(marital_status) = 'never-married', 1, 0)), 2) as bachelor_rate\n",
        "  FROM \n",
        "    adult \n",
        "  GROUP BY lower(education)\n",
        "  ORDER BY bachelor_rate DESC\n",
        "  \n",
        "  \"\"\")\n",
        "education.registerTempTable('education')\n",
        "tbls = run_sql('show tables')\n",
        "tbls.toPandas()"
      ],
      "execution_count": null,
      "outputs": [
        {
          "output_type": "execute_result",
          "data": {
            "text/html": [
              "<div>\n",
              "<style scoped>\n",
              "    .dataframe tbody tr th:only-of-type {\n",
              "        vertical-align: middle;\n",
              "    }\n",
              "\n",
              "    .dataframe tbody tr th {\n",
              "        vertical-align: top;\n",
              "    }\n",
              "\n",
              "    .dataframe thead th {\n",
              "        text-align: right;\n",
              "    }\n",
              "</style>\n",
              "<table border=\"1\" class=\"dataframe\">\n",
              "  <thead>\n",
              "    <tr style=\"text-align: right;\">\n",
              "      <th></th>\n",
              "      <th>database</th>\n",
              "      <th>tableName</th>\n",
              "      <th>isTemporary</th>\n",
              "    </tr>\n",
              "  </thead>\n",
              "  <tbody>\n",
              "    <tr>\n",
              "      <th>0</th>\n",
              "      <td></td>\n",
              "      <td>adult</td>\n",
              "      <td>True</td>\n",
              "    </tr>\n",
              "    <tr>\n",
              "      <th>1</th>\n",
              "      <td></td>\n",
              "      <td>education</td>\n",
              "      <td>True</td>\n",
              "    </tr>\n",
              "    <tr>\n",
              "      <th>2</th>\n",
              "      <td></td>\n",
              "      <td>occupations</td>\n",
              "      <td>True</td>\n",
              "    </tr>\n",
              "  </tbody>\n",
              "</table>\n",
              "</div>"
            ],
            "text/plain": [
              "  database    tableName  isTemporary\n",
              "0                 adult         True\n",
              "1             education         True\n",
              "2           occupations         True"
            ]
          },
          "metadata": {
            "tags": []
          },
          "execution_count": 24
        }
      ]
    },
    {
      "cell_type": "code",
      "metadata": {
        "id": "axa_ySJ4FWHJ",
        "colab": {
          "base_uri": "https://localhost:8080/",
          "height": 551
        },
        "outputId": "dc6880db-3bfc-43dd-93fd-fa2793c4ba39"
      },
      "source": [
        "# Either\n",
        "# education.limit(100).toPandas()\n",
        "\n",
        "# Or\n",
        "run_sql('select * from education').limit(100).toPandas()"
      ],
      "execution_count": null,
      "outputs": [
        {
          "output_type": "execute_result",
          "data": {
            "text/html": [
              "<div>\n",
              "<style scoped>\n",
              "    .dataframe tbody tr th:only-of-type {\n",
              "        vertical-align: middle;\n",
              "    }\n",
              "\n",
              "    .dataframe tbody tr th {\n",
              "        vertical-align: top;\n",
              "    }\n",
              "\n",
              "    .dataframe thead th {\n",
              "        text-align: right;\n",
              "    }\n",
              "</style>\n",
              "<table border=\"1\" class=\"dataframe\">\n",
              "  <thead>\n",
              "    <tr style=\"text-align: right;\">\n",
              "      <th></th>\n",
              "      <th>education</th>\n",
              "      <th>bachelor_rate</th>\n",
              "    </tr>\n",
              "  </thead>\n",
              "  <tbody>\n",
              "    <tr>\n",
              "      <th>0</th>\n",
              "      <td>12th</td>\n",
              "      <td>0.54</td>\n",
              "    </tr>\n",
              "    <tr>\n",
              "      <th>1</th>\n",
              "      <td>11th</td>\n",
              "      <td>0.50</td>\n",
              "    </tr>\n",
              "    <tr>\n",
              "      <th>2</th>\n",
              "      <td>preschool</td>\n",
              "      <td>0.43</td>\n",
              "    </tr>\n",
              "    <tr>\n",
              "      <th>3</th>\n",
              "      <td>some-college</td>\n",
              "      <td>0.40</td>\n",
              "    </tr>\n",
              "    <tr>\n",
              "      <th>4</th>\n",
              "      <td>10th</td>\n",
              "      <td>0.39</td>\n",
              "    </tr>\n",
              "    <tr>\n",
              "      <th>5</th>\n",
              "      <td>bachelors</td>\n",
              "      <td>0.34</td>\n",
              "    </tr>\n",
              "    <tr>\n",
              "      <th>6</th>\n",
              "      <td>assoc-acdm</td>\n",
              "      <td>0.32</td>\n",
              "    </tr>\n",
              "    <tr>\n",
              "      <th>7</th>\n",
              "      <td>9th</td>\n",
              "      <td>0.30</td>\n",
              "    </tr>\n",
              "    <tr>\n",
              "      <th>8</th>\n",
              "      <td>hs-grad</td>\n",
              "      <td>0.29</td>\n",
              "    </tr>\n",
              "    <tr>\n",
              "      <th>9</th>\n",
              "      <td>5th-6th</td>\n",
              "      <td>0.27</td>\n",
              "    </tr>\n",
              "    <tr>\n",
              "      <th>10</th>\n",
              "      <td>assoc-voc</td>\n",
              "      <td>0.26</td>\n",
              "    </tr>\n",
              "    <tr>\n",
              "      <th>11</th>\n",
              "      <td>1st-4th</td>\n",
              "      <td>0.23</td>\n",
              "    </tr>\n",
              "    <tr>\n",
              "      <th>12</th>\n",
              "      <td>masters</td>\n",
              "      <td>0.23</td>\n",
              "    </tr>\n",
              "    <tr>\n",
              "      <th>13</th>\n",
              "      <td>doctorate</td>\n",
              "      <td>0.18</td>\n",
              "    </tr>\n",
              "    <tr>\n",
              "      <th>14</th>\n",
              "      <td>7th-8th</td>\n",
              "      <td>0.17</td>\n",
              "    </tr>\n",
              "    <tr>\n",
              "      <th>15</th>\n",
              "      <td>prof-school</td>\n",
              "      <td>0.16</td>\n",
              "    </tr>\n",
              "  </tbody>\n",
              "</table>\n",
              "</div>"
            ],
            "text/plain": [
              "       education  bachelor_rate\n",
              "0           12th           0.54\n",
              "1           11th           0.50\n",
              "2      preschool           0.43\n",
              "3   some-college           0.40\n",
              "4           10th           0.39\n",
              "5      bachelors           0.34\n",
              "6     assoc-acdm           0.32\n",
              "7            9th           0.30\n",
              "8        hs-grad           0.29\n",
              "9        5th-6th           0.27\n",
              "10     assoc-voc           0.26\n",
              "11       1st-4th           0.23\n",
              "12       masters           0.23\n",
              "13     doctorate           0.18\n",
              "14       7th-8th           0.17\n",
              "15   prof-school           0.16"
            ]
          },
          "metadata": {
            "tags": []
          },
          "execution_count": 25
        }
      ]
    },
    {
      "cell_type": "markdown",
      "metadata": {
        "id": "gX5ZgBP05Dp2"
      },
      "source": [
        "<br>\n",
        "<br>\n",
        "\n",
        "## Spark DataFrames\n",
        "\n",
        "<br>\n",
        "\n",
        "Below we will create our DataFrame from the SQL table and do some similar analysis as we did with Spark SQL but using the DataFrames API."
      ]
    },
    {
      "cell_type": "code",
      "metadata": {
        "id": "t4ipeGeK--GO"
      },
      "source": [
        "del adult_df\n",
        "adult_df = spark.table('adult')\n",
        "cols = adult_df.columns"
      ],
      "execution_count": null,
      "outputs": []
    },
    {
      "cell_type": "code",
      "metadata": {
        "id": "i2lyabbY5Dp3",
        "colab": {
          "base_uri": "https://localhost:8080/",
          "height": 400
        },
        "outputId": "1a4fba21-7e6b-4c03-96a9-5ee5998dad72"
      },
      "source": [
        "print(type(adult_df))\n",
        "print(adult_df.printSchema())\n",
        "print(cols)"
      ],
      "execution_count": null,
      "outputs": [
        {
          "output_type": "stream",
          "text": [
            "<class 'pyspark.sql.dataframe.DataFrame'>\n",
            "root\n",
            " |-- age: double (nullable = true)\n",
            " |-- workclass: string (nullable = true)\n",
            " |-- fnlwgt: double (nullable = true)\n",
            " |-- education: string (nullable = true)\n",
            " |-- education_num: double (nullable = true)\n",
            " |-- marital_status: string (nullable = true)\n",
            " |-- occupation: string (nullable = true)\n",
            " |-- relationship: string (nullable = true)\n",
            " |-- race: string (nullable = true)\n",
            " |-- sex: string (nullable = true)\n",
            " |-- capital_gain: double (nullable = true)\n",
            " |-- capital_loss: double (nullable = true)\n",
            " |-- hours_per_week: double (nullable = true)\n",
            " |-- native_country: string (nullable = true)\n",
            " |-- income: string (nullable = true)\n",
            "\n",
            "None\n",
            "['age', 'workclass', 'fnlwgt', 'education', 'education_num', 'marital_status', 'occupation', 'relationship', 'race', 'sex', 'capital_gain', 'capital_loss', 'hours_per_week', 'native_country', 'income']\n"
          ],
          "name": "stdout"
        }
      ]
    },
    {
      "cell_type": "markdown",
      "metadata": {
        "id": "RUSiy-tK5DqB"
      },
      "source": [
        "<br>\n",
        "<br>\n",
        "\n",
        "`toPandas()` dumps an entire spark dataframe (which might be distributed) in a local system, which might crash a notebook if resources are inadequate. A good - and almost always required - approach is to use `limit()` to limit the number of records to view."
      ]
    },
    {
      "cell_type": "code",
      "metadata": {
        "id": "i3Mg9adP5DqC",
        "colab": {
          "base_uri": "https://localhost:8080/",
          "height": 295
        },
        "outputId": "69d33071-45e8-4da7-d296-706d45289d87"
      },
      "source": [
        "adult_df.limit(5).toPandas()"
      ],
      "execution_count": null,
      "outputs": [
        {
          "output_type": "execute_result",
          "data": {
            "text/html": [
              "<div>\n",
              "<style scoped>\n",
              "    .dataframe tbody tr th:only-of-type {\n",
              "        vertical-align: middle;\n",
              "    }\n",
              "\n",
              "    .dataframe tbody tr th {\n",
              "        vertical-align: top;\n",
              "    }\n",
              "\n",
              "    .dataframe thead th {\n",
              "        text-align: right;\n",
              "    }\n",
              "</style>\n",
              "<table border=\"1\" class=\"dataframe\">\n",
              "  <thead>\n",
              "    <tr style=\"text-align: right;\">\n",
              "      <th></th>\n",
              "      <th>age</th>\n",
              "      <th>workclass</th>\n",
              "      <th>fnlwgt</th>\n",
              "      <th>education</th>\n",
              "      <th>education_num</th>\n",
              "      <th>marital_status</th>\n",
              "      <th>occupation</th>\n",
              "      <th>relationship</th>\n",
              "      <th>race</th>\n",
              "      <th>sex</th>\n",
              "      <th>capital_gain</th>\n",
              "      <th>capital_loss</th>\n",
              "      <th>hours_per_week</th>\n",
              "      <th>native_country</th>\n",
              "      <th>income</th>\n",
              "    </tr>\n",
              "  </thead>\n",
              "  <tbody>\n",
              "    <tr>\n",
              "      <th>0</th>\n",
              "      <td>39.0</td>\n",
              "      <td>State-gov</td>\n",
              "      <td>77516.0</td>\n",
              "      <td>Bachelors</td>\n",
              "      <td>13.0</td>\n",
              "      <td>Never-married</td>\n",
              "      <td>Adm-clerical</td>\n",
              "      <td>Not-in-family</td>\n",
              "      <td>White</td>\n",
              "      <td>Male</td>\n",
              "      <td>2174.0</td>\n",
              "      <td>0.0</td>\n",
              "      <td>40.0</td>\n",
              "      <td>United-States</td>\n",
              "      <td>&lt;=50K</td>\n",
              "    </tr>\n",
              "    <tr>\n",
              "      <th>1</th>\n",
              "      <td>50.0</td>\n",
              "      <td>Self-emp-not-inc</td>\n",
              "      <td>83311.0</td>\n",
              "      <td>Bachelors</td>\n",
              "      <td>13.0</td>\n",
              "      <td>Married-civ-spouse</td>\n",
              "      <td>Exec-managerial</td>\n",
              "      <td>Husband</td>\n",
              "      <td>White</td>\n",
              "      <td>Male</td>\n",
              "      <td>0.0</td>\n",
              "      <td>0.0</td>\n",
              "      <td>13.0</td>\n",
              "      <td>United-States</td>\n",
              "      <td>&lt;=50K</td>\n",
              "    </tr>\n",
              "    <tr>\n",
              "      <th>2</th>\n",
              "      <td>38.0</td>\n",
              "      <td>Private</td>\n",
              "      <td>215646.0</td>\n",
              "      <td>HS-grad</td>\n",
              "      <td>9.0</td>\n",
              "      <td>Divorced</td>\n",
              "      <td>Handlers-cleaners</td>\n",
              "      <td>Not-in-family</td>\n",
              "      <td>White</td>\n",
              "      <td>Male</td>\n",
              "      <td>0.0</td>\n",
              "      <td>0.0</td>\n",
              "      <td>40.0</td>\n",
              "      <td>United-States</td>\n",
              "      <td>&lt;=50K</td>\n",
              "    </tr>\n",
              "    <tr>\n",
              "      <th>3</th>\n",
              "      <td>53.0</td>\n",
              "      <td>Private</td>\n",
              "      <td>234721.0</td>\n",
              "      <td>11th</td>\n",
              "      <td>7.0</td>\n",
              "      <td>Married-civ-spouse</td>\n",
              "      <td>Handlers-cleaners</td>\n",
              "      <td>Husband</td>\n",
              "      <td>Black</td>\n",
              "      <td>Male</td>\n",
              "      <td>0.0</td>\n",
              "      <td>0.0</td>\n",
              "      <td>40.0</td>\n",
              "      <td>United-States</td>\n",
              "      <td>&lt;=50K</td>\n",
              "    </tr>\n",
              "    <tr>\n",
              "      <th>4</th>\n",
              "      <td>28.0</td>\n",
              "      <td>Private</td>\n",
              "      <td>338409.0</td>\n",
              "      <td>Bachelors</td>\n",
              "      <td>13.0</td>\n",
              "      <td>Married-civ-spouse</td>\n",
              "      <td>Prof-specialty</td>\n",
              "      <td>Wife</td>\n",
              "      <td>Black</td>\n",
              "      <td>Female</td>\n",
              "      <td>0.0</td>\n",
              "      <td>0.0</td>\n",
              "      <td>40.0</td>\n",
              "      <td>Cuba</td>\n",
              "      <td>&lt;=50K</td>\n",
              "    </tr>\n",
              "  </tbody>\n",
              "</table>\n",
              "</div>"
            ],
            "text/plain": [
              "    age         workclass    fnlwgt  ... hours_per_week  native_country income\n",
              "0  39.0         State-gov   77516.0  ...           40.0   United-States  <=50K\n",
              "1  50.0  Self-emp-not-inc   83311.0  ...           13.0   United-States  <=50K\n",
              "2  38.0           Private  215646.0  ...           40.0   United-States  <=50K\n",
              "3  53.0           Private  234721.0  ...           40.0   United-States  <=50K\n",
              "4  28.0           Private  338409.0  ...           40.0            Cuba  <=50K\n",
              "\n",
              "[5 rows x 15 columns]"
            ]
          },
          "metadata": {
            "tags": []
          },
          "execution_count": 28
        }
      ]
    },
    {
      "cell_type": "markdown",
      "metadata": {
        "id": "8_m-jg725DqI"
      },
      "source": [
        "<br>\n",
        "<br>\n",
        "\n",
        "### Using the DataFrame API for computations\n",
        "\n",
        "Divorce rate by occupation"
      ]
    },
    {
      "cell_type": "code",
      "metadata": {
        "id": "emhNxEHc5DqJ",
        "colab": {
          "base_uri": "https://localhost:8080/",
          "height": 520
        },
        "outputId": "f36cbd18-8c52-4892-ff96-95bce50ba811"
      },
      "source": [
        "divorced = adult_df.select(\n",
        "  adult_df['occupation'], \n",
        "  when( lower(col('marital_status')) == 'divorced' , 1 ).otherwise(0).alias('is_divorced')\n",
        ")\n",
        "divorced = divorced.groupBy('occupation').agg(round(mean('is_divorced'),2).alias('divorced_rate'))\n",
        "divorced = divorced.orderBy(desc('divorced_rate'))\n",
        "divorced.limit(100).toPandas()"
      ],
      "execution_count": null,
      "outputs": [
        {
          "output_type": "execute_result",
          "data": {
            "text/html": [
              "<div>\n",
              "<style scoped>\n",
              "    .dataframe tbody tr th:only-of-type {\n",
              "        vertical-align: middle;\n",
              "    }\n",
              "\n",
              "    .dataframe tbody tr th {\n",
              "        vertical-align: top;\n",
              "    }\n",
              "\n",
              "    .dataframe thead th {\n",
              "        text-align: right;\n",
              "    }\n",
              "</style>\n",
              "<table border=\"1\" class=\"dataframe\">\n",
              "  <thead>\n",
              "    <tr style=\"text-align: right;\">\n",
              "      <th></th>\n",
              "      <th>occupation</th>\n",
              "      <th>divorced_rate</th>\n",
              "    </tr>\n",
              "  </thead>\n",
              "  <tbody>\n",
              "    <tr>\n",
              "      <th>0</th>\n",
              "      <td>Adm-clerical</td>\n",
              "      <td>0.22</td>\n",
              "    </tr>\n",
              "    <tr>\n",
              "      <th>1</th>\n",
              "      <td>Priv-house-serv</td>\n",
              "      <td>0.19</td>\n",
              "    </tr>\n",
              "    <tr>\n",
              "      <th>2</th>\n",
              "      <td>Tech-support</td>\n",
              "      <td>0.15</td>\n",
              "    </tr>\n",
              "    <tr>\n",
              "      <th>3</th>\n",
              "      <td>Other-service</td>\n",
              "      <td>0.15</td>\n",
              "    </tr>\n",
              "    <tr>\n",
              "      <th>4</th>\n",
              "      <td>Exec-managerial</td>\n",
              "      <td>0.15</td>\n",
              "    </tr>\n",
              "    <tr>\n",
              "      <th>5</th>\n",
              "      <td>Machine-op-inspct</td>\n",
              "      <td>0.14</td>\n",
              "    </tr>\n",
              "    <tr>\n",
              "      <th>6</th>\n",
              "      <td>Prof-specialty</td>\n",
              "      <td>0.13</td>\n",
              "    </tr>\n",
              "    <tr>\n",
              "      <th>7</th>\n",
              "      <td>Protective-serv</td>\n",
              "      <td>0.12</td>\n",
              "    </tr>\n",
              "    <tr>\n",
              "      <th>8</th>\n",
              "      <td>Sales</td>\n",
              "      <td>0.12</td>\n",
              "    </tr>\n",
              "    <tr>\n",
              "      <th>9</th>\n",
              "      <td>Transport-moving</td>\n",
              "      <td>0.11</td>\n",
              "    </tr>\n",
              "    <tr>\n",
              "      <th>10</th>\n",
              "      <td>Craft-repair</td>\n",
              "      <td>0.11</td>\n",
              "    </tr>\n",
              "    <tr>\n",
              "      <th>11</th>\n",
              "      <td>?</td>\n",
              "      <td>0.10</td>\n",
              "    </tr>\n",
              "    <tr>\n",
              "      <th>12</th>\n",
              "      <td>Handlers-cleaners</td>\n",
              "      <td>0.09</td>\n",
              "    </tr>\n",
              "    <tr>\n",
              "      <th>13</th>\n",
              "      <td>Farming-fishing</td>\n",
              "      <td>0.06</td>\n",
              "    </tr>\n",
              "    <tr>\n",
              "      <th>14</th>\n",
              "      <td>Armed-Forces</td>\n",
              "      <td>0.00</td>\n",
              "    </tr>\n",
              "  </tbody>\n",
              "</table>\n",
              "</div>"
            ],
            "text/plain": [
              "           occupation  divorced_rate\n",
              "0        Adm-clerical           0.22\n",
              "1     Priv-house-serv           0.19\n",
              "2        Tech-support           0.15\n",
              "3       Other-service           0.15\n",
              "4     Exec-managerial           0.15\n",
              "5   Machine-op-inspct           0.14\n",
              "6      Prof-specialty           0.13\n",
              "7     Protective-serv           0.12\n",
              "8               Sales           0.12\n",
              "9    Transport-moving           0.11\n",
              "10       Craft-repair           0.11\n",
              "11                  ?           0.10\n",
              "12  Handlers-cleaners           0.09\n",
              "13    Farming-fishing           0.06\n",
              "14       Armed-Forces           0.00"
            ]
          },
          "metadata": {
            "tags": []
          },
          "execution_count": 29
        }
      ]
    },
    {
      "cell_type": "markdown",
      "metadata": {
        "id": "XW8B3BJW5DqO"
      },
      "source": [
        "<br>\n",
        "<br>\n",
        "\n",
        "### Q2\n",
        "\n",
        "The top 'bachelor_rate' by 'education'; using the DataFrame API"
      ]
    },
    {
      "cell_type": "code",
      "metadata": {
        "id": "8Lt1ezal5DqQ",
        "colab": {
          "base_uri": "https://localhost:8080/",
          "height": 551
        },
        "outputId": "40e8fef1-35f8-4351-da44-d2e8756f7604"
      },
      "source": [
        "# Q2\n",
        "\n",
        "bachelor = adult_df.select( lower(adult_df['education']).alias('education'),\n",
        "                when( lower(col('marital_status')) == 'never-married' , 1 ).otherwise(0).alias('bachelor')\n",
        "                )\n",
        "bachelor = bachelor.groupBy('education').agg( round(mean('bachelor'), 2).alias('bachelor_rate'))\n",
        "bachelor = bachelor.orderBy(desc('bachelor_rate'))\n",
        "bachelor.limit(100).toPandas()"
      ],
      "execution_count": null,
      "outputs": [
        {
          "output_type": "execute_result",
          "data": {
            "text/html": [
              "<div>\n",
              "<style scoped>\n",
              "    .dataframe tbody tr th:only-of-type {\n",
              "        vertical-align: middle;\n",
              "    }\n",
              "\n",
              "    .dataframe tbody tr th {\n",
              "        vertical-align: top;\n",
              "    }\n",
              "\n",
              "    .dataframe thead th {\n",
              "        text-align: right;\n",
              "    }\n",
              "</style>\n",
              "<table border=\"1\" class=\"dataframe\">\n",
              "  <thead>\n",
              "    <tr style=\"text-align: right;\">\n",
              "      <th></th>\n",
              "      <th>education</th>\n",
              "      <th>bachelor_rate</th>\n",
              "    </tr>\n",
              "  </thead>\n",
              "  <tbody>\n",
              "    <tr>\n",
              "      <th>0</th>\n",
              "      <td>12th</td>\n",
              "      <td>0.54</td>\n",
              "    </tr>\n",
              "    <tr>\n",
              "      <th>1</th>\n",
              "      <td>11th</td>\n",
              "      <td>0.50</td>\n",
              "    </tr>\n",
              "    <tr>\n",
              "      <th>2</th>\n",
              "      <td>preschool</td>\n",
              "      <td>0.43</td>\n",
              "    </tr>\n",
              "    <tr>\n",
              "      <th>3</th>\n",
              "      <td>some-college</td>\n",
              "      <td>0.40</td>\n",
              "    </tr>\n",
              "    <tr>\n",
              "      <th>4</th>\n",
              "      <td>10th</td>\n",
              "      <td>0.39</td>\n",
              "    </tr>\n",
              "    <tr>\n",
              "      <th>5</th>\n",
              "      <td>bachelors</td>\n",
              "      <td>0.34</td>\n",
              "    </tr>\n",
              "    <tr>\n",
              "      <th>6</th>\n",
              "      <td>assoc-acdm</td>\n",
              "      <td>0.32</td>\n",
              "    </tr>\n",
              "    <tr>\n",
              "      <th>7</th>\n",
              "      <td>9th</td>\n",
              "      <td>0.30</td>\n",
              "    </tr>\n",
              "    <tr>\n",
              "      <th>8</th>\n",
              "      <td>hs-grad</td>\n",
              "      <td>0.29</td>\n",
              "    </tr>\n",
              "    <tr>\n",
              "      <th>9</th>\n",
              "      <td>5th-6th</td>\n",
              "      <td>0.27</td>\n",
              "    </tr>\n",
              "    <tr>\n",
              "      <th>10</th>\n",
              "      <td>assoc-voc</td>\n",
              "      <td>0.26</td>\n",
              "    </tr>\n",
              "    <tr>\n",
              "      <th>11</th>\n",
              "      <td>masters</td>\n",
              "      <td>0.23</td>\n",
              "    </tr>\n",
              "    <tr>\n",
              "      <th>12</th>\n",
              "      <td>1st-4th</td>\n",
              "      <td>0.23</td>\n",
              "    </tr>\n",
              "    <tr>\n",
              "      <th>13</th>\n",
              "      <td>doctorate</td>\n",
              "      <td>0.18</td>\n",
              "    </tr>\n",
              "    <tr>\n",
              "      <th>14</th>\n",
              "      <td>7th-8th</td>\n",
              "      <td>0.17</td>\n",
              "    </tr>\n",
              "    <tr>\n",
              "      <th>15</th>\n",
              "      <td>prof-school</td>\n",
              "      <td>0.16</td>\n",
              "    </tr>\n",
              "  </tbody>\n",
              "</table>\n",
              "</div>"
            ],
            "text/plain": [
              "       education  bachelor_rate\n",
              "0           12th           0.54\n",
              "1           11th           0.50\n",
              "2      preschool           0.43\n",
              "3   some-college           0.40\n",
              "4           10th           0.39\n",
              "5      bachelors           0.34\n",
              "6     assoc-acdm           0.32\n",
              "7            9th           0.30\n",
              "8        hs-grad           0.29\n",
              "9        5th-6th           0.27\n",
              "10     assoc-voc           0.26\n",
              "11       masters           0.23\n",
              "12       1st-4th           0.23\n",
              "13     doctorate           0.18\n",
              "14       7th-8th           0.17\n",
              "15   prof-school           0.16"
            ]
          },
          "metadata": {
            "tags": []
          },
          "execution_count": 30
        }
      ]
    },
    {
      "cell_type": "markdown",
      "metadata": {
        "id": "YMkzl1lh5DqU"
      },
      "source": [
        "<br>\n",
        "<br>\n",
        "\n",
        "\n",
        "## Explore & Visualize Data\n",
        "\n",
        "It's very easy to convert a Spark DataFrame into a Pandas DataFrame, and subsequently analyse or plot the data in question.  There are two options\n",
        "\n",
        "\n",
        "* `pandas.DataFrame(pyspark.sql.dataframe.DataFrame.limit(...).collect(), ...)`\n",
        "\n",
        "* `pyspark.sql.dataframe.DataFrame.limit().toPandas()`\n",
        "\n",
        "Large Pandas DataFrames are problematic, a best practice is to only collect aggregated or sampled data into a Pandas DataFrame.\n",
        "\n",
        "<br>"
      ]
    },
    {
      "cell_type": "code",
      "metadata": {
        "id": "mMvjXBLx5DqV",
        "colab": {
          "base_uri": "https://localhost:8080/",
          "height": 35
        },
        "outputId": "36c7fbd4-b47e-42a8-dc37-f0e4ffd3b345"
      },
      "source": [
        "# High earnings by occupation\n",
        "high = run_sql(\n",
        "  \"\"\"\n",
        "  SELECT \n",
        "    occupation,\n",
        "    avg( if(income = '>50K', 1, 0) ) as plus_50k\n",
        "  FROM \n",
        "    adult \n",
        "  GROUP BY occupation\n",
        "  ORDER BY plus_50k DESC\n",
        "  \"\"\")\n",
        "\n",
        "type(high)"
      ],
      "execution_count": null,
      "outputs": [
        {
          "output_type": "execute_result",
          "data": {
            "text/plain": [
              "pyspark.sql.dataframe.DataFrame"
            ]
          },
          "metadata": {
            "tags": []
          },
          "execution_count": 31
        }
      ]
    },
    {
      "cell_type": "markdown",
      "metadata": {
        "id": "BWHjvu2zMc0w"
      },
      "source": [
        "<br>\n",
        "\n",
        "Via collect()"
      ]
    },
    {
      "cell_type": "code",
      "metadata": {
        "id": "D1PWjkh3HizI",
        "colab": {
          "base_uri": "https://localhost:8080/",
          "height": 520
        },
        "outputId": "24246420-cb1b-473c-bbc5-8c8b422c4cb4"
      },
      "source": [
        "pd.DataFrame(data=high.limit(100).collect(), columns=high.schema.names)"
      ],
      "execution_count": null,
      "outputs": [
        {
          "output_type": "execute_result",
          "data": {
            "text/html": [
              "<div>\n",
              "<style scoped>\n",
              "    .dataframe tbody tr th:only-of-type {\n",
              "        vertical-align: middle;\n",
              "    }\n",
              "\n",
              "    .dataframe tbody tr th {\n",
              "        vertical-align: top;\n",
              "    }\n",
              "\n",
              "    .dataframe thead th {\n",
              "        text-align: right;\n",
              "    }\n",
              "</style>\n",
              "<table border=\"1\" class=\"dataframe\">\n",
              "  <thead>\n",
              "    <tr style=\"text-align: right;\">\n",
              "      <th></th>\n",
              "      <th>occupation</th>\n",
              "      <th>plus_50k</th>\n",
              "    </tr>\n",
              "  </thead>\n",
              "  <tbody>\n",
              "    <tr>\n",
              "      <th>0</th>\n",
              "      <td>Exec-managerial</td>\n",
              "      <td>0.484014</td>\n",
              "    </tr>\n",
              "    <tr>\n",
              "      <th>1</th>\n",
              "      <td>Prof-specialty</td>\n",
              "      <td>0.449034</td>\n",
              "    </tr>\n",
              "    <tr>\n",
              "      <th>2</th>\n",
              "      <td>Protective-serv</td>\n",
              "      <td>0.325116</td>\n",
              "    </tr>\n",
              "    <tr>\n",
              "      <th>3</th>\n",
              "      <td>Tech-support</td>\n",
              "      <td>0.304957</td>\n",
              "    </tr>\n",
              "    <tr>\n",
              "      <th>4</th>\n",
              "      <td>Sales</td>\n",
              "      <td>0.269315</td>\n",
              "    </tr>\n",
              "    <tr>\n",
              "      <th>5</th>\n",
              "      <td>Craft-repair</td>\n",
              "      <td>0.226641</td>\n",
              "    </tr>\n",
              "    <tr>\n",
              "      <th>6</th>\n",
              "      <td>Transport-moving</td>\n",
              "      <td>0.200376</td>\n",
              "    </tr>\n",
              "    <tr>\n",
              "      <th>7</th>\n",
              "      <td>Adm-clerical</td>\n",
              "      <td>0.134483</td>\n",
              "    </tr>\n",
              "    <tr>\n",
              "      <th>8</th>\n",
              "      <td>Machine-op-inspct</td>\n",
              "      <td>0.124875</td>\n",
              "    </tr>\n",
              "    <tr>\n",
              "      <th>9</th>\n",
              "      <td>Farming-fishing</td>\n",
              "      <td>0.115694</td>\n",
              "    </tr>\n",
              "    <tr>\n",
              "      <th>10</th>\n",
              "      <td>Armed-Forces</td>\n",
              "      <td>0.111111</td>\n",
              "    </tr>\n",
              "    <tr>\n",
              "      <th>11</th>\n",
              "      <td>?</td>\n",
              "      <td>0.103635</td>\n",
              "    </tr>\n",
              "    <tr>\n",
              "      <th>12</th>\n",
              "      <td>Handlers-cleaners</td>\n",
              "      <td>0.062774</td>\n",
              "    </tr>\n",
              "    <tr>\n",
              "      <th>13</th>\n",
              "      <td>Other-service</td>\n",
              "      <td>0.041578</td>\n",
              "    </tr>\n",
              "    <tr>\n",
              "      <th>14</th>\n",
              "      <td>Priv-house-serv</td>\n",
              "      <td>0.006711</td>\n",
              "    </tr>\n",
              "  </tbody>\n",
              "</table>\n",
              "</div>"
            ],
            "text/plain": [
              "           occupation  plus_50k\n",
              "0     Exec-managerial  0.484014\n",
              "1      Prof-specialty  0.449034\n",
              "2     Protective-serv  0.325116\n",
              "3        Tech-support  0.304957\n",
              "4               Sales  0.269315\n",
              "5        Craft-repair  0.226641\n",
              "6    Transport-moving  0.200376\n",
              "7        Adm-clerical  0.134483\n",
              "8   Machine-op-inspct  0.124875\n",
              "9     Farming-fishing  0.115694\n",
              "10       Armed-Forces  0.111111\n",
              "11                  ?  0.103635\n",
              "12  Handlers-cleaners  0.062774\n",
              "13      Other-service  0.041578\n",
              "14    Priv-house-serv  0.006711"
            ]
          },
          "metadata": {
            "tags": []
          },
          "execution_count": 32
        }
      ]
    },
    {
      "cell_type": "markdown",
      "metadata": {
        "id": "DjBc1RXXMjzb"
      },
      "source": [
        "<br>\n",
        "\n",
        "Via toPandas()"
      ]
    },
    {
      "cell_type": "code",
      "metadata": {
        "id": "iB1azw925DqZ",
        "colab": {
          "base_uri": "https://localhost:8080/",
          "height": 206
        },
        "outputId": "f72c07c5-d77b-47c3-b46b-3f316d773f64"
      },
      "source": [
        "summary = high.limit(100).toPandas()\n",
        "summary.head()"
      ],
      "execution_count": null,
      "outputs": [
        {
          "output_type": "execute_result",
          "data": {
            "text/html": [
              "<div>\n",
              "<style scoped>\n",
              "    .dataframe tbody tr th:only-of-type {\n",
              "        vertical-align: middle;\n",
              "    }\n",
              "\n",
              "    .dataframe tbody tr th {\n",
              "        vertical-align: top;\n",
              "    }\n",
              "\n",
              "    .dataframe thead th {\n",
              "        text-align: right;\n",
              "    }\n",
              "</style>\n",
              "<table border=\"1\" class=\"dataframe\">\n",
              "  <thead>\n",
              "    <tr style=\"text-align: right;\">\n",
              "      <th></th>\n",
              "      <th>occupation</th>\n",
              "      <th>plus_50k</th>\n",
              "    </tr>\n",
              "  </thead>\n",
              "  <tbody>\n",
              "    <tr>\n",
              "      <th>0</th>\n",
              "      <td>Exec-managerial</td>\n",
              "      <td>0.484014</td>\n",
              "    </tr>\n",
              "    <tr>\n",
              "      <th>1</th>\n",
              "      <td>Prof-specialty</td>\n",
              "      <td>0.449034</td>\n",
              "    </tr>\n",
              "    <tr>\n",
              "      <th>2</th>\n",
              "      <td>Protective-serv</td>\n",
              "      <td>0.325116</td>\n",
              "    </tr>\n",
              "    <tr>\n",
              "      <th>3</th>\n",
              "      <td>Tech-support</td>\n",
              "      <td>0.304957</td>\n",
              "    </tr>\n",
              "    <tr>\n",
              "      <th>4</th>\n",
              "      <td>Sales</td>\n",
              "      <td>0.269315</td>\n",
              "    </tr>\n",
              "  </tbody>\n",
              "</table>\n",
              "</div>"
            ],
            "text/plain": [
              "        occupation  plus_50k\n",
              "0  Exec-managerial  0.484014\n",
              "1   Prof-specialty  0.449034\n",
              "2  Protective-serv  0.325116\n",
              "3     Tech-support  0.304957\n",
              "4            Sales  0.269315"
            ]
          },
          "metadata": {
            "tags": []
          },
          "execution_count": 33
        }
      ]
    },
    {
      "cell_type": "code",
      "metadata": {
        "id": "YdXazf-Y5Dqd",
        "colab": {
          "base_uri": "https://localhost:8080/",
          "height": 300
        },
        "outputId": "bb6a5bd4-1225-40f0-9b96-5e8f9ce6fc4b"
      },
      "source": [
        "summary.describe()"
      ],
      "execution_count": null,
      "outputs": [
        {
          "output_type": "execute_result",
          "data": {
            "text/html": [
              "<div>\n",
              "<style scoped>\n",
              "    .dataframe tbody tr th:only-of-type {\n",
              "        vertical-align: middle;\n",
              "    }\n",
              "\n",
              "    .dataframe tbody tr th {\n",
              "        vertical-align: top;\n",
              "    }\n",
              "\n",
              "    .dataframe thead th {\n",
              "        text-align: right;\n",
              "    }\n",
              "</style>\n",
              "<table border=\"1\" class=\"dataframe\">\n",
              "  <thead>\n",
              "    <tr style=\"text-align: right;\">\n",
              "      <th></th>\n",
              "      <th>plus_50k</th>\n",
              "    </tr>\n",
              "  </thead>\n",
              "  <tbody>\n",
              "    <tr>\n",
              "      <th>count</th>\n",
              "      <td>15.000000</td>\n",
              "    </tr>\n",
              "    <tr>\n",
              "      <th>mean</th>\n",
              "      <td>0.197354</td>\n",
              "    </tr>\n",
              "    <tr>\n",
              "      <th>std</th>\n",
              "      <td>0.143994</td>\n",
              "    </tr>\n",
              "    <tr>\n",
              "      <th>min</th>\n",
              "      <td>0.006711</td>\n",
              "    </tr>\n",
              "    <tr>\n",
              "      <th>25%</th>\n",
              "      <td>0.107373</td>\n",
              "    </tr>\n",
              "    <tr>\n",
              "      <th>50%</th>\n",
              "      <td>0.134483</td>\n",
              "    </tr>\n",
              "    <tr>\n",
              "      <th>75%</th>\n",
              "      <td>0.287136</td>\n",
              "    </tr>\n",
              "    <tr>\n",
              "      <th>max</th>\n",
              "      <td>0.484014</td>\n",
              "    </tr>\n",
              "  </tbody>\n",
              "</table>\n",
              "</div>"
            ],
            "text/plain": [
              "        plus_50k\n",
              "count  15.000000\n",
              "mean    0.197354\n",
              "std     0.143994\n",
              "min     0.006711\n",
              "25%     0.107373\n",
              "50%     0.134483\n",
              "75%     0.287136\n",
              "max     0.484014"
            ]
          },
          "metadata": {
            "tags": []
          },
          "execution_count": 34
        }
      ]
    },
    {
      "cell_type": "code",
      "metadata": {
        "id": "KrvBAOZ75Dqi",
        "colab": {
          "base_uri": "https://localhost:8080/",
          "height": 144
        },
        "outputId": "25326f40-1f60-4d93-8e5c-748703e26cde"
      },
      "source": [
        "summary.info()"
      ],
      "execution_count": null,
      "outputs": [
        {
          "output_type": "stream",
          "text": [
            "<class 'pandas.core.frame.DataFrame'>\n",
            "RangeIndex: 15 entries, 0 to 14\n",
            "Data columns (total 2 columns):\n",
            "occupation    15 non-null object\n",
            "plus_50k      15 non-null float64\n",
            "dtypes: float64(1), object(1)\n",
            "memory usage: 368.0+ bytes\n"
          ],
          "name": "stdout"
        }
      ]
    },
    {
      "cell_type": "markdown",
      "metadata": {
        "id": "jbFhCkU25Dqm"
      },
      "source": [
        "<br>\n",
        "<br>\n",
        "\n",
        "Plotting"
      ]
    },
    {
      "cell_type": "code",
      "metadata": {
        "id": "0AzCpw455Dqo",
        "colab": {
          "base_uri": "https://localhost:8080/",
          "height": 314
        },
        "outputId": "958f921e-2690-45ac-b797-e02d5f7b36fc"
      },
      "source": [
        "plt.figure(figsize=(6, 6), frameon=False, edgecolor=None)\n",
        "summary.plot(kind='barh', x='occupation', y='plus_50k')\n",
        "plt.tick_params(axis='both', labelsize='xx-small')\n",
        "plt.ylabel('occupation', fontsize='xx-small')\n",
        "plt.legend(loc='upper right', frameon=False, fontsize='xx-small')"
      ],
      "execution_count": null,
      "outputs": [
        {
          "output_type": "execute_result",
          "data": {
            "text/plain": [
              "<matplotlib.legend.Legend at 0x7f16e0e0fa20>"
            ]
          },
          "metadata": {
            "tags": []
          },
          "execution_count": 36
        },
        {
          "output_type": "display_data",
          "data": {
            "text/plain": [
              "<Figure size 432x432 with 0 Axes>"
            ]
          },
          "metadata": {
            "tags": []
          }
        },
        {
          "output_type": "display_data",
          "data": {
            "image/png": "[encoded data removed]",
            "text/plain": [
              "<Figure size 432x288 with 1 Axes>"
            ]
          },
          "metadata": {
            "tags": []
          }
        }
      ]
    },
    {
      "cell_type": "markdown",
      "metadata": {
        "id": "9L2OVmZX5Dqs"
      },
      "source": [
        "<br>\n",
        "<br>\n",
        "\n",
        "Statistics\n",
        "\n",
        "A few statistics and mathematics tools are summarised at [Statistical & Mathematical Functions with DataFrames in Spark](https://databricks.com/blog/2015/06/02/statistical-and-mathematical-functions-with-dataframes-in-spark.html).  **Important**, apply functions and methods to the appropriate objects."
      ]
    },
    {
      "cell_type": "code",
      "metadata": {
        "id": "aWj5rp7joAht",
        "colab": {
          "base_uri": "https://localhost:8080/",
          "height": 35
        },
        "outputId": "8ad2364e-17b6-47fa-f4e3-c28b61fb98e7"
      },
      "source": [
        "type(adult_df)"
      ],
      "execution_count": null,
      "outputs": [
        {
          "output_type": "execute_result",
          "data": {
            "text/plain": [
              "pyspark.sql.dataframe.DataFrame"
            ]
          },
          "metadata": {
            "tags": []
          },
          "execution_count": 37
        }
      ]
    },
    {
      "cell_type": "code",
      "metadata": {
        "id": "esQD-3hNoDPc",
        "colab": {
          "base_uri": "https://localhost:8080/",
          "height": 35
        },
        "outputId": "76d88627-28e7-4259-ff28-3b123c6d37e2"
      },
      "source": [
        "type(summary)"
      ],
      "execution_count": null,
      "outputs": [
        {
          "output_type": "execute_result",
          "data": {
            "text/plain": [
              "pandas.core.frame.DataFrame"
            ]
          },
          "metadata": {
            "tags": []
          },
          "execution_count": 38
        }
      ]
    },
    {
      "cell_type": "code",
      "metadata": {
        "id": "CoB9WMnG5Dqt",
        "colab": {
          "base_uri": "https://localhost:8080/",
          "height": 300
        },
        "outputId": "613b61ac-b955-4560-aec3-c5eafab9f4ec"
      },
      "source": [
        "# Describing data via Pandas\n",
        "\n",
        "# The number of records in the table 'adult'\n",
        "# N = run_sql('select count(*) as nrecords from adult').limit(1).collect()[0]['nrecords']\n",
        "N = adult_df.count()\n",
        "\n",
        "# Hence, a description of two features of the 'adult' table\n",
        "adult_df.select(adult_df['age'], adult_df['education_num']).limit(N).toPandas().describe()"
      ],
      "execution_count": null,
      "outputs": [
        {
          "output_type": "execute_result",
          "data": {
            "text/html": [
              "<div>\n",
              "<style scoped>\n",
              "    .dataframe tbody tr th:only-of-type {\n",
              "        vertical-align: middle;\n",
              "    }\n",
              "\n",
              "    .dataframe tbody tr th {\n",
              "        vertical-align: top;\n",
              "    }\n",
              "\n",
              "    .dataframe thead th {\n",
              "        text-align: right;\n",
              "    }\n",
              "</style>\n",
              "<table border=\"1\" class=\"dataframe\">\n",
              "  <thead>\n",
              "    <tr style=\"text-align: right;\">\n",
              "      <th></th>\n",
              "      <th>age</th>\n",
              "      <th>education_num</th>\n",
              "    </tr>\n",
              "  </thead>\n",
              "  <tbody>\n",
              "    <tr>\n",
              "      <th>count</th>\n",
              "      <td>32561.000000</td>\n",
              "      <td>32561.000000</td>\n",
              "    </tr>\n",
              "    <tr>\n",
              "      <th>mean</th>\n",
              "      <td>38.581647</td>\n",
              "      <td>10.080679</td>\n",
              "    </tr>\n",
              "    <tr>\n",
              "      <th>std</th>\n",
              "      <td>13.640433</td>\n",
              "      <td>2.572720</td>\n",
              "    </tr>\n",
              "    <tr>\n",
              "      <th>min</th>\n",
              "      <td>17.000000</td>\n",
              "      <td>1.000000</td>\n",
              "    </tr>\n",
              "    <tr>\n",
              "      <th>25%</th>\n",
              "      <td>28.000000</td>\n",
              "      <td>9.000000</td>\n",
              "    </tr>\n",
              "    <tr>\n",
              "      <th>50%</th>\n",
              "      <td>37.000000</td>\n",
              "      <td>10.000000</td>\n",
              "    </tr>\n",
              "    <tr>\n",
              "      <th>75%</th>\n",
              "      <td>48.000000</td>\n",
              "      <td>12.000000</td>\n",
              "    </tr>\n",
              "    <tr>\n",
              "      <th>max</th>\n",
              "      <td>90.000000</td>\n",
              "      <td>16.000000</td>\n",
              "    </tr>\n",
              "  </tbody>\n",
              "</table>\n",
              "</div>"
            ],
            "text/plain": [
              "                age  education_num\n",
              "count  32561.000000   32561.000000\n",
              "mean      38.581647      10.080679\n",
              "std       13.640433       2.572720\n",
              "min       17.000000       1.000000\n",
              "25%       28.000000       9.000000\n",
              "50%       37.000000      10.000000\n",
              "75%       48.000000      12.000000\n",
              "max       90.000000      16.000000"
            ]
          },
          "metadata": {
            "tags": []
          },
          "execution_count": 39
        }
      ]
    },
    {
      "cell_type": "markdown",
      "metadata": {
        "id": "Ao-gxV5b5Dqx"
      },
      "source": [
        "<br>\n",
        "<br>\n",
        "\n",
        "## ML Pipeline\n"
      ]
    },
    {
      "cell_type": "markdown",
      "metadata": {
        "id": "nH3_1MGkxFpG"
      },
      "source": [
        "### What is MLlib?\n",
        "\n",
        "MLlib is Spark’s machine learning (ML) library. Its goal is to make practical machine learning scalable and easy. At a high level, it provides tools such as:\n",
        "\n",
        "\n",
        "- ML Algorithms: common learning algorithms such as classification, regression, clustering, and collaborative filtering\n",
        "- Featurization: feature extraction, transformation, dimensionality reduction, and selection\n",
        "- Pipelines: tools for constructing, evaluating, and tuning ML Pipelines\n",
        "- Persistence: saving and load algorithms, models, and Pipelines\n",
        "- Utilities: linear algebra, statistics, data handling, etc.\n",
        "\n",
        "<br>\n",
        "\n",
        "Notes:\n",
        "\n",
        "* **The MLlib RDD-based API is now in maintenance mode.**\n",
        "As of Spark 2.0, the RDD-based APIs in the `spark.mllib` package have entered maintenance mode. The primary Machine Learning API for Spark is now the DataFrame-based API in the `spark.ml` package.\n",
        "\n",
        "* **Why is MLlib switching to the DataFrame-based API?**\n",
        "DataFrames provide a more user-friendly API than RDDs. The many benefits of DataFrames include Spark Datasources, SQL/DataFrame queries, Tungsten and Catalyst optimizations, and uniform APIs across languages.\n",
        "The DataFrame-based API for MLlib provides a uniform API across ML algorithms and across multiple languages.\n",
        "DataFrames facilitate practical ML Pipelines, particularly feature transformations. See the Pipelines guide for details.\n",
        "\n",
        "* **What is “Spark ML”?**\n",
        "“Spark ML” is not an official name but occasionally used to refer to the MLlib DataFrame-based API. This is majorly due to the org.apache.spark.ml Scala package name used by the DataFrame-based API, and the “Spark ML Pipelines” term we used initially to emphasize the pipeline concept.\n",
        "\n",
        "* **Is MLlib deprecated?**\n",
        "No. MLlib includes both the RDD-based API and the DataFrame-based API. The RDD-based API is now in maintenance mode. But neither API is deprecated, nor MLlib as a whole.\n",
        "\n",
        "<br>"
      ]
    },
    {
      "cell_type": "markdown",
      "metadata": {
        "id": "RHR9CBWH4Vej"
      },
      "source": [
        "<br>\n",
        "<br>\n",
        "\n",
        "### Data Preparation"
      ]
    },
    {
      "cell_type": "code",
      "metadata": {
        "id": "tNgg74zg1WdN"
      },
      "source": [
        "def distinct_text(frame: pyspark.sql.dataframe.DataFrame, feature: str):\n",
        "  return frame.select(lower(frame[feature]).alias(feature)).distinct()"
      ],
      "execution_count": null,
      "outputs": []
    },
    {
      "cell_type": "code",
      "metadata": {
        "id": "_N1mswP0zorO",
        "colab": {
          "base_uri": "https://localhost:8080/",
          "height": 235
        },
        "outputId": "95994f9c-af68-478d-bcba-b96e99ef59d5"
      },
      "source": [
        "distinct_text(adult_df, 'marital_status').show()"
      ],
      "execution_count": null,
      "outputs": [
        {
          "output_type": "stream",
          "text": [
            "+--------------------+\n",
            "|      marital_status|\n",
            "+--------------------+\n",
            "|           separated|\n",
            "|       never-married|\n",
            "|            divorced|\n",
            "|   married-af-spouse|\n",
            "|             widowed|\n",
            "|  married-civ-spouse|\n",
            "|married-spouse-ab...|\n",
            "+--------------------+\n",
            "\n"
          ],
          "name": "stdout"
        }
      ]
    },
    {
      "cell_type": "markdown",
      "metadata": {
        "id": "as7uidp6-aar"
      },
      "source": [
        "<br>\n",
        "\n",
        "Categorical Features"
      ]
    },
    {
      "cell_type": "code",
      "metadata": {
        "id": "ROCHtTfu5Dq2"
      },
      "source": [
        "# Categorical\n",
        "categoricalColumns = [\"workclass\", \"education\", \"marital_status\", \"occupation\", \n",
        "                      \"relationship\", \"race\", \"sex\", \"native_country\"]\n",
        "\n",
        "# Pipeline Stages\n",
        "stages = [] \n",
        "\n",
        "for categoricalCol in categoricalColumns:\n",
        "\n",
        "    # Category Indexing with StringIndexer\n",
        "    stringIndexer = StringIndexer(inputCol=categoricalCol, outputCol=categoricalCol + \"Index\")\n",
        "\n",
        "    # Use OneHotEncoder to convert categorical variables into binary SparseVectors\n",
        "    # encoder = OneHotEncoderEstimator(inputCol=categoricalCol + \"Index\", outputCol=categoricalCol + \"classVec\")\n",
        "    encoder = OneHotEncoderEstimator(inputCols=[stringIndexer.getOutputCol()], outputCols=[categoricalCol + \"classVec\"])\n",
        "    \n",
        "    # Add stages.  These are not run here, but will run all at once later on.\n",
        "    stages += [stringIndexer, encoder]"
      ],
      "execution_count": null,
      "outputs": []
    },
    {
      "cell_type": "markdown",
      "metadata": {
        "id": "RcPOD6na-e_L"
      },
      "source": [
        "<br>\n",
        "\n",
        "The Target"
      ]
    },
    {
      "cell_type": "code",
      "metadata": {
        "id": "MRbqdvhF5Dq5"
      },
      "source": [
        "# Convert label into label indices using the StringIndexer\n",
        "label_stringIdx = StringIndexer(inputCol=\"income\", outputCol=\"label\")\n",
        "stages += [label_stringIdx]"
      ],
      "execution_count": null,
      "outputs": []
    },
    {
      "cell_type": "markdown",
      "metadata": {
        "id": "nGTWm7wV-lXD"
      },
      "source": [
        "<br>\n",
        "\n",
        "Assembling"
      ]
    },
    {
      "cell_type": "code",
      "metadata": {
        "id": "fB9Stbtn5Dq9"
      },
      "source": [
        "# Transform all features into a vector using VectorAssembler\n",
        "numericCols = [\"age\", \"fnlwgt\", \"education_num\", \"capital_gain\", \"capital_loss\", \"hours_per_week\"]\n",
        "assemblerInputs = [c + \"classVec\" for c in categoricalColumns] + numericCols\n",
        "assembler = VectorAssembler(inputCols=assemblerInputs, outputCol=\"features\")\n",
        "stages += [assembler]"
      ],
      "execution_count": null,
      "outputs": []
    },
    {
      "cell_type": "markdown",
      "metadata": {
        "id": "yBwAYODj-vwP"
      },
      "source": [
        "<br>\n",
        "\n",
        "Create Pipeline"
      ]
    },
    {
      "cell_type": "code",
      "metadata": {
        "id": "GeQI9BVx_lUa"
      },
      "source": [
        "# Stages\n",
        "pipeline = Pipeline(stages=stages)"
      ],
      "execution_count": null,
      "outputs": []
    },
    {
      "cell_type": "code",
      "metadata": {
        "id": "l-Nv3ROAa7l-"
      },
      "source": [
        "# fit()\n",
        "pipelineModel = pipeline.fit(adult_df)"
      ],
      "execution_count": null,
      "outputs": []
    },
    {
      "cell_type": "code",
      "metadata": {
        "id": "1C9UBWtU-0JZ"
      },
      "source": [
        "# transform()\n",
        "dataset = pipelineModel.transform(adult_df)"
      ],
      "execution_count": null,
      "outputs": []
    },
    {
      "cell_type": "code",
      "metadata": {
        "id": "nb3xdQDZ5DrA",
        "colab": {
          "base_uri": "https://localhost:8080/",
          "height": 682
        },
        "outputId": "695615eb-2230-4766-996d-eec232566145"
      },
      "source": [
        "print('\\n')\n",
        "\n",
        "# Relevant Columns\n",
        "print(cols)\n",
        "\n",
        "selectedcols = [\"label\", \"features\"] + cols\n",
        "print(selectedcols)\n",
        "\n",
        "dataset = dataset.select(selectedcols)\n",
        "print('\\n')\n",
        "dataset.limit(5).toPandas()"
      ],
      "execution_count": null,
      "outputs": [
        {
          "output_type": "stream",
          "text": [
            "\n",
            "\n",
            "['age', 'workclass', 'fnlwgt', 'education', 'education_num', 'marital_status', 'occupation', 'relationship', 'race', 'sex', 'capital_gain', 'capital_loss', 'hours_per_week', 'native_country', 'income']\n",
            "['label', 'features', 'age', 'workclass', 'fnlwgt', 'education', 'education_num', 'marital_status', 'occupation', 'relationship', 'race', 'sex', 'capital_gain', 'capital_loss', 'hours_per_week', 'native_country', 'income']\n",
            "\n",
            "\n"
          ],
          "name": "stdout"
        },
        {
          "output_type": "execute_result",
          "data": {
            "text/html": [
              "<div>\n",
              "<style scoped>\n",
              "    .dataframe tbody tr th:only-of-type {\n",
              "        vertical-align: middle;\n",
              "    }\n",
              "\n",
              "    .dataframe tbody tr th {\n",
              "        vertical-align: top;\n",
              "    }\n",
              "\n",
              "    .dataframe thead th {\n",
              "        text-align: right;\n",
              "    }\n",
              "</style>\n",
              "<table border=\"1\" class=\"dataframe\">\n",
              "  <thead>\n",
              "    <tr style=\"text-align: right;\">\n",
              "      <th></th>\n",
              "      <th>label</th>\n",
              "      <th>features</th>\n",
              "      <th>age</th>\n",
              "      <th>workclass</th>\n",
              "      <th>fnlwgt</th>\n",
              "      <th>education</th>\n",
              "      <th>education_num</th>\n",
              "      <th>marital_status</th>\n",
              "      <th>occupation</th>\n",
              "      <th>relationship</th>\n",
              "      <th>race</th>\n",
              "      <th>sex</th>\n",
              "      <th>capital_gain</th>\n",
              "      <th>capital_loss</th>\n",
              "      <th>hours_per_week</th>\n",
              "      <th>native_country</th>\n",
              "      <th>income</th>\n",
              "    </tr>\n",
              "  </thead>\n",
              "  <tbody>\n",
              "    <tr>\n",
              "      <th>0</th>\n",
              "      <td>0.0</td>\n",
              "      <td>(0.0, 0.0, 0.0, 0.0, 1.0, 0.0, 0.0, 0.0, 0.0, ...</td>\n",
              "      <td>39.0</td>\n",
              "      <td>State-gov</td>\n",
              "      <td>77516.0</td>\n",
              "      <td>Bachelors</td>\n",
              "      <td>13.0</td>\n",
              "      <td>Never-married</td>\n",
              "      <td>Adm-clerical</td>\n",
              "      <td>Not-in-family</td>\n",
              "      <td>White</td>\n",
              "      <td>Male</td>\n",
              "      <td>2174.0</td>\n",
              "      <td>0.0</td>\n",
              "      <td>40.0</td>\n",
              "      <td>United-States</td>\n",
              "      <td>&lt;=50K</td>\n",
              "    </tr>\n",
              "    <tr>\n",
              "      <th>1</th>\n",
              "      <td>0.0</td>\n",
              "      <td>(0.0, 1.0, 0.0, 0.0, 0.0, 0.0, 0.0, 0.0, 0.0, ...</td>\n",
              "      <td>50.0</td>\n",
              "      <td>Self-emp-not-inc</td>\n",
              "      <td>83311.0</td>\n",
              "      <td>Bachelors</td>\n",
              "      <td>13.0</td>\n",
              "      <td>Married-civ-spouse</td>\n",
              "      <td>Exec-managerial</td>\n",
              "      <td>Husband</td>\n",
              "      <td>White</td>\n",
              "      <td>Male</td>\n",
              "      <td>0.0</td>\n",
              "      <td>0.0</td>\n",
              "      <td>13.0</td>\n",
              "      <td>United-States</td>\n",
              "      <td>&lt;=50K</td>\n",
              "    </tr>\n",
              "    <tr>\n",
              "      <th>2</th>\n",
              "      <td>0.0</td>\n",
              "      <td>(1.0, 0.0, 0.0, 0.0, 0.0, 0.0, 0.0, 0.0, 1.0, ...</td>\n",
              "      <td>38.0</td>\n",
              "      <td>Private</td>\n",
              "      <td>215646.0</td>\n",
              "      <td>HS-grad</td>\n",
              "      <td>9.0</td>\n",
              "      <td>Divorced</td>\n",
              "      <td>Handlers-cleaners</td>\n",
              "      <td>Not-in-family</td>\n",
              "      <td>White</td>\n",
              "      <td>Male</td>\n",
              "      <td>0.0</td>\n",
              "      <td>0.0</td>\n",
              "      <td>40.0</td>\n",
              "      <td>United-States</td>\n",
              "      <td>&lt;=50K</td>\n",
              "    </tr>\n",
              "    <tr>\n",
              "      <th>3</th>\n",
              "      <td>0.0</td>\n",
              "      <td>(1.0, 0.0, 0.0, 0.0, 0.0, 0.0, 0.0, 0.0, 0.0, ...</td>\n",
              "      <td>53.0</td>\n",
              "      <td>Private</td>\n",
              "      <td>234721.0</td>\n",
              "      <td>11th</td>\n",
              "      <td>7.0</td>\n",
              "      <td>Married-civ-spouse</td>\n",
              "      <td>Handlers-cleaners</td>\n",
              "      <td>Husband</td>\n",
              "      <td>Black</td>\n",
              "      <td>Male</td>\n",
              "      <td>0.0</td>\n",
              "      <td>0.0</td>\n",
              "      <td>40.0</td>\n",
              "      <td>United-States</td>\n",
              "      <td>&lt;=50K</td>\n",
              "    </tr>\n",
              "    <tr>\n",
              "      <th>4</th>\n",
              "      <td>0.0</td>\n",
              "      <td>(1.0, 0.0, 0.0, 0.0, 0.0, 0.0, 0.0, 0.0, 0.0, ...</td>\n",
              "      <td>28.0</td>\n",
              "      <td>Private</td>\n",
              "      <td>338409.0</td>\n",
              "      <td>Bachelors</td>\n",
              "      <td>13.0</td>\n",
              "      <td>Married-civ-spouse</td>\n",
              "      <td>Prof-specialty</td>\n",
              "      <td>Wife</td>\n",
              "      <td>Black</td>\n",
              "      <td>Female</td>\n",
              "      <td>0.0</td>\n",
              "      <td>0.0</td>\n",
              "      <td>40.0</td>\n",
              "      <td>Cuba</td>\n",
              "      <td>&lt;=50K</td>\n",
              "    </tr>\n",
              "  </tbody>\n",
              "</table>\n",
              "</div>"
            ],
            "text/plain": [
              "   label  ... income\n",
              "0    0.0  ...  <=50K\n",
              "1    0.0  ...  <=50K\n",
              "2    0.0  ...  <=50K\n",
              "3    0.0  ...  <=50K\n",
              "4    0.0  ...  <=50K\n",
              "\n",
              "[5 rows x 17 columns]"
            ]
          },
          "metadata": {
            "tags": []
          },
          "execution_count": 48
        }
      ]
    },
    {
      "cell_type": "markdown",
      "metadata": {
        "id": "hU7ozg8b_Am_"
      },
      "source": [
        "<br>\n",
        "\n",
        "Splitting"
      ]
    },
    {
      "cell_type": "code",
      "metadata": {
        "id": "KjttHATE5DrD",
        "colab": {
          "base_uri": "https://localhost:8080/",
          "height": 53
        },
        "outputId": "899aaaae-d271-441c-ebdb-f9c0778228a4"
      },
      "source": [
        "# Randomly split the data into training and test sets. \n",
        "# Set seed for reproducibility.\n",
        "(trainingData, testData) = dataset.randomSplit([0.7, 0.3], seed=100)\n",
        "print(trainingData.count())\n",
        "print(testData.count())"
      ],
      "execution_count": null,
      "outputs": [
        {
          "output_type": "stream",
          "text": [
            "22838\n",
            "9723\n"
          ],
          "name": "stdout"
        }
      ]
    },
    {
      "cell_type": "markdown",
      "metadata": {
        "id": "GKuGPzlB_KkI"
      },
      "source": [
        "<br>\n",
        "\n",
        "Positive Rate"
      ]
    },
    {
      "cell_type": "code",
      "metadata": {
        "id": "upYfqm9O5DrG",
        "colab": {
          "base_uri": "https://localhost:8080/",
          "height": 35
        },
        "outputId": "959a937c-16ef-493a-b089-8ed303809da5"
      },
      "source": [
        "# Get the positive outcome rate from the training data to use as a threshold in the model\n",
        "training_data_positive_rate = trainingData.select(avg(trainingData['label'])).collect()[0][0]\n",
        "print(\"Positive rate in the training data is {:.9f}\".format(training_data_positive_rate))"
      ],
      "execution_count": null,
      "outputs": [
        {
          "output_type": "stream",
          "text": [
            "Positive rate in the training data is 0.239337946\n"
          ],
          "name": "stdout"
        }
      ]
    },
    {
      "cell_type": "markdown",
      "metadata": {
        "id": "Lo3pVadQ5DrK"
      },
      "source": [
        "<br>\n",
        "<br>\n",
        "\n",
        "\n",
        "## Logistic Regression"
      ]
    },
    {
      "cell_type": "markdown",
      "metadata": {
        "id": "HjIlJ3htPfsh"
      },
      "source": [
        "### Training"
      ]
    },
    {
      "cell_type": "code",
      "metadata": {
        "id": "5uch2LSa5DrL"
      },
      "source": [
        "# Create initial LogisticRegression model\n",
        "lr = LogisticRegression(labelCol=\"label\", featuresCol=\"features\", maxIter=10)\n",
        "\n",
        "# Set the threshold probability; above this value the prediction is 1\n",
        "# In the case of a balanced data set, lr.setThreshold(0.5)\n",
        "lr.setThreshold(training_data_positive_rate)\n",
        "\n",
        "# Train the model using the training data\n",
        "lrModel = lr.fit(trainingData)"
      ],
      "execution_count": null,
      "outputs": []
    },
    {
      "cell_type": "code",
      "metadata": {
        "id": "k2cd3yZthnW2"
      },
      "source": [
        "# Training summary: evaluation metrics, etc.\n",
        "# Study lrTrainingSummary...\n",
        "lrTrainingSummary = lrModel.summary"
      ],
      "execution_count": null,
      "outputs": []
    },
    {
      "cell_type": "markdown",
      "metadata": {
        "id": "4Si6_HDsjS-K"
      },
      "source": [
        "<br>\n",
        "\n",
        "Find the best model threshold via F-Measure; this can be used in-place-of of the empirical threshold above, i.e., instead of `training_data_positive_rate`"
      ]
    },
    {
      "cell_type": "code",
      "metadata": {
        "id": "XI6k6M1ShkBi",
        "colab": {
          "base_uri": "https://localhost:8080/",
          "height": 489
        },
        "outputId": "f055e889-1560-4f95-ef3b-051d689ab773"
      },
      "source": [
        "fMeasure = lrTrainingSummary.fMeasureByThreshold\n",
        "fMeasure.show()"
      ],
      "execution_count": null,
      "outputs": [
        {
          "output_type": "stream",
          "text": [
            "+------------------+-------------------+\n",
            "|         threshold|          F-Measure|\n",
            "+------------------+-------------------+\n",
            "|0.9881789774376804|0.07938180540920269|\n",
            "|0.9522596232935533|0.15096251266464034|\n",
            "|0.9128821906475122|0.21333333333333332|\n",
            "|0.8783568138482458|0.26842270304170585|\n",
            "| 0.846832504981947| 0.3181955797759612|\n",
            "|0.8197598874826746|   0.36318407960199|\n",
            "|0.7936590401209885|0.40413480600396484|\n",
            "|0.7675198419482364|0.44005486968449925|\n",
            "|0.7407496558430026| 0.4722000532056398|\n",
            "|0.7176989006934128| 0.5019364833462432|\n",
            "|0.6930691876666157| 0.5282167042889391|\n",
            "|0.6694522228757335| 0.5491343574737869|\n",
            "|0.6465244034563071| 0.5686832740213523|\n",
            "|0.6233901143828772| 0.5902055902055902|\n",
            "|0.6014494446349671| 0.6036461850101282|\n",
            "|0.5789524502571417| 0.6197059468948869|\n",
            "|0.5578027177842299| 0.6339113680154143|\n",
            "|0.5359313569334495| 0.6430512016718913|\n",
            "|0.5142971230309104| 0.6505409267197386|\n",
            "|0.4947275202645046| 0.6584879313784161|\n",
            "+------------------+-------------------+\n",
            "only showing top 20 rows\n",
            "\n"
          ],
          "name": "stdout"
        }
      ]
    },
    {
      "cell_type": "markdown",
      "metadata": {
        "id": "2EsYYRDQo9d-"
      },
      "source": [
        "<br>\n",
        "\n",
        "**Original Approach**\n",
        "\n",
        "The best threshold w.r.t. maximum F-Measure"
      ]
    },
    {
      "cell_type": "code",
      "metadata": {
        "id": "S7GXNVKFjgtg"
      },
      "source": [
        "# maxFMeasure = fMeasure.groupBy().max('F-Measure').select('max(F-Measure)').head()\n",
        "# lrBestThreshold = (fMeasure.where(fMeasure['F-Measure'] == maxFMeasure['max(F-Measure)'])\n",
        "#                            .select('threshold').head()['threshold'])\n",
        "  \n",
        "# print(\"Best threshold based on model performance on training data is {:.9f}\".format(lrBestThreshold))"
      ],
      "execution_count": null,
      "outputs": []
    },
    {
      "cell_type": "markdown",
      "metadata": {
        "id": "ruow5fU9oW7f"
      },
      "source": [
        "<br>\n",
        "\n",
        "**Alternative Approach**"
      ]
    },
    {
      "cell_type": "code",
      "metadata": {
        "id": "_HjAeIRIkitb",
        "colab": {
          "base_uri": "https://localhost:8080/",
          "height": 35
        },
        "outputId": "6992ad11-3a77-45ce-a924-fa48d4893caf"
      },
      "source": [
        "maxFMeasure = fMeasure.agg({'F-Measure': 'max'}).collect()[0][0]\n",
        "lrBestThreshold = fMeasure.filter( fMeasure['F-Measure'] == maxFMeasure ).collect()[0]['threshold']\n",
        "\n",
        "f\"Best threshold based on model performance on training data is {lrBestThreshold:.9f}\""
      ],
      "execution_count": null,
      "outputs": [
        {
          "output_type": "execute_result",
          "data": {
            "text/plain": [
              "'Best threshold based on model performance on training data is 0.333456401'"
            ]
          },
          "metadata": {
            "tags": []
          },
          "execution_count": 55
        }
      ]
    },
    {
      "cell_type": "markdown",
      "metadata": {
        "id": "MZZGcF285DrO"
      },
      "source": [
        "<br>\n",
        "<br>\n",
        "\n",
        "### Predictions"
      ]
    },
    {
      "cell_type": "markdown",
      "metadata": {
        "id": "T8DXvfrvUKaG"
      },
      "source": [
        "Re-build."
      ]
    },
    {
      "cell_type": "code",
      "metadata": {
        "id": "wWHuLSkt5DrQ",
        "colab": {
          "base_uri": "https://localhost:8080/",
          "height": 53
        },
        "outputId": "9d617d07-261a-4318-cc76-fe1df9469457"
      },
      "source": [
        "# Check current model prediction threshold\n",
        "print(training_data_positive_rate)\n",
        "lrModel._java_obj.getThreshold()"
      ],
      "execution_count": null,
      "outputs": [
        {
          "output_type": "stream",
          "text": [
            "0.23933794552938087\n"
          ],
          "name": "stdout"
        },
        {
          "output_type": "execute_result",
          "data": {
            "text/plain": [
              "0.23933794552938087"
            ]
          },
          "metadata": {
            "tags": []
          },
          "execution_count": 56
        }
      ]
    },
    {
      "cell_type": "code",
      "metadata": {
        "id": "egbdlMab5DrU",
        "colab": {
          "base_uri": "https://localhost:8080/",
          "height": 53
        },
        "outputId": "ffd645c5-4e67-4e70-b025-9ddc3ab2685c"
      },
      "source": [
        "# Rebuild the model using the optimal threshold of the training stage\n",
        "lr = LogisticRegression(labelCol=\"label\", featuresCol=\"features\", maxIter=10)\n",
        "\n",
        "# Set the threshold probability; above this value the prediction is 1\n",
        "lr.setThreshold(lrBestThreshold)\n",
        "\n",
        "# Train the model using the training data\n",
        "lrModel = lr.fit(trainingData)\n",
        "\n",
        "print(lrBestThreshold)\n",
        "lrModel._java_obj.getThreshold()"
      ],
      "execution_count": null,
      "outputs": [
        {
          "output_type": "stream",
          "text": [
            "0.3334564005935537\n"
          ],
          "name": "stdout"
        },
        {
          "output_type": "execute_result",
          "data": {
            "text/plain": [
              "0.3334564005935537"
            ]
          },
          "metadata": {
            "tags": []
          },
          "execution_count": 57
        }
      ]
    },
    {
      "cell_type": "markdown",
      "metadata": {
        "id": "DdlOY9s0UCz4"
      },
      "source": [
        "<br>\n",
        "\n",
        "Hence, predictions."
      ]
    },
    {
      "cell_type": "code",
      "metadata": {
        "id": "-7YpGHth5DrX",
        "colab": {
          "base_uri": "https://localhost:8080/",
          "height": 363
        },
        "outputId": "7b65f58d-79dc-41f2-c142-1d58ffd55aea"
      },
      "source": [
        "# Make predictions via the test data\n",
        "lrPredictions = lrModel.transform(testData)\n",
        "\n",
        "# Display predictions\n",
        "lrPredictions.select(\"label\", \"prediction\", \"probability\").limit(10).toPandas()"
      ],
      "execution_count": null,
      "outputs": [
        {
          "output_type": "execute_result",
          "data": {
            "text/html": [
              "<div>\n",
              "<style scoped>\n",
              "    .dataframe tbody tr th:only-of-type {\n",
              "        vertical-align: middle;\n",
              "    }\n",
              "\n",
              "    .dataframe tbody tr th {\n",
              "        vertical-align: top;\n",
              "    }\n",
              "\n",
              "    .dataframe thead th {\n",
              "        text-align: right;\n",
              "    }\n",
              "</style>\n",
              "<table border=\"1\" class=\"dataframe\">\n",
              "  <thead>\n",
              "    <tr style=\"text-align: right;\">\n",
              "      <th></th>\n",
              "      <th>label</th>\n",
              "      <th>prediction</th>\n",
              "      <th>probability</th>\n",
              "    </tr>\n",
              "  </thead>\n",
              "  <tbody>\n",
              "    <tr>\n",
              "      <th>0</th>\n",
              "      <td>0.0</td>\n",
              "      <td>0.0</td>\n",
              "      <td>[0.6922983871168307, 0.30770161288316944]</td>\n",
              "    </tr>\n",
              "    <tr>\n",
              "      <th>1</th>\n",
              "      <td>0.0</td>\n",
              "      <td>1.0</td>\n",
              "      <td>[0.6211120976664523, 0.3788879023335478]</td>\n",
              "    </tr>\n",
              "    <tr>\n",
              "      <th>2</th>\n",
              "      <td>0.0</td>\n",
              "      <td>1.0</td>\n",
              "      <td>[0.6584122200236687, 0.3415877799763313]</td>\n",
              "    </tr>\n",
              "    <tr>\n",
              "      <th>3</th>\n",
              "      <td>0.0</td>\n",
              "      <td>1.0</td>\n",
              "      <td>[0.6582271564526575, 0.34177284354734244]</td>\n",
              "    </tr>\n",
              "    <tr>\n",
              "      <th>4</th>\n",
              "      <td>0.0</td>\n",
              "      <td>1.0</td>\n",
              "      <td>[0.615005375173587, 0.38499462482641306]</td>\n",
              "    </tr>\n",
              "    <tr>\n",
              "      <th>5</th>\n",
              "      <td>0.0</td>\n",
              "      <td>1.0</td>\n",
              "      <td>[0.5398470871555112, 0.46015291284448884]</td>\n",
              "    </tr>\n",
              "    <tr>\n",
              "      <th>6</th>\n",
              "      <td>0.0</td>\n",
              "      <td>1.0</td>\n",
              "      <td>[0.6004373110540357, 0.3995626889459642]</td>\n",
              "    </tr>\n",
              "    <tr>\n",
              "      <th>7</th>\n",
              "      <td>0.0</td>\n",
              "      <td>1.0</td>\n",
              "      <td>[0.5898543397425517, 0.41014566025744825]</td>\n",
              "    </tr>\n",
              "    <tr>\n",
              "      <th>8</th>\n",
              "      <td>0.0</td>\n",
              "      <td>1.0</td>\n",
              "      <td>[0.5824255739342137, 0.4175744260657862]</td>\n",
              "    </tr>\n",
              "    <tr>\n",
              "      <th>9</th>\n",
              "      <td>0.0</td>\n",
              "      <td>1.0</td>\n",
              "      <td>[0.5920238300589081, 0.40797616994109187]</td>\n",
              "    </tr>\n",
              "  </tbody>\n",
              "</table>\n",
              "</div>"
            ],
            "text/plain": [
              "   label  prediction                                probability\n",
              "0    0.0         0.0  [0.6922983871168307, 0.30770161288316944]\n",
              "1    0.0         1.0   [0.6211120976664523, 0.3788879023335478]\n",
              "2    0.0         1.0   [0.6584122200236687, 0.3415877799763313]\n",
              "3    0.0         1.0  [0.6582271564526575, 0.34177284354734244]\n",
              "4    0.0         1.0   [0.615005375173587, 0.38499462482641306]\n",
              "5    0.0         1.0  [0.5398470871555112, 0.46015291284448884]\n",
              "6    0.0         1.0   [0.6004373110540357, 0.3995626889459642]\n",
              "7    0.0         1.0  [0.5898543397425517, 0.41014566025744825]\n",
              "8    0.0         1.0   [0.5824255739342137, 0.4175744260657862]\n",
              "9    0.0         1.0  [0.5920238300589081, 0.40797616994109187]"
            ]
          },
          "metadata": {
            "tags": []
          },
          "execution_count": 58
        }
      ]
    },
    {
      "cell_type": "markdown",
      "metadata": {
        "id": "fwiuZF7oN4lu"
      },
      "source": [
        "<br>\n",
        "\n",
        "Just curious"
      ]
    },
    {
      "cell_type": "code",
      "metadata": {
        "id": "Xy2aJb0Fq5yF"
      },
      "source": [
        "observations = lrPredictions.withColumn('status', lrPredictions['label'] == lrPredictions['prediction'])\n",
        "matching = observations.select( when ( observations['status'] == True, 1 ).otherwise(0).alias('status') )"
      ],
      "execution_count": null,
      "outputs": []
    },
    {
      "cell_type": "code",
      "metadata": {
        "id": "3Rt0uCAg45OO",
        "colab": {
          "base_uri": "https://localhost:8080/",
          "height": 35
        },
        "outputId": "b921eb46-b1e6-48e9-f10c-d0d88fdd6a1f"
      },
      "source": [
        "# Either\n",
        "matching.agg( round(avg('status'), 3).alias('average') ).collect()[0]['average']"
      ],
      "execution_count": null,
      "outputs": [
        {
          "output_type": "execute_result",
          "data": {
            "text/plain": [
              "0.831"
            ]
          },
          "metadata": {
            "tags": []
          },
          "execution_count": 60
        }
      ]
    },
    {
      "cell_type": "code",
      "metadata": {
        "id": "iKa38um72Yc8",
        "colab": {
          "base_uri": "https://localhost:8080/",
          "height": 35
        },
        "outputId": "2f3e6d46-2748-40bd-befd-829df70febda"
      },
      "source": [
        "# Or\n",
        "fraction = matching.agg( sum('status').alias('n') ).collect()[0]['n'] / matching.count()\n",
        "f\"{fraction:.3f}\""
      ],
      "execution_count": null,
      "outputs": [
        {
          "output_type": "execute_result",
          "data": {
            "text/plain": [
              "'0.831'"
            ]
          },
          "metadata": {
            "tags": []
          },
          "execution_count": 61
        }
      ]
    },
    {
      "cell_type": "markdown",
      "metadata": {
        "id": "oLGF57vz5Drb"
      },
      "source": [
        "<br>\n",
        "<br>\n",
        "\n",
        "## Gradient Boosting Machines (GBM)\n",
        "\n",
        "Here you will train your own GBM Classifier and make predictions"
      ]
    },
    {
      "cell_type": "markdown",
      "metadata": {
        "id": "ywyn1c6g5Drc"
      },
      "source": [
        "### Q3: Training\n",
        "\n",
        "\n",
        "Train a GBTClassifier using the training data, call the trained model `gbModel`.  Note: You don't need to set a prediction threshold here, just train a vanilla GBM model."
      ]
    },
    {
      "cell_type": "code",
      "metadata": {
        "id": "4Rw0_NAW5Dre"
      },
      "source": [
        "# Defaults at https://spark.apache.org/docs/2.4.4/api/python/pyspark.ml.html#module-pyspark.ml.classification\n",
        "\n",
        "# Gradient Boosted Trees Classifier Instance\n",
        "gb = GBTClassifier(labelCol='label', featuresCol='features')\n",
        "\n",
        "# Train\n",
        "gbModel = gb.fit(trainingData)"
      ],
      "execution_count": null,
      "outputs": []
    },
    {
      "cell_type": "markdown",
      "metadata": {
        "id": "gy7DZzAo5Dri"
      },
      "source": [
        "<br>\n",
        "<br>\n",
        "\n",
        "### Q4: Predictions\n",
        "\n",
        "\n",
        "Get the predictions w.r.t. the test data.  Name the predictions dataframe `gbPredictions` and display the first 10 records."
      ]
    },
    {
      "cell_type": "code",
      "metadata": {
        "id": "UCTW6ZL65Dri",
        "colab": {
          "base_uri": "https://localhost:8080/",
          "height": 363
        },
        "outputId": "03e55f6f-b38f-4650-ff2c-f103f9d88d83"
      },
      "source": [
        "gbPredictions = gbModel.transform(testData)\n",
        "gbPredictions.select(\"label\", \"prediction\", \"probability\", \"rawPrediction\").limit(10).toPandas()"
      ],
      "execution_count": null,
      "outputs": [
        {
          "output_type": "execute_result",
          "data": {
            "text/html": [
              "<div>\n",
              "<style scoped>\n",
              "    .dataframe tbody tr th:only-of-type {\n",
              "        vertical-align: middle;\n",
              "    }\n",
              "\n",
              "    .dataframe tbody tr th {\n",
              "        vertical-align: top;\n",
              "    }\n",
              "\n",
              "    .dataframe thead th {\n",
              "        text-align: right;\n",
              "    }\n",
              "</style>\n",
              "<table border=\"1\" class=\"dataframe\">\n",
              "  <thead>\n",
              "    <tr style=\"text-align: right;\">\n",
              "      <th></th>\n",
              "      <th>label</th>\n",
              "      <th>prediction</th>\n",
              "      <th>probability</th>\n",
              "      <th>rawPrediction</th>\n",
              "    </tr>\n",
              "  </thead>\n",
              "  <tbody>\n",
              "    <tr>\n",
              "      <th>0</th>\n",
              "      <td>0.0</td>\n",
              "      <td>0.0</td>\n",
              "      <td>[0.812999752839707, 0.18700024716029295]</td>\n",
              "      <td>[0.7348104334855271, -0.7348104334855271]</td>\n",
              "    </tr>\n",
              "    <tr>\n",
              "      <th>1</th>\n",
              "      <td>0.0</td>\n",
              "      <td>0.0</td>\n",
              "      <td>[0.75060836443013, 0.24939163556986998]</td>\n",
              "      <td>[0.5509297679130609, -0.5509297679130609]</td>\n",
              "    </tr>\n",
              "    <tr>\n",
              "      <th>2</th>\n",
              "      <td>0.0</td>\n",
              "      <td>0.0</td>\n",
              "      <td>[0.75060836443013, 0.24939163556986998]</td>\n",
              "      <td>[0.5509297679130609, -0.5509297679130609]</td>\n",
              "    </tr>\n",
              "    <tr>\n",
              "      <th>3</th>\n",
              "      <td>0.0</td>\n",
              "      <td>0.0</td>\n",
              "      <td>[0.7375857220003627, 0.26241427799963735]</td>\n",
              "      <td>[0.5167289229911398, -0.5167289229911398]</td>\n",
              "    </tr>\n",
              "    <tr>\n",
              "      <th>4</th>\n",
              "      <td>0.0</td>\n",
              "      <td>0.0</td>\n",
              "      <td>[0.5395684793967337, 0.4604315206032663]</td>\n",
              "      <td>[0.07930278492418873, -0.07930278492418873]</td>\n",
              "    </tr>\n",
              "    <tr>\n",
              "      <th>5</th>\n",
              "      <td>0.0</td>\n",
              "      <td>0.0</td>\n",
              "      <td>[0.5426622730931254, 0.4573377269068746]</td>\n",
              "      <td>[0.08553251754252839, -0.08553251754252839]</td>\n",
              "    </tr>\n",
              "    <tr>\n",
              "      <th>6</th>\n",
              "      <td>0.0</td>\n",
              "      <td>0.0</td>\n",
              "      <td>[0.5838527646913241, 0.4161472353086759]</td>\n",
              "      <td>[0.169304853557165, -0.169304853557165]</td>\n",
              "    </tr>\n",
              "    <tr>\n",
              "      <th>7</th>\n",
              "      <td>0.0</td>\n",
              "      <td>0.0</td>\n",
              "      <td>[0.5838527646913241, 0.4161472353086759]</td>\n",
              "      <td>[0.169304853557165, -0.169304853557165]</td>\n",
              "    </tr>\n",
              "    <tr>\n",
              "      <th>8</th>\n",
              "      <td>0.0</td>\n",
              "      <td>0.0</td>\n",
              "      <td>[0.7248518597139232, 0.2751481402860768]</td>\n",
              "      <td>[0.48432882898678653, -0.48432882898678653]</td>\n",
              "    </tr>\n",
              "    <tr>\n",
              "      <th>9</th>\n",
              "      <td>0.0</td>\n",
              "      <td>0.0</td>\n",
              "      <td>[0.7248518597139232, 0.2751481402860768]</td>\n",
              "      <td>[0.48432882898678653, -0.48432882898678653]</td>\n",
              "    </tr>\n",
              "  </tbody>\n",
              "</table>\n",
              "</div>"
            ],
            "text/plain": [
              "   label  ...                                rawPrediction\n",
              "0    0.0  ...    [0.7348104334855271, -0.7348104334855271]\n",
              "1    0.0  ...    [0.5509297679130609, -0.5509297679130609]\n",
              "2    0.0  ...    [0.5509297679130609, -0.5509297679130609]\n",
              "3    0.0  ...    [0.5167289229911398, -0.5167289229911398]\n",
              "4    0.0  ...  [0.07930278492418873, -0.07930278492418873]\n",
              "5    0.0  ...  [0.08553251754252839, -0.08553251754252839]\n",
              "6    0.0  ...      [0.169304853557165, -0.169304853557165]\n",
              "7    0.0  ...      [0.169304853557165, -0.169304853557165]\n",
              "8    0.0  ...  [0.48432882898678653, -0.48432882898678653]\n",
              "9    0.0  ...  [0.48432882898678653, -0.48432882898678653]\n",
              "\n",
              "[10 rows x 4 columns]"
            ]
          },
          "metadata": {
            "tags": []
          },
          "execution_count": 63
        }
      ]
    },
    {
      "cell_type": "markdown",
      "metadata": {
        "id": "3d9guZA55Drl"
      },
      "source": [
        "<br>\n",
        "<br>\n",
        "\n",
        "\n",
        "## Model Performance Evaluation\n"
      ]
    },
    {
      "cell_type": "markdown",
      "metadata": {
        "id": "gkBnrlPN5Drm"
      },
      "source": [
        "### Q5: Logistic Regression - Evaluation\n",
        "\n",
        "The `print_performance_metrics()` function below has been completed to include measures of F1, Precision, Recall, False Positive Rate and True Positive Rate."
      ]
    },
    {
      "cell_type": "markdown",
      "metadata": {
        "id": "GmA5iC6rxnCM"
      },
      "source": [
        "**Notes**\n",
        "\n",
        "The confusion matrix structure is\n",
        "\n",
        "* DenseMatrix(numRows, numColumns [ CV of Label 0.0 | CV of Label 1.0, ... ] )\n",
        "\n",
        "wherein CV denotes *column values*.  Use `pyspark.mllib.linalg.DenseMatrix().values[...]`, and numRows & numColumns, to extract data per column.\n",
        "\n",
        "Binary Case:\n",
        "\n",
        "* Column 1: [true negative, false negative]\n",
        "* Column 2: [false positive, true positive] \n",
        "\n"
      ]
    },
    {
      "cell_type": "code",
      "metadata": {
        "id": "C2CqMcOn5Drn",
        "colab": {
          "base_uri": "https://localhost:8080/",
          "height": 235
        },
        "outputId": "33cbcfd0-8432-4e64-a08d-8fef61220de7"
      },
      "source": [
        "def print_performance_metrics(predictions):\n",
        "  \n",
        "    # Evaluate model\n",
        "    evaluator = BinaryClassificationEvaluator(rawPredictionCol=\"rawPrediction\")\n",
        "    auc = evaluator.evaluate(predictions, {evaluator.metricName: \"areaUnderROC\"})\n",
        "    aupr = evaluator.evaluate(predictions, {evaluator.metricName: \"areaUnderPR\"})\n",
        "    print(\"auc = {}\".format(auc))\n",
        "    print(\"aupr = {}\".format(aupr))\n",
        "\n",
        "    # Get RDD of predictions and labels for MLLib Evaluation Metrics\n",
        "    predictionAndLabels = predictions.select(\"prediction\",\"label\").rdd\n",
        "\n",
        "    # Instantiate metrics objects\n",
        "    binary_metrics = BinaryClassificationMetrics(predictionAndLabels)\n",
        "    multi_metrics = MulticlassMetrics(predictionAndLabels)\n",
        "\n",
        "    # Area under precision-recall curve\n",
        "    print(\"Area under PR = {}\".format(binary_metrics.areaUnderPR))\n",
        "    # Area under ROC curve\n",
        "    print(\"Area under ROC = {}\".format(binary_metrics.areaUnderROC))\n",
        "    # Accuracy\n",
        "    print(\"Accuracy = {}\".format(multi_metrics.accuracy))\n",
        "    # Confusion Matrix\n",
        "    print(multi_metrics.confusionMatrix())\n",
        "\n",
        "    \n",
        "    # Question 5:\n",
        "\n",
        "    # F1\n",
        "    print(\"F1 = {}\".format(multi_metrics.fMeasure(1.0)))\n",
        "    # Precision\n",
        "    print(\"Precision = {}\".format(multi_metrics.precision(1.0)))\n",
        "    # Recall\n",
        "    print(\"Recall = {}\".format(multi_metrics.recall(1.0)))\n",
        "    # FPR\n",
        "    print(\"FPR = {}\".format(multi_metrics.falsePositiveRate(1.0)))\n",
        "    # TPR\n",
        "    print(\"TPR = {}\".format(multi_metrics.truePositiveRate(1.0)))\n",
        "  \n",
        "  \n",
        "print_performance_metrics(lrPredictions)"
      ],
      "execution_count": null,
      "outputs": [
        {
          "output_type": "stream",
          "text": [
            "auc = 0.9014257227172442\n",
            "aupr = 0.7619488323138868\n",
            "Area under PR = 0.5804249782122693\n",
            "Area under ROC = 0.8051474658338825\n",
            "Accuracy = 0.8306078370873188\n",
            "DenseMatrix([[6282., 1066.],\n",
            "             [ 581., 1794.]])\n",
            "F1 = 0.6853868194842407\n",
            "Precision = 0.6272727272727273\n",
            "Recall = 0.7553684210526316\n",
            "FPR = 0.14507348938486664\n",
            "TPR = 0.7553684210526316\n"
          ],
          "name": "stdout"
        }
      ]
    },
    {
      "cell_type": "markdown",
      "metadata": {
        "id": "ExhVzNYA5Drq"
      },
      "source": [
        "<br>\n",
        "<br>\n",
        "\n",
        "### Q6: GBM - Evaluation\n",
        "\n",
        "Now use the `print_performance_metrics()` function to evaluate the performance of the GBM model and compare the results"
      ]
    },
    {
      "cell_type": "code",
      "metadata": {
        "id": "ZKT11A8A5Drt",
        "colab": {
          "base_uri": "https://localhost:8080/",
          "height": 235
        },
        "outputId": "8e77b072-c42a-46c0-a046-8c49a552a46e"
      },
      "source": [
        "print_performance_metrics(gbPredictions)"
      ],
      "execution_count": null,
      "outputs": [
        {
          "output_type": "stream",
          "text": [
            "auc = 0.9072553075666856\n",
            "aupr = 0.7831944839382936\n",
            "Area under PR = 0.6545606985443647\n",
            "Area under ROC = 0.7660726585107297\n",
            "Accuracy = 0.8546744831842024\n",
            "DenseMatrix([[6902.,  446.],\n",
            "             [ 967., 1408.]])\n",
            "F1 = 0.6658784582643652\n",
            "Precision = 0.7594390507011867\n",
            "Recall = 0.592842105263158\n",
            "FPR = 0.06069678824169842\n",
            "TPR = 0.592842105263158\n"
          ],
          "name": "stdout"
        }
      ]
    },
    {
      "cell_type": "markdown",
      "metadata": {
        "id": "0EREDYLO54Pz"
      },
      "source": [
        "<br>\n",
        "\n",
        "### Q5 & Q6\n",
        "\n",
        "* The false positive rate of the Gradient Boosting model is relatively, and actually, excellent."
      ]
    },
    {
      "cell_type": "markdown",
      "metadata": {
        "id": "nlKm7Z465Drv"
      },
      "source": [
        "<br>\n",
        "<br>\n",
        "\n",
        "## Cross Validation\n",
        "\n",
        "The explainParams() method outlines and briefly explains a model's parameters."
      ]
    },
    {
      "cell_type": "code",
      "metadata": {
        "id": "jKptkvsd5Drw",
        "colab": {
          "base_uri": "https://localhost:8080/",
          "height": 400
        },
        "outputId": "feedc1df-73d2-4eb6-fcc6-0ca7e2f7f07e"
      },
      "source": [
        "print(lr.explainParams())"
      ],
      "execution_count": null,
      "outputs": [
        {
          "output_type": "stream",
          "text": [
            "aggregationDepth: suggested depth for treeAggregate (>= 2). (default: 2)\n",
            "elasticNetParam: the ElasticNet mixing parameter, in range [0, 1]. For alpha = 0, the penalty is an L2 penalty. For alpha = 1, it is an L1 penalty. (default: 0.0)\n",
            "family: The name of family which is a description of the label distribution to be used in the model. Supported options: auto, binomial, multinomial (default: auto)\n",
            "featuresCol: features column name. (default: features, current: features)\n",
            "fitIntercept: whether to fit an intercept term. (default: True)\n",
            "labelCol: label column name. (default: label, current: label)\n",
            "lowerBoundsOnCoefficients: The lower bounds on coefficients if fitting under bound constrained optimization. The bound matrix must be compatible with the shape (1, number of features) for binomial regression, or (number of classes, number of features) for multinomial regression. (undefined)\n",
            "lowerBoundsOnIntercepts: The lower bounds on intercepts if fitting under bound constrained optimization. The bounds vector size must beequal with 1 for binomial regression, or the number oflasses for multinomial regression. (undefined)\n",
            "maxIter: max number of iterations (>= 0). (default: 100, current: 10)\n",
            "predictionCol: prediction column name. (default: prediction)\n",
            "probabilityCol: Column name for predicted class conditional probabilities. Note: Not all models output well-calibrated probability estimates! These probabilities should be treated as confidences, not precise probabilities. (default: probability)\n",
            "rawPredictionCol: raw prediction (a.k.a. confidence) column name. (default: rawPrediction)\n",
            "regParam: regularization parameter (>= 0). (default: 0.0)\n",
            "standardization: whether to standardize the training features before fitting the model. (default: True)\n",
            "threshold: Threshold in binary classification prediction, in range [0, 1]. If threshold and thresholds are both set, they must match.e.g. if threshold is p, then thresholds must be equal to [1-p, p]. (default: 0.5, current: 0.3334564005935537)\n",
            "thresholds: Thresholds in multi-class classification to adjust the probability of predicting each class. Array must have length equal to the number of classes, with values > 0, excepting that at most one value may be 0. The class with largest value p/t is predicted, where p is the original probability of that class and t is the class's threshold. (undefined)\n",
            "tol: the convergence tolerance for iterative algorithms (>= 0). (default: 1e-06)\n",
            "upperBoundsOnCoefficients: The upper bounds on coefficients if fitting under bound constrained optimization. The bound matrix must be compatible with the shape (1, number of features) for binomial regression, or (number of classes, number of features) for multinomial regression. (undefined)\n",
            "upperBoundsOnIntercepts: The upper bounds on intercepts if fitting under bound constrained optimization. The bound vector size must be equal with 1 for binomial regression, or the number of classes for multinomial regression. (undefined)\n",
            "weightCol: weight column name. If this is not set or empty, we treat all instance weights as 1.0. (undefined)\n"
          ],
          "name": "stdout"
        }
      ]
    },
    {
      "cell_type": "code",
      "metadata": {
        "id": "9eYJsytT5Drz",
        "colab": {
          "base_uri": "https://localhost:8080/",
          "height": 328
        },
        "outputId": "12ab67b9-62aa-4a5a-a6d3-b2629259b698"
      },
      "source": [
        "print(gb.explainParams())"
      ],
      "execution_count": null,
      "outputs": [
        {
          "output_type": "stream",
          "text": [
            "cacheNodeIds: If false, the algorithm will pass trees to executors to match instances with nodes. If true, the algorithm will cache node IDs for each instance. Caching can speed up training of deeper trees. Users can set how often should the cache be checkpointed or disable it by setting checkpointInterval. (default: False)\n",
            "checkpointInterval: set checkpoint interval (>= 1) or disable checkpoint (-1). E.g. 10 means that the cache will get checkpointed every 10 iterations. Note: this setting will be ignored if the checkpoint directory is not set in the SparkContext. (default: 10)\n",
            "featureSubsetStrategy: The number of features to consider for splits at each tree node. Supported options: 'auto' (choose automatically for task: If numTrees == 1, set to 'all'. If numTrees > 1 (forest), set to 'sqrt' for classification and to 'onethird' for regression), 'all' (use all features), 'onethird' (use 1/3 of the features), 'sqrt' (use sqrt(number of features)), 'log2' (use log2(number of features)), 'n' (when n is in the range (0, 1.0], use n * number of features. When n is in the range (1, number of features), use n features). default = 'auto' (default: all)\n",
            "featuresCol: features column name. (default: features, current: features)\n",
            "labelCol: label column name. (default: label, current: label)\n",
            "lossType: Loss function which GBT tries to minimize (case-insensitive). Supported options: logistic (default: logistic)\n",
            "maxBins: Max number of bins for discretizing continuous features.  Must be >=2 and >= number of categories for any categorical feature. (default: 32)\n",
            "maxDepth: Maximum depth of the tree. (>= 0) E.g., depth 0 means 1 leaf node; depth 1 means 1 internal node + 2 leaf nodes. (default: 5)\n",
            "maxIter: max number of iterations (>= 0). (default: 20)\n",
            "maxMemoryInMB: Maximum memory in MB allocated to histogram aggregation. If too small, then 1 node will be split per iteration, and its aggregates may exceed this size. (default: 256)\n",
            "minInfoGain: Minimum information gain for a split to be considered at a tree node. (default: 0.0)\n",
            "minInstancesPerNode: Minimum number of instances each child must have after split. If a split causes the left or right child to have fewer than minInstancesPerNode, the split will be discarded as invalid. Should be >= 1. (default: 1)\n",
            "predictionCol: prediction column name. (default: prediction)\n",
            "seed: random seed. (default: 5126330653242323451)\n",
            "stepSize: Step size (a.k.a. learning rate) in interval (0, 1] for shrinking the contribution of each estimator. (default: 0.1)\n",
            "subsamplingRate: Fraction of the training data used for learning each decision tree, in range (0, 1]. (default: 1.0)\n"
          ],
          "name": "stdout"
        }
      ]
    },
    {
      "cell_type": "markdown",
      "metadata": {
        "id": "LcDqiUBb5Dr2"
      },
      "source": [
        "<br>\n",
        "<br>\n",
        "\n",
        "### Logistic Regression - Param Grid"
      ]
    },
    {
      "cell_type": "code",
      "metadata": {
        "id": "k5ysT5Rp5Dr3"
      },
      "source": [
        "# Create ParamGrid for Cross Validation\n",
        "lrParamGrid = (ParamGridBuilder()\n",
        "               .addGrid(lr.regParam, [0.01, 0.5, 2.0])\n",
        "               .addGrid(lr.elasticNetParam, [0.0, 0.5, 1.0])\n",
        "               .addGrid(lr.maxIter, [2, 5])\n",
        "               .build())"
      ],
      "execution_count": null,
      "outputs": []
    },
    {
      "cell_type": "code",
      "metadata": {
        "id": "dhSl-9AZ5Dr6",
        "colab": {
          "base_uri": "https://localhost:8080/",
          "height": 35
        },
        "outputId": "59078743-f5c3-47be-d8ca-17e66500235e"
      },
      "source": [
        "print('Total Models (with all hyperparameter combinations):', len(lrParamGrid))"
      ],
      "execution_count": null,
      "outputs": [
        {
          "output_type": "stream",
          "text": [
            "Total Models (with all hyperparameter combinations): 18\n"
          ],
          "name": "stdout"
        }
      ]
    },
    {
      "cell_type": "markdown",
      "metadata": {
        "id": "peIPKSn25DsI"
      },
      "source": [
        "<br>\n",
        "<br>\n",
        "\n",
        "### Q7: GBM - Param Grid\n",
        "Build out a param grid for the gb model, call it 'gbParamGrid'."
      ]
    },
    {
      "cell_type": "code",
      "metadata": {
        "id": "rSqOJs995DsI"
      },
      "source": [
        "gbParamGrid = (ParamGridBuilder()\n",
        "               .addGrid(gb.minInstancesPerNode, [1, 2, 4])\n",
        "               .addGrid(gb.maxDepth, [3, 4, 5])\n",
        "               .addGrid(gb.maxIter, [15, 20, 25])\n",
        "               .build())"
      ],
      "execution_count": null,
      "outputs": []
    },
    {
      "cell_type": "code",
      "metadata": {
        "id": "JbyyjXqt-YtO",
        "colab": {
          "base_uri": "https://localhost:8080/",
          "height": 35
        },
        "outputId": "f77773d6-f031-4c42-b0c3-6592995cbbc2"
      },
      "source": [
        "f\"Total number of models: {len(gbParamGrid)}\""
      ],
      "execution_count": null,
      "outputs": [
        {
          "output_type": "execute_result",
          "data": {
            "text/plain": [
              "'Total number of models: 27'"
            ]
          },
          "metadata": {
            "tags": []
          },
          "execution_count": 71
        }
      ]
    },
    {
      "cell_type": "markdown",
      "metadata": {
        "id": "HmHtxZl-5DsL"
      },
      "source": [
        "<br>\n",
        "<br>\n",
        "\n",
        "### Logistic Regression - Perform Cross Validation"
      ]
    },
    {
      "cell_type": "markdown",
      "metadata": {
        "id": "dbsn-LDH_Oj1"
      },
      "source": [
        "The next cell will probably take some time due to the number of models being created & tested."
      ]
    },
    {
      "cell_type": "code",
      "metadata": {
        "id": "aN1o873D5DsM"
      },
      "source": [
        "# Set-up an evaluator\n",
        "evaluator = BinaryClassificationEvaluator(rawPredictionCol=\"rawPrediction\")\n",
        "\n",
        "# Create CrossValidator\n",
        "lrCv = CrossValidator(estimator=lr, estimatorParamMaps=lrParamGrid, evaluator=evaluator, numFolds=3)\n",
        "\n",
        "# Run cross validations\n",
        "lrCvModel = lrCv.fit(trainingData)"
      ],
      "execution_count": null,
      "outputs": []
    },
    {
      "cell_type": "code",
      "metadata": {
        "id": "GZWU2Yk75DsP",
        "colab": {
          "base_uri": "https://localhost:8080/",
          "height": 72
        },
        "outputId": "eba39201-0682-4627-eb0d-ec03b60bdfd9"
      },
      "source": [
        "# The best parameters courtesy of CV\n",
        "print(lrCvModel.bestModel._java_obj.getRegParam())\n",
        "print(lrCvModel.bestModel._java_obj.getElasticNetParam())\n",
        "print(lrCvModel.bestModel._java_obj.getMaxIter())"
      ],
      "execution_count": null,
      "outputs": [
        {
          "output_type": "stream",
          "text": [
            "0.01\n",
            "0.0\n",
            "5\n"
          ],
          "name": "stdout"
        }
      ]
    },
    {
      "cell_type": "code",
      "metadata": {
        "id": "9DVOKa2g5DsV",
        "colab": {
          "base_uri": "https://localhost:8080/",
          "height": 35
        },
        "outputId": "c576b686-47dc-4b90-d6cb-3b5b57359cfd"
      },
      "source": [
        "lrCvModel.bestModel._java_obj.extractParamMap()"
      ],
      "execution_count": null,
      "outputs": [
        {
          "output_type": "execute_result",
          "data": {
            "text/plain": [
              "JavaObject id=o14758"
            ]
          },
          "metadata": {
            "tags": []
          },
          "execution_count": 74
        }
      ]
    },
    {
      "cell_type": "markdown",
      "metadata": {
        "id": "zg9_XaJY5DsY"
      },
      "source": [
        "<br>\n",
        "<br>\n",
        "\n",
        "### Q8: GBM - Perform Cross Validation\n",
        "- Perform cross validation of params on your 'gb' model.\n",
        "- Print out the best params you found."
      ]
    },
    {
      "cell_type": "code",
      "metadata": {
        "id": "pKeAeERU5DsZ"
      },
      "source": [
        "# Create CrossValidator\n",
        "gbCv = CrossValidator(estimator=gb, estimatorParamMaps=gbParamGrid, evaluator=evaluator, numFolds=3)\n",
        "\n",
        "\n",
        "# Run cross validations\n",
        "gbCvModel = gbCv.fit(trainingData)"
      ],
      "execution_count": null,
      "outputs": []
    },
    {
      "cell_type": "code",
      "metadata": {
        "id": "E_Nf5iG85Dsb",
        "colab": {
          "base_uri": "https://localhost:8080/",
          "height": 72
        },
        "outputId": "9f452596-81a5-4244-d1f2-5dd0853925f9"
      },
      "source": [
        "# The best parameters courtesy of CV\n",
        "print(gbCvModel.bestModel._java_obj.getMinInstancesPerNode())\n",
        "print(gbCvModel.bestModel._java_obj.getMaxDepth())\n",
        "print(gbCvModel.bestModel._java_obj.getMaxIter())"
      ],
      "execution_count": null,
      "outputs": [
        {
          "output_type": "stream",
          "text": [
            "2\n",
            "5\n",
            "25\n"
          ],
          "name": "stdout"
        }
      ]
    },
    {
      "cell_type": "code",
      "metadata": {
        "id": "Hugif07ID84M",
        "colab": {
          "base_uri": "https://localhost:8080/",
          "height": 35
        },
        "outputId": "b2330674-18ce-4bf1-f582-3471795def81"
      },
      "source": [
        "gbCvModel.bestModel._java_obj.extractParamMap()"
      ],
      "execution_count": null,
      "outputs": [
        {
          "output_type": "execute_result",
          "data": {
            "text/plain": [
              "JavaObject id=o34589"
            ]
          },
          "metadata": {
            "tags": []
          },
          "execution_count": 77
        }
      ]
    },
    {
      "cell_type": "markdown",
      "metadata": {
        "id": "f2rbiwDS5Dse"
      },
      "source": [
        "<br>\n",
        "<br>\n",
        "\n",
        "### Logistic Regression - CV Model Predict"
      ]
    },
    {
      "cell_type": "code",
      "metadata": {
        "id": "ai3bq_Tr5Dsf",
        "colab": {
          "base_uri": "https://localhost:8080/",
          "height": 573
        },
        "outputId": "a2aa0b5b-7ce3-4aa8-fbca-7b16a1bbb8de"
      },
      "source": [
        "lrCvPredictions = lrCvModel.transform(testData)\n",
        "lrCvPredictions.limit(5).toPandas()"
      ],
      "execution_count": null,
      "outputs": [
        {
          "output_type": "execute_result",
          "data": {
            "text/html": [
              "<div>\n",
              "<style scoped>\n",
              "    .dataframe tbody tr th:only-of-type {\n",
              "        vertical-align: middle;\n",
              "    }\n",
              "\n",
              "    .dataframe tbody tr th {\n",
              "        vertical-align: top;\n",
              "    }\n",
              "\n",
              "    .dataframe thead th {\n",
              "        text-align: right;\n",
              "    }\n",
              "</style>\n",
              "<table border=\"1\" class=\"dataframe\">\n",
              "  <thead>\n",
              "    <tr style=\"text-align: right;\">\n",
              "      <th></th>\n",
              "      <th>label</th>\n",
              "      <th>features</th>\n",
              "      <th>age</th>\n",
              "      <th>workclass</th>\n",
              "      <th>fnlwgt</th>\n",
              "      <th>education</th>\n",
              "      <th>education_num</th>\n",
              "      <th>marital_status</th>\n",
              "      <th>occupation</th>\n",
              "      <th>relationship</th>\n",
              "      <th>race</th>\n",
              "      <th>sex</th>\n",
              "      <th>capital_gain</th>\n",
              "      <th>capital_loss</th>\n",
              "      <th>hours_per_week</th>\n",
              "      <th>native_country</th>\n",
              "      <th>income</th>\n",
              "      <th>rawPrediction</th>\n",
              "      <th>probability</th>\n",
              "      <th>prediction</th>\n",
              "    </tr>\n",
              "  </thead>\n",
              "  <tbody>\n",
              "    <tr>\n",
              "      <th>0</th>\n",
              "      <td>0.0</td>\n",
              "      <td>(1.0, 0.0, 0.0, 0.0, 0.0, 0.0, 0.0, 0.0, 1.0, ...</td>\n",
              "      <td>26.0</td>\n",
              "      <td>Private</td>\n",
              "      <td>58426.0</td>\n",
              "      <td>HS-grad</td>\n",
              "      <td>9.0</td>\n",
              "      <td>Married-civ-spouse</td>\n",
              "      <td>Prof-specialty</td>\n",
              "      <td>Husband</td>\n",
              "      <td>White</td>\n",
              "      <td>Male</td>\n",
              "      <td>0.0</td>\n",
              "      <td>0.0</td>\n",
              "      <td>50.0</td>\n",
              "      <td>United-States</td>\n",
              "      <td>&lt;=50K</td>\n",
              "      <td>[0.24858247834145808, -0.24858247834145808]</td>\n",
              "      <td>[0.5618275697974622, 0.43817243020253793]</td>\n",
              "      <td>1.0</td>\n",
              "    </tr>\n",
              "    <tr>\n",
              "      <th>1</th>\n",
              "      <td>0.0</td>\n",
              "      <td>(1.0, 0.0, 0.0, 0.0, 0.0, 0.0, 0.0, 0.0, 1.0, ...</td>\n",
              "      <td>30.0</td>\n",
              "      <td>Private</td>\n",
              "      <td>83253.0</td>\n",
              "      <td>HS-grad</td>\n",
              "      <td>9.0</td>\n",
              "      <td>Married-civ-spouse</td>\n",
              "      <td>Prof-specialty</td>\n",
              "      <td>Husband</td>\n",
              "      <td>White</td>\n",
              "      <td>Male</td>\n",
              "      <td>0.0</td>\n",
              "      <td>0.0</td>\n",
              "      <td>55.0</td>\n",
              "      <td>United-States</td>\n",
              "      <td>&lt;=50K</td>\n",
              "      <td>[0.22752449926521257, -0.22752449926521257]</td>\n",
              "      <td>[0.5566370061594164, 0.4433629938405837]</td>\n",
              "      <td>1.0</td>\n",
              "    </tr>\n",
              "    <tr>\n",
              "      <th>2</th>\n",
              "      <td>0.0</td>\n",
              "      <td>(1.0, 0.0, 0.0, 0.0, 0.0, 0.0, 0.0, 0.0, 1.0, ...</td>\n",
              "      <td>31.0</td>\n",
              "      <td>Private</td>\n",
              "      <td>62374.0</td>\n",
              "      <td>HS-grad</td>\n",
              "      <td>9.0</td>\n",
              "      <td>Married-civ-spouse</td>\n",
              "      <td>Prof-specialty</td>\n",
              "      <td>Husband</td>\n",
              "      <td>White</td>\n",
              "      <td>Male</td>\n",
              "      <td>0.0</td>\n",
              "      <td>0.0</td>\n",
              "      <td>50.0</td>\n",
              "      <td>United-States</td>\n",
              "      <td>&lt;=50K</td>\n",
              "      <td>[0.23091167819327252, -0.23091167819327252]</td>\n",
              "      <td>[0.557472774534049, 0.44252722546595114]</td>\n",
              "      <td>1.0</td>\n",
              "    </tr>\n",
              "    <tr>\n",
              "      <th>3</th>\n",
              "      <td>0.0</td>\n",
              "      <td>(1.0, 0.0, 0.0, 0.0, 0.0, 0.0, 0.0, 0.0, 1.0, ...</td>\n",
              "      <td>32.0</td>\n",
              "      <td>Private</td>\n",
              "      <td>32732.0</td>\n",
              "      <td>HS-grad</td>\n",
              "      <td>9.0</td>\n",
              "      <td>Married-civ-spouse</td>\n",
              "      <td>Prof-specialty</td>\n",
              "      <td>Husband</td>\n",
              "      <td>White</td>\n",
              "      <td>Male</td>\n",
              "      <td>0.0</td>\n",
              "      <td>0.0</td>\n",
              "      <td>50.0</td>\n",
              "      <td>United-States</td>\n",
              "      <td>&lt;=50K</td>\n",
              "      <td>[0.20452036392262052, -0.20452036392262052]</td>\n",
              "      <td>[0.5509526084061724, 0.44904739159382756]</td>\n",
              "      <td>1.0</td>\n",
              "    </tr>\n",
              "    <tr>\n",
              "      <th>4</th>\n",
              "      <td>0.0</td>\n",
              "      <td>(1.0, 0.0, 0.0, 0.0, 0.0, 0.0, 0.0, 0.0, 1.0, ...</td>\n",
              "      <td>39.0</td>\n",
              "      <td>Private</td>\n",
              "      <td>181705.0</td>\n",
              "      <td>HS-grad</td>\n",
              "      <td>9.0</td>\n",
              "      <td>Married-civ-spouse</td>\n",
              "      <td>Prof-specialty</td>\n",
              "      <td>Husband</td>\n",
              "      <td>White</td>\n",
              "      <td>Male</td>\n",
              "      <td>0.0</td>\n",
              "      <td>0.0</td>\n",
              "      <td>45.0</td>\n",
              "      <td>United-States</td>\n",
              "      <td>&lt;=50K</td>\n",
              "      <td>[0.3107198971818753, -0.3107198971818753]</td>\n",
              "      <td>[0.5770609701350843, 0.42293902986491566]</td>\n",
              "      <td>1.0</td>\n",
              "    </tr>\n",
              "  </tbody>\n",
              "</table>\n",
              "</div>"
            ],
            "text/plain": [
              "   label  ... prediction\n",
              "0    0.0  ...        1.0\n",
              "1    0.0  ...        1.0\n",
              "2    0.0  ...        1.0\n",
              "3    0.0  ...        1.0\n",
              "4    0.0  ...        1.0\n",
              "\n",
              "[5 rows x 20 columns]"
            ]
          },
          "metadata": {
            "tags": []
          },
          "execution_count": 78
        }
      ]
    },
    {
      "cell_type": "markdown",
      "metadata": {
        "id": "Rvc9NIWl5Dsh"
      },
      "source": [
        "<br>\n",
        "<br>\n",
        "\n",
        "### GBM - CV Model Predict"
      ]
    },
    {
      "cell_type": "code",
      "metadata": {
        "id": "wPd4Ku8T5Dsj",
        "colab": {
          "base_uri": "https://localhost:8080/",
          "height": 573
        },
        "outputId": "65462715-d909-4c93-f8c0-2552feeb7c57"
      },
      "source": [
        "gbCvPredictions = gbCvModel.transform(testData)\n",
        "gbCvPredictions.limit(5).toPandas()"
      ],
      "execution_count": null,
      "outputs": [
        {
          "output_type": "execute_result",
          "data": {
            "text/html": [
              "<div>\n",
              "<style scoped>\n",
              "    .dataframe tbody tr th:only-of-type {\n",
              "        vertical-align: middle;\n",
              "    }\n",
              "\n",
              "    .dataframe tbody tr th {\n",
              "        vertical-align: top;\n",
              "    }\n",
              "\n",
              "    .dataframe thead th {\n",
              "        text-align: right;\n",
              "    }\n",
              "</style>\n",
              "<table border=\"1\" class=\"dataframe\">\n",
              "  <thead>\n",
              "    <tr style=\"text-align: right;\">\n",
              "      <th></th>\n",
              "      <th>label</th>\n",
              "      <th>features</th>\n",
              "      <th>age</th>\n",
              "      <th>workclass</th>\n",
              "      <th>fnlwgt</th>\n",
              "      <th>education</th>\n",
              "      <th>education_num</th>\n",
              "      <th>marital_status</th>\n",
              "      <th>occupation</th>\n",
              "      <th>relationship</th>\n",
              "      <th>race</th>\n",
              "      <th>sex</th>\n",
              "      <th>capital_gain</th>\n",
              "      <th>capital_loss</th>\n",
              "      <th>hours_per_week</th>\n",
              "      <th>native_country</th>\n",
              "      <th>income</th>\n",
              "      <th>rawPrediction</th>\n",
              "      <th>probability</th>\n",
              "      <th>prediction</th>\n",
              "    </tr>\n",
              "  </thead>\n",
              "  <tbody>\n",
              "    <tr>\n",
              "      <th>0</th>\n",
              "      <td>0.0</td>\n",
              "      <td>(1.0, 0.0, 0.0, 0.0, 0.0, 0.0, 0.0, 0.0, 1.0, ...</td>\n",
              "      <td>26.0</td>\n",
              "      <td>Private</td>\n",
              "      <td>58426.0</td>\n",
              "      <td>HS-grad</td>\n",
              "      <td>9.0</td>\n",
              "      <td>Married-civ-spouse</td>\n",
              "      <td>Prof-specialty</td>\n",
              "      <td>Husband</td>\n",
              "      <td>White</td>\n",
              "      <td>Male</td>\n",
              "      <td>0.0</td>\n",
              "      <td>0.0</td>\n",
              "      <td>50.0</td>\n",
              "      <td>United-States</td>\n",
              "      <td>&lt;=50K</td>\n",
              "      <td>[0.7871155049961904, -0.7871155049961904]</td>\n",
              "      <td>[0.8283859359514032, 0.1716140640485968]</td>\n",
              "      <td>0.0</td>\n",
              "    </tr>\n",
              "    <tr>\n",
              "      <th>1</th>\n",
              "      <td>0.0</td>\n",
              "      <td>(1.0, 0.0, 0.0, 0.0, 0.0, 0.0, 0.0, 0.0, 1.0, ...</td>\n",
              "      <td>30.0</td>\n",
              "      <td>Private</td>\n",
              "      <td>83253.0</td>\n",
              "      <td>HS-grad</td>\n",
              "      <td>9.0</td>\n",
              "      <td>Married-civ-spouse</td>\n",
              "      <td>Prof-specialty</td>\n",
              "      <td>Husband</td>\n",
              "      <td>White</td>\n",
              "      <td>Male</td>\n",
              "      <td>0.0</td>\n",
              "      <td>0.0</td>\n",
              "      <td>55.0</td>\n",
              "      <td>United-States</td>\n",
              "      <td>&lt;=50K</td>\n",
              "      <td>[0.5385229246332709, -0.5385229246332709]</td>\n",
              "      <td>[0.7459345307616355, 0.2540654692383645]</td>\n",
              "      <td>0.0</td>\n",
              "    </tr>\n",
              "    <tr>\n",
              "      <th>2</th>\n",
              "      <td>0.0</td>\n",
              "      <td>(1.0, 0.0, 0.0, 0.0, 0.0, 0.0, 0.0, 0.0, 1.0, ...</td>\n",
              "      <td>31.0</td>\n",
              "      <td>Private</td>\n",
              "      <td>62374.0</td>\n",
              "      <td>HS-grad</td>\n",
              "      <td>9.0</td>\n",
              "      <td>Married-civ-spouse</td>\n",
              "      <td>Prof-specialty</td>\n",
              "      <td>Husband</td>\n",
              "      <td>White</td>\n",
              "      <td>Male</td>\n",
              "      <td>0.0</td>\n",
              "      <td>0.0</td>\n",
              "      <td>50.0</td>\n",
              "      <td>United-States</td>\n",
              "      <td>&lt;=50K</td>\n",
              "      <td>[0.5385229246332709, -0.5385229246332709]</td>\n",
              "      <td>[0.7459345307616355, 0.2540654692383645]</td>\n",
              "      <td>0.0</td>\n",
              "    </tr>\n",
              "    <tr>\n",
              "      <th>3</th>\n",
              "      <td>0.0</td>\n",
              "      <td>(1.0, 0.0, 0.0, 0.0, 0.0, 0.0, 0.0, 0.0, 1.0, ...</td>\n",
              "      <td>32.0</td>\n",
              "      <td>Private</td>\n",
              "      <td>32732.0</td>\n",
              "      <td>HS-grad</td>\n",
              "      <td>9.0</td>\n",
              "      <td>Married-civ-spouse</td>\n",
              "      <td>Prof-specialty</td>\n",
              "      <td>Husband</td>\n",
              "      <td>White</td>\n",
              "      <td>Male</td>\n",
              "      <td>0.0</td>\n",
              "      <td>0.0</td>\n",
              "      <td>50.0</td>\n",
              "      <td>United-States</td>\n",
              "      <td>&lt;=50K</td>\n",
              "      <td>[0.5385229246332709, -0.5385229246332709]</td>\n",
              "      <td>[0.7459345307616355, 0.2540654692383645]</td>\n",
              "      <td>0.0</td>\n",
              "    </tr>\n",
              "    <tr>\n",
              "      <th>4</th>\n",
              "      <td>0.0</td>\n",
              "      <td>(1.0, 0.0, 0.0, 0.0, 0.0, 0.0, 0.0, 0.0, 1.0, ...</td>\n",
              "      <td>39.0</td>\n",
              "      <td>Private</td>\n",
              "      <td>181705.0</td>\n",
              "      <td>HS-grad</td>\n",
              "      <td>9.0</td>\n",
              "      <td>Married-civ-spouse</td>\n",
              "      <td>Prof-specialty</td>\n",
              "      <td>Husband</td>\n",
              "      <td>White</td>\n",
              "      <td>Male</td>\n",
              "      <td>0.0</td>\n",
              "      <td>0.0</td>\n",
              "      <td>45.0</td>\n",
              "      <td>United-States</td>\n",
              "      <td>&lt;=50K</td>\n",
              "      <td>[0.06862446972430207, -0.06862446972430207]</td>\n",
              "      <td>[0.5342584737245489, 0.46574152627545107]</td>\n",
              "      <td>0.0</td>\n",
              "    </tr>\n",
              "  </tbody>\n",
              "</table>\n",
              "</div>"
            ],
            "text/plain": [
              "   label  ... prediction\n",
              "0    0.0  ...        0.0\n",
              "1    0.0  ...        0.0\n",
              "2    0.0  ...        0.0\n",
              "3    0.0  ...        0.0\n",
              "4    0.0  ...        0.0\n",
              "\n",
              "[5 rows x 20 columns]"
            ]
          },
          "metadata": {
            "tags": []
          },
          "execution_count": 79
        }
      ]
    },
    {
      "cell_type": "markdown",
      "metadata": {
        "id": "kffXFI-a5Dsm"
      },
      "source": [
        "<br>\n",
        "<br>\n",
        "\n",
        "### Logistic Regression - CV Model Evaluate"
      ]
    },
    {
      "cell_type": "code",
      "metadata": {
        "id": "yHOid8ct5Dsm",
        "colab": {
          "base_uri": "https://localhost:8080/",
          "height": 235
        },
        "outputId": "9d8c96b8-3d8c-4159-dcbb-51c92a380921"
      },
      "source": [
        "print_performance_metrics(lrCvPredictions)"
      ],
      "execution_count": null,
      "outputs": [
        {
          "output_type": "stream",
          "text": [
            "auc = 0.884261410193997\n",
            "aupr = 0.7249265030060673\n",
            "Area under PR = 0.5606554186177602\n",
            "Area under ROC = 0.7850241526516345\n",
            "Accuracy = 0.82022009667798\n",
            "DenseMatrix([[6274., 1074.],\n",
            "             [ 674., 1701.]])\n",
            "F1 = 0.6605825242718447\n",
            "Precision = 0.6129729729729729\n",
            "Recall = 0.7162105263157895\n",
            "FPR = 0.1461622210125204\n",
            "TPR = 0.7162105263157895\n"
          ],
          "name": "stdout"
        }
      ]
    },
    {
      "cell_type": "markdown",
      "metadata": {
        "id": "4sNXypIQ5Dsp"
      },
      "source": [
        "<br>\n",
        "<br>\n",
        "\n",
        "### GBM - CV Model Evaluate"
      ]
    },
    {
      "cell_type": "code",
      "metadata": {
        "id": "w8ZA_P4C5Dsq",
        "colab": {
          "base_uri": "https://localhost:8080/",
          "height": 235
        },
        "outputId": "d6150087-c168-497e-d225-1adb43865b4c"
      },
      "source": [
        "print_performance_metrics(gbCvPredictions)"
      ],
      "execution_count": null,
      "outputs": [
        {
          "output_type": "stream",
          "text": [
            "auc = 0.9089191187004011\n",
            "aupr = 0.7864572916849379\n",
            "Area under PR = 0.6518614988600036\n",
            "Area under ROC = 0.7651752857920523\n",
            "Accuracy = 0.8537488429497069\n",
            "DenseMatrix([[6895.,  453.],\n",
            "             [ 969., 1406.]])\n",
            "F1 = 0.6641473783656117\n",
            "Precision = 0.7563206024744487\n",
            "Recall = 0.592\n",
            "FPR = 0.061649428415895484\n",
            "TPR = 0.592\n"
          ],
          "name": "stdout"
        }
      ]
    },
    {
      "cell_type": "markdown",
      "metadata": {
        "id": "YkDmmAni5Dss"
      },
      "source": [
        "<br>\n",
        "<br>\n",
        "\n",
        "## Logistic Regression - Model Exploration"
      ]
    },
    {
      "cell_type": "code",
      "metadata": {
        "id": "6k4jsKRu5Dst",
        "colab": {
          "base_uri": "https://localhost:8080/",
          "height": 35
        },
        "outputId": "80d48317-3ca6-42df-8316-466a13158200"
      },
      "source": [
        "print('Model Intercept: ', lrCvModel.bestModel.intercept)"
      ],
      "execution_count": null,
      "outputs": [
        {
          "output_type": "stream",
          "text": [
            "Model Intercept:  -1.2493932646043548\n"
          ],
          "name": "stdout"
        }
      ]
    },
    {
      "cell_type": "code",
      "metadata": {
        "id": "aEtiVWf95Dsx",
        "colab": {
          "base_uri": "https://localhost:8080/",
          "height": 147
        },
        "outputId": "7b3e7759-7d02-490a-eb65-a860f7a0fd73"
      },
      "source": [
        "lrWeights = lrCvModel.bestModel.coefficients\n",
        "\n",
        "# Convert numpy type to float, and to tuple\n",
        "lrWeights = [(float(w),) for w in lrWeights]  \n",
        "\n",
        "lrWeightsDF = spark.createDataFrame(lrWeights, [\"Feature Weight\"])\n",
        "lrWeightsDF.toPandas().T"
      ],
      "execution_count": null,
      "outputs": [
        {
          "output_type": "execute_result",
          "data": {
            "text/html": [
              "<div>\n",
              "<style scoped>\n",
              "    .dataframe tbody tr th:only-of-type {\n",
              "        vertical-align: middle;\n",
              "    }\n",
              "\n",
              "    .dataframe tbody tr th {\n",
              "        vertical-align: top;\n",
              "    }\n",
              "\n",
              "    .dataframe thead th {\n",
              "        text-align: right;\n",
              "    }\n",
              "</style>\n",
              "<table border=\"1\" class=\"dataframe\">\n",
              "  <thead>\n",
              "    <tr style=\"text-align: right;\">\n",
              "      <th></th>\n",
              "      <th>0</th>\n",
              "      <th>1</th>\n",
              "      <th>2</th>\n",
              "      <th>3</th>\n",
              "      <th>4</th>\n",
              "      <th>5</th>\n",
              "      <th>6</th>\n",
              "      <th>7</th>\n",
              "      <th>8</th>\n",
              "      <th>9</th>\n",
              "      <th>10</th>\n",
              "      <th>11</th>\n",
              "      <th>12</th>\n",
              "      <th>13</th>\n",
              "      <th>14</th>\n",
              "      <th>15</th>\n",
              "      <th>16</th>\n",
              "      <th>17</th>\n",
              "      <th>18</th>\n",
              "      <th>19</th>\n",
              "      <th>20</th>\n",
              "      <th>21</th>\n",
              "      <th>22</th>\n",
              "      <th>23</th>\n",
              "      <th>24</th>\n",
              "      <th>25</th>\n",
              "      <th>26</th>\n",
              "      <th>27</th>\n",
              "      <th>28</th>\n",
              "      <th>29</th>\n",
              "      <th>30</th>\n",
              "      <th>31</th>\n",
              "      <th>32</th>\n",
              "      <th>33</th>\n",
              "      <th>34</th>\n",
              "      <th>35</th>\n",
              "      <th>36</th>\n",
              "      <th>37</th>\n",
              "      <th>38</th>\n",
              "      <th>39</th>\n",
              "      <th>...</th>\n",
              "      <th>60</th>\n",
              "      <th>61</th>\n",
              "      <th>62</th>\n",
              "      <th>63</th>\n",
              "      <th>64</th>\n",
              "      <th>65</th>\n",
              "      <th>66</th>\n",
              "      <th>67</th>\n",
              "      <th>68</th>\n",
              "      <th>69</th>\n",
              "      <th>70</th>\n",
              "      <th>71</th>\n",
              "      <th>72</th>\n",
              "      <th>73</th>\n",
              "      <th>74</th>\n",
              "      <th>75</th>\n",
              "      <th>76</th>\n",
              "      <th>77</th>\n",
              "      <th>78</th>\n",
              "      <th>79</th>\n",
              "      <th>80</th>\n",
              "      <th>81</th>\n",
              "      <th>82</th>\n",
              "      <th>83</th>\n",
              "      <th>84</th>\n",
              "      <th>85</th>\n",
              "      <th>86</th>\n",
              "      <th>87</th>\n",
              "      <th>88</th>\n",
              "      <th>89</th>\n",
              "      <th>90</th>\n",
              "      <th>91</th>\n",
              "      <th>92</th>\n",
              "      <th>93</th>\n",
              "      <th>94</th>\n",
              "      <th>95</th>\n",
              "      <th>96</th>\n",
              "      <th>97</th>\n",
              "      <th>98</th>\n",
              "      <th>99</th>\n",
              "    </tr>\n",
              "  </thead>\n",
              "  <tbody>\n",
              "    <tr>\n",
              "      <th>Feature Weight</th>\n",
              "      <td>-0.22285</td>\n",
              "      <td>-0.353174</td>\n",
              "      <td>-0.139366</td>\n",
              "      <td>-0.469711</td>\n",
              "      <td>-0.257712</td>\n",
              "      <td>0.431118</td>\n",
              "      <td>0.404906</td>\n",
              "      <td>-1.158737</td>\n",
              "      <td>-0.439404</td>\n",
              "      <td>-0.193887</td>\n",
              "      <td>0.439363</td>\n",
              "      <td>0.797831</td>\n",
              "      <td>-0.043413</td>\n",
              "      <td>-0.652105</td>\n",
              "      <td>-0.066486</td>\n",
              "      <td>-0.66833</td>\n",
              "      <td>-0.888289</td>\n",
              "      <td>1.204749</td>\n",
              "      <td>-0.818058</td>\n",
              "      <td>-0.540072</td>\n",
              "      <td>1.270079</td>\n",
              "      <td>-0.852448</td>\n",
              "      <td>-0.802919</td>\n",
              "      <td>0.638786</td>\n",
              "      <td>-0.776294</td>\n",
              "      <td>-0.408728</td>\n",
              "      <td>-0.447111</td>\n",
              "      <td>-0.338354</td>\n",
              "      <td>-0.449287</td>\n",
              "      <td>0.408351</td>\n",
              "      <td>-0.186938</td>\n",
              "      <td>0.674288</td>\n",
              "      <td>-0.257545</td>\n",
              "      <td>0.08807</td>\n",
              "      <td>-0.679311</td>\n",
              "      <td>-0.485135</td>\n",
              "      <td>-0.470648</td>\n",
              "      <td>-0.30993</td>\n",
              "      <td>-0.687004</td>\n",
              "      <td>-0.731903</td>\n",
              "      <td>...</td>\n",
              "      <td>-0.632792</td>\n",
              "      <td>-0.367529</td>\n",
              "      <td>-0.035579</td>\n",
              "      <td>-0.193745</td>\n",
              "      <td>-0.496376</td>\n",
              "      <td>-1.021687</td>\n",
              "      <td>-0.928319</td>\n",
              "      <td>-0.038288</td>\n",
              "      <td>-0.821894</td>\n",
              "      <td>-0.823574</td>\n",
              "      <td>-0.825765</td>\n",
              "      <td>0.212895</td>\n",
              "      <td>-0.589645</td>\n",
              "      <td>-1.141227</td>\n",
              "      <td>-0.423525</td>\n",
              "      <td>-0.568064</td>\n",
              "      <td>-0.04534</td>\n",
              "      <td>-0.828774</td>\n",
              "      <td>-0.792539</td>\n",
              "      <td>-0.780704</td>\n",
              "      <td>-0.643378</td>\n",
              "      <td>0.357924</td>\n",
              "      <td>-0.440418</td>\n",
              "      <td>-0.321876</td>\n",
              "      <td>-0.465535</td>\n",
              "      <td>-0.906476</td>\n",
              "      <td>0.38688</td>\n",
              "      <td>-1.035502</td>\n",
              "      <td>-0.422211</td>\n",
              "      <td>-0.4352</td>\n",
              "      <td>-0.969205</td>\n",
              "      <td>-0.837281</td>\n",
              "      <td>-1.000796</td>\n",
              "      <td>-0.444221</td>\n",
              "      <td>0.004127</td>\n",
              "      <td>-7.510993e-07</td>\n",
              "      <td>0.023954</td>\n",
              "      <td>0.000048</td>\n",
              "      <td>0.000455</td>\n",
              "      <td>0.004639</td>\n",
              "    </tr>\n",
              "  </tbody>\n",
              "</table>\n",
              "<p>1 rows × 100 columns</p>\n",
              "</div>"
            ],
            "text/plain": [
              "                     0         1         2   ...        97        98        99\n",
              "Feature Weight -0.22285 -0.353174 -0.139366  ...  0.000048  0.000455  0.004639\n",
              "\n",
              "[1 rows x 100 columns]"
            ]
          },
          "metadata": {
            "tags": []
          },
          "execution_count": 83
        }
      ]
    },
    {
      "cell_type": "markdown",
      "metadata": {
        "id": "8S3nf_V65Dsz"
      },
      "source": [
        "<br>\n",
        "<br>\n",
        "\n",
        "### Computing Feature Importance\n",
        "\n",
        "Interpreting machine learning models is always a thing of paramount importance with business stakeholders always wanting to know how machine learning models really work. Feature importances can be an interesting way to tackle this problem. Let's explore how to find feature importances for our models. "
      ]
    },
    {
      "cell_type": "markdown",
      "metadata": {
        "id": "lE__oLSY5Ds0"
      },
      "source": [
        "<br>\n",
        "<br>\n",
        "\n",
        "### Q9 \n",
        "\n",
        "Print out a table of `feature_name` and `feature_coefficient` from the Logistic Regression model.  (Hint: Adapt the code from [here](https://stackoverflow.com/questions/42935914/how-to-map-features-from-the-output-of-a-vectorassembler-back-to-the-column-name) if needed as a reference.)"
      ]
    },
    {
      "cell_type": "markdown",
      "metadata": {
        "id": "4Qe0MluGr41g"
      },
      "source": [
        "<br>\n",
        "\n",
        "The get variables method."
      ]
    },
    {
      "cell_type": "code",
      "metadata": {
        "id": "KA2lYBSMif0R"
      },
      "source": [
        "def get_variables(indexed_fields):\n",
        "\n",
        "  # Data types\n",
        "  fields_data_types = list(indexed_fields['ml_attr']['attrs'].keys())\n",
        "\n",
        "  # Variables\n",
        "  tables_of_variables = [ pd.DataFrame.from_dict(indexed_fields['ml_attr']['attrs'][i]) for i in fields_data_types ]\n",
        "  variables = pd.concat(tables_of_variables)\n",
        "  variables.set_index('idx', inplace=True)\n",
        "  variables.index.name = None\n",
        "  return variables"
      ],
      "execution_count": null,
      "outputs": []
    },
    {
      "cell_type": "markdown",
      "metadata": {
        "id": "4hGIlJNOrzIb"
      },
      "source": [
        "<br>\n",
        "\n",
        "The coefficients."
      ]
    },
    {
      "cell_type": "code",
      "metadata": {
        "id": "8PaV_nSa5Ds1",
        "colab": {
          "base_uri": "https://localhost:8080/",
          "height": 206
        },
        "outputId": "c5d9f82f-ca97-450b-de49-7a0f3546ae8b"
      },
      "source": [
        "coefficients = pd.DataFrame(lrCvModel.bestModel.coefficients.toArray(), columns=['coefficients'])\n",
        "coefficients.head()"
      ],
      "execution_count": null,
      "outputs": [
        {
          "output_type": "execute_result",
          "data": {
            "text/html": [
              "<div>\n",
              "<style scoped>\n",
              "    .dataframe tbody tr th:only-of-type {\n",
              "        vertical-align: middle;\n",
              "    }\n",
              "\n",
              "    .dataframe tbody tr th {\n",
              "        vertical-align: top;\n",
              "    }\n",
              "\n",
              "    .dataframe thead th {\n",
              "        text-align: right;\n",
              "    }\n",
              "</style>\n",
              "<table border=\"1\" class=\"dataframe\">\n",
              "  <thead>\n",
              "    <tr style=\"text-align: right;\">\n",
              "      <th></th>\n",
              "      <th>coefficients</th>\n",
              "    </tr>\n",
              "  </thead>\n",
              "  <tbody>\n",
              "    <tr>\n",
              "      <th>0</th>\n",
              "      <td>-0.222850</td>\n",
              "    </tr>\n",
              "    <tr>\n",
              "      <th>1</th>\n",
              "      <td>-0.353174</td>\n",
              "    </tr>\n",
              "    <tr>\n",
              "      <th>2</th>\n",
              "      <td>-0.139366</td>\n",
              "    </tr>\n",
              "    <tr>\n",
              "      <th>3</th>\n",
              "      <td>-0.469711</td>\n",
              "    </tr>\n",
              "    <tr>\n",
              "      <th>4</th>\n",
              "      <td>-0.257712</td>\n",
              "    </tr>\n",
              "  </tbody>\n",
              "</table>\n",
              "</div>"
            ],
            "text/plain": [
              "   coefficients\n",
              "0     -0.222850\n",
              "1     -0.353174\n",
              "2     -0.139366\n",
              "3     -0.469711\n",
              "4     -0.257712"
            ]
          },
          "metadata": {
            "tags": []
          },
          "execution_count": 85
        }
      ]
    },
    {
      "cell_type": "markdown",
      "metadata": {
        "id": "4HrrW3K1ZATh"
      },
      "source": [
        "<br>\n",
        "\n",
        "The variables"
      ]
    },
    {
      "cell_type": "code",
      "metadata": {
        "id": "pP3XU3hUYXZr",
        "colab": {
          "base_uri": "https://localhost:8080/",
          "height": 206
        },
        "outputId": "a97ed805-2aec-457d-e8cc-3d197dd2a1bc"
      },
      "source": [
        "fields = lr.getFeaturesCol()\n",
        "indexed_fields = dataset.schema[fields].metadata\n",
        "\n",
        "variables = get_variables(indexed_fields)\n",
        "variables.head()"
      ],
      "execution_count": null,
      "outputs": [
        {
          "output_type": "execute_result",
          "data": {
            "text/html": [
              "<div>\n",
              "<style scoped>\n",
              "    .dataframe tbody tr th:only-of-type {\n",
              "        vertical-align: middle;\n",
              "    }\n",
              "\n",
              "    .dataframe tbody tr th {\n",
              "        vertical-align: top;\n",
              "    }\n",
              "\n",
              "    .dataframe thead th {\n",
              "        text-align: right;\n",
              "    }\n",
              "</style>\n",
              "<table border=\"1\" class=\"dataframe\">\n",
              "  <thead>\n",
              "    <tr style=\"text-align: right;\">\n",
              "      <th></th>\n",
              "      <th>name</th>\n",
              "    </tr>\n",
              "  </thead>\n",
              "  <tbody>\n",
              "    <tr>\n",
              "      <th>94</th>\n",
              "      <td>age</td>\n",
              "    </tr>\n",
              "    <tr>\n",
              "      <th>95</th>\n",
              "      <td>fnlwgt</td>\n",
              "    </tr>\n",
              "    <tr>\n",
              "      <th>96</th>\n",
              "      <td>education_num</td>\n",
              "    </tr>\n",
              "    <tr>\n",
              "      <th>97</th>\n",
              "      <td>capital_gain</td>\n",
              "    </tr>\n",
              "    <tr>\n",
              "      <th>98</th>\n",
              "      <td>capital_loss</td>\n",
              "    </tr>\n",
              "  </tbody>\n",
              "</table>\n",
              "</div>"
            ],
            "text/plain": [
              "             name\n",
              "94            age\n",
              "95         fnlwgt\n",
              "96  education_num\n",
              "97   capital_gain\n",
              "98   capital_loss"
            ]
          },
          "metadata": {
            "tags": []
          },
          "execution_count": 86
        }
      ]
    },
    {
      "cell_type": "markdown",
      "metadata": {
        "id": "3GoA7XoRv_eB"
      },
      "source": [
        "<br>\n",
        "\n",
        "Combining"
      ]
    },
    {
      "cell_type": "code",
      "metadata": {
        "id": "pyEUMcNwuoX_",
        "colab": {
          "base_uri": "https://localhost:8080/",
          "height": 424
        },
        "outputId": "6cce5671-39a1-4ec1-93c9-314c3e1d24f9"
      },
      "source": [
        "variables.join(coefficients).sort_values(by='coefficients', ascending=False)"
      ],
      "execution_count": null,
      "outputs": [
        {
          "output_type": "execute_result",
          "data": {
            "text/html": [
              "<div>\n",
              "<style scoped>\n",
              "    .dataframe tbody tr th:only-of-type {\n",
              "        vertical-align: middle;\n",
              "    }\n",
              "\n",
              "    .dataframe tbody tr th {\n",
              "        vertical-align: top;\n",
              "    }\n",
              "\n",
              "    .dataframe thead th {\n",
              "        text-align: right;\n",
              "    }\n",
              "</style>\n",
              "<table border=\"1\" class=\"dataframe\">\n",
              "  <thead>\n",
              "    <tr style=\"text-align: right;\">\n",
              "      <th></th>\n",
              "      <th>name</th>\n",
              "      <th>coefficients</th>\n",
              "    </tr>\n",
              "  </thead>\n",
              "  <tbody>\n",
              "    <tr>\n",
              "      <th>20</th>\n",
              "      <td>educationclassVec_Doctorate</td>\n",
              "      <td>1.270079</td>\n",
              "    </tr>\n",
              "    <tr>\n",
              "      <th>17</th>\n",
              "      <td>educationclassVec_Prof-school</td>\n",
              "      <td>1.204749</td>\n",
              "    </tr>\n",
              "    <tr>\n",
              "      <th>11</th>\n",
              "      <td>educationclassVec_Masters</td>\n",
              "      <td>0.797831</td>\n",
              "    </tr>\n",
              "    <tr>\n",
              "      <th>47</th>\n",
              "      <td>relationshipclassVec_Wife</td>\n",
              "      <td>0.765498</td>\n",
              "    </tr>\n",
              "    <tr>\n",
              "      <th>31</th>\n",
              "      <td>occupationclassVec_Exec-managerial</td>\n",
              "      <td>0.674288</td>\n",
              "    </tr>\n",
              "    <tr>\n",
              "      <th>...</th>\n",
              "      <td>...</td>\n",
              "      <td>...</td>\n",
              "    </tr>\n",
              "    <tr>\n",
              "      <th>92</th>\n",
              "      <td>native_countryclassVec_Hungary</td>\n",
              "      <td>-1.000796</td>\n",
              "    </tr>\n",
              "    <tr>\n",
              "      <th>65</th>\n",
              "      <td>native_countryclassVec_South</td>\n",
              "      <td>-1.021687</td>\n",
              "    </tr>\n",
              "    <tr>\n",
              "      <th>87</th>\n",
              "      <td>native_countryclassVec_Thailand</td>\n",
              "      <td>-1.035502</td>\n",
              "    </tr>\n",
              "    <tr>\n",
              "      <th>73</th>\n",
              "      <td>native_countryclassVec_Columbia</td>\n",
              "      <td>-1.141227</td>\n",
              "    </tr>\n",
              "    <tr>\n",
              "      <th>7</th>\n",
              "      <td>workclassclassVec_Without-pay</td>\n",
              "      <td>-1.158737</td>\n",
              "    </tr>\n",
              "  </tbody>\n",
              "</table>\n",
              "<p>100 rows × 2 columns</p>\n",
              "</div>"
            ],
            "text/plain": [
              "                                  name  coefficients\n",
              "20         educationclassVec_Doctorate      1.270079\n",
              "17       educationclassVec_Prof-school      1.204749\n",
              "11           educationclassVec_Masters      0.797831\n",
              "47           relationshipclassVec_Wife      0.765498\n",
              "31  occupationclassVec_Exec-managerial      0.674288\n",
              "..                                 ...           ...\n",
              "92      native_countryclassVec_Hungary     -1.000796\n",
              "65        native_countryclassVec_South     -1.021687\n",
              "87     native_countryclassVec_Thailand     -1.035502\n",
              "73     native_countryclassVec_Columbia     -1.141227\n",
              "7        workclassclassVec_Without-pay     -1.158737\n",
              "\n",
              "[100 rows x 2 columns]"
            ]
          },
          "metadata": {
            "tags": []
          },
          "execution_count": 87
        }
      ]
    },
    {
      "cell_type": "markdown",
      "metadata": {
        "id": "aelTcxfV5Ds4"
      },
      "source": [
        "<br>\n",
        "<br>\n",
        "\n",
        "## Q10: Build & Train a RandomForestClassifier, Print the table of feature importances\n",
        "\n",
        "\n",
        "Defaults at \n",
        "\n",
        "* https://spark.apache.org/docs/2.4.4/api/python/pyspark.ml.html#pyspark.ml.classification.RandomForestClassifier\n",
        "\n",
        "\n",
        "```python\n",
        "pyspark.ml.classification.RandomForestClassifier(featuresCol='features', labelCol='label', \n",
        "               predictionCol='prediction', probabilityCol='probability', rawPredictionCol='rawPrediction', \n",
        "               maxDepth=5, maxBins=32, minInstancesPerNode=1, minInfoGain=0.0, maxMemoryInMB=256, \n",
        "               cacheNodeIds=False, checkpointInterval=10, impurity='gini', numTrees=20, \n",
        "               featureSubsetStrategy='auto', seed=None, subsamplingRate=1.0)\n",
        "```"
      ]
    },
    {
      "cell_type": "code",
      "metadata": {
        "id": "WKAJr09F5Ds5"
      },
      "source": [
        "# Baseline Instance\n",
        "rf = RandomForestClassifier(labelCol='label', featuresCol='features', seed=5)"
      ],
      "execution_count": null,
      "outputs": []
    },
    {
      "cell_type": "code",
      "metadata": {
        "id": "YkApiQxKGtQs",
        "colab": {
          "base_uri": "https://localhost:8080/",
          "height": 346
        },
        "outputId": "03bb4c2b-7899-4df0-844d-79cfb726b0dc"
      },
      "source": [
        "# Parameters\n",
        "print(rf.explainParams())"
      ],
      "execution_count": null,
      "outputs": [
        {
          "output_type": "stream",
          "text": [
            "cacheNodeIds: If false, the algorithm will pass trees to executors to match instances with nodes. If true, the algorithm will cache node IDs for each instance. Caching can speed up training of deeper trees. Users can set how often should the cache be checkpointed or disable it by setting checkpointInterval. (default: False)\n",
            "checkpointInterval: set checkpoint interval (>= 1) or disable checkpoint (-1). E.g. 10 means that the cache will get checkpointed every 10 iterations. Note: this setting will be ignored if the checkpoint directory is not set in the SparkContext. (default: 10)\n",
            "featureSubsetStrategy: The number of features to consider for splits at each tree node. Supported options: 'auto' (choose automatically for task: If numTrees == 1, set to 'all'. If numTrees > 1 (forest), set to 'sqrt' for classification and to 'onethird' for regression), 'all' (use all features), 'onethird' (use 1/3 of the features), 'sqrt' (use sqrt(number of features)), 'log2' (use log2(number of features)), 'n' (when n is in the range (0, 1.0], use n * number of features. When n is in the range (1, number of features), use n features). default = 'auto' (default: auto)\n",
            "featuresCol: features column name. (default: features, current: features)\n",
            "impurity: Criterion used for information gain calculation (case-insensitive). Supported options: entropy, gini (default: gini)\n",
            "labelCol: label column name. (default: label, current: label)\n",
            "maxBins: Max number of bins for discretizing continuous features.  Must be >=2 and >= number of categories for any categorical feature. (default: 32)\n",
            "maxDepth: Maximum depth of the tree. (>= 0) E.g., depth 0 means 1 leaf node; depth 1 means 1 internal node + 2 leaf nodes. (default: 5)\n",
            "maxMemoryInMB: Maximum memory in MB allocated to histogram aggregation. If too small, then 1 node will be split per iteration, and its aggregates may exceed this size. (default: 256)\n",
            "minInfoGain: Minimum information gain for a split to be considered at a tree node. (default: 0.0)\n",
            "minInstancesPerNode: Minimum number of instances each child must have after split. If a split causes the left or right child to have fewer than minInstancesPerNode, the split will be discarded as invalid. Should be >= 1. (default: 1)\n",
            "numTrees: Number of trees to train (>= 1). (default: 20)\n",
            "predictionCol: prediction column name. (default: prediction)\n",
            "probabilityCol: Column name for predicted class conditional probabilities. Note: Not all models output well-calibrated probability estimates! These probabilities should be treated as confidences, not precise probabilities. (default: probability)\n",
            "rawPredictionCol: raw prediction (a.k.a. confidence) column name. (default: rawPrediction)\n",
            "seed: random seed. (default: 500765105567399622, current: 5)\n",
            "subsamplingRate: Fraction of the training data used for learning each decision tree, in range (0, 1]. (default: 1.0)\n"
          ],
          "name": "stdout"
        }
      ]
    },
    {
      "cell_type": "code",
      "metadata": {
        "id": "qUVwjaX65Ds8"
      },
      "source": [
        "# Cross Validation Grid\n",
        "rfParamGrid = (ParamGridBuilder()\n",
        "               .addGrid(rf.minInstancesPerNode, [1, 2, 4])\n",
        "               .addGrid(rf.maxDepth, [4, 5, 6])\n",
        "               .addGrid(rf.numTrees, [15, 20, 25])\n",
        "               .build())"
      ],
      "execution_count": null,
      "outputs": []
    },
    {
      "cell_type": "code",
      "metadata": {
        "id": "LJTD4mbyHy8h"
      },
      "source": [
        "# Create CrossValidator\n",
        "rfCv = CrossValidator(estimator=rf, estimatorParamMaps=rfParamGrid, evaluator=evaluator, numFolds=3)"
      ],
      "execution_count": null,
      "outputs": []
    },
    {
      "cell_type": "code",
      "metadata": {
        "id": "hhk-uqJrMiV7"
      },
      "source": [
        "# Run cross validations\n",
        "rfCvModel = rfCv.fit(trainingData)"
      ],
      "execution_count": null,
      "outputs": []
    },
    {
      "cell_type": "code",
      "metadata": {
        "id": "n9avI1qHIgfI",
        "colab": {
          "base_uri": "https://localhost:8080/",
          "height": 72
        },
        "outputId": "d1b23702-c23f-4df5-c73f-41629fc156cc"
      },
      "source": [
        "# The best parameters courtesy of CV\n",
        "print(rfCvModel.bestModel._java_obj.getMinInstancesPerNode())\n",
        "print(rfCvModel.bestModel._java_obj.getMaxDepth())\n",
        "print(rfCvModel.bestModel._java_obj.getNumTrees())"
      ],
      "execution_count": null,
      "outputs": [
        {
          "output_type": "stream",
          "text": [
            "1\n",
            "6\n",
            "25\n"
          ],
          "name": "stdout"
        }
      ]
    },
    {
      "cell_type": "code",
      "metadata": {
        "id": "FmWubup-MxLW",
        "colab": {
          "base_uri": "https://localhost:8080/",
          "height": 206
        },
        "outputId": "6e98d877-757d-4f8c-918f-237e5a607bd6"
      },
      "source": [
        "# Feature importance\n",
        "importance = pd.DataFrame(rfCvModel.bestModel.featureImportances.toArray(), columns=['feature_importance'])\n",
        "importance.head()"
      ],
      "execution_count": null,
      "outputs": [
        {
          "output_type": "execute_result",
          "data": {
            "text/html": [
              "<div>\n",
              "<style scoped>\n",
              "    .dataframe tbody tr th:only-of-type {\n",
              "        vertical-align: middle;\n",
              "    }\n",
              "\n",
              "    .dataframe tbody tr th {\n",
              "        vertical-align: top;\n",
              "    }\n",
              "\n",
              "    .dataframe thead th {\n",
              "        text-align: right;\n",
              "    }\n",
              "</style>\n",
              "<table border=\"1\" class=\"dataframe\">\n",
              "  <thead>\n",
              "    <tr style=\"text-align: right;\">\n",
              "      <th></th>\n",
              "      <th>feature_importance</th>\n",
              "    </tr>\n",
              "  </thead>\n",
              "  <tbody>\n",
              "    <tr>\n",
              "      <th>0</th>\n",
              "      <td>0.001121</td>\n",
              "    </tr>\n",
              "    <tr>\n",
              "      <th>1</th>\n",
              "      <td>0.001473</td>\n",
              "    </tr>\n",
              "    <tr>\n",
              "      <th>2</th>\n",
              "      <td>0.000291</td>\n",
              "    </tr>\n",
              "    <tr>\n",
              "      <th>3</th>\n",
              "      <td>0.001517</td>\n",
              "    </tr>\n",
              "    <tr>\n",
              "      <th>4</th>\n",
              "      <td>0.000000</td>\n",
              "    </tr>\n",
              "  </tbody>\n",
              "</table>\n",
              "</div>"
            ],
            "text/plain": [
              "   feature_importance\n",
              "0            0.001121\n",
              "1            0.001473\n",
              "2            0.000291\n",
              "3            0.001517\n",
              "4            0.000000"
            ]
          },
          "metadata": {
            "tags": []
          },
          "execution_count": 94
        }
      ]
    },
    {
      "cell_type": "code",
      "metadata": {
        "id": "wVsHlCAUaRHU",
        "colab": {
          "base_uri": "https://localhost:8080/",
          "height": 206
        },
        "outputId": "f73cc455-6ab5-4001-f1f0-98ce7c3c5102"
      },
      "source": [
        "# Variables\n",
        "fields = rf.getFeaturesCol()\n",
        "indexed_fields = dataset.schema[fields].metadata\n",
        "\n",
        "variables = get_variables(indexed_fields)\n",
        "variables.head()"
      ],
      "execution_count": null,
      "outputs": [
        {
          "output_type": "execute_result",
          "data": {
            "text/html": [
              "<div>\n",
              "<style scoped>\n",
              "    .dataframe tbody tr th:only-of-type {\n",
              "        vertical-align: middle;\n",
              "    }\n",
              "\n",
              "    .dataframe tbody tr th {\n",
              "        vertical-align: top;\n",
              "    }\n",
              "\n",
              "    .dataframe thead th {\n",
              "        text-align: right;\n",
              "    }\n",
              "</style>\n",
              "<table border=\"1\" class=\"dataframe\">\n",
              "  <thead>\n",
              "    <tr style=\"text-align: right;\">\n",
              "      <th></th>\n",
              "      <th>name</th>\n",
              "    </tr>\n",
              "  </thead>\n",
              "  <tbody>\n",
              "    <tr>\n",
              "      <th>94</th>\n",
              "      <td>age</td>\n",
              "    </tr>\n",
              "    <tr>\n",
              "      <th>95</th>\n",
              "      <td>fnlwgt</td>\n",
              "    </tr>\n",
              "    <tr>\n",
              "      <th>96</th>\n",
              "      <td>education_num</td>\n",
              "    </tr>\n",
              "    <tr>\n",
              "      <th>97</th>\n",
              "      <td>capital_gain</td>\n",
              "    </tr>\n",
              "    <tr>\n",
              "      <th>98</th>\n",
              "      <td>capital_loss</td>\n",
              "    </tr>\n",
              "  </tbody>\n",
              "</table>\n",
              "</div>"
            ],
            "text/plain": [
              "             name\n",
              "94            age\n",
              "95         fnlwgt\n",
              "96  education_num\n",
              "97   capital_gain\n",
              "98   capital_loss"
            ]
          },
          "metadata": {
            "tags": []
          },
          "execution_count": 95
        }
      ]
    },
    {
      "cell_type": "code",
      "metadata": {
        "id": "jWjFh2L6bOc6",
        "colab": {
          "base_uri": "https://localhost:8080/",
          "height": 424
        },
        "outputId": "1e583b15-1839-4df3-8ca3-80c77e02fcde"
      },
      "source": [
        "# Combining\n",
        "variables.join(importance).sort_values(by='feature_importance', ascending=False)"
      ],
      "execution_count": null,
      "outputs": [
        {
          "output_type": "execute_result",
          "data": {
            "text/html": [
              "<div>\n",
              "<style scoped>\n",
              "    .dataframe tbody tr th:only-of-type {\n",
              "        vertical-align: middle;\n",
              "    }\n",
              "\n",
              "    .dataframe tbody tr th {\n",
              "        vertical-align: top;\n",
              "    }\n",
              "\n",
              "    .dataframe thead th {\n",
              "        text-align: right;\n",
              "    }\n",
              "</style>\n",
              "<table border=\"1\" class=\"dataframe\">\n",
              "  <thead>\n",
              "    <tr style=\"text-align: right;\">\n",
              "      <th></th>\n",
              "      <th>name</th>\n",
              "      <th>feature_importance</th>\n",
              "    </tr>\n",
              "  </thead>\n",
              "  <tbody>\n",
              "    <tr>\n",
              "      <th>97</th>\n",
              "      <td>capital_gain</td>\n",
              "      <td>0.204762</td>\n",
              "    </tr>\n",
              "    <tr>\n",
              "      <th>43</th>\n",
              "      <td>relationshipclassVec_Husband</td>\n",
              "      <td>0.132094</td>\n",
              "    </tr>\n",
              "    <tr>\n",
              "      <th>96</th>\n",
              "      <td>education_num</td>\n",
              "      <td>0.120495</td>\n",
              "    </tr>\n",
              "    <tr>\n",
              "      <th>24</th>\n",
              "      <td>marital_statusclassVec_Never-married</td>\n",
              "      <td>0.101379</td>\n",
              "    </tr>\n",
              "    <tr>\n",
              "      <th>23</th>\n",
              "      <td>marital_statusclassVec_Married-civ-spouse</td>\n",
              "      <td>0.072413</td>\n",
              "    </tr>\n",
              "    <tr>\n",
              "      <th>...</th>\n",
              "      <td>...</td>\n",
              "      <td>...</td>\n",
              "    </tr>\n",
              "    <tr>\n",
              "      <th>59</th>\n",
              "      <td>native_countryclassVec_Puerto-Rico</td>\n",
              "      <td>0.000000</td>\n",
              "    </tr>\n",
              "    <tr>\n",
              "      <th>57</th>\n",
              "      <td>native_countryclassVec_Germany</td>\n",
              "      <td>0.000000</td>\n",
              "    </tr>\n",
              "    <tr>\n",
              "      <th>42</th>\n",
              "      <td>occupationclassVec_Priv-house-serv</td>\n",
              "      <td>0.000000</td>\n",
              "    </tr>\n",
              "    <tr>\n",
              "      <th>4</th>\n",
              "      <td>workclassclassVec_State-gov</td>\n",
              "      <td>0.000000</td>\n",
              "    </tr>\n",
              "    <tr>\n",
              "      <th>93</th>\n",
              "      <td>native_countryclassVec_Scotland</td>\n",
              "      <td>0.000000</td>\n",
              "    </tr>\n",
              "  </tbody>\n",
              "</table>\n",
              "<p>100 rows × 2 columns</p>\n",
              "</div>"
            ],
            "text/plain": [
              "                                         name  feature_importance\n",
              "97                               capital_gain            0.204762\n",
              "43               relationshipclassVec_Husband            0.132094\n",
              "96                              education_num            0.120495\n",
              "24       marital_statusclassVec_Never-married            0.101379\n",
              "23  marital_statusclassVec_Married-civ-spouse            0.072413\n",
              "..                                        ...                 ...\n",
              "59         native_countryclassVec_Puerto-Rico            0.000000\n",
              "57             native_countryclassVec_Germany            0.000000\n",
              "42         occupationclassVec_Priv-house-serv            0.000000\n",
              "4                 workclassclassVec_State-gov            0.000000\n",
              "93            native_countryclassVec_Scotland            0.000000\n",
              "\n",
              "[100 rows x 2 columns]"
            ]
          },
          "metadata": {
            "tags": []
          },
          "execution_count": 96
        }
      ]
    },
    {
      "cell_type": "code",
      "metadata": {
        "id": "DsJ2QnDKfddU",
        "colab": {
          "base_uri": "https://localhost:8080/",
          "height": 235
        },
        "outputId": "49023907-1865-4392-8d31-296bd561ca00"
      },
      "source": [
        "rfCvPredictions = rfCvModel.transform(testData)\n",
        "print_performance_metrics(rfCvPredictions)"
      ],
      "execution_count": null,
      "outputs": [
        {
          "output_type": "stream",
          "text": [
            "auc = 0.8944154943701119\n",
            "aupr = 0.7522944468966597\n",
            "Area under PR = 0.6556861745383333\n",
            "Area under ROC = 0.7071182706357619\n",
            "Accuracy = 0.839864239432274\n",
            "DenseMatrix([[7103.,  245.],\n",
            "             [1312., 1063.]])\n",
            "F1 = 0.5772468096660331\n",
            "Precision = 0.8126911314984709\n",
            "Recall = 0.4475789473684211\n",
            "FPR = 0.03334240609689711\n",
            "TPR = 0.4475789473684211\n"
          ],
          "name": "stdout"
        }
      ]
    }
  ]
}