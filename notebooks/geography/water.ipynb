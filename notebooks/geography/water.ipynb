{
 "cells": [
  {
   "cell_type": "markdown",
   "metadata": {
    "id": "evWLAcXWt1od"
   },
   "source": [
    "# Preliminaries"
   ]
  },
  {
   "cell_type": "markdown",
   "metadata": {
    "id": "SKbNBFfet6Vx"
   },
   "source": [
    "## Libraries"
   ]
  },
  {
   "cell_type": "code",
   "execution_count": 1,
   "metadata": {
    "id": "Yt_o7kiptzDg"
   },
   "outputs": [],
   "source": [
    "import os\n",
    "import logging\n",
    "import requests\n",
    "import pandas as pd\n",
    "import yaml"
   ]
  },
  {
   "cell_type": "markdown",
   "metadata": {
    "id": "G3CUdcrJ3jJI"
   },
   "source": [
    "<br>\n",
    "<br>\n",
    "\n",
    "## Logging"
   ]
  },
  {
   "cell_type": "code",
   "execution_count": 2,
   "metadata": {
    "id": "gf2aA-1v3rFy"
   },
   "outputs": [],
   "source": [
    "logging.basicConfig(level=logging.INFO,\n",
    "                    format='\\n\\n%(message)s\\n%(asctime)s.%(msecs)03d',\n",
    "                    datefmt='%Y-%m-%d %H:%M:%S')\n",
    "logger = logging.getLogger(__name__)"
   ]
  },
  {
   "cell_type": "markdown",
   "metadata": {
    "id": "0CPsLNNguLYB"
   },
   "source": [
    "<br>\n",
    "<br>\n",
    "\n",
    "## Set-up"
   ]
  },
  {
   "cell_type": "markdown",
   "metadata": {
    "id": "VFjezkdEyvg1"
   },
   "source": [
    "Paths"
   ]
  },
  {
   "cell_type": "code",
   "execution_count": 3,
   "metadata": {
    "colab": {
     "base_uri": "https://localhost:8080/",
     "height": 35
    },
    "id": "_ilo1qxEyxVX",
    "outputId": "c2d7b8d0-7414-4b70-e858-52bbf0b6a1ee"
   },
   "outputs": [
    {
     "data": {
      "application/vnd.google.colaboratory.intrinsic+json": {
       "type": "string"
      },
      "text/plain": [
       "'/content'"
      ]
     },
     "execution_count": 3,
     "metadata": {},
     "output_type": "execute_result"
    }
   ],
   "source": [
    "os.path.join(os.getcwd())"
   ]
  },
  {
   "cell_type": "markdown",
   "metadata": {
    "id": "BHH07oIey4WQ"
   },
   "source": [
    "<br>\n",
    "\n",
    "Keys"
   ]
  },
  {
   "cell_type": "code",
   "execution_count": 4,
   "metadata": {
    "id": "7FATyrSyyeyw"
   },
   "outputs": [],
   "source": [
    "pathstr = os.path.join(os.getcwd(), 'services.yaml')"
   ]
  },
  {
   "cell_type": "code",
   "execution_count": 5,
   "metadata": {
    "id": "fnvXs0vMuPO5"
   },
   "outputs": [],
   "source": [
    "with open(file=pathstr, mode='r') as stream:\n",
    "    try:\n",
    "        nodes = yaml.load(stream=stream, Loader=yaml.CLoader)\n",
    "    except yaml.YAMLError as err:\n",
    "        raise Exception(err)"
   ]
  },
  {
   "cell_type": "code",
   "execution_count": 6,
   "metadata": {
    "id": "dMQQGlSF0GOz"
   },
   "outputs": [],
   "source": [
    "dictionary: dict = [item for item in nodes['services'] if item['code'] == 'thames'][0]"
   ]
  },
  {
   "cell_type": "markdown",
   "metadata": {
    "id": "vXehufMMu81I"
   },
   "source": [
    "<br>\n",
    "\n",
    "Hence"
   ]
  },
  {
   "cell_type": "code",
   "execution_count": 8,
   "metadata": {
    "id": "CGYf--qV1JcE"
   },
   "outputs": [],
   "source": [
    "root = 'https://prod-tw-opendata-app.uk-e1.cloudhub.io'"
   ]
  },
  {
   "cell_type": "code",
   "execution_count": 9,
   "metadata": {
    "id": "yexLDcr3vQUG"
   },
   "outputs": [],
   "source": [
    "alerts = '/data/STE/v1/DischargeAlerts'\n",
    "states = '/data/STE/v1/DischargeCurrentStatus'"
   ]
  },
  {
   "cell_type": "code",
   "execution_count": 10,
   "metadata": {
    "id": "bxZiBEpn16WO"
   },
   "outputs": [],
   "source": [
    "params={'limit': 1000, 'offset': 0}"
   ]
  },
  {
   "cell_type": "code",
   "execution_count": 11,
   "metadata": {
    "id": "lg-V-LLsvAxO"
   },
   "outputs": [],
   "source": [
    "url = '{root}{resource}'"
   ]
  },
  {
   "cell_type": "markdown",
   "metadata": {
    "id": "62J3M3nWFyvs"
   },
   "source": [
    "<br>\n",
    "<br>\n",
    "\n",
    "# Explore"
   ]
  },
  {
   "cell_type": "markdown",
   "metadata": {
    "id": "B58sSTZR0kpw"
   },
   "source": [
    "##  A Digression"
   ]
  },
  {
   "cell_type": "markdown",
   "metadata": {
    "id": "2J2_yWNpIJCI"
   },
   "source": [
    "### Alerts"
   ]
  },
  {
   "cell_type": "markdown",
   "metadata": {
    "id": "fUcQv9mU9AoS"
   },
   "source": [
    "Query"
   ]
  },
  {
   "cell_type": "code",
   "execution_count": 134,
   "metadata": {
    "id": "nQRx5ZQz0pni"
   },
   "outputs": [],
   "source": [
    "params_={'limit': 1000, 'offset': 0, 'col_1': 'DateTime', 'operand_1': 'gte', 'value_1': '2022-03-01',\n",
    "         'col_2': 'DateTime', 'operand_2': 'lt', 'value_2': '2022-04-01'}\n",
    "\n",
    "r = requests.get(url=url.format(root=root, resource=alerts),\n",
    "                 headers={'client_id': dictionary['client_id'],'client_secret': dictionary['client_secret']},\n",
    "                 params=params_)\n",
    "\n",
    "r.url"
   ]
  },
  {
   "cell_type": "markdown",
   "metadata": {
    "id": "vh1ZvFMH9FZf"
   },
   "source": [
    "<br>\n",
    "\n",
    "Unload"
   ]
  },
  {
   "cell_type": "code",
   "execution_count": 136,
   "metadata": {
    "id": "gQfMz8sy8tNA"
   },
   "outputs": [],
   "source": [
    "if r.status_code == 200:\n",
    "    response = r.json()\n",
    "else:\n",
    "    raise Exception(f'{r.status_code}\\n{r.json()}')\n",
    "\n",
    "if 'items' in response:\n",
    "    data = pd.json_normalize(response, 'items')\n",
    "else:\n",
    "    data = pd.DataFrame()\n",
    "\n",
    "data.info()"
   ]
  },
  {
   "cell_type": "markdown",
   "metadata": {
    "id": "Sngq7TDpINAe"
   },
   "source": [
    "### States"
   ]
  },
  {
   "cell_type": "markdown",
   "metadata": {
    "id": "w1UPKVylIXaG"
   },
   "source": [
    "Query"
   ]
  },
  {
   "cell_type": "code",
   "execution_count": 151,
   "metadata": {
    "colab": {
     "base_uri": "https://localhost:8080/",
     "height": 53
    },
    "id": "31PPLaPoIYgL",
    "outputId": "f7a96be7-b332-46a8-edc7-fce12fcf5878"
   },
   "outputs": [
    {
     "data": {
      "application/vnd.google.colaboratory.intrinsic+json": {
       "type": "string"
      },
      "text/plain": [
       "'https://prod-tw-opendata-app.uk-e1.cloudhub.io/data/STE/v1/DischargeCurrentStatus?limit=1000&offset=0&col_1=StatusChange&operand_1=gte&value_1=2022-04-01&col_2=StatusChange&operand_2=lt&value_2=2022-05-01'"
      ]
     },
     "execution_count": 151,
     "metadata": {},
     "output_type": "execute_result"
    }
   ],
   "source": [
    "params_={'limit': 1000, 'offset': 0, 'col_1': 'StatusChange', 'operand_1': 'gte', 'value_1': '2022-04-01',\n",
    "         'col_2': 'StatusChange', 'operand_2': 'lt', 'value_2': '2022-05-01'}\n",
    "\n",
    "r = requests.get(url=url.format(root=root, resource=states),\n",
    "                 headers={'client_id': dictionary['client_id'],'client_secret': dictionary['client_secret']},\n",
    "                 params=params_)\n",
    "\n",
    "r.url"
   ]
  },
  {
   "cell_type": "markdown",
   "metadata": {
    "id": "CUAPWtfDIhhX"
   },
   "source": [
    "Unload"
   ]
  },
  {
   "cell_type": "code",
   "execution_count": 152,
   "metadata": {
    "colab": {
     "base_uri": "https://localhost:8080/"
    },
    "id": "Guo4_buXIiy7",
    "outputId": "5d19d1d7-dc46-4e5d-ab08-00d7950054f7"
   },
   "outputs": [
    {
     "name": "stdout",
     "output_type": "stream",
     "text": [
      "<class 'pandas.core.frame.DataFrame'>\n",
      "RangeIndex: 38 entries, 0 to 37\n",
      "Data columns (total 11 columns):\n",
      " #   Column                         Non-Null Count  Dtype \n",
      "---  ------                         --------------  ----- \n",
      " 0   LocationName                   38 non-null     object\n",
      " 1   PermitNumber                   38 non-null     object\n",
      " 2   LocationGridRef                38 non-null     object\n",
      " 3   X                              38 non-null     int64 \n",
      " 4   Y                              38 non-null     int64 \n",
      " 5   ReceivingWaterCourse           38 non-null     object\n",
      " 6   AlertStatus                    38 non-null     object\n",
      " 7   StatusChange                   38 non-null     object\n",
      " 8   AlertPast48Hours               38 non-null     bool  \n",
      " 9   MostRecentDischargeAlertStart  2 non-null      object\n",
      " 10  MostRecentDischargeAlertStop   2 non-null      object\n",
      "dtypes: bool(1), int64(2), object(8)\n",
      "memory usage: 3.1+ KB\n"
     ]
    }
   ],
   "source": [
    "if r.status_code == 200:\n",
    "    response = r.json()\n",
    "else:\n",
    "    raise Exception(f'{r.status_code}\\n{r.json()}')\n",
    "\n",
    "if 'items' in response:\n",
    "    data = pd.json_normalize(response, 'items')\n",
    "else:\n",
    "    data = pd.DataFrame()\n",
    "\n",
    "data.info()"
   ]
  },
  {
   "cell_type": "markdown",
   "metadata": {
    "id": "rofMigjmF4NQ"
   },
   "source": [
    "<br>\n",
    "<br>\n",
    "\n",
    "## Alerts"
   ]
  },
  {
   "cell_type": "markdown",
   "metadata": {
    "id": "82GULq-I2Ic5"
   },
   "source": [
    "Query"
   ]
  },
  {
   "cell_type": "code",
   "execution_count": 73,
   "metadata": {
    "id": "-3Pd_T5a2KYR"
   },
   "outputs": [],
   "source": [
    "r = requests.get(url=url.format(root=root, resource=alerts),\n",
    "                 headers={'client_id': dictionary['client_id'],'client_secret': dictionary['client_secret']},\n",
    "                 params=params)"
   ]
  },
  {
   "cell_type": "code",
   "execution_count": 74,
   "metadata": {
    "colab": {
     "base_uri": "https://localhost:8080/",
     "height": 35
    },
    "id": "ECEnbHLW4NpR",
    "outputId": "64030111-e8ee-426f-9b6f-06089574f930"
   },
   "outputs": [
    {
     "data": {
      "application/vnd.google.colaboratory.intrinsic+json": {
       "type": "string"
      },
      "text/plain": [
       "'https://prod-tw-opendata-app.uk-e1.cloudhub.io/data/STE/v1/DischargeAlerts?limit=1000&offset=0'"
      ]
     },
     "execution_count": 74,
     "metadata": {},
     "output_type": "execute_result"
    }
   ],
   "source": [
    "r.url"
   ]
  },
  {
   "cell_type": "markdown",
   "metadata": {
    "id": "T8QEJHAT4jYz"
   },
   "source": [
    "<br>\n",
    "\n",
    "Unload"
   ]
  },
  {
   "cell_type": "code",
   "execution_count": 75,
   "metadata": {
    "id": "QaX_8pIE4nEU"
   },
   "outputs": [],
   "source": [
    "if r.status_code == 200:\n",
    "    response = r.json()\n",
    "    data = pd.json_normalize(response, 'items')\n",
    "else:\n",
    "    raise Exception(f'{r.status_code}\\n{r.json()}')"
   ]
  },
  {
   "cell_type": "code",
   "execution_count": 76,
   "metadata": {
    "colab": {
     "base_uri": "https://localhost:8080/",
     "height": 206
    },
    "id": "tymzZZHF5ZRr",
    "outputId": "d73c1e0d-9e39-4fef-c5a7-d867fffd84e7"
   },
   "outputs": [
    {
     "data": {
      "text/html": [
       "\n",
       "  <div id=\"df-5f7937d2-1b49-4389-9bc8-9465c408b088\">\n",
       "    <div class=\"colab-df-container\">\n",
       "      <div>\n",
       "<style scoped>\n",
       "    .dataframe tbody tr th:only-of-type {\n",
       "        vertical-align: middle;\n",
       "    }\n",
       "\n",
       "    .dataframe tbody tr th {\n",
       "        vertical-align: top;\n",
       "    }\n",
       "\n",
       "    .dataframe thead th {\n",
       "        text-align: right;\n",
       "    }\n",
       "</style>\n",
       "<table border=\"1\" class=\"dataframe\">\n",
       "  <thead>\n",
       "    <tr style=\"text-align: right;\">\n",
       "      <th></th>\n",
       "      <th>LocationName</th>\n",
       "      <th>PermitNumber</th>\n",
       "      <th>LocationGridRef</th>\n",
       "      <th>X</th>\n",
       "      <th>Y</th>\n",
       "      <th>ReceivingWaterCourse</th>\n",
       "      <th>AlertType</th>\n",
       "      <th>DateTime</th>\n",
       "    </tr>\n",
       "  </thead>\n",
       "  <tbody>\n",
       "    <tr>\n",
       "      <th>0</th>\n",
       "      <td>Low Level 1 N, Grosvenor Ditch, Millb</td>\n",
       "      <td>TEMP.2752</td>\n",
       "      <td>TQ30277879</td>\n",
       "      <td>530270</td>\n",
       "      <td>178790</td>\n",
       "      <td>River Thames</td>\n",
       "      <td>Stop</td>\n",
       "      <td>2023-06-29T05:26:00</td>\n",
       "    </tr>\n",
       "    <tr>\n",
       "      <th>1</th>\n",
       "      <td>Pauls Pier</td>\n",
       "      <td>TEMP.2968</td>\n",
       "      <td>TQ32008081</td>\n",
       "      <td>532000</td>\n",
       "      <td>180810</td>\n",
       "      <td>River Thames</td>\n",
       "      <td>Stop</td>\n",
       "      <td>2023-06-29T05:22:00</td>\n",
       "    </tr>\n",
       "    <tr>\n",
       "      <th>2</th>\n",
       "      <td>North Weald</td>\n",
       "      <td>TEMP.2809</td>\n",
       "      <td>TL49570472</td>\n",
       "      <td>549570</td>\n",
       "      <td>204720</td>\n",
       "      <td>North Weald Brook</td>\n",
       "      <td>Start</td>\n",
       "      <td>2023-06-29T05:15:00</td>\n",
       "    </tr>\n",
       "    <tr>\n",
       "      <th>3</th>\n",
       "      <td>Frogmore Storm</td>\n",
       "      <td>TEMP.2599</td>\n",
       "      <td>TQ254749</td>\n",
       "      <td>525400</td>\n",
       "      <td>174900</td>\n",
       "      <td>Bell Lane Creek</td>\n",
       "      <td>Stop</td>\n",
       "      <td>2023-06-29T05:10:00</td>\n",
       "    </tr>\n",
       "    <tr>\n",
       "      <th>4</th>\n",
       "      <td>Leopold Road, Church Path</td>\n",
       "      <td>TEMP.2737</td>\n",
       "      <td>TQ21048487</td>\n",
       "      <td>521040</td>\n",
       "      <td>184870</td>\n",
       "      <td>Mitchell Brook</td>\n",
       "      <td>Stop</td>\n",
       "      <td>2023-06-29T05:00:00</td>\n",
       "    </tr>\n",
       "  </tbody>\n",
       "</table>\n",
       "</div>\n",
       "      <button class=\"colab-df-convert\" onclick=\"convertToInteractive('df-5f7937d2-1b49-4389-9bc8-9465c408b088')\"\n",
       "              title=\"Convert this dataframe to an interactive table.\"\n",
       "              style=\"display:none;\">\n",
       "        \n",
       "  <svg xmlns=\"http://www.w3.org/2000/svg\" height=\"24px\"viewBox=\"0 0 24 24\"\n",
       "       width=\"24px\">\n",
       "    <path d=\"M0 0h24v24H0V0z\" fill=\"none\"/>\n",
       "    <path d=\"M18.56 5.44l.94 2.06.94-2.06 2.06-.94-2.06-.94-.94-2.06-.94 2.06-2.06.94zm-11 1L8.5 8.5l.94-2.06 2.06-.94-2.06-.94L8.5 2.5l-.94 2.06-2.06.94zm10 10l.94 2.06.94-2.06 2.06-.94-2.06-.94-.94-2.06-.94 2.06-2.06.94z\"/><path d=\"M17.41 7.96l-1.37-1.37c-.4-.4-.92-.59-1.43-.59-.52 0-1.04.2-1.43.59L10.3 9.45l-7.72 7.72c-.78.78-.78 2.05 0 2.83L4 21.41c.39.39.9.59 1.41.59.51 0 1.02-.2 1.41-.59l7.78-7.78 2.81-2.81c.8-.78.8-2.07 0-2.86zM5.41 20L4 18.59l7.72-7.72 1.47 1.35L5.41 20z\"/>\n",
       "  </svg>\n",
       "      </button>\n",
       "      \n",
       "  <style>\n",
       "    .colab-df-container {\n",
       "      display:flex;\n",
       "      flex-wrap:wrap;\n",
       "      gap: 12px;\n",
       "    }\n",
       "\n",
       "    .colab-df-convert {\n",
       "      background-color: #E8F0FE;\n",
       "      border: none;\n",
       "      border-radius: 50%;\n",
       "      cursor: pointer;\n",
       "      display: none;\n",
       "      fill: #1967D2;\n",
       "      height: 32px;\n",
       "      padding: 0 0 0 0;\n",
       "      width: 32px;\n",
       "    }\n",
       "\n",
       "    .colab-df-convert:hover {\n",
       "      background-color: #E2EBFA;\n",
       "      box-shadow: 0px 1px 2px rgba(60, 64, 67, 0.3), 0px 1px 3px 1px rgba(60, 64, 67, 0.15);\n",
       "      fill: #174EA6;\n",
       "    }\n",
       "\n",
       "    [theme=dark] .colab-df-convert {\n",
       "      background-color: #3B4455;\n",
       "      fill: #D2E3FC;\n",
       "    }\n",
       "\n",
       "    [theme=dark] .colab-df-convert:hover {\n",
       "      background-color: #434B5C;\n",
       "      box-shadow: 0px 1px 3px 1px rgba(0, 0, 0, 0.15);\n",
       "      filter: drop-shadow(0px 1px 2px rgba(0, 0, 0, 0.3));\n",
       "      fill: #FFFFFF;\n",
       "    }\n",
       "  </style>\n",
       "\n",
       "      <script>\n",
       "        const buttonEl =\n",
       "          document.querySelector('#df-5f7937d2-1b49-4389-9bc8-9465c408b088 button.colab-df-convert');\n",
       "        buttonEl.style.display =\n",
       "          google.colab.kernel.accessAllowed ? 'block' : 'none';\n",
       "\n",
       "        async function convertToInteractive(key) {\n",
       "          const element = document.querySelector('#df-5f7937d2-1b49-4389-9bc8-9465c408b088');\n",
       "          const dataTable =\n",
       "            await google.colab.kernel.invokeFunction('convertToInteractive',\n",
       "                                                     [key], {});\n",
       "          if (!dataTable) return;\n",
       "\n",
       "          const docLinkHtml = 'Like what you see? Visit the ' +\n",
       "            '<a target=\"_blank\" href=https://colab.research.google.com/notebooks/data_table.ipynb>data table notebook</a>'\n",
       "            + ' to learn more about interactive tables.';\n",
       "          element.innerHTML = '';\n",
       "          dataTable['output_type'] = 'display_data';\n",
       "          await google.colab.output.renderOutput(dataTable, element);\n",
       "          const docLink = document.createElement('div');\n",
       "          docLink.innerHTML = docLinkHtml;\n",
       "          element.appendChild(docLink);\n",
       "        }\n",
       "      </script>\n",
       "    </div>\n",
       "  </div>\n",
       "  "
      ],
      "text/plain": [
       "                            LocationName PermitNumber LocationGridRef       X  \\\n",
       "0  Low Level 1 N, Grosvenor Ditch, Millb    TEMP.2752      TQ30277879  530270   \n",
       "1                             Pauls Pier    TEMP.2968      TQ32008081  532000   \n",
       "2                            North Weald    TEMP.2809      TL49570472  549570   \n",
       "3                         Frogmore Storm    TEMP.2599        TQ254749  525400   \n",
       "4              Leopold Road, Church Path    TEMP.2737      TQ21048487  521040   \n",
       "\n",
       "        Y ReceivingWaterCourse AlertType             DateTime  \n",
       "0  178790         River Thames      Stop  2023-06-29T05:26:00  \n",
       "1  180810         River Thames      Stop  2023-06-29T05:22:00  \n",
       "2  204720    North Weald Brook     Start  2023-06-29T05:15:00  \n",
       "3  174900      Bell Lane Creek      Stop  2023-06-29T05:10:00  \n",
       "4  184870       Mitchell Brook      Stop  2023-06-29T05:00:00  "
      ]
     },
     "execution_count": 76,
     "metadata": {},
     "output_type": "execute_result"
    }
   ],
   "source": [
    "data.head()"
   ]
  },
  {
   "cell_type": "code",
   "execution_count": 79,
   "metadata": {
    "colab": {
     "base_uri": "https://localhost:8080/"
    },
    "id": "gDhtYzy0AgpP",
    "outputId": "f9650ea2-90bd-4a83-ec59-18fcc35fca05"
   },
   "outputs": [
    {
     "name": "stdout",
     "output_type": "stream",
     "text": [
      "1000\n"
     ]
    }
   ],
   "source": [
    "if 'items' in response:\n",
    "    print(len(response['items']))"
   ]
  },
  {
   "cell_type": "markdown",
   "metadata": {
    "id": "ygjZuwCDF_9c"
   },
   "source": [
    "<br>\n",
    "<br>\n",
    "\n",
    "## States"
   ]
  },
  {
   "cell_type": "markdown",
   "metadata": {
    "id": "cGsj8fcFGL59"
   },
   "source": [
    "Query"
   ]
  },
  {
   "cell_type": "code",
   "execution_count": 16,
   "metadata": {
    "id": "I6wVzHFrGO4W"
   },
   "outputs": [],
   "source": [
    "r = requests.get(url=url.format(root=root, resource=states),\n",
    "                 headers={'client_id': dictionary['client_id'],'client_secret': dictionary['client_secret']},\n",
    "                 params=params)"
   ]
  },
  {
   "cell_type": "code",
   "execution_count": 17,
   "metadata": {
    "colab": {
     "base_uri": "https://localhost:8080/",
     "height": 35
    },
    "id": "lIlPz636GTlX",
    "outputId": "915b8a26-3b42-4814-e703-4b97325445e8"
   },
   "outputs": [
    {
     "data": {
      "application/vnd.google.colaboratory.intrinsic+json": {
       "type": "string"
      },
      "text/plain": [
       "'https://prod-tw-opendata-app.uk-e1.cloudhub.io/data/STE/v1/DischargeCurrentStatus?limit=1000&offset=0'"
      ]
     },
     "execution_count": 17,
     "metadata": {},
     "output_type": "execute_result"
    }
   ],
   "source": [
    "r.url"
   ]
  },
  {
   "cell_type": "markdown",
   "metadata": {
    "id": "hWG7YUGkGVfr"
   },
   "source": [
    "<br>\n",
    "\n",
    "Unload"
   ]
  },
  {
   "cell_type": "code",
   "execution_count": 18,
   "metadata": {
    "id": "UHBYK4QxGacD"
   },
   "outputs": [],
   "source": [
    "if r.status_code == 200:\n",
    "    response = r.json()\n",
    "    data = pd.json_normalize(response, 'items')\n",
    "else:\n",
    "    raise Exception(f'{r.status_code}\\n{r.json()}')"
   ]
  },
  {
   "cell_type": "code",
   "execution_count": 19,
   "metadata": {
    "colab": {
     "base_uri": "https://localhost:8080/",
     "height": 392
    },
    "id": "mPqd5kbEGdYQ",
    "outputId": "63d94882-0643-49b5-8ff1-63e9ee808d92"
   },
   "outputs": [
    {
     "data": {
      "text/html": [
       "\n",
       "  <div id=\"df-0026ff3d-acef-4aea-a6bf-06538b12bc61\">\n",
       "    <div class=\"colab-df-container\">\n",
       "      <div>\n",
       "<style scoped>\n",
       "    .dataframe tbody tr th:only-of-type {\n",
       "        vertical-align: middle;\n",
       "    }\n",
       "\n",
       "    .dataframe tbody tr th {\n",
       "        vertical-align: top;\n",
       "    }\n",
       "\n",
       "    .dataframe thead th {\n",
       "        text-align: right;\n",
       "    }\n",
       "</style>\n",
       "<table border=\"1\" class=\"dataframe\">\n",
       "  <thead>\n",
       "    <tr style=\"text-align: right;\">\n",
       "      <th></th>\n",
       "      <th>LocationName</th>\n",
       "      <th>PermitNumber</th>\n",
       "      <th>LocationGridRef</th>\n",
       "      <th>X</th>\n",
       "      <th>Y</th>\n",
       "      <th>ReceivingWaterCourse</th>\n",
       "      <th>AlertStatus</th>\n",
       "      <th>StatusChange</th>\n",
       "      <th>AlertPast48Hours</th>\n",
       "      <th>MostRecentDischargeAlertStart</th>\n",
       "      <th>MostRecentDischargeAlertStop</th>\n",
       "    </tr>\n",
       "  </thead>\n",
       "  <tbody>\n",
       "    <tr>\n",
       "      <th>0</th>\n",
       "      <td>(Northern) Low Level No 1 Brook Green</td>\n",
       "      <td>CSAB.0535</td>\n",
       "      <td>TQ23047815</td>\n",
       "      <td>523040</td>\n",
       "      <td>178150</td>\n",
       "      <td>River Thames</td>\n",
       "      <td>Not discharging</td>\n",
       "      <td>2022-09-13T16:18:00</td>\n",
       "      <td>False</td>\n",
       "      <td>2022-09-13T16:08:00</td>\n",
       "      <td>2022-09-13T16:18:00</td>\n",
       "    </tr>\n",
       "    <tr>\n",
       "      <th>1</th>\n",
       "      <td>15 Coldharbour Lane, Bushey</td>\n",
       "      <td>TEMP.2331</td>\n",
       "      <td>TQ13909538</td>\n",
       "      <td>513900</td>\n",
       "      <td>195380</td>\n",
       "      <td>Colne Brook</td>\n",
       "      <td>Not discharging</td>\n",
       "      <td>2022-04-01T00:00:00</td>\n",
       "      <td>False</td>\n",
       "      <td>None</td>\n",
       "      <td>None</td>\n",
       "    </tr>\n",
       "    <tr>\n",
       "      <th>2</th>\n",
       "      <td>Abbess Roding</td>\n",
       "      <td>CTCR.2034</td>\n",
       "      <td>TL57581109</td>\n",
       "      <td>557580</td>\n",
       "      <td>211090</td>\n",
       "      <td>Coopers Brook</td>\n",
       "      <td>Not discharging</td>\n",
       "      <td>2023-05-21T10:00:00</td>\n",
       "      <td>False</td>\n",
       "      <td>2023-05-21T09:30:00</td>\n",
       "      <td>2023-05-21T10:00:00</td>\n",
       "    </tr>\n",
       "    <tr>\n",
       "      <th>3</th>\n",
       "      <td>Abbey Mills</td>\n",
       "      <td>CSAB.0530</td>\n",
       "      <td>TQ38858314</td>\n",
       "      <td>538850</td>\n",
       "      <td>183140</td>\n",
       "      <td>River Lee (Channelsea River South)</td>\n",
       "      <td>Not discharging</td>\n",
       "      <td>2022-09-01T20:45:00</td>\n",
       "      <td>False</td>\n",
       "      <td>None</td>\n",
       "      <td>None</td>\n",
       "    </tr>\n",
       "    <tr>\n",
       "      <th>4</th>\n",
       "      <td>Abingdon</td>\n",
       "      <td>CTCR.1804</td>\n",
       "      <td>SU49339509</td>\n",
       "      <td>449330</td>\n",
       "      <td>195090</td>\n",
       "      <td>Odhay Hill Ditch</td>\n",
       "      <td>Not discharging</td>\n",
       "      <td>2023-05-09T00:30:00</td>\n",
       "      <td>False</td>\n",
       "      <td>2023-05-08T23:30:00</td>\n",
       "      <td>2023-05-09T00:30:00</td>\n",
       "    </tr>\n",
       "  </tbody>\n",
       "</table>\n",
       "</div>\n",
       "      <button class=\"colab-df-convert\" onclick=\"convertToInteractive('df-0026ff3d-acef-4aea-a6bf-06538b12bc61')\"\n",
       "              title=\"Convert this dataframe to an interactive table.\"\n",
       "              style=\"display:none;\">\n",
       "        \n",
       "  <svg xmlns=\"http://www.w3.org/2000/svg\" height=\"24px\"viewBox=\"0 0 24 24\"\n",
       "       width=\"24px\">\n",
       "    <path d=\"M0 0h24v24H0V0z\" fill=\"none\"/>\n",
       "    <path d=\"M18.56 5.44l.94 2.06.94-2.06 2.06-.94-2.06-.94-.94-2.06-.94 2.06-2.06.94zm-11 1L8.5 8.5l.94-2.06 2.06-.94-2.06-.94L8.5 2.5l-.94 2.06-2.06.94zm10 10l.94 2.06.94-2.06 2.06-.94-2.06-.94-.94-2.06-.94 2.06-2.06.94z\"/><path d=\"M17.41 7.96l-1.37-1.37c-.4-.4-.92-.59-1.43-.59-.52 0-1.04.2-1.43.59L10.3 9.45l-7.72 7.72c-.78.78-.78 2.05 0 2.83L4 21.41c.39.39.9.59 1.41.59.51 0 1.02-.2 1.41-.59l7.78-7.78 2.81-2.81c.8-.78.8-2.07 0-2.86zM5.41 20L4 18.59l7.72-7.72 1.47 1.35L5.41 20z\"/>\n",
       "  </svg>\n",
       "      </button>\n",
       "      \n",
       "  <style>\n",
       "    .colab-df-container {\n",
       "      display:flex;\n",
       "      flex-wrap:wrap;\n",
       "      gap: 12px;\n",
       "    }\n",
       "\n",
       "    .colab-df-convert {\n",
       "      background-color: #E8F0FE;\n",
       "      border: none;\n",
       "      border-radius: 50%;\n",
       "      cursor: pointer;\n",
       "      display: none;\n",
       "      fill: #1967D2;\n",
       "      height: 32px;\n",
       "      padding: 0 0 0 0;\n",
       "      width: 32px;\n",
       "    }\n",
       "\n",
       "    .colab-df-convert:hover {\n",
       "      background-color: #E2EBFA;\n",
       "      box-shadow: 0px 1px 2px rgba(60, 64, 67, 0.3), 0px 1px 3px 1px rgba(60, 64, 67, 0.15);\n",
       "      fill: #174EA6;\n",
       "    }\n",
       "\n",
       "    [theme=dark] .colab-df-convert {\n",
       "      background-color: #3B4455;\n",
       "      fill: #D2E3FC;\n",
       "    }\n",
       "\n",
       "    [theme=dark] .colab-df-convert:hover {\n",
       "      background-color: #434B5C;\n",
       "      box-shadow: 0px 1px 3px 1px rgba(0, 0, 0, 0.15);\n",
       "      filter: drop-shadow(0px 1px 2px rgba(0, 0, 0, 0.3));\n",
       "      fill: #FFFFFF;\n",
       "    }\n",
       "  </style>\n",
       "\n",
       "      <script>\n",
       "        const buttonEl =\n",
       "          document.querySelector('#df-0026ff3d-acef-4aea-a6bf-06538b12bc61 button.colab-df-convert');\n",
       "        buttonEl.style.display =\n",
       "          google.colab.kernel.accessAllowed ? 'block' : 'none';\n",
       "\n",
       "        async function convertToInteractive(key) {\n",
       "          const element = document.querySelector('#df-0026ff3d-acef-4aea-a6bf-06538b12bc61');\n",
       "          const dataTable =\n",
       "            await google.colab.kernel.invokeFunction('convertToInteractive',\n",
       "                                                     [key], {});\n",
       "          if (!dataTable) return;\n",
       "\n",
       "          const docLinkHtml = 'Like what you see? Visit the ' +\n",
       "            '<a target=\"_blank\" href=https://colab.research.google.com/notebooks/data_table.ipynb>data table notebook</a>'\n",
       "            + ' to learn more about interactive tables.';\n",
       "          element.innerHTML = '';\n",
       "          dataTable['output_type'] = 'display_data';\n",
       "          await google.colab.output.renderOutput(dataTable, element);\n",
       "          const docLink = document.createElement('div');\n",
       "          docLink.innerHTML = docLinkHtml;\n",
       "          element.appendChild(docLink);\n",
       "        }\n",
       "      </script>\n",
       "    </div>\n",
       "  </div>\n",
       "  "
      ],
      "text/plain": [
       "                            LocationName PermitNumber LocationGridRef       X  \\\n",
       "0  (Northern) Low Level No 1 Brook Green    CSAB.0535      TQ23047815  523040   \n",
       "1            15 Coldharbour Lane, Bushey    TEMP.2331      TQ13909538  513900   \n",
       "2                          Abbess Roding    CTCR.2034      TL57581109  557580   \n",
       "3                            Abbey Mills    CSAB.0530      TQ38858314  538850   \n",
       "4                               Abingdon    CTCR.1804      SU49339509  449330   \n",
       "\n",
       "        Y                ReceivingWaterCourse      AlertStatus  \\\n",
       "0  178150                        River Thames  Not discharging   \n",
       "1  195380                         Colne Brook  Not discharging   \n",
       "2  211090                       Coopers Brook  Not discharging   \n",
       "3  183140  River Lee (Channelsea River South)  Not discharging   \n",
       "4  195090                    Odhay Hill Ditch  Not discharging   \n",
       "\n",
       "          StatusChange  AlertPast48Hours MostRecentDischargeAlertStart  \\\n",
       "0  2022-09-13T16:18:00             False           2022-09-13T16:08:00   \n",
       "1  2022-04-01T00:00:00             False                          None   \n",
       "2  2023-05-21T10:00:00             False           2023-05-21T09:30:00   \n",
       "3  2022-09-01T20:45:00             False                          None   \n",
       "4  2023-05-09T00:30:00             False           2023-05-08T23:30:00   \n",
       "\n",
       "  MostRecentDischargeAlertStop  \n",
       "0          2022-09-13T16:18:00  \n",
       "1                         None  \n",
       "2          2023-05-21T10:00:00  \n",
       "3                         None  \n",
       "4          2023-05-09T00:30:00  "
      ]
     },
     "execution_count": 19,
     "metadata": {},
     "output_type": "execute_result"
    }
   ],
   "source": [
    "data.head()"
   ]
  },
  {
   "cell_type": "markdown",
   "metadata": {
    "id": "zx5ZnWaupLPC"
   },
   "source": [
    "<br>\n",
    "\n",
    "## Options"
   ]
  },
  {
   "cell_type": "markdown",
   "metadata": {
    "id": "Ax9Pj2OaGVo4"
   },
   "source": [
    "\n",
    "```bash\n",
    "    curl -G \"https://environment.data.gov.uk/public-register/api/search.json\" --data-urlencode name-search=*thames\n",
    "```\n",
    "\n",
    "```bash\n",
    "    curl -G \"https://environment.data.gov.uk/public-register/api/completion.json\" --data-urlencode \"number=TH/\"\n",
    "```"
   ]
  }
 ],
 "metadata": {
  "colab": {
   "provenance": [],
   "toc_visible": true
  },
  "kernelspec": {
   "display_name": "Python 3 (ipykernel)",
   "language": "python",
   "name": "python3"
  },
  "language_info": {
   "codemirror_mode": {
    "name": "ipython",
    "version": 3
   },
   "file_extension": ".py",
   "mimetype": "text/x-python",
   "name": "python",
   "nbconvert_exporter": "python",
   "pygments_lexer": "ipython3",
   "version": "3.8.13"
  }
 },
 "nbformat": 4,
 "nbformat_minor": 4
}
