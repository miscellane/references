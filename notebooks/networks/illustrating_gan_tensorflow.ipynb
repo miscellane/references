{
  "cells": [
    {
      "cell_type": "markdown",
      "id": "f3c82e92",
      "metadata": {
        "id": "f3c82e92"
      },
      "source": [
        "<br>\n",
        "\n",
        "The following additional libraries are needed to run this\n",
        "notebook. Note that running on Colab is experimental, please report a Github\n",
        "issue if you have any problem."
      ]
    },
    {
      "cell_type": "code",
      "execution_count": null,
      "id": "2edae539",
      "metadata": {
        "id": "2edae539"
      },
      "outputs": [],
      "source": [
        "!pip install d2l==1.0.3"
      ]
    },
    {
      "cell_type": "markdown",
      "id": "5f5f7758",
      "metadata": {
        "origin_pos": 0,
        "id": "5f5f7758"
      },
      "source": [
        "<br>\n",
        "<br>\n",
        "<br>\n",
        "\n",
        "# Generative Adversarial Networks\n",
        ":label:`sec_basic_gan`\n",
        "\n",
        "Throughout most of this book, we have talked about how to make predictions. In some form or another, we used deep neural networks to learn mappings from data examples to labels. This kind of learning is called discriminative learning, as in, we'd like to be able to discriminate between photos of cats and photos of dogs. Classifiers and regressors are both examples of discriminative learning. And neural networks trained by backpropagation have upended everything we thought we knew about discriminative learning on large complicated datasets. Classification accuracies on high-res images have gone from useless to human-level (with some caveats) in just 5-6 years. We will spare you another spiel about all the other discriminative tasks where deep neural networks do astoundingly well.\n",
        "\n",
        "But there is more to machine learning than just solving discriminative tasks. For example, given a large dataset, without any labels, we might want to learn a model that concisely captures the characteristics of this data. Given such a model, we could sample synthetic data examples that resemble the distribution of the training data. For example, given a large corpus of photographs of faces, we might want to be able to generate a new photorealistic image that looks like it might plausibly have come from the same dataset. This kind of learning is called generative modeling.\n",
        "\n",
        "Until recently, we had no method that could synthesize novel photorealistic images. But the success of deep neural networks for discriminative learning opened up new possibilities. One big trend over the last three years has been the application of discriminative deep nets to overcome challenges in problems that we do not generally think of as supervised learning problems. The recurrent neural network language models are one example of using a discriminative network (trained to predict the next character) that once trained can act as a generative model.\n",
        "\n",
        "In 2014, a breakthrough paper introduced Generative adversarial networks (GANs) :cite:`Goodfellow.Pouget-Abadie.Mirza.ea.2014`, a clever new way to leverage the power of discriminative models to get good generative models. At their heart, GANs rely on the idea that a data generator is good if we cannot tell fake data apart from real data. In statistics, this is called a two-sample test - a test to answer the question whether datasets $X=\\{x_1,\\ldots, x_n\\}$ and $X'=\\{x'_1,\\ldots, x'_n\\}$ were drawn from the same distribution. The main difference between most statistics papers and GANs is that the latter use this idea in a constructive way. In other words, rather than just training a model to say \"hey, these two datasets do not look like they came from the same distribution\", they use the [two-sample test](https://en.wikipedia.org/wiki/Two-sample_hypothesis_testing) to provide training signals to a generative model. This allows us to improve the data generator until it generates something that resembles the real data. At the very least, it needs to fool the classifier even if our classifier is a state of the art deep neural network.\n",
        "\n",
        "![Generative Adversarial Networks](http://d2l.ai/_images/gan.svg)\n",
        ":label:`fig_gan`\n",
        "\n",
        "\n",
        "The GAN architecture is illustrated in :numref:`fig_gan`.\n",
        "As you can see, there are two pieces in GAN architecture - first off, we need a device (say, a deep network but it really could be anything, such as a game rendering engine) that might potentially be able to generate data that looks just like the real thing. If we are dealing with images, this needs to generate images. If we are dealing with speech, it needs to generate audio sequences, and so on. We call this the generator network. The second component is the discriminator network. It attempts to distinguish fake and real data from each other. Both networks are in competition with each other. The generator network attempts to fool the discriminator network. At that point, the discriminator network adapts to the new fake data. This information, in turn is used to improve the generator network, and so on.\n",
        "\n",
        "\n",
        "The discriminator is a binary classifier to distinguish if the input $x$ is real (from real data) or fake (from the generator). Typically, the discriminator outputs a scalar prediction $o\\in\\mathbb R$ for input $\\mathbf x$, such as using a fully connected layer with hidden size 1, and then applies sigmoid function to obtain the predicted probability $D(\\mathbf x) = 1/(1+e^{-o})$. Assume the label $y$ for the true data is $1$ and $0$ for the fake data. We train the discriminator to minimize the cross-entropy loss, *i.e.*,\n",
        "\n",
        "$$ \\min_D \\{ - y \\log D(\\mathbf x) - (1-y)\\log(1-D(\\mathbf x)) \\},$$\n",
        "\n",
        "For the generator, it first draws some parameter $\\mathbf z\\in\\mathbb R^d$ from a source of randomness, *e.g.*, a normal distribution $\\mathbf z \\sim \\mathcal{N} (0, 1)$. We often call $\\mathbf z$ as the latent variable.\n",
        "It then applies a function to generate $\\mathbf x'=G(\\mathbf z)$. The goal of the generator is to fool the discriminator to classify $\\mathbf x'=G(\\mathbf z)$ as true data, *i.e.*, we want $D( G(\\mathbf z)) \\approx 1$.\n",
        "In other words, for a given discriminator $D$, we update the parameters of the generator $G$ to maximize the cross-entropy loss when $y=0$, *i.e.*,\n",
        "\n",
        "$$ \\max_G \\{ - (1-y) \\log(1-D(G(\\mathbf z))) \\} = \\max_G \\{ - \\log(1-D(G(\\mathbf z))) \\}.$$\n",
        "\n",
        "If the generator does a perfect job, then $D(\\mathbf x')\\approx 1$, so the above loss is near 0, which results in the gradients that are too small to make good progress for the discriminator. So commonly, we minimize the following loss:\n",
        "\n",
        "$$ \\min_G \\{ - y \\log(D(G(\\mathbf z))) \\} = \\min_G \\{ - \\log(D(G(\\mathbf z))) \\}, $$\n",
        "\n",
        "which is just feeding $\\mathbf x'=G(\\mathbf z)$ into the discriminator but giving label $y=1$.\n",
        "\n",
        "\n",
        "To sum up, $D$ and $G$ are playing a \"minimax\" game with the comprehensive objective function:\n",
        "\n",
        "$$\\min_D \\max_G \\{ -E_{x \\sim \\textrm{Data}} \\log D(\\mathbf x) - E_{z \\sim \\textrm{Noise}} \\log(1 - D(G(\\mathbf z))) \\}.$$\n",
        "\n",
        "\n",
        "\n",
        "Many of the GANs applications are in the context of images. As a demonstration purpose, we are going to content ourselves with fitting a much simpler distribution first. We will illustrate what happens if we use GANs to build the world's most inefficient estimator of parameters for a Gaussian. Let's get started.\n"
      ]
    },
    {
      "cell_type": "code",
      "source": [
        "%matplotlib inline\n",
        "\n",
        "import logging\n",
        "\n",
        "import d2l\n",
        "import d2l.tensorflow as dtf\n",
        "\n",
        "import tensorflow as tf\n",
        "\n",
        "import seaborn as sns"
      ],
      "metadata": {
        "id": "YYFqEUsTOabC"
      },
      "id": "YYFqEUsTOabC",
      "execution_count": 1,
      "outputs": []
    },
    {
      "cell_type": "code",
      "source": [
        "logging.basicConfig(level=logging.INFO,\n",
        "                    format='\\n%(message)s\\n%(asctime)s.%(msecs)03d',\n",
        "                    datefmt='%Y-%m-%d %H:%M:%S')\n",
        "logger = logging.getLogger(__name__)"
      ],
      "metadata": {
        "id": "1tt0P8RZcJFD"
      },
      "id": "1tt0P8RZcJFD",
      "execution_count": 2,
      "outputs": []
    },
    {
      "cell_type": "code",
      "source": [
        "sns.set_style('darkgrid')"
      ],
      "metadata": {
        "id": "-A92Q7iZ7tpg"
      },
      "id": "-A92Q7iZ7tpg",
      "execution_count": 3,
      "outputs": []
    },
    {
      "cell_type": "markdown",
      "id": "c34697c4",
      "metadata": {
        "origin_pos": 4,
        "id": "c34697c4"
      },
      "source": [
        "<br>\n",
        "<br>\n",
        "\n",
        "## Generate Some \"Real\" Data\n",
        "\n",
        "Since this is going to be the world's lamest example, we simply generate data drawn from a Gaussian.\n"
      ]
    },
    {
      "cell_type": "code",
      "execution_count": 4,
      "id": "a23fc851",
      "metadata": {
        "execution": {
          "iopub.execute_input": "2023-08-18T19:37:54.560462Z",
          "iopub.status.busy": "2023-08-18T19:37:54.559808Z",
          "iopub.status.idle": "2023-08-18T19:37:54.592970Z",
          "shell.execute_reply": "2023-08-18T19:37:54.591379Z"
        },
        "origin_pos": 5,
        "tab": [
          "pytorch"
        ],
        "id": "a23fc851",
        "colab": {
          "base_uri": "https://localhost:8080/"
        },
        "outputId": "4d52e255-1236-4be2-a4bf-9a40c12e1aa9"
      },
      "outputs": [
        {
          "output_type": "stream",
          "name": "stdout",
          "text": [
            "tf.Tensor(\n",
            "[[-0.4033168  -0.5534118 ]\n",
            " [ 2.2222185   2.446775  ]\n",
            " [-1.0859123   0.8242253 ]\n",
            " ...\n",
            " [ 0.26845765  0.25807038]\n",
            " [-0.45771992 -1.4016277 ]\n",
            " [-1.241594    0.7320836 ]], shape=(1000, 2), dtype=float32)\n"
          ]
        }
      ],
      "source": [
        "X = tf.random.normal((1000, 2), 0.0, 1)\n",
        "print(X)"
      ]
    },
    {
      "cell_type": "code",
      "source": [
        "A = tf.constant([[1, 2], [-0.1, 0.5]])\n",
        "print(A)"
      ],
      "metadata": {
        "colab": {
          "base_uri": "https://localhost:8080/"
        },
        "id": "VFnyt4IJO4-r",
        "outputId": "7d530b65-5923-461b-da40-949bb782dd02"
      },
      "id": "VFnyt4IJO4-r",
      "execution_count": 5,
      "outputs": [
        {
          "output_type": "stream",
          "name": "stdout",
          "text": [
            "tf.Tensor(\n",
            "[[ 1.   2. ]\n",
            " [-0.1  0.5]], shape=(2, 2), dtype=float32)\n"
          ]
        }
      ]
    },
    {
      "cell_type": "code",
      "source": [
        "b = tf.constant([1, 2], tf.float32)\n",
        "print(b)"
      ],
      "metadata": {
        "colab": {
          "base_uri": "https://localhost:8080/"
        },
        "id": "M81hHUcOO5fk",
        "outputId": "881e192d-f9f2-402a-a57a-5c28509e2a7c"
      },
      "id": "M81hHUcOO5fk",
      "execution_count": 6,
      "outputs": [
        {
          "output_type": "stream",
          "name": "stdout",
          "text": [
            "tf.Tensor([1. 2.], shape=(2,), dtype=float32)\n"
          ]
        }
      ]
    },
    {
      "cell_type": "code",
      "source": [
        "data = tf.matmul(X, A) + b\n",
        "print(data)"
      ],
      "metadata": {
        "colab": {
          "base_uri": "https://localhost:8080/"
        },
        "id": "6uIs08HOPDUC",
        "outputId": "eea540f5-6315-4e71-f6ba-ba08858387a9"
      },
      "id": "6uIs08HOPDUC",
      "execution_count": 7,
      "outputs": [
        {
          "output_type": "stream",
          "name": "stdout",
          "text": [
            "tf.Tensor(\n",
            "[[ 0.6520244   0.91666055]\n",
            " [ 2.977541    7.6678247 ]\n",
            " [-0.16833484  0.24028802]\n",
            " ...\n",
            " [ 1.2426506   2.6659505 ]\n",
            " [ 0.68244284  0.3837464 ]\n",
            " [-0.3148023  -0.11714602]], shape=(1000, 2), dtype=float32)\n"
          ]
        }
      ]
    },
    {
      "cell_type": "code",
      "source": [
        "data[:100, 0]"
      ],
      "metadata": {
        "colab": {
          "base_uri": "https://localhost:8080/"
        },
        "id": "14_aG6swSoZv",
        "outputId": "14146953-3b6d-4e88-cfa7-2b202b07d6c7"
      },
      "id": "14_aG6swSoZv",
      "execution_count": 8,
      "outputs": [
        {
          "output_type": "execute_result",
          "data": {
            "text/plain": [
              "<tf.Tensor: shape=(100,), dtype=float32, numpy=\n",
              "array([ 6.5202439e-01,  2.9775410e+00, -1.6833484e-01,  1.9583600e+00,\n",
              "        9.7425973e-01,  2.2282109e+00,  1.1604836e+00,  2.7721691e-01,\n",
              "        1.5927670e+00,  4.2710626e-01,  1.2467297e+00,  5.7563466e-01,\n",
              "       -1.4507914e-01,  9.4706619e-01,  2.4321532e+00,  1.3276863e+00,\n",
              "        7.6985371e-01,  2.4259412e-01,  1.3621198e+00, -5.4599380e-01,\n",
              "        1.6470985e+00,  7.6827693e-01,  1.0374677e+00,  3.6121368e-02,\n",
              "        1.6923875e+00,  1.3573790e+00,  9.2517251e-01,  2.6107421e+00,\n",
              "        1.2498845e+00,  4.0658216e+00,  1.4806600e+00,  2.2220798e+00,\n",
              "       -4.2101038e-01,  1.2483336e+00, -4.8627341e-01,  1.4913470e+00,\n",
              "        1.7205247e+00,  9.3359274e-01,  9.5936334e-01,  2.1618729e+00,\n",
              "        1.4993587e+00, -3.2513559e-01,  2.2454941e-01,  2.1029365e+00,\n",
              "        4.6996057e-01,  1.8112106e+00,  9.7254825e-01,  6.7515898e-01,\n",
              "        3.3756709e-01, -1.0089962e+00,  1.2650187e+00,  2.6512041e+00,\n",
              "        1.2555625e+00,  2.8836131e-03,  1.6637474e+00, -1.4446571e+00,\n",
              "        8.0562568e-01,  7.4781907e-01,  1.9200048e+00,  2.3564923e-01,\n",
              "        3.7431788e-01, -7.0396841e-01,  6.6671443e-01,  2.4545521e-01,\n",
              "        1.5467124e+00,  1.2537161e+00,  6.6507125e-01,  1.5005537e+00,\n",
              "        1.6636902e+00,  1.2359560e+00, -2.4560952e-01,  2.4637585e+00,\n",
              "        2.8798308e+00,  2.5013709e+00,  7.3946774e-01,  1.4948661e+00,\n",
              "        2.2943730e+00, -1.0211105e+00,  1.2636783e+00, -6.6172707e-01,\n",
              "        1.6396203e+00, -5.6146145e-02,  9.6299833e-01,  5.5925643e-01,\n",
              "        1.4617133e+00,  8.9438558e-01,  1.7581114e+00, -6.7238915e-01,\n",
              "        1.0510958e+00,  1.9047740e+00,  1.7641617e+00,  4.1551957e+00,\n",
              "        1.0943552e+00,  7.2320992e-01,  2.8670228e-01,  5.4181504e-01,\n",
              "        1.7801404e-01,  1.7385905e+00,  4.3796575e-01,  2.0383060e-01],\n",
              "      dtype=float32)>"
            ]
          },
          "metadata": {},
          "execution_count": 8
        }
      ]
    },
    {
      "cell_type": "markdown",
      "id": "3eae2cb2",
      "metadata": {
        "origin_pos": 7,
        "id": "3eae2cb2"
      },
      "source": [
        "Let's see what we got. This should be a Gaussian shifted in some rather arbitrary way with mean $b$ and covariance matrix $A^TA$.\n"
      ]
    },
    {
      "cell_type": "code",
      "execution_count": 9,
      "id": "d8224fa2",
      "metadata": {
        "execution": {
          "iopub.execute_input": "2023-08-18T19:37:54.598846Z",
          "iopub.status.busy": "2023-08-18T19:37:54.596687Z",
          "iopub.status.idle": "2023-08-18T19:37:54.819864Z",
          "shell.execute_reply": "2023-08-18T19:37:54.818679Z"
        },
        "origin_pos": 8,
        "tab": [
          "pytorch"
        ],
        "id": "d8224fa2",
        "outputId": "3740a13e-d71f-4bec-b897-40079f7c5335",
        "colab": {
          "base_uri": "https://localhost:8080/",
          "height": 300
        }
      },
      "outputs": [
        {
          "output_type": "stream",
          "name": "stdout",
          "text": [
            "The covariance matrix is\n",
            "[[1.01 1.95]\n",
            " [1.95 4.25]]\n"
          ]
        },
        {
          "output_type": "display_data",
          "data": {
            "text/plain": [
              "<Figure size 350x250 with 1 Axes>"
            ],
            "image/svg+xml": "<?xml version=\"1.0\" encoding=\"utf-8\" standalone=\"no\"?>\n<!DOCTYPE svg PUBLIC \"-//W3C//DTD SVG 1.1//EN\"\n  \"http://www.w3.org/Graphics/SVG/1.1/DTD/svg11.dtd\">\n<svg xmlns:xlink=\"http://www.w3.org/1999/xlink\" width=\"240.982812pt\" height=\"169.678125pt\" viewBox=\"0 0 240.982812 169.678125\" xmlns=\"http://www.w3.org/2000/svg\" version=\"1.1\">\n <metadata>\n  <rdf:RDF xmlns:dc=\"http://purl.org/dc/elements/1.1/\" xmlns:cc=\"http://creativecommons.org/ns#\" xmlns:rdf=\"http://www.w3.org/1999/02/22-rdf-syntax-ns#\">\n   <cc:Work>\n    <dc:type rdf:resource=\"http://purl.org/dc/dcmitype/StillImage\"/>\n    <dc:date>2023-10-19T17:36:12.738822</dc:date>\n    <dc:format>image/svg+xml</dc:format>\n    <dc:creator>\n     <cc:Agent>\n      <dc:title>Matplotlib v3.7.2, https://matplotlib.org/</dc:title>\n     </cc:Agent>\n    </dc:creator>\n   </cc:Work>\n  </rdf:RDF>\n </metadata>\n <defs>\n  <style type=\"text/css\">*{stroke-linejoin: round; stroke-linecap: butt}</style>\n </defs>\n <g id=\"figure_1\">\n  <g id=\"patch_1\">\n   <path d=\"M -0 169.678125 \nL 240.982813 169.678125 \nL 240.982813 0 \nL -0 0 \nz\n\" style=\"fill: #ffffff\"/>\n  </g>\n  <g id=\"axes_1\">\n   <g id=\"patch_2\">\n    <path d=\"M 38.482813 145.8 \nL 233.782813 145.8 \nL 233.782813 7.2 \nL 38.482813 7.2 \nz\n\" style=\"fill: #eaeaf2\"/>\n   </g>\n   <g id=\"matplotlib.axis_1\">\n    <g id=\"xtick_1\">\n     <g id=\"line2d_1\">\n      <path d=\"M 93.163485 145.8 \nL 93.163485 7.2 \n\" clip-path=\"url(#paf041b03f3)\" style=\"fill: none; stroke: #ffffff; stroke-width: 0.8; stroke-linecap: round\"/>\n     </g>\n     <g id=\"text_1\">\n      <!-- 0 -->\n      <g style=\"fill: #262626\" transform=\"translate(89.982235 160.398438) scale(0.1 -0.1)\">\n       <defs>\n        <path id=\"DejaVuSans-30\" d=\"M 2034 4250 \nQ 1547 4250 1301 3770 \nQ 1056 3291 1056 2328 \nQ 1056 1369 1301 889 \nQ 1547 409 2034 409 \nQ 2525 409 2770 889 \nQ 3016 1369 3016 2328 \nQ 3016 3291 2770 3770 \nQ 2525 4250 2034 4250 \nz\nM 2034 4750 \nQ 2819 4750 3233 4129 \nQ 3647 3509 3647 2328 \nQ 3647 1150 3233 529 \nQ 2819 -91 2034 -91 \nQ 1250 -91 836 529 \nQ 422 1150 422 2328 \nQ 422 3509 836 4129 \nQ 1250 4750 2034 4750 \nz\n\" transform=\"scale(0.015625)\"/>\n       </defs>\n       <use xlink:href=\"#DejaVuSans-30\"/>\n      </g>\n     </g>\n    </g>\n    <g id=\"xtick_2\">\n     <g id=\"line2d_2\">\n      <path d=\"M 156.574243 145.8 \nL 156.574243 7.2 \n\" clip-path=\"url(#paf041b03f3)\" style=\"fill: none; stroke: #ffffff; stroke-width: 0.8; stroke-linecap: round\"/>\n     </g>\n     <g id=\"text_2\">\n      <!-- 2 -->\n      <g style=\"fill: #262626\" transform=\"translate(153.392993 160.398438) scale(0.1 -0.1)\">\n       <defs>\n        <path id=\"DejaVuSans-32\" d=\"M 1228 531 \nL 3431 531 \nL 3431 0 \nL 469 0 \nL 469 531 \nQ 828 903 1448 1529 \nQ 2069 2156 2228 2338 \nQ 2531 2678 2651 2914 \nQ 2772 3150 2772 3378 \nQ 2772 3750 2511 3984 \nQ 2250 4219 1831 4219 \nQ 1534 4219 1204 4116 \nQ 875 4013 500 3803 \nL 500 4441 \nQ 881 4594 1212 4672 \nQ 1544 4750 1819 4750 \nQ 2544 4750 2975 4387 \nQ 3406 4025 3406 3419 \nQ 3406 3131 3298 2873 \nQ 3191 2616 2906 2266 \nQ 2828 2175 2409 1742 \nQ 1991 1309 1228 531 \nz\n\" transform=\"scale(0.015625)\"/>\n       </defs>\n       <use xlink:href=\"#DejaVuSans-32\"/>\n      </g>\n     </g>\n    </g>\n    <g id=\"xtick_3\">\n     <g id=\"line2d_3\">\n      <path d=\"M 219.985001 145.8 \nL 219.985001 7.2 \n\" clip-path=\"url(#paf041b03f3)\" style=\"fill: none; stroke: #ffffff; stroke-width: 0.8; stroke-linecap: round\"/>\n     </g>\n     <g id=\"text_3\">\n      <!-- 4 -->\n      <g style=\"fill: #262626\" transform=\"translate(216.803751 160.398438) scale(0.1 -0.1)\">\n       <defs>\n        <path id=\"DejaVuSans-34\" d=\"M 2419 4116 \nL 825 1625 \nL 2419 1625 \nL 2419 4116 \nz\nM 2253 4666 \nL 3047 4666 \nL 3047 1625 \nL 3713 1625 \nL 3713 1100 \nL 3047 1100 \nL 3047 0 \nL 2419 0 \nL 2419 1100 \nL 313 1100 \nL 313 1709 \nL 2253 4666 \nz\n\" transform=\"scale(0.015625)\"/>\n       </defs>\n       <use xlink:href=\"#DejaVuSans-34\"/>\n      </g>\n     </g>\n    </g>\n   </g>\n   <g id=\"matplotlib.axis_2\">\n    <g id=\"ytick_1\">\n     <g id=\"line2d_4\">\n      <path d=\"M 38.482813 136.781712 \nL 233.782813 136.781712 \n\" clip-path=\"url(#paf041b03f3)\" style=\"fill: none; stroke: #ffffff; stroke-width: 0.8; stroke-linecap: round\"/>\n     </g>\n     <g id=\"text_4\">\n      <!-- −2.5 -->\n      <g style=\"fill: #262626\" transform=\"translate(7.2 140.580931) scale(0.1 -0.1)\">\n       <defs>\n        <path id=\"DejaVuSans-2212\" d=\"M 678 2272 \nL 4684 2272 \nL 4684 1741 \nL 678 1741 \nL 678 2272 \nz\n\" transform=\"scale(0.015625)\"/>\n        <path id=\"DejaVuSans-2e\" d=\"M 684 794 \nL 1344 794 \nL 1344 0 \nL 684 0 \nL 684 794 \nz\n\" transform=\"scale(0.015625)\"/>\n        <path id=\"DejaVuSans-35\" d=\"M 691 4666 \nL 3169 4666 \nL 3169 4134 \nL 1269 4134 \nL 1269 2991 \nQ 1406 3038 1543 3061 \nQ 1681 3084 1819 3084 \nQ 2600 3084 3056 2656 \nQ 3513 2228 3513 1497 \nQ 3513 744 3044 326 \nQ 2575 -91 1722 -91 \nQ 1428 -91 1123 -41 \nQ 819 9 494 109 \nL 494 744 \nQ 775 591 1075 516 \nQ 1375 441 1709 441 \nQ 2250 441 2565 725 \nQ 2881 1009 2881 1497 \nQ 2881 1984 2565 2268 \nQ 2250 2553 1709 2553 \nQ 1456 2553 1204 2497 \nQ 953 2441 691 2322 \nL 691 4666 \nz\n\" transform=\"scale(0.015625)\"/>\n       </defs>\n       <use xlink:href=\"#DejaVuSans-2212\"/>\n       <use xlink:href=\"#DejaVuSans-32\" x=\"83.789062\"/>\n       <use xlink:href=\"#DejaVuSans-2e\" x=\"147.412109\"/>\n       <use xlink:href=\"#DejaVuSans-35\" x=\"179.199219\"/>\n      </g>\n     </g>\n    </g>\n    <g id=\"ytick_2\">\n     <g id=\"line2d_5\">\n      <path d=\"M 38.482813 108.550599 \nL 233.782813 108.550599 \n\" clip-path=\"url(#paf041b03f3)\" style=\"fill: none; stroke: #ffffff; stroke-width: 0.8; stroke-linecap: round\"/>\n     </g>\n     <g id=\"text_5\">\n      <!-- 0.0 -->\n      <g style=\"fill: #262626\" transform=\"translate(15.579688 112.349817) scale(0.1 -0.1)\">\n       <use xlink:href=\"#DejaVuSans-30\"/>\n       <use xlink:href=\"#DejaVuSans-2e\" x=\"63.623047\"/>\n       <use xlink:href=\"#DejaVuSans-30\" x=\"95.410156\"/>\n      </g>\n     </g>\n    </g>\n    <g id=\"ytick_3\">\n     <g id=\"line2d_6\">\n      <path d=\"M 38.482813 80.319486 \nL 233.782813 80.319486 \n\" clip-path=\"url(#paf041b03f3)\" style=\"fill: none; stroke: #ffffff; stroke-width: 0.8; stroke-linecap: round\"/>\n     </g>\n     <g id=\"text_6\">\n      <!-- 2.5 -->\n      <g style=\"fill: #262626\" transform=\"translate(15.579688 84.118704) scale(0.1 -0.1)\">\n       <use xlink:href=\"#DejaVuSans-32\"/>\n       <use xlink:href=\"#DejaVuSans-2e\" x=\"63.623047\"/>\n       <use xlink:href=\"#DejaVuSans-35\" x=\"95.410156\"/>\n      </g>\n     </g>\n    </g>\n    <g id=\"ytick_4\">\n     <g id=\"line2d_7\">\n      <path d=\"M 38.482813 52.088373 \nL 233.782813 52.088373 \n\" clip-path=\"url(#paf041b03f3)\" style=\"fill: none; stroke: #ffffff; stroke-width: 0.8; stroke-linecap: round\"/>\n     </g>\n     <g id=\"text_7\">\n      <!-- 5.0 -->\n      <g style=\"fill: #262626\" transform=\"translate(15.579688 55.887591) scale(0.1 -0.1)\">\n       <use xlink:href=\"#DejaVuSans-35\"/>\n       <use xlink:href=\"#DejaVuSans-2e\" x=\"63.623047\"/>\n       <use xlink:href=\"#DejaVuSans-30\" x=\"95.410156\"/>\n      </g>\n     </g>\n    </g>\n    <g id=\"ytick_5\">\n     <g id=\"line2d_8\">\n      <path d=\"M 38.482813 23.857259 \nL 233.782813 23.857259 \n\" clip-path=\"url(#paf041b03f3)\" style=\"fill: none; stroke: #ffffff; stroke-width: 0.8; stroke-linecap: round\"/>\n     </g>\n     <g id=\"text_8\">\n      <!-- 7.5 -->\n      <g style=\"fill: #262626\" transform=\"translate(15.579688 27.656478) scale(0.1 -0.1)\">\n       <defs>\n        <path id=\"DejaVuSans-37\" d=\"M 525 4666 \nL 3525 4666 \nL 3525 4397 \nL 1831 0 \nL 1172 0 \nL 2766 4134 \nL 525 4134 \nL 525 4666 \nz\n\" transform=\"scale(0.015625)\"/>\n       </defs>\n       <use xlink:href=\"#DejaVuSans-37\"/>\n       <use xlink:href=\"#DejaVuSans-2e\" x=\"63.623047\"/>\n       <use xlink:href=\"#DejaVuSans-35\" x=\"95.410156\"/>\n      </g>\n     </g>\n    </g>\n   </g>\n   <g id=\"PathCollection_1\">\n    <defs>\n     <path id=\"m2ff5054631\" d=\"M 0 3 \nC 0.795609 3 1.55874 2.683901 2.12132 2.12132 \nC 2.683901 1.55874 3 0.795609 3 0 \nC 3 -0.795609 2.683901 -1.55874 2.12132 -2.12132 \nC 1.55874 -2.683901 0.795609 -3 0 -3 \nC -0.795609 -3 -1.55874 -2.683901 -2.12132 -2.12132 \nC -2.683901 -1.55874 -3 -0.795609 -3 0 \nC -3 0.795609 -2.683901 1.55874 -2.12132 2.12132 \nC -1.55874 2.683901 -0.795609 3 0 3 \nz\n\" style=\"stroke: #1f77b4\"/>\n    </defs>\n    <g clip-path=\"url(#paf041b03f3)\">\n     <use xlink:href=\"#m2ff5054631\" x=\"113.836166\" y=\"98.19926\" style=\"fill: #1f77b4; stroke: #1f77b4\"/>\n     <use xlink:href=\"#m2ff5054631\" x=\"187.56755\" y=\"21.962108\" style=\"fill: #1f77b4; stroke: #1f77b4\"/>\n     <use xlink:href=\"#m2ff5054631\" x=\"87.826366\" y=\"105.837159\" style=\"fill: #1f77b4; stroke: #1f77b4\"/>\n     <use xlink:href=\"#m2ff5054631\" x=\"155.25403\" y=\"64.063466\" style=\"fill: #1f77b4; stroke: #1f77b4\"/>\n     <use xlink:href=\"#m2ff5054631\" x=\"124.052759\" y=\"85.212707\" style=\"fill: #1f77b4; stroke: #1f77b4\"/>\n     <use xlink:href=\"#m2ff5054631\" x=\"163.809757\" y=\"47.825695\" style=\"fill: #1f77b4; stroke: #1f77b4\"/>\n     <use xlink:href=\"#m2ff5054631\" x=\"129.957058\" y=\"85.214842\" style=\"fill: #1f77b4; stroke: #1f77b4\"/>\n     <use xlink:href=\"#m2ff5054631\" x=\"101.952753\" y=\"102.261561\" style=\"fill: #1f77b4; stroke: #1f77b4\"/>\n     <use xlink:href=\"#m2ff5054631\" x=\"143.662767\" y=\"72.960062\" style=\"fill: #1f77b4; stroke: #1f77b4\"/>\n     <use xlink:href=\"#m2ff5054631\" x=\"106.705051\" y=\"89.468988\" style=\"fill: #1f77b4; stroke: #1f77b4\"/>\n     <use xlink:href=\"#m2ff5054631\" x=\"132.691524\" y=\"93.044352\" style=\"fill: #1f77b4; stroke: #1f77b4\"/>\n     <use xlink:href=\"#m2ff5054631\" x=\"111.4142\" y=\"96.100134\" style=\"fill: #1f77b4; stroke: #1f77b4\"/>\n     <use xlink:href=\"#m2ff5054631\" x=\"88.563697\" y=\"108.334982\" style=\"fill: #1f77b4; stroke: #1f77b4\"/>\n     <use xlink:href=\"#m2ff5054631\" x=\"123.190578\" y=\"89.351457\" style=\"fill: #1f77b4; stroke: #1f77b4\"/>\n     <use xlink:href=\"#m2ff5054631\" x=\"170.275825\" y=\"47.406779\" style=\"fill: #1f77b4; stroke: #1f77b4\"/>\n     <use xlink:href=\"#m2ff5054631\" x=\"135.258283\" y=\"76.883818\" style=\"fill: #1f77b4; stroke: #1f77b4\"/>\n     <use xlink:href=\"#m2ff5054631\" x=\"117.571989\" y=\"77.248058\" style=\"fill: #1f77b4; stroke: #1f77b4\"/>\n     <use xlink:href=\"#m2ff5054631\" x=\"100.855024\" y=\"100.201309\" style=\"fill: #1f77b4; stroke: #1f77b4\"/>\n     <use xlink:href=\"#m2ff5054631\" x=\"136.35001\" y=\"80.741581\" style=\"fill: #1f77b4; stroke: #1f77b4\"/>\n     <use xlink:href=\"#m2ff5054631\" x=\"75.852545\" y=\"112.52485\" style=\"fill: #1f77b4; stroke: #1f77b4\"/>\n     <use xlink:href=\"#m2ff5054631\" x=\"145.385369\" y=\"71.205525\" style=\"fill: #1f77b4; stroke: #1f77b4\"/>\n     <use xlink:href=\"#m2ff5054631\" x=\"117.521997\" y=\"97.070215\" style=\"fill: #1f77b4; stroke: #1f77b4\"/>\n     <use xlink:href=\"#m2ff5054631\" x=\"126.056793\" y=\"91.257857\" style=\"fill: #1f77b4; stroke: #1f77b4\"/>\n     <use xlink:href=\"#m2ff5054631\" x=\"94.308727\" y=\"109.724134\" style=\"fill: #1f77b4; stroke: #1f77b4\"/>\n     <use xlink:href=\"#m2ff5054631\" x=\"146.821271\" y=\"73.25594\" style=\"fill: #1f77b4; stroke: #1f77b4\"/>\n     <use xlink:href=\"#m2ff5054631\" x=\"136.1997\" y=\"66.835049\" style=\"fill: #1f77b4; stroke: #1f77b4\"/>\n     <use xlink:href=\"#m2ff5054631\" x=\"122.49643\" y=\"72.056104\" style=\"fill: #1f77b4; stroke: #1f77b4\"/>\n     <use xlink:href=\"#m2ff5054631\" x=\"175.938053\" y=\"51.753565\" style=\"fill: #1f77b4; stroke: #1f77b4\"/>\n     <use xlink:href=\"#m2ff5054631\" x=\"132.791547\" y=\"83.229123\" style=\"fill: #1f77b4; stroke: #1f77b4\"/>\n     <use xlink:href=\"#m2ff5054631\" x=\"222.071901\" y=\"13.5\" style=\"fill: #1f77b4; stroke: #1f77b4\"/>\n     <use xlink:href=\"#m2ff5054631\" x=\"140.108371\" y=\"82.224427\" style=\"fill: #1f77b4; stroke: #1f77b4\"/>\n     <use xlink:href=\"#m2ff5054631\" x=\"163.615366\" y=\"61.103\" style=\"fill: #1f77b4; stroke: #1f77b4\"/>\n     <use xlink:href=\"#m2ff5054631\" x=\"79.815192\" y=\"123.80672\" style=\"fill: #1f77b4; stroke: #1f77b4\"/>\n     <use xlink:href=\"#m2ff5054631\" x=\"132.742374\" y=\"67.982315\" style=\"fill: #1f77b4; stroke: #1f77b4\"/>\n     <use xlink:href=\"#m2ff5054631\" x=\"77.746003\" y=\"126.412342\" style=\"fill: #1f77b4; stroke: #1f77b4\"/>\n     <use xlink:href=\"#m2ff5054631\" x=\"140.447206\" y=\"85.667455\" style=\"fill: #1f77b4; stroke: #1f77b4\"/>\n     <use xlink:href=\"#m2ff5054631\" x=\"147.713372\" y=\"72.407025\" style=\"fill: #1f77b4; stroke: #1f77b4\"/>\n     <use xlink:href=\"#m2ff5054631\" x=\"122.763397\" y=\"87.381705\" style=\"fill: #1f77b4; stroke: #1f77b4\"/>\n     <use xlink:href=\"#m2ff5054631\" x=\"123.580464\" y=\"81.467295\" style=\"fill: #1f77b4; stroke: #1f77b4\"/>\n     <use xlink:href=\"#m2ff5054631\" x=\"161.706484\" y=\"60.674801\" style=\"fill: #1f77b4; stroke: #1f77b4\"/>\n     <use xlink:href=\"#m2ff5054631\" x=\"140.70122\" y=\"63.867203\" style=\"fill: #1f77b4; stroke: #1f77b4\"/>\n     <use xlink:href=\"#m2ff5054631\" x=\"82.854938\" y=\"103.339747\" style=\"fill: #1f77b4; stroke: #1f77b4\"/>\n     <use xlink:href=\"#m2ff5054631\" x=\"100.28291\" y=\"101.954618\" style=\"fill: #1f77b4; stroke: #1f77b4\"/>\n     <use xlink:href=\"#m2ff5054631\" x=\"159.837884\" y=\"63.57508\" style=\"fill: #1f77b4; stroke: #1f77b4\"/>\n     <use xlink:href=\"#m2ff5054631\" x=\"108.063763\" y=\"87.712121\" style=\"fill: #1f77b4; stroke: #1f77b4\"/>\n     <use xlink:href=\"#m2ff5054631\" x=\"150.588605\" y=\"60.259542\" style=\"fill: #1f77b4; stroke: #1f77b4\"/>\n     <use xlink:href=\"#m2ff5054631\" x=\"123.998496\" y=\"100.334752\" style=\"fill: #1f77b4; stroke: #1f77b4\"/>\n     <use xlink:href=\"#m2ff5054631\" x=\"114.569657\" y=\"110.347742\" style=\"fill: #1f77b4; stroke: #1f77b4\"/>\n     <use xlink:href=\"#m2ff5054631\" x=\"103.866178\" y=\"87.494166\" style=\"fill: #1f77b4; stroke: #1f77b4\"/>\n     <use xlink:href=\"#m2ff5054631\" x=\"61.172877\" y=\"123.036006\" style=\"fill: #1f77b4; stroke: #1f77b4\"/>\n     <use xlink:href=\"#m2ff5054631\" x=\"133.271383\" y=\"82.906614\" style=\"fill: #1f77b4; stroke: #1f77b4\"/>\n     <use xlink:href=\"#m2ff5054631\" x=\"177.220916\" y=\"47.244329\" style=\"fill: #1f77b4; stroke: #1f77b4\"/>\n     <use xlink:href=\"#m2ff5054631\" x=\"132.971572\" y=\"97.787039\" style=\"fill: #1f77b4; stroke: #1f77b4\"/>\n     <use xlink:href=\"#m2ff5054631\" x=\"93.254912\" y=\"107.432275\" style=\"fill: #1f77b4; stroke: #1f77b4\"/>\n     <use xlink:href=\"#m2ff5054631\" x=\"145.913228\" y=\"81.255369\" style=\"fill: #1f77b4; stroke: #1f77b4\"/>\n     <use xlink:href=\"#m2ff5054631\" x=\"47.360085\" y=\"139.5\" style=\"fill: #1f77b4; stroke: #1f77b4\"/>\n     <use xlink:href=\"#m2ff5054631\" x=\"118.706153\" y=\"83.503582\" style=\"fill: #1f77b4; stroke: #1f77b4\"/>\n     <use xlink:href=\"#m2ff5054631\" x=\"116.873372\" y=\"89.833519\" style=\"fill: #1f77b4; stroke: #1f77b4\"/>\n     <use xlink:href=\"#m2ff5054631\" x=\"154.037966\" y=\"65.353083\" style=\"fill: #1f77b4; stroke: #1f77b4\"/>\n     <use xlink:href=\"#m2ff5054631\" x=\"100.634834\" y=\"105.661935\" style=\"fill: #1f77b4; stroke: #1f77b4\"/>\n     <use xlink:href=\"#m2ff5054631\" x=\"105.031376\" y=\"97.169584\" style=\"fill: #1f77b4; stroke: #1f77b4\"/>\n     <use xlink:href=\"#m2ff5054631\" x=\"70.8439\" y=\"118.396472\" style=\"fill: #1f77b4; stroke: #1f77b4\"/>\n     <use xlink:href=\"#m2ff5054631\" x=\"114.301919\" y=\"102.622019\" style=\"fill: #1f77b4; stroke: #1f77b4\"/>\n     <use xlink:href=\"#m2ff5054631\" x=\"100.945736\" y=\"105.37639\" style=\"fill: #1f77b4; stroke: #1f77b4\"/>\n     <use xlink:href=\"#m2ff5054631\" x=\"142.202588\" y=\"83.063211\" style=\"fill: #1f77b4; stroke: #1f77b4\"/>\n     <use xlink:href=\"#m2ff5054631\" x=\"132.91303\" y=\"85.717037\" style=\"fill: #1f77b4; stroke: #1f77b4\"/>\n     <use xlink:href=\"#m2ff5054631\" x=\"114.249821\" y=\"89.964037\" style=\"fill: #1f77b4; stroke: #1f77b4\"/>\n     <use xlink:href=\"#m2ff5054631\" x=\"140.73911\" y=\"65.845112\" style=\"fill: #1f77b4; stroke: #1f77b4\"/>\n     <use xlink:href=\"#m2ff5054631\" x=\"145.911414\" y=\"73.916875\" style=\"fill: #1f77b4; stroke: #1f77b4\"/>\n     <use xlink:href=\"#m2ff5054631\" x=\"132.349937\" y=\"76.824961\" style=\"fill: #1f77b4; stroke: #1f77b4\"/>\n     <use xlink:href=\"#m2ff5054631\" x=\"85.376343\" y=\"108.211606\" style=\"fill: #1f77b4; stroke: #1f77b4\"/>\n     <use xlink:href=\"#m2ff5054631\" x=\"171.277881\" y=\"47.795632\" style=\"fill: #1f77b4; stroke: #1f77b4\"/>\n     <use xlink:href=\"#m2ff5054631\" x=\"184.469613\" y=\"25.776599\" style=\"fill: #1f77b4; stroke: #1f77b4\"/>\n     <use xlink:href=\"#m2ff5054631\" x=\"172.470398\" y=\"53.175465\" style=\"fill: #1f77b4; stroke: #1f77b4\"/>\n     <use xlink:href=\"#m2ff5054631\" x=\"116.60859\" y=\"78.86923\" style=\"fill: #1f77b4; stroke: #1f77b4\"/>\n     <use xlink:href=\"#m2ff5054631\" x=\"140.558783\" y=\"75.007106\" style=\"fill: #1f77b4; stroke: #1f77b4\"/>\n     <use xlink:href=\"#m2ff5054631\" x=\"165.907452\" y=\"60.420279\" style=\"fill: #1f77b4; stroke: #1f77b4\"/>\n     <use xlink:href=\"#m2ff5054631\" x=\"60.788789\" y=\"131.374487\" style=\"fill: #1f77b4; stroke: #1f77b4\"/>\n     <use xlink:href=\"#m2ff5054631\" x=\"133.228885\" y=\"78.813752\" style=\"fill: #1f77b4; stroke: #1f77b4\"/>\n     <use xlink:href=\"#m2ff5054631\" x=\"72.183178\" y=\"121.958641\" style=\"fill: #1f77b4; stroke: #1f77b4\"/>\n     <use xlink:href=\"#m2ff5054631\" x=\"145.148268\" y=\"82.844174\" style=\"fill: #1f77b4; stroke: #1f77b4\"/>\n     <use xlink:href=\"#m2ff5054631\" x=\"91.383351\" y=\"102.484285\" style=\"fill: #1f77b4; stroke: #1f77b4\"/>\n     <use xlink:href=\"#m2ff5054631\" x=\"123.695712\" y=\"82.270212\" style=\"fill: #1f77b4; stroke: #1f77b4\"/>\n     <use xlink:href=\"#m2ff5054631\" x=\"110.894923\" y=\"99.631949\" style=\"fill: #1f77b4; stroke: #1f77b4\"/>\n     <use xlink:href=\"#m2ff5054631\" x=\"139.50766\" y=\"86.214878\" style=\"fill: #1f77b4; stroke: #1f77b4\"/>\n     <use xlink:href=\"#m2ff5054631\" x=\"121.520319\" y=\"92.710595\" style=\"fill: #1f77b4; stroke: #1f77b4\"/>\n     <use xlink:href=\"#m2ff5054631\" x=\"148.905072\" y=\"66.245482\" style=\"fill: #1f77b4; stroke: #1f77b4\"/>\n     <use xlink:href=\"#m2ff5054631\" x=\"71.845133\" y=\"114.46005\" style=\"fill: #1f77b4; stroke: #1f77b4\"/>\n     <use xlink:href=\"#m2ff5054631\" x=\"126.488877\" y=\"76.704294\" style=\"fill: #1f77b4; stroke: #1f77b4\"/>\n     <use xlink:href=\"#m2ff5054631\" x=\"153.555065\" y=\"74.230959\" style=\"fill: #1f77b4; stroke: #1f77b4\"/>\n     <use xlink:href=\"#m2ff5054631\" x=\"149.096901\" y=\"68.60617\" style=\"fill: #1f77b4; stroke: #1f77b4\"/>\n     <use xlink:href=\"#m2ff5054631\" x=\"224.90554\" y=\"22.216414\" style=\"fill: #1f77b4; stroke: #1f77b4\"/>\n     <use xlink:href=\"#m2ff5054631\" x=\"127.860433\" y=\"93.652122\" style=\"fill: #1f77b4; stroke: #1f77b4\"/>\n     <use xlink:href=\"#m2ff5054631\" x=\"116.09313\" y=\"91.326805\" style=\"fill: #1f77b4; stroke: #1f77b4\"/>\n     <use xlink:href=\"#m2ff5054631\" x=\"102.25349\" y=\"119.793621\" style=\"fill: #1f77b4; stroke: #1f77b4\"/>\n     <use xlink:href=\"#m2ff5054631\" x=\"110.341937\" y=\"108.494765\" style=\"fill: #1f77b4; stroke: #1f77b4\"/>\n     <use xlink:href=\"#m2ff5054631\" x=\"98.807488\" y=\"114.870407\" style=\"fill: #1f77b4; stroke: #1f77b4\"/>\n     <use xlink:href=\"#m2ff5054631\" x=\"148.286155\" y=\"79.555885\" style=\"fill: #1f77b4; stroke: #1f77b4\"/>\n     <use xlink:href=\"#m2ff5054631\" x=\"107.049356\" y=\"91.819822\" style=\"fill: #1f77b4; stroke: #1f77b4\"/>\n     <use xlink:href=\"#m2ff5054631\" x=\"99.626012\" y=\"111.51999\" style=\"fill: #1f77b4; stroke: #1f77b4\"/>\n    </g>\n   </g>\n   <g id=\"patch_3\">\n    <path d=\"M 38.482813 145.8 \nL 38.482813 7.2 \n\" style=\"fill: none; stroke: #ffffff; stroke-width: 0.8; stroke-linejoin: miter; stroke-linecap: square\"/>\n   </g>\n   <g id=\"patch_4\">\n    <path d=\"M 233.782813 145.8 \nL 233.782813 7.2 \n\" style=\"fill: none; stroke: #ffffff; stroke-width: 0.8; stroke-linejoin: miter; stroke-linecap: square\"/>\n   </g>\n   <g id=\"patch_5\">\n    <path d=\"M 38.482813 145.8 \nL 233.782813 145.8 \n\" style=\"fill: none; stroke: #ffffff; stroke-width: 0.8; stroke-linejoin: miter; stroke-linecap: square\"/>\n   </g>\n   <g id=\"patch_6\">\n    <path d=\"M 38.482813 7.2 \nL 233.782813 7.2 \n\" style=\"fill: none; stroke: #ffffff; stroke-width: 0.8; stroke-linejoin: miter; stroke-linecap: square\"/>\n   </g>\n  </g>\n </g>\n <defs>\n  <clipPath id=\"paf041b03f3\">\n   <rect x=\"38.482813\" y=\"7.2\" width=\"195.3\" height=\"138.6\"/>\n  </clipPath>\n </defs>\n</svg>\n"
          },
          "metadata": {}
        }
      ],
      "source": [
        "dtf.set_figsize()\n",
        "dtf.plt.scatter(data[:100, 0].numpy(), data[:100, 1].numpy());\n",
        "print(f'The covariance matrix is\\n{tf.matmul(A, A, transpose_a=True)}')"
      ]
    },
    {
      "cell_type": "code",
      "execution_count": 10,
      "id": "58699d06",
      "metadata": {
        "execution": {
          "iopub.execute_input": "2023-08-18T19:37:54.824909Z",
          "iopub.status.busy": "2023-08-18T19:37:54.824547Z",
          "iopub.status.idle": "2023-08-18T19:37:54.830317Z",
          "shell.execute_reply": "2023-08-18T19:37:54.829167Z"
        },
        "origin_pos": 10,
        "tab": [
          "pytorch"
        ],
        "id": "58699d06",
        "colab": {
          "base_uri": "https://localhost:8080/"
        },
        "outputId": "fbb268a6-2b71-4a52-960b-8455d62490ca"
      },
      "outputs": [
        {
          "output_type": "stream",
          "name": "stdout",
          "text": [
            "<_BatchDataset element_spec=(TensorSpec(shape=(None, 2), dtype=tf.float32, name=None),)>\n"
          ]
        }
      ],
      "source": [
        "batch_size = 8\n",
        "data_iter = dtf.load_array((data,), batch_size)\n",
        "print(data_iter)"
      ]
    },
    {
      "cell_type": "markdown",
      "id": "19ffd737",
      "metadata": {
        "origin_pos": 11,
        "id": "19ffd737"
      },
      "source": [
        "<br>\n",
        "<br>\n",
        "\n",
        "## Generator\n",
        "\n",
        "Our generator network will be the simplest network possible - a single layer linear model. This is since we will be driving that linear network with a Gaussian data generator. Hence, it literally only needs to learn the parameters to fake things perfectly.\n"
      ]
    },
    {
      "cell_type": "code",
      "execution_count": 11,
      "id": "ccc0fd58",
      "metadata": {
        "execution": {
          "iopub.execute_input": "2023-08-18T19:37:54.834958Z",
          "iopub.status.busy": "2023-08-18T19:37:54.834346Z",
          "iopub.status.idle": "2023-08-18T19:37:54.841305Z",
          "shell.execute_reply": "2023-08-18T19:37:54.840296Z"
        },
        "origin_pos": 13,
        "tab": [
          "pytorch"
        ],
        "id": "ccc0fd58",
        "colab": {
          "base_uri": "https://localhost:8080/"
        },
        "outputId": "8776bb85-bc38-45e0-d08a-1cf8a8dbef76"
      },
      "outputs": [
        {
          "output_type": "stream",
          "name": "stdout",
          "text": [
            "<keras.src.layers.core.dense.Dense object at 0x7a2f7015d2d0>\n"
          ]
        }
      ],
      "source": [
        "net_G = tf.keras.layers.Dense(2)\n",
        "print(net_G)"
      ]
    },
    {
      "cell_type": "markdown",
      "id": "3b0389a4",
      "metadata": {
        "origin_pos": 15,
        "id": "3b0389a4"
      },
      "source": [
        "<br>\n",
        "<br>\n",
        "\n",
        "## Discriminator\n",
        "\n",
        "For the discriminator we will be a bit more discriminating: we will use an MLP with 3 layers to make things a bit more interesting.\n"
      ]
    },
    {
      "cell_type": "code",
      "execution_count": 12,
      "id": "1ee21c33",
      "metadata": {
        "execution": {
          "iopub.execute_input": "2023-08-18T19:37:54.847079Z",
          "iopub.status.busy": "2023-08-18T19:37:54.846478Z",
          "iopub.status.idle": "2023-08-18T19:37:54.851943Z",
          "shell.execute_reply": "2023-08-18T19:37:54.850943Z"
        },
        "origin_pos": 17,
        "tab": [
          "pytorch"
        ],
        "id": "1ee21c33",
        "colab": {
          "base_uri": "https://localhost:8080/"
        },
        "outputId": "d9e46f29-bbd1-44bc-e03c-7880a52d7b0c"
      },
      "outputs": [
        {
          "output_type": "stream",
          "name": "stdout",
          "text": [
            "Model: \"sequential\"\n",
            "_________________________________________________________________\n",
            " Layer (type)                Output Shape              Param #   \n",
            "=================================================================\n",
            " dense_1 (Dense)             (None, 5)                 15        \n",
            "                                                                 \n",
            " dense_2 (Dense)             (None, 3)                 18        \n",
            "                                                                 \n",
            " dense_3 (Dense)             (None, 1)                 4         \n",
            "                                                                 \n",
            "=================================================================\n",
            "Total params: 37 (148.00 Byte)\n",
            "Trainable params: 37 (148.00 Byte)\n",
            "Non-trainable params: 0 (0.00 Byte)\n",
            "_________________________________________________________________\n"
          ]
        }
      ],
      "source": [
        "net_D = tf.keras.models.Sequential([\n",
        "    tf.keras.layers.Dense(5, activation='tanh', input_shape=(2,)),\n",
        "    tf.keras.layers.Dense(3, activation='tanh'),\n",
        "    tf.keras.layers.Dense(1)\n",
        "])\n",
        "net_D.summary()"
      ]
    },
    {
      "cell_type": "markdown",
      "id": "5e4dfd02",
      "metadata": {
        "origin_pos": 19,
        "id": "5e4dfd02"
      },
      "source": [
        "<br>\n",
        "<br>\n",
        "\n",
        "## Training\n",
        "\n",
        "First we define a function to update the discriminator.\n"
      ]
    },
    {
      "cell_type": "code",
      "execution_count": 13,
      "id": "b3b8cf85",
      "metadata": {
        "execution": {
          "iopub.execute_input": "2023-08-18T19:37:54.857667Z",
          "iopub.status.busy": "2023-08-18T19:37:54.857059Z",
          "iopub.status.idle": "2023-08-18T19:37:54.866336Z",
          "shell.execute_reply": "2023-08-18T19:37:54.864795Z"
        },
        "origin_pos": 21,
        "tab": [
          "pytorch"
        ],
        "id": "b3b8cf85"
      },
      "outputs": [],
      "source": [
        "def update_D(X, Z, net_D, net_G, loss, optimizer_D):\n",
        "    \"\"\"Update discriminator.\"\"\"\n",
        "\n",
        "    batch_size = X.shape[0]\n",
        "    ones = tf.ones((batch_size,)) # Labels corresponding to real data\n",
        "    zeros = tf.zeros((batch_size,)) # Labels corresponding to fake data\n",
        "    # Do not need to compute gradient for `net_G`, so it is outside GradientTape\n",
        "    fake_X = net_G(Z)\n",
        "    with tf.GradientTape() as tape:\n",
        "        real_Y = net_D(X)\n",
        "        fake_Y = net_D(fake_X)\n",
        "        # We multiply the loss by batch_size to match PyTorch's BCEWithLogitsLoss\n",
        "        loss_D = (loss(ones, tf.squeeze(real_Y)) + loss(\n",
        "            zeros, tf.squeeze(fake_Y))) * batch_size / 2\n",
        "    grads_D = tape.gradient(loss_D, net_D.trainable_variables)\n",
        "    optimizer_D.apply_gradients(zip(grads_D, net_D.trainable_variables))\n",
        "    return loss_D\n"
      ]
    },
    {
      "cell_type": "markdown",
      "id": "5918495e",
      "metadata": {
        "origin_pos": 23,
        "id": "5918495e"
      },
      "source": [
        "The generator is updated similarly. Here we reuse the cross-entropy loss but change the label of the fake data from $0$ to $1$.\n"
      ]
    },
    {
      "cell_type": "code",
      "execution_count": 14,
      "id": "e30b1d11",
      "metadata": {
        "execution": {
          "iopub.execute_input": "2023-08-18T19:37:54.871558Z",
          "iopub.status.busy": "2023-08-18T19:37:54.870130Z",
          "iopub.status.idle": "2023-08-18T19:37:54.877351Z",
          "shell.execute_reply": "2023-08-18T19:37:54.876243Z"
        },
        "origin_pos": 25,
        "tab": [
          "pytorch"
        ],
        "id": "e30b1d11"
      },
      "outputs": [],
      "source": [
        "def update_G(Z, net_D, net_G, loss, optimizer_G):\n",
        "    \"\"\"Update generator.\"\"\"\n",
        "\n",
        "    batch_size = Z.shape[0]\n",
        "    ones = tf.ones((batch_size,))\n",
        "    with tf.GradientTape() as tape:\n",
        "        # We could reuse `fake_X` from `update_D` to save computation\n",
        "        fake_X = net_G(Z)\n",
        "        # Recomputing `fake_Y` is needed since `net_D` is changed\n",
        "        fake_Y = net_D(fake_X)\n",
        "        # We multiply the loss by batch_size to match PyTorch's BCEWithLogits loss\n",
        "        loss_G = loss(ones, tf.squeeze(fake_Y)) * batch_size\n",
        "    grads_G = tape.gradient(loss_G, net_G.trainable_variables)\n",
        "    optimizer_G.apply_gradients(zip(grads_G, net_G.trainable_variables))\n",
        "    return loss_G"
      ]
    },
    {
      "cell_type": "markdown",
      "id": "1ceac030",
      "metadata": {
        "origin_pos": 27,
        "id": "1ceac030"
      },
      "source": [
        "<br>\n",
        "\n",
        "Both the discriminator and the generator performs a binary logistic regression with the cross-entropy loss. We use Adam to smooth the training process. In each iteration, we first update the discriminator and then the generator. We visualize both losses and generated examples.\n"
      ]
    },
    {
      "cell_type": "code",
      "execution_count": 15,
      "id": "742a9e3b",
      "metadata": {
        "execution": {
          "iopub.execute_input": "2023-08-18T19:37:54.881764Z",
          "iopub.status.busy": "2023-08-18T19:37:54.881214Z",
          "iopub.status.idle": "2023-08-18T19:37:54.892786Z",
          "shell.execute_reply": "2023-08-18T19:37:54.891599Z"
        },
        "origin_pos": 29,
        "tab": [
          "pytorch"
        ],
        "id": "742a9e3b"
      },
      "outputs": [],
      "source": [
        "def train(net_D, net_G, data_iter, num_epochs, lr_D, lr_G, latent_dim, data):\n",
        "    \"\"\"Training\"\"\"\n",
        "\n",
        "    loss = tf.keras.losses.BinaryCrossentropy(\n",
        "        from_logits=True, reduction=tf.keras.losses.Reduction.SUM)\n",
        "    for w in net_D.trainable_variables:\n",
        "        w.assign(tf.random.normal(mean=0, stddev=0.02, shape=w.shape))\n",
        "    for w in net_G.trainable_variables:\n",
        "        w.assign(tf.random.normal(mean=0, stddev=0.02, shape=w.shape))\n",
        "    optimizer_D = tf.keras.optimizers.Adam(learning_rate=lr_D)\n",
        "    optimizer_G = tf.keras.optimizers.Adam(learning_rate=lr_G)\n",
        "    animator = dtf.Animator(\n",
        "        xlabel=\"epoch\", ylabel=\"loss\", xlim=[1, num_epochs], nrows=2,\n",
        "        figsize=(5, 5), legend=[\"discriminator\", \"generator\"])\n",
        "    animator.fig.subplots_adjust(hspace=0.3)\n",
        "    for epoch in range(num_epochs):\n",
        "        # Train one epoch\n",
        "        timer = dtf.Timer()\n",
        "        metric = dtf.Accumulator(3)  # loss_D, loss_G, num_examples\n",
        "        for (X,) in data_iter:\n",
        "            batch_size = X.shape[0]\n",
        "            Z = tf.random.normal(\n",
        "                mean=0, stddev=1, shape=(batch_size, latent_dim))\n",
        "            metric.add(update_D(X, Z, net_D, net_G, loss, optimizer_D),\n",
        "                       update_G(Z, net_D, net_G, loss, optimizer_G),\n",
        "                       batch_size)\n",
        "        # Visualize generated examples\n",
        "        Z = tf.random.normal(mean=0, stddev=1, shape=(100, latent_dim))\n",
        "        fake_X = net_G(Z)\n",
        "        animator.axes[1].cla()\n",
        "        animator.axes[1].scatter(data[:, 0], data[:, 1])\n",
        "        animator.axes[1].scatter(fake_X[:, 0], fake_X[:, 1])\n",
        "        animator.axes[1].legend([\"real\", \"generated\"])\n",
        "\n",
        "        # Show the losses\n",
        "        loss_D, loss_G = metric[0] / metric[2], metric[1] / metric[2]\n",
        "        animator.add(epoch + 1, (loss_D, loss_G))\n",
        "\n",
        "        print(f'loss_D {loss_D:.3f}, loss_G {loss_G:.3f}, '\n",
        "              f'{metric[2] / timer.stop():.1f} examples/sec')\n"
      ]
    },
    {
      "cell_type": "markdown",
      "id": "71239e94",
      "metadata": {
        "origin_pos": 31,
        "id": "71239e94"
      },
      "source": [
        "Now we specify the hyperparameters to fit the Gaussian distribution.\n"
      ]
    },
    {
      "cell_type": "code",
      "execution_count": 16,
      "id": "b4106ed3",
      "metadata": {
        "execution": {
          "iopub.execute_input": "2023-08-18T19:37:54.897440Z",
          "iopub.status.busy": "2023-08-18T19:37:54.896873Z",
          "iopub.status.idle": "2023-08-18T19:38:14.489948Z",
          "shell.execute_reply": "2023-08-18T19:38:14.485966Z"
        },
        "origin_pos": 32,
        "tab": [
          "pytorch"
        ],
        "id": "b4106ed3",
        "outputId": "d4568d9b-3c4b-4196-be33-1e64963100df",
        "colab": {
          "base_uri": "https://localhost:8080/",
          "height": 450
        }
      },
      "outputs": [
        {
          "output_type": "stream",
          "name": "stdout",
          "text": [
            "loss_D 0.693, loss_G 0.693, 242.1 examples/sec\n"
          ]
        },
        {
          "output_type": "display_data",
          "data": {
            "text/plain": [
              "<Figure size 500x500 with 2 Axes>"
            ],
            "image/svg+xml": "<?xml version=\"1.0\" encoding=\"utf-8\" standalone=\"no\"?>\n<!DOCTYPE svg PUBLIC \"-//W3C//DTD SVG 1.1//EN\"\n  \"http://www.w3.org/Graphics/SVG/1.1/DTD/svg11.dtd\">\n<svg xmlns:xlink=\"http://www.w3.org/1999/xlink\" width=\"341.114062pt\" height=\"308.278125pt\" viewBox=\"0 0 341.114062 308.278125\" xmlns=\"http://www.w3.org/2000/svg\" version=\"1.1\">\n <metadata>\n  <rdf:RDF xmlns:dc=\"http://purl.org/dc/elements/1.1/\" xmlns:cc=\"http://creativecommons.org/ns#\" xmlns:rdf=\"http://www.w3.org/1999/02/22-rdf-syntax-ns#\">\n   <cc:Work>\n    <dc:type rdf:resource=\"http://purl.org/dc/dcmitype/StillImage\"/>\n    <dc:date>2023-10-19T17:37:57.904559</dc:date>\n    <dc:format>image/svg+xml</dc:format>\n    <dc:creator>\n     <cc:Agent>\n      <dc:title>Matplotlib v3.7.2, https://matplotlib.org/</dc:title>\n     </cc:Agent>\n    </dc:creator>\n   </cc:Work>\n  </rdf:RDF>\n </metadata>\n <defs>\n  <style type=\"text/css\">*{stroke-linejoin: round; stroke-linecap: butt}</style>\n </defs>\n <g id=\"figure_1\">\n  <g id=\"patch_1\">\n   <path d=\"M 0 308.278125 \nL 341.114062 308.278125 \nL 341.114062 0 \nL 0 0 \nz\n\" style=\"fill: #ffffff\"/>\n  </g>\n  <g id=\"axes_1\">\n   <g id=\"patch_2\">\n    <path d=\"M 43.78125 127.721739 \nL 322.78125 127.721739 \nL 322.78125 7.2 \nL 43.78125 7.2 \nz\n\" style=\"fill: #eaeaf2\"/>\n   </g>\n   <g id=\"matplotlib.axis_1\">\n    <g id=\"xtick_1\">\n     <g id=\"text_1\">\n      <!-- 2.5 -->\n      <g style=\"fill: #262626\" transform=\"translate(57.856003 142.320177) scale(0.1 -0.1)\">\n       <defs>\n        <path id=\"DejaVuSans-32\" d=\"M 1228 531 \nL 3431 531 \nL 3431 0 \nL 469 0 \nL 469 531 \nQ 828 903 1448 1529 \nQ 2069 2156 2228 2338 \nQ 2531 2678 2651 2914 \nQ 2772 3150 2772 3378 \nQ 2772 3750 2511 3984 \nQ 2250 4219 1831 4219 \nQ 1534 4219 1204 4116 \nQ 875 4013 500 3803 \nL 500 4441 \nQ 881 4594 1212 4672 \nQ 1544 4750 1819 4750 \nQ 2544 4750 2975 4387 \nQ 3406 4025 3406 3419 \nQ 3406 3131 3298 2873 \nQ 3191 2616 2906 2266 \nQ 2828 2175 2409 1742 \nQ 1991 1309 1228 531 \nz\n\" transform=\"scale(0.015625)\"/>\n        <path id=\"DejaVuSans-2e\" d=\"M 684 794 \nL 1344 794 \nL 1344 0 \nL 684 0 \nL 684 794 \nz\n\" transform=\"scale(0.015625)\"/>\n        <path id=\"DejaVuSans-35\" d=\"M 691 4666 \nL 3169 4666 \nL 3169 4134 \nL 1269 4134 \nL 1269 2991 \nQ 1406 3038 1543 3061 \nQ 1681 3084 1819 3084 \nQ 2600 3084 3056 2656 \nQ 3513 2228 3513 1497 \nQ 3513 744 3044 326 \nQ 2575 -91 1722 -91 \nQ 1428 -91 1123 -41 \nQ 819 9 494 109 \nL 494 744 \nQ 775 591 1075 516 \nQ 1375 441 1709 441 \nQ 2250 441 2565 725 \nQ 2881 1009 2881 1497 \nQ 2881 1984 2565 2268 \nQ 2250 2553 1709 2553 \nQ 1456 2553 1204 2497 \nQ 953 2441 691 2322 \nL 691 4666 \nz\n\" transform=\"scale(0.015625)\"/>\n       </defs>\n       <use xlink:href=\"#DejaVuSans-32\"/>\n       <use xlink:href=\"#DejaVuSans-2e\" x=\"63.623047\"/>\n       <use xlink:href=\"#DejaVuSans-35\" x=\"95.410156\"/>\n      </g>\n     </g>\n    </g>\n    <g id=\"xtick_2\">\n     <g id=\"text_2\">\n      <!-- 5.0 -->\n      <g style=\"fill: #262626\" transform=\"translate(94.56653 142.320177) scale(0.1 -0.1)\">\n       <defs>\n        <path id=\"DejaVuSans-30\" d=\"M 2034 4250 \nQ 1547 4250 1301 3770 \nQ 1056 3291 1056 2328 \nQ 1056 1369 1301 889 \nQ 1547 409 2034 409 \nQ 2525 409 2770 889 \nQ 3016 1369 3016 2328 \nQ 3016 3291 2770 3770 \nQ 2525 4250 2034 4250 \nz\nM 2034 4750 \nQ 2819 4750 3233 4129 \nQ 3647 3509 3647 2328 \nQ 3647 1150 3233 529 \nQ 2819 -91 2034 -91 \nQ 1250 -91 836 529 \nQ 422 1150 422 2328 \nQ 422 3509 836 4129 \nQ 1250 4750 2034 4750 \nz\n\" transform=\"scale(0.015625)\"/>\n       </defs>\n       <use xlink:href=\"#DejaVuSans-35\"/>\n       <use xlink:href=\"#DejaVuSans-2e\" x=\"63.623047\"/>\n       <use xlink:href=\"#DejaVuSans-30\" x=\"95.410156\"/>\n      </g>\n     </g>\n    </g>\n    <g id=\"xtick_3\">\n     <g id=\"text_3\">\n      <!-- 7.5 -->\n      <g style=\"fill: #262626\" transform=\"translate(131.277056 142.320177) scale(0.1 -0.1)\">\n       <defs>\n        <path id=\"DejaVuSans-37\" d=\"M 525 4666 \nL 3525 4666 \nL 3525 4397 \nL 1831 0 \nL 1172 0 \nL 2766 4134 \nL 525 4134 \nL 525 4666 \nz\n\" transform=\"scale(0.015625)\"/>\n       </defs>\n       <use xlink:href=\"#DejaVuSans-37\"/>\n       <use xlink:href=\"#DejaVuSans-2e\" x=\"63.623047\"/>\n       <use xlink:href=\"#DejaVuSans-35\" x=\"95.410156\"/>\n      </g>\n     </g>\n    </g>\n    <g id=\"xtick_4\">\n     <g id=\"text_4\">\n      <!-- 10.0 -->\n      <g style=\"fill: #262626\" transform=\"translate(164.806332 142.320177) scale(0.1 -0.1)\">\n       <defs>\n        <path id=\"DejaVuSans-31\" d=\"M 794 531 \nL 1825 531 \nL 1825 4091 \nL 703 3866 \nL 703 4441 \nL 1819 4666 \nL 2450 4666 \nL 2450 531 \nL 3481 531 \nL 3481 0 \nL 794 0 \nL 794 531 \nz\n\" transform=\"scale(0.015625)\"/>\n       </defs>\n       <use xlink:href=\"#DejaVuSans-31\"/>\n       <use xlink:href=\"#DejaVuSans-30\" x=\"63.623047\"/>\n       <use xlink:href=\"#DejaVuSans-2e\" x=\"127.246094\"/>\n       <use xlink:href=\"#DejaVuSans-30\" x=\"159.033203\"/>\n      </g>\n     </g>\n    </g>\n    <g id=\"xtick_5\">\n     <g id=\"text_5\">\n      <!-- 12.5 -->\n      <g style=\"fill: #262626\" transform=\"translate(201.516859 142.320177) scale(0.1 -0.1)\">\n       <use xlink:href=\"#DejaVuSans-31\"/>\n       <use xlink:href=\"#DejaVuSans-32\" x=\"63.623047\"/>\n       <use xlink:href=\"#DejaVuSans-2e\" x=\"127.246094\"/>\n       <use xlink:href=\"#DejaVuSans-35\" x=\"159.033203\"/>\n      </g>\n     </g>\n    </g>\n    <g id=\"xtick_6\">\n     <g id=\"text_6\">\n      <!-- 15.0 -->\n      <g style=\"fill: #262626\" transform=\"translate(238.227385 142.320177) scale(0.1 -0.1)\">\n       <use xlink:href=\"#DejaVuSans-31\"/>\n       <use xlink:href=\"#DejaVuSans-35\" x=\"63.623047\"/>\n       <use xlink:href=\"#DejaVuSans-2e\" x=\"127.246094\"/>\n       <use xlink:href=\"#DejaVuSans-30\" x=\"159.033203\"/>\n      </g>\n     </g>\n    </g>\n    <g id=\"xtick_7\">\n     <g id=\"text_7\">\n      <!-- 17.5 -->\n      <g style=\"fill: #262626\" transform=\"translate(274.937911 142.320177) scale(0.1 -0.1)\">\n       <use xlink:href=\"#DejaVuSans-31\"/>\n       <use xlink:href=\"#DejaVuSans-37\" x=\"63.623047\"/>\n       <use xlink:href=\"#DejaVuSans-2e\" x=\"127.246094\"/>\n       <use xlink:href=\"#DejaVuSans-35\" x=\"159.033203\"/>\n      </g>\n     </g>\n    </g>\n    <g id=\"xtick_8\">\n     <g id=\"text_8\">\n      <!-- 20.0 -->\n      <g style=\"fill: #262626\" transform=\"translate(311.648438 142.320177) scale(0.1 -0.1)\">\n       <use xlink:href=\"#DejaVuSans-32\"/>\n       <use xlink:href=\"#DejaVuSans-30\" x=\"63.623047\"/>\n       <use xlink:href=\"#DejaVuSans-2e\" x=\"127.246094\"/>\n       <use xlink:href=\"#DejaVuSans-30\" x=\"159.033203\"/>\n      </g>\n     </g>\n    </g>\n    <g id=\"text_9\">\n     <!-- epoch -->\n     <g style=\"fill: #262626\" transform=\"translate(168.053125 155.998302) scale(0.1 -0.1)\">\n      <defs>\n       <path id=\"DejaVuSans-65\" d=\"M 3597 1894 \nL 3597 1613 \nL 953 1613 \nQ 991 1019 1311 708 \nQ 1631 397 2203 397 \nQ 2534 397 2845 478 \nQ 3156 559 3463 722 \nL 3463 178 \nQ 3153 47 2828 -22 \nQ 2503 -91 2169 -91 \nQ 1331 -91 842 396 \nQ 353 884 353 1716 \nQ 353 2575 817 3079 \nQ 1281 3584 2069 3584 \nQ 2775 3584 3186 3129 \nQ 3597 2675 3597 1894 \nz\nM 3022 2063 \nQ 3016 2534 2758 2815 \nQ 2500 3097 2075 3097 \nQ 1594 3097 1305 2825 \nQ 1016 2553 972 2059 \nL 3022 2063 \nz\n\" transform=\"scale(0.015625)\"/>\n       <path id=\"DejaVuSans-70\" d=\"M 1159 525 \nL 1159 -1331 \nL 581 -1331 \nL 581 3500 \nL 1159 3500 \nL 1159 2969 \nQ 1341 3281 1617 3432 \nQ 1894 3584 2278 3584 \nQ 2916 3584 3314 3078 \nQ 3713 2572 3713 1747 \nQ 3713 922 3314 415 \nQ 2916 -91 2278 -91 \nQ 1894 -91 1617 61 \nQ 1341 213 1159 525 \nz\nM 3116 1747 \nQ 3116 2381 2855 2742 \nQ 2594 3103 2138 3103 \nQ 1681 3103 1420 2742 \nQ 1159 2381 1159 1747 \nQ 1159 1113 1420 752 \nQ 1681 391 2138 391 \nQ 2594 391 2855 752 \nQ 3116 1113 3116 1747 \nz\n\" transform=\"scale(0.015625)\"/>\n       <path id=\"DejaVuSans-6f\" d=\"M 1959 3097 \nQ 1497 3097 1228 2736 \nQ 959 2375 959 1747 \nQ 959 1119 1226 758 \nQ 1494 397 1959 397 \nQ 2419 397 2687 759 \nQ 2956 1122 2956 1747 \nQ 2956 2369 2687 2733 \nQ 2419 3097 1959 3097 \nz\nM 1959 3584 \nQ 2709 3584 3137 3096 \nQ 3566 2609 3566 1747 \nQ 3566 888 3137 398 \nQ 2709 -91 1959 -91 \nQ 1206 -91 779 398 \nQ 353 888 353 1747 \nQ 353 2609 779 3096 \nQ 1206 3584 1959 3584 \nz\n\" transform=\"scale(0.015625)\"/>\n       <path id=\"DejaVuSans-63\" d=\"M 3122 3366 \nL 3122 2828 \nQ 2878 2963 2633 3030 \nQ 2388 3097 2138 3097 \nQ 1578 3097 1268 2742 \nQ 959 2388 959 1747 \nQ 959 1106 1268 751 \nQ 1578 397 2138 397 \nQ 2388 397 2633 464 \nQ 2878 531 3122 666 \nL 3122 134 \nQ 2881 22 2623 -34 \nQ 2366 -91 2075 -91 \nQ 1284 -91 818 406 \nQ 353 903 353 1747 \nQ 353 2603 823 3093 \nQ 1294 3584 2113 3584 \nQ 2378 3584 2631 3529 \nQ 2884 3475 3122 3366 \nz\n\" transform=\"scale(0.015625)\"/>\n       <path id=\"DejaVuSans-68\" d=\"M 3513 2113 \nL 3513 0 \nL 2938 0 \nL 2938 2094 \nQ 2938 2591 2744 2837 \nQ 2550 3084 2163 3084 \nQ 1697 3084 1428 2787 \nQ 1159 2491 1159 1978 \nL 1159 0 \nL 581 0 \nL 581 4863 \nL 1159 4863 \nL 1159 2956 \nQ 1366 3272 1645 3428 \nQ 1925 3584 2291 3584 \nQ 2894 3584 3203 3211 \nQ 3513 2838 3513 2113 \nz\n\" transform=\"scale(0.015625)\"/>\n      </defs>\n      <use xlink:href=\"#DejaVuSans-65\"/>\n      <use xlink:href=\"#DejaVuSans-70\" x=\"61.523438\"/>\n      <use xlink:href=\"#DejaVuSans-6f\" x=\"125\"/>\n      <use xlink:href=\"#DejaVuSans-63\" x=\"186.181641\"/>\n      <use xlink:href=\"#DejaVuSans-68\" x=\"241.162109\"/>\n     </g>\n    </g>\n   </g>\n   <g id=\"matplotlib.axis_2\">\n    <g id=\"ytick_1\">\n     <g id=\"text_10\">\n      <!-- 0.6 -->\n      <g style=\"fill: #262626\" transform=\"translate(20.878125 129.933769) scale(0.1 -0.1)\">\n       <defs>\n        <path id=\"DejaVuSans-36\" d=\"M 2113 2584 \nQ 1688 2584 1439 2293 \nQ 1191 2003 1191 1497 \nQ 1191 994 1439 701 \nQ 1688 409 2113 409 \nQ 2538 409 2786 701 \nQ 3034 994 3034 1497 \nQ 3034 2003 2786 2293 \nQ 2538 2584 2113 2584 \nz\nM 3366 4563 \nL 3366 3988 \nQ 3128 4100 2886 4159 \nQ 2644 4219 2406 4219 \nQ 1781 4219 1451 3797 \nQ 1122 3375 1075 2522 \nQ 1259 2794 1537 2939 \nQ 1816 3084 2150 3084 \nQ 2853 3084 3261 2657 \nQ 3669 2231 3669 1497 \nQ 3669 778 3244 343 \nQ 2819 -91 2113 -91 \nQ 1303 -91 875 529 \nQ 447 1150 447 2328 \nQ 447 3434 972 4092 \nQ 1497 4750 2381 4750 \nQ 2619 4750 2861 4703 \nQ 3103 4656 3366 4563 \nz\n\" transform=\"scale(0.015625)\"/>\n       </defs>\n       <use xlink:href=\"#DejaVuSans-30\"/>\n       <use xlink:href=\"#DejaVuSans-2e\" x=\"63.623047\"/>\n       <use xlink:href=\"#DejaVuSans-36\" x=\"95.410156\"/>\n      </g>\n     </g>\n    </g>\n    <g id=\"ytick_2\">\n     <g id=\"text_11\">\n      <!-- 0.7 -->\n      <g style=\"fill: #262626\" transform=\"translate(20.878125 101.287182) scale(0.1 -0.1)\">\n       <use xlink:href=\"#DejaVuSans-30\"/>\n       <use xlink:href=\"#DejaVuSans-2e\" x=\"63.623047\"/>\n       <use xlink:href=\"#DejaVuSans-37\" x=\"95.410156\"/>\n      </g>\n     </g>\n    </g>\n    <g id=\"ytick_3\">\n     <g id=\"text_12\">\n      <!-- 0.8 -->\n      <g style=\"fill: #262626\" transform=\"translate(20.878125 72.640594) scale(0.1 -0.1)\">\n       <defs>\n        <path id=\"DejaVuSans-38\" d=\"M 2034 2216 \nQ 1584 2216 1326 1975 \nQ 1069 1734 1069 1313 \nQ 1069 891 1326 650 \nQ 1584 409 2034 409 \nQ 2484 409 2743 651 \nQ 3003 894 3003 1313 \nQ 3003 1734 2745 1975 \nQ 2488 2216 2034 2216 \nz\nM 1403 2484 \nQ 997 2584 770 2862 \nQ 544 3141 544 3541 \nQ 544 4100 942 4425 \nQ 1341 4750 2034 4750 \nQ 2731 4750 3128 4425 \nQ 3525 4100 3525 3541 \nQ 3525 3141 3298 2862 \nQ 3072 2584 2669 2484 \nQ 3125 2378 3379 2068 \nQ 3634 1759 3634 1313 \nQ 3634 634 3220 271 \nQ 2806 -91 2034 -91 \nQ 1263 -91 848 271 \nQ 434 634 434 1313 \nQ 434 1759 690 2068 \nQ 947 2378 1403 2484 \nz\nM 1172 3481 \nQ 1172 3119 1398 2916 \nQ 1625 2713 2034 2713 \nQ 2441 2713 2670 2916 \nQ 2900 3119 2900 3481 \nQ 2900 3844 2670 4047 \nQ 2441 4250 2034 4250 \nQ 1625 4250 1398 4047 \nQ 1172 3844 1172 3481 \nz\n\" transform=\"scale(0.015625)\"/>\n       </defs>\n       <use xlink:href=\"#DejaVuSans-30\"/>\n       <use xlink:href=\"#DejaVuSans-2e\" x=\"63.623047\"/>\n       <use xlink:href=\"#DejaVuSans-38\" x=\"95.410156\"/>\n      </g>\n     </g>\n    </g>\n    <g id=\"ytick_4\">\n     <g id=\"text_13\">\n      <!-- 0.9 -->\n      <g style=\"fill: #262626\" transform=\"translate(20.878125 43.994006) scale(0.1 -0.1)\">\n       <defs>\n        <path id=\"DejaVuSans-39\" d=\"M 703 97 \nL 703 672 \nQ 941 559 1184 500 \nQ 1428 441 1663 441 \nQ 2288 441 2617 861 \nQ 2947 1281 2994 2138 \nQ 2813 1869 2534 1725 \nQ 2256 1581 1919 1581 \nQ 1219 1581 811 2004 \nQ 403 2428 403 3163 \nQ 403 3881 828 4315 \nQ 1253 4750 1959 4750 \nQ 2769 4750 3195 4129 \nQ 3622 3509 3622 2328 \nQ 3622 1225 3098 567 \nQ 2575 -91 1691 -91 \nQ 1453 -91 1209 -44 \nQ 966 3 703 97 \nz\nM 1959 2075 \nQ 2384 2075 2632 2365 \nQ 2881 2656 2881 3163 \nQ 2881 3666 2632 3958 \nQ 2384 4250 1959 4250 \nQ 1534 4250 1286 3958 \nQ 1038 3666 1038 3163 \nQ 1038 2656 1286 2365 \nQ 1534 2075 1959 2075 \nz\n\" transform=\"scale(0.015625)\"/>\n       </defs>\n       <use xlink:href=\"#DejaVuSans-30\"/>\n       <use xlink:href=\"#DejaVuSans-2e\" x=\"63.623047\"/>\n       <use xlink:href=\"#DejaVuSans-39\" x=\"95.410156\"/>\n      </g>\n     </g>\n    </g>\n    <g id=\"ytick_5\">\n     <g id=\"text_14\">\n      <!-- 1.0 -->\n      <g style=\"fill: #262626\" transform=\"translate(20.878125 15.347418) scale(0.1 -0.1)\">\n       <use xlink:href=\"#DejaVuSans-31\"/>\n       <use xlink:href=\"#DejaVuSans-2e\" x=\"63.623047\"/>\n       <use xlink:href=\"#DejaVuSans-30\" x=\"95.410156\"/>\n      </g>\n     </g>\n    </g>\n    <g id=\"text_15\">\n     <!-- loss -->\n     <g style=\"fill: #262626\" transform=\"translate(14.798438 77.118682) rotate(-90) scale(0.1 -0.1)\">\n      <defs>\n       <path id=\"DejaVuSans-6c\" d=\"M 603 4863 \nL 1178 4863 \nL 1178 0 \nL 603 0 \nL 603 4863 \nz\n\" transform=\"scale(0.015625)\"/>\n       <path id=\"DejaVuSans-73\" d=\"M 2834 3397 \nL 2834 2853 \nQ 2591 2978 2328 3040 \nQ 2066 3103 1784 3103 \nQ 1356 3103 1142 2972 \nQ 928 2841 928 2578 \nQ 928 2378 1081 2264 \nQ 1234 2150 1697 2047 \nL 1894 2003 \nQ 2506 1872 2764 1633 \nQ 3022 1394 3022 966 \nQ 3022 478 2636 193 \nQ 2250 -91 1575 -91 \nQ 1294 -91 989 -36 \nQ 684 19 347 128 \nL 347 722 \nQ 666 556 975 473 \nQ 1284 391 1588 391 \nQ 1994 391 2212 530 \nQ 2431 669 2431 922 \nQ 2431 1156 2273 1281 \nQ 2116 1406 1581 1522 \nL 1381 1569 \nQ 847 1681 609 1914 \nQ 372 2147 372 2553 \nQ 372 3047 722 3315 \nQ 1072 3584 1716 3584 \nQ 2034 3584 2315 3537 \nQ 2597 3491 2834 3397 \nz\n\" transform=\"scale(0.015625)\"/>\n      </defs>\n      <use xlink:href=\"#DejaVuSans-6c\"/>\n      <use xlink:href=\"#DejaVuSans-6f\" x=\"27.783203\"/>\n      <use xlink:href=\"#DejaVuSans-73\" x=\"88.964844\"/>\n      <use xlink:href=\"#DejaVuSans-73\" x=\"141.064453\"/>\n     </g>\n    </g>\n   </g>\n   <g id=\"line2d_1\">\n    <path d=\"M 43.78125 122.243478 \nL 58.465461 114.271984 \nL 73.149671 102.83261 \nL 87.833882 99.565026 \nL 102.518092 101.956861 \nL 117.202303 100.917986 \nL 131.886513 100.476006 \nL 146.570724 99.318509 \nL 161.254934 99.261086 \nL 175.939145 99.429571 \nL 190.623355 99.449681 \nL 205.307566 99.436635 \nL 219.991776 99.459022 \nL 234.675987 99.919868 \nL 249.360197 98.225229 \nL 264.044408 99.3953 \nL 278.728618 99.43606 \nL 293.412829 99.444157 \nL 308.097039 99.448871 \nL 322.78125 99.450236 \n\" clip-path=\"url(#p62166c843f)\" style=\"fill: none; stroke: #1f77b4; stroke-width: 1.5; stroke-linecap: round\"/>\n   </g>\n   <g id=\"line2d_2\">\n    <path d=\"M 43.78125 12.678261 \nL 58.465461 56.515883 \nL 73.149671 78.479398 \nL 87.833882 99.885625 \nL 102.518092 82.842197 \nL 117.202303 90.060466 \nL 131.886513 92.429028 \nL 146.570724 97.919442 \nL 161.254934 99.57613 \nL 175.939145 99.447745 \nL 190.623355 99.405739 \nL 205.307566 99.348396 \nL 219.991776 99.257606 \nL 234.675987 92.297736 \nL 249.360197 99.292052 \nL 264.044408 99.329343 \nL 278.728618 99.449538 \nL 293.412829 99.485006 \nL 308.097039 99.467572 \nL 322.78125 99.4561 \n\" clip-path=\"url(#p62166c843f)\" style=\"fill: none; stroke-dasharray: 5.55,2.4; stroke-dashoffset: 0; stroke: #bf00bf; stroke-width: 1.5\"/>\n   </g>\n   <g id=\"patch_3\">\n    <path d=\"M 43.78125 127.721739 \nL 43.78125 7.2 \n\" style=\"fill: none; stroke: #ffffff; stroke-width: 0.8; stroke-linejoin: miter; stroke-linecap: square\"/>\n   </g>\n   <g id=\"patch_4\">\n    <path d=\"M 322.78125 127.721739 \nL 322.78125 7.2 \n\" style=\"fill: none; stroke: #ffffff; stroke-width: 0.8; stroke-linejoin: miter; stroke-linecap: square\"/>\n   </g>\n   <g id=\"patch_5\">\n    <path d=\"M 43.78125 127.721739 \nL 322.78125 127.721739 \n\" style=\"fill: none; stroke: #ffffff; stroke-width: 0.8; stroke-linejoin: miter; stroke-linecap: square\"/>\n   </g>\n   <g id=\"patch_6\">\n    <path d=\"M 43.78125 7.2 \nL 322.78125 7.2 \n\" style=\"fill: none; stroke: #ffffff; stroke-width: 0.8; stroke-linejoin: miter; stroke-linecap: square\"/>\n   </g>\n   <g id=\"legend_1\">\n    <g id=\"patch_7\">\n     <path d=\"M 217.923437 44.55625 \nL 315.78125 44.55625 \nQ 317.78125 44.55625 317.78125 42.55625 \nL 317.78125 14.2 \nQ 317.78125 12.2 315.78125 12.2 \nL 217.923437 12.2 \nQ 215.923437 12.2 215.923437 14.2 \nL 215.923437 42.55625 \nQ 215.923437 44.55625 217.923437 44.55625 \nz\n\" style=\"fill: #eaeaf2; opacity: 0.8; stroke: #cccccc; stroke-linejoin: miter\"/>\n    </g>\n    <g id=\"line2d_3\">\n     <path d=\"M 219.923437 20.298438 \nL 229.923437 20.298438 \nL 239.923437 20.298438 \n\" style=\"fill: none; stroke: #1f77b4; stroke-width: 1.5; stroke-linecap: round\"/>\n    </g>\n    <g id=\"text_16\">\n     <!-- discriminator -->\n     <g style=\"fill: #262626\" transform=\"translate(247.923437 23.798438) scale(0.1 -0.1)\">\n      <defs>\n       <path id=\"DejaVuSans-64\" d=\"M 2906 2969 \nL 2906 4863 \nL 3481 4863 \nL 3481 0 \nL 2906 0 \nL 2906 525 \nQ 2725 213 2448 61 \nQ 2172 -91 1784 -91 \nQ 1150 -91 751 415 \nQ 353 922 353 1747 \nQ 353 2572 751 3078 \nQ 1150 3584 1784 3584 \nQ 2172 3584 2448 3432 \nQ 2725 3281 2906 2969 \nz\nM 947 1747 \nQ 947 1113 1208 752 \nQ 1469 391 1925 391 \nQ 2381 391 2643 752 \nQ 2906 1113 2906 1747 \nQ 2906 2381 2643 2742 \nQ 2381 3103 1925 3103 \nQ 1469 3103 1208 2742 \nQ 947 2381 947 1747 \nz\n\" transform=\"scale(0.015625)\"/>\n       <path id=\"DejaVuSans-69\" d=\"M 603 3500 \nL 1178 3500 \nL 1178 0 \nL 603 0 \nL 603 3500 \nz\nM 603 4863 \nL 1178 4863 \nL 1178 4134 \nL 603 4134 \nL 603 4863 \nz\n\" transform=\"scale(0.015625)\"/>\n       <path id=\"DejaVuSans-72\" d=\"M 2631 2963 \nQ 2534 3019 2420 3045 \nQ 2306 3072 2169 3072 \nQ 1681 3072 1420 2755 \nQ 1159 2438 1159 1844 \nL 1159 0 \nL 581 0 \nL 581 3500 \nL 1159 3500 \nL 1159 2956 \nQ 1341 3275 1631 3429 \nQ 1922 3584 2338 3584 \nQ 2397 3584 2469 3576 \nQ 2541 3569 2628 3553 \nL 2631 2963 \nz\n\" transform=\"scale(0.015625)\"/>\n       <path id=\"DejaVuSans-6d\" d=\"M 3328 2828 \nQ 3544 3216 3844 3400 \nQ 4144 3584 4550 3584 \nQ 5097 3584 5394 3201 \nQ 5691 2819 5691 2113 \nL 5691 0 \nL 5113 0 \nL 5113 2094 \nQ 5113 2597 4934 2840 \nQ 4756 3084 4391 3084 \nQ 3944 3084 3684 2787 \nQ 3425 2491 3425 1978 \nL 3425 0 \nL 2847 0 \nL 2847 2094 \nQ 2847 2600 2669 2842 \nQ 2491 3084 2119 3084 \nQ 1678 3084 1418 2786 \nQ 1159 2488 1159 1978 \nL 1159 0 \nL 581 0 \nL 581 3500 \nL 1159 3500 \nL 1159 2956 \nQ 1356 3278 1631 3431 \nQ 1906 3584 2284 3584 \nQ 2666 3584 2933 3390 \nQ 3200 3197 3328 2828 \nz\n\" transform=\"scale(0.015625)\"/>\n       <path id=\"DejaVuSans-6e\" d=\"M 3513 2113 \nL 3513 0 \nL 2938 0 \nL 2938 2094 \nQ 2938 2591 2744 2837 \nQ 2550 3084 2163 3084 \nQ 1697 3084 1428 2787 \nQ 1159 2491 1159 1978 \nL 1159 0 \nL 581 0 \nL 581 3500 \nL 1159 3500 \nL 1159 2956 \nQ 1366 3272 1645 3428 \nQ 1925 3584 2291 3584 \nQ 2894 3584 3203 3211 \nQ 3513 2838 3513 2113 \nz\n\" transform=\"scale(0.015625)\"/>\n       <path id=\"DejaVuSans-61\" d=\"M 2194 1759 \nQ 1497 1759 1228 1600 \nQ 959 1441 959 1056 \nQ 959 750 1161 570 \nQ 1363 391 1709 391 \nQ 2188 391 2477 730 \nQ 2766 1069 2766 1631 \nL 2766 1759 \nL 2194 1759 \nz\nM 3341 1997 \nL 3341 0 \nL 2766 0 \nL 2766 531 \nQ 2569 213 2275 61 \nQ 1981 -91 1556 -91 \nQ 1019 -91 701 211 \nQ 384 513 384 1019 \nQ 384 1609 779 1909 \nQ 1175 2209 1959 2209 \nL 2766 2209 \nL 2766 2266 \nQ 2766 2663 2505 2880 \nQ 2244 3097 1772 3097 \nQ 1472 3097 1187 3025 \nQ 903 2953 641 2809 \nL 641 3341 \nQ 956 3463 1253 3523 \nQ 1550 3584 1831 3584 \nQ 2591 3584 2966 3190 \nQ 3341 2797 3341 1997 \nz\n\" transform=\"scale(0.015625)\"/>\n       <path id=\"DejaVuSans-74\" d=\"M 1172 4494 \nL 1172 3500 \nL 2356 3500 \nL 2356 3053 \nL 1172 3053 \nL 1172 1153 \nQ 1172 725 1289 603 \nQ 1406 481 1766 481 \nL 2356 481 \nL 2356 0 \nL 1766 0 \nQ 1100 0 847 248 \nQ 594 497 594 1153 \nL 594 3053 \nL 172 3053 \nL 172 3500 \nL 594 3500 \nL 594 4494 \nL 1172 4494 \nz\n\" transform=\"scale(0.015625)\"/>\n      </defs>\n      <use xlink:href=\"#DejaVuSans-64\"/>\n      <use xlink:href=\"#DejaVuSans-69\" x=\"63.476562\"/>\n      <use xlink:href=\"#DejaVuSans-73\" x=\"91.259766\"/>\n      <use xlink:href=\"#DejaVuSans-63\" x=\"143.359375\"/>\n      <use xlink:href=\"#DejaVuSans-72\" x=\"198.339844\"/>\n      <use xlink:href=\"#DejaVuSans-69\" x=\"239.453125\"/>\n      <use xlink:href=\"#DejaVuSans-6d\" x=\"267.236328\"/>\n      <use xlink:href=\"#DejaVuSans-69\" x=\"364.648438\"/>\n      <use xlink:href=\"#DejaVuSans-6e\" x=\"392.431641\"/>\n      <use xlink:href=\"#DejaVuSans-61\" x=\"455.810547\"/>\n      <use xlink:href=\"#DejaVuSans-74\" x=\"517.089844\"/>\n      <use xlink:href=\"#DejaVuSans-6f\" x=\"556.298828\"/>\n      <use xlink:href=\"#DejaVuSans-72\" x=\"617.480469\"/>\n     </g>\n    </g>\n    <g id=\"line2d_4\">\n     <path d=\"M 219.923437 34.976563 \nL 229.923437 34.976563 \nL 239.923437 34.976563 \n\" style=\"fill: none; stroke-dasharray: 5.55,2.4; stroke-dashoffset: 0; stroke: #bf00bf; stroke-width: 1.5\"/>\n    </g>\n    <g id=\"text_17\">\n     <!-- generator -->\n     <g style=\"fill: #262626\" transform=\"translate(247.923437 38.476563) scale(0.1 -0.1)\">\n      <defs>\n       <path id=\"DejaVuSans-67\" d=\"M 2906 1791 \nQ 2906 2416 2648 2759 \nQ 2391 3103 1925 3103 \nQ 1463 3103 1205 2759 \nQ 947 2416 947 1791 \nQ 947 1169 1205 825 \nQ 1463 481 1925 481 \nQ 2391 481 2648 825 \nQ 2906 1169 2906 1791 \nz\nM 3481 434 \nQ 3481 -459 3084 -895 \nQ 2688 -1331 1869 -1331 \nQ 1566 -1331 1297 -1286 \nQ 1028 -1241 775 -1147 \nL 775 -588 \nQ 1028 -725 1275 -790 \nQ 1522 -856 1778 -856 \nQ 2344 -856 2625 -561 \nQ 2906 -266 2906 331 \nL 2906 616 \nQ 2728 306 2450 153 \nQ 2172 0 1784 0 \nQ 1141 0 747 490 \nQ 353 981 353 1791 \nQ 353 2603 747 3093 \nQ 1141 3584 1784 3584 \nQ 2172 3584 2450 3431 \nQ 2728 3278 2906 2969 \nL 2906 3500 \nL 3481 3500 \nL 3481 434 \nz\n\" transform=\"scale(0.015625)\"/>\n      </defs>\n      <use xlink:href=\"#DejaVuSans-67\"/>\n      <use xlink:href=\"#DejaVuSans-65\" x=\"63.476562\"/>\n      <use xlink:href=\"#DejaVuSans-6e\" x=\"125\"/>\n      <use xlink:href=\"#DejaVuSans-65\" x=\"188.378906\"/>\n      <use xlink:href=\"#DejaVuSans-72\" x=\"249.902344\"/>\n      <use xlink:href=\"#DejaVuSans-61\" x=\"291.015625\"/>\n      <use xlink:href=\"#DejaVuSans-74\" x=\"352.294922\"/>\n      <use xlink:href=\"#DejaVuSans-6f\" x=\"391.503906\"/>\n      <use xlink:href=\"#DejaVuSans-72\" x=\"452.685547\"/>\n     </g>\n    </g>\n   </g>\n  </g>\n  <g id=\"axes_2\">\n   <g id=\"patch_8\">\n    <path d=\"M 43.78125 284.4 \nL 322.78125 284.4 \nL 322.78125 163.878261 \nL 43.78125 163.878261 \nz\n\" style=\"fill: #eaeaf2\"/>\n   </g>\n   <g id=\"matplotlib.axis_3\">\n    <g id=\"xtick_9\">\n     <g id=\"line2d_5\">\n      <path d=\"M 76.603099 284.4 \nL 76.603099 163.878261 \n\" clip-path=\"url(#p515b1a8151)\" style=\"fill: none; stroke: #ffffff; stroke-width: 0.8; stroke-linecap: round\"/>\n     </g>\n     <g id=\"text_18\">\n      <!-- −1 -->\n      <g style=\"fill: #262626\" transform=\"translate(69.232005 298.998438) scale(0.1 -0.1)\">\n       <defs>\n        <path id=\"DejaVuSans-2212\" d=\"M 678 2272 \nL 4684 2272 \nL 4684 1741 \nL 678 1741 \nL 678 2272 \nz\n\" transform=\"scale(0.015625)\"/>\n       </defs>\n       <use xlink:href=\"#DejaVuSans-2212\"/>\n       <use xlink:href=\"#DejaVuSans-31\" x=\"83.789062\"/>\n      </g>\n     </g>\n    </g>\n    <g id=\"xtick_10\">\n     <g id=\"line2d_6\">\n      <path d=\"M 121.896497 284.4 \nL 121.896497 163.878261 \n\" clip-path=\"url(#p515b1a8151)\" style=\"fill: none; stroke: #ffffff; stroke-width: 0.8; stroke-linecap: round\"/>\n     </g>\n     <g id=\"text_19\">\n      <!-- 0 -->\n      <g style=\"fill: #262626\" transform=\"translate(118.715247 298.998438) scale(0.1 -0.1)\">\n       <use xlink:href=\"#DejaVuSans-30\"/>\n      </g>\n     </g>\n    </g>\n    <g id=\"xtick_11\">\n     <g id=\"line2d_7\">\n      <path d=\"M 167.189895 284.4 \nL 167.189895 163.878261 \n\" clip-path=\"url(#p515b1a8151)\" style=\"fill: none; stroke: #ffffff; stroke-width: 0.8; stroke-linecap: round\"/>\n     </g>\n     <g id=\"text_20\">\n      <!-- 1 -->\n      <g style=\"fill: #262626\" transform=\"translate(164.008645 298.998438) scale(0.1 -0.1)\">\n       <use xlink:href=\"#DejaVuSans-31\"/>\n      </g>\n     </g>\n    </g>\n    <g id=\"xtick_12\">\n     <g id=\"line2d_8\">\n      <path d=\"M 212.483294 284.4 \nL 212.483294 163.878261 \n\" clip-path=\"url(#p515b1a8151)\" style=\"fill: none; stroke: #ffffff; stroke-width: 0.8; stroke-linecap: round\"/>\n     </g>\n     <g id=\"text_21\">\n      <!-- 2 -->\n      <g style=\"fill: #262626\" transform=\"translate(209.302044 298.998438) scale(0.1 -0.1)\">\n       <use xlink:href=\"#DejaVuSans-32\"/>\n      </g>\n     </g>\n    </g>\n    <g id=\"xtick_13\">\n     <g id=\"line2d_9\">\n      <path d=\"M 257.776692 284.4 \nL 257.776692 163.878261 \n\" clip-path=\"url(#p515b1a8151)\" style=\"fill: none; stroke: #ffffff; stroke-width: 0.8; stroke-linecap: round\"/>\n     </g>\n     <g id=\"text_22\">\n      <!-- 3 -->\n      <g style=\"fill: #262626\" transform=\"translate(254.595442 298.998438) scale(0.1 -0.1)\">\n       <defs>\n        <path id=\"DejaVuSans-33\" d=\"M 2597 2516 \nQ 3050 2419 3304 2112 \nQ 3559 1806 3559 1356 \nQ 3559 666 3084 287 \nQ 2609 -91 1734 -91 \nQ 1441 -91 1130 -33 \nQ 819 25 488 141 \nL 488 750 \nQ 750 597 1062 519 \nQ 1375 441 1716 441 \nQ 2309 441 2620 675 \nQ 2931 909 2931 1356 \nQ 2931 1769 2642 2001 \nQ 2353 2234 1838 2234 \nL 1294 2234 \nL 1294 2753 \nL 1863 2753 \nQ 2328 2753 2575 2939 \nQ 2822 3125 2822 3475 \nQ 2822 3834 2567 4026 \nQ 2313 4219 1838 4219 \nQ 1578 4219 1281 4162 \nQ 984 4106 628 3988 \nL 628 4550 \nQ 988 4650 1302 4700 \nQ 1616 4750 1894 4750 \nQ 2613 4750 3031 4423 \nQ 3450 4097 3450 3541 \nQ 3450 3153 3228 2886 \nQ 3006 2619 2597 2516 \nz\n\" transform=\"scale(0.015625)\"/>\n       </defs>\n       <use xlink:href=\"#DejaVuSans-33\"/>\n      </g>\n     </g>\n    </g>\n    <g id=\"xtick_14\">\n     <g id=\"line2d_10\">\n      <path d=\"M 303.070091 284.4 \nL 303.070091 163.878261 \n\" clip-path=\"url(#p515b1a8151)\" style=\"fill: none; stroke: #ffffff; stroke-width: 0.8; stroke-linecap: round\"/>\n     </g>\n     <g id=\"text_23\">\n      <!-- 4 -->\n      <g style=\"fill: #262626\" transform=\"translate(299.888841 298.998438) scale(0.1 -0.1)\">\n       <defs>\n        <path id=\"DejaVuSans-34\" d=\"M 2419 4116 \nL 825 1625 \nL 2419 1625 \nL 2419 4116 \nz\nM 2253 4666 \nL 3047 4666 \nL 3047 1625 \nL 3713 1625 \nL 3713 1100 \nL 3047 1100 \nL 3047 0 \nL 2419 0 \nL 2419 1100 \nL 313 1100 \nL 313 1709 \nL 2253 4666 \nz\n\" transform=\"scale(0.015625)\"/>\n       </defs>\n       <use xlink:href=\"#DejaVuSans-34\"/>\n      </g>\n     </g>\n    </g>\n   </g>\n   <g id=\"matplotlib.axis_4\">\n    <g id=\"ytick_6\">\n     <g id=\"line2d_11\">\n      <path d=\"M 43.78125 275.097599 \nL 322.78125 275.097599 \n\" clip-path=\"url(#p515b1a8151)\" style=\"fill: none; stroke: #ffffff; stroke-width: 0.8; stroke-linecap: round\"/>\n     </g>\n     <g id=\"text_24\">\n      <!-- −2.5 -->\n      <g style=\"fill: #262626\" transform=\"translate(12.498438 278.896818) scale(0.1 -0.1)\">\n       <use xlink:href=\"#DejaVuSans-2212\"/>\n       <use xlink:href=\"#DejaVuSans-32\" x=\"83.789062\"/>\n       <use xlink:href=\"#DejaVuSans-2e\" x=\"147.412109\"/>\n       <use xlink:href=\"#DejaVuSans-35\" x=\"179.199219\"/>\n      </g>\n     </g>\n    </g>\n    <g id=\"ytick_7\">\n     <g id=\"line2d_12\">\n      <path d=\"M 43.78125 250.883235 \nL 322.78125 250.883235 \n\" clip-path=\"url(#p515b1a8151)\" style=\"fill: none; stroke: #ffffff; stroke-width: 0.8; stroke-linecap: round\"/>\n     </g>\n     <g id=\"text_25\">\n      <!-- 0.0 -->\n      <g style=\"fill: #262626\" transform=\"translate(20.878125 254.682453) scale(0.1 -0.1)\">\n       <use xlink:href=\"#DejaVuSans-30\"/>\n       <use xlink:href=\"#DejaVuSans-2e\" x=\"63.623047\"/>\n       <use xlink:href=\"#DejaVuSans-30\" x=\"95.410156\"/>\n      </g>\n     </g>\n    </g>\n    <g id=\"ytick_8\">\n     <g id=\"line2d_13\">\n      <path d=\"M 43.78125 226.66887 \nL 322.78125 226.66887 \n\" clip-path=\"url(#p515b1a8151)\" style=\"fill: none; stroke: #ffffff; stroke-width: 0.8; stroke-linecap: round\"/>\n     </g>\n     <g id=\"text_26\">\n      <!-- 2.5 -->\n      <g style=\"fill: #262626\" transform=\"translate(20.878125 230.468089) scale(0.1 -0.1)\">\n       <use xlink:href=\"#DejaVuSans-32\"/>\n       <use xlink:href=\"#DejaVuSans-2e\" x=\"63.623047\"/>\n       <use xlink:href=\"#DejaVuSans-35\" x=\"95.410156\"/>\n      </g>\n     </g>\n    </g>\n    <g id=\"ytick_9\">\n     <g id=\"line2d_14\">\n      <path d=\"M 43.78125 202.454506 \nL 322.78125 202.454506 \n\" clip-path=\"url(#p515b1a8151)\" style=\"fill: none; stroke: #ffffff; stroke-width: 0.8; stroke-linecap: round\"/>\n     </g>\n     <g id=\"text_27\">\n      <!-- 5.0 -->\n      <g style=\"fill: #262626\" transform=\"translate(20.878125 206.253724) scale(0.1 -0.1)\">\n       <use xlink:href=\"#DejaVuSans-35\"/>\n       <use xlink:href=\"#DejaVuSans-2e\" x=\"63.623047\"/>\n       <use xlink:href=\"#DejaVuSans-30\" x=\"95.410156\"/>\n      </g>\n     </g>\n    </g>\n    <g id=\"ytick_10\">\n     <g id=\"line2d_15\">\n      <path d=\"M 43.78125 178.240141 \nL 322.78125 178.240141 \n\" clip-path=\"url(#p515b1a8151)\" style=\"fill: none; stroke: #ffffff; stroke-width: 0.8; stroke-linecap: round\"/>\n     </g>\n     <g id=\"text_28\">\n      <!-- 7.5 -->\n      <g style=\"fill: #262626\" transform=\"translate(20.878125 182.03936) scale(0.1 -0.1)\">\n       <use xlink:href=\"#DejaVuSans-37\"/>\n       <use xlink:href=\"#DejaVuSans-2e\" x=\"63.623047\"/>\n       <use xlink:href=\"#DejaVuSans-35\" x=\"95.410156\"/>\n      </g>\n     </g>\n    </g>\n   </g>\n   <g id=\"PathCollection_1\">\n    <defs>\n     <path id=\"mdf285fb238\" d=\"M 0 3 \nC 0.795609 3 1.55874 2.683901 2.12132 2.12132 \nC 2.683901 1.55874 3 0.795609 3 0 \nC 3 -0.795609 2.683901 -1.55874 2.12132 -2.12132 \nC 1.55874 -2.683901 0.795609 -3 0 -3 \nC -0.795609 -3 -1.55874 -2.683901 -2.12132 -2.12132 \nC -2.683901 -1.55874 -3 -0.795609 -3 0 \nC -3 0.795609 -2.683901 1.55874 -2.12132 2.12132 \nC -1.55874 2.683901 -0.795609 3 0 3 \nz\n\" style=\"stroke: #1f77b4\"/>\n    </defs>\n    <g clip-path=\"url(#p515b1a8151)\">\n     <use xlink:href=\"#mdf285fb238\" x=\"151.428897\" y=\"242.004694\" style=\"fill: #1f77b4; stroke: #1f77b4\"/>\n     <use xlink:href=\"#mdf285fb238\" x=\"256.759446\" y=\"176.614633\" style=\"fill: #1f77b4; stroke: #1f77b4\"/>\n     <use xlink:href=\"#mdf285fb238\" x=\"114.27204\" y=\"248.555866\" style=\"fill: #1f77b4; stroke: #1f77b4\"/>\n     <use xlink:href=\"#mdf285fb238\" x=\"210.597275\" y=\"212.725772\" style=\"fill: #1f77b4; stroke: #1f77b4\"/>\n     <use xlink:href=\"#mdf285fb238\" x=\"166.024031\" y=\"230.865879\" style=\"fill: #1f77b4; stroke: #1f77b4\"/>\n     <use xlink:href=\"#mdf285fb238\" x=\"222.819742\" y=\"198.798325\" style=\"fill: #1f77b4; stroke: #1f77b4\"/>\n     <use xlink:href=\"#mdf285fb238\" x=\"174.458743\" y=\"230.867711\" style=\"fill: #1f77b4; stroke: #1f77b4\"/>\n     <use xlink:href=\"#mdf285fb238\" x=\"134.452593\" y=\"245.489007\" style=\"fill: #1f77b4; stroke: #1f77b4\"/>\n     <use xlink:href=\"#mdf285fb238\" x=\"194.038327\" y=\"220.356552\" style=\"fill: #1f77b4; stroke: #1f77b4\"/>\n     <use xlink:href=\"#mdf285fb238\" x=\"141.241591\" y=\"234.516573\" style=\"fill: #1f77b4; stroke: #1f77b4\"/>\n     <use xlink:href=\"#mdf285fb238\" x=\"178.365124\" y=\"237.583231\" style=\"fill: #1f77b4; stroke: #1f77b4\"/>\n     <use xlink:href=\"#mdf285fb238\" x=\"147.968947\" y=\"240.204234\" style=\"fill: #1f77b4; stroke: #1f77b4\"/>\n     <use xlink:href=\"#mdf285fb238\" x=\"115.32537\" y=\"250.698296\" style=\"fill: #1f77b4; stroke: #1f77b4\"/>\n     <use xlink:href=\"#mdf285fb238\" x=\"164.792343\" y=\"234.415764\" style=\"fill: #1f77b4; stroke: #1f77b4\"/>\n     <use xlink:href=\"#mdf285fb238\" x=\"232.056982\" y=\"198.439013\" style=\"fill: #1f77b4; stroke: #1f77b4\"/>\n     <use xlink:href=\"#mdf285fb238\" x=\"182.031922\" y=\"223.722033\" style=\"fill: #1f77b4; stroke: #1f77b4\"/>\n     <use xlink:href=\"#mdf285fb238\" x=\"156.765788\" y=\"224.034448\" style=\"fill: #1f77b4; stroke: #1f77b4\"/>\n     <use xlink:href=\"#mdf285fb238\" x=\"132.884409\" y=\"243.72189\" style=\"fill: #1f77b4; stroke: #1f77b4\"/>\n     <use xlink:href=\"#mdf285fb238\" x=\"183.591532\" y=\"227.030909\" style=\"fill: #1f77b4; stroke: #1f77b4\"/>\n     <use xlink:href=\"#mdf285fb238\" x=\"97.166582\" y=\"254.292026\" style=\"fill: #1f77b4; stroke: #1f77b4\"/>\n     <use xlink:href=\"#mdf285fb238\" x=\"196.499187\" y=\"218.851652\" style=\"fill: #1f77b4; stroke: #1f77b4\"/>\n     <use xlink:href=\"#mdf285fb238\" x=\"156.69437\" y=\"241.036291\" style=\"fill: #1f77b4; stroke: #1f77b4\"/>\n     <use xlink:href=\"#mdf285fb238\" x=\"168.886936\" y=\"236.05092\" style=\"fill: #1f77b4; stroke: #1f77b4\"/>\n     <use xlink:href=\"#mdf285fb238\" x=\"123.532557\" y=\"251.889798\" style=\"fill: #1f77b4; stroke: #1f77b4\"/>\n     <use xlink:href=\"#mdf285fb238\" x=\"198.550477\" y=\"220.610333\" style=\"fill: #1f77b4; stroke: #1f77b4\"/>\n     <use xlink:href=\"#mdf285fb238\" x=\"183.376803\" y=\"215.103011\" style=\"fill: #1f77b4; stroke: #1f77b4\"/>\n     <use xlink:href=\"#mdf285fb238\" x=\"163.800704\" y=\"219.58121\" style=\"fill: #1f77b4; stroke: #1f77b4\"/>\n     <use xlink:href=\"#mdf285fb238\" x=\"240.145879\" y=\"202.167335\" style=\"fill: #1f77b4; stroke: #1f77b4\"/>\n     <use xlink:href=\"#mdf285fb238\" x=\"178.508013\" y=\"229.164522\" style=\"fill: #1f77b4; stroke: #1f77b4\"/>\n     <use xlink:href=\"#mdf285fb238\" x=\"306.051377\" y=\"169.356522\" style=\"fill: #1f77b4; stroke: #1f77b4\"/>\n     <use xlink:href=\"#mdf285fb238\" x=\"188.960619\" y=\"228.302774\" style=\"fill: #1f77b4; stroke: #1f77b4\"/>\n     <use xlink:href=\"#mdf285fb238\" x=\"222.542041\" y=\"210.186524\" style=\"fill: #1f77b4; stroke: #1f77b4\"/>\n     <use xlink:href=\"#mdf285fb238\" x=\"102.827507\" y=\"263.968701\" style=\"fill: #1f77b4; stroke: #1f77b4\"/>\n     <use xlink:href=\"#mdf285fb238\" x=\"178.437767\" y=\"216.087043\" style=\"fill: #1f77b4; stroke: #1f77b4\"/>\n     <use xlink:href=\"#mdf285fb238\" x=\"99.871522\" y=\"266.203593\" style=\"fill: #1f77b4; stroke: #1f77b4\"/>\n     <use xlink:href=\"#mdf285fb238\" x=\"189.444669\" y=\"231.255925\" style=\"fill: #1f77b4; stroke: #1f77b4\"/>\n     <use xlink:href=\"#mdf285fb238\" x=\"199.824906\" y=\"219.882202\" style=\"fill: #1f77b4; stroke: #1f77b4\"/>\n     <use xlink:href=\"#mdf285fb238\" x=\"164.182085\" y=\"232.72627\" style=\"fill: #1f77b4; stroke: #1f77b4\"/>\n     <use xlink:href=\"#mdf285fb238\" x=\"165.349323\" y=\"227.653368\" style=\"fill: #1f77b4; stroke: #1f77b4\"/>\n     <use xlink:href=\"#mdf285fb238\" x=\"219.815066\" y=\"209.819249\" style=\"fill: #1f77b4; stroke: #1f77b4\"/>\n     <use xlink:href=\"#mdf285fb238\" x=\"189.807546\" y=\"212.557433\" style=\"fill: #1f77b4; stroke: #1f77b4\"/>\n     <use xlink:href=\"#mdf285fb238\" x=\"107.170001\" y=\"246.413788\" style=\"fill: #1f77b4; stroke: #1f77b4\"/>\n     <use xlink:href=\"#mdf285fb238\" x=\"132.067103\" y=\"245.225736\" style=\"fill: #1f77b4; stroke: #1f77b4\"/>\n     <use xlink:href=\"#mdf285fb238\" x=\"217.145638\" y=\"212.306874\" style=\"fill: #1f77b4; stroke: #1f77b4\"/>\n     <use xlink:href=\"#mdf285fb238\" x=\"143.182608\" y=\"233.009675\" style=\"fill: #1f77b4; stroke: #1f77b4\"/>\n     <use xlink:href=\"#mdf285fb238\" x=\"203.932382\" y=\"209.463073\" style=\"fill: #1f77b4; stroke: #1f77b4\"/>\n     <use xlink:href=\"#mdf285fb238\" x=\"165.946512\" y=\"243.836346\" style=\"fill: #1f77b4; stroke: #1f77b4\"/>\n     <use xlink:href=\"#mdf285fb238\" x=\"152.476742\" y=\"252.424679\" style=\"fill: #1f77b4; stroke: #1f77b4\"/>\n     <use xlink:href=\"#mdf285fb238\" x=\"137.186058\" y=\"232.822731\" style=\"fill: #1f77b4; stroke: #1f77b4\"/>\n     <use xlink:href=\"#mdf285fb238\" x=\"76.195628\" y=\"263.307645\" style=\"fill: #1f77b4; stroke: #1f77b4\"/>\n     <use xlink:href=\"#mdf285fb238\" x=\"179.193493\" y=\"228.8879\" style=\"fill: #1f77b4; stroke: #1f77b4\"/>\n     <use xlink:href=\"#mdf285fb238\" x=\"241.978541\" y=\"198.299677\" style=\"fill: #1f77b4; stroke: #1f77b4\"/>\n     <use xlink:href=\"#mdf285fb238\" x=\"178.765192\" y=\"241.651124\" style=\"fill: #1f77b4; stroke: #1f77b4\"/>\n     <use xlink:href=\"#mdf285fb238\" x=\"122.027106\" y=\"249.924027\" style=\"fill: #1f77b4; stroke: #1f77b4\"/>\n     <use xlink:href=\"#mdf285fb238\" x=\"197.253272\" y=\"227.471595\" style=\"fill: #1f77b4; stroke: #1f77b4\"/>\n     <use xlink:href=\"#mdf285fb238\" x=\"56.463068\" y=\"277.429127\" style=\"fill: #1f77b4; stroke: #1f77b4\"/>\n     <use xlink:href=\"#mdf285fb238\" x=\"158.386022\" y=\"229.39993\" style=\"fill: #1f77b4; stroke: #1f77b4\"/>\n     <use xlink:href=\"#mdf285fb238\" x=\"155.767764\" y=\"234.829238\" style=\"fill: #1f77b4; stroke: #1f77b4\"/>\n     <use xlink:href=\"#mdf285fb238\" x=\"208.860041\" y=\"213.831901\" style=\"fill: #1f77b4; stroke: #1f77b4\"/>\n     <use xlink:href=\"#mdf285fb238\" x=\"132.569851\" y=\"248.405572\" style=\"fill: #1f77b4; stroke: #1f77b4\"/>\n     <use xlink:href=\"#mdf285fb238\" x=\"138.850626\" y=\"241.121521\" style=\"fill: #1f77b4; stroke: #1f77b4\"/>\n     <use xlink:href=\"#mdf285fb238\" x=\"90.011376\" y=\"259.328228\" style=\"fill: #1f77b4; stroke: #1f77b4\"/>\n     <use xlink:href=\"#mdf285fb238\" x=\"152.094259\" y=\"245.798179\" style=\"fill: #1f77b4; stroke: #1f77b4\"/>\n     <use xlink:href=\"#mdf285fb238\" x=\"133.013998\" y=\"248.160656\" style=\"fill: #1f77b4; stroke: #1f77b4\"/>\n     <use xlink:href=\"#mdf285fb238\" x=\"191.952358\" y=\"229.022216\" style=\"fill: #1f77b4; stroke: #1f77b4\"/>\n     <use xlink:href=\"#mdf285fb238\" x=\"178.68156\" y=\"231.298453\" style=\"fill: #1f77b4; stroke: #1f77b4\"/>\n     <use xlink:href=\"#mdf285fb238\" x=\"152.019834\" y=\"234.941186\" style=\"fill: #1f77b4; stroke: #1f77b4\"/>\n     <use xlink:href=\"#mdf285fb238\" x=\"189.861675\" y=\"214.253923\" style=\"fill: #1f77b4; stroke: #1f77b4\"/>\n     <use xlink:href=\"#mdf285fb238\" x=\"197.250681\" y=\"221.177229\" style=\"fill: #1f77b4; stroke: #1f77b4\"/>\n     <use xlink:href=\"#mdf285fb238\" x=\"177.877142\" y=\"223.67155\" style=\"fill: #1f77b4; stroke: #1f77b4\"/>\n     <use xlink:href=\"#mdf285fb238\" x=\"110.772007\" y=\"250.592474\" style=\"fill: #1f77b4; stroke: #1f77b4\"/>\n     <use xlink:href=\"#mdf285fb238\" x=\"233.488491\" y=\"198.77254\" style=\"fill: #1f77b4; stroke: #1f77b4\"/>\n     <use xlink:href=\"#mdf285fb238\" x=\"252.333822\" y=\"179.886395\" style=\"fill: #1f77b4; stroke: #1f77b4\"/>\n     <use xlink:href=\"#mdf285fb238\" x=\"235.192086\" y=\"203.386925\" style=\"fill: #1f77b4; stroke: #1f77b4\"/>\n     <use xlink:href=\"#mdf285fb238\" x=\"155.389504\" y=\"225.424959\" style=\"fill: #1f77b4; stroke: #1f77b4\"/>\n     <use xlink:href=\"#mdf285fb238\" x=\"189.604064\" y=\"222.112341\" style=\"fill: #1f77b4; stroke: #1f77b4\"/>\n     <use xlink:href=\"#mdf285fb238\" x=\"225.816449\" y=\"209.600941\" style=\"fill: #1f77b4; stroke: #1f77b4\"/>\n     <use xlink:href=\"#mdf285fb238\" x=\"75.646931\" y=\"270.45972\" style=\"fill: #1f77b4; stroke: #1f77b4\"/>\n     <use xlink:href=\"#mdf285fb238\" x=\"179.132782\" y=\"225.377374\" style=\"fill: #1f77b4; stroke: #1f77b4\"/>\n     <use xlink:href=\"#mdf285fb238\" x=\"91.924629\" y=\"262.383568\" style=\"fill: #1f77b4; stroke: #1f77b4\"/>\n     <use xlink:href=\"#mdf285fb238\" x=\"196.160473\" y=\"228.834343\" style=\"fill: #1f77b4; stroke: #1f77b4\"/>\n     <use xlink:href=\"#mdf285fb238\" x=\"119.353447\" y=\"245.680042\" style=\"fill: #1f77b4; stroke: #1f77b4\"/>\n     <use xlink:href=\"#mdf285fb238\" x=\"165.513964\" y=\"228.342046\" style=\"fill: #1f77b4; stroke: #1f77b4\"/>\n     <use xlink:href=\"#mdf285fb238\" x=\"147.227122\" y=\"243.233538\" style=\"fill: #1f77b4; stroke: #1f77b4\"/>\n     <use xlink:href=\"#mdf285fb238\" x=\"188.102461\" y=\"231.725461\" style=\"fill: #1f77b4; stroke: #1f77b4\"/>\n     <use xlink:href=\"#mdf285fb238\" x=\"162.406259\" y=\"237.296961\" style=\"fill: #1f77b4; stroke: #1f77b4\"/>\n     <use xlink:href=\"#mdf285fb238\" x=\"201.527335\" y=\"214.597329\" style=\"fill: #1f77b4; stroke: #1f77b4\"/>\n     <use xlink:href=\"#mdf285fb238\" x=\"91.441708\" y=\"255.951884\" style=\"fill: #1f77b4; stroke: #1f77b4\"/>\n     <use xlink:href=\"#mdf285fb238\" x=\"169.5042\" y=\"223.568051\" style=\"fill: #1f77b4; stroke: #1f77b4\"/>\n     <use xlink:href=\"#mdf285fb238\" x=\"208.170182\" y=\"221.446625\" style=\"fill: #1f77b4; stroke: #1f77b4\"/>\n     <use xlink:href=\"#mdf285fb238\" x=\"201.801376\" y=\"216.622136\" style=\"fill: #1f77b4; stroke: #1f77b4\"/>\n     <use xlink:href=\"#mdf285fb238\" x=\"310.099432\" y=\"176.832757\" style=\"fill: #1f77b4; stroke: #1f77b4\"/>\n     <use xlink:href=\"#mdf285fb238\" x=\"171.463564\" y=\"238.104527\" style=\"fill: #1f77b4; stroke: #1f77b4\"/>\n     <use xlink:href=\"#mdf285fb238\" x=\"154.653132\" y=\"236.110058\" style=\"fill: #1f77b4; stroke: #1f77b4\"/>\n     <use xlink:href=\"#mdf285fb238\" x=\"134.882217\" y=\"260.526589\" style=\"fill: #1f77b4; stroke: #1f77b4\"/>\n     <use xlink:href=\"#mdf285fb238\" x=\"146.437142\" y=\"250.835345\" style=\"fill: #1f77b4; stroke: #1f77b4\"/>\n     <use xlink:href=\"#mdf285fb238\" x=\"129.959358\" y=\"256.303855\" style=\"fill: #1f77b4; stroke: #1f77b4\"/>\n     <use xlink:href=\"#mdf285fb238\" x=\"200.643168\" y=\"226.013915\" style=\"fill: #1f77b4; stroke: #1f77b4\"/>\n     <use xlink:href=\"#mdf285fb238\" x=\"141.733454\" y=\"236.532928\" style=\"fill: #1f77b4; stroke: #1f77b4\"/>\n     <use xlink:href=\"#mdf285fb238\" x=\"131.128678\" y=\"253.430138\" style=\"fill: #1f77b4; stroke: #1f77b4\"/>\n    </g>\n   </g>\n   <g id=\"PathCollection_2\">\n    <defs>\n     <path id=\"m49b9a267d6\" d=\"M 0 3 \nC 0.795609 3 1.55874 2.683901 2.12132 2.12132 \nC 2.683901 1.55874 3 0.795609 3 0 \nC 3 -0.795609 2.683901 -1.55874 2.12132 -2.12132 \nC 1.55874 -2.683901 0.795609 -3 0 -3 \nC -0.795609 -3 -1.55874 -2.683901 -2.12132 -2.12132 \nC -2.683901 -1.55874 -3 -0.795609 -3 0 \nC -3 0.795609 -2.683901 1.55874 -2.12132 2.12132 \nC -1.55874 2.683901 -0.795609 3 0 3 \nz\n\" style=\"stroke: #ff7f0e\"/>\n    </defs>\n    <g clip-path=\"url(#p515b1a8151)\">\n     <use xlink:href=\"#m49b9a267d6\" x=\"159.578162\" y=\"241.395352\" style=\"fill: #ff7f0e; stroke: #ff7f0e\"/>\n     <use xlink:href=\"#m49b9a267d6\" x=\"159.22884\" y=\"231.719669\" style=\"fill: #ff7f0e; stroke: #ff7f0e\"/>\n     <use xlink:href=\"#m49b9a267d6\" x=\"122.417544\" y=\"251.513585\" style=\"fill: #ff7f0e; stroke: #ff7f0e\"/>\n     <use xlink:href=\"#m49b9a267d6\" x=\"131.639846\" y=\"249.395579\" style=\"fill: #ff7f0e; stroke: #ff7f0e\"/>\n     <use xlink:href=\"#m49b9a267d6\" x=\"127.395764\" y=\"262.302571\" style=\"fill: #ff7f0e; stroke: #ff7f0e\"/>\n     <use xlink:href=\"#m49b9a267d6\" x=\"117.344716\" y=\"269.558726\" style=\"fill: #ff7f0e; stroke: #ff7f0e\"/>\n     <use xlink:href=\"#m49b9a267d6\" x=\"207.437938\" y=\"221.429328\" style=\"fill: #ff7f0e; stroke: #ff7f0e\"/>\n     <use xlink:href=\"#m49b9a267d6\" x=\"172.117776\" y=\"241.753516\" style=\"fill: #ff7f0e; stroke: #ff7f0e\"/>\n     <use xlink:href=\"#m49b9a267d6\" x=\"153.475667\" y=\"256.247163\" style=\"fill: #ff7f0e; stroke: #ff7f0e\"/>\n     <use xlink:href=\"#m49b9a267d6\" x=\"145.78463\" y=\"240.846453\" style=\"fill: #ff7f0e; stroke: #ff7f0e\"/>\n     <use xlink:href=\"#m49b9a267d6\" x=\"232.944858\" y=\"210.164475\" style=\"fill: #ff7f0e; stroke: #ff7f0e\"/>\n     <use xlink:href=\"#m49b9a267d6\" x=\"146.072737\" y=\"248.025503\" style=\"fill: #ff7f0e; stroke: #ff7f0e\"/>\n     <use xlink:href=\"#m49b9a267d6\" x=\"225.472551\" y=\"218.169337\" style=\"fill: #ff7f0e; stroke: #ff7f0e\"/>\n     <use xlink:href=\"#m49b9a267d6\" x=\"78.204311\" y=\"269.414827\" style=\"fill: #ff7f0e; stroke: #ff7f0e\"/>\n     <use xlink:href=\"#m49b9a267d6\" x=\"234.146936\" y=\"222.794472\" style=\"fill: #ff7f0e; stroke: #ff7f0e\"/>\n     <use xlink:href=\"#m49b9a267d6\" x=\"184.520076\" y=\"236.205965\" style=\"fill: #ff7f0e; stroke: #ff7f0e\"/>\n     <use xlink:href=\"#m49b9a267d6\" x=\"219.003775\" y=\"215.622602\" style=\"fill: #ff7f0e; stroke: #ff7f0e\"/>\n     <use xlink:href=\"#m49b9a267d6\" x=\"99.419506\" y=\"270.128444\" style=\"fill: #ff7f0e; stroke: #ff7f0e\"/>\n     <use xlink:href=\"#m49b9a267d6\" x=\"162.67563\" y=\"242.215564\" style=\"fill: #ff7f0e; stroke: #ff7f0e\"/>\n     <use xlink:href=\"#m49b9a267d6\" x=\"213.360004\" y=\"210.175966\" style=\"fill: #ff7f0e; stroke: #ff7f0e\"/>\n     <use xlink:href=\"#m49b9a267d6\" x=\"125.04896\" y=\"258.484814\" style=\"fill: #ff7f0e; stroke: #ff7f0e\"/>\n     <use xlink:href=\"#m49b9a267d6\" x=\"163.344771\" y=\"225.063559\" style=\"fill: #ff7f0e; stroke: #ff7f0e\"/>\n     <use xlink:href=\"#m49b9a267d6\" x=\"231.777488\" y=\"208.336454\" style=\"fill: #ff7f0e; stroke: #ff7f0e\"/>\n     <use xlink:href=\"#m49b9a267d6\" x=\"130.048721\" y=\"238.889294\" style=\"fill: #ff7f0e; stroke: #ff7f0e\"/>\n     <use xlink:href=\"#m49b9a267d6\" x=\"94.738453\" y=\"272.194347\" style=\"fill: #ff7f0e; stroke: #ff7f0e\"/>\n     <use xlink:href=\"#m49b9a267d6\" x=\"173.656307\" y=\"230.411772\" style=\"fill: #ff7f0e; stroke: #ff7f0e\"/>\n     <use xlink:href=\"#m49b9a267d6\" x=\"110.556112\" y=\"260.919672\" style=\"fill: #ff7f0e; stroke: #ff7f0e\"/>\n     <use xlink:href=\"#m49b9a267d6\" x=\"68.456002\" y=\"278.921739\" style=\"fill: #ff7f0e; stroke: #ff7f0e\"/>\n     <use xlink:href=\"#m49b9a267d6\" x=\"189.747688\" y=\"227.553574\" style=\"fill: #ff7f0e; stroke: #ff7f0e\"/>\n     <use xlink:href=\"#m49b9a267d6\" x=\"92.287188\" y=\"267.555285\" style=\"fill: #ff7f0e; stroke: #ff7f0e\"/>\n     <use xlink:href=\"#m49b9a267d6\" x=\"134.817373\" y=\"233.786966\" style=\"fill: #ff7f0e; stroke: #ff7f0e\"/>\n     <use xlink:href=\"#m49b9a267d6\" x=\"213.163207\" y=\"214.327824\" style=\"fill: #ff7f0e; stroke: #ff7f0e\"/>\n     <use xlink:href=\"#m49b9a267d6\" x=\"143.838476\" y=\"247.333364\" style=\"fill: #ff7f0e; stroke: #ff7f0e\"/>\n     <use xlink:href=\"#m49b9a267d6\" x=\"230.918779\" y=\"203.926845\" style=\"fill: #ff7f0e; stroke: #ff7f0e\"/>\n     <use xlink:href=\"#m49b9a267d6\" x=\"177.939101\" y=\"244.409715\" style=\"fill: #ff7f0e; stroke: #ff7f0e\"/>\n     <use xlink:href=\"#m49b9a267d6\" x=\"120.592079\" y=\"244.500659\" style=\"fill: #ff7f0e; stroke: #ff7f0e\"/>\n     <use xlink:href=\"#m49b9a267d6\" x=\"121.497228\" y=\"231.468364\" style=\"fill: #ff7f0e; stroke: #ff7f0e\"/>\n     <use xlink:href=\"#m49b9a267d6\" x=\"137.896564\" y=\"237.578357\" style=\"fill: #ff7f0e; stroke: #ff7f0e\"/>\n     <use xlink:href=\"#m49b9a267d6\" x=\"125.384746\" y=\"242.536295\" style=\"fill: #ff7f0e; stroke: #ff7f0e\"/>\n     <use xlink:href=\"#m49b9a267d6\" x=\"175.789278\" y=\"241.304464\" style=\"fill: #ff7f0e; stroke: #ff7f0e\"/>\n     <use xlink:href=\"#m49b9a267d6\" x=\"165.97741\" y=\"234.289867\" style=\"fill: #ff7f0e; stroke: #ff7f0e\"/>\n     <use xlink:href=\"#m49b9a267d6\" x=\"198.816283\" y=\"206.332597\" style=\"fill: #ff7f0e; stroke: #ff7f0e\"/>\n     <use xlink:href=\"#m49b9a267d6\" x=\"79.289373\" y=\"269.835993\" style=\"fill: #ff7f0e; stroke: #ff7f0e\"/>\n     <use xlink:href=\"#m49b9a267d6\" x=\"170.115913\" y=\"238.262854\" style=\"fill: #ff7f0e; stroke: #ff7f0e\"/>\n     <use xlink:href=\"#m49b9a267d6\" x=\"69.475008\" y=\"276.340844\" style=\"fill: #ff7f0e; stroke: #ff7f0e\"/>\n     <use xlink:href=\"#m49b9a267d6\" x=\"234.678107\" y=\"210.183401\" style=\"fill: #ff7f0e; stroke: #ff7f0e\"/>\n     <use xlink:href=\"#m49b9a267d6\" x=\"144.839774\" y=\"237.402053\" style=\"fill: #ff7f0e; stroke: #ff7f0e\"/>\n     <use xlink:href=\"#m49b9a267d6\" x=\"225.572278\" y=\"196.339497\" style=\"fill: #ff7f0e; stroke: #ff7f0e\"/>\n     <use xlink:href=\"#m49b9a267d6\" x=\"144.575177\" y=\"239.803801\" style=\"fill: #ff7f0e; stroke: #ff7f0e\"/>\n     <use xlink:href=\"#m49b9a267d6\" x=\"148.206496\" y=\"241.722532\" style=\"fill: #ff7f0e; stroke: #ff7f0e\"/>\n     <use xlink:href=\"#m49b9a267d6\" x=\"139.448928\" y=\"243.304927\" style=\"fill: #ff7f0e; stroke: #ff7f0e\"/>\n     <use xlink:href=\"#m49b9a267d6\" x=\"274.329031\" y=\"198.626294\" style=\"fill: #ff7f0e; stroke: #ff7f0e\"/>\n     <use xlink:href=\"#m49b9a267d6\" x=\"115.333215\" y=\"243.420034\" style=\"fill: #ff7f0e; stroke: #ff7f0e\"/>\n     <use xlink:href=\"#m49b9a267d6\" x=\"173.368141\" y=\"214.058146\" style=\"fill: #ff7f0e; stroke: #ff7f0e\"/>\n     <use xlink:href=\"#m49b9a267d6\" x=\"150.751174\" y=\"235.036479\" style=\"fill: #ff7f0e; stroke: #ff7f0e\"/>\n     <use xlink:href=\"#m49b9a267d6\" x=\"165.853159\" y=\"231.421188\" style=\"fill: #ff7f0e; stroke: #ff7f0e\"/>\n     <use xlink:href=\"#m49b9a267d6\" x=\"212.75348\" y=\"211.71059\" style=\"fill: #ff7f0e; stroke: #ff7f0e\"/>\n     <use xlink:href=\"#m49b9a267d6\" x=\"144.641608\" y=\"230.955511\" style=\"fill: #ff7f0e; stroke: #ff7f0e\"/>\n     <use xlink:href=\"#m49b9a267d6\" x=\"160.002028\" y=\"245.387278\" style=\"fill: #ff7f0e; stroke: #ff7f0e\"/>\n     <use xlink:href=\"#m49b9a267d6\" x=\"153.108876\" y=\"232.48162\" style=\"fill: #ff7f0e; stroke: #ff7f0e\"/>\n     <use xlink:href=\"#m49b9a267d6\" x=\"204.345387\" y=\"221.121271\" style=\"fill: #ff7f0e; stroke: #ff7f0e\"/>\n     <use xlink:href=\"#m49b9a267d6\" x=\"201.729807\" y=\"228.225562\" style=\"fill: #ff7f0e; stroke: #ff7f0e\"/>\n     <use xlink:href=\"#m49b9a267d6\" x=\"165.408204\" y=\"232.663768\" style=\"fill: #ff7f0e; stroke: #ff7f0e\"/>\n     <use xlink:href=\"#m49b9a267d6\" x=\"177.653705\" y=\"220.844713\" style=\"fill: #ff7f0e; stroke: #ff7f0e\"/>\n     <use xlink:href=\"#m49b9a267d6\" x=\"186.797621\" y=\"216.923619\" style=\"fill: #ff7f0e; stroke: #ff7f0e\"/>\n     <use xlink:href=\"#m49b9a267d6\" x=\"78.844166\" y=\"269.525198\" style=\"fill: #ff7f0e; stroke: #ff7f0e\"/>\n     <use xlink:href=\"#m49b9a267d6\" x=\"189.184029\" y=\"229.873049\" style=\"fill: #ff7f0e; stroke: #ff7f0e\"/>\n     <use xlink:href=\"#m49b9a267d6\" x=\"132.928714\" y=\"239.623231\" style=\"fill: #ff7f0e; stroke: #ff7f0e\"/>\n     <use xlink:href=\"#m49b9a267d6\" x=\"219.521425\" y=\"206.586149\" style=\"fill: #ff7f0e; stroke: #ff7f0e\"/>\n     <use xlink:href=\"#m49b9a267d6\" x=\"193.898677\" y=\"224.376669\" style=\"fill: #ff7f0e; stroke: #ff7f0e\"/>\n     <use xlink:href=\"#m49b9a267d6\" x=\"205.070903\" y=\"230.927022\" style=\"fill: #ff7f0e; stroke: #ff7f0e\"/>\n     <use xlink:href=\"#m49b9a267d6\" x=\"108.331767\" y=\"250.307528\" style=\"fill: #ff7f0e; stroke: #ff7f0e\"/>\n     <use xlink:href=\"#m49b9a267d6\" x=\"99.615893\" y=\"266.351559\" style=\"fill: #ff7f0e; stroke: #ff7f0e\"/>\n     <use xlink:href=\"#m49b9a267d6\" x=\"185.85019\" y=\"218.887591\" style=\"fill: #ff7f0e; stroke: #ff7f0e\"/>\n     <use xlink:href=\"#m49b9a267d6\" x=\"222.353559\" y=\"210.538367\" style=\"fill: #ff7f0e; stroke: #ff7f0e\"/>\n     <use xlink:href=\"#m49b9a267d6\" x=\"171.520058\" y=\"218.240794\" style=\"fill: #ff7f0e; stroke: #ff7f0e\"/>\n     <use xlink:href=\"#m49b9a267d6\" x=\"175.164935\" y=\"231.246524\" style=\"fill: #ff7f0e; stroke: #ff7f0e\"/>\n     <use xlink:href=\"#m49b9a267d6\" x=\"241.624913\" y=\"197.899828\" style=\"fill: #ff7f0e; stroke: #ff7f0e\"/>\n     <use xlink:href=\"#m49b9a267d6\" x=\"235.202086\" y=\"203.954306\" style=\"fill: #ff7f0e; stroke: #ff7f0e\"/>\n     <use xlink:href=\"#m49b9a267d6\" x=\"221.994477\" y=\"208.253985\" style=\"fill: #ff7f0e; stroke: #ff7f0e\"/>\n     <use xlink:href=\"#m49b9a267d6\" x=\"226.950019\" y=\"201.976719\" style=\"fill: #ff7f0e; stroke: #ff7f0e\"/>\n     <use xlink:href=\"#m49b9a267d6\" x=\"183.705205\" y=\"228.834066\" style=\"fill: #ff7f0e; stroke: #ff7f0e\"/>\n     <use xlink:href=\"#m49b9a267d6\" x=\"108.754032\" y=\"245.561184\" style=\"fill: #ff7f0e; stroke: #ff7f0e\"/>\n     <use xlink:href=\"#m49b9a267d6\" x=\"254.38908\" y=\"201.528944\" style=\"fill: #ff7f0e; stroke: #ff7f0e\"/>\n     <use xlink:href=\"#m49b9a267d6\" x=\"92.398\" y=\"267.907734\" style=\"fill: #ff7f0e; stroke: #ff7f0e\"/>\n     <use xlink:href=\"#m49b9a267d6\" x=\"217.664207\" y=\"208.834977\" style=\"fill: #ff7f0e; stroke: #ff7f0e\"/>\n     <use xlink:href=\"#m49b9a267d6\" x=\"239.709273\" y=\"193.430677\" style=\"fill: #ff7f0e; stroke: #ff7f0e\"/>\n     <use xlink:href=\"#m49b9a267d6\" x=\"140.020062\" y=\"239.825764\" style=\"fill: #ff7f0e; stroke: #ff7f0e\"/>\n     <use xlink:href=\"#m49b9a267d6\" x=\"153.539002\" y=\"232.372711\" style=\"fill: #ff7f0e; stroke: #ff7f0e\"/>\n     <use xlink:href=\"#m49b9a267d6\" x=\"186.559622\" y=\"236.526244\" style=\"fill: #ff7f0e; stroke: #ff7f0e\"/>\n     <use xlink:href=\"#m49b9a267d6\" x=\"186.450295\" y=\"226.898408\" style=\"fill: #ff7f0e; stroke: #ff7f0e\"/>\n     <use xlink:href=\"#m49b9a267d6\" x=\"185.701534\" y=\"227.319895\" style=\"fill: #ff7f0e; stroke: #ff7f0e\"/>\n     <use xlink:href=\"#m49b9a267d6\" x=\"184.159726\" y=\"219.368723\" style=\"fill: #ff7f0e; stroke: #ff7f0e\"/>\n     <use xlink:href=\"#m49b9a267d6\" x=\"114.906161\" y=\"260.050731\" style=\"fill: #ff7f0e; stroke: #ff7f0e\"/>\n     <use xlink:href=\"#m49b9a267d6\" x=\"131.30432\" y=\"251.585495\" style=\"fill: #ff7f0e; stroke: #ff7f0e\"/>\n     <use xlink:href=\"#m49b9a267d6\" x=\"237.694532\" y=\"195.217214\" style=\"fill: #ff7f0e; stroke: #ff7f0e\"/>\n     <use xlink:href=\"#m49b9a267d6\" x=\"209.610028\" y=\"238.944696\" style=\"fill: #ff7f0e; stroke: #ff7f0e\"/>\n     <use xlink:href=\"#m49b9a267d6\" x=\"235.779151\" y=\"210.275606\" style=\"fill: #ff7f0e; stroke: #ff7f0e\"/>\n     <use xlink:href=\"#m49b9a267d6\" x=\"154.935393\" y=\"240.218233\" style=\"fill: #ff7f0e; stroke: #ff7f0e\"/>\n     <use xlink:href=\"#m49b9a267d6\" x=\"98.546468\" y=\"248.363429\" style=\"fill: #ff7f0e; stroke: #ff7f0e\"/>\n    </g>\n   </g>\n   <g id=\"patch_9\">\n    <path d=\"M 43.78125 284.4 \nL 43.78125 163.878261 \n\" style=\"fill: none; stroke: #ffffff; stroke-width: 0.8; stroke-linejoin: miter; stroke-linecap: square\"/>\n   </g>\n   <g id=\"patch_10\">\n    <path d=\"M 322.78125 284.4 \nL 322.78125 163.878261 \n\" style=\"fill: none; stroke: #ffffff; stroke-width: 0.8; stroke-linejoin: miter; stroke-linecap: square\"/>\n   </g>\n   <g id=\"patch_11\">\n    <path d=\"M 43.78125 284.4 \nL 322.78125 284.4 \n\" style=\"fill: none; stroke: #ffffff; stroke-width: 0.8; stroke-linejoin: miter; stroke-linecap: square\"/>\n   </g>\n   <g id=\"patch_12\">\n    <path d=\"M 43.78125 163.878261 \nL 322.78125 163.878261 \n\" style=\"fill: none; stroke: #ffffff; stroke-width: 0.8; stroke-linejoin: miter; stroke-linecap: square\"/>\n   </g>\n   <g id=\"legend_2\">\n    <g id=\"patch_13\">\n     <path d=\"M 50.78125 201.234511 \nL 134.434375 201.234511 \nQ 136.434375 201.234511 136.434375 199.234511 \nL 136.434375 170.878261 \nQ 136.434375 168.878261 134.434375 168.878261 \nL 50.78125 168.878261 \nQ 48.78125 168.878261 48.78125 170.878261 \nL 48.78125 199.234511 \nQ 48.78125 201.234511 50.78125 201.234511 \nz\n\" style=\"fill: #eaeaf2; opacity: 0.8; stroke: #cccccc; stroke-linejoin: miter\"/>\n    </g>\n    <g id=\"PathCollection_3\">\n     <g>\n      <use xlink:href=\"#mdf285fb238\" x=\"62.78125\" y=\"177.851698\" style=\"fill: #1f77b4; stroke: #1f77b4\"/>\n     </g>\n    </g>\n    <g id=\"text_29\">\n     <!-- real -->\n     <g style=\"fill: #262626\" transform=\"translate(80.78125 180.476698) scale(0.1 -0.1)\">\n      <use xlink:href=\"#DejaVuSans-72\"/>\n      <use xlink:href=\"#DejaVuSans-65\" x=\"38.863281\"/>\n      <use xlink:href=\"#DejaVuSans-61\" x=\"100.386719\"/>\n      <use xlink:href=\"#DejaVuSans-6c\" x=\"161.666016\"/>\n     </g>\n    </g>\n    <g id=\"PathCollection_4\">\n     <g>\n      <use xlink:href=\"#m49b9a267d6\" x=\"62.78125\" y=\"192.529823\" style=\"fill: #ff7f0e; stroke: #ff7f0e\"/>\n     </g>\n    </g>\n    <g id=\"text_30\">\n     <!-- generated -->\n     <g style=\"fill: #262626\" transform=\"translate(80.78125 195.154823) scale(0.1 -0.1)\">\n      <use xlink:href=\"#DejaVuSans-67\"/>\n      <use xlink:href=\"#DejaVuSans-65\" x=\"63.476562\"/>\n      <use xlink:href=\"#DejaVuSans-6e\" x=\"125\"/>\n      <use xlink:href=\"#DejaVuSans-65\" x=\"188.378906\"/>\n      <use xlink:href=\"#DejaVuSans-72\" x=\"249.902344\"/>\n      <use xlink:href=\"#DejaVuSans-61\" x=\"291.015625\"/>\n      <use xlink:href=\"#DejaVuSans-74\" x=\"352.294922\"/>\n      <use xlink:href=\"#DejaVuSans-65\" x=\"391.503906\"/>\n      <use xlink:href=\"#DejaVuSans-64\" x=\"453.027344\"/>\n     </g>\n    </g>\n   </g>\n  </g>\n </g>\n <defs>\n  <clipPath id=\"p62166c843f\">\n   <rect x=\"43.78125\" y=\"7.2\" width=\"279\" height=\"120.521739\"/>\n  </clipPath>\n  <clipPath id=\"p515b1a8151\">\n   <rect x=\"43.78125\" y=\"163.878261\" width=\"279\" height=\"120.521739\"/>\n  </clipPath>\n </defs>\n</svg>\n"
          },
          "metadata": {}
        }
      ],
      "source": [
        "lr_D, lr_G, latent_dim, num_epochs = 0.05, 0.005, 2, 20\n",
        "train(net_D, net_G, data_iter, num_epochs, lr_D, lr_G,\n",
        "      latent_dim, data[:100].numpy())"
      ]
    },
    {
      "cell_type": "markdown",
      "id": "b4174981",
      "metadata": {
        "origin_pos": 33,
        "id": "b4174981"
      },
      "source": [
        "<br>\n",
        "<br>\n",
        "\n",
        "## Summary\n",
        "\n",
        "* Generative adversarial networks (GANs) composes of two deep networks, the generator and the discriminator.\n",
        "* The generator generates the image as much closer to the true image as possible to fool the discriminator, via maximizing the cross-entropy loss, *i.e.*, $\\max \\log(D(\\mathbf{x'}))$.\n",
        "* The discriminator tries to distinguish the generated images from the true images, via minimizing the cross-entropy loss, *i.e.*, $\\min - y \\log D(\\mathbf{x}) - (1-y)\\log(1-D(\\mathbf{x}))$.\n",
        "\n",
        "\n"
      ]
    },
    {
      "cell_type": "markdown",
      "source": [
        "<br>\n",
        "<br>\n",
        "\n",
        "## Exercises\n",
        "\n",
        "* Does an equilibrium exist where the generator wins, *i.e.* the discriminator ends up unable to distinguish the two distributions on finite samples?"
      ],
      "metadata": {
        "id": "IjtEK-Mbg5B1"
      },
      "id": "IjtEK-Mbg5B1"
    },
    {
      "cell_type": "markdown",
      "id": "1b0dea6f",
      "metadata": {
        "origin_pos": 35,
        "tab": [
          "pytorch"
        ],
        "id": "1b0dea6f"
      },
      "source": [
        "> [Discussions](https://discuss.d2l.ai/t/1082)\n"
      ]
    },
    {
      "cell_type": "markdown",
      "source": [
        "<br>\n",
        "<br>\n",
        "\n",
        "## Previews"
      ],
      "metadata": {
        "id": "pQd_jRxvy_Om"
      },
      "id": "pQd_jRxvy_Om"
    },
    {
      "cell_type": "code",
      "source": [
        "print(batch_size)"
      ],
      "metadata": {
        "colab": {
          "base_uri": "https://localhost:8080/"
        },
        "id": "pJIQ_9pXzKdk",
        "outputId": "ff00fa12-df93-4ae1-ecfe-730f2b2faf10"
      },
      "id": "pJIQ_9pXzKdk",
      "execution_count": 17,
      "outputs": [
        {
          "output_type": "stream",
          "name": "stdout",
          "text": [
            "8\n"
          ]
        }
      ]
    },
    {
      "cell_type": "code",
      "source": [
        "X.shape"
      ],
      "metadata": {
        "colab": {
          "base_uri": "https://localhost:8080/"
        },
        "id": "KgDqS_-rzREi",
        "outputId": "d4207a72-0614-4858-b281-38dad4991725"
      },
      "id": "KgDqS_-rzREi",
      "execution_count": 18,
      "outputs": [
        {
          "output_type": "execute_result",
          "data": {
            "text/plain": [
              "TensorShape([1000, 2])"
            ]
          },
          "metadata": {},
          "execution_count": 18
        }
      ]
    },
    {
      "cell_type": "code",
      "source": [
        "X.device"
      ],
      "metadata": {
        "colab": {
          "base_uri": "https://localhost:8080/",
          "height": 35
        },
        "id": "bpIYtHeYzV5g",
        "outputId": "545d4703-a221-4586-82d4-677fca8a9760"
      },
      "id": "bpIYtHeYzV5g",
      "execution_count": 19,
      "outputs": [
        {
          "output_type": "execute_result",
          "data": {
            "text/plain": [
              "'/job:localhost/replica:0/task:0/device:GPU:0'"
            ],
            "application/vnd.google.colaboratory.intrinsic+json": {
              "type": "string"
            }
          },
          "metadata": {},
          "execution_count": 19
        }
      ]
    }
  ],
  "metadata": {
    "kernelspec": {
      "display_name": "Python 3",
      "name": "python3"
    },
    "language_info": {
      "name": "python"
    },
    "required_libs": [],
    "colab": {
      "provenance": [],
      "toc_visible": true,
      "gpuType": "T4"
    },
    "accelerator": "GPU"
  },
  "nbformat": 4,
  "nbformat_minor": 5
}