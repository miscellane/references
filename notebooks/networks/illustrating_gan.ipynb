{
  "cells": [
    {
      "cell_type": "markdown",
      "id": "f3c82e92",
      "metadata": {
        "id": "f3c82e92"
      },
      "source": [
        "<br>\n",
        "\n",
        "The following additional libraries are needed to run this\n",
        "notebook. Note that running on Colab is experimental, please report a Github\n",
        "issue if you have any problem."
      ]
    },
    {
      "cell_type": "code",
      "execution_count": null,
      "id": "2edae539",
      "metadata": {
        "id": "2edae539"
      },
      "outputs": [],
      "source": [
        "!pip install d2l==1.0.3"
      ]
    },
    {
      "cell_type": "markdown",
      "id": "5f5f7758",
      "metadata": {
        "origin_pos": 0,
        "id": "5f5f7758"
      },
      "source": [
        "<br>\n",
        "<br>\n",
        "<br>\n",
        "\n",
        "# Generative Adversarial Networks\n",
        ":label:`sec_basic_gan`\n",
        "\n",
        "Throughout most of this book, we have talked about how to make predictions. In some form or another, we used deep neural networks to learn mappings from data examples to labels. This kind of learning is called discriminative learning, as in, we'd like to be able to discriminate between photos of cats and photos of dogs. Classifiers and regressors are both examples of discriminative learning. And neural networks trained by backpropagation have upended everything we thought we knew about discriminative learning on large complicated datasets. Classification accuracies on high-res images have gone from useless to human-level (with some caveats) in just 5-6 years. We will spare you another spiel about all the other discriminative tasks where deep neural networks do astoundingly well.\n",
        "\n",
        "But there is more to machine learning than just solving discriminative tasks. For example, given a large dataset, without any labels, we might want to learn a model that concisely captures the characteristics of this data. Given such a model, we could sample synthetic data examples that resemble the distribution of the training data. For example, given a large corpus of photographs of faces, we might want to be able to generate a new photorealistic image that looks like it might plausibly have come from the same dataset. This kind of learning is called generative modeling.\n",
        "\n",
        "Until recently, we had no method that could synthesize novel photorealistic images. But the success of deep neural networks for discriminative learning opened up new possibilities. One big trend over the last three years has been the application of discriminative deep nets to overcome challenges in problems that we do not generally think of as supervised learning problems. The recurrent neural network language models are one example of using a discriminative network (trained to predict the next character) that once trained can act as a generative model.\n",
        "\n",
        "In 2014, a breakthrough paper introduced Generative adversarial networks (GANs) :cite:`Goodfellow.Pouget-Abadie.Mirza.ea.2014`, a clever new way to leverage the power of discriminative models to get good generative models. At their heart, GANs rely on the idea that a data generator is good if we cannot tell fake data apart from real data. In statistics, this is called a two-sample test - a test to answer the question whether datasets $X=\\{x_1,\\ldots, x_n\\}$ and $X'=\\{x'_1,\\ldots, x'_n\\}$ were drawn from the same distribution. The main difference between most statistics papers and GANs is that the latter use this idea in a constructive way. In other words, rather than just training a model to say \"hey, these two datasets do not look like they came from the same distribution\", they use the [two-sample test](https://en.wikipedia.org/wiki/Two-sample_hypothesis_testing) to provide training signals to a generative model. This allows us to improve the data generator until it generates something that resembles the real data. At the very least, it needs to fool the classifier even if our classifier is a state of the art deep neural network.\n",
        "\n",
        "![Generative Adversarial Networks](http://d2l.ai/_images/gan.svg)\n",
        ":label:`fig_gan`\n",
        "\n",
        "\n",
        "The GAN architecture is illustrated in :numref:`fig_gan`.\n",
        "As you can see, there are two pieces in GAN architecture - first off, we need a device (say, a deep network but it really could be anything, such as a game rendering engine) that might potentially be able to generate data that looks just like the real thing. If we are dealing with images, this needs to generate images. If we are dealing with speech, it needs to generate audio sequences, and so on. We call this the generator network. The second component is the discriminator network. It attempts to distinguish fake and real data from each other. Both networks are in competition with each other. The generator network attempts to fool the discriminator network. At that point, the discriminator network adapts to the new fake data. This information, in turn is used to improve the generator network, and so on.\n",
        "\n",
        "\n",
        "The discriminator is a binary classifier to distinguish if the input $x$ is real (from real data) or fake (from the generator). Typically, the discriminator outputs a scalar prediction $o\\in\\mathbb R$ for input $\\mathbf x$, such as using a fully connected layer with hidden size 1, and then applies sigmoid function to obtain the predicted probability $D(\\mathbf x) = 1/(1+e^{-o})$. Assume the label $y$ for the true data is $1$ and $0$ for the fake data. We train the discriminator to minimize the cross-entropy loss, *i.e.*,\n",
        "\n",
        "$$ \\min_D \\{ - y \\log D(\\mathbf x) - (1-y)\\log(1-D(\\mathbf x)) \\},$$\n",
        "\n",
        "For the generator, it first draws some parameter $\\mathbf z\\in\\mathbb R^d$ from a source of randomness, *e.g.*, a normal distribution $\\mathbf z \\sim \\mathcal{N} (0, 1)$. We often call $\\mathbf z$ as the latent variable.\n",
        "It then applies a function to generate $\\mathbf x'=G(\\mathbf z)$. The goal of the generator is to fool the discriminator to classify $\\mathbf x'=G(\\mathbf z)$ as true data, *i.e.*, we want $D( G(\\mathbf z)) \\approx 1$.\n",
        "In other words, for a given discriminator $D$, we update the parameters of the generator $G$ to maximize the cross-entropy loss when $y=0$, *i.e.*,\n",
        "\n",
        "$$ \\max_G \\{ - (1-y) \\log(1-D(G(\\mathbf z))) \\} = \\max_G \\{ - \\log(1-D(G(\\mathbf z))) \\}.$$\n",
        "\n",
        "If the generator does a perfect job, then $D(\\mathbf x')\\approx 1$, so the above loss is near 0, which results in the gradients that are too small to make good progress for the discriminator. So commonly, we minimize the following loss:\n",
        "\n",
        "$$ \\min_G \\{ - y \\log(D(G(\\mathbf z))) \\} = \\min_G \\{ - \\log(D(G(\\mathbf z))) \\}, $$\n",
        "\n",
        "which is just feeding $\\mathbf x'=G(\\mathbf z)$ into the discriminator but giving label $y=1$.\n",
        "\n",
        "\n",
        "To sum up, $D$ and $G$ are playing a \"minimax\" game with the comprehensive objective function:\n",
        "\n",
        "$$\\min_D \\max_G \\{ -E_{x \\sim \\textrm{Data}} \\log D(\\mathbf x) - E_{z \\sim \\textrm{Noise}} \\log(1 - D(G(\\mathbf z))) \\}.$$\n",
        "\n",
        "\n",
        "\n",
        "Many of the GANs applications are in the context of images. As a demonstration purpose, we are going to content ourselves with fitting a much simpler distribution first. We will illustrate what happens if we use GANs to build the world's most inefficient estimator of parameters for a Gaussian. Let's get started.\n"
      ]
    },
    {
      "cell_type": "code",
      "source": [
        "%matplotlib inline\n",
        "\n",
        "import logging\n",
        "\n",
        "import d2l\n",
        "import d2l.torch as dtorch\n",
        "\n",
        "import torch\n",
        "import torch.nn as nn"
      ],
      "metadata": {
        "id": "YYFqEUsTOabC"
      },
      "id": "YYFqEUsTOabC",
      "execution_count": 1,
      "outputs": []
    },
    {
      "cell_type": "code",
      "source": [
        "logging.basicConfig(level=logging.INFO,\n",
        "                    format='\\n%(message)s\\n%(asctime)s.%(msecs)03d',\n",
        "                    datefmt='%Y-%m-%d %H:%M:%S')\n",
        "logger = logging.getLogger(__name__)"
      ],
      "metadata": {
        "id": "1tt0P8RZcJFD"
      },
      "id": "1tt0P8RZcJFD",
      "execution_count": 2,
      "outputs": []
    },
    {
      "cell_type": "markdown",
      "id": "c34697c4",
      "metadata": {
        "origin_pos": 4,
        "id": "c34697c4"
      },
      "source": [
        "<br>\n",
        "<br>\n",
        "\n",
        "## Generate Some \"Real\" Data\n",
        "\n",
        "Since this is going to be the world's lamest example, we simply generate data drawn from a Gaussian.\n"
      ]
    },
    {
      "cell_type": "code",
      "execution_count": 3,
      "id": "a23fc851",
      "metadata": {
        "execution": {
          "iopub.execute_input": "2023-08-18T19:37:54.560462Z",
          "iopub.status.busy": "2023-08-18T19:37:54.559808Z",
          "iopub.status.idle": "2023-08-18T19:37:54.592970Z",
          "shell.execute_reply": "2023-08-18T19:37:54.591379Z"
        },
        "origin_pos": 5,
        "tab": [
          "pytorch"
        ],
        "id": "a23fc851"
      },
      "outputs": [],
      "source": [
        "X = torch.normal(0.0, 1, (1000, 2))\n",
        "logger.info(X)"
      ]
    },
    {
      "cell_type": "code",
      "source": [
        "A = torch.tensor([[1, 2], [-0.1, 0.5]])\n",
        "print(A)"
      ],
      "metadata": {
        "colab": {
          "base_uri": "https://localhost:8080/"
        },
        "id": "VFnyt4IJO4-r",
        "outputId": "20ac010a-c447-4cc4-fb5d-a678a5dcb161"
      },
      "id": "VFnyt4IJO4-r",
      "execution_count": 4,
      "outputs": [
        {
          "output_type": "stream",
          "name": "stdout",
          "text": [
            "tensor([[ 1.0000,  2.0000],\n",
            "        [-0.1000,  0.5000]])\n"
          ]
        }
      ]
    },
    {
      "cell_type": "code",
      "source": [
        "b = torch.tensor([1, 2])\n",
        "print(b)"
      ],
      "metadata": {
        "colab": {
          "base_uri": "https://localhost:8080/"
        },
        "id": "M81hHUcOO5fk",
        "outputId": "928e9e31-ef0a-4af1-cc39-41241ee52331"
      },
      "id": "M81hHUcOO5fk",
      "execution_count": 5,
      "outputs": [
        {
          "output_type": "stream",
          "name": "stdout",
          "text": [
            "tensor([1, 2])\n"
          ]
        }
      ]
    },
    {
      "cell_type": "code",
      "source": [
        "data = torch.matmul(X, A) + b\n",
        "print(data)"
      ],
      "metadata": {
        "colab": {
          "base_uri": "https://localhost:8080/"
        },
        "id": "6uIs08HOPDUC",
        "outputId": "21aa2c9a-1140-4504-da16-da314b7c08e6"
      },
      "id": "6uIs08HOPDUC",
      "execution_count": 6,
      "outputs": [
        {
          "output_type": "stream",
          "name": "stdout",
          "text": [
            "tensor([[0.9096, 2.5178],\n",
            "        [0.9723, 0.6962],\n",
            "        [1.9636, 4.5261],\n",
            "        ...,\n",
            "        [0.0938, 0.7976],\n",
            "        [1.1243, 2.2176],\n",
            "        [2.0276, 4.9084]])\n"
          ]
        }
      ]
    },
    {
      "cell_type": "code",
      "source": [
        "data[:100, (0)]"
      ],
      "metadata": {
        "colab": {
          "base_uri": "https://localhost:8080/"
        },
        "id": "14_aG6swSoZv",
        "outputId": "f37239aa-ba45-41b8-cf07-befb5a8f8d29"
      },
      "id": "14_aG6swSoZv",
      "execution_count": 7,
      "outputs": [
        {
          "output_type": "execute_result",
          "data": {
            "text/plain": [
              "tensor([ 0.9096,  0.9723,  1.9636, -0.2592,  1.2450,  0.5016,  1.9302,  1.2445,\n",
              "         0.8114,  1.4263,  1.6074,  0.4625,  0.9387,  1.6100,  0.2382,  0.4685,\n",
              "         0.4961,  2.6331,  1.5639,  0.7661,  2.4441,  1.4755,  1.4301,  1.0550,\n",
              "         0.2023,  0.6730,  0.8997,  1.9921,  0.9457,  2.3805, -1.2416, -0.2394,\n",
              "         1.7101,  1.8661,  0.9062,  1.4069,  2.2405,  0.4167, -0.5178,  1.2827,\n",
              "         1.5250,  0.8841,  0.1309,  0.6426,  0.7061,  0.1851,  1.3896,  1.1478,\n",
              "         0.9160,  1.4566, -0.2543,  2.4545,  1.2719,  1.7656,  0.0142,  0.7386,\n",
              "         1.1310,  0.2902, -0.7583, -1.2867,  0.6160,  1.8519,  0.9311,  0.5949,\n",
              "         0.7462,  0.4339,  2.9250,  2.1074,  2.9857,  2.9853,  0.5885, -0.5226,\n",
              "         1.7968,  2.9521,  0.0317,  1.5431,  0.0035, -0.3230,  0.7598,  1.1867,\n",
              "         1.1101,  0.3793,  1.2638,  1.1320,  1.1925, -0.2072,  1.8928,  0.7101,\n",
              "         0.1766,  2.0938,  2.0016,  2.4365,  0.9635,  2.6463,  0.9997,  0.8985,\n",
              "         0.6967,  2.1132,  2.3525,  1.1241])"
            ]
          },
          "metadata": {},
          "execution_count": 7
        }
      ]
    },
    {
      "cell_type": "markdown",
      "id": "3eae2cb2",
      "metadata": {
        "origin_pos": 7,
        "id": "3eae2cb2"
      },
      "source": [
        "Let's see what we got. This should be a Gaussian shifted in some rather arbitrary way with mean $b$ and covariance matrix $A^TA$.\n"
      ]
    },
    {
      "cell_type": "code",
      "execution_count": 8,
      "id": "d8224fa2",
      "metadata": {
        "execution": {
          "iopub.execute_input": "2023-08-18T19:37:54.598846Z",
          "iopub.status.busy": "2023-08-18T19:37:54.596687Z",
          "iopub.status.idle": "2023-08-18T19:37:54.819864Z",
          "shell.execute_reply": "2023-08-18T19:37:54.818679Z"
        },
        "origin_pos": 8,
        "tab": [
          "pytorch"
        ],
        "id": "d8224fa2",
        "outputId": "f9befe64-ec97-4ba2-cfda-25d53dd8d0a9",
        "colab": {
          "base_uri": "https://localhost:8080/",
          "height": 300
        }
      },
      "outputs": [
        {
          "output_type": "stream",
          "name": "stdout",
          "text": [
            "The covariance matrix is\n",
            "tensor([[1.0100, 1.9500],\n",
            "        [1.9500, 4.2500]])\n"
          ]
        },
        {
          "output_type": "display_data",
          "data": {
            "text/plain": [
              "<Figure size 350x250 with 1 Axes>"
            ],
            "image/svg+xml": "<?xml version=\"1.0\" encoding=\"utf-8\" standalone=\"no\"?>\n<!DOCTYPE svg PUBLIC \"-//W3C//DTD SVG 1.1//EN\"\n  \"http://www.w3.org/Graphics/SVG/1.1/DTD/svg11.dtd\">\n<svg xmlns:xlink=\"http://www.w3.org/1999/xlink\" width=\"231.442187pt\" height=\"169.678125pt\" viewBox=\"0 0 231.442187 169.678125\" xmlns=\"http://www.w3.org/2000/svg\" version=\"1.1\">\n <metadata>\n  <rdf:RDF xmlns:dc=\"http://purl.org/dc/elements/1.1/\" xmlns:cc=\"http://creativecommons.org/ns#\" xmlns:rdf=\"http://www.w3.org/1999/02/22-rdf-syntax-ns#\">\n   <cc:Work>\n    <dc:type rdf:resource=\"http://purl.org/dc/dcmitype/StillImage\"/>\n    <dc:date>2023-10-16T17:18:29.013848</dc:date>\n    <dc:format>image/svg+xml</dc:format>\n    <dc:creator>\n     <cc:Agent>\n      <dc:title>Matplotlib v3.7.2, https://matplotlib.org/</dc:title>\n     </cc:Agent>\n    </dc:creator>\n   </cc:Work>\n  </rdf:RDF>\n </metadata>\n <defs>\n  <style type=\"text/css\">*{stroke-linejoin: round; stroke-linecap: butt}</style>\n </defs>\n <g id=\"figure_1\">\n  <g id=\"patch_1\">\n   <path d=\"M 0 169.678125 \nL 231.442187 169.678125 \nL 231.442187 0 \nL 0 0 \nz\n\" style=\"fill: #ffffff\"/>\n  </g>\n  <g id=\"axes_1\">\n   <g id=\"patch_2\">\n    <path d=\"M 28.942188 145.8 \nL 224.242188 145.8 \nL 224.242188 7.2 \nL 28.942188 7.2 \nz\n\" style=\"fill: #ffffff\"/>\n   </g>\n   <g id=\"PathCollection_1\">\n    <defs>\n     <path id=\"mbf90487b95\" d=\"M 0 3 \nC 0.795609 3 1.55874 2.683901 2.12132 2.12132 \nC 2.683901 1.55874 3 0.795609 3 0 \nC 3 -0.795609 2.683901 -1.55874 2.12132 -2.12132 \nC 1.55874 -2.683901 0.795609 -3 0 -3 \nC -0.795609 -3 -1.55874 -2.683901 -2.12132 -2.12132 \nC -2.683901 -1.55874 -3 -0.795609 -3 0 \nC -3 0.795609 -2.683901 1.55874 -2.12132 2.12132 \nC -1.55874 2.683901 -0.795609 3 0 3 \nz\n\" style=\"stroke: #1f77b4\"/>\n    </defs>\n    <g clip-path=\"url(#pc42afee146)\">\n     <use xlink:href=\"#mbf90487b95\" x=\"129.089744\" y=\"62.630853\" style=\"fill: #1f77b4; stroke: #1f77b4\"/>\n     <use xlink:href=\"#mbf90487b95\" x=\"131.693263\" y=\"87.56145\" style=\"fill: #1f77b4; stroke: #1f77b4\"/>\n     <use xlink:href=\"#mbf90487b95\" x=\"172.891548\" y=\"35.145087\" style=\"fill: #1f77b4; stroke: #1f77b4\"/>\n     <use xlink:href=\"#mbf90487b95\" x=\"80.519569\" y=\"100.941743\" style=\"fill: #1f77b4; stroke: #1f77b4\"/>\n     <use xlink:href=\"#mbf90487b95\" x=\"143.025262\" y=\"64.837853\" style=\"fill: #1f77b4; stroke: #1f77b4\"/>\n     <use xlink:href=\"#mbf90487b95\" x=\"112.135631\" y=\"76.961662\" style=\"fill: #1f77b4; stroke: #1f77b4\"/>\n     <use xlink:href=\"#mbf90487b95\" x=\"171.501298\" y=\"25.031585\" style=\"fill: #1f77b4; stroke: #1f77b4\"/>\n     <use xlink:href=\"#mbf90487b95\" x=\"143.004515\" y=\"56.273565\" style=\"fill: #1f77b4; stroke: #1f77b4\"/>\n     <use xlink:href=\"#mbf90487b95\" x=\"125.007248\" y=\"63.152872\" style=\"fill: #1f77b4; stroke: #1f77b4\"/>\n     <use xlink:href=\"#mbf90487b95\" x=\"150.559969\" y=\"62.595825\" style=\"fill: #1f77b4; stroke: #1f77b4\"/>\n     <use xlink:href=\"#mbf90487b95\" x=\"158.085392\" y=\"62.156466\" style=\"fill: #1f77b4; stroke: #1f77b4\"/>\n     <use xlink:href=\"#mbf90487b95\" x=\"110.509138\" y=\"64.396479\" style=\"fill: #1f77b4; stroke: #1f77b4\"/>\n     <use xlink:href=\"#mbf90487b95\" x=\"130.297587\" y=\"78.343672\" style=\"fill: #1f77b4; stroke: #1f77b4\"/>\n     <use xlink:href=\"#mbf90487b95\" x=\"158.194998\" y=\"47.957604\" style=\"fill: #1f77b4; stroke: #1f77b4\"/>\n     <use xlink:href=\"#mbf90487b95\" x=\"101.187803\" y=\"96.484035\" style=\"fill: #1f77b4; stroke: #1f77b4\"/>\n     <use xlink:href=\"#mbf90487b95\" x=\"110.759937\" y=\"84.653763\" style=\"fill: #1f77b4; stroke: #1f77b4\"/>\n     <use xlink:href=\"#mbf90487b95\" x=\"111.906653\" y=\"87.279919\" style=\"fill: #1f77b4; stroke: #1f77b4\"/>\n     <use xlink:href=\"#mbf90487b95\" x=\"200.710959\" y=\"24.466611\" style=\"fill: #1f77b4; stroke: #1f77b4\"/>\n     <use xlink:href=\"#mbf90487b95\" x=\"156.281379\" y=\"46.697294\" style=\"fill: #1f77b4; stroke: #1f77b4\"/>\n     <use xlink:href=\"#mbf90487b95\" x=\"123.123557\" y=\"79.680787\" style=\"fill: #1f77b4; stroke: #1f77b4\"/>\n     <use xlink:href=\"#mbf90487b95\" x=\"192.855871\" y=\"33.448908\" style=\"fill: #1f77b4; stroke: #1f77b4\"/>\n     <use xlink:href=\"#mbf90487b95\" x=\"152.603945\" y=\"55.591849\" style=\"fill: #1f77b4; stroke: #1f77b4\"/>\n     <use xlink:href=\"#mbf90487b95\" x=\"150.720125\" y=\"49.635752\" style=\"fill: #1f77b4; stroke: #1f77b4\"/>\n     <use xlink:href=\"#mbf90487b95\" x=\"135.132376\" y=\"73.421938\" style=\"fill: #1f77b4; stroke: #1f77b4\"/>\n     <use xlink:href=\"#mbf90487b95\" x=\"99.69627\" y=\"101.911376\" style=\"fill: #1f77b4; stroke: #1f77b4\"/>\n     <use xlink:href=\"#mbf90487b95\" x=\"119.255983\" y=\"61.50691\" style=\"fill: #1f77b4; stroke: #1f77b4\"/>\n     <use xlink:href=\"#mbf90487b95\" x=\"128.675513\" y=\"64.818452\" style=\"fill: #1f77b4; stroke: #1f77b4\"/>\n     <use xlink:href=\"#mbf90487b95\" x=\"174.072969\" y=\"44.389862\" style=\"fill: #1f77b4; stroke: #1f77b4\"/>\n     <use xlink:href=\"#mbf90487b95\" x=\"130.591053\" y=\"57.858242\" style=\"fill: #1f77b4; stroke: #1f77b4\"/>\n     <use xlink:href=\"#mbf90487b95\" x=\"190.212587\" y=\"20.6307\" style=\"fill: #1f77b4; stroke: #1f77b4\"/>\n     <use xlink:href=\"#mbf90487b95\" x=\"39.690891\" y=\"139.5\" style=\"fill: #1f77b4; stroke: #1f77b4\"/>\n     <use xlink:href=\"#mbf90487b95\" x=\"81.34179\" y=\"106.420128\" style=\"fill: #1f77b4; stroke: #1f77b4\"/>\n     <use xlink:href=\"#mbf90487b95\" x=\"162.355684\" y=\"55.263266\" style=\"fill: #1f77b4; stroke: #1f77b4\"/>\n     <use xlink:href=\"#mbf90487b95\" x=\"168.837688\" y=\"43.686456\" style=\"fill: #1f77b4; stroke: #1f77b4\"/>\n     <use xlink:href=\"#mbf90487b95\" x=\"128.946313\" y=\"74.367518\" style=\"fill: #1f77b4; stroke: #1f77b4\"/>\n     <use xlink:href=\"#mbf90487b95\" x=\"149.756167\" y=\"65.131744\" style=\"fill: #1f77b4; stroke: #1f77b4\"/>\n     <use xlink:href=\"#mbf90487b95\" x=\"184.397135\" y=\"26.604756\" style=\"fill: #1f77b4; stroke: #1f77b4\"/>\n     <use xlink:href=\"#mbf90487b95\" x=\"108.603751\" y=\"84.576416\" style=\"fill: #1f77b4; stroke: #1f77b4\"/>\n     <use xlink:href=\"#mbf90487b95\" x=\"69.77191\" y=\"111.958695\" style=\"fill: #1f77b4; stroke: #1f77b4\"/>\n     <use xlink:href=\"#mbf90487b95\" x=\"144.592392\" y=\"56.855151\" style=\"fill: #1f77b4; stroke: #1f77b4\"/>\n     <use xlink:href=\"#mbf90487b95\" x=\"154.664017\" y=\"54.207248\" style=\"fill: #1f77b4; stroke: #1f77b4\"/>\n     <use xlink:href=\"#mbf90487b95\" x=\"128.027438\" y=\"59.630704\" style=\"fill: #1f77b4; stroke: #1f77b4\"/>\n     <use xlink:href=\"#mbf90487b95\" x=\"96.729253\" y=\"90.168416\" style=\"fill: #1f77b4; stroke: #1f77b4\"/>\n     <use xlink:href=\"#mbf90487b95\" x=\"117.991707\" y=\"79.121764\" style=\"fill: #1f77b4; stroke: #1f77b4\"/>\n     <use xlink:href=\"#mbf90487b95\" x=\"120.630962\" y=\"83.242167\" style=\"fill: #1f77b4; stroke: #1f77b4\"/>\n     <use xlink:href=\"#mbf90487b95\" x=\"98.981568\" y=\"92.692904\" style=\"fill: #1f77b4; stroke: #1f77b4\"/>\n     <use xlink:href=\"#mbf90487b95\" x=\"149.037866\" y=\"65.911899\" style=\"fill: #1f77b4; stroke: #1f77b4\"/>\n     <use xlink:href=\"#mbf90487b95\" x=\"138.987741\" y=\"55.817778\" style=\"fill: #1f77b4; stroke: #1f77b4\"/>\n     <use xlink:href=\"#mbf90487b95\" x=\"129.353544\" y=\"69.367929\" style=\"fill: #1f77b4; stroke: #1f77b4\"/>\n     <use xlink:href=\"#mbf90487b95\" x=\"151.819806\" y=\"55.752867\" style=\"fill: #1f77b4; stroke: #1f77b4\"/>\n     <use xlink:href=\"#mbf90487b95\" x=\"80.722527\" y=\"112.584184\" style=\"fill: #1f77b4; stroke: #1f77b4\"/>\n     <use xlink:href=\"#mbf90487b95\" x=\"193.290123\" y=\"39.663863\" style=\"fill: #1f77b4; stroke: #1f77b4\"/>\n     <use xlink:href=\"#mbf90487b95\" x=\"144.145948\" y=\"67.253855\" style=\"fill: #1f77b4; stroke: #1f77b4\"/>\n     <use xlink:href=\"#mbf90487b95\" x=\"164.660921\" y=\"41.110718\" style=\"fill: #1f77b4; stroke: #1f77b4\"/>\n     <use xlink:href=\"#mbf90487b95\" x=\"91.879204\" y=\"88.576424\" style=\"fill: #1f77b4; stroke: #1f77b4\"/>\n     <use xlink:href=\"#mbf90487b95\" x=\"121.981569\" y=\"80.976985\" style=\"fill: #1f77b4; stroke: #1f77b4\"/>\n     <use xlink:href=\"#mbf90487b95\" x=\"138.290687\" y=\"75.757504\" style=\"fill: #1f77b4; stroke: #1f77b4\"/>\n     <use xlink:href=\"#mbf90487b95\" x=\"103.349247\" y=\"82.004471\" style=\"fill: #1f77b4; stroke: #1f77b4\"/>\n     <use xlink:href=\"#mbf90487b95\" x=\"59.778359\" y=\"124.516911\" style=\"fill: #1f77b4; stroke: #1f77b4\"/>\n     <use xlink:href=\"#mbf90487b95\" x=\"37.81946\" y=\"139.142925\" style=\"fill: #1f77b4; stroke: #1f77b4\"/>\n     <use xlink:href=\"#mbf90487b95\" x=\"116.889265\" y=\"64.893481\" style=\"fill: #1f77b4; stroke: #1f77b4\"/>\n     <use xlink:href=\"#mbf90487b95\" x=\"168.246584\" y=\"46.488332\" style=\"fill: #1f77b4; stroke: #1f77b4\"/>\n     <use xlink:href=\"#mbf90487b95\" x=\"129.981243\" y=\"95.061694\" style=\"fill: #1f77b4; stroke: #1f77b4\"/>\n     <use xlink:href=\"#mbf90487b95\" x=\"116.011558\" y=\"89.445937\" style=\"fill: #1f77b4; stroke: #1f77b4\"/>\n     <use xlink:href=\"#mbf90487b95\" x=\"122.298473\" y=\"76.158897\" style=\"fill: #1f77b4; stroke: #1f77b4\"/>\n     <use xlink:href=\"#mbf90487b95\" x=\"109.322147\" y=\"89.034236\" style=\"fill: #1f77b4; stroke: #1f77b4\"/>\n     <use xlink:href=\"#mbf90487b95\" x=\"212.843052\" y=\"16.315855\" style=\"fill: #1f77b4; stroke: #1f77b4\"/>\n     <use xlink:href=\"#mbf90487b95\" x=\"178.866278\" y=\"45.390076\" style=\"fill: #1f77b4; stroke: #1f77b4\"/>\n     <use xlink:href=\"#mbf90487b95\" x=\"215.364915\" y=\"18.326508\" style=\"fill: #1f77b4; stroke: #1f77b4\"/>\n     <use xlink:href=\"#mbf90487b95\" x=\"215.346347\" y=\"13.5\" style=\"fill: #1f77b4; stroke: #1f77b4\"/>\n     <use xlink:href=\"#mbf90487b95\" x=\"115.747134\" y=\"82.875201\" style=\"fill: #1f77b4; stroke: #1f77b4\"/>\n     <use xlink:href=\"#mbf90487b95\" x=\"69.572548\" y=\"117.594575\" style=\"fill: #1f77b4; stroke: #1f77b4\"/>\n     <use xlink:href=\"#mbf90487b95\" x=\"165.957026\" y=\"50.627251\" style=\"fill: #1f77b4; stroke: #1f77b4\"/>\n     <use xlink:href=\"#mbf90487b95\" x=\"213.967349\" y=\"20.857295\" style=\"fill: #1f77b4; stroke: #1f77b4\"/>\n     <use xlink:href=\"#mbf90487b95\" x=\"92.606076\" y=\"87.143419\" style=\"fill: #1f77b4; stroke: #1f77b4\"/>\n     <use xlink:href=\"#mbf90487b95\" x=\"155.415579\" y=\"49.095467\" style=\"fill: #1f77b4; stroke: #1f77b4\"/>\n     <use xlink:href=\"#mbf90487b95\" x=\"91.436002\" y=\"99.344206\" style=\"fill: #1f77b4; stroke: #1f77b4\"/>\n     <use xlink:href=\"#mbf90487b95\" x=\"77.867071\" y=\"94.752591\" style=\"fill: #1f77b4; stroke: #1f77b4\"/>\n     <use xlink:href=\"#mbf90487b95\" x=\"122.865407\" y=\"73.698716\" style=\"fill: #1f77b4; stroke: #1f77b4\"/>\n     <use xlink:href=\"#mbf90487b95\" x=\"140.605168\" y=\"73.047433\" style=\"fill: #1f77b4; stroke: #1f77b4\"/>\n     <use xlink:href=\"#mbf90487b95\" x=\"137.41908\" y=\"66.978909\" style=\"fill: #1f77b4; stroke: #1f77b4\"/>\n     <use xlink:href=\"#mbf90487b95\" x=\"107.05184\" y=\"84.894696\" style=\"fill: #1f77b4; stroke: #1f77b4\"/>\n     <use xlink:href=\"#mbf90487b95\" x=\"143.808188\" y=\"47.65242\" style=\"fill: #1f77b4; stroke: #1f77b4\"/>\n     <use xlink:href=\"#mbf90487b95\" x=\"138.331066\" y=\"52.786406\" style=\"fill: #1f77b4; stroke: #1f77b4\"/>\n     <use xlink:href=\"#mbf90487b95\" x=\"140.845573\" y=\"53.145691\" style=\"fill: #1f77b4; stroke: #1f77b4\"/>\n     <use xlink:href=\"#mbf90487b95\" x=\"82.679968\" y=\"92.259725\" style=\"fill: #1f77b4; stroke: #1f77b4\"/>\n     <use xlink:href=\"#mbf90487b95\" x=\"169.949462\" y=\"28.492826\" style=\"fill: #1f77b4; stroke: #1f77b4\"/>\n     <use xlink:href=\"#mbf90487b95\" x=\"120.798385\" y=\"72.389807\" style=\"fill: #1f77b4; stroke: #1f77b4\"/>\n     <use xlink:href=\"#mbf90487b95\" x=\"98.625877\" y=\"91.496405\" style=\"fill: #1f77b4; stroke: #1f77b4\"/>\n     <use xlink:href=\"#mbf90487b95\" x=\"178.300241\" y=\"39.889669\" style=\"fill: #1f77b4; stroke: #1f77b4\"/>\n     <use xlink:href=\"#mbf90487b95\" x=\"174.469616\" y=\"39.445119\" style=\"fill: #1f77b4; stroke: #1f77b4\"/>\n     <use xlink:href=\"#mbf90487b95\" x=\"192.543356\" y=\"33.446715\" style=\"fill: #1f77b4; stroke: #1f77b4\"/>\n     <use xlink:href=\"#mbf90487b95\" x=\"131.32982\" y=\"51.96797\" style=\"fill: #1f77b4; stroke: #1f77b4\"/>\n     <use xlink:href=\"#mbf90487b95\" x=\"201.260054\" y=\"17.17145\" style=\"fill: #1f77b4; stroke: #1f77b4\"/>\n     <use xlink:href=\"#mbf90487b95\" x=\"132.833757\" y=\"56.18895\" style=\"fill: #1f77b4; stroke: #1f77b4\"/>\n     <use xlink:href=\"#mbf90487b95\" x=\"128.629166\" y=\"83.892477\" style=\"fill: #1f77b4; stroke: #1f77b4\"/>\n     <use xlink:href=\"#mbf90487b95\" x=\"120.243172\" y=\"100.524788\" style=\"fill: #1f77b4; stroke: #1f77b4\"/>\n     <use xlink:href=\"#mbf90487b95\" x=\"179.106059\" y=\"43.864759\" style=\"fill: #1f77b4; stroke: #1f77b4\"/>\n     <use xlink:href=\"#mbf90487b95\" x=\"189.049976\" y=\"44.421908\" style=\"fill: #1f77b4; stroke: #1f77b4\"/>\n     <use xlink:href=\"#mbf90487b95\" x=\"138.00256\" y=\"75.528364\" style=\"fill: #1f77b4; stroke: #1f77b4\"/>\n    </g>\n   </g>\n   <g id=\"matplotlib.axis_1\">\n    <g id=\"xtick_1\">\n     <g id=\"line2d_1\">\n      <defs>\n       <path id=\"m30f285ec76\" d=\"M 0 0 \nL 0 3.5 \n\" style=\"stroke: #000000; stroke-width: 0.8\"/>\n      </defs>\n      <g>\n       <use xlink:href=\"#m30f285ec76\" x=\"49.732331\" y=\"145.8\" style=\"stroke: #000000; stroke-width: 0.8\"/>\n      </g>\n     </g>\n     <g id=\"text_1\">\n      <!-- −1 -->\n      <g transform=\"translate(42.361237 160.398438) scale(0.1 -0.1)\">\n       <defs>\n        <path id=\"DejaVuSans-2212\" d=\"M 678 2272 \nL 4684 2272 \nL 4684 1741 \nL 678 1741 \nL 678 2272 \nz\n\" transform=\"scale(0.015625)\"/>\n        <path id=\"DejaVuSans-31\" d=\"M 794 531 \nL 1825 531 \nL 1825 4091 \nL 703 3866 \nL 703 4441 \nL 1819 4666 \nL 2450 4666 \nL 2450 531 \nL 3481 531 \nL 3481 0 \nL 794 0 \nL 794 531 \nz\n\" transform=\"scale(0.015625)\"/>\n       </defs>\n       <use xlink:href=\"#DejaVuSans-2212\"/>\n       <use xlink:href=\"#DejaVuSans-31\" x=\"83.789062\"/>\n      </g>\n     </g>\n    </g>\n    <g id=\"xtick_2\">\n     <g id=\"line2d_2\">\n      <g>\n       <use xlink:href=\"#m30f285ec76\" x=\"91.289001\" y=\"145.8\" style=\"stroke: #000000; stroke-width: 0.8\"/>\n      </g>\n     </g>\n     <g id=\"text_2\">\n      <!-- 0 -->\n      <g transform=\"translate(88.107751 160.398438) scale(0.1 -0.1)\">\n       <defs>\n        <path id=\"DejaVuSans-30\" d=\"M 2034 4250 \nQ 1547 4250 1301 3770 \nQ 1056 3291 1056 2328 \nQ 1056 1369 1301 889 \nQ 1547 409 2034 409 \nQ 2525 409 2770 889 \nQ 3016 1369 3016 2328 \nQ 3016 3291 2770 3770 \nQ 2525 4250 2034 4250 \nz\nM 2034 4750 \nQ 2819 4750 3233 4129 \nQ 3647 3509 3647 2328 \nQ 3647 1150 3233 529 \nQ 2819 -91 2034 -91 \nQ 1250 -91 836 529 \nQ 422 1150 422 2328 \nQ 422 3509 836 4129 \nQ 1250 4750 2034 4750 \nz\n\" transform=\"scale(0.015625)\"/>\n       </defs>\n       <use xlink:href=\"#DejaVuSans-30\"/>\n      </g>\n     </g>\n    </g>\n    <g id=\"xtick_3\">\n     <g id=\"line2d_3\">\n      <g>\n       <use xlink:href=\"#m30f285ec76\" x=\"132.845671\" y=\"145.8\" style=\"stroke: #000000; stroke-width: 0.8\"/>\n      </g>\n     </g>\n     <g id=\"text_3\">\n      <!-- 1 -->\n      <g transform=\"translate(129.664421 160.398438) scale(0.1 -0.1)\">\n       <use xlink:href=\"#DejaVuSans-31\"/>\n      </g>\n     </g>\n    </g>\n    <g id=\"xtick_4\">\n     <g id=\"line2d_4\">\n      <g>\n       <use xlink:href=\"#m30f285ec76\" x=\"174.402341\" y=\"145.8\" style=\"stroke: #000000; stroke-width: 0.8\"/>\n      </g>\n     </g>\n     <g id=\"text_4\">\n      <!-- 2 -->\n      <g transform=\"translate(171.221091 160.398438) scale(0.1 -0.1)\">\n       <defs>\n        <path id=\"DejaVuSans-32\" d=\"M 1228 531 \nL 3431 531 \nL 3431 0 \nL 469 0 \nL 469 531 \nQ 828 903 1448 1529 \nQ 2069 2156 2228 2338 \nQ 2531 2678 2651 2914 \nQ 2772 3150 2772 3378 \nQ 2772 3750 2511 3984 \nQ 2250 4219 1831 4219 \nQ 1534 4219 1204 4116 \nQ 875 4013 500 3803 \nL 500 4441 \nQ 881 4594 1212 4672 \nQ 1544 4750 1819 4750 \nQ 2544 4750 2975 4387 \nQ 3406 4025 3406 3419 \nQ 3406 3131 3298 2873 \nQ 3191 2616 2906 2266 \nQ 2828 2175 2409 1742 \nQ 1991 1309 1228 531 \nz\n\" transform=\"scale(0.015625)\"/>\n       </defs>\n       <use xlink:href=\"#DejaVuSans-32\"/>\n      </g>\n     </g>\n    </g>\n    <g id=\"xtick_5\">\n     <g id=\"line2d_5\">\n      <g>\n       <use xlink:href=\"#m30f285ec76\" x=\"215.959011\" y=\"145.8\" style=\"stroke: #000000; stroke-width: 0.8\"/>\n      </g>\n     </g>\n     <g id=\"text_5\">\n      <!-- 3 -->\n      <g transform=\"translate(212.777761 160.398438) scale(0.1 -0.1)\">\n       <defs>\n        <path id=\"DejaVuSans-33\" d=\"M 2597 2516 \nQ 3050 2419 3304 2112 \nQ 3559 1806 3559 1356 \nQ 3559 666 3084 287 \nQ 2609 -91 1734 -91 \nQ 1441 -91 1130 -33 \nQ 819 25 488 141 \nL 488 750 \nQ 750 597 1062 519 \nQ 1375 441 1716 441 \nQ 2309 441 2620 675 \nQ 2931 909 2931 1356 \nQ 2931 1769 2642 2001 \nQ 2353 2234 1838 2234 \nL 1294 2234 \nL 1294 2753 \nL 1863 2753 \nQ 2328 2753 2575 2939 \nQ 2822 3125 2822 3475 \nQ 2822 3834 2567 4026 \nQ 2313 4219 1838 4219 \nQ 1578 4219 1281 4162 \nQ 984 4106 628 3988 \nL 628 4550 \nQ 988 4650 1302 4700 \nQ 1616 4750 1894 4750 \nQ 2613 4750 3031 4423 \nQ 3450 4097 3450 3541 \nQ 3450 3153 3228 2886 \nQ 3006 2619 2597 2516 \nz\n\" transform=\"scale(0.015625)\"/>\n       </defs>\n       <use xlink:href=\"#DejaVuSans-33\"/>\n      </g>\n     </g>\n    </g>\n   </g>\n   <g id=\"matplotlib.axis_2\">\n    <g id=\"ytick_1\">\n     <g id=\"line2d_6\">\n      <defs>\n       <path id=\"m3dfd60789e\" d=\"M 0 0 \nL -3.5 0 \n\" style=\"stroke: #000000; stroke-width: 0.8\"/>\n      </defs>\n      <g>\n       <use xlink:href=\"#m3dfd60789e\" x=\"28.942188\" y=\"124.460996\" style=\"stroke: #000000; stroke-width: 0.8\"/>\n      </g>\n     </g>\n     <g id=\"text_6\">\n      <!-- −2 -->\n      <g transform=\"translate(7.2 128.260215) scale(0.1 -0.1)\">\n       <use xlink:href=\"#DejaVuSans-2212\"/>\n       <use xlink:href=\"#DejaVuSans-32\" x=\"83.789062\"/>\n      </g>\n     </g>\n    </g>\n    <g id=\"ytick_2\">\n     <g id=\"line2d_7\">\n      <g>\n       <use xlink:href=\"#m3dfd60789e\" x=\"28.942188\" y=\"97.089064\" style=\"stroke: #000000; stroke-width: 0.8\"/>\n      </g>\n     </g>\n     <g id=\"text_7\">\n      <!-- 0 -->\n      <g transform=\"translate(15.579688 100.888282) scale(0.1 -0.1)\">\n       <use xlink:href=\"#DejaVuSans-30\"/>\n      </g>\n     </g>\n    </g>\n    <g id=\"ytick_3\">\n     <g id=\"line2d_8\">\n      <g>\n       <use xlink:href=\"#m3dfd60789e\" x=\"28.942188\" y=\"69.717131\" style=\"stroke: #000000; stroke-width: 0.8\"/>\n      </g>\n     </g>\n     <g id=\"text_8\">\n      <!-- 2 -->\n      <g transform=\"translate(15.579688 73.51635) scale(0.1 -0.1)\">\n       <use xlink:href=\"#DejaVuSans-32\"/>\n      </g>\n     </g>\n    </g>\n    <g id=\"ytick_4\">\n     <g id=\"line2d_9\">\n      <g>\n       <use xlink:href=\"#m3dfd60789e\" x=\"28.942188\" y=\"42.345198\" style=\"stroke: #000000; stroke-width: 0.8\"/>\n      </g>\n     </g>\n     <g id=\"text_9\">\n      <!-- 4 -->\n      <g transform=\"translate(15.579688 46.144417) scale(0.1 -0.1)\">\n       <defs>\n        <path id=\"DejaVuSans-34\" d=\"M 2419 4116 \nL 825 1625 \nL 2419 1625 \nL 2419 4116 \nz\nM 2253 4666 \nL 3047 4666 \nL 3047 1625 \nL 3713 1625 \nL 3713 1100 \nL 3047 1100 \nL 3047 0 \nL 2419 0 \nL 2419 1100 \nL 313 1100 \nL 313 1709 \nL 2253 4666 \nz\n\" transform=\"scale(0.015625)\"/>\n       </defs>\n       <use xlink:href=\"#DejaVuSans-34\"/>\n      </g>\n     </g>\n    </g>\n    <g id=\"ytick_5\">\n     <g id=\"line2d_10\">\n      <g>\n       <use xlink:href=\"#m3dfd60789e\" x=\"28.942188\" y=\"14.973265\" style=\"stroke: #000000; stroke-width: 0.8\"/>\n      </g>\n     </g>\n     <g id=\"text_10\">\n      <!-- 6 -->\n      <g transform=\"translate(15.579688 18.772484) scale(0.1 -0.1)\">\n       <defs>\n        <path id=\"DejaVuSans-36\" d=\"M 2113 2584 \nQ 1688 2584 1439 2293 \nQ 1191 2003 1191 1497 \nQ 1191 994 1439 701 \nQ 1688 409 2113 409 \nQ 2538 409 2786 701 \nQ 3034 994 3034 1497 \nQ 3034 2003 2786 2293 \nQ 2538 2584 2113 2584 \nz\nM 3366 4563 \nL 3366 3988 \nQ 3128 4100 2886 4159 \nQ 2644 4219 2406 4219 \nQ 1781 4219 1451 3797 \nQ 1122 3375 1075 2522 \nQ 1259 2794 1537 2939 \nQ 1816 3084 2150 3084 \nQ 2853 3084 3261 2657 \nQ 3669 2231 3669 1497 \nQ 3669 778 3244 343 \nQ 2819 -91 2113 -91 \nQ 1303 -91 875 529 \nQ 447 1150 447 2328 \nQ 447 3434 972 4092 \nQ 1497 4750 2381 4750 \nQ 2619 4750 2861 4703 \nQ 3103 4656 3366 4563 \nz\n\" transform=\"scale(0.015625)\"/>\n       </defs>\n       <use xlink:href=\"#DejaVuSans-36\"/>\n      </g>\n     </g>\n    </g>\n   </g>\n   <g id=\"patch_3\">\n    <path d=\"M 28.942188 145.8 \nL 28.942188 7.2 \n\" style=\"fill: none; stroke: #000000; stroke-width: 0.8; stroke-linejoin: miter; stroke-linecap: square\"/>\n   </g>\n   <g id=\"patch_4\">\n    <path d=\"M 224.242188 145.8 \nL 224.242188 7.2 \n\" style=\"fill: none; stroke: #000000; stroke-width: 0.8; stroke-linejoin: miter; stroke-linecap: square\"/>\n   </g>\n   <g id=\"patch_5\">\n    <path d=\"M 28.942188 145.8 \nL 224.242188 145.8 \n\" style=\"fill: none; stroke: #000000; stroke-width: 0.8; stroke-linejoin: miter; stroke-linecap: square\"/>\n   </g>\n   <g id=\"patch_6\">\n    <path d=\"M 28.942188 7.2 \nL 224.242188 7.2 \n\" style=\"fill: none; stroke: #000000; stroke-width: 0.8; stroke-linejoin: miter; stroke-linecap: square\"/>\n   </g>\n  </g>\n </g>\n <defs>\n  <clipPath id=\"pc42afee146\">\n   <rect x=\"28.942188\" y=\"7.2\" width=\"195.3\" height=\"138.6\"/>\n  </clipPath>\n </defs>\n</svg>\n"
          },
          "metadata": {}
        }
      ],
      "source": [
        "dtorch.set_figsize()\n",
        "dtorch.plt.scatter(data[:100, (0)].detach().numpy(), data[:100, (1)].detach().numpy());\n",
        "print(f'The covariance matrix is\\n{torch.matmul(A.T, A)}')"
      ]
    },
    {
      "cell_type": "code",
      "execution_count": 9,
      "id": "58699d06",
      "metadata": {
        "execution": {
          "iopub.execute_input": "2023-08-18T19:37:54.824909Z",
          "iopub.status.busy": "2023-08-18T19:37:54.824547Z",
          "iopub.status.idle": "2023-08-18T19:37:54.830317Z",
          "shell.execute_reply": "2023-08-18T19:37:54.829167Z"
        },
        "origin_pos": 10,
        "tab": [
          "pytorch"
        ],
        "id": "58699d06",
        "colab": {
          "base_uri": "https://localhost:8080/"
        },
        "outputId": "debdd27e-bddb-45ab-8899-c1d7937fd9aa"
      },
      "outputs": [
        {
          "output_type": "stream",
          "name": "stdout",
          "text": [
            "<torch.utils.data.dataloader.DataLoader object at 0x78cda99cc100>\n"
          ]
        }
      ],
      "source": [
        "batch_size = 8\n",
        "data_iter = dtorch.load_array((data,), batch_size)\n",
        "print(data_iter)"
      ]
    },
    {
      "cell_type": "markdown",
      "id": "19ffd737",
      "metadata": {
        "origin_pos": 11,
        "id": "19ffd737"
      },
      "source": [
        "<br>\n",
        "<br>\n",
        "\n",
        "## Generator\n",
        "\n",
        "Our generator network will be the simplest network possible - a single layer linear model. This is since we will be driving that linear network with a Gaussian data generator. Hence, it literally only needs to learn the parameters to fake things perfectly.\n"
      ]
    },
    {
      "cell_type": "code",
      "execution_count": 10,
      "id": "ccc0fd58",
      "metadata": {
        "execution": {
          "iopub.execute_input": "2023-08-18T19:37:54.834958Z",
          "iopub.status.busy": "2023-08-18T19:37:54.834346Z",
          "iopub.status.idle": "2023-08-18T19:37:54.841305Z",
          "shell.execute_reply": "2023-08-18T19:37:54.840296Z"
        },
        "origin_pos": 13,
        "tab": [
          "pytorch"
        ],
        "id": "ccc0fd58",
        "colab": {
          "base_uri": "https://localhost:8080/"
        },
        "outputId": "0fbcec29-95c5-4ab8-ac1a-ea3f07e71dc4"
      },
      "outputs": [
        {
          "output_type": "stream",
          "name": "stdout",
          "text": [
            "Sequential(\n",
            "  (0): Linear(in_features=2, out_features=2, bias=True)\n",
            ")\n"
          ]
        }
      ],
      "source": [
        "net_G = nn.Sequential(nn.Linear(2, 2))\n",
        "print(net_G)"
      ]
    },
    {
      "cell_type": "markdown",
      "id": "3b0389a4",
      "metadata": {
        "origin_pos": 15,
        "id": "3b0389a4"
      },
      "source": [
        "<br>\n",
        "<br>\n",
        "\n",
        "## Discriminator\n",
        "\n",
        "For the discriminator we will be a bit more discriminating: we will use an MLP with 3 layers to make things a bit more interesting.\n"
      ]
    },
    {
      "cell_type": "code",
      "execution_count": 11,
      "id": "1ee21c33",
      "metadata": {
        "execution": {
          "iopub.execute_input": "2023-08-18T19:37:54.847079Z",
          "iopub.status.busy": "2023-08-18T19:37:54.846478Z",
          "iopub.status.idle": "2023-08-18T19:37:54.851943Z",
          "shell.execute_reply": "2023-08-18T19:37:54.850943Z"
        },
        "origin_pos": 17,
        "tab": [
          "pytorch"
        ],
        "id": "1ee21c33",
        "colab": {
          "base_uri": "https://localhost:8080/"
        },
        "outputId": "4f76a4fa-1072-4920-efb4-8085f80d7b08"
      },
      "outputs": [
        {
          "output_type": "stream",
          "name": "stdout",
          "text": [
            "Sequential(\n",
            "  (0): Linear(in_features=2, out_features=5, bias=True)\n",
            "  (1): Tanh()\n",
            "  (2): Linear(in_features=5, out_features=3, bias=True)\n",
            "  (3): Tanh()\n",
            "  (4): Linear(in_features=3, out_features=1, bias=True)\n",
            ")\n"
          ]
        }
      ],
      "source": [
        "net_D = nn.Sequential(\n",
        "    nn.Linear(2, 5), nn.Tanh(),\n",
        "    nn.Linear(5, 3), nn.Tanh(),\n",
        "    nn.Linear(3, 1))\n",
        "print(net_D)"
      ]
    },
    {
      "cell_type": "markdown",
      "id": "5e4dfd02",
      "metadata": {
        "origin_pos": 19,
        "id": "5e4dfd02"
      },
      "source": [
        "<br>\n",
        "<br>\n",
        "\n",
        "## Training\n",
        "\n",
        "First we define a function to update the discriminator.\n"
      ]
    },
    {
      "cell_type": "code",
      "execution_count": 12,
      "id": "b3b8cf85",
      "metadata": {
        "execution": {
          "iopub.execute_input": "2023-08-18T19:37:54.857667Z",
          "iopub.status.busy": "2023-08-18T19:37:54.857059Z",
          "iopub.status.idle": "2023-08-18T19:37:54.866336Z",
          "shell.execute_reply": "2023-08-18T19:37:54.864795Z"
        },
        "origin_pos": 21,
        "tab": [
          "pytorch"
        ],
        "id": "b3b8cf85"
      },
      "outputs": [],
      "source": [
        "def update_D(X, Z, net_D, net_G, loss, trainer_D):\n",
        "    \"\"\"Update discriminator.\"\"\"\n",
        "    batch_size = X.shape[0]\n",
        "    ones = torch.ones((batch_size,), device=X.device)\n",
        "    zeros = torch.zeros((batch_size,), device=X.device)\n",
        "    trainer_D.zero_grad()\n",
        "    real_Y = net_D(X)\n",
        "    fake_X = net_G(Z)\n",
        "    # Do not need to compute gradient for `net_G`, detach it from computing gradients.\n",
        "    fake_Y = net_D(fake_X.detach())\n",
        "    loss_D = (loss(real_Y, ones.reshape(real_Y.shape)) +\n",
        "              loss(fake_Y, zeros.reshape(fake_Y.shape))) / 2\n",
        "    loss_D.backward()\n",
        "    trainer_D.step()\n",
        "    return loss_D"
      ]
    },
    {
      "cell_type": "markdown",
      "id": "5918495e",
      "metadata": {
        "origin_pos": 23,
        "id": "5918495e"
      },
      "source": [
        "The generator is updated similarly. Here we reuse the cross-entropy loss but change the label of the fake data from $0$ to $1$.\n"
      ]
    },
    {
      "cell_type": "code",
      "execution_count": 13,
      "id": "e30b1d11",
      "metadata": {
        "execution": {
          "iopub.execute_input": "2023-08-18T19:37:54.871558Z",
          "iopub.status.busy": "2023-08-18T19:37:54.870130Z",
          "iopub.status.idle": "2023-08-18T19:37:54.877351Z",
          "shell.execute_reply": "2023-08-18T19:37:54.876243Z"
        },
        "origin_pos": 25,
        "tab": [
          "pytorch"
        ],
        "id": "e30b1d11"
      },
      "outputs": [],
      "source": [
        "def update_G(Z, net_D, net_G, loss, trainer_G):\n",
        "    \"\"\"Update generator.\"\"\"\n",
        "    batch_size = Z.shape[0]\n",
        "    ones = torch.ones((batch_size,), device=Z.device)\n",
        "    trainer_G.zero_grad()\n",
        "    # We could reuse `fake_X` from `update_D` to save computation\n",
        "    fake_X = net_G(Z)\n",
        "    # Recomputing `fake_Y` is needed since `net_D` is changed\n",
        "    fake_Y = net_D(fake_X)\n",
        "    loss_G = loss(fake_Y, ones.reshape(fake_Y.shape))\n",
        "    loss_G.backward()\n",
        "    trainer_G.step()\n",
        "    return loss_G"
      ]
    },
    {
      "cell_type": "markdown",
      "id": "1ceac030",
      "metadata": {
        "origin_pos": 27,
        "id": "1ceac030"
      },
      "source": [
        "Both the discriminator and the generator performs a binary logistic regression with the cross-entropy loss. We use Adam to smooth the training process. In each iteration, we first update the discriminator and then the generator. We visualize both losses and generated examples.\n"
      ]
    },
    {
      "cell_type": "code",
      "execution_count": 14,
      "id": "742a9e3b",
      "metadata": {
        "execution": {
          "iopub.execute_input": "2023-08-18T19:37:54.881764Z",
          "iopub.status.busy": "2023-08-18T19:37:54.881214Z",
          "iopub.status.idle": "2023-08-18T19:37:54.892786Z",
          "shell.execute_reply": "2023-08-18T19:37:54.891599Z"
        },
        "origin_pos": 29,
        "tab": [
          "pytorch"
        ],
        "id": "742a9e3b"
      },
      "outputs": [],
      "source": [
        "def train(net_D, net_G, data_iter, num_epochs, lr_D, lr_G, latent_dim, data):\n",
        "\n",
        "    loss = nn.BCEWithLogitsLoss(reduction='sum')\n",
        "\n",
        "    for w in net_D.parameters():\n",
        "        nn.init.normal_(w, 0, 0.02)\n",
        "\n",
        "    for w in net_G.parameters():\n",
        "        nn.init.normal_(w, 0, 0.02)\n",
        "\n",
        "    trainer_D = torch.optim.Adam(net_D.parameters(), lr=lr_D)\n",
        "    trainer_G = torch.optim.Adam(net_G.parameters(), lr=lr_G)\n",
        "    animator = dtorch.Animator(\n",
        "        xlabel='epoch', ylabel='loss',\n",
        "        xlim=[1, num_epochs], nrows=2, figsize=(5, 5),\n",
        "        legend=['discriminator', 'generator'])\n",
        "    animator.fig.subplots_adjust(hspace=0.3)\n",
        "\n",
        "    for epoch in range(num_epochs):\n",
        "\n",
        "        # Train one epoch\n",
        "        timer = dtorch.Timer()\n",
        "        metric = dtorch.Accumulator(3)  # loss_D, loss_G, num_examples\n",
        "        for (X,) in data_iter:\n",
        "            batch_size = X.shape[0]\n",
        "            Z = torch.normal(0, 1, size=(batch_size, latent_dim))\n",
        "            metric.add(update_D(X, Z, net_D, net_G, loss, trainer_D),\n",
        "                       update_G(Z, net_D, net_G, loss, trainer_G),\n",
        "                       batch_size)\n",
        "\n",
        "        # Visualize generated examples\n",
        "        Z = torch.normal(0, 1, size=(100, latent_dim))\n",
        "        fake_X = net_G(Z).detach().numpy()\n",
        "        animator.axes[1].cla()\n",
        "        animator.axes[1].scatter(data[:, 0], data[:, 1])\n",
        "        animator.axes[1].scatter(fake_X[:, 0], fake_X[:, 1])\n",
        "        animator.axes[1].legend(['real', 'generated'])\n",
        "        # Show the losses\n",
        "        loss_D, loss_G = metric[0]/metric[2], metric[1]/metric[2]\n",
        "        animator.add(epoch + 1, (loss_D, loss_G))\n",
        "\n",
        "        print(f'loss_D {loss_D:.3f}, loss_G {loss_G:.3f}, '\n",
        "            f'{metric[2] / timer.stop():.1f} examples/sec')\n",
        ""
      ]
    },
    {
      "cell_type": "markdown",
      "id": "71239e94",
      "metadata": {
        "origin_pos": 31,
        "id": "71239e94"
      },
      "source": [
        "Now we specify the hyperparameters to fit the Gaussian distribution.\n"
      ]
    },
    {
      "cell_type": "code",
      "execution_count": 15,
      "id": "b4106ed3",
      "metadata": {
        "execution": {
          "iopub.execute_input": "2023-08-18T19:37:54.897440Z",
          "iopub.status.busy": "2023-08-18T19:37:54.896873Z",
          "iopub.status.idle": "2023-08-18T19:38:14.489948Z",
          "shell.execute_reply": "2023-08-18T19:38:14.485966Z"
        },
        "origin_pos": 32,
        "tab": [
          "pytorch"
        ],
        "id": "b4106ed3",
        "outputId": "ebc7c8bf-c843-4803-bedd-3fcc4a6b9e73",
        "colab": {
          "base_uri": "https://localhost:8080/",
          "height": 450
        }
      },
      "outputs": [
        {
          "output_type": "stream",
          "name": "stdout",
          "text": [
            "loss_D 0.693, loss_G 0.693, 1814.8 examples/sec\n"
          ]
        },
        {
          "output_type": "display_data",
          "data": {
            "text/plain": [
              "<Figure size 500x500 with 2 Axes>"
            ],
            "image/svg+xml": "<?xml version=\"1.0\" encoding=\"utf-8\" standalone=\"no\"?>\n<!DOCTYPE svg PUBLIC \"-//W3C//DTD SVG 1.1//EN\"\n  \"http://www.w3.org/Graphics/SVG/1.1/DTD/svg11.dtd\">\n<svg xmlns:xlink=\"http://www.w3.org/1999/xlink\" width=\"341.114062pt\" height=\"308.278125pt\" viewBox=\"0 0 341.114062 308.278125\" xmlns=\"http://www.w3.org/2000/svg\" version=\"1.1\">\n <metadata>\n  <rdf:RDF xmlns:dc=\"http://purl.org/dc/elements/1.1/\" xmlns:cc=\"http://creativecommons.org/ns#\" xmlns:rdf=\"http://www.w3.org/1999/02/22-rdf-syntax-ns#\">\n   <cc:Work>\n    <dc:type rdf:resource=\"http://purl.org/dc/dcmitype/StillImage\"/>\n    <dc:date>2023-10-16T17:18:43.084968</dc:date>\n    <dc:format>image/svg+xml</dc:format>\n    <dc:creator>\n     <cc:Agent>\n      <dc:title>Matplotlib v3.7.2, https://matplotlib.org/</dc:title>\n     </cc:Agent>\n    </dc:creator>\n   </cc:Work>\n  </rdf:RDF>\n </metadata>\n <defs>\n  <style type=\"text/css\">*{stroke-linejoin: round; stroke-linecap: butt}</style>\n </defs>\n <g id=\"figure_1\">\n  <g id=\"patch_1\">\n   <path d=\"M 0 308.278125 \nL 341.114062 308.278125 \nL 341.114062 0 \nL 0 0 \nz\n\" style=\"fill: #ffffff\"/>\n  </g>\n  <g id=\"axes_1\">\n   <g id=\"patch_2\">\n    <path d=\"M 43.78125 127.721739 \nL 322.78125 127.721739 \nL 322.78125 7.2 \nL 43.78125 7.2 \nz\n\" style=\"fill: #ffffff\"/>\n   </g>\n   <g id=\"matplotlib.axis_1\">\n    <g id=\"xtick_1\">\n     <g id=\"line2d_1\">\n      <path d=\"M 65.807566 127.721739 \nL 65.807566 7.2 \n\" clip-path=\"url(#p58f47dd3b9)\" style=\"fill: none; stroke: #b0b0b0; stroke-width: 0.8; stroke-linecap: square\"/>\n     </g>\n     <g id=\"line2d_2\">\n      <defs>\n       <path id=\"m16d018c7b6\" d=\"M 0 0 \nL 0 3.5 \n\" style=\"stroke: #000000; stroke-width: 0.8\"/>\n      </defs>\n      <g>\n       <use xlink:href=\"#m16d018c7b6\" x=\"65.807566\" y=\"127.721739\" style=\"stroke: #000000; stroke-width: 0.8\"/>\n      </g>\n     </g>\n     <g id=\"text_1\">\n      <!-- 2.5 -->\n      <g transform=\"translate(57.856003 142.320177) scale(0.1 -0.1)\">\n       <defs>\n        <path id=\"DejaVuSans-32\" d=\"M 1228 531 \nL 3431 531 \nL 3431 0 \nL 469 0 \nL 469 531 \nQ 828 903 1448 1529 \nQ 2069 2156 2228 2338 \nQ 2531 2678 2651 2914 \nQ 2772 3150 2772 3378 \nQ 2772 3750 2511 3984 \nQ 2250 4219 1831 4219 \nQ 1534 4219 1204 4116 \nQ 875 4013 500 3803 \nL 500 4441 \nQ 881 4594 1212 4672 \nQ 1544 4750 1819 4750 \nQ 2544 4750 2975 4387 \nQ 3406 4025 3406 3419 \nQ 3406 3131 3298 2873 \nQ 3191 2616 2906 2266 \nQ 2828 2175 2409 1742 \nQ 1991 1309 1228 531 \nz\n\" transform=\"scale(0.015625)\"/>\n        <path id=\"DejaVuSans-2e\" d=\"M 684 794 \nL 1344 794 \nL 1344 0 \nL 684 0 \nL 684 794 \nz\n\" transform=\"scale(0.015625)\"/>\n        <path id=\"DejaVuSans-35\" d=\"M 691 4666 \nL 3169 4666 \nL 3169 4134 \nL 1269 4134 \nL 1269 2991 \nQ 1406 3038 1543 3061 \nQ 1681 3084 1819 3084 \nQ 2600 3084 3056 2656 \nQ 3513 2228 3513 1497 \nQ 3513 744 3044 326 \nQ 2575 -91 1722 -91 \nQ 1428 -91 1123 -41 \nQ 819 9 494 109 \nL 494 744 \nQ 775 591 1075 516 \nQ 1375 441 1709 441 \nQ 2250 441 2565 725 \nQ 2881 1009 2881 1497 \nQ 2881 1984 2565 2268 \nQ 2250 2553 1709 2553 \nQ 1456 2553 1204 2497 \nQ 953 2441 691 2322 \nL 691 4666 \nz\n\" transform=\"scale(0.015625)\"/>\n       </defs>\n       <use xlink:href=\"#DejaVuSans-32\"/>\n       <use xlink:href=\"#DejaVuSans-2e\" x=\"63.623047\"/>\n       <use xlink:href=\"#DejaVuSans-35\" x=\"95.410156\"/>\n      </g>\n     </g>\n    </g>\n    <g id=\"xtick_2\">\n     <g id=\"line2d_3\">\n      <path d=\"M 102.518092 127.721739 \nL 102.518092 7.2 \n\" clip-path=\"url(#p58f47dd3b9)\" style=\"fill: none; stroke: #b0b0b0; stroke-width: 0.8; stroke-linecap: square\"/>\n     </g>\n     <g id=\"line2d_4\">\n      <g>\n       <use xlink:href=\"#m16d018c7b6\" x=\"102.518092\" y=\"127.721739\" style=\"stroke: #000000; stroke-width: 0.8\"/>\n      </g>\n     </g>\n     <g id=\"text_2\">\n      <!-- 5.0 -->\n      <g transform=\"translate(94.56653 142.320177) scale(0.1 -0.1)\">\n       <defs>\n        <path id=\"DejaVuSans-30\" d=\"M 2034 4250 \nQ 1547 4250 1301 3770 \nQ 1056 3291 1056 2328 \nQ 1056 1369 1301 889 \nQ 1547 409 2034 409 \nQ 2525 409 2770 889 \nQ 3016 1369 3016 2328 \nQ 3016 3291 2770 3770 \nQ 2525 4250 2034 4250 \nz\nM 2034 4750 \nQ 2819 4750 3233 4129 \nQ 3647 3509 3647 2328 \nQ 3647 1150 3233 529 \nQ 2819 -91 2034 -91 \nQ 1250 -91 836 529 \nQ 422 1150 422 2328 \nQ 422 3509 836 4129 \nQ 1250 4750 2034 4750 \nz\n\" transform=\"scale(0.015625)\"/>\n       </defs>\n       <use xlink:href=\"#DejaVuSans-35\"/>\n       <use xlink:href=\"#DejaVuSans-2e\" x=\"63.623047\"/>\n       <use xlink:href=\"#DejaVuSans-30\" x=\"95.410156\"/>\n      </g>\n     </g>\n    </g>\n    <g id=\"xtick_3\">\n     <g id=\"line2d_5\">\n      <path d=\"M 139.228618 127.721739 \nL 139.228618 7.2 \n\" clip-path=\"url(#p58f47dd3b9)\" style=\"fill: none; stroke: #b0b0b0; stroke-width: 0.8; stroke-linecap: square\"/>\n     </g>\n     <g id=\"line2d_6\">\n      <g>\n       <use xlink:href=\"#m16d018c7b6\" x=\"139.228618\" y=\"127.721739\" style=\"stroke: #000000; stroke-width: 0.8\"/>\n      </g>\n     </g>\n     <g id=\"text_3\">\n      <!-- 7.5 -->\n      <g transform=\"translate(131.277056 142.320177) scale(0.1 -0.1)\">\n       <defs>\n        <path id=\"DejaVuSans-37\" d=\"M 525 4666 \nL 3525 4666 \nL 3525 4397 \nL 1831 0 \nL 1172 0 \nL 2766 4134 \nL 525 4134 \nL 525 4666 \nz\n\" transform=\"scale(0.015625)\"/>\n       </defs>\n       <use xlink:href=\"#DejaVuSans-37\"/>\n       <use xlink:href=\"#DejaVuSans-2e\" x=\"63.623047\"/>\n       <use xlink:href=\"#DejaVuSans-35\" x=\"95.410156\"/>\n      </g>\n     </g>\n    </g>\n    <g id=\"xtick_4\">\n     <g id=\"line2d_7\">\n      <path d=\"M 175.939145 127.721739 \nL 175.939145 7.2 \n\" clip-path=\"url(#p58f47dd3b9)\" style=\"fill: none; stroke: #b0b0b0; stroke-width: 0.8; stroke-linecap: square\"/>\n     </g>\n     <g id=\"line2d_8\">\n      <g>\n       <use xlink:href=\"#m16d018c7b6\" x=\"175.939145\" y=\"127.721739\" style=\"stroke: #000000; stroke-width: 0.8\"/>\n      </g>\n     </g>\n     <g id=\"text_4\">\n      <!-- 10.0 -->\n      <g transform=\"translate(164.806332 142.320177) scale(0.1 -0.1)\">\n       <defs>\n        <path id=\"DejaVuSans-31\" d=\"M 794 531 \nL 1825 531 \nL 1825 4091 \nL 703 3866 \nL 703 4441 \nL 1819 4666 \nL 2450 4666 \nL 2450 531 \nL 3481 531 \nL 3481 0 \nL 794 0 \nL 794 531 \nz\n\" transform=\"scale(0.015625)\"/>\n       </defs>\n       <use xlink:href=\"#DejaVuSans-31\"/>\n       <use xlink:href=\"#DejaVuSans-30\" x=\"63.623047\"/>\n       <use xlink:href=\"#DejaVuSans-2e\" x=\"127.246094\"/>\n       <use xlink:href=\"#DejaVuSans-30\" x=\"159.033203\"/>\n      </g>\n     </g>\n    </g>\n    <g id=\"xtick_5\">\n     <g id=\"line2d_9\">\n      <path d=\"M 212.649671 127.721739 \nL 212.649671 7.2 \n\" clip-path=\"url(#p58f47dd3b9)\" style=\"fill: none; stroke: #b0b0b0; stroke-width: 0.8; stroke-linecap: square\"/>\n     </g>\n     <g id=\"line2d_10\">\n      <g>\n       <use xlink:href=\"#m16d018c7b6\" x=\"212.649671\" y=\"127.721739\" style=\"stroke: #000000; stroke-width: 0.8\"/>\n      </g>\n     </g>\n     <g id=\"text_5\">\n      <!-- 12.5 -->\n      <g transform=\"translate(201.516859 142.320177) scale(0.1 -0.1)\">\n       <use xlink:href=\"#DejaVuSans-31\"/>\n       <use xlink:href=\"#DejaVuSans-32\" x=\"63.623047\"/>\n       <use xlink:href=\"#DejaVuSans-2e\" x=\"127.246094\"/>\n       <use xlink:href=\"#DejaVuSans-35\" x=\"159.033203\"/>\n      </g>\n     </g>\n    </g>\n    <g id=\"xtick_6\">\n     <g id=\"line2d_11\">\n      <path d=\"M 249.360197 127.721739 \nL 249.360197 7.2 \n\" clip-path=\"url(#p58f47dd3b9)\" style=\"fill: none; stroke: #b0b0b0; stroke-width: 0.8; stroke-linecap: square\"/>\n     </g>\n     <g id=\"line2d_12\">\n      <g>\n       <use xlink:href=\"#m16d018c7b6\" x=\"249.360197\" y=\"127.721739\" style=\"stroke: #000000; stroke-width: 0.8\"/>\n      </g>\n     </g>\n     <g id=\"text_6\">\n      <!-- 15.0 -->\n      <g transform=\"translate(238.227385 142.320177) scale(0.1 -0.1)\">\n       <use xlink:href=\"#DejaVuSans-31\"/>\n       <use xlink:href=\"#DejaVuSans-35\" x=\"63.623047\"/>\n       <use xlink:href=\"#DejaVuSans-2e\" x=\"127.246094\"/>\n       <use xlink:href=\"#DejaVuSans-30\" x=\"159.033203\"/>\n      </g>\n     </g>\n    </g>\n    <g id=\"xtick_7\">\n     <g id=\"line2d_13\">\n      <path d=\"M 286.070724 127.721739 \nL 286.070724 7.2 \n\" clip-path=\"url(#p58f47dd3b9)\" style=\"fill: none; stroke: #b0b0b0; stroke-width: 0.8; stroke-linecap: square\"/>\n     </g>\n     <g id=\"line2d_14\">\n      <g>\n       <use xlink:href=\"#m16d018c7b6\" x=\"286.070724\" y=\"127.721739\" style=\"stroke: #000000; stroke-width: 0.8\"/>\n      </g>\n     </g>\n     <g id=\"text_7\">\n      <!-- 17.5 -->\n      <g transform=\"translate(274.937911 142.320177) scale(0.1 -0.1)\">\n       <use xlink:href=\"#DejaVuSans-31\"/>\n       <use xlink:href=\"#DejaVuSans-37\" x=\"63.623047\"/>\n       <use xlink:href=\"#DejaVuSans-2e\" x=\"127.246094\"/>\n       <use xlink:href=\"#DejaVuSans-35\" x=\"159.033203\"/>\n      </g>\n     </g>\n    </g>\n    <g id=\"xtick_8\">\n     <g id=\"line2d_15\">\n      <path d=\"M 322.78125 127.721739 \nL 322.78125 7.2 \n\" clip-path=\"url(#p58f47dd3b9)\" style=\"fill: none; stroke: #b0b0b0; stroke-width: 0.8; stroke-linecap: square\"/>\n     </g>\n     <g id=\"line2d_16\">\n      <g>\n       <use xlink:href=\"#m16d018c7b6\" x=\"322.78125\" y=\"127.721739\" style=\"stroke: #000000; stroke-width: 0.8\"/>\n      </g>\n     </g>\n     <g id=\"text_8\">\n      <!-- 20.0 -->\n      <g transform=\"translate(311.648438 142.320177) scale(0.1 -0.1)\">\n       <use xlink:href=\"#DejaVuSans-32\"/>\n       <use xlink:href=\"#DejaVuSans-30\" x=\"63.623047\"/>\n       <use xlink:href=\"#DejaVuSans-2e\" x=\"127.246094\"/>\n       <use xlink:href=\"#DejaVuSans-30\" x=\"159.033203\"/>\n      </g>\n     </g>\n    </g>\n    <g id=\"text_9\">\n     <!-- epoch -->\n     <g transform=\"translate(168.053125 155.998302) scale(0.1 -0.1)\">\n      <defs>\n       <path id=\"DejaVuSans-65\" d=\"M 3597 1894 \nL 3597 1613 \nL 953 1613 \nQ 991 1019 1311 708 \nQ 1631 397 2203 397 \nQ 2534 397 2845 478 \nQ 3156 559 3463 722 \nL 3463 178 \nQ 3153 47 2828 -22 \nQ 2503 -91 2169 -91 \nQ 1331 -91 842 396 \nQ 353 884 353 1716 \nQ 353 2575 817 3079 \nQ 1281 3584 2069 3584 \nQ 2775 3584 3186 3129 \nQ 3597 2675 3597 1894 \nz\nM 3022 2063 \nQ 3016 2534 2758 2815 \nQ 2500 3097 2075 3097 \nQ 1594 3097 1305 2825 \nQ 1016 2553 972 2059 \nL 3022 2063 \nz\n\" transform=\"scale(0.015625)\"/>\n       <path id=\"DejaVuSans-70\" d=\"M 1159 525 \nL 1159 -1331 \nL 581 -1331 \nL 581 3500 \nL 1159 3500 \nL 1159 2969 \nQ 1341 3281 1617 3432 \nQ 1894 3584 2278 3584 \nQ 2916 3584 3314 3078 \nQ 3713 2572 3713 1747 \nQ 3713 922 3314 415 \nQ 2916 -91 2278 -91 \nQ 1894 -91 1617 61 \nQ 1341 213 1159 525 \nz\nM 3116 1747 \nQ 3116 2381 2855 2742 \nQ 2594 3103 2138 3103 \nQ 1681 3103 1420 2742 \nQ 1159 2381 1159 1747 \nQ 1159 1113 1420 752 \nQ 1681 391 2138 391 \nQ 2594 391 2855 752 \nQ 3116 1113 3116 1747 \nz\n\" transform=\"scale(0.015625)\"/>\n       <path id=\"DejaVuSans-6f\" d=\"M 1959 3097 \nQ 1497 3097 1228 2736 \nQ 959 2375 959 1747 \nQ 959 1119 1226 758 \nQ 1494 397 1959 397 \nQ 2419 397 2687 759 \nQ 2956 1122 2956 1747 \nQ 2956 2369 2687 2733 \nQ 2419 3097 1959 3097 \nz\nM 1959 3584 \nQ 2709 3584 3137 3096 \nQ 3566 2609 3566 1747 \nQ 3566 888 3137 398 \nQ 2709 -91 1959 -91 \nQ 1206 -91 779 398 \nQ 353 888 353 1747 \nQ 353 2609 779 3096 \nQ 1206 3584 1959 3584 \nz\n\" transform=\"scale(0.015625)\"/>\n       <path id=\"DejaVuSans-63\" d=\"M 3122 3366 \nL 3122 2828 \nQ 2878 2963 2633 3030 \nQ 2388 3097 2138 3097 \nQ 1578 3097 1268 2742 \nQ 959 2388 959 1747 \nQ 959 1106 1268 751 \nQ 1578 397 2138 397 \nQ 2388 397 2633 464 \nQ 2878 531 3122 666 \nL 3122 134 \nQ 2881 22 2623 -34 \nQ 2366 -91 2075 -91 \nQ 1284 -91 818 406 \nQ 353 903 353 1747 \nQ 353 2603 823 3093 \nQ 1294 3584 2113 3584 \nQ 2378 3584 2631 3529 \nQ 2884 3475 3122 3366 \nz\n\" transform=\"scale(0.015625)\"/>\n       <path id=\"DejaVuSans-68\" d=\"M 3513 2113 \nL 3513 0 \nL 2938 0 \nL 2938 2094 \nQ 2938 2591 2744 2837 \nQ 2550 3084 2163 3084 \nQ 1697 3084 1428 2787 \nQ 1159 2491 1159 1978 \nL 1159 0 \nL 581 0 \nL 581 4863 \nL 1159 4863 \nL 1159 2956 \nQ 1366 3272 1645 3428 \nQ 1925 3584 2291 3584 \nQ 2894 3584 3203 3211 \nQ 3513 2838 3513 2113 \nz\n\" transform=\"scale(0.015625)\"/>\n      </defs>\n      <use xlink:href=\"#DejaVuSans-65\"/>\n      <use xlink:href=\"#DejaVuSans-70\" x=\"61.523438\"/>\n      <use xlink:href=\"#DejaVuSans-6f\" x=\"125\"/>\n      <use xlink:href=\"#DejaVuSans-63\" x=\"186.181641\"/>\n      <use xlink:href=\"#DejaVuSans-68\" x=\"241.162109\"/>\n     </g>\n    </g>\n   </g>\n   <g id=\"matplotlib.axis_2\">\n    <g id=\"ytick_1\">\n     <g id=\"line2d_17\">\n      <path d=\"M 43.78125 123.358375 \nL 322.78125 123.358375 \n\" clip-path=\"url(#p58f47dd3b9)\" style=\"fill: none; stroke: #b0b0b0; stroke-width: 0.8; stroke-linecap: square\"/>\n     </g>\n     <g id=\"line2d_18\">\n      <defs>\n       <path id=\"mc30673aa29\" d=\"M 0 0 \nL -3.5 0 \n\" style=\"stroke: #000000; stroke-width: 0.8\"/>\n      </defs>\n      <g>\n       <use xlink:href=\"#mc30673aa29\" x=\"43.78125\" y=\"123.358375\" style=\"stroke: #000000; stroke-width: 0.8\"/>\n      </g>\n     </g>\n     <g id=\"text_10\">\n      <!-- 0.4 -->\n      <g transform=\"translate(20.878125 127.157593) scale(0.1 -0.1)\">\n       <defs>\n        <path id=\"DejaVuSans-34\" d=\"M 2419 4116 \nL 825 1625 \nL 2419 1625 \nL 2419 4116 \nz\nM 2253 4666 \nL 3047 4666 \nL 3047 1625 \nL 3713 1625 \nL 3713 1100 \nL 3047 1100 \nL 3047 0 \nL 2419 0 \nL 2419 1100 \nL 313 1100 \nL 313 1709 \nL 2253 4666 \nz\n\" transform=\"scale(0.015625)\"/>\n       </defs>\n       <use xlink:href=\"#DejaVuSans-30\"/>\n       <use xlink:href=\"#DejaVuSans-2e\" x=\"63.623047\"/>\n       <use xlink:href=\"#DejaVuSans-34\" x=\"95.410156\"/>\n      </g>\n     </g>\n    </g>\n    <g id=\"ytick_2\">\n     <g id=\"line2d_19\">\n      <path d=\"M 43.78125 102.812546 \nL 322.78125 102.812546 \n\" clip-path=\"url(#p58f47dd3b9)\" style=\"fill: none; stroke: #b0b0b0; stroke-width: 0.8; stroke-linecap: square\"/>\n     </g>\n     <g id=\"line2d_20\">\n      <g>\n       <use xlink:href=\"#mc30673aa29\" x=\"43.78125\" y=\"102.812546\" style=\"stroke: #000000; stroke-width: 0.8\"/>\n      </g>\n     </g>\n     <g id=\"text_11\">\n      <!-- 0.6 -->\n      <g transform=\"translate(20.878125 106.611765) scale(0.1 -0.1)\">\n       <defs>\n        <path id=\"DejaVuSans-36\" d=\"M 2113 2584 \nQ 1688 2584 1439 2293 \nQ 1191 2003 1191 1497 \nQ 1191 994 1439 701 \nQ 1688 409 2113 409 \nQ 2538 409 2786 701 \nQ 3034 994 3034 1497 \nQ 3034 2003 2786 2293 \nQ 2538 2584 2113 2584 \nz\nM 3366 4563 \nL 3366 3988 \nQ 3128 4100 2886 4159 \nQ 2644 4219 2406 4219 \nQ 1781 4219 1451 3797 \nQ 1122 3375 1075 2522 \nQ 1259 2794 1537 2939 \nQ 1816 3084 2150 3084 \nQ 2853 3084 3261 2657 \nQ 3669 2231 3669 1497 \nQ 3669 778 3244 343 \nQ 2819 -91 2113 -91 \nQ 1303 -91 875 529 \nQ 447 1150 447 2328 \nQ 447 3434 972 4092 \nQ 1497 4750 2381 4750 \nQ 2619 4750 2861 4703 \nQ 3103 4656 3366 4563 \nz\n\" transform=\"scale(0.015625)\"/>\n       </defs>\n       <use xlink:href=\"#DejaVuSans-30\"/>\n       <use xlink:href=\"#DejaVuSans-2e\" x=\"63.623047\"/>\n       <use xlink:href=\"#DejaVuSans-36\" x=\"95.410156\"/>\n      </g>\n     </g>\n    </g>\n    <g id=\"ytick_3\">\n     <g id=\"line2d_21\">\n      <path d=\"M 43.78125 82.266718 \nL 322.78125 82.266718 \n\" clip-path=\"url(#p58f47dd3b9)\" style=\"fill: none; stroke: #b0b0b0; stroke-width: 0.8; stroke-linecap: square\"/>\n     </g>\n     <g id=\"line2d_22\">\n      <g>\n       <use xlink:href=\"#mc30673aa29\" x=\"43.78125\" y=\"82.266718\" style=\"stroke: #000000; stroke-width: 0.8\"/>\n      </g>\n     </g>\n     <g id=\"text_12\">\n      <!-- 0.8 -->\n      <g transform=\"translate(20.878125 86.065937) scale(0.1 -0.1)\">\n       <defs>\n        <path id=\"DejaVuSans-38\" d=\"M 2034 2216 \nQ 1584 2216 1326 1975 \nQ 1069 1734 1069 1313 \nQ 1069 891 1326 650 \nQ 1584 409 2034 409 \nQ 2484 409 2743 651 \nQ 3003 894 3003 1313 \nQ 3003 1734 2745 1975 \nQ 2488 2216 2034 2216 \nz\nM 1403 2484 \nQ 997 2584 770 2862 \nQ 544 3141 544 3541 \nQ 544 4100 942 4425 \nQ 1341 4750 2034 4750 \nQ 2731 4750 3128 4425 \nQ 3525 4100 3525 3541 \nQ 3525 3141 3298 2862 \nQ 3072 2584 2669 2484 \nQ 3125 2378 3379 2068 \nQ 3634 1759 3634 1313 \nQ 3634 634 3220 271 \nQ 2806 -91 2034 -91 \nQ 1263 -91 848 271 \nQ 434 634 434 1313 \nQ 434 1759 690 2068 \nQ 947 2378 1403 2484 \nz\nM 1172 3481 \nQ 1172 3119 1398 2916 \nQ 1625 2713 2034 2713 \nQ 2441 2713 2670 2916 \nQ 2900 3119 2900 3481 \nQ 2900 3844 2670 4047 \nQ 2441 4250 2034 4250 \nQ 1625 4250 1398 4047 \nQ 1172 3844 1172 3481 \nz\n\" transform=\"scale(0.015625)\"/>\n       </defs>\n       <use xlink:href=\"#DejaVuSans-30\"/>\n       <use xlink:href=\"#DejaVuSans-2e\" x=\"63.623047\"/>\n       <use xlink:href=\"#DejaVuSans-38\" x=\"95.410156\"/>\n      </g>\n     </g>\n    </g>\n    <g id=\"ytick_4\">\n     <g id=\"line2d_23\">\n      <path d=\"M 43.78125 61.72089 \nL 322.78125 61.72089 \n\" clip-path=\"url(#p58f47dd3b9)\" style=\"fill: none; stroke: #b0b0b0; stroke-width: 0.8; stroke-linecap: square\"/>\n     </g>\n     <g id=\"line2d_24\">\n      <g>\n       <use xlink:href=\"#mc30673aa29\" x=\"43.78125\" y=\"61.72089\" style=\"stroke: #000000; stroke-width: 0.8\"/>\n      </g>\n     </g>\n     <g id=\"text_13\">\n      <!-- 1.0 -->\n      <g transform=\"translate(20.878125 65.520108) scale(0.1 -0.1)\">\n       <use xlink:href=\"#DejaVuSans-31\"/>\n       <use xlink:href=\"#DejaVuSans-2e\" x=\"63.623047\"/>\n       <use xlink:href=\"#DejaVuSans-30\" x=\"95.410156\"/>\n      </g>\n     </g>\n    </g>\n    <g id=\"ytick_5\">\n     <g id=\"line2d_25\">\n      <path d=\"M 43.78125 41.175061 \nL 322.78125 41.175061 \n\" clip-path=\"url(#p58f47dd3b9)\" style=\"fill: none; stroke: #b0b0b0; stroke-width: 0.8; stroke-linecap: square\"/>\n     </g>\n     <g id=\"line2d_26\">\n      <g>\n       <use xlink:href=\"#mc30673aa29\" x=\"43.78125\" y=\"41.175061\" style=\"stroke: #000000; stroke-width: 0.8\"/>\n      </g>\n     </g>\n     <g id=\"text_14\">\n      <!-- 1.2 -->\n      <g transform=\"translate(20.878125 44.97428) scale(0.1 -0.1)\">\n       <use xlink:href=\"#DejaVuSans-31\"/>\n       <use xlink:href=\"#DejaVuSans-2e\" x=\"63.623047\"/>\n       <use xlink:href=\"#DejaVuSans-32\" x=\"95.410156\"/>\n      </g>\n     </g>\n    </g>\n    <g id=\"ytick_6\">\n     <g id=\"line2d_27\">\n      <path d=\"M 43.78125 20.629233 \nL 322.78125 20.629233 \n\" clip-path=\"url(#p58f47dd3b9)\" style=\"fill: none; stroke: #b0b0b0; stroke-width: 0.8; stroke-linecap: square\"/>\n     </g>\n     <g id=\"line2d_28\">\n      <g>\n       <use xlink:href=\"#mc30673aa29\" x=\"43.78125\" y=\"20.629233\" style=\"stroke: #000000; stroke-width: 0.8\"/>\n      </g>\n     </g>\n     <g id=\"text_15\">\n      <!-- 1.4 -->\n      <g transform=\"translate(20.878125 24.428451) scale(0.1 -0.1)\">\n       <use xlink:href=\"#DejaVuSans-31\"/>\n       <use xlink:href=\"#DejaVuSans-2e\" x=\"63.623047\"/>\n       <use xlink:href=\"#DejaVuSans-34\" x=\"95.410156\"/>\n      </g>\n     </g>\n    </g>\n    <g id=\"text_16\">\n     <!-- loss -->\n     <g transform=\"translate(14.798438 77.118682) rotate(-90) scale(0.1 -0.1)\">\n      <defs>\n       <path id=\"DejaVuSans-6c\" d=\"M 603 4863 \nL 1178 4863 \nL 1178 0 \nL 603 0 \nL 603 4863 \nz\n\" transform=\"scale(0.015625)\"/>\n       <path id=\"DejaVuSans-73\" d=\"M 2834 3397 \nL 2834 2853 \nQ 2591 2978 2328 3040 \nQ 2066 3103 1784 3103 \nQ 1356 3103 1142 2972 \nQ 928 2841 928 2578 \nQ 928 2378 1081 2264 \nQ 1234 2150 1697 2047 \nL 1894 2003 \nQ 2506 1872 2764 1633 \nQ 3022 1394 3022 966 \nQ 3022 478 2636 193 \nQ 2250 -91 1575 -91 \nQ 1294 -91 989 -36 \nQ 684 19 347 128 \nL 347 722 \nQ 666 556 975 473 \nQ 1284 391 1588 391 \nQ 1994 391 2212 530 \nQ 2431 669 2431 922 \nQ 2431 1156 2273 1281 \nQ 2116 1406 1581 1522 \nL 1381 1569 \nQ 847 1681 609 1914 \nQ 372 2147 372 2553 \nQ 372 3047 722 3315 \nQ 1072 3584 1716 3584 \nQ 2034 3584 2315 3537 \nQ 2597 3491 2834 3397 \nz\n\" transform=\"scale(0.015625)\"/>\n      </defs>\n      <use xlink:href=\"#DejaVuSans-6c\"/>\n      <use xlink:href=\"#DejaVuSans-6f\" x=\"27.783203\"/>\n      <use xlink:href=\"#DejaVuSans-73\" x=\"88.964844\"/>\n      <use xlink:href=\"#DejaVuSans-73\" x=\"141.064453\"/>\n     </g>\n    </g>\n   </g>\n   <g id=\"line2d_29\">\n    <path d=\"M 43.78125 122.243478 \nL 58.465461 116.665503 \nL 73.149671 109.030516 \nL 87.833882 102.193728 \nL 102.518092 98.949304 \nL 117.202303 97.243591 \nL 131.886513 94.332405 \nL 146.570724 93.23809 \nL 161.254934 93.240145 \nL 175.939145 93.241733 \nL 190.623355 93.24259 \nL 205.307566 93.244586 \nL 219.991776 93.248791 \nL 234.675987 93.590592 \nL 249.360197 93.231588 \nL 264.044408 93.242184 \nL 278.728618 93.243772 \nL 293.412829 93.242991 \nL 308.097039 93.242868 \nL 322.78125 93.244711 \n\" clip-path=\"url(#p58f47dd3b9)\" style=\"fill: none; stroke: #1f77b4; stroke-width: 1.5; stroke-linecap: square\"/>\n   </g>\n   <g id=\"line2d_30\">\n    <path d=\"M 43.78125 12.678261 \nL 58.465461 34.503486 \nL 73.149671 58.423494 \nL 87.833882 72.012275 \nL 102.518092 79.056669 \nL 117.202303 82.002245 \nL 131.886513 87.561877 \nL 146.570724 93.254568 \nL 161.254934 93.250781 \nL 175.939145 93.247893 \nL 190.623355 93.24636 \nL 205.307566 93.242674 \nL 219.991776 93.235933 \nL 234.675987 92.161893 \nL 249.360197 93.231031 \nL 264.044408 93.244198 \nL 278.728618 93.243943 \nL 293.412829 93.243082 \nL 308.097039 93.243526 \nL 322.78125 93.243156 \n\" clip-path=\"url(#p58f47dd3b9)\" style=\"fill: none; stroke-dasharray: 5.55,2.4; stroke-dashoffset: 0; stroke: #bf00bf; stroke-width: 1.5\"/>\n   </g>\n   <g id=\"patch_3\">\n    <path d=\"M 43.78125 127.721739 \nL 43.78125 7.2 \n\" style=\"fill: none; stroke: #000000; stroke-width: 0.8; stroke-linejoin: miter; stroke-linecap: square\"/>\n   </g>\n   <g id=\"patch_4\">\n    <path d=\"M 322.78125 127.721739 \nL 322.78125 7.2 \n\" style=\"fill: none; stroke: #000000; stroke-width: 0.8; stroke-linejoin: miter; stroke-linecap: square\"/>\n   </g>\n   <g id=\"patch_5\">\n    <path d=\"M 43.78125 127.721739 \nL 322.78125 127.721739 \n\" style=\"fill: none; stroke: #000000; stroke-width: 0.8; stroke-linejoin: miter; stroke-linecap: square\"/>\n   </g>\n   <g id=\"patch_6\">\n    <path d=\"M 43.78125 7.2 \nL 322.78125 7.2 \n\" style=\"fill: none; stroke: #000000; stroke-width: 0.8; stroke-linejoin: miter; stroke-linecap: square\"/>\n   </g>\n   <g id=\"legend_1\">\n    <g id=\"patch_7\">\n     <path d=\"M 217.923437 44.55625 \nL 315.78125 44.55625 \nQ 317.78125 44.55625 317.78125 42.55625 \nL 317.78125 14.2 \nQ 317.78125 12.2 315.78125 12.2 \nL 217.923437 12.2 \nQ 215.923437 12.2 215.923437 14.2 \nL 215.923437 42.55625 \nQ 215.923437 44.55625 217.923437 44.55625 \nz\n\" style=\"fill: #ffffff; opacity: 0.8; stroke: #cccccc; stroke-linejoin: miter\"/>\n    </g>\n    <g id=\"line2d_31\">\n     <path d=\"M 219.923437 20.298438 \nL 229.923437 20.298438 \nL 239.923437 20.298438 \n\" style=\"fill: none; stroke: #1f77b4; stroke-width: 1.5; stroke-linecap: square\"/>\n    </g>\n    <g id=\"text_17\">\n     <!-- discriminator -->\n     <g transform=\"translate(247.923437 23.798438) scale(0.1 -0.1)\">\n      <defs>\n       <path id=\"DejaVuSans-64\" d=\"M 2906 2969 \nL 2906 4863 \nL 3481 4863 \nL 3481 0 \nL 2906 0 \nL 2906 525 \nQ 2725 213 2448 61 \nQ 2172 -91 1784 -91 \nQ 1150 -91 751 415 \nQ 353 922 353 1747 \nQ 353 2572 751 3078 \nQ 1150 3584 1784 3584 \nQ 2172 3584 2448 3432 \nQ 2725 3281 2906 2969 \nz\nM 947 1747 \nQ 947 1113 1208 752 \nQ 1469 391 1925 391 \nQ 2381 391 2643 752 \nQ 2906 1113 2906 1747 \nQ 2906 2381 2643 2742 \nQ 2381 3103 1925 3103 \nQ 1469 3103 1208 2742 \nQ 947 2381 947 1747 \nz\n\" transform=\"scale(0.015625)\"/>\n       <path id=\"DejaVuSans-69\" d=\"M 603 3500 \nL 1178 3500 \nL 1178 0 \nL 603 0 \nL 603 3500 \nz\nM 603 4863 \nL 1178 4863 \nL 1178 4134 \nL 603 4134 \nL 603 4863 \nz\n\" transform=\"scale(0.015625)\"/>\n       <path id=\"DejaVuSans-72\" d=\"M 2631 2963 \nQ 2534 3019 2420 3045 \nQ 2306 3072 2169 3072 \nQ 1681 3072 1420 2755 \nQ 1159 2438 1159 1844 \nL 1159 0 \nL 581 0 \nL 581 3500 \nL 1159 3500 \nL 1159 2956 \nQ 1341 3275 1631 3429 \nQ 1922 3584 2338 3584 \nQ 2397 3584 2469 3576 \nQ 2541 3569 2628 3553 \nL 2631 2963 \nz\n\" transform=\"scale(0.015625)\"/>\n       <path id=\"DejaVuSans-6d\" d=\"M 3328 2828 \nQ 3544 3216 3844 3400 \nQ 4144 3584 4550 3584 \nQ 5097 3584 5394 3201 \nQ 5691 2819 5691 2113 \nL 5691 0 \nL 5113 0 \nL 5113 2094 \nQ 5113 2597 4934 2840 \nQ 4756 3084 4391 3084 \nQ 3944 3084 3684 2787 \nQ 3425 2491 3425 1978 \nL 3425 0 \nL 2847 0 \nL 2847 2094 \nQ 2847 2600 2669 2842 \nQ 2491 3084 2119 3084 \nQ 1678 3084 1418 2786 \nQ 1159 2488 1159 1978 \nL 1159 0 \nL 581 0 \nL 581 3500 \nL 1159 3500 \nL 1159 2956 \nQ 1356 3278 1631 3431 \nQ 1906 3584 2284 3584 \nQ 2666 3584 2933 3390 \nQ 3200 3197 3328 2828 \nz\n\" transform=\"scale(0.015625)\"/>\n       <path id=\"DejaVuSans-6e\" d=\"M 3513 2113 \nL 3513 0 \nL 2938 0 \nL 2938 2094 \nQ 2938 2591 2744 2837 \nQ 2550 3084 2163 3084 \nQ 1697 3084 1428 2787 \nQ 1159 2491 1159 1978 \nL 1159 0 \nL 581 0 \nL 581 3500 \nL 1159 3500 \nL 1159 2956 \nQ 1366 3272 1645 3428 \nQ 1925 3584 2291 3584 \nQ 2894 3584 3203 3211 \nQ 3513 2838 3513 2113 \nz\n\" transform=\"scale(0.015625)\"/>\n       <path id=\"DejaVuSans-61\" d=\"M 2194 1759 \nQ 1497 1759 1228 1600 \nQ 959 1441 959 1056 \nQ 959 750 1161 570 \nQ 1363 391 1709 391 \nQ 2188 391 2477 730 \nQ 2766 1069 2766 1631 \nL 2766 1759 \nL 2194 1759 \nz\nM 3341 1997 \nL 3341 0 \nL 2766 0 \nL 2766 531 \nQ 2569 213 2275 61 \nQ 1981 -91 1556 -91 \nQ 1019 -91 701 211 \nQ 384 513 384 1019 \nQ 384 1609 779 1909 \nQ 1175 2209 1959 2209 \nL 2766 2209 \nL 2766 2266 \nQ 2766 2663 2505 2880 \nQ 2244 3097 1772 3097 \nQ 1472 3097 1187 3025 \nQ 903 2953 641 2809 \nL 641 3341 \nQ 956 3463 1253 3523 \nQ 1550 3584 1831 3584 \nQ 2591 3584 2966 3190 \nQ 3341 2797 3341 1997 \nz\n\" transform=\"scale(0.015625)\"/>\n       <path id=\"DejaVuSans-74\" d=\"M 1172 4494 \nL 1172 3500 \nL 2356 3500 \nL 2356 3053 \nL 1172 3053 \nL 1172 1153 \nQ 1172 725 1289 603 \nQ 1406 481 1766 481 \nL 2356 481 \nL 2356 0 \nL 1766 0 \nQ 1100 0 847 248 \nQ 594 497 594 1153 \nL 594 3053 \nL 172 3053 \nL 172 3500 \nL 594 3500 \nL 594 4494 \nL 1172 4494 \nz\n\" transform=\"scale(0.015625)\"/>\n      </defs>\n      <use xlink:href=\"#DejaVuSans-64\"/>\n      <use xlink:href=\"#DejaVuSans-69\" x=\"63.476562\"/>\n      <use xlink:href=\"#DejaVuSans-73\" x=\"91.259766\"/>\n      <use xlink:href=\"#DejaVuSans-63\" x=\"143.359375\"/>\n      <use xlink:href=\"#DejaVuSans-72\" x=\"198.339844\"/>\n      <use xlink:href=\"#DejaVuSans-69\" x=\"239.453125\"/>\n      <use xlink:href=\"#DejaVuSans-6d\" x=\"267.236328\"/>\n      <use xlink:href=\"#DejaVuSans-69\" x=\"364.648438\"/>\n      <use xlink:href=\"#DejaVuSans-6e\" x=\"392.431641\"/>\n      <use xlink:href=\"#DejaVuSans-61\" x=\"455.810547\"/>\n      <use xlink:href=\"#DejaVuSans-74\" x=\"517.089844\"/>\n      <use xlink:href=\"#DejaVuSans-6f\" x=\"556.298828\"/>\n      <use xlink:href=\"#DejaVuSans-72\" x=\"617.480469\"/>\n     </g>\n    </g>\n    <g id=\"line2d_32\">\n     <path d=\"M 219.923437 34.976563 \nL 229.923437 34.976563 \nL 239.923437 34.976563 \n\" style=\"fill: none; stroke-dasharray: 5.55,2.4; stroke-dashoffset: 0; stroke: #bf00bf; stroke-width: 1.5\"/>\n    </g>\n    <g id=\"text_18\">\n     <!-- generator -->\n     <g transform=\"translate(247.923437 38.476563) scale(0.1 -0.1)\">\n      <defs>\n       <path id=\"DejaVuSans-67\" d=\"M 2906 1791 \nQ 2906 2416 2648 2759 \nQ 2391 3103 1925 3103 \nQ 1463 3103 1205 2759 \nQ 947 2416 947 1791 \nQ 947 1169 1205 825 \nQ 1463 481 1925 481 \nQ 2391 481 2648 825 \nQ 2906 1169 2906 1791 \nz\nM 3481 434 \nQ 3481 -459 3084 -895 \nQ 2688 -1331 1869 -1331 \nQ 1566 -1331 1297 -1286 \nQ 1028 -1241 775 -1147 \nL 775 -588 \nQ 1028 -725 1275 -790 \nQ 1522 -856 1778 -856 \nQ 2344 -856 2625 -561 \nQ 2906 -266 2906 331 \nL 2906 616 \nQ 2728 306 2450 153 \nQ 2172 0 1784 0 \nQ 1141 0 747 490 \nQ 353 981 353 1791 \nQ 353 2603 747 3093 \nQ 1141 3584 1784 3584 \nQ 2172 3584 2450 3431 \nQ 2728 3278 2906 2969 \nL 2906 3500 \nL 3481 3500 \nL 3481 434 \nz\n\" transform=\"scale(0.015625)\"/>\n      </defs>\n      <use xlink:href=\"#DejaVuSans-67\"/>\n      <use xlink:href=\"#DejaVuSans-65\" x=\"63.476562\"/>\n      <use xlink:href=\"#DejaVuSans-6e\" x=\"125\"/>\n      <use xlink:href=\"#DejaVuSans-65\" x=\"188.378906\"/>\n      <use xlink:href=\"#DejaVuSans-72\" x=\"249.902344\"/>\n      <use xlink:href=\"#DejaVuSans-61\" x=\"291.015625\"/>\n      <use xlink:href=\"#DejaVuSans-74\" x=\"352.294922\"/>\n      <use xlink:href=\"#DejaVuSans-6f\" x=\"391.503906\"/>\n      <use xlink:href=\"#DejaVuSans-72\" x=\"452.685547\"/>\n     </g>\n    </g>\n   </g>\n  </g>\n  <g id=\"axes_2\">\n   <g id=\"patch_8\">\n    <path d=\"M 43.78125 284.4 \nL 322.78125 284.4 \nL 322.78125 163.878261 \nL 43.78125 163.878261 \nz\n\" style=\"fill: #ffffff\"/>\n   </g>\n   <g id=\"PathCollection_1\">\n    <defs>\n     <path id=\"mb0bf1b53d8\" d=\"M 0 3 \nC 0.795609 3 1.55874 2.683901 2.12132 2.12132 \nC 2.683901 1.55874 3 0.795609 3 0 \nC 3 -0.795609 2.683901 -1.55874 2.12132 -2.12132 \nC 1.55874 -2.683901 0.795609 -3 0 -3 \nC -0.795609 -3 -1.55874 -2.683901 -2.12132 -2.12132 \nC -2.683901 -1.55874 -3 -0.795609 -3 0 \nC -3 0.795609 -2.683901 1.55874 -2.12132 2.12132 \nC -1.55874 2.683901 -0.795609 3 0 3 \nz\n\" style=\"stroke: #1f77b4\"/>\n    </defs>\n    <g clip-path=\"url(#p088598254b)\">\n     <use xlink:href=\"#mb0bf1b53d8\" x=\"186.849188\" y=\"212.079002\" style=\"fill: #1f77b4; stroke: #1f77b4\"/>\n     <use xlink:href=\"#mb0bf1b53d8\" x=\"190.568501\" y=\"233.757783\" style=\"fill: #1f77b4; stroke: #1f77b4\"/>\n     <use xlink:href=\"#mb0bf1b53d8\" x=\"249.423193\" y=\"188.178337\" style=\"fill: #1f77b4; stroke: #1f77b4\"/>\n     <use xlink:href=\"#mb0bf1b53d8\" x=\"117.463224\" y=\"245.39282\" style=\"fill: #1f77b4; stroke: #1f77b4\"/>\n     <use xlink:href=\"#mb0bf1b53d8\" x=\"206.757071\" y=\"213.998133\" style=\"fill: #1f77b4; stroke: #1f77b4\"/>\n     <use xlink:href=\"#mb0bf1b53d8\" x=\"162.629027\" y=\"224.540576\" style=\"fill: #1f77b4; stroke: #1f77b4\"/>\n     <use xlink:href=\"#mb0bf1b53d8\" x=\"247.437123\" y=\"179.383987\" style=\"fill: #1f77b4; stroke: #1f77b4\"/>\n     <use xlink:href=\"#mb0bf1b53d8\" x=\"206.727432\" y=\"206.550926\" style=\"fill: #1f77b4; stroke: #1f77b4\"/>\n     <use xlink:href=\"#mb0bf1b53d8\" x=\"181.017051\" y=\"212.532932\" style=\"fill: #1f77b4; stroke: #1f77b4\"/>\n     <use xlink:href=\"#mb0bf1b53d8\" x=\"217.520938\" y=\"212.048543\" style=\"fill: #1f77b4; stroke: #1f77b4\"/>\n     <use xlink:href=\"#mb0bf1b53d8\" x=\"228.271542\" y=\"211.666493\" style=\"fill: #1f77b4; stroke: #1f77b4\"/>\n     <use xlink:href=\"#mb0bf1b53d8\" x=\"160.305466\" y=\"213.614329\" style=\"fill: #1f77b4; stroke: #1f77b4\"/>\n     <use xlink:href=\"#mb0bf1b53d8\" x=\"188.574678\" y=\"225.742323\" style=\"fill: #1f77b4; stroke: #1f77b4\"/>\n     <use xlink:href=\"#mb0bf1b53d8\" x=\"228.428122\" y=\"199.319656\" style=\"fill: #1f77b4; stroke: #1f77b4\"/>\n     <use xlink:href=\"#mb0bf1b53d8\" x=\"146.989272\" y=\"241.516552\" style=\"fill: #1f77b4; stroke: #1f77b4\"/>\n     <use xlink:href=\"#mb0bf1b53d8\" x=\"160.663749\" y=\"231.229359\" style=\"fill: #1f77b4; stroke: #1f77b4\"/>\n     <use xlink:href=\"#mb0bf1b53d8\" x=\"162.301915\" y=\"233.512973\" style=\"fill: #1f77b4; stroke: #1f77b4\"/>\n     <use xlink:href=\"#mb0bf1b53d8\" x=\"289.165209\" y=\"178.892705\" style=\"fill: #1f77b4; stroke: #1f77b4\"/>\n     <use xlink:href=\"#mb0bf1b53d8\" x=\"225.694381\" y=\"198.223734\" style=\"fill: #1f77b4; stroke: #1f77b4\"/>\n     <use xlink:href=\"#mb0bf1b53d8\" x=\"178.326063\" y=\"226.905033\" style=\"fill: #1f77b4; stroke: #1f77b4\"/>\n     <use xlink:href=\"#mb0bf1b53d8\" x=\"277.943655\" y=\"186.703398\" style=\"fill: #1f77b4; stroke: #1f77b4\"/>\n     <use xlink:href=\"#mb0bf1b53d8\" x=\"220.440904\" y=\"205.958129\" style=\"fill: #1f77b4; stroke: #1f77b4\"/>\n     <use xlink:href=\"#mb0bf1b53d8\" x=\"217.749732\" y=\"200.778915\" style=\"fill: #1f77b4; stroke: #1f77b4\"/>\n     <use xlink:href=\"#mb0bf1b53d8\" x=\"195.481519\" y=\"221.462555\" style=\"fill: #1f77b4; stroke: #1f77b4\"/>\n     <use xlink:href=\"#mb0bf1b53d8\" x=\"144.858511\" y=\"246.235979\" style=\"fill: #1f77b4; stroke: #1f77b4\"/>\n     <use xlink:href=\"#mb0bf1b53d8\" x=\"172.800958\" y=\"211.101661\" style=\"fill: #1f77b4; stroke: #1f77b4\"/>\n     <use xlink:href=\"#mb0bf1b53d8\" x=\"186.257429\" y=\"213.981262\" style=\"fill: #1f77b4; stroke: #1f77b4\"/>\n     <use xlink:href=\"#mb0bf1b53d8\" x=\"251.110937\" y=\"196.217271\" style=\"fill: #1f77b4; stroke: #1f77b4\"/>\n     <use xlink:href=\"#mb0bf1b53d8\" x=\"188.993915\" y=\"207.928906\" style=\"fill: #1f77b4; stroke: #1f77b4\"/>\n     <use xlink:href=\"#mb0bf1b53d8\" x=\"274.167534\" y=\"175.557131\" style=\"fill: #1f77b4; stroke: #1f77b4\"/>\n     <use xlink:href=\"#mb0bf1b53d8\" x=\"59.13654\" y=\"278.921739\" style=\"fill: #1f77b4; stroke: #1f77b4\"/>\n     <use xlink:href=\"#mb0bf1b53d8\" x=\"118.637825\" y=\"250.156633\" style=\"fill: #1f77b4; stroke: #1f77b4\"/>\n     <use xlink:href=\"#mb0bf1b53d8\" x=\"234.371959\" y=\"205.672405\" style=\"fill: #1f77b4; stroke: #1f77b4\"/>\n     <use xlink:href=\"#mb0bf1b53d8\" x=\"243.631965\" y=\"195.605614\" style=\"fill: #1f77b4; stroke: #1f77b4\"/>\n     <use xlink:href=\"#mb0bf1b53d8\" x=\"186.644286\" y=\"222.284798\" style=\"fill: #1f77b4; stroke: #1f77b4\"/>\n     <use xlink:href=\"#mb0bf1b53d8\" x=\"216.372649\" y=\"214.253691\" style=\"fill: #1f77b4; stroke: #1f77b4\"/>\n     <use xlink:href=\"#mb0bf1b53d8\" x=\"265.859747\" y=\"180.751962\" style=\"fill: #1f77b4; stroke: #1f77b4\"/>\n     <use xlink:href=\"#mb0bf1b53d8\" x=\"157.583484\" y=\"231.162101\" style=\"fill: #1f77b4; stroke: #1f77b4\"/>\n     <use xlink:href=\"#mb0bf1b53d8\" x=\"102.109425\" y=\"254.972779\" style=\"fill: #1f77b4; stroke: #1f77b4\"/>\n     <use xlink:href=\"#mb0bf1b53d8\" x=\"208.995828\" y=\"207.056653\" style=\"fill: #1f77b4; stroke: #1f77b4\"/>\n     <use xlink:href=\"#mb0bf1b53d8\" x=\"223.383863\" y=\"204.754129\" style=\"fill: #1f77b4; stroke: #1f77b4\"/>\n     <use xlink:href=\"#mb0bf1b53d8\" x=\"185.331608\" y=\"209.470178\" style=\"fill: #1f77b4; stroke: #1f77b4\"/>\n     <use xlink:href=\"#mb0bf1b53d8\" x=\"140.619916\" y=\"236.02471\" style=\"fill: #1f77b4; stroke: #1f77b4\"/>\n     <use xlink:href=\"#mb0bf1b53d8\" x=\"170.99485\" y=\"226.418925\" style=\"fill: #1f77b4; stroke: #1f77b4\"/>\n     <use xlink:href=\"#mb0bf1b53d8\" x=\"174.765213\" y=\"230.001884\" style=\"fill: #1f77b4; stroke: #1f77b4\"/>\n     <use xlink:href=\"#mb0bf1b53d8\" x=\"143.837507\" y=\"238.219917\" style=\"fill: #1f77b4; stroke: #1f77b4\"/>\n     <use xlink:href=\"#mb0bf1b53d8\" x=\"215.346504\" y=\"214.932086\" style=\"fill: #1f77b4; stroke: #1f77b4\"/>\n     <use xlink:href=\"#mb0bf1b53d8\" x=\"200.989183\" y=\"206.15459\" style=\"fill: #1f77b4; stroke: #1f77b4\"/>\n     <use xlink:href=\"#mb0bf1b53d8\" x=\"187.226045\" y=\"217.93733\" style=\"fill: #1f77b4; stroke: #1f77b4\"/>\n     <use xlink:href=\"#mb0bf1b53d8\" x=\"219.320704\" y=\"206.098146\" style=\"fill: #1f77b4; stroke: #1f77b4\"/>\n     <use xlink:href=\"#mb0bf1b53d8\" x=\"117.753164\" y=\"255.516682\" style=\"fill: #1f77b4; stroke: #1f77b4\"/>\n     <use xlink:href=\"#mb0bf1b53d8\" x=\"278.564016\" y=\"192.107707\" style=\"fill: #1f77b4; stroke: #1f77b4\"/>\n     <use xlink:href=\"#mb0bf1b53d8\" x=\"208.35805\" y=\"216.099004\" style=\"fill: #1f77b4; stroke: #1f77b4\"/>\n     <use xlink:href=\"#mb0bf1b53d8\" x=\"237.665155\" y=\"193.365842\" style=\"fill: #1f77b4; stroke: #1f77b4\"/>\n     <use xlink:href=\"#mb0bf1b53d8\" x=\"133.691273\" y=\"234.640369\" style=\"fill: #1f77b4; stroke: #1f77b4\"/>\n     <use xlink:href=\"#mb0bf1b53d8\" x=\"176.694653\" y=\"228.032161\" style=\"fill: #1f77b4; stroke: #1f77b4\"/>\n     <use xlink:href=\"#mb0bf1b53d8\" x=\"199.993392\" y=\"223.493481\" style=\"fill: #1f77b4; stroke: #1f77b4\"/>\n     <use xlink:href=\"#mb0bf1b53d8\" x=\"150.077049\" y=\"228.925627\" style=\"fill: #1f77b4; stroke: #1f77b4\"/>\n     <use xlink:href=\"#mb0bf1b53d8\" x=\"87.832924\" y=\"265.892966\" style=\"fill: #1f77b4; stroke: #1f77b4\"/>\n     <use xlink:href=\"#mb0bf1b53d8\" x=\"56.463068\" y=\"278.611239\" style=\"fill: #1f77b4; stroke: #1f77b4\"/>\n     <use xlink:href=\"#mb0bf1b53d8\" x=\"169.419932\" y=\"214.046505\" style=\"fill: #1f77b4; stroke: #1f77b4\"/>\n     <use xlink:href=\"#mb0bf1b53d8\" x=\"242.787531\" y=\"198.042028\" style=\"fill: #1f77b4; stroke: #1f77b4\"/>\n     <use xlink:href=\"#mb0bf1b53d8\" x=\"188.122758\" y=\"240.279734\" style=\"fill: #1f77b4; stroke: #1f77b4\"/>\n     <use xlink:href=\"#mb0bf1b53d8\" x=\"168.166064\" y=\"235.396467\" style=\"fill: #1f77b4; stroke: #1f77b4\"/>\n     <use xlink:href=\"#mb0bf1b53d8\" x=\"177.147372\" y=\"223.842519\" style=\"fill: #1f77b4; stroke: #1f77b4\"/>\n     <use xlink:href=\"#mb0bf1b53d8\" x=\"158.609763\" y=\"235.038466\" style=\"fill: #1f77b4; stroke: #1f77b4\"/>\n     <use xlink:href=\"#mb0bf1b53d8\" x=\"306.49677\" y=\"171.805091\" style=\"fill: #1f77b4; stroke: #1f77b4\"/>\n     <use xlink:href=\"#mb0bf1b53d8\" x=\"257.958522\" y=\"197.087022\" style=\"fill: #1f77b4; stroke: #1f77b4\"/>\n     <use xlink:href=\"#mb0bf1b53d8\" x=\"310.099432\" y=\"173.553486\" style=\"fill: #1f77b4; stroke: #1f77b4\"/>\n     <use xlink:href=\"#mb0bf1b53d8\" x=\"310.072907\" y=\"169.356522\" style=\"fill: #1f77b4; stroke: #1f77b4\"/>\n     <use xlink:href=\"#mb0bf1b53d8\" x=\"167.788316\" y=\"229.682784\" style=\"fill: #1f77b4; stroke: #1f77b4\"/>\n     <use xlink:href=\"#mb0bf1b53d8\" x=\"101.824623\" y=\"259.873544\" style=\"fill: #1f77b4; stroke: #1f77b4\"/>\n     <use xlink:href=\"#mb0bf1b53d8\" x=\"239.516733\" y=\"201.641088\" style=\"fill: #1f77b4; stroke: #1f77b4\"/>\n     <use xlink:href=\"#mb0bf1b53d8\" x=\"308.102909\" y=\"175.75417\" style=\"fill: #1f77b4; stroke: #1f77b4\"/>\n     <use xlink:href=\"#mb0bf1b53d8\" x=\"134.729662\" y=\"233.394277\" style=\"fill: #1f77b4; stroke: #1f77b4\"/>\n     <use xlink:href=\"#mb0bf1b53d8\" x=\"224.457524\" y=\"200.309102\" style=\"fill: #1f77b4; stroke: #1f77b4\"/>\n     <use xlink:href=\"#mb0bf1b53d8\" x=\"133.058128\" y=\"244.003658\" style=\"fill: #1f77b4; stroke: #1f77b4\"/>\n     <use xlink:href=\"#mb0bf1b53d8\" x=\"113.67394\" y=\"240.010948\" style=\"fill: #1f77b4; stroke: #1f77b4\"/>\n     <use xlink:href=\"#mb0bf1b53d8\" x=\"177.957278\" y=\"221.703231\" style=\"fill: #1f77b4; stroke: #1f77b4\"/>\n     <use xlink:href=\"#mb0bf1b53d8\" x=\"203.299793\" y=\"221.136899\" style=\"fill: #1f77b4; stroke: #1f77b4\"/>\n     <use xlink:href=\"#mb0bf1b53d8\" x=\"198.74824\" y=\"215.859921\" style=\"fill: #1f77b4; stroke: #1f77b4\"/>\n     <use xlink:href=\"#mb0bf1b53d8\" x=\"155.366468\" y=\"231.438866\" style=\"fill: #1f77b4; stroke: #1f77b4\"/>\n     <use xlink:href=\"#mb0bf1b53d8\" x=\"207.875536\" y=\"199.054278\" style=\"fill: #1f77b4; stroke: #1f77b4\"/>\n     <use xlink:href=\"#mb0bf1b53d8\" x=\"200.051077\" y=\"203.518614\" style=\"fill: #1f77b4; stroke: #1f77b4\"/>\n     <use xlink:href=\"#mb0bf1b53d8\" x=\"203.643229\" y=\"203.831035\" style=\"fill: #1f77b4; stroke: #1f77b4\"/>\n     <use xlink:href=\"#mb0bf1b53d8\" x=\"120.549508\" y=\"237.843239\" style=\"fill: #1f77b4; stroke: #1f77b4\"/>\n     <use xlink:href=\"#mb0bf1b53d8\" x=\"245.220213\" y=\"182.393762\" style=\"fill: #1f77b4; stroke: #1f77b4\"/>\n     <use xlink:href=\"#mb0bf1b53d8\" x=\"175.004389\" y=\"220.56505\" style=\"fill: #1f77b4; stroke: #1f77b4\"/>\n     <use xlink:href=\"#mb0bf1b53d8\" x=\"143.329378\" y=\"237.179483\" style=\"fill: #1f77b4; stroke: #1f77b4\"/>\n     <use xlink:href=\"#mb0bf1b53d8\" x=\"257.149898\" y=\"192.30406\" style=\"fill: #1f77b4; stroke: #1f77b4\"/>\n     <use xlink:href=\"#mb0bf1b53d8\" x=\"251.677576\" y=\"191.917495\" style=\"fill: #1f77b4; stroke: #1f77b4\"/>\n     <use xlink:href=\"#mb0bf1b53d8\" x=\"277.497206\" y=\"186.701491\" style=\"fill: #1f77b4; stroke: #1f77b4\"/>\n     <use xlink:href=\"#mb0bf1b53d8\" x=\"190.049296\" y=\"202.806931\" style=\"fill: #1f77b4; stroke: #1f77b4\"/>\n     <use xlink:href=\"#mb0bf1b53d8\" x=\"289.94963\" y=\"172.549087\" style=\"fill: #1f77b4; stroke: #1f77b4\"/>\n     <use xlink:href=\"#mb0bf1b53d8\" x=\"192.197778\" y=\"206.477347\" style=\"fill: #1f77b4; stroke: #1f77b4\"/>\n     <use xlink:href=\"#mb0bf1b53d8\" x=\"186.19122\" y=\"230.567371\" style=\"fill: #1f77b4; stroke: #1f77b4\"/>\n     <use xlink:href=\"#mb0bf1b53d8\" x=\"174.211228\" y=\"245.030251\" style=\"fill: #1f77b4; stroke: #1f77b4\"/>\n     <use xlink:href=\"#mb0bf1b53d8\" x=\"258.301066\" y=\"195.76066\" style=\"fill: #1f77b4; stroke: #1f77b4\"/>\n     <use xlink:href=\"#mb0bf1b53d8\" x=\"272.506662\" y=\"196.245137\" style=\"fill: #1f77b4; stroke: #1f77b4\"/>\n     <use xlink:href=\"#mb0bf1b53d8\" x=\"199.581783\" y=\"223.294229\" style=\"fill: #1f77b4; stroke: #1f77b4\"/>\n    </g>\n   </g>\n   <g id=\"PathCollection_2\">\n    <defs>\n     <path id=\"me0baf5e53a\" d=\"M 0 3 \nC 0.795609 3 1.55874 2.683901 2.12132 2.12132 \nC 2.683901 1.55874 3 0.795609 3 0 \nC 3 -0.795609 2.683901 -1.55874 2.12132 -2.12132 \nC 1.55874 -2.683901 0.795609 -3 0 -3 \nC -0.795609 -3 -1.55874 -2.683901 -2.12132 -2.12132 \nC -2.683901 -1.55874 -3 -0.795609 -3 0 \nC -3 0.795609 -2.683901 1.55874 -2.12132 2.12132 \nC -1.55874 2.683901 -0.795609 3 0 3 \nz\n\" style=\"stroke: #ff7f0e\"/>\n    </defs>\n    <g clip-path=\"url(#p088598254b)\">\n     <use xlink:href=\"#me0baf5e53a\" x=\"120.093597\" y=\"242.560367\" style=\"fill: #ff7f0e; stroke: #ff7f0e\"/>\n     <use xlink:href=\"#me0baf5e53a\" x=\"116.440451\" y=\"248.381434\" style=\"fill: #ff7f0e; stroke: #ff7f0e\"/>\n     <use xlink:href=\"#me0baf5e53a\" x=\"183.322141\" y=\"231.779113\" style=\"fill: #ff7f0e; stroke: #ff7f0e\"/>\n     <use xlink:href=\"#me0baf5e53a\" x=\"239.109583\" y=\"198.900398\" style=\"fill: #ff7f0e; stroke: #ff7f0e\"/>\n     <use xlink:href=\"#me0baf5e53a\" x=\"193.454324\" y=\"221.706155\" style=\"fill: #ff7f0e; stroke: #ff7f0e\"/>\n     <use xlink:href=\"#me0baf5e53a\" x=\"180.635173\" y=\"229.69564\" style=\"fill: #ff7f0e; stroke: #ff7f0e\"/>\n     <use xlink:href=\"#me0baf5e53a\" x=\"129.699745\" y=\"247.779675\" style=\"fill: #ff7f0e; stroke: #ff7f0e\"/>\n     <use xlink:href=\"#me0baf5e53a\" x=\"150.749557\" y=\"232.044485\" style=\"fill: #ff7f0e; stroke: #ff7f0e\"/>\n     <use xlink:href=\"#me0baf5e53a\" x=\"182.813237\" y=\"232.147045\" style=\"fill: #ff7f0e; stroke: #ff7f0e\"/>\n     <use xlink:href=\"#me0baf5e53a\" x=\"172.976943\" y=\"221.147489\" style=\"fill: #ff7f0e; stroke: #ff7f0e\"/>\n     <use xlink:href=\"#me0baf5e53a\" x=\"211.50202\" y=\"214.049527\" style=\"fill: #ff7f0e; stroke: #ff7f0e\"/>\n     <use xlink:href=\"#me0baf5e53a\" x=\"133.862549\" y=\"248.403934\" style=\"fill: #ff7f0e; stroke: #ff7f0e\"/>\n     <use xlink:href=\"#me0baf5e53a\" x=\"174.599801\" y=\"227.303872\" style=\"fill: #ff7f0e; stroke: #ff7f0e\"/>\n     <use xlink:href=\"#me0baf5e53a\" x=\"184.183398\" y=\"226.853523\" style=\"fill: #ff7f0e; stroke: #ff7f0e\"/>\n     <use xlink:href=\"#me0baf5e53a\" x=\"156.600723\" y=\"244.680621\" style=\"fill: #ff7f0e; stroke: #ff7f0e\"/>\n     <use xlink:href=\"#me0baf5e53a\" x=\"152.408477\" y=\"235.771859\" style=\"fill: #ff7f0e; stroke: #ff7f0e\"/>\n     <use xlink:href=\"#me0baf5e53a\" x=\"159.906739\" y=\"231.158701\" style=\"fill: #ff7f0e; stroke: #ff7f0e\"/>\n     <use xlink:href=\"#me0baf5e53a\" x=\"176.471715\" y=\"222.799837\" style=\"fill: #ff7f0e; stroke: #ff7f0e\"/>\n     <use xlink:href=\"#me0baf5e53a\" x=\"129.668114\" y=\"238.965881\" style=\"fill: #ff7f0e; stroke: #ff7f0e\"/>\n     <use xlink:href=\"#me0baf5e53a\" x=\"135.858916\" y=\"250.013495\" style=\"fill: #ff7f0e; stroke: #ff7f0e\"/>\n     <use xlink:href=\"#me0baf5e53a\" x=\"232.853944\" y=\"204.541135\" style=\"fill: #ff7f0e; stroke: #ff7f0e\"/>\n     <use xlink:href=\"#me0baf5e53a\" x=\"183.141655\" y=\"223.203751\" style=\"fill: #ff7f0e; stroke: #ff7f0e\"/>\n     <use xlink:href=\"#me0baf5e53a\" x=\"138.230124\" y=\"246.823669\" style=\"fill: #ff7f0e; stroke: #ff7f0e\"/>\n     <use xlink:href=\"#me0baf5e53a\" x=\"198.79153\" y=\"213.635093\" style=\"fill: #ff7f0e; stroke: #ff7f0e\"/>\n     <use xlink:href=\"#me0baf5e53a\" x=\"143.903975\" y=\"242.173857\" style=\"fill: #ff7f0e; stroke: #ff7f0e\"/>\n     <use xlink:href=\"#me0baf5e53a\" x=\"73.48625\" y=\"267.24939\" style=\"fill: #ff7f0e; stroke: #ff7f0e\"/>\n     <use xlink:href=\"#me0baf5e53a\" x=\"210.753536\" y=\"222.048271\" style=\"fill: #ff7f0e; stroke: #ff7f0e\"/>\n     <use xlink:href=\"#me0baf5e53a\" x=\"136.868296\" y=\"235.79493\" style=\"fill: #ff7f0e; stroke: #ff7f0e\"/>\n     <use xlink:href=\"#me0baf5e53a\" x=\"196.303102\" y=\"227.329847\" style=\"fill: #ff7f0e; stroke: #ff7f0e\"/>\n     <use xlink:href=\"#me0baf5e53a\" x=\"79.217684\" y=\"270.869968\" style=\"fill: #ff7f0e; stroke: #ff7f0e\"/>\n     <use xlink:href=\"#me0baf5e53a\" x=\"202.530715\" y=\"229.342044\" style=\"fill: #ff7f0e; stroke: #ff7f0e\"/>\n     <use xlink:href=\"#me0baf5e53a\" x=\"185.349117\" y=\"215.290646\" style=\"fill: #ff7f0e; stroke: #ff7f0e\"/>\n     <use xlink:href=\"#me0baf5e53a\" x=\"238.192368\" y=\"202.754414\" style=\"fill: #ff7f0e; stroke: #ff7f0e\"/>\n     <use xlink:href=\"#me0baf5e53a\" x=\"189.592897\" y=\"220.744726\" style=\"fill: #ff7f0e; stroke: #ff7f0e\"/>\n     <use xlink:href=\"#me0baf5e53a\" x=\"185.054948\" y=\"223.019775\" style=\"fill: #ff7f0e; stroke: #ff7f0e\"/>\n     <use xlink:href=\"#me0baf5e53a\" x=\"167.959227\" y=\"233.673643\" style=\"fill: #ff7f0e; stroke: #ff7f0e\"/>\n     <use xlink:href=\"#me0baf5e53a\" x=\"174.136172\" y=\"232.831668\" style=\"fill: #ff7f0e; stroke: #ff7f0e\"/>\n     <use xlink:href=\"#me0baf5e53a\" x=\"167.733447\" y=\"226.769197\" style=\"fill: #ff7f0e; stroke: #ff7f0e\"/>\n     <use xlink:href=\"#me0baf5e53a\" x=\"207.195148\" y=\"225.435858\" style=\"fill: #ff7f0e; stroke: #ff7f0e\"/>\n     <use xlink:href=\"#me0baf5e53a\" x=\"140.081822\" y=\"246.052498\" style=\"fill: #ff7f0e; stroke: #ff7f0e\"/>\n     <use xlink:href=\"#me0baf5e53a\" x=\"273.425137\" y=\"182.245588\" style=\"fill: #ff7f0e; stroke: #ff7f0e\"/>\n     <use xlink:href=\"#me0baf5e53a\" x=\"169.005584\" y=\"235.219509\" style=\"fill: #ff7f0e; stroke: #ff7f0e\"/>\n     <use xlink:href=\"#me0baf5e53a\" x=\"126.546232\" y=\"246.078791\" style=\"fill: #ff7f0e; stroke: #ff7f0e\"/>\n     <use xlink:href=\"#me0baf5e53a\" x=\"188.946641\" y=\"227.794333\" style=\"fill: #ff7f0e; stroke: #ff7f0e\"/>\n     <use xlink:href=\"#me0baf5e53a\" x=\"162.866575\" y=\"241.832407\" style=\"fill: #ff7f0e; stroke: #ff7f0e\"/>\n     <use xlink:href=\"#me0baf5e53a\" x=\"227.882233\" y=\"203.413134\" style=\"fill: #ff7f0e; stroke: #ff7f0e\"/>\n     <use xlink:href=\"#me0baf5e53a\" x=\"191.56437\" y=\"215.150039\" style=\"fill: #ff7f0e; stroke: #ff7f0e\"/>\n     <use xlink:href=\"#me0baf5e53a\" x=\"151.442274\" y=\"237.028675\" style=\"fill: #ff7f0e; stroke: #ff7f0e\"/>\n     <use xlink:href=\"#me0baf5e53a\" x=\"178.755676\" y=\"228.05037\" style=\"fill: #ff7f0e; stroke: #ff7f0e\"/>\n     <use xlink:href=\"#me0baf5e53a\" x=\"207.081108\" y=\"217.935607\" style=\"fill: #ff7f0e; stroke: #ff7f0e\"/>\n     <use xlink:href=\"#me0baf5e53a\" x=\"172.733184\" y=\"235.850041\" style=\"fill: #ff7f0e; stroke: #ff7f0e\"/>\n     <use xlink:href=\"#me0baf5e53a\" x=\"161.178078\" y=\"229.117282\" style=\"fill: #ff7f0e; stroke: #ff7f0e\"/>\n     <use xlink:href=\"#me0baf5e53a\" x=\"197.254428\" y=\"220.138081\" style=\"fill: #ff7f0e; stroke: #ff7f0e\"/>\n     <use xlink:href=\"#me0baf5e53a\" x=\"211.019308\" y=\"212.375929\" style=\"fill: #ff7f0e; stroke: #ff7f0e\"/>\n     <use xlink:href=\"#me0baf5e53a\" x=\"226.700767\" y=\"204.494798\" style=\"fill: #ff7f0e; stroke: #ff7f0e\"/>\n     <use xlink:href=\"#me0baf5e53a\" x=\"168.564733\" y=\"233.084961\" style=\"fill: #ff7f0e; stroke: #ff7f0e\"/>\n     <use xlink:href=\"#me0baf5e53a\" x=\"154.481168\" y=\"228.049348\" style=\"fill: #ff7f0e; stroke: #ff7f0e\"/>\n     <use xlink:href=\"#me0baf5e53a\" x=\"177.379464\" y=\"223.56449\" style=\"fill: #ff7f0e; stroke: #ff7f0e\"/>\n     <use xlink:href=\"#me0baf5e53a\" x=\"241.479322\" y=\"201.446256\" style=\"fill: #ff7f0e; stroke: #ff7f0e\"/>\n     <use xlink:href=\"#me0baf5e53a\" x=\"145.228224\" y=\"232.413538\" style=\"fill: #ff7f0e; stroke: #ff7f0e\"/>\n     <use xlink:href=\"#me0baf5e53a\" x=\"170.252141\" y=\"228.602678\" style=\"fill: #ff7f0e; stroke: #ff7f0e\"/>\n     <use xlink:href=\"#me0baf5e53a\" x=\"252.846069\" y=\"187.359593\" style=\"fill: #ff7f0e; stroke: #ff7f0e\"/>\n     <use xlink:href=\"#me0baf5e53a\" x=\"119.655658\" y=\"249.097523\" style=\"fill: #ff7f0e; stroke: #ff7f0e\"/>\n     <use xlink:href=\"#me0baf5e53a\" x=\"187.387147\" y=\"215.496163\" style=\"fill: #ff7f0e; stroke: #ff7f0e\"/>\n     <use xlink:href=\"#me0baf5e53a\" x=\"243.738404\" y=\"200.43587\" style=\"fill: #ff7f0e; stroke: #ff7f0e\"/>\n     <use xlink:href=\"#me0baf5e53a\" x=\"199.351467\" y=\"211.55462\" style=\"fill: #ff7f0e; stroke: #ff7f0e\"/>\n     <use xlink:href=\"#me0baf5e53a\" x=\"113.638672\" y=\"261.977817\" style=\"fill: #ff7f0e; stroke: #ff7f0e\"/>\n     <use xlink:href=\"#me0baf5e53a\" x=\"193.5375\" y=\"216.740979\" style=\"fill: #ff7f0e; stroke: #ff7f0e\"/>\n     <use xlink:href=\"#me0baf5e53a\" x=\"200.571927\" y=\"219.5439\" style=\"fill: #ff7f0e; stroke: #ff7f0e\"/>\n     <use xlink:href=\"#me0baf5e53a\" x=\"294.542316\" y=\"178.6441\" style=\"fill: #ff7f0e; stroke: #ff7f0e\"/>\n     <use xlink:href=\"#me0baf5e53a\" x=\"153.973062\" y=\"237.314609\" style=\"fill: #ff7f0e; stroke: #ff7f0e\"/>\n     <use xlink:href=\"#me0baf5e53a\" x=\"162.024738\" y=\"236.972441\" style=\"fill: #ff7f0e; stroke: #ff7f0e\"/>\n     <use xlink:href=\"#me0baf5e53a\" x=\"128.452576\" y=\"239.702236\" style=\"fill: #ff7f0e; stroke: #ff7f0e\"/>\n     <use xlink:href=\"#me0baf5e53a\" x=\"214.834819\" y=\"220.163945\" style=\"fill: #ff7f0e; stroke: #ff7f0e\"/>\n     <use xlink:href=\"#me0baf5e53a\" x=\"216.799297\" y=\"224.791121\" style=\"fill: #ff7f0e; stroke: #ff7f0e\"/>\n     <use xlink:href=\"#me0baf5e53a\" x=\"231.309525\" y=\"201.167336\" style=\"fill: #ff7f0e; stroke: #ff7f0e\"/>\n     <use xlink:href=\"#me0baf5e53a\" x=\"164.168701\" y=\"237.457975\" style=\"fill: #ff7f0e; stroke: #ff7f0e\"/>\n     <use xlink:href=\"#me0baf5e53a\" x=\"275.698217\" y=\"192.469286\" style=\"fill: #ff7f0e; stroke: #ff7f0e\"/>\n     <use xlink:href=\"#me0baf5e53a\" x=\"201.841799\" y=\"219.187074\" style=\"fill: #ff7f0e; stroke: #ff7f0e\"/>\n     <use xlink:href=\"#me0baf5e53a\" x=\"148.31862\" y=\"236.612597\" style=\"fill: #ff7f0e; stroke: #ff7f0e\"/>\n     <use xlink:href=\"#me0baf5e53a\" x=\"130.697433\" y=\"248.018406\" style=\"fill: #ff7f0e; stroke: #ff7f0e\"/>\n     <use xlink:href=\"#me0baf5e53a\" x=\"131.395557\" y=\"232.855168\" style=\"fill: #ff7f0e; stroke: #ff7f0e\"/>\n     <use xlink:href=\"#me0baf5e53a\" x=\"138.906967\" y=\"237.428648\" style=\"fill: #ff7f0e; stroke: #ff7f0e\"/>\n     <use xlink:href=\"#me0baf5e53a\" x=\"131.895558\" y=\"236.979536\" style=\"fill: #ff7f0e; stroke: #ff7f0e\"/>\n     <use xlink:href=\"#me0baf5e53a\" x=\"159.879731\" y=\"230.460127\" style=\"fill: #ff7f0e; stroke: #ff7f0e\"/>\n     <use xlink:href=\"#me0baf5e53a\" x=\"148.633113\" y=\"236.198421\" style=\"fill: #ff7f0e; stroke: #ff7f0e\"/>\n     <use xlink:href=\"#me0baf5e53a\" x=\"143.111267\" y=\"248.081056\" style=\"fill: #ff7f0e; stroke: #ff7f0e\"/>\n     <use xlink:href=\"#me0baf5e53a\" x=\"208.938242\" y=\"207.530408\" style=\"fill: #ff7f0e; stroke: #ff7f0e\"/>\n     <use xlink:href=\"#me0baf5e53a\" x=\"228.323643\" y=\"207.364438\" style=\"fill: #ff7f0e; stroke: #ff7f0e\"/>\n     <use xlink:href=\"#me0baf5e53a\" x=\"221.223308\" y=\"213.996386\" style=\"fill: #ff7f0e; stroke: #ff7f0e\"/>\n     <use xlink:href=\"#me0baf5e53a\" x=\"176.755791\" y=\"234.580327\" style=\"fill: #ff7f0e; stroke: #ff7f0e\"/>\n     <use xlink:href=\"#me0baf5e53a\" x=\"214.347103\" y=\"199.146473\" style=\"fill: #ff7f0e; stroke: #ff7f0e\"/>\n     <use xlink:href=\"#me0baf5e53a\" x=\"127.523146\" y=\"241.215187\" style=\"fill: #ff7f0e; stroke: #ff7f0e\"/>\n     <use xlink:href=\"#me0baf5e53a\" x=\"180.341907\" y=\"215.646868\" style=\"fill: #ff7f0e; stroke: #ff7f0e\"/>\n     <use xlink:href=\"#me0baf5e53a\" x=\"137.373966\" y=\"231.574721\" style=\"fill: #ff7f0e; stroke: #ff7f0e\"/>\n     <use xlink:href=\"#me0baf5e53a\" x=\"199.335862\" y=\"218.148649\" style=\"fill: #ff7f0e; stroke: #ff7f0e\"/>\n     <use xlink:href=\"#me0baf5e53a\" x=\"101.99582\" y=\"261.003658\" style=\"fill: #ff7f0e; stroke: #ff7f0e\"/>\n     <use xlink:href=\"#me0baf5e53a\" x=\"208.098181\" y=\"213.536537\" style=\"fill: #ff7f0e; stroke: #ff7f0e\"/>\n     <use xlink:href=\"#me0baf5e53a\" x=\"141.28547\" y=\"243.894288\" style=\"fill: #ff7f0e; stroke: #ff7f0e\"/>\n     <use xlink:href=\"#me0baf5e53a\" x=\"186.21554\" y=\"220.984357\" style=\"fill: #ff7f0e; stroke: #ff7f0e\"/>\n    </g>\n   </g>\n   <g id=\"matplotlib.axis_3\">\n    <g id=\"xtick_9\">\n     <g id=\"line2d_33\">\n      <g>\n       <use xlink:href=\"#m16d018c7b6\" x=\"73.481455\" y=\"284.4\" style=\"stroke: #000000; stroke-width: 0.8\"/>\n      </g>\n     </g>\n     <g id=\"text_19\">\n      <!-- −1 -->\n      <g transform=\"translate(66.110362 298.998438) scale(0.1 -0.1)\">\n       <defs>\n        <path id=\"DejaVuSans-2212\" d=\"M 678 2272 \nL 4684 2272 \nL 4684 1741 \nL 678 1741 \nL 678 2272 \nz\n\" transform=\"scale(0.015625)\"/>\n       </defs>\n       <use xlink:href=\"#DejaVuSans-2212\"/>\n       <use xlink:href=\"#DejaVuSans-31\" x=\"83.789062\"/>\n      </g>\n     </g>\n    </g>\n    <g id=\"xtick_10\">\n     <g id=\"line2d_34\">\n      <g>\n       <use xlink:href=\"#m16d018c7b6\" x=\"132.848127\" y=\"284.4\" style=\"stroke: #000000; stroke-width: 0.8\"/>\n      </g>\n     </g>\n     <g id=\"text_20\">\n      <!-- 0 -->\n      <g transform=\"translate(129.666877 298.998438) scale(0.1 -0.1)\">\n       <use xlink:href=\"#DejaVuSans-30\"/>\n      </g>\n     </g>\n    </g>\n    <g id=\"xtick_11\">\n     <g id=\"line2d_35\">\n      <g>\n       <use xlink:href=\"#m16d018c7b6\" x=\"192.214798\" y=\"284.4\" style=\"stroke: #000000; stroke-width: 0.8\"/>\n      </g>\n     </g>\n     <g id=\"text_21\">\n      <!-- 1 -->\n      <g transform=\"translate(189.033548 298.998438) scale(0.1 -0.1)\">\n       <use xlink:href=\"#DejaVuSans-31\"/>\n      </g>\n     </g>\n    </g>\n    <g id=\"xtick_12\">\n     <g id=\"line2d_36\">\n      <g>\n       <use xlink:href=\"#m16d018c7b6\" x=\"251.58147\" y=\"284.4\" style=\"stroke: #000000; stroke-width: 0.8\"/>\n      </g>\n     </g>\n     <g id=\"text_22\">\n      <!-- 2 -->\n      <g transform=\"translate(248.40022 298.998438) scale(0.1 -0.1)\">\n       <use xlink:href=\"#DejaVuSans-32\"/>\n      </g>\n     </g>\n    </g>\n    <g id=\"xtick_13\">\n     <g id=\"line2d_37\">\n      <g>\n       <use xlink:href=\"#m16d018c7b6\" x=\"310.948141\" y=\"284.4\" style=\"stroke: #000000; stroke-width: 0.8\"/>\n      </g>\n     </g>\n     <g id=\"text_23\">\n      <!-- 3 -->\n      <g transform=\"translate(307.766891 298.998438) scale(0.1 -0.1)\">\n       <defs>\n        <path id=\"DejaVuSans-33\" d=\"M 2597 2516 \nQ 3050 2419 3304 2112 \nQ 3559 1806 3559 1356 \nQ 3559 666 3084 287 \nQ 2609 -91 1734 -91 \nQ 1441 -91 1130 -33 \nQ 819 25 488 141 \nL 488 750 \nQ 750 597 1062 519 \nQ 1375 441 1716 441 \nQ 2309 441 2620 675 \nQ 2931 909 2931 1356 \nQ 2931 1769 2642 2001 \nQ 2353 2234 1838 2234 \nL 1294 2234 \nL 1294 2753 \nL 1863 2753 \nQ 2328 2753 2575 2939 \nQ 2822 3125 2822 3475 \nQ 2822 3834 2567 4026 \nQ 2313 4219 1838 4219 \nQ 1578 4219 1281 4162 \nQ 984 4106 628 3988 \nL 628 4550 \nQ 988 4650 1302 4700 \nQ 1616 4750 1894 4750 \nQ 2613 4750 3031 4423 \nQ 3450 4097 3450 3541 \nQ 3450 3153 3228 2886 \nQ 3006 2619 2597 2516 \nz\n\" transform=\"scale(0.015625)\"/>\n       </defs>\n       <use xlink:href=\"#DejaVuSans-33\"/>\n      </g>\n     </g>\n    </g>\n   </g>\n   <g id=\"matplotlib.axis_4\">\n    <g id=\"ytick_7\">\n     <g id=\"line2d_38\">\n      <g>\n       <use xlink:href=\"#mc30673aa29\" x=\"43.78125\" y=\"265.844345\" style=\"stroke: #000000; stroke-width: 0.8\"/>\n      </g>\n     </g>\n     <g id=\"text_24\">\n      <!-- −2 -->\n      <g transform=\"translate(22.039063 269.643563) scale(0.1 -0.1)\">\n       <use xlink:href=\"#DejaVuSans-2212\"/>\n       <use xlink:href=\"#DejaVuSans-32\" x=\"83.789062\"/>\n      </g>\n     </g>\n    </g>\n    <g id=\"ytick_8\">\n     <g id=\"line2d_39\">\n      <g>\n       <use xlink:href=\"#mc30673aa29\" x=\"43.78125\" y=\"242.042664\" style=\"stroke: #000000; stroke-width: 0.8\"/>\n      </g>\n     </g>\n     <g id=\"text_25\">\n      <!-- 0 -->\n      <g transform=\"translate(30.41875 245.841883) scale(0.1 -0.1)\">\n       <use xlink:href=\"#DejaVuSans-30\"/>\n      </g>\n     </g>\n    </g>\n    <g id=\"ytick_9\">\n     <g id=\"line2d_40\">\n      <g>\n       <use xlink:href=\"#mc30673aa29\" x=\"43.78125\" y=\"218.240983\" style=\"stroke: #000000; stroke-width: 0.8\"/>\n      </g>\n     </g>\n     <g id=\"text_26\">\n      <!-- 2 -->\n      <g transform=\"translate(30.41875 222.040202) scale(0.1 -0.1)\">\n       <use xlink:href=\"#DejaVuSans-32\"/>\n      </g>\n     </g>\n    </g>\n    <g id=\"ytick_10\">\n     <g id=\"line2d_41\">\n      <g>\n       <use xlink:href=\"#mc30673aa29\" x=\"43.78125\" y=\"194.439303\" style=\"stroke: #000000; stroke-width: 0.8\"/>\n      </g>\n     </g>\n     <g id=\"text_27\">\n      <!-- 4 -->\n      <g transform=\"translate(30.41875 198.238522) scale(0.1 -0.1)\">\n       <use xlink:href=\"#DejaVuSans-34\"/>\n      </g>\n     </g>\n    </g>\n    <g id=\"ytick_11\">\n     <g id=\"line2d_42\">\n      <g>\n       <use xlink:href=\"#mc30673aa29\" x=\"43.78125\" y=\"170.637622\" style=\"stroke: #000000; stroke-width: 0.8\"/>\n      </g>\n     </g>\n     <g id=\"text_28\">\n      <!-- 6 -->\n      <g transform=\"translate(30.41875 174.436841) scale(0.1 -0.1)\">\n       <use xlink:href=\"#DejaVuSans-36\"/>\n      </g>\n     </g>\n    </g>\n   </g>\n   <g id=\"patch_9\">\n    <path d=\"M 43.78125 284.4 \nL 43.78125 163.878261 \n\" style=\"fill: none; stroke: #000000; stroke-width: 0.8; stroke-linejoin: miter; stroke-linecap: square\"/>\n   </g>\n   <g id=\"patch_10\">\n    <path d=\"M 322.78125 284.4 \nL 322.78125 163.878261 \n\" style=\"fill: none; stroke: #000000; stroke-width: 0.8; stroke-linejoin: miter; stroke-linecap: square\"/>\n   </g>\n   <g id=\"patch_11\">\n    <path d=\"M 43.78125 284.4 \nL 322.78125 284.4 \n\" style=\"fill: none; stroke: #000000; stroke-width: 0.8; stroke-linejoin: miter; stroke-linecap: square\"/>\n   </g>\n   <g id=\"patch_12\">\n    <path d=\"M 43.78125 163.878261 \nL 322.78125 163.878261 \n\" style=\"fill: none; stroke: #000000; stroke-width: 0.8; stroke-linejoin: miter; stroke-linecap: square\"/>\n   </g>\n   <g id=\"legend_2\">\n    <g id=\"patch_13\">\n     <path d=\"M 50.78125 201.234511 \nL 134.434375 201.234511 \nQ 136.434375 201.234511 136.434375 199.234511 \nL 136.434375 170.878261 \nQ 136.434375 168.878261 134.434375 168.878261 \nL 50.78125 168.878261 \nQ 48.78125 168.878261 48.78125 170.878261 \nL 48.78125 199.234511 \nQ 48.78125 201.234511 50.78125 201.234511 \nz\n\" style=\"fill: #ffffff; opacity: 0.8; stroke: #cccccc; stroke-linejoin: miter\"/>\n    </g>\n    <g id=\"PathCollection_3\">\n     <g>\n      <use xlink:href=\"#mb0bf1b53d8\" x=\"62.78125\" y=\"177.851698\" style=\"fill: #1f77b4; stroke: #1f77b4\"/>\n     </g>\n    </g>\n    <g id=\"text_29\">\n     <!-- real -->\n     <g transform=\"translate(80.78125 180.476698) scale(0.1 -0.1)\">\n      <use xlink:href=\"#DejaVuSans-72\"/>\n      <use xlink:href=\"#DejaVuSans-65\" x=\"38.863281\"/>\n      <use xlink:href=\"#DejaVuSans-61\" x=\"100.386719\"/>\n      <use xlink:href=\"#DejaVuSans-6c\" x=\"161.666016\"/>\n     </g>\n    </g>\n    <g id=\"PathCollection_4\">\n     <g>\n      <use xlink:href=\"#me0baf5e53a\" x=\"62.78125\" y=\"192.529823\" style=\"fill: #ff7f0e; stroke: #ff7f0e\"/>\n     </g>\n    </g>\n    <g id=\"text_30\">\n     <!-- generated -->\n     <g transform=\"translate(80.78125 195.154823) scale(0.1 -0.1)\">\n      <use xlink:href=\"#DejaVuSans-67\"/>\n      <use xlink:href=\"#DejaVuSans-65\" x=\"63.476562\"/>\n      <use xlink:href=\"#DejaVuSans-6e\" x=\"125\"/>\n      <use xlink:href=\"#DejaVuSans-65\" x=\"188.378906\"/>\n      <use xlink:href=\"#DejaVuSans-72\" x=\"249.902344\"/>\n      <use xlink:href=\"#DejaVuSans-61\" x=\"291.015625\"/>\n      <use xlink:href=\"#DejaVuSans-74\" x=\"352.294922\"/>\n      <use xlink:href=\"#DejaVuSans-65\" x=\"391.503906\"/>\n      <use xlink:href=\"#DejaVuSans-64\" x=\"453.027344\"/>\n     </g>\n    </g>\n   </g>\n  </g>\n </g>\n <defs>\n  <clipPath id=\"p58f47dd3b9\">\n   <rect x=\"43.78125\" y=\"7.2\" width=\"279\" height=\"120.521739\"/>\n  </clipPath>\n  <clipPath id=\"p088598254b\">\n   <rect x=\"43.78125\" y=\"163.878261\" width=\"279\" height=\"120.521739\"/>\n  </clipPath>\n </defs>\n</svg>\n"
          },
          "metadata": {}
        }
      ],
      "source": [
        "lr_D, lr_G, latent_dim, num_epochs = 0.05, 0.005, 2, 20\n",
        "train(net_D, net_G, data_iter, num_epochs, lr_D, lr_G,\n",
        "      latent_dim, data[:100].detach().numpy())"
      ]
    },
    {
      "cell_type": "markdown",
      "id": "b4174981",
      "metadata": {
        "origin_pos": 33,
        "id": "b4174981"
      },
      "source": [
        "<br>\n",
        "<br>\n",
        "\n",
        "## Summary\n",
        "\n",
        "* Generative adversarial networks (GANs) composes of two deep networks, the generator and the discriminator.\n",
        "* The generator generates the image as much closer to the true image as possible to fool the discriminator, via maximizing the cross-entropy loss, *i.e.*, $\\max \\log(D(\\mathbf{x'}))$.\n",
        "* The discriminator tries to distinguish the generated images from the true images, via minimizing the cross-entropy loss, *i.e.*, $\\min - y \\log D(\\mathbf{x}) - (1-y)\\log(1-D(\\mathbf{x}))$.\n",
        "\n",
        "## Exercises\n",
        "\n",
        "* Does an equilibrium exist where the generator wins, *i.e.* the discriminator ends up unable to distinguish the two distributions on finite samples?\n"
      ]
    },
    {
      "cell_type": "markdown",
      "id": "1b0dea6f",
      "metadata": {
        "origin_pos": 35,
        "tab": [
          "pytorch"
        ],
        "id": "1b0dea6f"
      },
      "source": [
        "[Discussions](https://discuss.d2l.ai/t/1082)\n"
      ]
    }
  ],
  "metadata": {
    "kernelspec": {
      "display_name": "Python 3",
      "name": "python3"
    },
    "language_info": {
      "name": "python"
    },
    "required_libs": [],
    "colab": {
      "provenance": [],
      "toc_visible": true
    }
  },
  "nbformat": 4,
  "nbformat_minor": 5
}