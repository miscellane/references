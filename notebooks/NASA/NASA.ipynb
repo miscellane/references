{
  "nbformat": 4,
  "nbformat_minor": 0,
  "metadata": {
    "kernelspec": {
      "display_name": "Python 3",
      "language": "python",
      "name": "python3"
    },
    "language_info": {
      "codemirror_mode": {
        "name": "ipython",
        "version": 3
      },
      "file_extension": ".py",
      "mimetype": "text/x-python",
      "name": "python",
      "nbconvert_exporter": "python",
      "pygments_lexer": "ipython3",
      "version": "3.6.2"
    },
    "colab": {
      "provenance": [],
      "toc_visible": true
    }
  },
  "cells": [
    {
      "cell_type": "markdown",
      "metadata": {
        "id": "vo4_I2GS9Xd3"
      },
      "source": [
        "# Analyzing Web Server Logs with Apache Spark\n",
        "\n",
        "Apache Spark is an excellent and ideal framework for wrangling, analyzing and modeling on structured and unstructured data - at scale! In this mini-project, we will be focusing on one of the most popular use-cases in the industry - log analytics.\n",
        "\n",
        "Typically, server logs are a very common data source in enterprises and often contain a gold mine of actionable insights and information. Log data comes from many sources in an enterprise, such as the web, client and compute servers, applications, user-generated content, flat files. They can be used for monitoring servers, improving business and customer intelligence, building recommendation systems, fraud detection, and much more.\n",
        "\n",
        "Spark allows you to dump and store your logs in files on disk cheaply, while still providing rich APIs to perform data analysis at scale. This mini-project will show you how to use Apache Spark on real-world production logs from NASA and learn data wrangling and basic yet powerful techniques in exploratory data analysis.\n",
        "\n",
        "There are a total of 12 questions for you to solve along with some interactive examples which will help you learn aspects of leveraging spark for analyzing over 3 million logs at scale.\n",
        "\n",
        "Remember to focus on the __`# TODO: Replace <FILL IN> with appropriate code`__ sections to fill them up with necessary code to solve the desired questions in the notebook"
      ]
    },
    {
      "cell_type": "markdown",
      "metadata": {
        "id": "TOfF5L8m9Xd8"
      },
      "source": [
        "# Section 1 - Loading up Dependencies"
      ]
    },
    {
      "cell_type": "code",
      "metadata": {
        "id": "LNsbv3T69Xd_",
        "outputId": "c5293d72-090c-4f97-e309-0ed207e8e65e"
      },
      "source": [
        "spark"
      ],
      "execution_count": null,
      "outputs": [
        {
          "output_type": "execute_result",
          "data": {
            "text/html": [
              "\n",
              "            <div>\n",
              "                <p><b>SparkSession - hive</b></p>\n",
              "                \n",
              "        <div>\n",
              "            <p><b>SparkContext</b></p>\n",
              "\n",
              "            <p><a href=\"http://domino-run-5d890d95c9e77c00071f0ae4:4040\">Spark UI</a></p>\n",
              "\n",
              "            <dl>\n",
              "              <dt>Version</dt>\n",
              "                <dd><code>v2.4.0</code></dd>\n",
              "              <dt>Master</dt>\n",
              "                <dd><code>local[*]</code></dd>\n",
              "              <dt>AppName</dt>\n",
              "                <dd><code>PySparkShell</code></dd>\n",
              "            </dl>\n",
              "        </div>\n",
              "        \n",
              "            </div>\n",
              "        "
            ],
            "text/plain": [
              "<pyspark.sql.session.SparkSession at 0x7ff42671a550>"
            ]
          },
          "metadata": {
            "tags": []
          },
          "execution_count": 1
        }
      ]
    },
    {
      "cell_type": "code",
      "metadata": {
        "id": "3qOzVPdN9XeM",
        "outputId": "5a02956d-1186-4a4a-e092-f5499020c485"
      },
      "source": [
        "sqlContext"
      ],
      "execution_count": null,
      "outputs": [
        {
          "output_type": "execute_result",
          "data": {
            "text/plain": [
              "<pyspark.sql.context.SQLContext at 0x7ff42671a438>"
            ]
          },
          "metadata": {
            "tags": []
          },
          "execution_count": 2
        }
      ]
    },
    {
      "cell_type": "code",
      "metadata": {
        "id": "IZY8-9C_9XeV"
      },
      "source": [
        "if 'sc' not in locals():\n",
        "    from pyspark.context import SparkContext\n",
        "    from pyspark.sql.context import SQLContext\n",
        "    from pyspark.sql.session import SparkSession\n",
        "    \n",
        "    sc = SparkContext()\n",
        "    sqlContext = SQLContext(sc)\n",
        "    spark = SparkSession(sc)"
      ],
      "execution_count": null,
      "outputs": []
    },
    {
      "cell_type": "code",
      "metadata": {
        "id": "r8Z0eRXJ9Xec"
      },
      "source": [
        "import re\n",
        "import pandas as pd"
      ],
      "execution_count": null,
      "outputs": []
    },
    {
      "cell_type": "code",
      "metadata": {
        "id": "uOeN9u9I9Xei",
        "outputId": "b7178e1a-f19f-41aa-a9ea-3174b20b0c8c"
      },
      "source": [
        "m = re.finditer(r'.*?(spark).*?', \"I'm searching for a spark in PySpark\", re.I)\n",
        "for match in m:\n",
        "    print(match)"
      ],
      "execution_count": null,
      "outputs": [
        {
          "output_type": "stream",
          "text": [
            "<_sre.SRE_Match object; span=(0, 25), match=\"I'm searching for a spark\">\n",
            "<_sre.SRE_Match object; span=(25, 36), match=' in PySpark'>\n"
          ],
          "name": "stdout"
        }
      ]
    },
    {
      "cell_type": "markdown",
      "metadata": {
        "id": "rbsoUke59Xeo"
      },
      "source": [
        "For this mini-project, we will analyze datasets from NASA Kennedy Space Center web server in Florida. The full data set is freely available for download [__here__](http://ita.ee.lbl.gov/html/contrib/NASA-HTTP.html).\n",
        "\n",
        "These two traces contain two month's worth of all HTTP requests to the NASA Kennedy Space Center WWW server in Florida. You can head over to the [__website__](http://ita.ee.lbl.gov/html/contrib/NASA-HTTP.html) and download the following files if needed OR just upload the files we have already provided for you into Domino's Cloud Platform (unless you plan to use Spark locally).\n",
        "\n",
        "- Jul 01 to Jul 31, ASCII format, 20.7 MB gzip compressed, 205.2 MB uncompressed: [ftp://ita.ee.lbl.gov/traces/NASA_access_log_Jul95.gz](ftp://ita.ee.lbl.gov/traces/NASA_access_log_Jul95.gz)\n",
        "- Aug 04 to Aug 31, ASCII format, 21.8 MB gzip compressed, 167.8 MB uncompressed: [ftp://ita.ee.lbl.gov/traces/NASA_access_log_Aug95.gz](ftp://ita.ee.lbl.gov/traces/NASA_access_log_Aug95.gz)\n",
        "\n",
        "Make sure both the files are in the same directory as this notebook."
      ]
    },
    {
      "cell_type": "markdown",
      "metadata": {
        "id": "w9N7aRX09Xeq"
      },
      "source": [
        "# Section 2 - Loading and Viewing the Log Dataset\n",
        "\n",
        "Given that our data is stored in the following mentioned path, let's load it into a DataFrame. We'll do this in steps. First, we'll use `sqlContext.read.text()` or `spark.read.text()` to read the text file. This will produce a DataFrame with a single string column called `value`."
      ]
    },
    {
      "cell_type": "code",
      "metadata": {
        "id": "7snIOgvN9Xes",
        "outputId": "daed8c13-44c2-4470-d416-0ccd9c06b6e9"
      },
      "source": [
        "import glob\n",
        "\n",
        "raw_data_files = glob.glob('*.gz')\n",
        "raw_data_files"
      ],
      "execution_count": null,
      "outputs": [
        {
          "output_type": "execute_result",
          "data": {
            "text/plain": [
              "['NASA_access_log_Jul95.gz', 'NASA_access_log_Aug95.gz']"
            ]
          },
          "metadata": {
            "tags": []
          },
          "execution_count": 6
        }
      ]
    },
    {
      "cell_type": "markdown",
      "metadata": {
        "id": "gh28fKvy9Xe1"
      },
      "source": [
        "### Taking a look at the metadata of our dataframe"
      ]
    },
    {
      "cell_type": "code",
      "metadata": {
        "id": "5FjInS5I9Xe4",
        "outputId": "8811fbaf-f5aa-46db-8f94-3201422af1f8"
      },
      "source": [
        "base_df = spark.read.text(raw_data_files)\n",
        "base_df.printSchema()"
      ],
      "execution_count": null,
      "outputs": [
        {
          "output_type": "stream",
          "text": [
            "root\n",
            " |-- value: string (nullable = true)\n",
            "\n"
          ],
          "name": "stdout"
        }
      ]
    },
    {
      "cell_type": "code",
      "metadata": {
        "id": "nlnxaAVV9Xe-",
        "outputId": "7653f5b4-7352-4489-9975-8e405b559c8d"
      },
      "source": [
        "type(base_df)"
      ],
      "execution_count": null,
      "outputs": [
        {
          "output_type": "execute_result",
          "data": {
            "text/plain": [
              "pyspark.sql.dataframe.DataFrame"
            ]
          },
          "metadata": {
            "tags": []
          },
          "execution_count": 8
        }
      ]
    },
    {
      "cell_type": "markdown",
      "metadata": {
        "id": "T8IItA1s9XfE"
      },
      "source": [
        "You can also convert a dataframe to an RDD if needed"
      ]
    },
    {
      "cell_type": "code",
      "metadata": {
        "id": "V9D0BBe-9XfF",
        "outputId": "c1a05172-6250-4ad9-8807-5a313723d2ab"
      },
      "source": [
        "base_df_rdd = base_df.rdd\n",
        "type(base_df_rdd)"
      ],
      "execution_count": null,
      "outputs": [
        {
          "output_type": "execute_result",
          "data": {
            "text/plain": [
              "pyspark.rdd.RDD"
            ]
          },
          "metadata": {
            "tags": []
          },
          "execution_count": 9
        }
      ]
    },
    {
      "cell_type": "markdown",
      "metadata": {
        "id": "9iBXcj3l9XfM"
      },
      "source": [
        "### Viewing sample data in our dataframe\n",
        "Looks like it needs to be wrangled and parsed!"
      ]
    },
    {
      "cell_type": "code",
      "metadata": {
        "id": "jcmw75_S9XfO",
        "outputId": "811fd629-7fbb-471d-d5bc-5531cc103cc0"
      },
      "source": [
        "base_df.show(10, truncate=False)"
      ],
      "execution_count": null,
      "outputs": [
        {
          "output_type": "stream",
          "text": [
            "+-----------------------------------------------------------------------------------------------------------------------+\n",
            "|value                                                                                                                  |\n",
            "+-----------------------------------------------------------------------------------------------------------------------+\n",
            "|199.72.81.55 - - [01/Jul/1995:00:00:01 -0400] \"GET /history/apollo/ HTTP/1.0\" 200 6245                                 |\n",
            "|unicomp6.unicomp.net - - [01/Jul/1995:00:00:06 -0400] \"GET /shuttle/countdown/ HTTP/1.0\" 200 3985                      |\n",
            "|199.120.110.21 - - [01/Jul/1995:00:00:09 -0400] \"GET /shuttle/missions/sts-73/mission-sts-73.html HTTP/1.0\" 200 4085   |\n",
            "|burger.letters.com - - [01/Jul/1995:00:00:11 -0400] \"GET /shuttle/countdown/liftoff.html HTTP/1.0\" 304 0               |\n",
            "|199.120.110.21 - - [01/Jul/1995:00:00:11 -0400] \"GET /shuttle/missions/sts-73/sts-73-patch-small.gif HTTP/1.0\" 200 4179|\n",
            "|burger.letters.com - - [01/Jul/1995:00:00:12 -0400] \"GET /images/NASA-logosmall.gif HTTP/1.0\" 304 0                    |\n",
            "|burger.letters.com - - [01/Jul/1995:00:00:12 -0400] \"GET /shuttle/countdown/video/livevideo.gif HTTP/1.0\" 200 0        |\n",
            "|205.212.115.106 - - [01/Jul/1995:00:00:12 -0400] \"GET /shuttle/countdown/countdown.html HTTP/1.0\" 200 3985             |\n",
            "|d104.aa.net - - [01/Jul/1995:00:00:13 -0400] \"GET /shuttle/countdown/ HTTP/1.0\" 200 3985                               |\n",
            "|129.94.144.152 - - [01/Jul/1995:00:00:13 -0400] \"GET / HTTP/1.0\" 200 7074                                              |\n",
            "+-----------------------------------------------------------------------------------------------------------------------+\n",
            "only showing top 10 rows\n",
            "\n"
          ],
          "name": "stdout"
        }
      ]
    },
    {
      "cell_type": "markdown",
      "metadata": {
        "id": "5K4X2D9M9XfU"
      },
      "source": [
        "Getting data from an RDD is slightly different. You can see how the data representation is different in the following RDD"
      ]
    },
    {
      "cell_type": "code",
      "metadata": {
        "id": "Z4C4bScb9XfW",
        "outputId": "a9401d4f-8d9b-46db-dc59-8e31c364eb1b"
      },
      "source": [
        "base_df_rdd.take(10)"
      ],
      "execution_count": null,
      "outputs": [
        {
          "output_type": "execute_result",
          "data": {
            "text/plain": [
              "[Row(value='199.72.81.55 - - [01/Jul/1995:00:00:01 -0400] \"GET /history/apollo/ HTTP/1.0\" 200 6245'),\n",
              " Row(value='unicomp6.unicomp.net - - [01/Jul/1995:00:00:06 -0400] \"GET /shuttle/countdown/ HTTP/1.0\" 200 3985'),\n",
              " Row(value='199.120.110.21 - - [01/Jul/1995:00:00:09 -0400] \"GET /shuttle/missions/sts-73/mission-sts-73.html HTTP/1.0\" 200 4085'),\n",
              " Row(value='burger.letters.com - - [01/Jul/1995:00:00:11 -0400] \"GET /shuttle/countdown/liftoff.html HTTP/1.0\" 304 0'),\n",
              " Row(value='199.120.110.21 - - [01/Jul/1995:00:00:11 -0400] \"GET /shuttle/missions/sts-73/sts-73-patch-small.gif HTTP/1.0\" 200 4179'),\n",
              " Row(value='burger.letters.com - - [01/Jul/1995:00:00:12 -0400] \"GET /images/NASA-logosmall.gif HTTP/1.0\" 304 0'),\n",
              " Row(value='burger.letters.com - - [01/Jul/1995:00:00:12 -0400] \"GET /shuttle/countdown/video/livevideo.gif HTTP/1.0\" 200 0'),\n",
              " Row(value='205.212.115.106 - - [01/Jul/1995:00:00:12 -0400] \"GET /shuttle/countdown/countdown.html HTTP/1.0\" 200 3985'),\n",
              " Row(value='d104.aa.net - - [01/Jul/1995:00:00:13 -0400] \"GET /shuttle/countdown/ HTTP/1.0\" 200 3985'),\n",
              " Row(value='129.94.144.152 - - [01/Jul/1995:00:00:13 -0400] \"GET / HTTP/1.0\" 200 7074')]"
            ]
          },
          "metadata": {
            "tags": []
          },
          "execution_count": 11
        }
      ]
    },
    {
      "cell_type": "markdown",
      "metadata": {
        "id": "e8qXNybB9Xfc"
      },
      "source": [
        "# Section 3 - Data Wrangling\n",
        "\n",
        "In this section, we will try and clean and parse our log dataset to really extract structured attributes with meaningful information from each log message.\n",
        "\n",
        "### Data understanding\n",
        "If you're familiar with web server logs, you'll recognize that the above displayed data is in [Common Log Format](https://www.w3.org/Daemon/User/Config/Logging.html#common-logfile-format). \n",
        "\n",
        "The fields are:\n",
        "__`remotehost rfc931 authuser [date] \"request\" status bytes`__\n",
        "\n",
        "\n",
        "| field         | meaning                                                                |\n",
        "| ------------- | ---------------------------------------------------------------------- |\n",
        "| _remotehost_  | Remote hostname (or IP number if DNS hostname is not available or if [DNSLookup](https://www.w3.org/Daemon/User/Config/General.html#DNSLookup) is off).       |\n",
        "| _rfc931_      | The remote logname of the user if at all it is present. |\n",
        "| _authuser_    | The username of the remote user after authentication by the HTTP server.  |\n",
        "| _[date]_      | Date and time of the request.                                      |\n",
        "| _\"request\"_   | The request, exactly as it came from the browser or client.            |\n",
        "| _status_      | The [HTTP status code](https://en.wikipedia.org/wiki/List_of_HTTP_status_codes) the server sent back to the client.               |\n",
        "| _bytes_       | The number of bytes (`Content-Length`) transferred to the client.      |\n",
        "\n",
        "We will need to use some specific techniques to parse, match and extract these attributes from the log data"
      ]
    },
    {
      "cell_type": "markdown",
      "metadata": {
        "id": "Z-kMwK9v9Xfd"
      },
      "source": [
        "## Data Parsing and Extraction with Regular Expressions\n",
        "\n",
        "Next, we have to parse it into individual columns. We'll use the special built-in [regexp\\_extract()](http://spark.apache.org/docs/latest/api/python/pyspark.sql.html#pyspark.sql.functions.regexp_extract)\n",
        "function to do the parsing. This function matches a column against a regular expression with one or more [capture groups](http://regexone.com/lesson/capturing_groups) and allows you to extract one of the matched groups. We'll use one regular expression for each field we wish to extract.\n",
        "\n",
        "You must have heard or used a fair bit of regular expressions by now. If you find regular expressions confusing (and they certainly _can_ be), and you want to learn more about them, we recommend checking out the\n",
        "[RegexOne web site](http://regexone.com/). You might also find [_Regular Expressions Cookbook_](http://shop.oreilly.com/product/0636920023630.do), by Goyvaerts and Levithan, to be useful as a reference."
      ]
    },
    {
      "cell_type": "markdown",
      "metadata": {
        "id": "KEagGuD29Xff"
      },
      "source": [
        "#### Let's take a look at our dataset dimensions"
      ]
    },
    {
      "cell_type": "code",
      "metadata": {
        "id": "vpZn_v0E9Xfg",
        "outputId": "0f0c4eab-960e-4b5b-f79e-07477765253f"
      },
      "source": [
        "print((base_df.count(), len(base_df.columns)))"
      ],
      "execution_count": null,
      "outputs": [
        {
          "output_type": "stream",
          "text": [
            "(3461613, 1)\n"
          ],
          "name": "stdout"
        }
      ]
    },
    {
      "cell_type": "markdown",
      "metadata": {
        "id": "540Oq5xW9Xfm"
      },
      "source": [
        "Let's extract and take a look at some sample log messages"
      ]
    },
    {
      "cell_type": "code",
      "metadata": {
        "id": "Nw2Tu9DH9Xfn",
        "outputId": "e53ce752-a52f-423d-f8ac-32f0652e7b8d"
      },
      "source": [
        "sample_logs = [item['value'] for item in base_df.take(15)]\n",
        "sample_logs"
      ],
      "execution_count": null,
      "outputs": [
        {
          "output_type": "execute_result",
          "data": {
            "text/plain": [
              "['199.72.81.55 - - [01/Jul/1995:00:00:01 -0400] \"GET /history/apollo/ HTTP/1.0\" 200 6245',\n",
              " 'unicomp6.unicomp.net - - [01/Jul/1995:00:00:06 -0400] \"GET /shuttle/countdown/ HTTP/1.0\" 200 3985',\n",
              " '199.120.110.21 - - [01/Jul/1995:00:00:09 -0400] \"GET /shuttle/missions/sts-73/mission-sts-73.html HTTP/1.0\" 200 4085',\n",
              " 'burger.letters.com - - [01/Jul/1995:00:00:11 -0400] \"GET /shuttle/countdown/liftoff.html HTTP/1.0\" 304 0',\n",
              " '199.120.110.21 - - [01/Jul/1995:00:00:11 -0400] \"GET /shuttle/missions/sts-73/sts-73-patch-small.gif HTTP/1.0\" 200 4179',\n",
              " 'burger.letters.com - - [01/Jul/1995:00:00:12 -0400] \"GET /images/NASA-logosmall.gif HTTP/1.0\" 304 0',\n",
              " 'burger.letters.com - - [01/Jul/1995:00:00:12 -0400] \"GET /shuttle/countdown/video/livevideo.gif HTTP/1.0\" 200 0',\n",
              " '205.212.115.106 - - [01/Jul/1995:00:00:12 -0400] \"GET /shuttle/countdown/countdown.html HTTP/1.0\" 200 3985',\n",
              " 'd104.aa.net - - [01/Jul/1995:00:00:13 -0400] \"GET /shuttle/countdown/ HTTP/1.0\" 200 3985',\n",
              " '129.94.144.152 - - [01/Jul/1995:00:00:13 -0400] \"GET / HTTP/1.0\" 200 7074',\n",
              " 'unicomp6.unicomp.net - - [01/Jul/1995:00:00:14 -0400] \"GET /shuttle/countdown/count.gif HTTP/1.0\" 200 40310',\n",
              " 'unicomp6.unicomp.net - - [01/Jul/1995:00:00:14 -0400] \"GET /images/NASA-logosmall.gif HTTP/1.0\" 200 786',\n",
              " 'unicomp6.unicomp.net - - [01/Jul/1995:00:00:14 -0400] \"GET /images/KSC-logosmall.gif HTTP/1.0\" 200 1204',\n",
              " 'd104.aa.net - - [01/Jul/1995:00:00:15 -0400] \"GET /shuttle/countdown/count.gif HTTP/1.0\" 200 40310',\n",
              " 'd104.aa.net - - [01/Jul/1995:00:00:15 -0400] \"GET /images/NASA-logosmall.gif HTTP/1.0\" 200 786']"
            ]
          },
          "metadata": {
            "tags": []
          },
          "execution_count": 13
        }
      ]
    },
    {
      "cell_type": "markdown",
      "metadata": {
        "id": "1b7_Wpzo9Xft"
      },
      "source": [
        "### Extracting host names\n",
        "\n",
        "Let's try and write some regular expressions to extract the host name from the logs"
      ]
    },
    {
      "cell_type": "code",
      "metadata": {
        "id": "SGih6jkU9Xfu",
        "outputId": "a75f08cf-5fe3-4387-bae9-eb0a5b2a66e1"
      },
      "source": [
        "host_pattern = r'(^\\S+\\.[\\S+\\.]+\\S+)\\s'\n",
        "hosts = [re.search(host_pattern, item).group(1)\n",
        "           if re.search(host_pattern, item)\n",
        "           else 'no match'\n",
        "           for item in sample_logs]\n",
        "hosts"
      ],
      "execution_count": null,
      "outputs": [
        {
          "output_type": "execute_result",
          "data": {
            "text/plain": [
              "['199.72.81.55',\n",
              " 'unicomp6.unicomp.net',\n",
              " '199.120.110.21',\n",
              " 'burger.letters.com',\n",
              " '199.120.110.21',\n",
              " 'burger.letters.com',\n",
              " 'burger.letters.com',\n",
              " '205.212.115.106',\n",
              " 'd104.aa.net',\n",
              " '129.94.144.152',\n",
              " 'unicomp6.unicomp.net',\n",
              " 'unicomp6.unicomp.net',\n",
              " 'unicomp6.unicomp.net',\n",
              " 'd104.aa.net',\n",
              " 'd104.aa.net']"
            ]
          },
          "metadata": {
            "tags": []
          },
          "execution_count": 14
        }
      ]
    },
    {
      "cell_type": "markdown",
      "metadata": {
        "id": "-_xuiRU_9Xfz"
      },
      "source": [
        "### Extracting timestamps \n",
        "\n",
        "Let's now try and use regular expressions to extract the timestamp fields from the logs"
      ]
    },
    {
      "cell_type": "code",
      "metadata": {
        "id": "rKFoG6zK9Xf2",
        "outputId": "afca1cc5-8763-41e4-9175-1b21bda2ad02"
      },
      "source": [
        "ts_pattern = r'\\[(\\d{2}/\\w{3}/\\d{4}:\\d{2}:\\d{2}:\\d{2} -\\d{4})]'\n",
        "timestamps = [re.search(ts_pattern, item).group(1) for item in sample_logs]\n",
        "timestamps"
      ],
      "execution_count": null,
      "outputs": [
        {
          "output_type": "execute_result",
          "data": {
            "text/plain": [
              "['01/Jul/1995:00:00:01 -0400',\n",
              " '01/Jul/1995:00:00:06 -0400',\n",
              " '01/Jul/1995:00:00:09 -0400',\n",
              " '01/Jul/1995:00:00:11 -0400',\n",
              " '01/Jul/1995:00:00:11 -0400',\n",
              " '01/Jul/1995:00:00:12 -0400',\n",
              " '01/Jul/1995:00:00:12 -0400',\n",
              " '01/Jul/1995:00:00:12 -0400',\n",
              " '01/Jul/1995:00:00:13 -0400',\n",
              " '01/Jul/1995:00:00:13 -0400',\n",
              " '01/Jul/1995:00:00:14 -0400',\n",
              " '01/Jul/1995:00:00:14 -0400',\n",
              " '01/Jul/1995:00:00:14 -0400',\n",
              " '01/Jul/1995:00:00:15 -0400',\n",
              " '01/Jul/1995:00:00:15 -0400']"
            ]
          },
          "metadata": {
            "tags": []
          },
          "execution_count": 15
        }
      ]
    },
    {
      "cell_type": "markdown",
      "metadata": {
        "id": "x7Zd1d8h9Xf5"
      },
      "source": [
        "### Extracting HTTP Request Method, URIs and Protocol \n",
        "\n",
        "Let's now try and use regular expressions to extract the HTTP request methods, URIs and Protocol patterns fields from the logs"
      ]
    },
    {
      "cell_type": "code",
      "metadata": {
        "id": "FLQQ6yEy9Xf6",
        "outputId": "5514a6a4-aa97-49c2-f6d2-1846b1c2df76"
      },
      "source": [
        "method_uri_protocol_pattern = r'\\\"(\\S+)\\s(\\S+)\\s*(\\S*)\\\"'\n",
        "method_uri_protocol = [re.search(method_uri_protocol_pattern, item).groups()\n",
        "               if re.search(method_uri_protocol_pattern, item)\n",
        "               else 'no match'\n",
        "              for item in sample_logs]\n",
        "method_uri_protocol"
      ],
      "execution_count": null,
      "outputs": [
        {
          "output_type": "execute_result",
          "data": {
            "text/plain": [
              "[('GET', '/history/apollo/', 'HTTP/1.0'),\n",
              " ('GET', '/shuttle/countdown/', 'HTTP/1.0'),\n",
              " ('GET', '/shuttle/missions/sts-73/mission-sts-73.html', 'HTTP/1.0'),\n",
              " ('GET', '/shuttle/countdown/liftoff.html', 'HTTP/1.0'),\n",
              " ('GET', '/shuttle/missions/sts-73/sts-73-patch-small.gif', 'HTTP/1.0'),\n",
              " ('GET', '/images/NASA-logosmall.gif', 'HTTP/1.0'),\n",
              " ('GET', '/shuttle/countdown/video/livevideo.gif', 'HTTP/1.0'),\n",
              " ('GET', '/shuttle/countdown/countdown.html', 'HTTP/1.0'),\n",
              " ('GET', '/shuttle/countdown/', 'HTTP/1.0'),\n",
              " ('GET', '/', 'HTTP/1.0'),\n",
              " ('GET', '/shuttle/countdown/count.gif', 'HTTP/1.0'),\n",
              " ('GET', '/images/NASA-logosmall.gif', 'HTTP/1.0'),\n",
              " ('GET', '/images/KSC-logosmall.gif', 'HTTP/1.0'),\n",
              " ('GET', '/shuttle/countdown/count.gif', 'HTTP/1.0'),\n",
              " ('GET', '/images/NASA-logosmall.gif', 'HTTP/1.0')]"
            ]
          },
          "metadata": {
            "tags": []
          },
          "execution_count": 16
        }
      ]
    },
    {
      "cell_type": "markdown",
      "metadata": {
        "id": "96UlMm3V9XgA"
      },
      "source": [
        "### Building an intermediate parsed dataframe\n",
        "\n",
        "Let's try and use our regular expressions we have implemented so far into parsing and extracting the relevant entities in separate columns in a new dataframe"
      ]
    },
    {
      "cell_type": "code",
      "metadata": {
        "id": "m3_dEgQZ9XgB",
        "outputId": "ed582720-a9f2-4479-b990-c68e3454fa55"
      },
      "source": [
        "from pyspark.sql.functions import regexp_extract\n",
        "\n",
        "logs_df = base_df.select(regexp_extract('value', host_pattern, 1).alias('host'),\n",
        "                         regexp_extract('value', ts_pattern, 1).alias('timestamp'),\n",
        "                         regexp_extract('value', method_uri_protocol_pattern, 1).alias('method'),\n",
        "                         regexp_extract('value', method_uri_protocol_pattern, 2).alias('endpoint'),\n",
        "                         regexp_extract('value', method_uri_protocol_pattern, 3).alias('protocol'))\n",
        "logs_df.show(10, truncate=False)\n",
        "print((logs_df.count(), len(logs_df.columns)))"
      ],
      "execution_count": null,
      "outputs": [
        {
          "output_type": "stream",
          "text": [
            "+--------------------+--------------------------+------+-----------------------------------------------+--------+\n",
            "|host                |timestamp                 |method|endpoint                                       |protocol|\n",
            "+--------------------+--------------------------+------+-----------------------------------------------+--------+\n",
            "|199.72.81.55        |01/Jul/1995:00:00:01 -0400|GET   |/history/apollo/                               |HTTP/1.0|\n",
            "|unicomp6.unicomp.net|01/Jul/1995:00:00:06 -0400|GET   |/shuttle/countdown/                            |HTTP/1.0|\n",
            "|199.120.110.21      |01/Jul/1995:00:00:09 -0400|GET   |/shuttle/missions/sts-73/mission-sts-73.html   |HTTP/1.0|\n",
            "|burger.letters.com  |01/Jul/1995:00:00:11 -0400|GET   |/shuttle/countdown/liftoff.html                |HTTP/1.0|\n",
            "|199.120.110.21      |01/Jul/1995:00:00:11 -0400|GET   |/shuttle/missions/sts-73/sts-73-patch-small.gif|HTTP/1.0|\n",
            "|burger.letters.com  |01/Jul/1995:00:00:12 -0400|GET   |/images/NASA-logosmall.gif                     |HTTP/1.0|\n",
            "|burger.letters.com  |01/Jul/1995:00:00:12 -0400|GET   |/shuttle/countdown/video/livevideo.gif         |HTTP/1.0|\n",
            "|205.212.115.106     |01/Jul/1995:00:00:12 -0400|GET   |/shuttle/countdown/countdown.html              |HTTP/1.0|\n",
            "|d104.aa.net         |01/Jul/1995:00:00:13 -0400|GET   |/shuttle/countdown/                            |HTTP/1.0|\n",
            "|129.94.144.152      |01/Jul/1995:00:00:13 -0400|GET   |/                                              |HTTP/1.0|\n",
            "+--------------------+--------------------------+------+-----------------------------------------------+--------+\n",
            "only showing top 10 rows\n",
            "\n",
            "(3461613, 5)\n"
          ],
          "name": "stdout"
        }
      ]
    },
    {
      "cell_type": "markdown",
      "metadata": {
        "id": "F0q6ngqL9XgG"
      },
      "source": [
        "### Extracting HTTP Status Codes\n",
        "\n",
        "Let's now try and use regular expressions to extract the HTTP status codes from the logs"
      ]
    },
    {
      "cell_type": "code",
      "metadata": {
        "id": "c-eaQA2Z9XgH",
        "outputId": "34446b17-6d5c-4104-b821-9ee9c4db0ad4"
      },
      "source": [
        "status_pattern = r'\\s(\\d{3})\\s'\n",
        "status = [re.search(status_pattern, item).group(1) for item in sample_logs]\n",
        "print(status)"
      ],
      "execution_count": null,
      "outputs": [
        {
          "output_type": "stream",
          "text": [
            "['200', '200', '200', '304', '200', '304', '200', '200', '200', '200', '200', '200', '200', '200', '200']\n"
          ],
          "name": "stdout"
        }
      ]
    },
    {
      "cell_type": "markdown",
      "metadata": {
        "id": "fo0RJj4f9XgN"
      },
      "source": [
        "### Extracting HTTP Response Content Size\n",
        "\n",
        "Let's now try and use regular expressions to extract the HTTP response content size from the logs"
      ]
    },
    {
      "cell_type": "code",
      "metadata": {
        "id": "P-aiqMVo9XgP",
        "outputId": "2d97eb9c-875d-42a4-cfb1-827670c3156f"
      },
      "source": [
        "content_size_pattern = r'\\s(\\d+)$'\n",
        "content_size = [re.search(content_size_pattern, item).group(1) for item in sample_logs]\n",
        "print(content_size)"
      ],
      "execution_count": null,
      "outputs": [
        {
          "output_type": "stream",
          "text": [
            "['6245', '3985', '4085', '0', '4179', '0', '0', '3985', '3985', '7074', '40310', '786', '1204', '40310', '786']\n"
          ],
          "name": "stdout"
        }
      ]
    },
    {
      "cell_type": "markdown",
      "metadata": {
        "id": "FAhRSSq79XgS"
      },
      "source": [
        "## Q1: Your Turn: Putting it all together \n",
        "\n",
        "Let's now try and leverage all the regular expression patterns we previously built and use the `regexp_extract(...)` method to build our dataframe with all the log attributes neatly extracted in their own separate columns.\n",
        "\n",
        "- You can reuse the code we used previously to build the intermediate dataframe\n",
        "- Remember to cast the HTTP status code and content size as integers. \n",
        "- You can cast data as integer type using the following: __`regexp_extract('value', ...., ...).cast('integer').alias(...)`__"
      ]
    },
    {
      "cell_type": "code",
      "metadata": {
        "id": "wTslx54d9XgT",
        "outputId": "c8188ab3-c7c5-400e-8e78-dc4f76d8fbab"
      },
      "source": [
        "# TODO: Replace <FILL IN> with appropriate code\n",
        "\n",
        "logs_df = base_df.select(regexp_extract('value', host_pattern, 1).alias('host'),\n",
        "                         regexp_extract('value', ts_pattern, 1).alias('timestamp'),\n",
        "                         regexp_extract('value', method_uri_protocol_pattern, 1).alias('method'),\n",
        "                         regexp_extract('value', method_uri_protocol_pattern, 2).alias('endpoint'),\n",
        "                         regexp_extract('value', method_uri_protocol_pattern, 3).alias('protocol'),\n",
        "                         regexp_extract('value', status_pattern, 1).cast('integer').alias('status'),\n",
        "                         regexp_extract('value', content_size_pattern, 1).cast('integer').alias('content_size'))\n",
        "logs_df.show(10, truncate=True)\n",
        "print((logs_df.count(), len(logs_df.columns)))"
      ],
      "execution_count": null,
      "outputs": [
        {
          "output_type": "stream",
          "text": [
            "+--------------------+--------------------+------+--------------------+--------+------+------------+\n",
            "|                host|           timestamp|method|            endpoint|protocol|status|content_size|\n",
            "+--------------------+--------------------+------+--------------------+--------+------+------------+\n",
            "|        199.72.81.55|01/Jul/1995:00:00...|   GET|    /history/apollo/|HTTP/1.0|   200|        6245|\n",
            "|unicomp6.unicomp.net|01/Jul/1995:00:00...|   GET| /shuttle/countdown/|HTTP/1.0|   200|        3985|\n",
            "|      199.120.110.21|01/Jul/1995:00:00...|   GET|/shuttle/missions...|HTTP/1.0|   200|        4085|\n",
            "|  burger.letters.com|01/Jul/1995:00:00...|   GET|/shuttle/countdow...|HTTP/1.0|   304|           0|\n",
            "|      199.120.110.21|01/Jul/1995:00:00...|   GET|/shuttle/missions...|HTTP/1.0|   200|        4179|\n",
            "|  burger.letters.com|01/Jul/1995:00:00...|   GET|/images/NASA-logo...|HTTP/1.0|   304|           0|\n",
            "|  burger.letters.com|01/Jul/1995:00:00...|   GET|/shuttle/countdow...|HTTP/1.0|   200|           0|\n",
            "|     205.212.115.106|01/Jul/1995:00:00...|   GET|/shuttle/countdow...|HTTP/1.0|   200|        3985|\n",
            "|         d104.aa.net|01/Jul/1995:00:00...|   GET| /shuttle/countdown/|HTTP/1.0|   200|        3985|\n",
            "|      129.94.144.152|01/Jul/1995:00:00...|   GET|                   /|HTTP/1.0|   200|        7074|\n",
            "+--------------------+--------------------+------+--------------------+--------+------+------------+\n",
            "only showing top 10 rows\n",
            "\n",
            "(3461613, 7)\n"
          ],
          "name": "stdout"
        }
      ]
    },
    {
      "cell_type": "markdown",
      "metadata": {
        "id": "WKTes5XG9XgX"
      },
      "source": [
        "## Finding Missing Values\n",
        "\n",
        "Missing and null values are the bane of data analysis and machine learning. Let's see how well our data parsing and extraction logic worked. First, let's verify that there are no null rows in the original dataframe."
      ]
    },
    {
      "cell_type": "code",
      "metadata": {
        "id": "0NhTSCuS9XgY",
        "outputId": "ee574656-4e18-43b7-a539-47cf18a73f96"
      },
      "source": [
        "base_df.filter(base_df['value'].isNull()).count()"
      ],
      "execution_count": null,
      "outputs": [
        {
          "output_type": "execute_result",
          "data": {
            "text/plain": [
              "0"
            ]
          },
          "metadata": {
            "tags": []
          },
          "execution_count": 21
        }
      ]
    },
    {
      "cell_type": "markdown",
      "metadata": {
        "id": "WthzAG199Xgf"
      },
      "source": [
        "If our data parsing and extraction worked properly, we should not have any rows with potential null values. Let's try and put that to test!"
      ]
    },
    {
      "cell_type": "code",
      "metadata": {
        "id": "d18iKkyS9Xgk",
        "outputId": "2bd1c53d-944a-440c-952f-6c6925526ea2"
      },
      "source": [
        "bad_rows_df = logs_df.filter(logs_df['host'].isNull()| \n",
        "                             logs_df['timestamp'].isNull() | \n",
        "                             logs_df['method'].isNull() |\n",
        "                             logs_df['endpoint'].isNull() |\n",
        "                             logs_df['status'].isNull() |\n",
        "                             logs_df['content_size'].isNull()|\n",
        "                             logs_df['protocol'].isNull())\n",
        "bad_rows_df.count()"
      ],
      "execution_count": null,
      "outputs": [
        {
          "output_type": "execute_result",
          "data": {
            "text/plain": [
              "33905"
            ]
          },
          "metadata": {
            "tags": []
          },
          "execution_count": 22
        }
      ]
    },
    {
      "cell_type": "markdown",
      "metadata": {
        "id": "fP6KCp3R9Xgp"
      },
      "source": [
        "Ouch! Looks like we have over 30K missing values in our data! Can we handle this?"
      ]
    },
    {
      "cell_type": "markdown",
      "metadata": {
        "id": "sk1e6u9l9Xgq"
      },
      "source": [
        "Do remember, this is not a regular pandas dataframe which you can directly query and get which columns have null. Our so-called _big dataset_ is residing on disk which can potentially be present in multiple nodes in a spark cluster. So how do we find out which columns have potential nulls? \n",
        "\n",
        "### Finding Null Counts\n",
        "\n",
        "We can typically use the following technique to find out which columns have null values. \n",
        "\n",
        "(__Note:__ This approach is adapted from an [excellent answer](http://stackoverflow.com/a/33901312) on StackOverflow.)"
      ]
    },
    {
      "cell_type": "code",
      "metadata": {
        "id": "kDvXvh2b9Xgv",
        "outputId": "02c49313-d0a5-40bb-9a5e-ae488262d7e5"
      },
      "source": [
        "logs_df.columns"
      ],
      "execution_count": null,
      "outputs": [
        {
          "output_type": "execute_result",
          "data": {
            "text/plain": [
              "['host',\n",
              " 'timestamp',\n",
              " 'method',\n",
              " 'endpoint',\n",
              " 'protocol',\n",
              " 'status',\n",
              " 'content_size']"
            ]
          },
          "metadata": {
            "tags": []
          },
          "execution_count": 23
        }
      ]
    },
    {
      "cell_type": "code",
      "metadata": {
        "id": "HeKlPS1M9Xg1",
        "outputId": "738457e0-3946-43ec-9e16-629340ee0dd1"
      },
      "source": [
        "from pyspark.sql.functions import col\n",
        "from pyspark.sql.functions import sum as spark_sum\n",
        "\n",
        "def count_null(col_name):\n",
        "    return spark_sum(col(col_name).isNull().cast('integer')).alias(col_name)\n",
        "\n",
        "# Build up a list of column expressions, one per column.\n",
        "exprs = [count_null(col_name) for col_name in logs_df.columns]\n",
        "\n",
        "# Run the aggregation. The *exprs converts the list of expressions into\n",
        "# variable function arguments.\n",
        "logs_df.agg(*exprs).show()"
      ],
      "execution_count": null,
      "outputs": [
        {
          "output_type": "stream",
          "text": [
            "+----+---------+------+--------+--------+------+------------+\n",
            "|host|timestamp|method|endpoint|protocol|status|content_size|\n",
            "+----+---------+------+--------+--------+------+------------+\n",
            "|   0|        0|     0|       0|       0|     1|       33905|\n",
            "+----+---------+------+--------+--------+------+------------+\n",
            "\n"
          ],
          "name": "stdout"
        }
      ]
    },
    {
      "cell_type": "markdown",
      "metadata": {
        "id": "9UrJj7yZ9Xg4"
      },
      "source": [
        "Well, looks like we have one missing value in the `status` column and everything else is in the `content_size` column. \n",
        "Let's see if we can figure out what's wrong!"
      ]
    },
    {
      "cell_type": "markdown",
      "metadata": {
        "id": "eSHfs9EV9Xg6"
      },
      "source": [
        "### Handling nulls in HTTP status\n",
        "\n",
        "If you had solved it correctly, our original parsing regular expression for the `status` column was:\n",
        "\n",
        "```\n",
        "regexp_extract('value', r'\\s(\\d{3})\\s', 1).cast('integer').alias('status')\n",
        "``` \n",
        "\n",
        "Could it be that there are more digits making our regular expression wrong? or is the data point itself bad? Let's try and find out!\n",
        "\n",
        "**Note**: In the expression below, `~` means \"not\"."
      ]
    },
    {
      "cell_type": "code",
      "metadata": {
        "id": "076PZvNa9Xg8",
        "outputId": "9d02ffed-59d3-4987-ecb8-82e270624e0e"
      },
      "source": [
        "null_status_df = base_df.filter(~base_df['value'].rlike(r'\\s(\\d{3})\\s'))\n",
        "null_status_df.count()"
      ],
      "execution_count": null,
      "outputs": [
        {
          "output_type": "execute_result",
          "data": {
            "text/plain": [
              "1"
            ]
          },
          "metadata": {
            "tags": []
          },
          "execution_count": 25
        }
      ]
    },
    {
      "cell_type": "code",
      "metadata": {
        "id": "h43TcUlm9Xg_",
        "outputId": "78faedb0-e35e-4195-bddf-601dfdc6b01e"
      },
      "source": [
        "null_status_df.show(truncate=False)"
      ],
      "execution_count": null,
      "outputs": [
        {
          "output_type": "stream",
          "text": [
            "+--------+\n",
            "|value   |\n",
            "+--------+\n",
            "|alyssa.p|\n",
            "+--------+\n",
            "\n"
          ],
          "name": "stdout"
        }
      ]
    },
    {
      "cell_type": "code",
      "metadata": {
        "id": "xkUTtROr9XhC",
        "outputId": "6538f1f0-6a0d-4091-a07b-7d2c9f372182"
      },
      "source": [
        "bad_status_df = null_status_df.select(regexp_extract('value', host_pattern, 1).alias('host'),\n",
        "                                      regexp_extract('value', ts_pattern, 1).alias('timestamp'),\n",
        "                                      regexp_extract('value', method_uri_protocol_pattern, 1).alias('method'),\n",
        "                                      regexp_extract('value', method_uri_protocol_pattern, 2).alias('endpoint'),\n",
        "                                      regexp_extract('value', method_uri_protocol_pattern, 3).alias('protocol'),\n",
        "                                      regexp_extract('value', status_pattern, 1).cast('integer').alias('status'),\n",
        "                                      regexp_extract('value', content_size_pattern, 1).cast('integer').alias('content_size'))\n",
        "bad_status_df.show(truncate=False)"
      ],
      "execution_count": null,
      "outputs": [
        {
          "output_type": "stream",
          "text": [
            "+----+---------+------+--------+--------+------+------------+\n",
            "|host|timestamp|method|endpoint|protocol|status|content_size|\n",
            "+----+---------+------+--------+--------+------+------------+\n",
            "|    |         |      |        |        |null  |null        |\n",
            "+----+---------+------+--------+--------+------+------------+\n",
            "\n"
          ],
          "name": "stdout"
        }
      ]
    },
    {
      "cell_type": "markdown",
      "metadata": {
        "id": "H72JrCL09XhF"
      },
      "source": [
        "Looks like the record itself is an incomplete record with no useful information, the best option would be to drop this record as follows!"
      ]
    },
    {
      "cell_type": "code",
      "metadata": {
        "id": "a0FqJfik9XhG",
        "outputId": "f0987f17-fb63-494a-a466-8caf5bf46b9b"
      },
      "source": [
        "logs_df.count()"
      ],
      "execution_count": null,
      "outputs": [
        {
          "output_type": "execute_result",
          "data": {
            "text/plain": [
              "3461613"
            ]
          },
          "metadata": {
            "tags": []
          },
          "execution_count": 28
        }
      ]
    },
    {
      "cell_type": "code",
      "metadata": {
        "id": "fqUKc3W19XhK",
        "outputId": "ff4d9d6b-cbaf-40b4-b80e-976bcffef90a"
      },
      "source": [
        "logs_df = logs_df[logs_df['status'].isNotNull()]\n",
        "logs_df.count()"
      ],
      "execution_count": null,
      "outputs": [
        {
          "output_type": "execute_result",
          "data": {
            "text/plain": [
              "3461612"
            ]
          },
          "metadata": {
            "tags": []
          },
          "execution_count": 29
        }
      ]
    },
    {
      "cell_type": "code",
      "metadata": {
        "id": "RXwls4HM9XhM",
        "outputId": "f5126533-a639-44fd-a73b-c8f05a6d3d8a"
      },
      "source": [
        "exprs = [count_null(col_name) for col_name in logs_df.columns]\n",
        "logs_df.agg(*exprs).show()"
      ],
      "execution_count": null,
      "outputs": [
        {
          "output_type": "stream",
          "text": [
            "+----+---------+------+--------+--------+------+------------+\n",
            "|host|timestamp|method|endpoint|protocol|status|content_size|\n",
            "+----+---------+------+--------+--------+------+------------+\n",
            "|   0|        0|     0|       0|       0|     0|       33904|\n",
            "+----+---------+------+--------+--------+------+------------+\n",
            "\n"
          ],
          "name": "stdout"
        }
      ]
    },
    {
      "cell_type": "markdown",
      "metadata": {
        "id": "JKINFjKw9XhQ"
      },
      "source": [
        "### Handling nulls in HTTP content size\n",
        "\n",
        "Again based on our previous regular expression and assuming you were able to solve it correctly, our original parsing regular expression for the `content_size` column was:\n",
        "\n",
        "```\n",
        "regexp_extract('value', r'\\s(\\d+)$', 1).cast('integer').alias('content_size')\n",
        "``` \n",
        "\n",
        "Could there be missing data in our original dataset itself? Let's try and find out!"
      ]
    },
    {
      "cell_type": "markdown",
      "metadata": {
        "id": "8KxgECLb9XhR"
      },
      "source": [
        "### Q2: Your Turn: Find out the records in our base data frame with potential missing content sizes\n",
        "\n",
        "- Use the `r'\\s\\d+$'` regex pattern with the `rlike()` function like we demonstrated in the previous example\n",
        "- Remember to work on `base_df` since we are searching on the raw records NOT the parsed `logs_df`\n",
        "- Find the total count of the records with missing content size in `base_df` using the `count()` function"
      ]
    },
    {
      "cell_type": "code",
      "metadata": {
        "id": "zO39RE_z9XhS",
        "outputId": "f9ec59a8-7c62-4fe1-de23-1c3be12bd871"
      },
      "source": [
        "# TODO: Replace <FILL IN> with appropriate code\n",
        "\n",
        "null_content_size_df = base_df.filter(~base_df['value'].rlike(r'\\s(\\d+)$'))\n",
        "null_content_size_df.count()"
      ],
      "execution_count": null,
      "outputs": [
        {
          "output_type": "execute_result",
          "data": {
            "text/plain": [
              "33905"
            ]
          },
          "metadata": {
            "tags": []
          },
          "execution_count": 31
        }
      ]
    },
    {
      "cell_type": "markdown",
      "metadata": {
        "id": "tNC4rshQ9XhV"
      },
      "source": [
        "### Q3: Your Turn: Display the top ten records of your data frame having missing content sizes"
      ]
    },
    {
      "cell_type": "code",
      "metadata": {
        "id": "d36KGtEe9XhW",
        "outputId": "3974425a-0f3c-471b-d657-cfac3114d237"
      },
      "source": [
        "# TODO: Replace <FILL IN> with appropriate code\n",
        "\n",
        "null_content_size_df.show(10, truncate=False)"
      ],
      "execution_count": null,
      "outputs": [
        {
          "output_type": "stream",
          "text": [
            "+--------------------------------------------------------------------------------------------------------------------------------------------------+\n",
            "|value                                                                                                                                             |\n",
            "+--------------------------------------------------------------------------------------------------------------------------------------------------+\n",
            "|dd15-062.compuserve.com - - [01/Jul/1995:00:01:12 -0400] \"GET /news/sci.space.shuttle/archive/sci-space-shuttle-22-apr-1995-40.txt HTTP/1.0\" 404 -|\n",
            "|dynip42.efn.org - - [01/Jul/1995:00:02:14 -0400] \"GET /software HTTP/1.0\" 302 -                                                                   |\n",
            "|ix-or10-06.ix.netcom.com - - [01/Jul/1995:00:02:40 -0400] \"GET /software/winvn HTTP/1.0\" 302 -                                                    |\n",
            "|ix-or10-06.ix.netcom.com - - [01/Jul/1995:00:03:24 -0400] \"GET /software HTTP/1.0\" 302 -                                                          |\n",
            "|link097.txdirect.net - - [01/Jul/1995:00:05:06 -0400] \"GET /shuttle HTTP/1.0\" 302 -                                                               |\n",
            "|ix-war-mi1-20.ix.netcom.com - - [01/Jul/1995:00:05:13 -0400] \"GET /shuttle/missions/sts-78/news HTTP/1.0\" 302 -                                   |\n",
            "|ix-war-mi1-20.ix.netcom.com - - [01/Jul/1995:00:05:58 -0400] \"GET /shuttle/missions/sts-72/news HTTP/1.0\" 302 -                                   |\n",
            "|netport-27.iu.net - - [01/Jul/1995:00:10:19 -0400] \"GET /pub/winvn/readme.txt HTTP/1.0\" 404 -                                                     |\n",
            "|netport-27.iu.net - - [01/Jul/1995:00:10:28 -0400] \"GET /pub/winvn/readme.txt HTTP/1.0\" 404 -                                                     |\n",
            "|dynip38.efn.org - - [01/Jul/1995:00:10:50 -0400] \"GET /software HTTP/1.0\" 302 -                                                                   |\n",
            "+--------------------------------------------------------------------------------------------------------------------------------------------------+\n",
            "only showing top 10 rows\n",
            "\n"
          ],
          "name": "stdout"
        }
      ]
    },
    {
      "cell_type": "markdown",
      "metadata": {
        "id": "IWxu-E6I9Xhb"
      },
      "source": [
        "Assuming you were able to get to the missing records above, it is quite evident that the bad raw data records correspond to error responses, where no content was sent back and the server emitted a \"`-`\" for the `content_size` field. \n",
        "\n",
        "Since we don't want to discard those rows from our analysis, let's impute or fill them to 0."
      ]
    },
    {
      "cell_type": "markdown",
      "metadata": {
        "id": "E5bjZlM89Xhb"
      },
      "source": [
        "### Q4: Your Turn: Fix the rows with null content\\_size\n",
        "\n",
        "The easiest solution is to replace the null values in `logs_df` with 0 like we discussed earlier. The Spark DataFrame API provides a set of functions and fields specifically designed for working with null values, among them:\n",
        "\n",
        "* [fillna()](http://spark.apache.org/docs/latest/api/python/pyspark.sql.html#pyspark.sql.DataFrame.fillna), which fills null values with specified non-null values.\n",
        "* [na](http://spark.apache.org/docs/latest/api/python/pyspark.sql.html#pyspark.sql.DataFrame.na), which returns a [DataFrameNaFunctions](http://spark.apache.org/docs/latest/api/python/pyspark.sql.html#pyspark.sql.DataFrameNaFunctions) object with many functions for operating on null columns.\n",
        "\n",
        "There are several ways to invoke this function. The easiest is just to replace _all_ null columns with known values. But, for safety, it's better to pass a Python dictionary containing (column\\_name, value) mappings. That's what we'll do. A sample example from the documentation is depicted below\n",
        "\n",
        "```\n",
        ">>> df4.na.fill({'age': 50, 'name': 'unknown'}).show()\n",
        "+---+------+-------+\n",
        "|age|height|   name|\n",
        "+---+------+-------+\n",
        "| 10|    80|  Alice|\n",
        "|  5|  null|    Bob|\n",
        "| 50|  null|    Tom|\n",
        "| 50|  null|unknown|\n",
        "+---+------+-------+\n",
        "```\n",
        "\n",
        "Now use this function and fill all the missing values in the `content_size` field with 0!"
      ]
    },
    {
      "cell_type": "code",
      "metadata": {
        "id": "ivlGHJBI9Xhc"
      },
      "source": [
        "# TODO: Replace <FILL IN> with appropriate code\n",
        "\n",
        "logs_df = logs_df.na.fill({'content_size': 0})"
      ],
      "execution_count": null,
      "outputs": []
    },
    {
      "cell_type": "markdown",
      "metadata": {
        "id": "yumm-cad9Xhg"
      },
      "source": [
        "Now assuming you were able to fill in the missing values successfully in the previous question, we should have no missing values \\ nulls in our dataset. Let's verify this!"
      ]
    },
    {
      "cell_type": "code",
      "metadata": {
        "id": "up5JfVCP9Xhj",
        "outputId": "89ef0dd7-cdf2-43b2-cdd8-359b262fa9dd"
      },
      "source": [
        "exprs = [count_null(col_name) for col_name in logs_df.columns]\n",
        "logs_df.agg(*exprs).show()"
      ],
      "execution_count": null,
      "outputs": [
        {
          "output_type": "stream",
          "text": [
            "+----+---------+------+--------+--------+------+------------+\n",
            "|host|timestamp|method|endpoint|protocol|status|content_size|\n",
            "+----+---------+------+--------+--------+------+------------+\n",
            "|   0|        0|     0|       0|       0|     0|           0|\n",
            "+----+---------+------+--------+--------+------+------------+\n",
            "\n"
          ],
          "name": "stdout"
        }
      ]
    },
    {
      "cell_type": "markdown",
      "metadata": {
        "id": "L5kJLDnR9Xhm"
      },
      "source": [
        "Look at that, no missing values! "
      ]
    },
    {
      "cell_type": "markdown",
      "metadata": {
        "id": "KElSFx8y9Xho"
      },
      "source": [
        "## Handling Temporal Fields (Timestamp)\n",
        "\n",
        "Now that we have a clean, parsed DataFrame, we have to parse the timestamp field into an actual timestamp. The Common Log Format time is somewhat non-standard. A User-Defined Function (UDF) is the most straightforward way to parse it."
      ]
    },
    {
      "cell_type": "code",
      "metadata": {
        "id": "sipPLk_n9Xhp"
      },
      "source": [
        "from pyspark.sql.functions import udf\n",
        "\n",
        "month_map = {\n",
        "  'Jan': 1, 'Feb': 2, 'Mar':3, 'Apr':4, 'May':5, 'Jun':6, 'Jul':7,\n",
        "  'Aug':8,  'Sep': 9, 'Oct':10, 'Nov': 11, 'Dec': 12\n",
        "}\n",
        "\n",
        "def parse_clf_time(text):\n",
        "    \"\"\" Convert Common Log time format into a Python datetime object\n",
        "    Args:\n",
        "        text (str): date and time in Apache time format [dd/mmm/yyyy:hh:mm:ss (+/-)zzzz]\n",
        "    Returns:\n",
        "        a string suitable for passing to CAST('timestamp')\n",
        "    \"\"\"\n",
        "    # NOTE: We're ignoring time zone here. In a production application, you'd want to handle that.\n",
        "    return \"{0:04d}-{1:02d}-{2:02d} {3:02d}:{4:02d}:{5:02d}\".format(\n",
        "      int(text[7:11]),\n",
        "      month_map[text[3:6]],\n",
        "      int(text[0:2]),\n",
        "      int(text[12:14]),\n",
        "      int(text[15:17]),\n",
        "      int(text[18:20])\n",
        "    )"
      ],
      "execution_count": null,
      "outputs": []
    },
    {
      "cell_type": "code",
      "metadata": {
        "id": "aexJ2oz69Xhs",
        "outputId": "3a80e97c-586a-4a9a-b867-b52ebbce9271"
      },
      "source": [
        "sample_ts = [item['timestamp'] for item in logs_df.select('timestamp').take(5)]\n",
        "sample_ts"
      ],
      "execution_count": null,
      "outputs": [
        {
          "output_type": "execute_result",
          "data": {
            "text/plain": [
              "['01/Jul/1995:00:00:01 -0400',\n",
              " '01/Jul/1995:00:00:06 -0400',\n",
              " '01/Jul/1995:00:00:09 -0400',\n",
              " '01/Jul/1995:00:00:11 -0400',\n",
              " '01/Jul/1995:00:00:11 -0400']"
            ]
          },
          "metadata": {
            "tags": []
          },
          "execution_count": 36
        }
      ]
    },
    {
      "cell_type": "code",
      "metadata": {
        "id": "bRghaiJU9Xhw",
        "outputId": "eec6b068-70d0-402f-ccd2-17ac9350ae0b"
      },
      "source": [
        "[parse_clf_time(item) for item in sample_ts]"
      ],
      "execution_count": null,
      "outputs": [
        {
          "output_type": "execute_result",
          "data": {
            "text/plain": [
              "['1995-07-01 00:00:01',\n",
              " '1995-07-01 00:00:06',\n",
              " '1995-07-01 00:00:09',\n",
              " '1995-07-01 00:00:11',\n",
              " '1995-07-01 00:00:11']"
            ]
          },
          "metadata": {
            "tags": []
          },
          "execution_count": 37
        }
      ]
    },
    {
      "cell_type": "code",
      "metadata": {
        "id": "oZjd4C1U9Xh0",
        "outputId": "507d81e5-bdfc-4907-cd79-4c9e3da0c772"
      },
      "source": [
        "udf_parse_time = udf(parse_clf_time)\n",
        "\n",
        "logs_df = logs_df.select('*', udf_parse_time(logs_df['timestamp']).cast('timestamp').alias('time')).drop('timestamp')\n",
        "logs_df.show(10, truncate=True)"
      ],
      "execution_count": null,
      "outputs": [
        {
          "output_type": "stream",
          "text": [
            "+--------------------+------+--------------------+--------+------+------------+-------------------+\n",
            "|                host|method|            endpoint|protocol|status|content_size|               time|\n",
            "+--------------------+------+--------------------+--------+------+------------+-------------------+\n",
            "|        199.72.81.55|   GET|    /history/apollo/|HTTP/1.0|   200|        6245|1995-07-01 00:00:01|\n",
            "|unicomp6.unicomp.net|   GET| /shuttle/countdown/|HTTP/1.0|   200|        3985|1995-07-01 00:00:06|\n",
            "|      199.120.110.21|   GET|/shuttle/missions...|HTTP/1.0|   200|        4085|1995-07-01 00:00:09|\n",
            "|  burger.letters.com|   GET|/shuttle/countdow...|HTTP/1.0|   304|           0|1995-07-01 00:00:11|\n",
            "|      199.120.110.21|   GET|/shuttle/missions...|HTTP/1.0|   200|        4179|1995-07-01 00:00:11|\n",
            "|  burger.letters.com|   GET|/images/NASA-logo...|HTTP/1.0|   304|           0|1995-07-01 00:00:12|\n",
            "|  burger.letters.com|   GET|/shuttle/countdow...|HTTP/1.0|   200|           0|1995-07-01 00:00:12|\n",
            "|     205.212.115.106|   GET|/shuttle/countdow...|HTTP/1.0|   200|        3985|1995-07-01 00:00:12|\n",
            "|         d104.aa.net|   GET| /shuttle/countdown/|HTTP/1.0|   200|        3985|1995-07-01 00:00:13|\n",
            "|      129.94.144.152|   GET|                   /|HTTP/1.0|   200|        7074|1995-07-01 00:00:13|\n",
            "+--------------------+------+--------------------+--------+------+------------+-------------------+\n",
            "only showing top 10 rows\n",
            "\n"
          ],
          "name": "stdout"
        }
      ]
    },
    {
      "cell_type": "code",
      "metadata": {
        "id": "3U0Bn1429Xh4",
        "outputId": "309c4a05-4d3a-423c-c529-0a6571724d15"
      },
      "source": [
        "logs_df.printSchema()"
      ],
      "execution_count": null,
      "outputs": [
        {
          "output_type": "stream",
          "text": [
            "root\n",
            " |-- host: string (nullable = true)\n",
            " |-- method: string (nullable = true)\n",
            " |-- endpoint: string (nullable = true)\n",
            " |-- protocol: string (nullable = true)\n",
            " |-- status: integer (nullable = true)\n",
            " |-- content_size: integer (nullable = false)\n",
            " |-- time: timestamp (nullable = true)\n",
            "\n"
          ],
          "name": "stdout"
        }
      ]
    },
    {
      "cell_type": "code",
      "metadata": {
        "id": "S2P6UQhM9Xh7",
        "outputId": "4f3f411e-15ba-4ed6-cb96-d8c40fcfab2f"
      },
      "source": [
        "logs_df.limit(5).toPandas()"
      ],
      "execution_count": null,
      "outputs": [
        {
          "output_type": "execute_result",
          "data": {
            "text/html": [
              "<div>\n",
              "<style>\n",
              "    .dataframe thead tr:only-child th {\n",
              "        text-align: right;\n",
              "    }\n",
              "\n",
              "    .dataframe thead th {\n",
              "        text-align: left;\n",
              "    }\n",
              "\n",
              "    .dataframe tbody tr th {\n",
              "        vertical-align: top;\n",
              "    }\n",
              "</style>\n",
              "<table border=\"1\" class=\"dataframe\">\n",
              "  <thead>\n",
              "    <tr style=\"text-align: right;\">\n",
              "      <th></th>\n",
              "      <th>host</th>\n",
              "      <th>method</th>\n",
              "      <th>endpoint</th>\n",
              "      <th>protocol</th>\n",
              "      <th>status</th>\n",
              "      <th>content_size</th>\n",
              "      <th>time</th>\n",
              "    </tr>\n",
              "  </thead>\n",
              "  <tbody>\n",
              "    <tr>\n",
              "      <th>0</th>\n",
              "      <td>199.72.81.55</td>\n",
              "      <td>GET</td>\n",
              "      <td>/history/apollo/</td>\n",
              "      <td>HTTP/1.0</td>\n",
              "      <td>200</td>\n",
              "      <td>6245</td>\n",
              "      <td>1995-07-01 00:00:01</td>\n",
              "    </tr>\n",
              "    <tr>\n",
              "      <th>1</th>\n",
              "      <td>unicomp6.unicomp.net</td>\n",
              "      <td>GET</td>\n",
              "      <td>/shuttle/countdown/</td>\n",
              "      <td>HTTP/1.0</td>\n",
              "      <td>200</td>\n",
              "      <td>3985</td>\n",
              "      <td>1995-07-01 00:00:06</td>\n",
              "    </tr>\n",
              "    <tr>\n",
              "      <th>2</th>\n",
              "      <td>199.120.110.21</td>\n",
              "      <td>GET</td>\n",
              "      <td>/shuttle/missions/sts-73/mission-sts-73.html</td>\n",
              "      <td>HTTP/1.0</td>\n",
              "      <td>200</td>\n",
              "      <td>4085</td>\n",
              "      <td>1995-07-01 00:00:09</td>\n",
              "    </tr>\n",
              "    <tr>\n",
              "      <th>3</th>\n",
              "      <td>burger.letters.com</td>\n",
              "      <td>GET</td>\n",
              "      <td>/shuttle/countdown/liftoff.html</td>\n",
              "      <td>HTTP/1.0</td>\n",
              "      <td>304</td>\n",
              "      <td>0</td>\n",
              "      <td>1995-07-01 00:00:11</td>\n",
              "    </tr>\n",
              "    <tr>\n",
              "      <th>4</th>\n",
              "      <td>199.120.110.21</td>\n",
              "      <td>GET</td>\n",
              "      <td>/shuttle/missions/sts-73/sts-73-patch-small.gif</td>\n",
              "      <td>HTTP/1.0</td>\n",
              "      <td>200</td>\n",
              "      <td>4179</td>\n",
              "      <td>1995-07-01 00:00:11</td>\n",
              "    </tr>\n",
              "  </tbody>\n",
              "</table>\n",
              "</div>"
            ],
            "text/plain": [
              "                   host method  \\\n",
              "0          199.72.81.55    GET   \n",
              "1  unicomp6.unicomp.net    GET   \n",
              "2        199.120.110.21    GET   \n",
              "3    burger.letters.com    GET   \n",
              "4        199.120.110.21    GET   \n",
              "\n",
              "                                          endpoint  protocol  status  \\\n",
              "0                                 /history/apollo/  HTTP/1.0     200   \n",
              "1                              /shuttle/countdown/  HTTP/1.0     200   \n",
              "2     /shuttle/missions/sts-73/mission-sts-73.html  HTTP/1.0     200   \n",
              "3                  /shuttle/countdown/liftoff.html  HTTP/1.0     304   \n",
              "4  /shuttle/missions/sts-73/sts-73-patch-small.gif  HTTP/1.0     200   \n",
              "\n",
              "   content_size                time  \n",
              "0          6245 1995-07-01 00:00:01  \n",
              "1          3985 1995-07-01 00:00:06  \n",
              "2          4085 1995-07-01 00:00:09  \n",
              "3             0 1995-07-01 00:00:11  \n",
              "4          4179 1995-07-01 00:00:11  "
            ]
          },
          "metadata": {
            "tags": []
          },
          "execution_count": 40
        }
      ]
    },
    {
      "cell_type": "markdown",
      "metadata": {
        "id": "DMF2kqxR9Xh-"
      },
      "source": [
        "Let's now cache `logs_df` since we will be using it extensively for our data analysis section in the next part!"
      ]
    },
    {
      "cell_type": "markdown",
      "metadata": {
        "id": "OViBUJDu9Xh_"
      },
      "source": [
        "# Section 4 - Data Analysis on our Web Logs\n",
        "\n",
        "Now that we have a DataFrame containing the parsed log file as a data frame, we can perform some interesting exploratory data analysis (EDA)\n",
        "\n",
        "## Example: Content Size Statistics\n",
        "\n",
        "Let's compute some statistics about the sizes of content being returned by the web server. In particular, we'd like to know what are the average, minimum, and maximum content sizes.\n",
        "\n",
        "We can compute the statistics by calling `.describe()` on the `content_size` column of `logs_df`.  The `.describe()` function returns the count, mean, stddev, min, and max of a given column."
      ]
    },
    {
      "cell_type": "code",
      "metadata": {
        "id": "wx5kzQdh9XiA",
        "outputId": "9befee0e-e65f-4f81-a49a-a789d5c04aa7"
      },
      "source": [
        "content_size_summary_df = logs_df.describe(['content_size'])\n",
        "content_size_summary_df.toPandas()"
      ],
      "execution_count": null,
      "outputs": [
        {
          "output_type": "execute_result",
          "data": {
            "text/html": [
              "<div>\n",
              "<style>\n",
              "    .dataframe thead tr:only-child th {\n",
              "        text-align: right;\n",
              "    }\n",
              "\n",
              "    .dataframe thead th {\n",
              "        text-align: left;\n",
              "    }\n",
              "\n",
              "    .dataframe tbody tr th {\n",
              "        vertical-align: top;\n",
              "    }\n",
              "</style>\n",
              "<table border=\"1\" class=\"dataframe\">\n",
              "  <thead>\n",
              "    <tr style=\"text-align: right;\">\n",
              "      <th></th>\n",
              "      <th>summary</th>\n",
              "      <th>content_size</th>\n",
              "    </tr>\n",
              "  </thead>\n",
              "  <tbody>\n",
              "    <tr>\n",
              "      <th>0</th>\n",
              "      <td>count</td>\n",
              "      <td>3461612</td>\n",
              "    </tr>\n",
              "    <tr>\n",
              "      <th>1</th>\n",
              "      <td>mean</td>\n",
              "      <td>18928.844398216785</td>\n",
              "    </tr>\n",
              "    <tr>\n",
              "      <th>2</th>\n",
              "      <td>stddev</td>\n",
              "      <td>73031.47260949228</td>\n",
              "    </tr>\n",
              "    <tr>\n",
              "      <th>3</th>\n",
              "      <td>min</td>\n",
              "      <td>0</td>\n",
              "    </tr>\n",
              "    <tr>\n",
              "      <th>4</th>\n",
              "      <td>max</td>\n",
              "      <td>6823936</td>\n",
              "    </tr>\n",
              "  </tbody>\n",
              "</table>\n",
              "</div>"
            ],
            "text/plain": [
              "  summary        content_size\n",
              "0   count             3461612\n",
              "1    mean  18928.844398216785\n",
              "2  stddev   73031.47260949228\n",
              "3     min                   0\n",
              "4     max             6823936"
            ]
          },
          "metadata": {
            "tags": []
          },
          "execution_count": 41
        }
      ]
    },
    {
      "cell_type": "markdown",
      "metadata": {
        "id": "zD0q9uds9XiE"
      },
      "source": [
        "Alternatively, we can use SQL to directly calculate these statistics.  You can explore many useful functions within the `pyspark.sql.functions` module in the [documentation](https://spark.apache.org/docs/latest/api/python/pyspark.sql.html#module-pyspark.sql.functions).\n",
        "\n",
        "After we apply the `.agg()` function, we call `toPandas()` to extract and convert the result into a `pandas` dataframe which has better formatting on Jupyter notebooks"
      ]
    },
    {
      "cell_type": "code",
      "metadata": {
        "id": "FyXPb73i9XiF",
        "outputId": "a93b580f-c42b-413d-c0c7-3fe61e0d7f26"
      },
      "source": [
        "from pyspark.sql import functions as F\n",
        "\n",
        "(logs_df.agg(F.min(logs_df['content_size']).alias('min_content_size'),\n",
        "             F.max(logs_df['content_size']).alias('max_content_size'),\n",
        "             F.mean(logs_df['content_size']).alias('mean_content_size'),\n",
        "             F.stddev(logs_df['content_size']).alias('std_content_size'),\n",
        "             F.count(logs_df['content_size']).alias('count_content_size'))\n",
        "        .toPandas())"
      ],
      "execution_count": null,
      "outputs": [
        {
          "output_type": "execute_result",
          "data": {
            "text/html": [
              "<div>\n",
              "<style>\n",
              "    .dataframe thead tr:only-child th {\n",
              "        text-align: right;\n",
              "    }\n",
              "\n",
              "    .dataframe thead th {\n",
              "        text-align: left;\n",
              "    }\n",
              "\n",
              "    .dataframe tbody tr th {\n",
              "        vertical-align: top;\n",
              "    }\n",
              "</style>\n",
              "<table border=\"1\" class=\"dataframe\">\n",
              "  <thead>\n",
              "    <tr style=\"text-align: right;\">\n",
              "      <th></th>\n",
              "      <th>min_content_size</th>\n",
              "      <th>max_content_size</th>\n",
              "      <th>mean_content_size</th>\n",
              "      <th>std_content_size</th>\n",
              "      <th>count_content_size</th>\n",
              "    </tr>\n",
              "  </thead>\n",
              "  <tbody>\n",
              "    <tr>\n",
              "      <th>0</th>\n",
              "      <td>0</td>\n",
              "      <td>6823936</td>\n",
              "      <td>18928.844398</td>\n",
              "      <td>73031.472609</td>\n",
              "      <td>3461612</td>\n",
              "    </tr>\n",
              "  </tbody>\n",
              "</table>\n",
              "</div>"
            ],
            "text/plain": [
              "   min_content_size  max_content_size  mean_content_size  std_content_size  \\\n",
              "0                 0           6823936       18928.844398      73031.472609   \n",
              "\n",
              "   count_content_size  \n",
              "0             3461612  "
            ]
          },
          "metadata": {
            "tags": []
          },
          "execution_count": 42
        }
      ]
    },
    {
      "cell_type": "markdown",
      "metadata": {
        "id": "dA89atfm9XiI"
      },
      "source": [
        "## Example: HTTP Status Code Analysis\n",
        "\n",
        "Next, let's look at the status code values that appear in the log. We want to know which status code values appear in the data and how many times.  \n",
        "\n",
        "We again start with `logs_df`, then group by the `status` column, apply the `.count()` aggregation function, and sort by the `status` column."
      ]
    },
    {
      "cell_type": "code",
      "metadata": {
        "id": "5hMHfp909XiJ"
      },
      "source": [
        "status_freq_df = (logs_df\n",
        "                     .groupBy('status')\n",
        "                     .count()\n",
        "                     .sort('status')\n",
        "                     .cache())"
      ],
      "execution_count": null,
      "outputs": []
    },
    {
      "cell_type": "code",
      "metadata": {
        "id": "tZ4KFNbm9XiM",
        "outputId": "0e19563b-46a6-41d9-872c-eaae89428d3a"
      },
      "source": [
        "print('Total distinct HTTP Status Codes:', status_freq_df.count())"
      ],
      "execution_count": null,
      "outputs": [
        {
          "output_type": "stream",
          "text": [
            "Total distinct HTTP Status Codes: 8\n"
          ],
          "name": "stdout"
        }
      ]
    },
    {
      "cell_type": "code",
      "metadata": {
        "id": "Shm0yDE79XiQ",
        "outputId": "98cf8cc9-29ac-4abc-96e1-3247497781b9"
      },
      "source": [
        "status_freq_pd_df = status_freq_df.toPandas()\n",
        "status_freq_pd_df"
      ],
      "execution_count": null,
      "outputs": [
        {
          "output_type": "execute_result",
          "data": {
            "text/html": [
              "<div>\n",
              "<style>\n",
              "    .dataframe thead tr:only-child th {\n",
              "        text-align: right;\n",
              "    }\n",
              "\n",
              "    .dataframe thead th {\n",
              "        text-align: left;\n",
              "    }\n",
              "\n",
              "    .dataframe tbody tr th {\n",
              "        vertical-align: top;\n",
              "    }\n",
              "</style>\n",
              "<table border=\"1\" class=\"dataframe\">\n",
              "  <thead>\n",
              "    <tr style=\"text-align: right;\">\n",
              "      <th></th>\n",
              "      <th>status</th>\n",
              "      <th>count</th>\n",
              "    </tr>\n",
              "  </thead>\n",
              "  <tbody>\n",
              "    <tr>\n",
              "      <th>0</th>\n",
              "      <td>200</td>\n",
              "      <td>3100524</td>\n",
              "    </tr>\n",
              "    <tr>\n",
              "      <th>1</th>\n",
              "      <td>302</td>\n",
              "      <td>73070</td>\n",
              "    </tr>\n",
              "    <tr>\n",
              "      <th>2</th>\n",
              "      <td>304</td>\n",
              "      <td>266773</td>\n",
              "    </tr>\n",
              "    <tr>\n",
              "      <th>3</th>\n",
              "      <td>400</td>\n",
              "      <td>15</td>\n",
              "    </tr>\n",
              "    <tr>\n",
              "      <th>4</th>\n",
              "      <td>403</td>\n",
              "      <td>225</td>\n",
              "    </tr>\n",
              "    <tr>\n",
              "      <th>5</th>\n",
              "      <td>404</td>\n",
              "      <td>20899</td>\n",
              "    </tr>\n",
              "    <tr>\n",
              "      <th>6</th>\n",
              "      <td>500</td>\n",
              "      <td>65</td>\n",
              "    </tr>\n",
              "    <tr>\n",
              "      <th>7</th>\n",
              "      <td>501</td>\n",
              "      <td>41</td>\n",
              "    </tr>\n",
              "  </tbody>\n",
              "</table>\n",
              "</div>"
            ],
            "text/plain": [
              "   status    count\n",
              "0     200  3100524\n",
              "1     302    73070\n",
              "2     304   266773\n",
              "3     400       15\n",
              "4     403      225\n",
              "5     404    20899\n",
              "6     500       65\n",
              "7     501       41"
            ]
          },
          "metadata": {
            "tags": []
          },
          "execution_count": 45
        }
      ]
    },
    {
      "cell_type": "code",
      "metadata": {
        "id": "dj_SH9Rg9XiZ",
        "outputId": "2ce9dc74-5684-41c1-915d-46c9da4149ca"
      },
      "source": [
        "import matplotlib.pyplot as plt\n",
        "%matplotlib inline\n",
        "\n",
        "status_freq_pd_df.plot(x='status', y='count', kind='bar')"
      ],
      "execution_count": null,
      "outputs": [
        {
          "output_type": "execute_result",
          "data": {
            "text/plain": [
              "<matplotlib.axes._subplots.AxesSubplot at 0x7ff40fd30c18>"
            ]
          },
          "metadata": {
            "tags": []
          },
          "execution_count": 46
        },
        {
          "output_type": "display_data",
          "data": {
            "image/png": "[encoded data removed]",
            "text/plain": [
              "<Figure size 432x288 with 1 Axes>"
            ]
          },
          "metadata": {
            "tags": []
          }
        }
      ]
    },
    {
      "cell_type": "code",
      "metadata": {
        "id": "tSf4uf0Y9Xid",
        "outputId": "1215a2e3-a2b6-47ed-af3e-b01fcf9cc007"
      },
      "source": [
        "log_freq_df = status_freq_df.withColumn('log(count)', F.log(status_freq_df['count']))\n",
        "log_freq_df.show()"
      ],
      "execution_count": null,
      "outputs": [
        {
          "output_type": "stream",
          "text": [
            "+------+-------+------------------+\n",
            "|status|  count|        log(count)|\n",
            "+------+-------+------------------+\n",
            "|   200|3100524|14.947081687429097|\n",
            "|   302|  73070|11.199173164785263|\n",
            "|   304| 266773|12.494153388502301|\n",
            "|   400|     15|  2.70805020110221|\n",
            "|   403|    225|  5.41610040220442|\n",
            "|   404|  20899| 9.947456589918252|\n",
            "|   500|     65| 4.174387269895637|\n",
            "|   501|     41| 3.713572066704308|\n",
            "+------+-------+------------------+\n",
            "\n"
          ],
          "name": "stdout"
        }
      ]
    },
    {
      "cell_type": "markdown",
      "metadata": {
        "id": "pk96Se1X9Xii"
      },
      "source": [
        "#### Q5: Your Turn: Convert the log\\_freq\\_df to a pandas DataFrame and plot a bar chart displaying counts of each HTTP Status Code"
      ]
    },
    {
      "cell_type": "code",
      "metadata": {
        "id": "YrR6r0_Y9Xij",
        "outputId": "c2fa07b4-0be8-4da9-a0c8-5b496c5c57ed"
      },
      "source": [
        "# TODO: Replace <FILL IN> with appropriate code\n",
        "log_freq_pd_df = log_freq_df.toPandas()\n",
        "log_freq_pd_df.plot(x='status', y='count', kind='bar')"
      ],
      "execution_count": null,
      "outputs": [
        {
          "output_type": "execute_result",
          "data": {
            "text/plain": [
              "<matplotlib.axes._subplots.AxesSubplot at 0x7ff40c174f60>"
            ]
          },
          "metadata": {
            "tags": []
          },
          "execution_count": 48
        },
        {
          "output_type": "display_data",
          "data": {
            "image/png": "[encoded data removed]",
            "text/plain": [
              "<Figure size 432x288 with 1 Axes>"
            ]
          },
          "metadata": {
            "tags": []
          }
        }
      ]
    },
    {
      "cell_type": "markdown",
      "metadata": {
        "id": "WowjOh8k9Xin"
      },
      "source": [
        "## Your Turn: Q6: Analyzing Frequent Hosts\n",
        "\n",
        "Let's look at hosts that have accessed the server frequently. Try to get the count of total accesses by each `host` and then sort by the counts and display only the top ten most frequent hosts.\n",
        "\n",
        "__Hints:__\n",
        "\n",
        "- Your Spark DataFrame has a `host` column\n",
        "- Get the counts per `host` which would make a `count` column\n",
        "- Sort by the counts. Please check [__the documentation__](https://spark.apache.org/docs/latest/api/python/pyspark.sql.html#pyspark.sql.DataFrame.sort) to see how to sort in reverse\n",
        "- Remember only to get the top 10 rows from the aggregated dataframe and show them"
      ]
    },
    {
      "cell_type": "code",
      "metadata": {
        "id": "x4JLmpB49Xin",
        "outputId": "b336b48e-323e-41fe-f428-89bffbbd68b3"
      },
      "source": [
        "# TODO: Replace <FILL IN> with appropriate code\n",
        "\n",
        "host_sum_df =(logs_df.groupby('host').count().sort('count', ascending=False).cache().limit(10))\n",
        "\n",
        "host_sum_df.show(truncate=False)"
      ],
      "execution_count": null,
      "outputs": [
        {
          "output_type": "stream",
          "text": [
            "+--------------------+-----+\n",
            "|host                |count|\n",
            "+--------------------+-----+\n",
            "|piweba3y.prodigy.com|21988|\n",
            "|piweba4y.prodigy.com|16437|\n",
            "|piweba1y.prodigy.com|12825|\n",
            "|edams.ksc.nasa.gov  |11964|\n",
            "|163.206.89.4        |9697 |\n",
            "|news.ti.com         |8161 |\n",
            "|www-d1.proxy.aol.com|8047 |\n",
            "|alyssa.prodigy.com  |8037 |\n",
            "|                    |7660 |\n",
            "|siltb10.orl.mmc.com |7573 |\n",
            "+--------------------+-----+\n",
            "\n"
          ],
          "name": "stdout"
        }
      ]
    },
    {
      "cell_type": "code",
      "metadata": {
        "id": "cHCorxyd9Xis",
        "outputId": "ac706766-48aa-40cd-ab64-01aa267a1044"
      },
      "source": [
        "host_sum_pd_df = host_sum_df.toPandas()\n",
        "host_sum_pd_df.iloc[8]['host']"
      ],
      "execution_count": null,
      "outputs": [
        {
          "output_type": "execute_result",
          "data": {
            "text/plain": [
              "''"
            ]
          },
          "metadata": {
            "tags": []
          },
          "execution_count": 50
        }
      ]
    },
    {
      "cell_type": "markdown",
      "metadata": {
        "id": "0GRPashT9Xiv"
      },
      "source": [
        "Looks like we have some empty strings as one of the top host names! This teaches us a valuable lesson to not just check for nulls but also potentially empty strings when data wrangling."
      ]
    },
    {
      "cell_type": "markdown",
      "metadata": {
        "id": "8F3qiCyf9Xiw"
      },
      "source": [
        "## Your Turn: Q7: Display the Top 20 Frequent EndPoints\n",
        "\n",
        "Now, let's visualize the number of hits to endpoints (URIs) in the log. To perform this task, start with our `logs_df` and group by the `endpoint` column, aggregate by count, and sort in descending order like the previous question. Also remember to show only the top 20 most frequently accessed endpoints"
      ]
    },
    {
      "cell_type": "code",
      "metadata": {
        "id": "tb1MlhDB9Xix",
        "outputId": "947429fd-8030-4e94-872f-b4556546d35c"
      },
      "source": [
        "# TODO: Replace <FILL IN> with appropriate code\n",
        "\n",
        "paths_df = (logs_df.groupby('endpoint').count().sort('count', ascending=False).cache().limit(20))\n",
        "paths_df.show(truncate=False)"
      ],
      "execution_count": null,
      "outputs": [
        {
          "output_type": "stream",
          "text": [
            "+-----------------------------------------------+------+\n",
            "|endpoint                                       |count |\n",
            "+-----------------------------------------------+------+\n",
            "|/images/NASA-logosmall.gif                     |208714|\n",
            "|/images/KSC-logosmall.gif                      |164970|\n",
            "|/images/MOSAIC-logosmall.gif                   |127908|\n",
            "|/images/USA-logosmall.gif                      |127074|\n",
            "|/images/WORLD-logosmall.gif                    |125925|\n",
            "|/images/ksclogo-medium.gif                     |121572|\n",
            "|/ksc.html                                      |83909 |\n",
            "|/images/launch-logo.gif                        |76006 |\n",
            "|/history/apollo/images/apollo-logo1.gif        |68896 |\n",
            "|/shuttle/countdown/                            |64736 |\n",
            "|/                                              |63171 |\n",
            "|/images/ksclogosmall.gif                       |61393 |\n",
            "|/shuttle/missions/missions.html                |47315 |\n",
            "|/images/launchmedium.gif                       |40687 |\n",
            "|/htbin/cdt_main.pl                             |39871 |\n",
            "|/shuttle/missions/sts-69/mission-sts-69.html   |31574 |\n",
            "|/shuttle/countdown/liftoff.html                |29865 |\n",
            "|/icons/menu.xbm                                |29190 |\n",
            "|/shuttle/missions/sts-69/sts-69-patch-small.gif|29118 |\n",
            "|/icons/blank.xbm                               |28852 |\n",
            "+-----------------------------------------------+------+\n",
            "\n"
          ],
          "name": "stdout"
        }
      ]
    },
    {
      "cell_type": "code",
      "metadata": {
        "id": "786edIty9Xi0",
        "outputId": "3f2f5246-ddb7-4957-ed4c-b136da4c60e4"
      },
      "source": [
        "paths_pd_df = paths_df.toPandas()\n",
        "paths_pd_df"
      ],
      "execution_count": null,
      "outputs": [
        {
          "output_type": "execute_result",
          "data": {
            "text/html": [
              "<div>\n",
              "<style>\n",
              "    .dataframe thead tr:only-child th {\n",
              "        text-align: right;\n",
              "    }\n",
              "\n",
              "    .dataframe thead th {\n",
              "        text-align: left;\n",
              "    }\n",
              "\n",
              "    .dataframe tbody tr th {\n",
              "        vertical-align: top;\n",
              "    }\n",
              "</style>\n",
              "<table border=\"1\" class=\"dataframe\">\n",
              "  <thead>\n",
              "    <tr style=\"text-align: right;\">\n",
              "      <th></th>\n",
              "      <th>endpoint</th>\n",
              "      <th>count</th>\n",
              "    </tr>\n",
              "  </thead>\n",
              "  <tbody>\n",
              "    <tr>\n",
              "      <th>0</th>\n",
              "      <td>/images/NASA-logosmall.gif</td>\n",
              "      <td>208714</td>\n",
              "    </tr>\n",
              "    <tr>\n",
              "      <th>1</th>\n",
              "      <td>/images/KSC-logosmall.gif</td>\n",
              "      <td>164970</td>\n",
              "    </tr>\n",
              "    <tr>\n",
              "      <th>2</th>\n",
              "      <td>/images/MOSAIC-logosmall.gif</td>\n",
              "      <td>127908</td>\n",
              "    </tr>\n",
              "    <tr>\n",
              "      <th>3</th>\n",
              "      <td>/images/USA-logosmall.gif</td>\n",
              "      <td>127074</td>\n",
              "    </tr>\n",
              "    <tr>\n",
              "      <th>4</th>\n",
              "      <td>/images/WORLD-logosmall.gif</td>\n",
              "      <td>125925</td>\n",
              "    </tr>\n",
              "    <tr>\n",
              "      <th>5</th>\n",
              "      <td>/images/ksclogo-medium.gif</td>\n",
              "      <td>121572</td>\n",
              "    </tr>\n",
              "    <tr>\n",
              "      <th>6</th>\n",
              "      <td>/ksc.html</td>\n",
              "      <td>83909</td>\n",
              "    </tr>\n",
              "    <tr>\n",
              "      <th>7</th>\n",
              "      <td>/images/launch-logo.gif</td>\n",
              "      <td>76006</td>\n",
              "    </tr>\n",
              "    <tr>\n",
              "      <th>8</th>\n",
              "      <td>/history/apollo/images/apollo-logo1.gif</td>\n",
              "      <td>68896</td>\n",
              "    </tr>\n",
              "    <tr>\n",
              "      <th>9</th>\n",
              "      <td>/shuttle/countdown/</td>\n",
              "      <td>64736</td>\n",
              "    </tr>\n",
              "    <tr>\n",
              "      <th>10</th>\n",
              "      <td>/</td>\n",
              "      <td>63171</td>\n",
              "    </tr>\n",
              "    <tr>\n",
              "      <th>11</th>\n",
              "      <td>/images/ksclogosmall.gif</td>\n",
              "      <td>61393</td>\n",
              "    </tr>\n",
              "    <tr>\n",
              "      <th>12</th>\n",
              "      <td>/shuttle/missions/missions.html</td>\n",
              "      <td>47315</td>\n",
              "    </tr>\n",
              "    <tr>\n",
              "      <th>13</th>\n",
              "      <td>/images/launchmedium.gif</td>\n",
              "      <td>40687</td>\n",
              "    </tr>\n",
              "    <tr>\n",
              "      <th>14</th>\n",
              "      <td>/htbin/cdt_main.pl</td>\n",
              "      <td>39871</td>\n",
              "    </tr>\n",
              "    <tr>\n",
              "      <th>15</th>\n",
              "      <td>/shuttle/missions/sts-69/mission-sts-69.html</td>\n",
              "      <td>31574</td>\n",
              "    </tr>\n",
              "    <tr>\n",
              "      <th>16</th>\n",
              "      <td>/shuttle/countdown/liftoff.html</td>\n",
              "      <td>29865</td>\n",
              "    </tr>\n",
              "    <tr>\n",
              "      <th>17</th>\n",
              "      <td>/icons/menu.xbm</td>\n",
              "      <td>29190</td>\n",
              "    </tr>\n",
              "    <tr>\n",
              "      <th>18</th>\n",
              "      <td>/shuttle/missions/sts-69/sts-69-patch-small.gif</td>\n",
              "      <td>29118</td>\n",
              "    </tr>\n",
              "    <tr>\n",
              "      <th>19</th>\n",
              "      <td>/icons/blank.xbm</td>\n",
              "      <td>28852</td>\n",
              "    </tr>\n",
              "  </tbody>\n",
              "</table>\n",
              "</div>"
            ],
            "text/plain": [
              "                                           endpoint   count\n",
              "0                        /images/NASA-logosmall.gif  208714\n",
              "1                         /images/KSC-logosmall.gif  164970\n",
              "2                      /images/MOSAIC-logosmall.gif  127908\n",
              "3                         /images/USA-logosmall.gif  127074\n",
              "4                       /images/WORLD-logosmall.gif  125925\n",
              "5                        /images/ksclogo-medium.gif  121572\n",
              "6                                         /ksc.html   83909\n",
              "7                           /images/launch-logo.gif   76006\n",
              "8           /history/apollo/images/apollo-logo1.gif   68896\n",
              "9                               /shuttle/countdown/   64736\n",
              "10                                                /   63171\n",
              "11                         /images/ksclogosmall.gif   61393\n",
              "12                  /shuttle/missions/missions.html   47315\n",
              "13                         /images/launchmedium.gif   40687\n",
              "14                               /htbin/cdt_main.pl   39871\n",
              "15     /shuttle/missions/sts-69/mission-sts-69.html   31574\n",
              "16                  /shuttle/countdown/liftoff.html   29865\n",
              "17                                  /icons/menu.xbm   29190\n",
              "18  /shuttle/missions/sts-69/sts-69-patch-small.gif   29118\n",
              "19                                 /icons/blank.xbm   28852"
            ]
          },
          "metadata": {
            "tags": []
          },
          "execution_count": 52
        }
      ]
    },
    {
      "cell_type": "markdown",
      "metadata": {
        "id": "fUypiO2m9XjA"
      },
      "source": [
        "## Your Turn: Q8: Top Ten Error Endpoints\n",
        "\n",
        "What are the top ten endpoints requested which did not have return code 200 (HTTP Status OK)? \n",
        "\n",
        "Create a sorted list containing the endpoints and the number of times that they were accessed with a non-200 return code and show the top ten.\n",
        "\n",
        "Think about the steps that you need to perform to determine which endpoints did not have a 200 return code (combination of filtering, grouping, sorting and selecting the top ten aggregated records)"
      ]
    },
    {
      "cell_type": "code",
      "metadata": {
        "id": "GSTuilEp9XjA"
      },
      "source": [
        "# TODO: Replace <FILL IN> with appropriate code\n",
        "\n",
        "not200_df = (logs_df.filter(logs_df.status != 200).select(\"endpoint\"))\n",
        "\n",
        "error_endpoints_freq_df = (not200_df\n",
        "                               .groupby('endpoint').count().sort('count', ascending=False).cache().limit(10)\n",
        "                          )"
      ],
      "execution_count": null,
      "outputs": []
    },
    {
      "cell_type": "code",
      "metadata": {
        "id": "XTnqnqAp9XjE",
        "outputId": "a41918ec-4566-46c7-d000-facf150e1732"
      },
      "source": [
        "error_endpoints_freq_df.show(truncate=False)"
      ],
      "execution_count": null,
      "outputs": [
        {
          "output_type": "stream",
          "text": [
            "+---------------------------------------+-----+\n",
            "|endpoint                               |count|\n",
            "+---------------------------------------+-----+\n",
            "|/images/NASA-logosmall.gif             |40082|\n",
            "|/images/KSC-logosmall.gif              |23763|\n",
            "|/images/MOSAIC-logosmall.gif           |15245|\n",
            "|/images/USA-logosmall.gif              |15142|\n",
            "|/images/WORLD-logosmall.gif            |14773|\n",
            "|/images/ksclogo-medium.gif             |13559|\n",
            "|/images/launch-logo.gif                |8806 |\n",
            "|/history/apollo/images/apollo-logo1.gif|7489 |\n",
            "|/                                      |6296 |\n",
            "|/images/ksclogosmall.gif               |5669 |\n",
            "+---------------------------------------+-----+\n",
            "\n"
          ],
          "name": "stdout"
        }
      ]
    },
    {
      "cell_type": "markdown",
      "metadata": {
        "id": "pBRcVS2a9XjJ"
      },
      "source": [
        "## Example: Number of Unique Daily Hosts\n",
        "\n",
        "For an advanced example, let's look at a way to determine the number of unique hosts in the entire log on a day-by-day basis. This computation will give us counts of the number of unique daily hosts. \n",
        "\n",
        "We'd like a DataFrame sorted by increasing day of the month which includes the day of the month and the associated number of unique hosts for that day. \n",
        "\n",
        "Think about the steps that you need to perform to count the number of different hosts that make requests *each* day.\n",
        "*Since the log only covers a single month, you can ignore the month.*  You may want to use the [`dayofmonth` function](https://spark.apache.org/docs/latest/api/python/pyspark.sql.html#pyspark.sql.functions.dayofmonth) in the `pyspark.sql.functions` module (which we have already imported as __`F`__.\n",
        "\n",
        "\n",
        "**`host_day_df`**\n",
        "\n",
        "A DataFrame with two columns\n",
        "\n",
        "| column | explanation          |\n",
        "| ------ | -------------------- |\n",
        "| `host` | the host name        |\n",
        "| `day`  | the day of the month |\n",
        "\n",
        "There will be one row in this DataFrame for each row in `logs_df`. Essentially, we are just transforming each row of `logs_df`. For example, for this row in `logs_df`:\n",
        "\n",
        "```\n",
        "unicomp6.unicomp.net - - [01/Aug/1995:00:35:41 -0400] \"GET /shuttle/missions/sts-73/news HTTP/1.0\" 302 -\n",
        "```\n",
        "\n",
        "your `host_day_df` should have:\n",
        "\n",
        "```\n",
        "unicomp6.unicomp.net 1\n",
        "```"
      ]
    },
    {
      "cell_type": "markdown",
      "metadata": {
        "id": "EmEvUMGx9XjK"
      },
      "source": [
        "**Correction Note**\n",
        "\n",
        "The original instruction code, i.e.,\n",
        "\n",
        "```\n",
        "logs_df.select(logs_df.host, F.dayofmonth('time').alias('day'))\n",
        "```\n",
        "\n",
        "assumes that the logs data covers a single month of code\n",
        "\n",
        "```\n",
        "Since the log only covers a single month, you can ignore the month\n",
        "```\n",
        "\n",
        "Actually, the logs cover 2 months of code.  Hence, the code has been amended below."
      ]
    },
    {
      "cell_type": "code",
      "metadata": {
        "id": "fy9PSkea9XjL",
        "outputId": "05f59584-53fb-4d4f-a84c-a2a5a6643ca1"
      },
      "source": [
        "host_day_df = logs_df.select(logs_df.host, F.date_format('time', 'MM-dd').alias('day'),\n",
        "                             F.dayofmonth('time').alias('daynumber'), F.month('time').alias('monthnumber'))\n",
        "host_day_df.show(5, truncate=False)"
      ],
      "execution_count": null,
      "outputs": [
        {
          "output_type": "stream",
          "text": [
            "+--------------------+-----+---------+-----------+\n",
            "|host                |day  |daynumber|monthnumber|\n",
            "+--------------------+-----+---------+-----------+\n",
            "|199.72.81.55        |07-01|1        |7          |\n",
            "|unicomp6.unicomp.net|07-01|1        |7          |\n",
            "|199.120.110.21      |07-01|1        |7          |\n",
            "|burger.letters.com  |07-01|1        |7          |\n",
            "|199.120.110.21      |07-01|1        |7          |\n",
            "+--------------------+-----+---------+-----------+\n",
            "only showing top 5 rows\n",
            "\n"
          ],
          "name": "stdout"
        }
      ]
    },
    {
      "cell_type": "markdown",
      "metadata": {
        "id": "qiflKuzS9XjN"
      },
      "source": [
        "**`host_day_distinct_df`**\n",
        "\n",
        "This DataFrame **has the same columns as `host_day_df`**, but with duplicate (`day`, `host`) rows removed."
      ]
    },
    {
      "cell_type": "code",
      "metadata": {
        "id": "w3X5ee799XjP",
        "outputId": "46f6ef5e-ee27-4ea3-bbb7-b52e2bf5e346"
      },
      "source": [
        "host_day_distinct_df = (host_day_df\n",
        "                          .dropDuplicates())\n",
        "host_day_distinct_df.show(5, truncate=False)"
      ],
      "execution_count": null,
      "outputs": [
        {
          "output_type": "stream",
          "text": [
            "+------------------------+-----+---------+-----------+\n",
            "|host                    |day  |daynumber|monthnumber|\n",
            "+------------------------+-----+---------+-----------+\n",
            "|ana0013.deltanet.com    |07-01|1        |7          |\n",
            "|slip137-5.pt.uk.ibm.net |07-01|1        |7          |\n",
            "|ix-sj21-02.ix.netcom.com|07-01|1        |7          |\n",
            "|dd14-025.compuserve.com |07-01|1        |7          |\n",
            "|jimb.tower.tandem.com   |07-01|1        |7          |\n",
            "+------------------------+-----+---------+-----------+\n",
            "only showing top 5 rows\n",
            "\n"
          ],
          "name": "stdout"
        }
      ]
    },
    {
      "cell_type": "markdown",
      "metadata": {
        "id": "g9i9ghV49XjS"
      },
      "source": [
        "**`daily_unique_hosts_df`**\n",
        "\n",
        "A DataFrame with two columns:\n",
        "\n",
        "| column  | explanation                                        |\n",
        "| ------- | -------------------------------------------------- |\n",
        "| `day`   | the day of the month                               |\n",
        "| `count` | the number of unique requesting hosts for that day |"
      ]
    },
    {
      "cell_type": "code",
      "metadata": {
        "id": "FuIcA7hq9XjT",
        "outputId": "390854fa-e10c-49c6-fb6f-082312cc71c8"
      },
      "source": [
        "daily_hosts_df = (host_day_distinct_df\n",
        "                     .groupBy('day')\n",
        "                     .count()\n",
        "                     .sort('day').cache())\n",
        "daily_hosts_pd_df = daily_hosts_df.toPandas()\n",
        "daily_hosts_pd_df.T"
      ],
      "execution_count": null,
      "outputs": [
        {
          "output_type": "execute_result",
          "data": {
            "text/html": [
              "<div>\n",
              "<style>\n",
              "    .dataframe thead tr:only-child th {\n",
              "        text-align: right;\n",
              "    }\n",
              "\n",
              "    .dataframe thead th {\n",
              "        text-align: left;\n",
              "    }\n",
              "\n",
              "    .dataframe tbody tr th {\n",
              "        vertical-align: top;\n",
              "    }\n",
              "</style>\n",
              "<table border=\"1\" class=\"dataframe\">\n",
              "  <thead>\n",
              "    <tr style=\"text-align: right;\">\n",
              "      <th></th>\n",
              "      <th>0</th>\n",
              "      <th>1</th>\n",
              "      <th>2</th>\n",
              "      <th>3</th>\n",
              "      <th>4</th>\n",
              "      <th>5</th>\n",
              "      <th>6</th>\n",
              "      <th>7</th>\n",
              "      <th>8</th>\n",
              "      <th>9</th>\n",
              "      <th>...</th>\n",
              "      <th>48</th>\n",
              "      <th>49</th>\n",
              "      <th>50</th>\n",
              "      <th>51</th>\n",
              "      <th>52</th>\n",
              "      <th>53</th>\n",
              "      <th>54</th>\n",
              "      <th>55</th>\n",
              "      <th>56</th>\n",
              "      <th>57</th>\n",
              "    </tr>\n",
              "  </thead>\n",
              "  <tbody>\n",
              "    <tr>\n",
              "      <th>day</th>\n",
              "      <td>07-01</td>\n",
              "      <td>07-02</td>\n",
              "      <td>07-03</td>\n",
              "      <td>07-04</td>\n",
              "      <td>07-05</td>\n",
              "      <td>07-06</td>\n",
              "      <td>07-07</td>\n",
              "      <td>07-08</td>\n",
              "      <td>07-09</td>\n",
              "      <td>07-10</td>\n",
              "      <td>...</td>\n",
              "      <td>08-22</td>\n",
              "      <td>08-23</td>\n",
              "      <td>08-24</td>\n",
              "      <td>08-25</td>\n",
              "      <td>08-26</td>\n",
              "      <td>08-27</td>\n",
              "      <td>08-28</td>\n",
              "      <td>08-29</td>\n",
              "      <td>08-30</td>\n",
              "      <td>08-31</td>\n",
              "    </tr>\n",
              "    <tr>\n",
              "      <th>count</th>\n",
              "      <td>5191</td>\n",
              "      <td>4858</td>\n",
              "      <td>7332</td>\n",
              "      <td>5523</td>\n",
              "      <td>7379</td>\n",
              "      <td>7815</td>\n",
              "      <td>6471</td>\n",
              "      <td>2898</td>\n",
              "      <td>2554</td>\n",
              "      <td>4460</td>\n",
              "      <td>...</td>\n",
              "      <td>4454</td>\n",
              "      <td>4362</td>\n",
              "      <td>4076</td>\n",
              "      <td>4404</td>\n",
              "      <td>2644</td>\n",
              "      <td>2690</td>\n",
              "      <td>4213</td>\n",
              "      <td>4825</td>\n",
              "      <td>5265</td>\n",
              "      <td>5913</td>\n",
              "    </tr>\n",
              "  </tbody>\n",
              "</table>\n",
              "<p>2 rows × 58 columns</p>\n",
              "</div>"
            ],
            "text/plain": [
              "          0      1      2      3      4      5      6      7      8      9   \\\n",
              "day    07-01  07-02  07-03  07-04  07-05  07-06  07-07  07-08  07-09  07-10   \n",
              "count   5191   4858   7332   5523   7379   7815   6471   2898   2554   4460   \n",
              "\n",
              "       ...       48     49     50     51     52     53     54     55     56  \\\n",
              "day    ...    08-22  08-23  08-24  08-25  08-26  08-27  08-28  08-29  08-30   \n",
              "count  ...     4454   4362   4076   4404   2644   2690   4213   4825   5265   \n",
              "\n",
              "          57  \n",
              "day    08-31  \n",
              "count   5913  \n",
              "\n",
              "[2 rows x 58 columns]"
            ]
          },
          "metadata": {
            "tags": []
          },
          "execution_count": 57
        }
      ]
    },
    {
      "cell_type": "code",
      "metadata": {
        "id": "9ekDl1dn9XjW",
        "outputId": "dbee861f-68fb-48c8-c592-65aa6edec859"
      },
      "source": [
        "daily_hosts_pd_df.plot(x='day', y='count', kind='line')"
      ],
      "execution_count": null,
      "outputs": [
        {
          "output_type": "execute_result",
          "data": {
            "text/plain": [
              "<matplotlib.axes._subplots.AxesSubplot at 0x7ff40c0fe4e0>"
            ]
          },
          "metadata": {
            "tags": []
          },
          "execution_count": 58
        },
        {
          "output_type": "display_data",
          "data": {
            "image/png": "[encoded data removed]",
            "text/plain": [
              "<Figure size 432x288 with 1 Axes>"
            ]
          },
          "metadata": {
            "tags": []
          }
        }
      ]
    },
    {
      "cell_type": "markdown",
      "metadata": {
        "id": "VnbOO6-f9Xja"
      },
      "source": [
        "## Your Turn: Q9: Counting 404 Response Codes\n",
        "\n",
        "Create a DataFrame containing only log records with a 404 status code (Not Found). \n",
        "\n",
        "Make sure you `cache()` the `not_found_df` dataframe as we will use it in the rest of the exercises here.\n",
        "\n",
        "__How many 404 records are in the log?__"
      ]
    },
    {
      "cell_type": "code",
      "metadata": {
        "id": "jUT_RO6p9Xja",
        "outputId": "2c2dd3b0-3dba-4cad-fe4f-7e12a433526c"
      },
      "source": [
        "# TODO: Replace <FILL IN> with appropriate code\n",
        "\n",
        "not_found_df = logs_df.filter(logs_df.status == 404).cache()\n",
        "print(('Total 404 responses: {}').format(not_found_df.count()))"
      ],
      "execution_count": null,
      "outputs": [
        {
          "output_type": "stream",
          "text": [
            "Total 404 responses: 20899\n"
          ],
          "name": "stdout"
        }
      ]
    },
    {
      "cell_type": "code",
      "metadata": {
        "id": "VCbzmm3T9Xjd",
        "outputId": "bf08b07b-581e-4c40-c304-d90a1d096bf2"
      },
      "source": [
        "not_found_df.show(5)"
      ],
      "execution_count": null,
      "outputs": [
        {
          "output_type": "stream",
          "text": [
            "+--------------------+------+--------------------+--------+------+------------+-------------------+\n",
            "|                host|method|            endpoint|protocol|status|content_size|               time|\n",
            "+--------------------+------+--------------------+--------+------+------------+-------------------+\n",
            "|dd15-062.compuser...|   GET|/news/sci.space.s...|HTTP/1.0|   404|           0|1995-07-01 00:01:12|\n",
            "|   netport-27.iu.net|   GET|/pub/winvn/readme...|HTTP/1.0|   404|           0|1995-07-01 00:10:19|\n",
            "|   netport-27.iu.net|   GET|/pub/winvn/readme...|HTTP/1.0|   404|           0|1995-07-01 00:10:28|\n",
            "|blv-pm0-ip28.halc...|   GET|/persons/astronau...|HTTP/1.0|   404|           0|1995-07-01 00:14:17|\n",
            "|blv-pm0-ip28.halc...|   GET|/persons/astronau...|HTTP/1.0|   404|           0|1995-07-01 00:14:32|\n",
            "+--------------------+------+--------------------+--------+------+------------+-------------------+\n",
            "only showing top 5 rows\n",
            "\n"
          ],
          "name": "stdout"
        }
      ]
    },
    {
      "cell_type": "markdown",
      "metadata": {
        "id": "FDwced8B9Xjg"
      },
      "source": [
        "## Your Turn: Q10: Listing the Top Twenty 404 Response Code Endpoints\n",
        "\n",
        "Using the DataFrame containing only log records with a 404 response code that you cached in Q9, print out a list of the top twenty endpoints that generate the most 404 errors.\n",
        "\n",
        "*Remember, top endpoints should be in sorted order*"
      ]
    },
    {
      "cell_type": "code",
      "metadata": {
        "id": "acsW16I19Xjh",
        "outputId": "983678da-cbb7-4ced-960a-a654ee9d814f"
      },
      "source": [
        "# TODO: Replace <FILL IN> with appropriate code\n",
        "\n",
        "hosts_404_count_df = (not_found_df\n",
        "                          .groupby('endpoint').count().sort('count', ascending=False).cache().limit(20))\n",
        "\n",
        "hosts_404_count_df.show(truncate=False)"
      ],
      "execution_count": null,
      "outputs": [
        {
          "output_type": "stream",
          "text": [
            "+-----------------------------------------------------------------+-----+\n",
            "|endpoint                                                         |count|\n",
            "+-----------------------------------------------------------------+-----+\n",
            "|/pub/winvn/readme.txt                                            |2004 |\n",
            "|/pub/winvn/release.txt                                           |1732 |\n",
            "|/shuttle/missions/STS-69/mission-STS-69.html                     |683  |\n",
            "|/shuttle/missions/sts-68/ksc-upclose.gif                         |428  |\n",
            "|/history/apollo/a-001/a-001-patch-small.gif                      |384  |\n",
            "|/history/apollo/sa-1/sa-1-patch-small.gif                        |383  |\n",
            "|/://spacelink.msfc.nasa.gov                                      |381  |\n",
            "|/images/crawlerway-logo.gif                                      |374  |\n",
            "|/elv/DELTA/uncons.htm                                            |372  |\n",
            "|/history/apollo/pad-abort-test-1/pad-abort-test-1-patch-small.gif|359  |\n",
            "|/images/nasa-logo.gif                                            |319  |\n",
            "|/shuttle/resources/orbiters/atlantis.gif                         |314  |\n",
            "|/history/apollo/apollo-13.html                                   |304  |\n",
            "|/shuttle/resources/orbiters/discovery.gif                        |263  |\n",
            "|/shuttle/missions/sts-71/images/KSC-95EC-0916.txt                |190  |\n",
            "|/shuttle/resources/orbiters/challenger.gif                       |170  |\n",
            "|/shuttle/missions/technology/sts-newsref/stsref-toc.html         |158  |\n",
            "|/history/apollo/images/little-joe.jpg                            |150  |\n",
            "|/images/lf-logo.gif                                              |143  |\n",
            "|/history/apollo/publications/sp-350/sp-350.txt~                  |140  |\n",
            "+-----------------------------------------------------------------+-----+\n",
            "\n"
          ],
          "name": "stdout"
        }
      ]
    },
    {
      "cell_type": "markdown",
      "metadata": {
        "id": "h2wY-iBx9Xjk"
      },
      "source": [
        "## Your Turn: Q11: Visualizing 404 Errors per Day\n",
        "\n",
        "Let's explore the 404 records temporally now. Similar to the example showing the number of unique daily hosts, break down the 404 requests by day and get the daily counts sorted by day in `errors_by_date_sorted_df`.\n",
        "\n",
        "- Display the results as a pandas dataframe \n",
        "- Also visualize the same dataframe then as a line chart"
      ]
    },
    {
      "cell_type": "code",
      "metadata": {
        "id": "bES_zFHV9Xjm",
        "outputId": "6dba862a-4444-48ba-d0d7-22e337e6db80"
      },
      "source": [
        "# TODO: Replace <FILL IN> with appropriate code\n",
        "\n",
        "errors_by_date_sorted_df = (not_found_df\n",
        "                            .select('*', F.date_format('time', 'MM-dd').alias('day'))\n",
        "                            .groupby('day').count().sort('day').cache())\n",
        "\n",
        "errors_by_date_sorted_pd_df = errors_by_date_sorted_df.toPandas()\n",
        "errors_by_date_sorted_pd_df.T"
      ],
      "execution_count": null,
      "outputs": [
        {
          "output_type": "execute_result",
          "data": {
            "text/html": [
              "<div>\n",
              "<style>\n",
              "    .dataframe thead tr:only-child th {\n",
              "        text-align: right;\n",
              "    }\n",
              "\n",
              "    .dataframe thead th {\n",
              "        text-align: left;\n",
              "    }\n",
              "\n",
              "    .dataframe tbody tr th {\n",
              "        vertical-align: top;\n",
              "    }\n",
              "</style>\n",
              "<table border=\"1\" class=\"dataframe\">\n",
              "  <thead>\n",
              "    <tr style=\"text-align: right;\">\n",
              "      <th></th>\n",
              "      <th>0</th>\n",
              "      <th>1</th>\n",
              "      <th>2</th>\n",
              "      <th>3</th>\n",
              "      <th>4</th>\n",
              "      <th>5</th>\n",
              "      <th>6</th>\n",
              "      <th>7</th>\n",
              "      <th>8</th>\n",
              "      <th>9</th>\n",
              "      <th>...</th>\n",
              "      <th>48</th>\n",
              "      <th>49</th>\n",
              "      <th>50</th>\n",
              "      <th>51</th>\n",
              "      <th>52</th>\n",
              "      <th>53</th>\n",
              "      <th>54</th>\n",
              "      <th>55</th>\n",
              "      <th>56</th>\n",
              "      <th>57</th>\n",
              "    </tr>\n",
              "  </thead>\n",
              "  <tbody>\n",
              "    <tr>\n",
              "      <th>day</th>\n",
              "      <td>07-01</td>\n",
              "      <td>07-02</td>\n",
              "      <td>07-03</td>\n",
              "      <td>07-04</td>\n",
              "      <td>07-05</td>\n",
              "      <td>07-06</td>\n",
              "      <td>07-07</td>\n",
              "      <td>07-08</td>\n",
              "      <td>07-09</td>\n",
              "      <td>07-10</td>\n",
              "      <td>...</td>\n",
              "      <td>08-22</td>\n",
              "      <td>08-23</td>\n",
              "      <td>08-24</td>\n",
              "      <td>08-25</td>\n",
              "      <td>08-26</td>\n",
              "      <td>08-27</td>\n",
              "      <td>08-28</td>\n",
              "      <td>08-29</td>\n",
              "      <td>08-30</td>\n",
              "      <td>08-31</td>\n",
              "    </tr>\n",
              "    <tr>\n",
              "      <th>count</th>\n",
              "      <td>316</td>\n",
              "      <td>291</td>\n",
              "      <td>474</td>\n",
              "      <td>359</td>\n",
              "      <td>497</td>\n",
              "      <td>640</td>\n",
              "      <td>570</td>\n",
              "      <td>300</td>\n",
              "      <td>348</td>\n",
              "      <td>398</td>\n",
              "      <td>...</td>\n",
              "      <td>288</td>\n",
              "      <td>345</td>\n",
              "      <td>420</td>\n",
              "      <td>415</td>\n",
              "      <td>366</td>\n",
              "      <td>370</td>\n",
              "      <td>410</td>\n",
              "      <td>420</td>\n",
              "      <td>571</td>\n",
              "      <td>526</td>\n",
              "    </tr>\n",
              "  </tbody>\n",
              "</table>\n",
              "<p>2 rows × 58 columns</p>\n",
              "</div>"
            ],
            "text/plain": [
              "          0      1      2      3      4      5      6      7      8      9   \\\n",
              "day    07-01  07-02  07-03  07-04  07-05  07-06  07-07  07-08  07-09  07-10   \n",
              "count    316    291    474    359    497    640    570    300    348    398   \n",
              "\n",
              "       ...       48     49     50     51     52     53     54     55     56  \\\n",
              "day    ...    08-22  08-23  08-24  08-25  08-26  08-27  08-28  08-29  08-30   \n",
              "count  ...      288    345    420    415    366    370    410    420    571   \n",
              "\n",
              "          57  \n",
              "day    08-31  \n",
              "count    526  \n",
              "\n",
              "[2 rows x 58 columns]"
            ]
          },
          "metadata": {
            "tags": []
          },
          "execution_count": 62
        }
      ]
    },
    {
      "cell_type": "code",
      "metadata": {
        "id": "2TCbuNiY9Xjo",
        "outputId": "76cf98f4-9caa-4253-8793-659625d68234"
      },
      "source": [
        "errors_by_date_sorted_pd_df.plot(x='day', y='count', kind='line')"
      ],
      "execution_count": null,
      "outputs": [
        {
          "output_type": "execute_result",
          "data": {
            "text/plain": [
              "<matplotlib.axes._subplots.AxesSubplot at 0x7ff40c0065c0>"
            ]
          },
          "metadata": {
            "tags": []
          },
          "execution_count": 63
        },
        {
          "output_type": "display_data",
          "data": {
            "image/png": "[encoded data removed]",
            "text/plain": [
              "<Figure size 432x288 with 1 Axes>"
            ]
          },
          "metadata": {
            "tags": []
          }
        }
      ]
    },
    {
      "cell_type": "markdown",
      "metadata": {
        "id": "Qkv5k9B49Xjq"
      },
      "source": [
        "## Your Turn: Q12: Visualizing Hourly 404 Errors\n",
        "\n",
        "Using the DataFrame `not_found_df` you cached in the Q10, group and sort by hour of the day in increasing order, to create a DataFrame containing the total number of 404 responses for HTTP requests for each hour of the day (midnight starts at 0). \n",
        "\n",
        "- Remember to check out the [__hour__](https://spark.apache.org/docs/latest/api/python/pyspark.sql.html#pyspark.sql.functions.hour) function and use it (we have already imported __`pyspark.sql.functions`__ as __`F`__ earlier\n",
        "- Output should be a bar graph displaying the total number of 404 errors per hour"
      ]
    },
    {
      "cell_type": "code",
      "metadata": {
        "id": "URzi9J5P9Xjq",
        "outputId": "aa3eca1a-904f-4936-f476-7237d4eedc11"
      },
      "source": [
        "# TODO: Replace <FILL IN> with appropriate code\n",
        "\n",
        "hourly_errors_sorted_df = (not_found_df\n",
        "                                   .select('*', F.hour('time').alias('hour')).groupby('hour').count())\n",
        "hourly_errors_sorted_pd_df = hourly_errors_sorted_df.toPandas()\n",
        "hourly_errors_sorted_pd_df.T"
      ],
      "execution_count": null,
      "outputs": [
        {
          "output_type": "execute_result",
          "data": {
            "text/html": [
              "<div>\n",
              "<style>\n",
              "    .dataframe thead tr:only-child th {\n",
              "        text-align: right;\n",
              "    }\n",
              "\n",
              "    .dataframe thead th {\n",
              "        text-align: left;\n",
              "    }\n",
              "\n",
              "    .dataframe tbody tr th {\n",
              "        vertical-align: top;\n",
              "    }\n",
              "</style>\n",
              "<table border=\"1\" class=\"dataframe\">\n",
              "  <thead>\n",
              "    <tr style=\"text-align: right;\">\n",
              "      <th></th>\n",
              "      <th>0</th>\n",
              "      <th>1</th>\n",
              "      <th>2</th>\n",
              "      <th>3</th>\n",
              "      <th>4</th>\n",
              "      <th>5</th>\n",
              "      <th>6</th>\n",
              "      <th>7</th>\n",
              "      <th>8</th>\n",
              "      <th>9</th>\n",
              "      <th>...</th>\n",
              "      <th>14</th>\n",
              "      <th>15</th>\n",
              "      <th>16</th>\n",
              "      <th>17</th>\n",
              "      <th>18</th>\n",
              "      <th>19</th>\n",
              "      <th>20</th>\n",
              "      <th>21</th>\n",
              "      <th>22</th>\n",
              "      <th>23</th>\n",
              "    </tr>\n",
              "  </thead>\n",
              "  <tbody>\n",
              "    <tr>\n",
              "      <th>hour</th>\n",
              "      <td>12</td>\n",
              "      <td>22</td>\n",
              "      <td>1</td>\n",
              "      <td>13</td>\n",
              "      <td>6</td>\n",
              "      <td>16</td>\n",
              "      <td>3</td>\n",
              "      <td>20</td>\n",
              "      <td>5</td>\n",
              "      <td>19</td>\n",
              "      <td>...</td>\n",
              "      <td>8</td>\n",
              "      <td>23</td>\n",
              "      <td>7</td>\n",
              "      <td>10</td>\n",
              "      <td>21</td>\n",
              "      <td>11</td>\n",
              "      <td>14</td>\n",
              "      <td>2</td>\n",
              "      <td>0</td>\n",
              "      <td>18</td>\n",
              "    </tr>\n",
              "    <tr>\n",
              "      <th>count</th>\n",
              "      <td>1308</td>\n",
              "      <td>915</td>\n",
              "      <td>648</td>\n",
              "      <td>1151</td>\n",
              "      <td>269</td>\n",
              "      <td>1181</td>\n",
              "      <td>603</td>\n",
              "      <td>815</td>\n",
              "      <td>307</td>\n",
              "      <td>852</td>\n",
              "      <td>...</td>\n",
              "      <td>705</td>\n",
              "      <td>939</td>\n",
              "      <td>458</td>\n",
              "      <td>1087</td>\n",
              "      <td>879</td>\n",
              "      <td>1160</td>\n",
              "      <td>1274</td>\n",
              "      <td>868</td>\n",
              "      <td>774</td>\n",
              "      <td>930</td>\n",
              "    </tr>\n",
              "  </tbody>\n",
              "</table>\n",
              "<p>2 rows × 24 columns</p>\n",
              "</div>"
            ],
            "text/plain": [
              "         0    1    2     3    4     5    6    7    8    9  ...    14   15  \\\n",
              "hour     12   22    1    13    6    16    3   20    5   19 ...     8   23   \n",
              "count  1308  915  648  1151  269  1181  603  815  307  852 ...   705  939   \n",
              "\n",
              "        16    17   18    19    20   21   22   23  \n",
              "hour     7    10   21    11    14    2    0   18  \n",
              "count  458  1087  879  1160  1274  868  774  930  \n",
              "\n",
              "[2 rows x 24 columns]"
            ]
          },
          "metadata": {
            "tags": []
          },
          "execution_count": 64
        }
      ]
    },
    {
      "cell_type": "code",
      "metadata": {
        "id": "0s3FhPDY9Xju",
        "outputId": "f414d229-f9a6-4e55-8042-0b182452f21f"
      },
      "source": [
        "hourly_errors_sorted_pd_df.plot.bar(x='hour',y='count')"
      ],
      "execution_count": null,
      "outputs": [
        {
          "output_type": "execute_result",
          "data": {
            "text/plain": [
              "<matplotlib.axes._subplots.AxesSubplot at 0x7ff40c013748>"
            ]
          },
          "metadata": {
            "tags": []
          },
          "execution_count": 65
        },
        {
          "output_type": "display_data",
          "data": {
            "image/png": "[encoded data removed]",
            "text/plain": [
              "<Figure size 432x288 with 1 Axes>"
            ]
          },
          "metadata": {
            "tags": []
          }
        }
      ]
    }
  ]
}