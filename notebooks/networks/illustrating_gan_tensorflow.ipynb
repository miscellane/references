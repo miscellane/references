{
  "cells": [
    {
      "cell_type": "markdown",
      "id": "f3c82e92",
      "metadata": {
        "id": "f3c82e92"
      },
      "source": [
        "<br>\n",
        "\n",
        "The following additional libraries are needed to run this\n",
        "notebook. Note that running on Colab is experimental, please report a Github\n",
        "issue if you have any problem."
      ]
    },
    {
      "cell_type": "code",
      "execution_count": null,
      "id": "2edae539",
      "metadata": {
        "id": "2edae539"
      },
      "outputs": [],
      "source": [
        "!pip install d2l==1.0.3"
      ]
    },
    {
      "cell_type": "markdown",
      "id": "5f5f7758",
      "metadata": {
        "origin_pos": 0,
        "id": "5f5f7758"
      },
      "source": [
        "<br>\n",
        "<br>\n",
        "<br>\n",
        "\n",
        "# Generative Adversarial Networks\n",
        ":label:`sec_basic_gan`\n",
        "\n",
        "Throughout most of this book, we have talked about how to make predictions. In some form or another, we used deep neural networks to learn mappings from data examples to labels. This kind of learning is called discriminative learning, as in, we'd like to be able to discriminate between photos of cats and photos of dogs. Classifiers and regressors are both examples of discriminative learning. And neural networks trained by backpropagation have upended everything we thought we knew about discriminative learning on large complicated datasets. Classification accuracies on high-res images have gone from useless to human-level (with some caveats) in just 5-6 years. We will spare you another spiel about all the other discriminative tasks where deep neural networks do astoundingly well.\n",
        "\n",
        "But there is more to machine learning than just solving discriminative tasks. For example, given a large dataset, without any labels, we might want to learn a model that concisely captures the characteristics of this data. Given such a model, we could sample synthetic data examples that resemble the distribution of the training data. For example, given a large corpus of photographs of faces, we might want to be able to generate a new photorealistic image that looks like it might plausibly have come from the same dataset. This kind of learning is called generative modeling.\n",
        "\n",
        "Until recently, we had no method that could synthesize novel photorealistic images. But the success of deep neural networks for discriminative learning opened up new possibilities. One big trend over the last three years has been the application of discriminative deep nets to overcome challenges in problems that we do not generally think of as supervised learning problems. The recurrent neural network language models are one example of using a discriminative network (trained to predict the next character) that once trained can act as a generative model.\n",
        "\n",
        "In 2014, a breakthrough paper introduced Generative adversarial networks (GANs) :cite:`Goodfellow.Pouget-Abadie.Mirza.ea.2014`, a clever new way to leverage the power of discriminative models to get good generative models. At their heart, GANs rely on the idea that a data generator is good if we cannot tell fake data apart from real data. In statistics, this is called a two-sample test - a test to answer the question whether datasets $X=\\{x_1,\\ldots, x_n\\}$ and $X'=\\{x'_1,\\ldots, x'_n\\}$ were drawn from the same distribution. The main difference between most statistics papers and GANs is that the latter use this idea in a constructive way. In other words, rather than just training a model to say \"hey, these two datasets do not look like they came from the same distribution\", they use the [two-sample test](https://en.wikipedia.org/wiki/Two-sample_hypothesis_testing) to provide training signals to a generative model. This allows us to improve the data generator until it generates something that resembles the real data. At the very least, it needs to fool the classifier even if our classifier is a state of the art deep neural network.\n",
        "\n",
        "![Generative Adversarial Networks](http://d2l.ai/_images/gan.svg)\n",
        ":label:`fig_gan`\n",
        "\n",
        "\n",
        "The GAN architecture is illustrated in :numref:`fig_gan`.\n",
        "As you can see, there are two pieces in GAN architecture - first off, we need a device (say, a deep network but it really could be anything, such as a game rendering engine) that might potentially be able to generate data that looks just like the real thing. If we are dealing with images, this needs to generate images. If we are dealing with speech, it needs to generate audio sequences, and so on. We call this the generator network. The second component is the discriminator network. It attempts to distinguish fake and real data from each other. Both networks are in competition with each other. The generator network attempts to fool the discriminator network. At that point, the discriminator network adapts to the new fake data. This information, in turn is used to improve the generator network, and so on.\n",
        "\n",
        "\n",
        "The discriminator is a binary classifier to distinguish if the input $x$ is real (from real data) or fake (from the generator). Typically, the discriminator outputs a scalar prediction $o\\in\\mathbb R$ for input $\\mathbf x$, such as using a fully connected layer with hidden size 1, and then applies sigmoid function to obtain the predicted probability $D(\\mathbf x) = 1/(1+e^{-o})$. Assume the label $y$ for the true data is $1$ and $0$ for the fake data. We train the discriminator to minimize the cross-entropy loss, *i.e.*,\n",
        "\n",
        "$$ \\min_D \\{ - y \\log D(\\mathbf x) - (1-y)\\log(1-D(\\mathbf x)) \\},$$\n",
        "\n",
        "For the generator, it first draws some parameter $\\mathbf z\\in\\mathbb R^d$ from a source of randomness, *e.g.*, a normal distribution $\\mathbf z \\sim \\mathcal{N} (0, 1)$. We often call $\\mathbf z$ as the latent variable.\n",
        "It then applies a function to generate $\\mathbf x'=G(\\mathbf z)$. The goal of the generator is to fool the discriminator to classify $\\mathbf x'=G(\\mathbf z)$ as true data, *i.e.*, we want $D( G(\\mathbf z)) \\approx 1$.\n",
        "In other words, for a given discriminator $D$, we update the parameters of the generator $G$ to maximize the cross-entropy loss when $y=0$, *i.e.*,\n",
        "\n",
        "$$ \\max_G \\{ - (1-y) \\log(1-D(G(\\mathbf z))) \\} = \\max_G \\{ - \\log(1-D(G(\\mathbf z))) \\}.$$\n",
        "\n",
        "If the generator does a perfect job, then $D(\\mathbf x')\\approx 1$, so the above loss is near 0, which results in the gradients that are too small to make good progress for the discriminator. So commonly, we minimize the following loss:\n",
        "\n",
        "$$ \\min_G \\{ - y \\log(D(G(\\mathbf z))) \\} = \\min_G \\{ - \\log(D(G(\\mathbf z))) \\}, $$\n",
        "\n",
        "which is just feeding $\\mathbf x'=G(\\mathbf z)$ into the discriminator but giving label $y=1$.\n",
        "\n",
        "\n",
        "To sum up, $D$ and $G$ are playing a \"minimax\" game with the comprehensive objective function:\n",
        "\n",
        "$$\\min_D \\max_G \\{ -E_{x \\sim \\textrm{Data}} \\log D(\\mathbf x) - E_{z \\sim \\textrm{Noise}} \\log(1 - D(G(\\mathbf z))) \\}.$$\n",
        "\n",
        "\n",
        "\n",
        "Many of the GANs applications are in the context of images. As a demonstration purpose, we are going to content ourselves with fitting a much simpler distribution first. We will illustrate what happens if we use GANs to build the world's most inefficient estimator of parameters for a Gaussian. Let's get started.\n"
      ]
    },
    {
      "cell_type": "code",
      "source": [
        "%matplotlib inline\n",
        "\n",
        "import logging\n",
        "\n",
        "import d2l\n",
        "import d2l.tensorflow as dtf\n",
        "\n",
        "import tensorflow as tf\n",
        "\n",
        "import seaborn as sns"
      ],
      "metadata": {
        "id": "YYFqEUsTOabC"
      },
      "id": "YYFqEUsTOabC",
      "execution_count": 1,
      "outputs": []
    },
    {
      "cell_type": "code",
      "source": [
        "logging.basicConfig(level=logging.INFO,\n",
        "                    format='\\n%(message)s\\n%(asctime)s.%(msecs)03d',\n",
        "                    datefmt='%Y-%m-%d %H:%M:%S')\n",
        "logger = logging.getLogger(__name__)"
      ],
      "metadata": {
        "id": "1tt0P8RZcJFD"
      },
      "id": "1tt0P8RZcJFD",
      "execution_count": 2,
      "outputs": []
    },
    {
      "cell_type": "code",
      "source": [
        "sns.set_style('darkgrid')"
      ],
      "metadata": {
        "id": "-A92Q7iZ7tpg"
      },
      "id": "-A92Q7iZ7tpg",
      "execution_count": 8,
      "outputs": []
    },
    {
      "cell_type": "markdown",
      "id": "c34697c4",
      "metadata": {
        "origin_pos": 4,
        "id": "c34697c4"
      },
      "source": [
        "<br>\n",
        "<br>\n",
        "\n",
        "## Generate Some \"Real\" Data\n",
        "\n",
        "Since this is going to be the world's lamest example, we simply generate data drawn from a Gaussian.\n"
      ]
    },
    {
      "cell_type": "code",
      "execution_count": 3,
      "id": "a23fc851",
      "metadata": {
        "execution": {
          "iopub.execute_input": "2023-08-18T19:37:54.560462Z",
          "iopub.status.busy": "2023-08-18T19:37:54.559808Z",
          "iopub.status.idle": "2023-08-18T19:37:54.592970Z",
          "shell.execute_reply": "2023-08-18T19:37:54.591379Z"
        },
        "origin_pos": 5,
        "tab": [
          "pytorch"
        ],
        "id": "a23fc851",
        "colab": {
          "base_uri": "https://localhost:8080/"
        },
        "outputId": "98438d84-e161-4c12-d73e-52eba772ce3a"
      },
      "outputs": [
        {
          "output_type": "stream",
          "name": "stdout",
          "text": [
            "tf.Tensor(\n",
            "[[-0.20420362  0.36920536]\n",
            " [-0.20718174  0.21163209]\n",
            " [ 2.2181182  -0.4607317 ]\n",
            " ...\n",
            " [ 2.1845853  -0.3338588 ]\n",
            " [-2.1530373   1.2658898 ]\n",
            " [-0.55227655  0.15574141]], shape=(1000, 2), dtype=float32)\n"
          ]
        }
      ],
      "source": [
        "X = tf.random.normal((1000, 2), 0.0, 1)\n",
        "print(X)"
      ]
    },
    {
      "cell_type": "code",
      "source": [
        "A = tf.constant([[1, 2], [-0.1, 0.5]])\n",
        "print(A)"
      ],
      "metadata": {
        "colab": {
          "base_uri": "https://localhost:8080/"
        },
        "id": "VFnyt4IJO4-r",
        "outputId": "686c142e-f0e7-4134-d19c-d2dd3a9dd696"
      },
      "id": "VFnyt4IJO4-r",
      "execution_count": 4,
      "outputs": [
        {
          "output_type": "stream",
          "name": "stdout",
          "text": [
            "tf.Tensor(\n",
            "[[ 1.   2. ]\n",
            " [-0.1  0.5]], shape=(2, 2), dtype=float32)\n"
          ]
        }
      ]
    },
    {
      "cell_type": "code",
      "source": [
        "b = tf.constant([1, 2], tf.float32)\n",
        "print(b)"
      ],
      "metadata": {
        "colab": {
          "base_uri": "https://localhost:8080/"
        },
        "id": "M81hHUcOO5fk",
        "outputId": "7c1f9a82-bca1-432b-a426-d2d65e56a6f6"
      },
      "id": "M81hHUcOO5fk",
      "execution_count": 5,
      "outputs": [
        {
          "output_type": "stream",
          "name": "stdout",
          "text": [
            "tf.Tensor([1. 2.], shape=(2,), dtype=float32)\n"
          ]
        }
      ]
    },
    {
      "cell_type": "code",
      "source": [
        "data = tf.matmul(X, A) + b\n",
        "print(data)"
      ],
      "metadata": {
        "colab": {
          "base_uri": "https://localhost:8080/"
        },
        "id": "6uIs08HOPDUC",
        "outputId": "c29ee20b-63b7-4d2d-daa7-7d2ec572e088"
      },
      "id": "6uIs08HOPDUC",
      "execution_count": 6,
      "outputs": [
        {
          "output_type": "stream",
          "name": "stdout",
          "text": [
            "tf.Tensor(\n",
            "[[ 0.75887585  1.7761954 ]\n",
            " [ 0.7716551   1.6914525 ]\n",
            " [ 3.2641914   6.2058706 ]\n",
            " ...\n",
            " [ 3.2179713   6.2022414 ]\n",
            " [-1.2796264  -1.6731298 ]\n",
            " [ 0.4321493   0.9733176 ]], shape=(1000, 2), dtype=float32)\n"
          ]
        }
      ]
    },
    {
      "cell_type": "code",
      "source": [
        "data[:100, 0]"
      ],
      "metadata": {
        "colab": {
          "base_uri": "https://localhost:8080/"
        },
        "id": "14_aG6swSoZv",
        "outputId": "fb6e23d5-3b54-4168-b7b6-00b2502c7522"
      },
      "id": "14_aG6swSoZv",
      "execution_count": 7,
      "outputs": [
        {
          "output_type": "execute_result",
          "data": {
            "text/plain": [
              "<tf.Tensor: shape=(100,), dtype=float32, numpy=\n",
              "array([ 7.5887585e-01,  7.7165508e-01,  3.2641914e+00,  1.4085102e+00,\n",
              "        1.5525830e+00,  2.0018291e+00,  1.2409039e+00,  1.8204695e-01,\n",
              "        1.0162020e+00,  2.9325609e+00, -3.5645843e-01,  1.3614165e+00,\n",
              "        7.2081560e-01,  2.3618569e+00,  2.5061359e+00,  9.1903317e-01,\n",
              "        1.8657441e+00,  5.4334372e-01,  4.7867537e-02,  7.3924804e-01,\n",
              "        8.9129663e-01,  1.9297811e+00,  3.3499569e-01,  2.6684165e+00,\n",
              "        8.1217611e-01,  1.8451498e+00,  2.7846684e+00,  1.0465205e+00,\n",
              "        3.1208918e+00, -2.3926163e-01,  9.4603366e-01,  2.9932866e+00,\n",
              "        5.0376678e-01,  1.6157146e+00,  1.5236206e+00,  2.1533742e+00,\n",
              "        2.8818196e-01,  6.9339669e-01, -1.0551355e+00,  8.5794038e-01,\n",
              "        2.7754326e+00,  1.0518608e+00, -9.7491407e-01, -7.5376034e-02,\n",
              "       -6.0254717e-01,  2.3305099e+00,  3.9145082e-01,  2.1575525e+00,\n",
              "        1.7899435e+00,  1.9096293e+00,  3.0886462e+00,  2.1878252e+00,\n",
              "        3.3101457e-01,  1.1735502e+00,  3.6900759e-01,  1.4137584e+00,\n",
              "        1.7589706e-01,  1.4923537e-01,  1.1404577e+00,  5.6758308e-01,\n",
              "        6.7511898e-01,  1.5557003e+00,  1.1589625e+00,  1.7372262e+00,\n",
              "        2.1613498e+00,  6.8116188e-04, -2.8988838e-02,  1.5545881e+00,\n",
              "       -3.8743889e-01, -1.8010049e+00,  4.8611104e-02,  1.9796970e+00,\n",
              "        1.6432426e+00,  8.7825286e-01,  1.7311504e+00,  1.6646087e+00,\n",
              "        2.4425228e+00,  1.8437557e+00,  9.2199463e-01,  8.2558340e-01,\n",
              "        1.6652355e+00,  7.5268453e-01,  4.7716349e-01,  1.1728889e+00,\n",
              "        2.0332003e+00,  9.5932770e-01,  2.0912509e+00,  2.2222352e+00,\n",
              "       -2.2274482e-01,  1.9914162e+00,  5.2233350e-01,  7.3654294e-02,\n",
              "       -8.2029617e-01,  1.9791145e+00,  1.5123514e+00,  1.2983518e+00,\n",
              "        1.3395896e+00,  8.1378746e-01, -4.1701996e-01,  2.4254956e+00],\n",
              "      dtype=float32)>"
            ]
          },
          "metadata": {},
          "execution_count": 7
        }
      ]
    },
    {
      "cell_type": "markdown",
      "id": "3eae2cb2",
      "metadata": {
        "origin_pos": 7,
        "id": "3eae2cb2"
      },
      "source": [
        "Let's see what we got. This should be a Gaussian shifted in some rather arbitrary way with mean $b$ and covariance matrix $A^TA$.\n"
      ]
    },
    {
      "cell_type": "code",
      "execution_count": 9,
      "id": "d8224fa2",
      "metadata": {
        "execution": {
          "iopub.execute_input": "2023-08-18T19:37:54.598846Z",
          "iopub.status.busy": "2023-08-18T19:37:54.596687Z",
          "iopub.status.idle": "2023-08-18T19:37:54.819864Z",
          "shell.execute_reply": "2023-08-18T19:37:54.818679Z"
        },
        "origin_pos": 8,
        "tab": [
          "pytorch"
        ],
        "id": "d8224fa2",
        "outputId": "f35613f4-bf61-4bc7-e1ee-e2b3c91b99fc",
        "colab": {
          "base_uri": "https://localhost:8080/",
          "height": 300
        }
      },
      "outputs": [
        {
          "output_type": "stream",
          "name": "stdout",
          "text": [
            "The covariance matrix is\n",
            "[[1.01 1.95]\n",
            " [1.95 4.25]]\n"
          ]
        },
        {
          "output_type": "display_data",
          "data": {
            "text/plain": [
              "<Figure size 350x250 with 1 Axes>"
            ],
            "image/svg+xml": "<?xml version=\"1.0\" encoding=\"utf-8\" standalone=\"no\"?>\n<!DOCTYPE svg PUBLIC \"-//W3C//DTD SVG 1.1//EN\"\n  \"http://www.w3.org/Graphics/SVG/1.1/DTD/svg11.dtd\">\n<svg xmlns:xlink=\"http://www.w3.org/1999/xlink\" width=\"231.442187pt\" height=\"169.678125pt\" viewBox=\"0 0 231.442187 169.678125\" xmlns=\"http://www.w3.org/2000/svg\" version=\"1.1\">\n <metadata>\n  <rdf:RDF xmlns:dc=\"http://purl.org/dc/elements/1.1/\" xmlns:cc=\"http://creativecommons.org/ns#\" xmlns:rdf=\"http://www.w3.org/1999/02/22-rdf-syntax-ns#\">\n   <cc:Work>\n    <dc:type rdf:resource=\"http://purl.org/dc/dcmitype/StillImage\"/>\n    <dc:date>2023-10-19T17:15:30.209126</dc:date>\n    <dc:format>image/svg+xml</dc:format>\n    <dc:creator>\n     <cc:Agent>\n      <dc:title>Matplotlib v3.7.2, https://matplotlib.org/</dc:title>\n     </cc:Agent>\n    </dc:creator>\n   </cc:Work>\n  </rdf:RDF>\n </metadata>\n <defs>\n  <style type=\"text/css\">*{stroke-linejoin: round; stroke-linecap: butt}</style>\n </defs>\n <g id=\"figure_1\">\n  <g id=\"patch_1\">\n   <path d=\"M 0 169.678125 \nL 231.442187 169.678125 \nL 231.442187 0 \nL 0 0 \nz\n\" style=\"fill: #ffffff\"/>\n  </g>\n  <g id=\"axes_1\">\n   <g id=\"patch_2\">\n    <path d=\"M 28.942188 145.8 \nL 224.242188 145.8 \nL 224.242188 7.2 \nL 28.942188 7.2 \nz\n\" style=\"fill: #eaeaf2\"/>\n   </g>\n   <g id=\"matplotlib.axis_1\">\n    <g id=\"xtick_1\">\n     <g id=\"line2d_1\">\n      <path d=\"M 30.844276 145.8 \nL 30.844276 7.2 \n\" clip-path=\"url(#pc3421a32e2)\" style=\"fill: none; stroke: #ffffff; stroke-width: 0.8; stroke-linecap: round\"/>\n     </g>\n     <g id=\"text_1\">\n      <!-- −2 -->\n      <g style=\"fill: #262626\" transform=\"translate(23.473182 160.398438) scale(0.1 -0.1)\">\n       <defs>\n        <path id=\"DejaVuSans-2212\" d=\"M 678 2272 \nL 4684 2272 \nL 4684 1741 \nL 678 1741 \nL 678 2272 \nz\n\" transform=\"scale(0.015625)\"/>\n        <path id=\"DejaVuSans-32\" d=\"M 1228 531 \nL 3431 531 \nL 3431 0 \nL 469 0 \nL 469 531 \nQ 828 903 1448 1529 \nQ 2069 2156 2228 2338 \nQ 2531 2678 2651 2914 \nQ 2772 3150 2772 3378 \nQ 2772 3750 2511 3984 \nQ 2250 4219 1831 4219 \nQ 1534 4219 1204 4116 \nQ 875 4013 500 3803 \nL 500 4441 \nQ 881 4594 1212 4672 \nQ 1544 4750 1819 4750 \nQ 2544 4750 2975 4387 \nQ 3406 4025 3406 3419 \nQ 3406 3131 3298 2873 \nQ 3191 2616 2906 2266 \nQ 2828 2175 2409 1742 \nQ 1991 1309 1228 531 \nz\n\" transform=\"scale(0.015625)\"/>\n       </defs>\n       <use xlink:href=\"#DejaVuSans-2212\"/>\n       <use xlink:href=\"#DejaVuSans-32\" x=\"83.789062\"/>\n      </g>\n     </g>\n    </g>\n    <g id=\"xtick_2\">\n     <g id=\"line2d_2\">\n      <path d=\"M 65.896314 145.8 \nL 65.896314 7.2 \n\" clip-path=\"url(#pc3421a32e2)\" style=\"fill: none; stroke: #ffffff; stroke-width: 0.8; stroke-linecap: round\"/>\n     </g>\n     <g id=\"text_2\">\n      <!-- −1 -->\n      <g style=\"fill: #262626\" transform=\"translate(58.525221 160.398438) scale(0.1 -0.1)\">\n       <defs>\n        <path id=\"DejaVuSans-31\" d=\"M 794 531 \nL 1825 531 \nL 1825 4091 \nL 703 3866 \nL 703 4441 \nL 1819 4666 \nL 2450 4666 \nL 2450 531 \nL 3481 531 \nL 3481 0 \nL 794 0 \nL 794 531 \nz\n\" transform=\"scale(0.015625)\"/>\n       </defs>\n       <use xlink:href=\"#DejaVuSans-2212\"/>\n       <use xlink:href=\"#DejaVuSans-31\" x=\"83.789062\"/>\n      </g>\n     </g>\n    </g>\n    <g id=\"xtick_3\">\n     <g id=\"line2d_3\">\n      <path d=\"M 100.948353 145.8 \nL 100.948353 7.2 \n\" clip-path=\"url(#pc3421a32e2)\" style=\"fill: none; stroke: #ffffff; stroke-width: 0.8; stroke-linecap: round\"/>\n     </g>\n     <g id=\"text_3\">\n      <!-- 0 -->\n      <g style=\"fill: #262626\" transform=\"translate(97.767103 160.398438) scale(0.1 -0.1)\">\n       <defs>\n        <path id=\"DejaVuSans-30\" d=\"M 2034 4250 \nQ 1547 4250 1301 3770 \nQ 1056 3291 1056 2328 \nQ 1056 1369 1301 889 \nQ 1547 409 2034 409 \nQ 2525 409 2770 889 \nQ 3016 1369 3016 2328 \nQ 3016 3291 2770 3770 \nQ 2525 4250 2034 4250 \nz\nM 2034 4750 \nQ 2819 4750 3233 4129 \nQ 3647 3509 3647 2328 \nQ 3647 1150 3233 529 \nQ 2819 -91 2034 -91 \nQ 1250 -91 836 529 \nQ 422 1150 422 2328 \nQ 422 3509 836 4129 \nQ 1250 4750 2034 4750 \nz\n\" transform=\"scale(0.015625)\"/>\n       </defs>\n       <use xlink:href=\"#DejaVuSans-30\"/>\n      </g>\n     </g>\n    </g>\n    <g id=\"xtick_4\">\n     <g id=\"line2d_4\">\n      <path d=\"M 136.000391 145.8 \nL 136.000391 7.2 \n\" clip-path=\"url(#pc3421a32e2)\" style=\"fill: none; stroke: #ffffff; stroke-width: 0.8; stroke-linecap: round\"/>\n     </g>\n     <g id=\"text_4\">\n      <!-- 1 -->\n      <g style=\"fill: #262626\" transform=\"translate(132.819141 160.398438) scale(0.1 -0.1)\">\n       <use xlink:href=\"#DejaVuSans-31\"/>\n      </g>\n     </g>\n    </g>\n    <g id=\"xtick_5\">\n     <g id=\"line2d_5\">\n      <path d=\"M 171.05243 145.8 \nL 171.05243 7.2 \n\" clip-path=\"url(#pc3421a32e2)\" style=\"fill: none; stroke: #ffffff; stroke-width: 0.8; stroke-linecap: round\"/>\n     </g>\n     <g id=\"text_5\">\n      <!-- 2 -->\n      <g style=\"fill: #262626\" transform=\"translate(167.87118 160.398438) scale(0.1 -0.1)\">\n       <use xlink:href=\"#DejaVuSans-32\"/>\n      </g>\n     </g>\n    </g>\n    <g id=\"xtick_6\">\n     <g id=\"line2d_6\">\n      <path d=\"M 206.104468 145.8 \nL 206.104468 7.2 \n\" clip-path=\"url(#pc3421a32e2)\" style=\"fill: none; stroke: #ffffff; stroke-width: 0.8; stroke-linecap: round\"/>\n     </g>\n     <g id=\"text_6\">\n      <!-- 3 -->\n      <g style=\"fill: #262626\" transform=\"translate(202.923218 160.398438) scale(0.1 -0.1)\">\n       <defs>\n        <path id=\"DejaVuSans-33\" d=\"M 2597 2516 \nQ 3050 2419 3304 2112 \nQ 3559 1806 3559 1356 \nQ 3559 666 3084 287 \nQ 2609 -91 1734 -91 \nQ 1441 -91 1130 -33 \nQ 819 25 488 141 \nL 488 750 \nQ 750 597 1062 519 \nQ 1375 441 1716 441 \nQ 2309 441 2620 675 \nQ 2931 909 2931 1356 \nQ 2931 1769 2642 2001 \nQ 2353 2234 1838 2234 \nL 1294 2234 \nL 1294 2753 \nL 1863 2753 \nQ 2328 2753 2575 2939 \nQ 2822 3125 2822 3475 \nQ 2822 3834 2567 4026 \nQ 2313 4219 1838 4219 \nQ 1578 4219 1281 4162 \nQ 984 4106 628 3988 \nL 628 4550 \nQ 988 4650 1302 4700 \nQ 1616 4750 1894 4750 \nQ 2613 4750 3031 4423 \nQ 3450 4097 3450 3541 \nQ 3450 3153 3228 2886 \nQ 3006 2619 2597 2516 \nz\n\" transform=\"scale(0.015625)\"/>\n       </defs>\n       <use xlink:href=\"#DejaVuSans-33\"/>\n      </g>\n     </g>\n    </g>\n   </g>\n   <g id=\"matplotlib.axis_2\">\n    <g id=\"ytick_1\">\n     <g id=\"line2d_7\">\n      <path d=\"M 28.942188 131.38912 \nL 224.242188 131.38912 \n\" clip-path=\"url(#pc3421a32e2)\" style=\"fill: none; stroke: #ffffff; stroke-width: 0.8; stroke-linecap: round\"/>\n     </g>\n     <g id=\"text_7\">\n      <!-- −2 -->\n      <g style=\"fill: #262626\" transform=\"translate(7.2 135.188339) scale(0.1 -0.1)\">\n       <use xlink:href=\"#DejaVuSans-2212\"/>\n       <use xlink:href=\"#DejaVuSans-32\" x=\"83.789062\"/>\n      </g>\n     </g>\n    </g>\n    <g id=\"ytick_2\">\n     <g id=\"line2d_8\">\n      <path d=\"M 28.942188 106.167113 \nL 224.242188 106.167113 \n\" clip-path=\"url(#pc3421a32e2)\" style=\"fill: none; stroke: #ffffff; stroke-width: 0.8; stroke-linecap: round\"/>\n     </g>\n     <g id=\"text_8\">\n      <!-- 0 -->\n      <g style=\"fill: #262626\" transform=\"translate(15.579688 109.966331) scale(0.1 -0.1)\">\n       <use xlink:href=\"#DejaVuSans-30\"/>\n      </g>\n     </g>\n    </g>\n    <g id=\"ytick_3\">\n     <g id=\"line2d_9\">\n      <path d=\"M 28.942188 80.945105 \nL 224.242188 80.945105 \n\" clip-path=\"url(#pc3421a32e2)\" style=\"fill: none; stroke: #ffffff; stroke-width: 0.8; stroke-linecap: round\"/>\n     </g>\n     <g id=\"text_9\">\n      <!-- 2 -->\n      <g style=\"fill: #262626\" transform=\"translate(15.579688 84.744324) scale(0.1 -0.1)\">\n       <use xlink:href=\"#DejaVuSans-32\"/>\n      </g>\n     </g>\n    </g>\n    <g id=\"ytick_4\">\n     <g id=\"line2d_10\">\n      <path d=\"M 28.942188 55.723097 \nL 224.242188 55.723097 \n\" clip-path=\"url(#pc3421a32e2)\" style=\"fill: none; stroke: #ffffff; stroke-width: 0.8; stroke-linecap: round\"/>\n     </g>\n     <g id=\"text_10\">\n      <!-- 4 -->\n      <g style=\"fill: #262626\" transform=\"translate(15.579688 59.522316) scale(0.1 -0.1)\">\n       <defs>\n        <path id=\"DejaVuSans-34\" d=\"M 2419 4116 \nL 825 1625 \nL 2419 1625 \nL 2419 4116 \nz\nM 2253 4666 \nL 3047 4666 \nL 3047 1625 \nL 3713 1625 \nL 3713 1100 \nL 3047 1100 \nL 3047 0 \nL 2419 0 \nL 2419 1100 \nL 313 1100 \nL 313 1709 \nL 2253 4666 \nz\n\" transform=\"scale(0.015625)\"/>\n       </defs>\n       <use xlink:href=\"#DejaVuSans-34\"/>\n      </g>\n     </g>\n    </g>\n    <g id=\"ytick_5\">\n     <g id=\"line2d_11\">\n      <path d=\"M 28.942188 30.501089 \nL 224.242188 30.501089 \n\" clip-path=\"url(#pc3421a32e2)\" style=\"fill: none; stroke: #ffffff; stroke-width: 0.8; stroke-linecap: round\"/>\n     </g>\n     <g id=\"text_11\">\n      <!-- 6 -->\n      <g style=\"fill: #262626\" transform=\"translate(15.579688 34.300308) scale(0.1 -0.1)\">\n       <defs>\n        <path id=\"DejaVuSans-36\" d=\"M 2113 2584 \nQ 1688 2584 1439 2293 \nQ 1191 2003 1191 1497 \nQ 1191 994 1439 701 \nQ 1688 409 2113 409 \nQ 2538 409 2786 701 \nQ 3034 994 3034 1497 \nQ 3034 2003 2786 2293 \nQ 2538 2584 2113 2584 \nz\nM 3366 4563 \nL 3366 3988 \nQ 3128 4100 2886 4159 \nQ 2644 4219 2406 4219 \nQ 1781 4219 1451 3797 \nQ 1122 3375 1075 2522 \nQ 1259 2794 1537 2939 \nQ 1816 3084 2150 3084 \nQ 2853 3084 3261 2657 \nQ 3669 2231 3669 1497 \nQ 3669 778 3244 343 \nQ 2819 -91 2113 -91 \nQ 1303 -91 875 529 \nQ 447 1150 447 2328 \nQ 447 3434 972 4092 \nQ 1497 4750 2381 4750 \nQ 2619 4750 2861 4703 \nQ 3103 4656 3366 4563 \nz\n\" transform=\"scale(0.015625)\"/>\n       </defs>\n       <use xlink:href=\"#DejaVuSans-36\"/>\n      </g>\n     </g>\n    </g>\n   </g>\n   <g id=\"PathCollection_1\">\n    <defs>\n     <path id=\"m325bfe52cc\" d=\"M 0 3 \nC 0.795609 3 1.55874 2.683901 2.12132 2.12132 \nC 2.683901 1.55874 3 0.795609 3 0 \nC 3 -0.795609 2.683901 -1.55874 2.12132 -2.12132 \nC 1.55874 -2.683901 0.795609 -3 0 -3 \nC -0.795609 -3 -1.55874 -2.683901 -2.12132 -2.12132 \nC -2.683901 -1.55874 -3 -0.795609 -3 0 \nC -3 0.795609 -2.683901 1.55874 -2.12132 2.12132 \nC -1.55874 2.683901 -0.795609 3 0 3 \nz\n\" style=\"stroke: #1f77b4\"/>\n    </defs>\n    <g clip-path=\"url(#pc3421a32e2)\">\n     <use xlink:href=\"#m325bfe52cc\" x=\"127.548498\" y=\"83.767505\" style=\"fill: #1f77b4; stroke: #1f77b4\"/>\n     <use xlink:href=\"#m325bfe52cc\" x=\"127.996436\" y=\"84.836198\" style=\"fill: #1f77b4; stroke: #1f77b4\"/>\n     <use xlink:href=\"#m325bfe52cc\" x=\"215.364915\" y=\"27.904854\" style=\"fill: #1f77b4; stroke: #1f77b4\"/>\n     <use xlink:href=\"#m325bfe52cc\" x=\"150.319507\" y=\"71.815809\" style=\"fill: #1f77b4; stroke: #1f77b4\"/>\n     <use xlink:href=\"#m325bfe52cc\" x=\"155.369551\" y=\"61.847629\" style=\"fill: #1f77b4; stroke: #1f77b4\"/>\n     <use xlink:href=\"#m325bfe52cc\" x=\"171.116545\" y=\"62.576137\" style=\"fill: #1f77b4; stroke: #1f77b4\"/>\n     <use xlink:href=\"#m325bfe52cc\" x=\"144.444562\" y=\"72.427275\" style=\"fill: #1f77b4; stroke: #1f77b4\"/>\n     <use xlink:href=\"#m325bfe52cc\" x=\"107.329469\" y=\"104.864572\" style=\"fill: #1f77b4; stroke: #1f77b4\"/>\n     <use xlink:href=\"#m325bfe52cc\" x=\"136.568303\" y=\"82.543145\" style=\"fill: #1f77b4; stroke: #1f77b4\"/>\n     <use xlink:href=\"#m325bfe52cc\" x=\"203.740591\" y=\"35.131518\" style=\"fill: #1f77b4; stroke: #1f77b4\"/>\n     <use xlink:href=\"#m325bfe52cc\" x=\"88.453758\" y=\"110.910166\" style=\"fill: #1f77b4; stroke: #1f77b4\"/>\n     <use xlink:href=\"#m325bfe52cc\" x=\"148.668775\" y=\"73.044018\" style=\"fill: #1f77b4; stroke: #1f77b4\"/>\n     <use xlink:href=\"#m325bfe52cc\" x=\"126.214409\" y=\"102.414416\" style=\"fill: #1f77b4; stroke: #1f77b4\"/>\n     <use xlink:href=\"#m325bfe52cc\" x=\"183.736253\" y=\"47.873403\" style=\"fill: #1f77b4; stroke: #1f77b4\"/>\n     <use xlink:href=\"#m325bfe52cc\" x=\"188.793526\" y=\"40.123315\" style=\"fill: #1f77b4; stroke: #1f77b4\"/>\n     <use xlink:href=\"#m325bfe52cc\" x=\"133.162339\" y=\"82.704304\" style=\"fill: #1f77b4; stroke: #1f77b4\"/>\n     <use xlink:href=\"#m325bfe52cc\" x=\"166.346487\" y=\"65.529706\" style=\"fill: #1f77b4; stroke: #1f77b4\"/>\n     <use xlink:href=\"#m325bfe52cc\" x=\"119.993658\" y=\"99.060007\" style=\"fill: #1f77b4; stroke: #1f77b4\"/>\n     <use xlink:href=\"#m325bfe52cc\" x=\"102.626207\" y=\"119.489636\" style=\"fill: #1f77b4; stroke: #1f77b4\"/>\n     <use xlink:href=\"#m325bfe52cc\" x=\"126.860503\" y=\"83.018881\" style=\"fill: #1f77b4; stroke: #1f77b4\"/>\n     <use xlink:href=\"#m325bfe52cc\" x=\"132.190116\" y=\"81.835804\" style=\"fill: #1f77b4; stroke: #1f77b4\"/>\n     <use xlink:href=\"#m325bfe52cc\" x=\"168.591113\" y=\"64.664883\" style=\"fill: #1f77b4; stroke: #1f77b4\"/>\n     <use xlink:href=\"#m325bfe52cc\" x=\"112.690634\" y=\"109.84219\" style=\"fill: #1f77b4; stroke: #1f77b4\"/>\n     <use xlink:href=\"#m325bfe52cc\" x=\"194.48179\" y=\"49.24317\" style=\"fill: #1f77b4; stroke: #1f77b4\"/>\n     <use xlink:href=\"#m325bfe52cc\" x=\"129.416781\" y=\"75.974763\" style=\"fill: #1f77b4; stroke: #1f77b4\"/>\n     <use xlink:href=\"#m325bfe52cc\" x=\"165.624613\" y=\"66.712625\" style=\"fill: #1f77b4; stroke: #1f77b4\"/>\n     <use xlink:href=\"#m325bfe52cc\" x=\"198.556658\" y=\"32.334934\" style=\"fill: #1f77b4; stroke: #1f77b4\"/>\n     <use xlink:href=\"#m325bfe52cc\" x=\"137.631029\" y=\"80.559646\" style=\"fill: #1f77b4; stroke: #1f77b4\"/>\n     <use xlink:href=\"#m325bfe52cc\" x=\"210.341972\" y=\"13.5\" style=\"fill: #1f77b4; stroke: #1f77b4\"/>\n     <use xlink:href=\"#m325bfe52cc\" x=\"92.561745\" y=\"115.87816\" style=\"fill: #1f77b4; stroke: #1f77b4\"/>\n     <use xlink:href=\"#m325bfe52cc\" x=\"134.108761\" y=\"68.399818\" style=\"fill: #1f77b4; stroke: #1f77b4\"/>\n     <use xlink:href=\"#m325bfe52cc\" x=\"205.86915\" y=\"24.477363\" style=\"fill: #1f77b4; stroke: #1f77b4\"/>\n     <use xlink:href=\"#m325bfe52cc\" x=\"118.606405\" y=\"87.606528\" style=\"fill: #1f77b4; stroke: #1f77b4\"/>\n     <use xlink:href=\"#m325bfe52cc\" x=\"157.582441\" y=\"62.772991\" style=\"fill: #1f77b4; stroke: #1f77b4\"/>\n     <use xlink:href=\"#m325bfe52cc\" x=\"154.354361\" y=\"67.317248\" style=\"fill: #1f77b4; stroke: #1f77b4\"/>\n     <use xlink:href=\"#m325bfe52cc\" x=\"176.428508\" y=\"63.42908\" style=\"fill: #1f77b4; stroke: #1f77b4\"/>\n     <use xlink:href=\"#m325bfe52cc\" x=\"111.049718\" y=\"98.38893\" style=\"fill: #1f77b4; stroke: #1f77b4\"/>\n     <use xlink:href=\"#m325bfe52cc\" x=\"125.25332\" y=\"82.131916\" style=\"fill: #1f77b4; stroke: #1f77b4\"/>\n     <use xlink:href=\"#m325bfe52cc\" x=\"63.963703\" y=\"127.568555\" style=\"fill: #1f77b4; stroke: #1f77b4\"/>\n     <use xlink:href=\"#m325bfe52cc\" x=\"131.020912\" y=\"89.622436\" style=\"fill: #1f77b4; stroke: #1f77b4\"/>\n     <use xlink:href=\"#m325bfe52cc\" x=\"198.232922\" y=\"33.774968\" style=\"fill: #1f77b4; stroke: #1f77b4\"/>\n     <use xlink:href=\"#m325bfe52cc\" x=\"137.818218\" y=\"68.719998\" style=\"fill: #1f77b4; stroke: #1f77b4\"/>\n     <use xlink:href=\"#m325bfe52cc\" x=\"66.775627\" y=\"130.260505\" style=\"fill: #1f77b4; stroke: #1f77b4\"/>\n     <use xlink:href=\"#m325bfe52cc\" x=\"98.306269\" y=\"115.394974\" style=\"fill: #1f77b4; stroke: #1f77b4\"/>\n     <use xlink:href=\"#m325bfe52cc\" x=\"79.827846\" y=\"115.453515\" style=\"fill: #1f77b4; stroke: #1f77b4\"/>\n     <use xlink:href=\"#m325bfe52cc\" x=\"182.637475\" y=\"36.254381\" style=\"fill: #1f77b4; stroke: #1f77b4\"/>\n     <use xlink:href=\"#m325bfe52cc\" x=\"114.669502\" y=\"100.576797\" style=\"fill: #1f77b4; stroke: #1f77b4\"/>\n     <use xlink:href=\"#m325bfe52cc\" x=\"176.574965\" y=\"49.358423\" style=\"fill: #1f77b4; stroke: #1f77b4\"/>\n     <use xlink:href=\"#m325bfe52cc\" x=\"163.68952\" y=\"58.669372\" style=\"fill: #1f77b4; stroke: #1f77b4\"/>\n     <use xlink:href=\"#m325bfe52cc\" x=\"167.884754\" y=\"40.248502\" style=\"fill: #1f77b4; stroke: #1f77b4\"/>\n     <use xlink:href=\"#m325bfe52cc\" x=\"209.211697\" y=\"18.54225\" style=\"fill: #1f77b4; stroke: #1f77b4\"/>\n     <use xlink:href=\"#m325bfe52cc\" x=\"177.636086\" y=\"40.645513\" style=\"fill: #1f77b4; stroke: #1f77b4\"/>\n     <use xlink:href=\"#m325bfe52cc\" x=\"112.551088\" y=\"109.521285\" style=\"fill: #1f77b4; stroke: #1f77b4\"/>\n     <use xlink:href=\"#m325bfe52cc\" x=\"142.083681\" y=\"75.012094\" style=\"fill: #1f77b4; stroke: #1f77b4\"/>\n     <use xlink:href=\"#m325bfe52cc\" x=\"113.882821\" y=\"110.530817\" style=\"fill: #1f77b4; stroke: #1f77b4\"/>\n     <use xlink:href=\"#m325bfe52cc\" x=\"150.503466\" y=\"50.102731\" style=\"fill: #1f77b4; stroke: #1f77b4\"/>\n     <use xlink:href=\"#m325bfe52cc\" x=\"107.113903\" y=\"92.178593\" style=\"fill: #1f77b4; stroke: #1f77b4\"/>\n     <use xlink:href=\"#m325bfe52cc\" x=\"106.179357\" y=\"113.879024\" style=\"fill: #1f77b4; stroke: #1f77b4\"/>\n     <use xlink:href=\"#m325bfe52cc\" x=\"140.923722\" y=\"78.041681\" style=\"fill: #1f77b4; stroke: #1f77b4\"/>\n     <use xlink:href=\"#m325bfe52cc\" x=\"120.843297\" y=\"87.057736\" style=\"fill: #1f77b4; stroke: #1f77b4\"/>\n     <use xlink:href=\"#m325bfe52cc\" x=\"124.612649\" y=\"79.135205\" style=\"fill: #1f77b4; stroke: #1f77b4\"/>\n     <use xlink:href=\"#m325bfe52cc\" x=\"155.47882\" y=\"73.276468\" style=\"fill: #1f77b4; stroke: #1f77b4\"/>\n     <use xlink:href=\"#m325bfe52cc\" x=\"141.57235\" y=\"83.044256\" style=\"fill: #1f77b4; stroke: #1f77b4\"/>\n     <use xlink:href=\"#m325bfe52cc\" x=\"161.841674\" y=\"61.597817\" style=\"fill: #1f77b4; stroke: #1f77b4\"/>\n     <use xlink:href=\"#m325bfe52cc\" x=\"176.708068\" y=\"53.718405\" style=\"fill: #1f77b4; stroke: #1f77b4\"/>\n     <use xlink:href=\"#m325bfe52cc\" x=\"100.972229\" y=\"112.527108\" style=\"fill: #1f77b4; stroke: #1f77b4\"/>\n     <use xlink:href=\"#m325bfe52cc\" x=\"99.932235\" y=\"113.45916\" style=\"fill: #1f77b4; stroke: #1f77b4\"/>\n     <use xlink:href=\"#m325bfe52cc\" x=\"155.439834\" y=\"60.835656\" style=\"fill: #1f77b4; stroke: #1f77b4\"/>\n     <use xlink:href=\"#m325bfe52cc\" x=\"87.36783\" y=\"105.456765\" style=\"fill: #1f77b4; stroke: #1f77b4\"/>\n     <use xlink:href=\"#m325bfe52cc\" x=\"37.81946\" y=\"139.5\" style=\"fill: #1f77b4; stroke: #1f77b4\"/>\n     <use xlink:href=\"#m325bfe52cc\" x=\"102.652271\" y=\"121.961169\" style=\"fill: #1f77b4; stroke: #1f77b4\"/>\n     <use xlink:href=\"#m325bfe52cc\" x=\"170.340768\" y=\"74.935432\" style=\"fill: #1f77b4; stroke: #1f77b4\"/>\n     <use xlink:href=\"#m325bfe52cc\" x=\"158.547355\" y=\"64.964122\" style=\"fill: #1f77b4; stroke: #1f77b4\"/>\n     <use xlink:href=\"#m325bfe52cc\" x=\"131.732906\" y=\"73.501598\" style=\"fill: #1f77b4; stroke: #1f77b4\"/>\n     <use xlink:href=\"#m325bfe52cc\" x=\"161.628703\" y=\"66.805183\" style=\"fill: #1f77b4; stroke: #1f77b4\"/>\n     <use xlink:href=\"#m325bfe52cc\" x=\"159.296281\" y=\"62.140003\" style=\"fill: #1f77b4; stroke: #1f77b4\"/>\n     <use xlink:href=\"#m325bfe52cc\" x=\"186.563755\" y=\"50.140231\" style=\"fill: #1f77b4; stroke: #1f77b4\"/>\n     <use xlink:href=\"#m325bfe52cc\" x=\"165.575749\" y=\"51.822316\" style=\"fill: #1f77b4; stroke: #1f77b4\"/>\n     <use xlink:href=\"#m325bfe52cc\" x=\"133.266144\" y=\"84.046022\" style=\"fill: #1f77b4; stroke: #1f77b4\"/>\n     <use xlink:href=\"#m325bfe52cc\" x=\"129.886734\" y=\"72.158548\" style=\"fill: #1f77b4; stroke: #1f77b4\"/>\n     <use xlink:href=\"#m325bfe52cc\" x=\"159.318252\" y=\"69.341281\" style=\"fill: #1f77b4; stroke: #1f77b4\"/>\n     <use xlink:href=\"#m325bfe52cc\" x=\"127.33148\" y=\"82.688962\" style=\"fill: #1f77b4; stroke: #1f77b4\"/>\n     <use xlink:href=\"#m325bfe52cc\" x=\"117.673906\" y=\"72.392683\" style=\"fill: #1f77b4; stroke: #1f77b4\"/>\n     <use xlink:href=\"#m325bfe52cc\" x=\"142.060499\" y=\"60.840878\" style=\"fill: #1f77b4; stroke: #1f77b4\"/>\n     <use xlink:href=\"#m325bfe52cc\" x=\"172.216167\" y=\"52.442922\" style=\"fill: #1f77b4; stroke: #1f77b4\"/>\n     <use xlink:href=\"#m325bfe52cc\" x=\"134.574744\" y=\"77.914089\" style=\"fill: #1f77b4; stroke: #1f77b4\"/>\n     <use xlink:href=\"#m325bfe52cc\" x=\"174.25096\" y=\"57.944268\" style=\"fill: #1f77b4; stroke: #1f77b4\"/>\n     <use xlink:href=\"#m325bfe52cc\" x=\"178.842226\" y=\"55.145907\" style=\"fill: #1f77b4; stroke: #1f77b4\"/>\n     <use xlink:href=\"#m325bfe52cc\" x=\"93.140693\" y=\"104.790872\" style=\"fill: #1f77b4; stroke: #1f77b4\"/>\n     <use xlink:href=\"#m325bfe52cc\" x=\"170.75155\" y=\"71.826383\" style=\"fill: #1f77b4; stroke: #1f77b4\"/>\n     <use xlink:href=\"#m325bfe52cc\" x=\"119.257207\" y=\"94.675872\" style=\"fill: #1f77b4; stroke: #1f77b4\"/>\n     <use xlink:href=\"#m325bfe52cc\" x=\"103.530086\" y=\"110.696907\" style=\"fill: #1f77b4; stroke: #1f77b4\"/>\n     <use xlink:href=\"#m325bfe52cc\" x=\"72.1953\" y=\"105.406821\" style=\"fill: #1f77b4; stroke: #1f77b4\"/>\n     <use xlink:href=\"#m325bfe52cc\" x=\"170.320351\" y=\"67.204385\" style=\"fill: #1f77b4; stroke: #1f77b4\"/>\n     <use xlink:href=\"#m325bfe52cc\" x=\"153.959352\" y=\"53.507744\" style=\"fill: #1f77b4; stroke: #1f77b4\"/>\n     <use xlink:href=\"#m325bfe52cc\" x=\"146.458229\" y=\"71.592435\" style=\"fill: #1f77b4; stroke: #1f77b4\"/>\n     <use xlink:href=\"#m325bfe52cc\" x=\"147.903699\" y=\"81.55873\" style=\"fill: #1f77b4; stroke: #1f77b4\"/>\n     <use xlink:href=\"#m325bfe52cc\" x=\"129.473262\" y=\"79.215643\" style=\"fill: #1f77b4; stroke: #1f77b4\"/>\n     <use xlink:href=\"#m325bfe52cc\" x=\"86.330953\" y=\"127.45458\" style=\"fill: #1f77b4; stroke: #1f77b4\"/>\n     <use xlink:href=\"#m325bfe52cc\" x=\"185.966919\" y=\"57.182181\" style=\"fill: #1f77b4; stroke: #1f77b4\"/>\n    </g>\n   </g>\n   <g id=\"patch_3\">\n    <path d=\"M 28.942188 145.8 \nL 28.942188 7.2 \n\" style=\"fill: none; stroke: #ffffff; stroke-width: 0.8; stroke-linejoin: miter; stroke-linecap: square\"/>\n   </g>\n   <g id=\"patch_4\">\n    <path d=\"M 224.242188 145.8 \nL 224.242188 7.2 \n\" style=\"fill: none; stroke: #ffffff; stroke-width: 0.8; stroke-linejoin: miter; stroke-linecap: square\"/>\n   </g>\n   <g id=\"patch_5\">\n    <path d=\"M 28.942187 145.8 \nL 224.242188 145.8 \n\" style=\"fill: none; stroke: #ffffff; stroke-width: 0.8; stroke-linejoin: miter; stroke-linecap: square\"/>\n   </g>\n   <g id=\"patch_6\">\n    <path d=\"M 28.942187 7.2 \nL 224.242188 7.2 \n\" style=\"fill: none; stroke: #ffffff; stroke-width: 0.8; stroke-linejoin: miter; stroke-linecap: square\"/>\n   </g>\n  </g>\n </g>\n <defs>\n  <clipPath id=\"pc3421a32e2\">\n   <rect x=\"28.942188\" y=\"7.2\" width=\"195.3\" height=\"138.6\"/>\n  </clipPath>\n </defs>\n</svg>\n"
          },
          "metadata": {}
        }
      ],
      "source": [
        "dtf.set_figsize()\n",
        "dtf.plt.scatter(data[:100, 0].numpy(), data[:100, 1].numpy());\n",
        "print(f'The covariance matrix is\\n{tf.matmul(A, A, transpose_a=True)}')"
      ]
    },
    {
      "cell_type": "code",
      "execution_count": 10,
      "id": "58699d06",
      "metadata": {
        "execution": {
          "iopub.execute_input": "2023-08-18T19:37:54.824909Z",
          "iopub.status.busy": "2023-08-18T19:37:54.824547Z",
          "iopub.status.idle": "2023-08-18T19:37:54.830317Z",
          "shell.execute_reply": "2023-08-18T19:37:54.829167Z"
        },
        "origin_pos": 10,
        "tab": [
          "pytorch"
        ],
        "id": "58699d06",
        "colab": {
          "base_uri": "https://localhost:8080/"
        },
        "outputId": "71971b9c-5a9d-4043-f6b4-bc7ad51ffff5"
      },
      "outputs": [
        {
          "output_type": "stream",
          "name": "stdout",
          "text": [
            "<_BatchDataset element_spec=(TensorSpec(shape=(None, 2), dtype=tf.float32, name=None),)>\n"
          ]
        }
      ],
      "source": [
        "batch_size = 8\n",
        "data_iter = dtf.load_array((data,), batch_size)\n",
        "print(data_iter)"
      ]
    },
    {
      "cell_type": "markdown",
      "id": "19ffd737",
      "metadata": {
        "origin_pos": 11,
        "id": "19ffd737"
      },
      "source": [
        "<br>\n",
        "<br>\n",
        "\n",
        "## Generator\n",
        "\n",
        "Our generator network will be the simplest network possible - a single layer linear model. This is since we will be driving that linear network with a Gaussian data generator. Hence, it literally only needs to learn the parameters to fake things perfectly.\n"
      ]
    },
    {
      "cell_type": "code",
      "execution_count": 11,
      "id": "ccc0fd58",
      "metadata": {
        "execution": {
          "iopub.execute_input": "2023-08-18T19:37:54.834958Z",
          "iopub.status.busy": "2023-08-18T19:37:54.834346Z",
          "iopub.status.idle": "2023-08-18T19:37:54.841305Z",
          "shell.execute_reply": "2023-08-18T19:37:54.840296Z"
        },
        "origin_pos": 13,
        "tab": [
          "pytorch"
        ],
        "id": "ccc0fd58",
        "colab": {
          "base_uri": "https://localhost:8080/"
        },
        "outputId": "0bbbea10-4c64-4062-b886-bf067af217ef"
      },
      "outputs": [
        {
          "output_type": "stream",
          "name": "stdout",
          "text": [
            "<keras.src.layers.core.dense.Dense object at 0x798e1d1b85b0>\n"
          ]
        }
      ],
      "source": [
        "net_G = tf.keras.layers.Dense(2)\n",
        "print(net_G)"
      ]
    },
    {
      "cell_type": "markdown",
      "id": "3b0389a4",
      "metadata": {
        "origin_pos": 15,
        "id": "3b0389a4"
      },
      "source": [
        "<br>\n",
        "<br>\n",
        "\n",
        "## Discriminator\n",
        "\n",
        "For the discriminator we will be a bit more discriminating: we will use an MLP with 3 layers to make things a bit more interesting.\n"
      ]
    },
    {
      "cell_type": "code",
      "execution_count": 14,
      "id": "1ee21c33",
      "metadata": {
        "execution": {
          "iopub.execute_input": "2023-08-18T19:37:54.847079Z",
          "iopub.status.busy": "2023-08-18T19:37:54.846478Z",
          "iopub.status.idle": "2023-08-18T19:37:54.851943Z",
          "shell.execute_reply": "2023-08-18T19:37:54.850943Z"
        },
        "origin_pos": 17,
        "tab": [
          "pytorch"
        ],
        "id": "1ee21c33",
        "colab": {
          "base_uri": "https://localhost:8080/"
        },
        "outputId": "0b81dd0d-9902-4f14-815e-c2b529649c23"
      },
      "outputs": [
        {
          "output_type": "stream",
          "name": "stdout",
          "text": [
            "Model: \"sequential\"\n",
            "_________________________________________________________________\n",
            " Layer (type)                Output Shape              Param #   \n",
            "=================================================================\n",
            " dense_1 (Dense)             (None, 5)                 15        \n",
            "                                                                 \n",
            " dense_2 (Dense)             (None, 3)                 18        \n",
            "                                                                 \n",
            " dense_3 (Dense)             (None, 1)                 4         \n",
            "                                                                 \n",
            "=================================================================\n",
            "Total params: 37 (148.00 Byte)\n",
            "Trainable params: 37 (148.00 Byte)\n",
            "Non-trainable params: 0 (0.00 Byte)\n",
            "_________________________________________________________________\n"
          ]
        }
      ],
      "source": [
        "net_D = tf.keras.models.Sequential([\n",
        "    tf.keras.layers.Dense(5, activation='tanh', input_shape=(2,)),\n",
        "    tf.keras.layers.Dense(3, activation='tanh'),\n",
        "    tf.keras.layers.Dense(1)\n",
        "])\n",
        "net_D.summary()"
      ]
    },
    {
      "cell_type": "markdown",
      "id": "5e4dfd02",
      "metadata": {
        "origin_pos": 19,
        "id": "5e4dfd02"
      },
      "source": [
        "<br>\n",
        "<br>\n",
        "\n",
        "## Training\n",
        "\n",
        "First we define a function to update the discriminator.\n"
      ]
    },
    {
      "cell_type": "code",
      "execution_count": 15,
      "id": "b3b8cf85",
      "metadata": {
        "execution": {
          "iopub.execute_input": "2023-08-18T19:37:54.857667Z",
          "iopub.status.busy": "2023-08-18T19:37:54.857059Z",
          "iopub.status.idle": "2023-08-18T19:37:54.866336Z",
          "shell.execute_reply": "2023-08-18T19:37:54.864795Z"
        },
        "origin_pos": 21,
        "tab": [
          "pytorch"
        ],
        "id": "b3b8cf85"
      },
      "outputs": [],
      "source": [
        "def update_D(X, Z, net_D, net_G, loss, optimizer_D):\n",
        "    \"\"\"Update discriminator.\"\"\"\n",
        "\n",
        "    batch_size = X.shape[0]\n",
        "    ones = tf.ones((batch_size,)) # Labels corresponding to real data\n",
        "    zeros = tf.zeros((batch_size,)) # Labels corresponding to fake data\n",
        "    # Do not need to compute gradient for `net_G`, so it is outside GradientTape\n",
        "    fake_X = net_G(Z)\n",
        "    with tf.GradientTape() as tape:\n",
        "        real_Y = net_D(X)\n",
        "        fake_Y = net_D(fake_X)\n",
        "        # We multiply the loss by batch_size to match PyTorch's BCEWithLogitsLoss\n",
        "        loss_D = (loss(ones, tf.squeeze(real_Y)) + loss(\n",
        "            zeros, tf.squeeze(fake_Y))) * batch_size / 2\n",
        "    grads_D = tape.gradient(loss_D, net_D.trainable_variables)\n",
        "    optimizer_D.apply_gradients(zip(grads_D, net_D.trainable_variables))\n",
        "    return loss_D\n"
      ]
    },
    {
      "cell_type": "markdown",
      "id": "5918495e",
      "metadata": {
        "origin_pos": 23,
        "id": "5918495e"
      },
      "source": [
        "The generator is updated similarly. Here we reuse the cross-entropy loss but change the label of the fake data from $0$ to $1$.\n"
      ]
    },
    {
      "cell_type": "code",
      "execution_count": 16,
      "id": "e30b1d11",
      "metadata": {
        "execution": {
          "iopub.execute_input": "2023-08-18T19:37:54.871558Z",
          "iopub.status.busy": "2023-08-18T19:37:54.870130Z",
          "iopub.status.idle": "2023-08-18T19:37:54.877351Z",
          "shell.execute_reply": "2023-08-18T19:37:54.876243Z"
        },
        "origin_pos": 25,
        "tab": [
          "pytorch"
        ],
        "id": "e30b1d11"
      },
      "outputs": [],
      "source": [
        "def update_G(Z, net_D, net_G, loss, optimizer_G):\n",
        "    \"\"\"Update generator.\"\"\"\n",
        "\n",
        "    batch_size = Z.shape[0]\n",
        "    ones = tf.ones((batch_size,))\n",
        "    with tf.GradientTape() as tape:\n",
        "        # We could reuse `fake_X` from `update_D` to save computation\n",
        "        fake_X = net_G(Z)\n",
        "        # Recomputing `fake_Y` is needed since `net_D` is changed\n",
        "        fake_Y = net_D(fake_X)\n",
        "        # We multiply the loss by batch_size to match PyTorch's BCEWithLogits loss\n",
        "        loss_G = loss(ones, tf.squeeze(fake_Y)) * batch_size\n",
        "    grads_G = tape.gradient(loss_G, net_G.trainable_variables)\n",
        "    optimizer_G.apply_gradients(zip(grads_G, net_G.trainable_variables))\n",
        "    return loss_G"
      ]
    },
    {
      "cell_type": "markdown",
      "id": "1ceac030",
      "metadata": {
        "origin_pos": 27,
        "id": "1ceac030"
      },
      "source": [
        "<br>\n",
        "\n",
        "Both the discriminator and the generator performs a binary logistic regression with the cross-entropy loss. We use Adam to smooth the training process. In each iteration, we first update the discriminator and then the generator. We visualize both losses and generated examples.\n"
      ]
    },
    {
      "cell_type": "code",
      "execution_count": 17,
      "id": "742a9e3b",
      "metadata": {
        "execution": {
          "iopub.execute_input": "2023-08-18T19:37:54.881764Z",
          "iopub.status.busy": "2023-08-18T19:37:54.881214Z",
          "iopub.status.idle": "2023-08-18T19:37:54.892786Z",
          "shell.execute_reply": "2023-08-18T19:37:54.891599Z"
        },
        "origin_pos": 29,
        "tab": [
          "pytorch"
        ],
        "id": "742a9e3b"
      },
      "outputs": [],
      "source": [
        "def train(net_D, net_G, data_iter, num_epochs, lr_D, lr_G, latent_dim, data):\n",
        "    \"\"\"Training\"\"\"\n",
        "\n",
        "    loss = tf.keras.losses.BinaryCrossentropy(\n",
        "        from_logits=True, reduction=tf.keras.losses.Reduction.SUM)\n",
        "    for w in net_D.trainable_variables:\n",
        "        w.assign(tf.random.normal(mean=0, stddev=0.02, shape=w.shape))\n",
        "    for w in net_G.trainable_variables:\n",
        "        w.assign(tf.random.normal(mean=0, stddev=0.02, shape=w.shape))\n",
        "    optimizer_D = tf.keras.optimizers.Adam(learning_rate=lr_D)\n",
        "    optimizer_G = tf.keras.optimizers.Adam(learning_rate=lr_G)\n",
        "    animator = dtf.Animator(\n",
        "        xlabel=\"epoch\", ylabel=\"loss\", xlim=[1, num_epochs], nrows=2,\n",
        "        figsize=(5, 5), legend=[\"discriminator\", \"generator\"])\n",
        "    animator.fig.subplots_adjust(hspace=0.3)\n",
        "    for epoch in range(num_epochs):\n",
        "        # Train one epoch\n",
        "        timer = dtf.Timer()\n",
        "        metric = dtf.Accumulator(3)  # loss_D, loss_G, num_examples\n",
        "        for (X,) in data_iter:\n",
        "            batch_size = X.shape[0]\n",
        "            Z = tf.random.normal(\n",
        "                mean=0, stddev=1, shape=(batch_size, latent_dim))\n",
        "            metric.add(update_D(X, Z, net_D, net_G, loss, optimizer_D),\n",
        "                       update_G(Z, net_D, net_G, loss, optimizer_G),\n",
        "                       batch_size)\n",
        "        # Visualize generated examples\n",
        "        Z = tf.random.normal(mean=0, stddev=1, shape=(100, latent_dim))\n",
        "        fake_X = net_G(Z)\n",
        "        animator.axes[1].cla()\n",
        "        animator.axes[1].scatter(data[:, 0], data[:, 1])\n",
        "        animator.axes[1].scatter(fake_X[:, 0], fake_X[:, 1])\n",
        "        animator.axes[1].legend([\"real\", \"generated\"])\n",
        "\n",
        "        # Show the losses\n",
        "        loss_D, loss_G = metric[0] / metric[2], metric[1] / metric[2]\n",
        "        animator.add(epoch + 1, (loss_D, loss_G))\n",
        "\n",
        "        print(f'loss_D {loss_D:.3f}, loss_G {loss_G:.3f}, '\n",
        "              f'{metric[2] / timer.stop():.1f} examples/sec')\n"
      ]
    },
    {
      "cell_type": "markdown",
      "id": "71239e94",
      "metadata": {
        "origin_pos": 31,
        "id": "71239e94"
      },
      "source": [
        "Now we specify the hyperparameters to fit the Gaussian distribution.\n"
      ]
    },
    {
      "cell_type": "code",
      "execution_count": 19,
      "id": "b4106ed3",
      "metadata": {
        "execution": {
          "iopub.execute_input": "2023-08-18T19:37:54.897440Z",
          "iopub.status.busy": "2023-08-18T19:37:54.896873Z",
          "iopub.status.idle": "2023-08-18T19:38:14.489948Z",
          "shell.execute_reply": "2023-08-18T19:38:14.485966Z"
        },
        "origin_pos": 32,
        "tab": [
          "pytorch"
        ],
        "id": "b4106ed3",
        "outputId": "c53a638a-4959-4a8e-a9f2-a660715d24a6",
        "colab": {
          "base_uri": "https://localhost:8080/",
          "height": 453
        }
      },
      "outputs": [
        {
          "output_type": "stream",
          "name": "stdout",
          "text": [
            "loss_D 0.693, loss_G 0.693, 170.1 examples/sec\n"
          ]
        },
        {
          "output_type": "display_data",
          "data": {
            "text/plain": [
              "<Figure size 500x500 with 2 Axes>"
            ],
            "image/svg+xml": "<?xml version=\"1.0\" encoding=\"utf-8\" standalone=\"no\"?>\n<!DOCTYPE svg PUBLIC \"-//W3C//DTD SVG 1.1//EN\"\n  \"http://www.w3.org/Graphics/SVG/1.1/DTD/svg11.dtd\">\n<svg xmlns:xlink=\"http://www.w3.org/1999/xlink\" width=\"341.114062pt\" height=\"310.996223pt\" viewBox=\"0 0 341.114062 310.996223\" xmlns=\"http://www.w3.org/2000/svg\" version=\"1.1\">\n <metadata>\n  <rdf:RDF xmlns:dc=\"http://purl.org/dc/elements/1.1/\" xmlns:cc=\"http://creativecommons.org/ns#\" xmlns:rdf=\"http://www.w3.org/1999/02/22-rdf-syntax-ns#\">\n   <cc:Work>\n    <dc:type rdf:resource=\"http://purl.org/dc/dcmitype/StillImage\"/>\n    <dc:date>2023-10-19T17:32:45.010557</dc:date>\n    <dc:format>image/svg+xml</dc:format>\n    <dc:creator>\n     <cc:Agent>\n      <dc:title>Matplotlib v3.7.2, https://matplotlib.org/</dc:title>\n     </cc:Agent>\n    </dc:creator>\n   </cc:Work>\n  </rdf:RDF>\n </metadata>\n <defs>\n  <style type=\"text/css\">*{stroke-linejoin: round; stroke-linecap: butt}</style>\n </defs>\n <g id=\"figure_1\">\n  <g id=\"patch_1\">\n   <path d=\"M 0 310.996223 \nL 341.114062 310.996223 \nL 341.114062 0 \nL 0 0 \nz\n\" style=\"fill: #ffffff\"/>\n  </g>\n  <g id=\"axes_1\">\n   <g id=\"patch_2\">\n    <path d=\"M 43.78125 130.439837 \nL 322.78125 130.439837 \nL 322.78125 9.918098 \nL 43.78125 9.918098 \nz\n\" style=\"fill: #eaeaf2\"/>\n   </g>\n   <g id=\"matplotlib.axis_1\">\n    <g id=\"xtick_1\">\n     <g id=\"text_1\">\n      <!-- 2.5 -->\n      <g style=\"fill: #262626\" transform=\"translate(57.856003 145.038274) scale(0.1 -0.1)\">\n       <defs>\n        <path id=\"DejaVuSans-32\" d=\"M 1228 531 \nL 3431 531 \nL 3431 0 \nL 469 0 \nL 469 531 \nQ 828 903 1448 1529 \nQ 2069 2156 2228 2338 \nQ 2531 2678 2651 2914 \nQ 2772 3150 2772 3378 \nQ 2772 3750 2511 3984 \nQ 2250 4219 1831 4219 \nQ 1534 4219 1204 4116 \nQ 875 4013 500 3803 \nL 500 4441 \nQ 881 4594 1212 4672 \nQ 1544 4750 1819 4750 \nQ 2544 4750 2975 4387 \nQ 3406 4025 3406 3419 \nQ 3406 3131 3298 2873 \nQ 3191 2616 2906 2266 \nQ 2828 2175 2409 1742 \nQ 1991 1309 1228 531 \nz\n\" transform=\"scale(0.015625)\"/>\n        <path id=\"DejaVuSans-2e\" d=\"M 684 794 \nL 1344 794 \nL 1344 0 \nL 684 0 \nL 684 794 \nz\n\" transform=\"scale(0.015625)\"/>\n        <path id=\"DejaVuSans-35\" d=\"M 691 4666 \nL 3169 4666 \nL 3169 4134 \nL 1269 4134 \nL 1269 2991 \nQ 1406 3038 1543 3061 \nQ 1681 3084 1819 3084 \nQ 2600 3084 3056 2656 \nQ 3513 2228 3513 1497 \nQ 3513 744 3044 326 \nQ 2575 -91 1722 -91 \nQ 1428 -91 1123 -41 \nQ 819 9 494 109 \nL 494 744 \nQ 775 591 1075 516 \nQ 1375 441 1709 441 \nQ 2250 441 2565 725 \nQ 2881 1009 2881 1497 \nQ 2881 1984 2565 2268 \nQ 2250 2553 1709 2553 \nQ 1456 2553 1204 2497 \nQ 953 2441 691 2322 \nL 691 4666 \nz\n\" transform=\"scale(0.015625)\"/>\n       </defs>\n       <use xlink:href=\"#DejaVuSans-32\"/>\n       <use xlink:href=\"#DejaVuSans-2e\" x=\"63.623047\"/>\n       <use xlink:href=\"#DejaVuSans-35\" x=\"95.410156\"/>\n      </g>\n     </g>\n    </g>\n    <g id=\"xtick_2\">\n     <g id=\"text_2\">\n      <!-- 5.0 -->\n      <g style=\"fill: #262626\" transform=\"translate(94.56653 145.038274) scale(0.1 -0.1)\">\n       <defs>\n        <path id=\"DejaVuSans-30\" d=\"M 2034 4250 \nQ 1547 4250 1301 3770 \nQ 1056 3291 1056 2328 \nQ 1056 1369 1301 889 \nQ 1547 409 2034 409 \nQ 2525 409 2770 889 \nQ 3016 1369 3016 2328 \nQ 3016 3291 2770 3770 \nQ 2525 4250 2034 4250 \nz\nM 2034 4750 \nQ 2819 4750 3233 4129 \nQ 3647 3509 3647 2328 \nQ 3647 1150 3233 529 \nQ 2819 -91 2034 -91 \nQ 1250 -91 836 529 \nQ 422 1150 422 2328 \nQ 422 3509 836 4129 \nQ 1250 4750 2034 4750 \nz\n\" transform=\"scale(0.015625)\"/>\n       </defs>\n       <use xlink:href=\"#DejaVuSans-35\"/>\n       <use xlink:href=\"#DejaVuSans-2e\" x=\"63.623047\"/>\n       <use xlink:href=\"#DejaVuSans-30\" x=\"95.410156\"/>\n      </g>\n     </g>\n    </g>\n    <g id=\"xtick_3\">\n     <g id=\"text_3\">\n      <!-- 7.5 -->\n      <g style=\"fill: #262626\" transform=\"translate(131.277056 145.038274) scale(0.1 -0.1)\">\n       <defs>\n        <path id=\"DejaVuSans-37\" d=\"M 525 4666 \nL 3525 4666 \nL 3525 4397 \nL 1831 0 \nL 1172 0 \nL 2766 4134 \nL 525 4134 \nL 525 4666 \nz\n\" transform=\"scale(0.015625)\"/>\n       </defs>\n       <use xlink:href=\"#DejaVuSans-37\"/>\n       <use xlink:href=\"#DejaVuSans-2e\" x=\"63.623047\"/>\n       <use xlink:href=\"#DejaVuSans-35\" x=\"95.410156\"/>\n      </g>\n     </g>\n    </g>\n    <g id=\"xtick_4\">\n     <g id=\"text_4\">\n      <!-- 10.0 -->\n      <g style=\"fill: #262626\" transform=\"translate(164.806332 145.038274) scale(0.1 -0.1)\">\n       <defs>\n        <path id=\"DejaVuSans-31\" d=\"M 794 531 \nL 1825 531 \nL 1825 4091 \nL 703 3866 \nL 703 4441 \nL 1819 4666 \nL 2450 4666 \nL 2450 531 \nL 3481 531 \nL 3481 0 \nL 794 0 \nL 794 531 \nz\n\" transform=\"scale(0.015625)\"/>\n       </defs>\n       <use xlink:href=\"#DejaVuSans-31\"/>\n       <use xlink:href=\"#DejaVuSans-30\" x=\"63.623047\"/>\n       <use xlink:href=\"#DejaVuSans-2e\" x=\"127.246094\"/>\n       <use xlink:href=\"#DejaVuSans-30\" x=\"159.033203\"/>\n      </g>\n     </g>\n    </g>\n    <g id=\"xtick_5\">\n     <g id=\"text_5\">\n      <!-- 12.5 -->\n      <g style=\"fill: #262626\" transform=\"translate(201.516859 145.038274) scale(0.1 -0.1)\">\n       <use xlink:href=\"#DejaVuSans-31\"/>\n       <use xlink:href=\"#DejaVuSans-32\" x=\"63.623047\"/>\n       <use xlink:href=\"#DejaVuSans-2e\" x=\"127.246094\"/>\n       <use xlink:href=\"#DejaVuSans-35\" x=\"159.033203\"/>\n      </g>\n     </g>\n    </g>\n    <g id=\"xtick_6\">\n     <g id=\"text_6\">\n      <!-- 15.0 -->\n      <g style=\"fill: #262626\" transform=\"translate(238.227385 145.038274) scale(0.1 -0.1)\">\n       <use xlink:href=\"#DejaVuSans-31\"/>\n       <use xlink:href=\"#DejaVuSans-35\" x=\"63.623047\"/>\n       <use xlink:href=\"#DejaVuSans-2e\" x=\"127.246094\"/>\n       <use xlink:href=\"#DejaVuSans-30\" x=\"159.033203\"/>\n      </g>\n     </g>\n    </g>\n    <g id=\"xtick_7\">\n     <g id=\"text_7\">\n      <!-- 17.5 -->\n      <g style=\"fill: #262626\" transform=\"translate(274.937911 145.038274) scale(0.1 -0.1)\">\n       <use xlink:href=\"#DejaVuSans-31\"/>\n       <use xlink:href=\"#DejaVuSans-37\" x=\"63.623047\"/>\n       <use xlink:href=\"#DejaVuSans-2e\" x=\"127.246094\"/>\n       <use xlink:href=\"#DejaVuSans-35\" x=\"159.033203\"/>\n      </g>\n     </g>\n    </g>\n    <g id=\"xtick_8\">\n     <g id=\"text_8\">\n      <!-- 20.0 -->\n      <g style=\"fill: #262626\" transform=\"translate(311.648438 145.038274) scale(0.1 -0.1)\">\n       <use xlink:href=\"#DejaVuSans-32\"/>\n       <use xlink:href=\"#DejaVuSans-30\" x=\"63.623047\"/>\n       <use xlink:href=\"#DejaVuSans-2e\" x=\"127.246094\"/>\n       <use xlink:href=\"#DejaVuSans-30\" x=\"159.033203\"/>\n      </g>\n     </g>\n    </g>\n    <g id=\"text_9\">\n     <!-- epoch -->\n     <g style=\"fill: #262626\" transform=\"translate(168.053125 158.716399) scale(0.1 -0.1)\">\n      <defs>\n       <path id=\"DejaVuSans-65\" d=\"M 3597 1894 \nL 3597 1613 \nL 953 1613 \nQ 991 1019 1311 708 \nQ 1631 397 2203 397 \nQ 2534 397 2845 478 \nQ 3156 559 3463 722 \nL 3463 178 \nQ 3153 47 2828 -22 \nQ 2503 -91 2169 -91 \nQ 1331 -91 842 396 \nQ 353 884 353 1716 \nQ 353 2575 817 3079 \nQ 1281 3584 2069 3584 \nQ 2775 3584 3186 3129 \nQ 3597 2675 3597 1894 \nz\nM 3022 2063 \nQ 3016 2534 2758 2815 \nQ 2500 3097 2075 3097 \nQ 1594 3097 1305 2825 \nQ 1016 2553 972 2059 \nL 3022 2063 \nz\n\" transform=\"scale(0.015625)\"/>\n       <path id=\"DejaVuSans-70\" d=\"M 1159 525 \nL 1159 -1331 \nL 581 -1331 \nL 581 3500 \nL 1159 3500 \nL 1159 2969 \nQ 1341 3281 1617 3432 \nQ 1894 3584 2278 3584 \nQ 2916 3584 3314 3078 \nQ 3713 2572 3713 1747 \nQ 3713 922 3314 415 \nQ 2916 -91 2278 -91 \nQ 1894 -91 1617 61 \nQ 1341 213 1159 525 \nz\nM 3116 1747 \nQ 3116 2381 2855 2742 \nQ 2594 3103 2138 3103 \nQ 1681 3103 1420 2742 \nQ 1159 2381 1159 1747 \nQ 1159 1113 1420 752 \nQ 1681 391 2138 391 \nQ 2594 391 2855 752 \nQ 3116 1113 3116 1747 \nz\n\" transform=\"scale(0.015625)\"/>\n       <path id=\"DejaVuSans-6f\" d=\"M 1959 3097 \nQ 1497 3097 1228 2736 \nQ 959 2375 959 1747 \nQ 959 1119 1226 758 \nQ 1494 397 1959 397 \nQ 2419 397 2687 759 \nQ 2956 1122 2956 1747 \nQ 2956 2369 2687 2733 \nQ 2419 3097 1959 3097 \nz\nM 1959 3584 \nQ 2709 3584 3137 3096 \nQ 3566 2609 3566 1747 \nQ 3566 888 3137 398 \nQ 2709 -91 1959 -91 \nQ 1206 -91 779 398 \nQ 353 888 353 1747 \nQ 353 2609 779 3096 \nQ 1206 3584 1959 3584 \nz\n\" transform=\"scale(0.015625)\"/>\n       <path id=\"DejaVuSans-63\" d=\"M 3122 3366 \nL 3122 2828 \nQ 2878 2963 2633 3030 \nQ 2388 3097 2138 3097 \nQ 1578 3097 1268 2742 \nQ 959 2388 959 1747 \nQ 959 1106 1268 751 \nQ 1578 397 2138 397 \nQ 2388 397 2633 464 \nQ 2878 531 3122 666 \nL 3122 134 \nQ 2881 22 2623 -34 \nQ 2366 -91 2075 -91 \nQ 1284 -91 818 406 \nQ 353 903 353 1747 \nQ 353 2603 823 3093 \nQ 1294 3584 2113 3584 \nQ 2378 3584 2631 3529 \nQ 2884 3475 3122 3366 \nz\n\" transform=\"scale(0.015625)\"/>\n       <path id=\"DejaVuSans-68\" d=\"M 3513 2113 \nL 3513 0 \nL 2938 0 \nL 2938 2094 \nQ 2938 2591 2744 2837 \nQ 2550 3084 2163 3084 \nQ 1697 3084 1428 2787 \nQ 1159 2491 1159 1978 \nL 1159 0 \nL 581 0 \nL 581 4863 \nL 1159 4863 \nL 1159 2956 \nQ 1366 3272 1645 3428 \nQ 1925 3584 2291 3584 \nQ 2894 3584 3203 3211 \nQ 3513 2838 3513 2113 \nz\n\" transform=\"scale(0.015625)\"/>\n      </defs>\n      <use xlink:href=\"#DejaVuSans-65\"/>\n      <use xlink:href=\"#DejaVuSans-70\" x=\"61.523438\"/>\n      <use xlink:href=\"#DejaVuSans-6f\" x=\"125\"/>\n      <use xlink:href=\"#DejaVuSans-63\" x=\"186.181641\"/>\n      <use xlink:href=\"#DejaVuSans-68\" x=\"241.162109\"/>\n     </g>\n    </g>\n   </g>\n   <g id=\"matplotlib.axis_2\">\n    <g id=\"ytick_1\">\n     <g id=\"text_10\">\n      <!-- 0.6 -->\n      <g style=\"fill: #262626\" transform=\"translate(20.878125 120.789054) scale(0.1 -0.1)\">\n       <defs>\n        <path id=\"DejaVuSans-36\" d=\"M 2113 2584 \nQ 1688 2584 1439 2293 \nQ 1191 2003 1191 1497 \nQ 1191 994 1439 701 \nQ 1688 409 2113 409 \nQ 2538 409 2786 701 \nQ 3034 994 3034 1497 \nQ 3034 2003 2786 2293 \nQ 2538 2584 2113 2584 \nz\nM 3366 4563 \nL 3366 3988 \nQ 3128 4100 2886 4159 \nQ 2644 4219 2406 4219 \nQ 1781 4219 1451 3797 \nQ 1122 3375 1075 2522 \nQ 1259 2794 1537 2939 \nQ 1816 3084 2150 3084 \nQ 2853 3084 3261 2657 \nQ 3669 2231 3669 1497 \nQ 3669 778 3244 343 \nQ 2819 -91 2113 -91 \nQ 1303 -91 875 529 \nQ 447 1150 447 2328 \nQ 447 3434 972 4092 \nQ 1497 4750 2381 4750 \nQ 2619 4750 2861 4703 \nQ 3103 4656 3366 4563 \nz\n\" transform=\"scale(0.015625)\"/>\n       </defs>\n       <use xlink:href=\"#DejaVuSans-30\"/>\n       <use xlink:href=\"#DejaVuSans-2e\" x=\"63.623047\"/>\n       <use xlink:href=\"#DejaVuSans-36\" x=\"95.410156\"/>\n      </g>\n     </g>\n    </g>\n    <g id=\"ytick_2\">\n     <g id=\"text_11\">\n      <!-- 0.7 -->\n      <g style=\"fill: #262626\" transform=\"translate(20.878125 99.590931) scale(0.1 -0.1)\">\n       <use xlink:href=\"#DejaVuSans-30\"/>\n       <use xlink:href=\"#DejaVuSans-2e\" x=\"63.623047\"/>\n       <use xlink:href=\"#DejaVuSans-37\" x=\"95.410156\"/>\n      </g>\n     </g>\n    </g>\n    <g id=\"ytick_3\">\n     <g id=\"text_12\">\n      <!-- 0.8 -->\n      <g style=\"fill: #262626\" transform=\"translate(20.878125 78.392807) scale(0.1 -0.1)\">\n       <defs>\n        <path id=\"DejaVuSans-38\" d=\"M 2034 2216 \nQ 1584 2216 1326 1975 \nQ 1069 1734 1069 1313 \nQ 1069 891 1326 650 \nQ 1584 409 2034 409 \nQ 2484 409 2743 651 \nQ 3003 894 3003 1313 \nQ 3003 1734 2745 1975 \nQ 2488 2216 2034 2216 \nz\nM 1403 2484 \nQ 997 2584 770 2862 \nQ 544 3141 544 3541 \nQ 544 4100 942 4425 \nQ 1341 4750 2034 4750 \nQ 2731 4750 3128 4425 \nQ 3525 4100 3525 3541 \nQ 3525 3141 3298 2862 \nQ 3072 2584 2669 2484 \nQ 3125 2378 3379 2068 \nQ 3634 1759 3634 1313 \nQ 3634 634 3220 271 \nQ 2806 -91 2034 -91 \nQ 1263 -91 848 271 \nQ 434 634 434 1313 \nQ 434 1759 690 2068 \nQ 947 2378 1403 2484 \nz\nM 1172 3481 \nQ 1172 3119 1398 2916 \nQ 1625 2713 2034 2713 \nQ 2441 2713 2670 2916 \nQ 2900 3119 2900 3481 \nQ 2900 3844 2670 4047 \nQ 2441 4250 2034 4250 \nQ 1625 4250 1398 4047 \nQ 1172 3844 1172 3481 \nz\n\" transform=\"scale(0.015625)\"/>\n       </defs>\n       <use xlink:href=\"#DejaVuSans-30\"/>\n       <use xlink:href=\"#DejaVuSans-2e\" x=\"63.623047\"/>\n       <use xlink:href=\"#DejaVuSans-38\" x=\"95.410156\"/>\n      </g>\n     </g>\n    </g>\n    <g id=\"ytick_4\">\n     <g id=\"text_13\">\n      <!-- 0.9 -->\n      <g style=\"fill: #262626\" transform=\"translate(20.878125 57.194684) scale(0.1 -0.1)\">\n       <defs>\n        <path id=\"DejaVuSans-39\" d=\"M 703 97 \nL 703 672 \nQ 941 559 1184 500 \nQ 1428 441 1663 441 \nQ 2288 441 2617 861 \nQ 2947 1281 2994 2138 \nQ 2813 1869 2534 1725 \nQ 2256 1581 1919 1581 \nQ 1219 1581 811 2004 \nQ 403 2428 403 3163 \nQ 403 3881 828 4315 \nQ 1253 4750 1959 4750 \nQ 2769 4750 3195 4129 \nQ 3622 3509 3622 2328 \nQ 3622 1225 3098 567 \nQ 2575 -91 1691 -91 \nQ 1453 -91 1209 -44 \nQ 966 3 703 97 \nz\nM 1959 2075 \nQ 2384 2075 2632 2365 \nQ 2881 2656 2881 3163 \nQ 2881 3666 2632 3958 \nQ 2384 4250 1959 4250 \nQ 1534 4250 1286 3958 \nQ 1038 3666 1038 3163 \nQ 1038 2656 1286 2365 \nQ 1534 2075 1959 2075 \nz\n\" transform=\"scale(0.015625)\"/>\n       </defs>\n       <use xlink:href=\"#DejaVuSans-30\"/>\n       <use xlink:href=\"#DejaVuSans-2e\" x=\"63.623047\"/>\n       <use xlink:href=\"#DejaVuSans-39\" x=\"95.410156\"/>\n      </g>\n     </g>\n    </g>\n    <g id=\"ytick_5\">\n     <g id=\"text_14\">\n      <!-- 1.0 -->\n      <g style=\"fill: #262626\" transform=\"translate(20.878125 35.996561) scale(0.1 -0.1)\">\n       <use xlink:href=\"#DejaVuSans-31\"/>\n       <use xlink:href=\"#DejaVuSans-2e\" x=\"63.623047\"/>\n       <use xlink:href=\"#DejaVuSans-30\" x=\"95.410156\"/>\n      </g>\n     </g>\n    </g>\n    <g id=\"ytick_6\">\n     <g id=\"text_15\">\n      <!-- 1.1 -->\n      <g style=\"fill: #262626\" transform=\"translate(20.878125 14.798438) scale(0.1 -0.1)\">\n       <use xlink:href=\"#DejaVuSans-31\"/>\n       <use xlink:href=\"#DejaVuSans-2e\" x=\"63.623047\"/>\n       <use xlink:href=\"#DejaVuSans-31\" x=\"95.410156\"/>\n      </g>\n     </g>\n    </g>\n    <g id=\"text_16\">\n     <!-- loss -->\n     <g style=\"fill: #262626\" transform=\"translate(14.798438 79.83678) rotate(-90) scale(0.1 -0.1)\">\n      <defs>\n       <path id=\"DejaVuSans-6c\" d=\"M 603 4863 \nL 1178 4863 \nL 1178 0 \nL 603 0 \nL 603 4863 \nz\n\" transform=\"scale(0.015625)\"/>\n       <path id=\"DejaVuSans-73\" d=\"M 2834 3397 \nL 2834 2853 \nQ 2591 2978 2328 3040 \nQ 2066 3103 1784 3103 \nQ 1356 3103 1142 2972 \nQ 928 2841 928 2578 \nQ 928 2378 1081 2264 \nQ 1234 2150 1697 2047 \nL 1894 2003 \nQ 2506 1872 2764 1633 \nQ 3022 1394 3022 966 \nQ 3022 478 2636 193 \nQ 2250 -91 1575 -91 \nQ 1294 -91 989 -36 \nQ 684 19 347 128 \nL 347 722 \nQ 666 556 975 473 \nQ 1284 391 1588 391 \nQ 1994 391 2212 530 \nQ 2431 669 2431 922 \nQ 2431 1156 2273 1281 \nQ 2116 1406 1581 1522 \nL 1381 1569 \nQ 847 1681 609 1914 \nQ 372 2147 372 2553 \nQ 372 3047 722 3315 \nQ 1072 3584 1716 3584 \nQ 2034 3584 2315 3537 \nQ 2597 3491 2834 3397 \nz\n\" transform=\"scale(0.015625)\"/>\n      </defs>\n      <use xlink:href=\"#DejaVuSans-6c\"/>\n      <use xlink:href=\"#DejaVuSans-6f\" x=\"27.783203\"/>\n      <use xlink:href=\"#DejaVuSans-73\" x=\"88.964844\"/>\n      <use xlink:href=\"#DejaVuSans-73\" x=\"141.064453\"/>\n     </g>\n    </g>\n   </g>\n   <g id=\"line2d_1\">\n    <path d=\"M 43.78125 124.961576 \nL 58.465461 113.305893 \nL 73.149671 104.801998 \nL 87.833882 99.884442 \nL 102.518092 98.319981 \nL 117.202303 97.598025 \nL 131.886513 97.334796 \nL 146.570724 97.272706 \nL 161.254934 97.216432 \nL 175.939145 97.304285 \nL 190.623355 97.142485 \nL 205.307566 97.238396 \nL 219.991776 97.257421 \nL 234.675987 97.209695 \nL 249.360197 97.258075 \nL 264.044408 97.188208 \nL 278.728618 97.206477 \nL 293.412829 97.257326 \nL 308.097039 97.172369 \nL 322.78125 97.240101 \n\" clip-path=\"url(#p2c0b1887a4)\" style=\"fill: none; stroke: #1f77b4; stroke-width: 1.5; stroke-linecap: round\"/>\n   </g>\n   <g id=\"line2d_2\">\n    <path d=\"M 43.78125 15.396359 \nL 58.465461 51.162599 \nL 73.149671 75.990587 \nL 87.833882 87.335504 \nL 102.518092 93.977327 \nL 117.202303 94.772297 \nL 131.886513 96.974109 \nL 146.570724 96.682214 \nL 161.254934 97.229792 \nL 175.939145 97.114822 \nL 190.623355 97.15498 \nL 205.307566 97.017108 \nL 219.991776 97.077205 \nL 234.675987 97.177628 \nL 249.360197 97.332227 \nL 264.044408 97.131372 \nL 278.728618 97.349061 \nL 293.412829 97.272647 \nL 308.097039 97.180644 \nL 322.78125 97.255614 \n\" clip-path=\"url(#p2c0b1887a4)\" style=\"fill: none; stroke-dasharray: 5.55,2.4; stroke-dashoffset: 0; stroke: #bf00bf; stroke-width: 1.5\"/>\n   </g>\n   <g id=\"patch_3\">\n    <path d=\"M 43.78125 130.439837 \nL 43.78125 9.918098 \n\" style=\"fill: none; stroke: #ffffff; stroke-width: 0.8; stroke-linejoin: miter; stroke-linecap: square\"/>\n   </g>\n   <g id=\"patch_4\">\n    <path d=\"M 322.78125 130.439837 \nL 322.78125 9.918098 \n\" style=\"fill: none; stroke: #ffffff; stroke-width: 0.8; stroke-linejoin: miter; stroke-linecap: square\"/>\n   </g>\n   <g id=\"patch_5\">\n    <path d=\"M 43.78125 130.439837 \nL 322.78125 130.439837 \n\" style=\"fill: none; stroke: #ffffff; stroke-width: 0.8; stroke-linejoin: miter; stroke-linecap: square\"/>\n   </g>\n   <g id=\"patch_6\">\n    <path d=\"M 43.78125 9.918098 \nL 322.78125 9.918098 \n\" style=\"fill: none; stroke: #ffffff; stroke-width: 0.8; stroke-linejoin: miter; stroke-linecap: square\"/>\n   </g>\n   <g id=\"legend_1\">\n    <g id=\"patch_7\">\n     <path d=\"M 217.923437 47.274348 \nL 315.78125 47.274348 \nQ 317.78125 47.274348 317.78125 45.274348 \nL 317.78125 16.918098 \nQ 317.78125 14.918098 315.78125 14.918098 \nL 217.923437 14.918098 \nQ 215.923437 14.918098 215.923437 16.918098 \nL 215.923437 45.274348 \nQ 215.923437 47.274348 217.923437 47.274348 \nz\n\" style=\"fill: #eaeaf2; opacity: 0.8; stroke: #cccccc; stroke-linejoin: miter\"/>\n    </g>\n    <g id=\"line2d_3\">\n     <path d=\"M 219.923437 23.016535 \nL 229.923437 23.016535 \nL 239.923437 23.016535 \n\" style=\"fill: none; stroke: #1f77b4; stroke-width: 1.5; stroke-linecap: round\"/>\n    </g>\n    <g id=\"text_17\">\n     <!-- discriminator -->\n     <g style=\"fill: #262626\" transform=\"translate(247.923437 26.516535) scale(0.1 -0.1)\">\n      <defs>\n       <path id=\"DejaVuSans-64\" d=\"M 2906 2969 \nL 2906 4863 \nL 3481 4863 \nL 3481 0 \nL 2906 0 \nL 2906 525 \nQ 2725 213 2448 61 \nQ 2172 -91 1784 -91 \nQ 1150 -91 751 415 \nQ 353 922 353 1747 \nQ 353 2572 751 3078 \nQ 1150 3584 1784 3584 \nQ 2172 3584 2448 3432 \nQ 2725 3281 2906 2969 \nz\nM 947 1747 \nQ 947 1113 1208 752 \nQ 1469 391 1925 391 \nQ 2381 391 2643 752 \nQ 2906 1113 2906 1747 \nQ 2906 2381 2643 2742 \nQ 2381 3103 1925 3103 \nQ 1469 3103 1208 2742 \nQ 947 2381 947 1747 \nz\n\" transform=\"scale(0.015625)\"/>\n       <path id=\"DejaVuSans-69\" d=\"M 603 3500 \nL 1178 3500 \nL 1178 0 \nL 603 0 \nL 603 3500 \nz\nM 603 4863 \nL 1178 4863 \nL 1178 4134 \nL 603 4134 \nL 603 4863 \nz\n\" transform=\"scale(0.015625)\"/>\n       <path id=\"DejaVuSans-72\" d=\"M 2631 2963 \nQ 2534 3019 2420 3045 \nQ 2306 3072 2169 3072 \nQ 1681 3072 1420 2755 \nQ 1159 2438 1159 1844 \nL 1159 0 \nL 581 0 \nL 581 3500 \nL 1159 3500 \nL 1159 2956 \nQ 1341 3275 1631 3429 \nQ 1922 3584 2338 3584 \nQ 2397 3584 2469 3576 \nQ 2541 3569 2628 3553 \nL 2631 2963 \nz\n\" transform=\"scale(0.015625)\"/>\n       <path id=\"DejaVuSans-6d\" d=\"M 3328 2828 \nQ 3544 3216 3844 3400 \nQ 4144 3584 4550 3584 \nQ 5097 3584 5394 3201 \nQ 5691 2819 5691 2113 \nL 5691 0 \nL 5113 0 \nL 5113 2094 \nQ 5113 2597 4934 2840 \nQ 4756 3084 4391 3084 \nQ 3944 3084 3684 2787 \nQ 3425 2491 3425 1978 \nL 3425 0 \nL 2847 0 \nL 2847 2094 \nQ 2847 2600 2669 2842 \nQ 2491 3084 2119 3084 \nQ 1678 3084 1418 2786 \nQ 1159 2488 1159 1978 \nL 1159 0 \nL 581 0 \nL 581 3500 \nL 1159 3500 \nL 1159 2956 \nQ 1356 3278 1631 3431 \nQ 1906 3584 2284 3584 \nQ 2666 3584 2933 3390 \nQ 3200 3197 3328 2828 \nz\n\" transform=\"scale(0.015625)\"/>\n       <path id=\"DejaVuSans-6e\" d=\"M 3513 2113 \nL 3513 0 \nL 2938 0 \nL 2938 2094 \nQ 2938 2591 2744 2837 \nQ 2550 3084 2163 3084 \nQ 1697 3084 1428 2787 \nQ 1159 2491 1159 1978 \nL 1159 0 \nL 581 0 \nL 581 3500 \nL 1159 3500 \nL 1159 2956 \nQ 1366 3272 1645 3428 \nQ 1925 3584 2291 3584 \nQ 2894 3584 3203 3211 \nQ 3513 2838 3513 2113 \nz\n\" transform=\"scale(0.015625)\"/>\n       <path id=\"DejaVuSans-61\" d=\"M 2194 1759 \nQ 1497 1759 1228 1600 \nQ 959 1441 959 1056 \nQ 959 750 1161 570 \nQ 1363 391 1709 391 \nQ 2188 391 2477 730 \nQ 2766 1069 2766 1631 \nL 2766 1759 \nL 2194 1759 \nz\nM 3341 1997 \nL 3341 0 \nL 2766 0 \nL 2766 531 \nQ 2569 213 2275 61 \nQ 1981 -91 1556 -91 \nQ 1019 -91 701 211 \nQ 384 513 384 1019 \nQ 384 1609 779 1909 \nQ 1175 2209 1959 2209 \nL 2766 2209 \nL 2766 2266 \nQ 2766 2663 2505 2880 \nQ 2244 3097 1772 3097 \nQ 1472 3097 1187 3025 \nQ 903 2953 641 2809 \nL 641 3341 \nQ 956 3463 1253 3523 \nQ 1550 3584 1831 3584 \nQ 2591 3584 2966 3190 \nQ 3341 2797 3341 1997 \nz\n\" transform=\"scale(0.015625)\"/>\n       <path id=\"DejaVuSans-74\" d=\"M 1172 4494 \nL 1172 3500 \nL 2356 3500 \nL 2356 3053 \nL 1172 3053 \nL 1172 1153 \nQ 1172 725 1289 603 \nQ 1406 481 1766 481 \nL 2356 481 \nL 2356 0 \nL 1766 0 \nQ 1100 0 847 248 \nQ 594 497 594 1153 \nL 594 3053 \nL 172 3053 \nL 172 3500 \nL 594 3500 \nL 594 4494 \nL 1172 4494 \nz\n\" transform=\"scale(0.015625)\"/>\n      </defs>\n      <use xlink:href=\"#DejaVuSans-64\"/>\n      <use xlink:href=\"#DejaVuSans-69\" x=\"63.476562\"/>\n      <use xlink:href=\"#DejaVuSans-73\" x=\"91.259766\"/>\n      <use xlink:href=\"#DejaVuSans-63\" x=\"143.359375\"/>\n      <use xlink:href=\"#DejaVuSans-72\" x=\"198.339844\"/>\n      <use xlink:href=\"#DejaVuSans-69\" x=\"239.453125\"/>\n      <use xlink:href=\"#DejaVuSans-6d\" x=\"267.236328\"/>\n      <use xlink:href=\"#DejaVuSans-69\" x=\"364.648438\"/>\n      <use xlink:href=\"#DejaVuSans-6e\" x=\"392.431641\"/>\n      <use xlink:href=\"#DejaVuSans-61\" x=\"455.810547\"/>\n      <use xlink:href=\"#DejaVuSans-74\" x=\"517.089844\"/>\n      <use xlink:href=\"#DejaVuSans-6f\" x=\"556.298828\"/>\n      <use xlink:href=\"#DejaVuSans-72\" x=\"617.480469\"/>\n     </g>\n    </g>\n    <g id=\"line2d_4\">\n     <path d=\"M 219.923437 37.69466 \nL 229.923437 37.69466 \nL 239.923437 37.69466 \n\" style=\"fill: none; stroke-dasharray: 5.55,2.4; stroke-dashoffset: 0; stroke: #bf00bf; stroke-width: 1.5\"/>\n    </g>\n    <g id=\"text_18\">\n     <!-- generator -->\n     <g style=\"fill: #262626\" transform=\"translate(247.923437 41.19466) scale(0.1 -0.1)\">\n      <defs>\n       <path id=\"DejaVuSans-67\" d=\"M 2906 1791 \nQ 2906 2416 2648 2759 \nQ 2391 3103 1925 3103 \nQ 1463 3103 1205 2759 \nQ 947 2416 947 1791 \nQ 947 1169 1205 825 \nQ 1463 481 1925 481 \nQ 2391 481 2648 825 \nQ 2906 1169 2906 1791 \nz\nM 3481 434 \nQ 3481 -459 3084 -895 \nQ 2688 -1331 1869 -1331 \nQ 1566 -1331 1297 -1286 \nQ 1028 -1241 775 -1147 \nL 775 -588 \nQ 1028 -725 1275 -790 \nQ 1522 -856 1778 -856 \nQ 2344 -856 2625 -561 \nQ 2906 -266 2906 331 \nL 2906 616 \nQ 2728 306 2450 153 \nQ 2172 0 1784 0 \nQ 1141 0 747 490 \nQ 353 981 353 1791 \nQ 353 2603 747 3093 \nQ 1141 3584 1784 3584 \nQ 2172 3584 2450 3431 \nQ 2728 3278 2906 2969 \nL 2906 3500 \nL 3481 3500 \nL 3481 434 \nz\n\" transform=\"scale(0.015625)\"/>\n      </defs>\n      <use xlink:href=\"#DejaVuSans-67\"/>\n      <use xlink:href=\"#DejaVuSans-65\" x=\"63.476562\"/>\n      <use xlink:href=\"#DejaVuSans-6e\" x=\"125\"/>\n      <use xlink:href=\"#DejaVuSans-65\" x=\"188.378906\"/>\n      <use xlink:href=\"#DejaVuSans-72\" x=\"249.902344\"/>\n      <use xlink:href=\"#DejaVuSans-61\" x=\"291.015625\"/>\n      <use xlink:href=\"#DejaVuSans-74\" x=\"352.294922\"/>\n      <use xlink:href=\"#DejaVuSans-6f\" x=\"391.503906\"/>\n      <use xlink:href=\"#DejaVuSans-72\" x=\"452.685547\"/>\n     </g>\n    </g>\n   </g>\n  </g>\n  <g id=\"axes_2\">\n   <g id=\"patch_8\">\n    <path d=\"M 43.78125 287.118098 \nL 322.78125 287.118098 \nL 322.78125 166.596359 \nL 43.78125 166.596359 \nz\n\" style=\"fill: #eaeaf2\"/>\n   </g>\n   <g id=\"matplotlib.axis_3\">\n    <g id=\"xtick_9\">\n     <g id=\"line2d_5\">\n      <path d=\"M 51.399522 287.118098 \nL 51.399522 166.596359 \n\" clip-path=\"url(#pe75bd8dcbe)\" style=\"fill: none; stroke: #ffffff; stroke-width: 0.8; stroke-linecap: round\"/>\n     </g>\n     <g id=\"text_19\">\n      <!-- −2 -->\n      <g style=\"fill: #262626\" transform=\"translate(44.028428 301.716535) scale(0.1 -0.1)\">\n       <defs>\n        <path id=\"DejaVuSans-2212\" d=\"M 678 2272 \nL 4684 2272 \nL 4684 1741 \nL 678 1741 \nL 678 2272 \nz\n\" transform=\"scale(0.015625)\"/>\n       </defs>\n       <use xlink:href=\"#DejaVuSans-2212\"/>\n       <use xlink:href=\"#DejaVuSans-32\" x=\"83.789062\"/>\n      </g>\n     </g>\n    </g>\n    <g id=\"xtick_10\">\n     <g id=\"line2d_6\">\n      <path d=\"M 91.748892 287.118098 \nL 91.748892 166.596359 \n\" clip-path=\"url(#pe75bd8dcbe)\" style=\"fill: none; stroke: #ffffff; stroke-width: 0.8; stroke-linecap: round\"/>\n     </g>\n     <g id=\"text_20\">\n      <!-- −1 -->\n      <g style=\"fill: #262626\" transform=\"translate(84.377798 301.716535) scale(0.1 -0.1)\">\n       <use xlink:href=\"#DejaVuSans-2212\"/>\n       <use xlink:href=\"#DejaVuSans-31\" x=\"83.789062\"/>\n      </g>\n     </g>\n    </g>\n    <g id=\"xtick_11\">\n     <g id=\"line2d_7\">\n      <path d=\"M 132.098263 287.118098 \nL 132.098263 166.596359 \n\" clip-path=\"url(#pe75bd8dcbe)\" style=\"fill: none; stroke: #ffffff; stroke-width: 0.8; stroke-linecap: round\"/>\n     </g>\n     <g id=\"text_21\">\n      <!-- 0 -->\n      <g style=\"fill: #262626\" transform=\"translate(128.917013 301.716535) scale(0.1 -0.1)\">\n       <use xlink:href=\"#DejaVuSans-30\"/>\n      </g>\n     </g>\n    </g>\n    <g id=\"xtick_12\">\n     <g id=\"line2d_8\">\n      <path d=\"M 172.447633 287.118098 \nL 172.447633 166.596359 \n\" clip-path=\"url(#pe75bd8dcbe)\" style=\"fill: none; stroke: #ffffff; stroke-width: 0.8; stroke-linecap: round\"/>\n     </g>\n     <g id=\"text_22\">\n      <!-- 1 -->\n      <g style=\"fill: #262626\" transform=\"translate(169.266383 301.716535) scale(0.1 -0.1)\">\n       <use xlink:href=\"#DejaVuSans-31\"/>\n      </g>\n     </g>\n    </g>\n    <g id=\"xtick_13\">\n     <g id=\"line2d_9\">\n      <path d=\"M 212.797003 287.118098 \nL 212.797003 166.596359 \n\" clip-path=\"url(#pe75bd8dcbe)\" style=\"fill: none; stroke: #ffffff; stroke-width: 0.8; stroke-linecap: round\"/>\n     </g>\n     <g id=\"text_23\">\n      <!-- 2 -->\n      <g style=\"fill: #262626\" transform=\"translate(209.615753 301.716535) scale(0.1 -0.1)\">\n       <use xlink:href=\"#DejaVuSans-32\"/>\n      </g>\n     </g>\n    </g>\n    <g id=\"xtick_14\">\n     <g id=\"line2d_10\">\n      <path d=\"M 253.146373 287.118098 \nL 253.146373 166.596359 \n\" clip-path=\"url(#pe75bd8dcbe)\" style=\"fill: none; stroke: #ffffff; stroke-width: 0.8; stroke-linecap: round\"/>\n     </g>\n     <g id=\"text_24\">\n      <!-- 3 -->\n      <g style=\"fill: #262626\" transform=\"translate(249.965123 301.716535) scale(0.1 -0.1)\">\n       <defs>\n        <path id=\"DejaVuSans-33\" d=\"M 2597 2516 \nQ 3050 2419 3304 2112 \nQ 3559 1806 3559 1356 \nQ 3559 666 3084 287 \nQ 2609 -91 1734 -91 \nQ 1441 -91 1130 -33 \nQ 819 25 488 141 \nL 488 750 \nQ 750 597 1062 519 \nQ 1375 441 1716 441 \nQ 2309 441 2620 675 \nQ 2931 909 2931 1356 \nQ 2931 1769 2642 2001 \nQ 2353 2234 1838 2234 \nL 1294 2234 \nL 1294 2753 \nL 1863 2753 \nQ 2328 2753 2575 2939 \nQ 2822 3125 2822 3475 \nQ 2822 3834 2567 4026 \nQ 2313 4219 1838 4219 \nQ 1578 4219 1281 4162 \nQ 984 4106 628 3988 \nL 628 4550 \nQ 988 4650 1302 4700 \nQ 1616 4750 1894 4750 \nQ 2613 4750 3031 4423 \nQ 3450 4097 3450 3541 \nQ 3450 3153 3228 2886 \nQ 3006 2619 2597 2516 \nz\n\" transform=\"scale(0.015625)\"/>\n       </defs>\n       <use xlink:href=\"#DejaVuSans-33\"/>\n      </g>\n     </g>\n    </g>\n    <g id=\"xtick_15\">\n     <g id=\"line2d_11\">\n      <path d=\"M 293.495744 287.118098 \nL 293.495744 166.596359 \n\" clip-path=\"url(#pe75bd8dcbe)\" style=\"fill: none; stroke: #ffffff; stroke-width: 0.8; stroke-linecap: round\"/>\n     </g>\n     <g id=\"text_25\">\n      <!-- 4 -->\n      <g style=\"fill: #262626\" transform=\"translate(290.314494 301.716535) scale(0.1 -0.1)\">\n       <defs>\n        <path id=\"DejaVuSans-34\" d=\"M 2419 4116 \nL 825 1625 \nL 2419 1625 \nL 2419 4116 \nz\nM 2253 4666 \nL 3047 4666 \nL 3047 1625 \nL 3713 1625 \nL 3713 1100 \nL 3047 1100 \nL 3047 0 \nL 2419 0 \nL 2419 1100 \nL 313 1100 \nL 313 1709 \nL 2253 4666 \nz\n\" transform=\"scale(0.015625)\"/>\n       </defs>\n       <use xlink:href=\"#DejaVuSans-34\"/>\n      </g>\n     </g>\n    </g>\n   </g>\n   <g id=\"matplotlib.axis_4\">\n    <g id=\"ytick_7\">\n     <g id=\"line2d_12\">\n      <path d=\"M 43.78125 268.403526 \nL 322.78125 268.403526 \n\" clip-path=\"url(#pe75bd8dcbe)\" style=\"fill: none; stroke: #ffffff; stroke-width: 0.8; stroke-linecap: round\"/>\n     </g>\n     <g id=\"text_26\">\n      <!-- −2.5 -->\n      <g style=\"fill: #262626\" transform=\"translate(12.498438 272.202745) scale(0.1 -0.1)\">\n       <use xlink:href=\"#DejaVuSans-2212\"/>\n       <use xlink:href=\"#DejaVuSans-32\" x=\"83.789062\"/>\n       <use xlink:href=\"#DejaVuSans-2e\" x=\"147.412109\"/>\n       <use xlink:href=\"#DejaVuSans-35\" x=\"179.199219\"/>\n      </g>\n     </g>\n    </g>\n    <g id=\"ytick_8\">\n     <g id=\"line2d_13\">\n      <path d=\"M 43.78125 245.968209 \nL 322.78125 245.968209 \n\" clip-path=\"url(#pe75bd8dcbe)\" style=\"fill: none; stroke: #ffffff; stroke-width: 0.8; stroke-linecap: round\"/>\n     </g>\n     <g id=\"text_27\">\n      <!-- 0.0 -->\n      <g style=\"fill: #262626\" transform=\"translate(20.878125 249.767427) scale(0.1 -0.1)\">\n       <use xlink:href=\"#DejaVuSans-30\"/>\n       <use xlink:href=\"#DejaVuSans-2e\" x=\"63.623047\"/>\n       <use xlink:href=\"#DejaVuSans-30\" x=\"95.410156\"/>\n      </g>\n     </g>\n    </g>\n    <g id=\"ytick_9\">\n     <g id=\"line2d_14\">\n      <path d=\"M 43.78125 223.532891 \nL 322.78125 223.532891 \n\" clip-path=\"url(#pe75bd8dcbe)\" style=\"fill: none; stroke: #ffffff; stroke-width: 0.8; stroke-linecap: round\"/>\n     </g>\n     <g id=\"text_28\">\n      <!-- 2.5 -->\n      <g style=\"fill: #262626\" transform=\"translate(20.878125 227.33211) scale(0.1 -0.1)\">\n       <use xlink:href=\"#DejaVuSans-32\"/>\n       <use xlink:href=\"#DejaVuSans-2e\" x=\"63.623047\"/>\n       <use xlink:href=\"#DejaVuSans-35\" x=\"95.410156\"/>\n      </g>\n     </g>\n    </g>\n    <g id=\"ytick_10\">\n     <g id=\"line2d_15\">\n      <path d=\"M 43.78125 201.097573 \nL 322.78125 201.097573 \n\" clip-path=\"url(#pe75bd8dcbe)\" style=\"fill: none; stroke: #ffffff; stroke-width: 0.8; stroke-linecap: round\"/>\n     </g>\n     <g id=\"text_29\">\n      <!-- 5.0 -->\n      <g style=\"fill: #262626\" transform=\"translate(20.878125 204.896792) scale(0.1 -0.1)\">\n       <use xlink:href=\"#DejaVuSans-35\"/>\n       <use xlink:href=\"#DejaVuSans-2e\" x=\"63.623047\"/>\n       <use xlink:href=\"#DejaVuSans-30\" x=\"95.410156\"/>\n      </g>\n     </g>\n    </g>\n    <g id=\"ytick_11\">\n     <g id=\"line2d_16\">\n      <path d=\"M 43.78125 178.662255 \nL 322.78125 178.662255 \n\" clip-path=\"url(#pe75bd8dcbe)\" style=\"fill: none; stroke: #ffffff; stroke-width: 0.8; stroke-linecap: round\"/>\n     </g>\n     <g id=\"text_30\">\n      <!-- 7.5 -->\n      <g style=\"fill: #262626\" transform=\"translate(20.878125 182.461474) scale(0.1 -0.1)\">\n       <use xlink:href=\"#DejaVuSans-37\"/>\n       <use xlink:href=\"#DejaVuSans-2e\" x=\"63.623047\"/>\n       <use xlink:href=\"#DejaVuSans-35\" x=\"95.410156\"/>\n      </g>\n     </g>\n    </g>\n   </g>\n   <g id=\"PathCollection_1\">\n    <defs>\n     <path id=\"m904d0404fc\" d=\"M 0 3 \nC 0.795609 3 1.55874 2.683901 2.12132 2.12132 \nC 2.683901 1.55874 3 0.795609 3 0 \nC 3 -0.795609 2.683901 -1.55874 2.12132 -2.12132 \nC 1.55874 -2.683901 0.795609 -3 0 -3 \nC -0.795609 -3 -1.55874 -2.683901 -2.12132 -2.12132 \nC -2.683901 -1.55874 -3 -0.795609 -3 0 \nC -3 0.795609 -2.683901 1.55874 -2.12132 2.12132 \nC -1.55874 2.683901 -0.795609 3 0 3 \nz\n\" style=\"stroke: #1f77b4\"/>\n    </defs>\n    <g clip-path=\"url(#pe75bd8dcbe)\">\n     <use xlink:href=\"#m904d0404fc\" x=\"162.718425\" y=\"230.028405\" style=\"fill: #1f77b4; stroke: #1f77b4\"/>\n     <use xlink:href=\"#m904d0404fc\" x=\"163.234059\" y=\"230.788899\" style=\"fill: #1f77b4; stroke: #1f77b4\"/>\n     <use xlink:href=\"#m904d0404fc\" x=\"263.80633\" y=\"190.275937\" style=\"fill: #1f77b4; stroke: #1f77b4\"/>\n     <use xlink:href=\"#m904d0404fc\" x=\"188.930763\" y=\"221.523448\" style=\"fill: #1f77b4; stroke: #1f77b4\"/>\n     <use xlink:href=\"#m904d0404fc\" x=\"194.744008\" y=\"214.429983\" style=\"fill: #1f77b4; stroke: #1f77b4\"/>\n     <use xlink:href=\"#m904d0404fc\" x=\"212.870808\" y=\"214.948398\" style=\"fill: #1f77b4; stroke: #1f77b4\"/>\n     <use xlink:href=\"#m904d0404fc\" x=\"182.167952\" y=\"221.958574\" style=\"fill: #1f77b4; stroke: #1f77b4\"/>\n     <use xlink:href=\"#m904d0404fc\" x=\"139.443742\" y=\"245.041307\" style=\"fill: #1f77b4; stroke: #1f77b4\"/>\n     <use xlink:href=\"#m904d0404fc\" x=\"173.101372\" y=\"229.157137\" style=\"fill: #1f77b4; stroke: #1f77b4\"/>\n     <use xlink:href=\"#m904d0404fc\" x=\"250.425249\" y=\"195.418509\" style=\"fill: #1f77b4; stroke: #1f77b4\"/>\n     <use xlink:href=\"#m904d0404fc\" x=\"117.71539\" y=\"249.343417\" style=\"fill: #1f77b4; stroke: #1f77b4\"/>\n     <use xlink:href=\"#m904d0404fc\" x=\"187.030559\" y=\"222.397455\" style=\"fill: #1f77b4; stroke: #1f77b4\"/>\n     <use xlink:href=\"#m904d0404fc\" x=\"161.182718\" y=\"243.297749\" style=\"fill: #1f77b4; stroke: #1f77b4\"/>\n     <use xlink:href=\"#m904d0404fc\" x=\"227.397703\" y=\"204.485773\" style=\"fill: #1f77b4; stroke: #1f77b4\"/>\n     <use xlink:href=\"#m904d0404fc\" x=\"233.21927\" y=\"198.970726\" style=\"fill: #1f77b4; stroke: #1f77b4\"/>\n     <use xlink:href=\"#m904d0404fc\" x=\"169.180672\" y=\"229.27182\" style=\"fill: #1f77b4; stroke: #1f77b4\"/>\n     <use xlink:href=\"#m904d0404fc\" x=\"207.379863\" y=\"217.050189\" style=\"fill: #1f77b4; stroke: #1f77b4\"/>\n     <use xlink:href=\"#m904d0404fc\" x=\"154.02184\" y=\"240.910715\" style=\"fill: #1f77b4; stroke: #1f77b4\"/>\n     <use xlink:href=\"#m904d0404fc\" x=\"134.029687\" y=\"255.448661\" style=\"fill: #1f77b4; stroke: #1f77b4\"/>\n     <use xlink:href=\"#m904d0404fc\" x=\"161.926455\" y=\"229.495676\" style=\"fill: #1f77b4; stroke: #1f77b4\"/>\n     <use xlink:href=\"#m904d0404fc\" x=\"168.06152\" y=\"228.653786\" style=\"fill: #1f77b4; stroke: #1f77b4\"/>\n     <use xlink:href=\"#m904d0404fc\" x=\"209.963714\" y=\"216.434772\" style=\"fill: #1f77b4; stroke: #1f77b4\"/>\n     <use xlink:href=\"#m904d0404fc\" x=\"145.615128\" y=\"248.583434\" style=\"fill: #1f77b4; stroke: #1f77b4\"/>\n     <use xlink:href=\"#m904d0404fc\" x=\"239.767188\" y=\"205.460514\" style=\"fill: #1f77b4; stroke: #1f77b4\"/>\n     <use xlink:href=\"#m904d0404fc\" x=\"164.869057\" y=\"224.483005\" style=\"fill: #1f77b4; stroke: #1f77b4\"/>\n     <use xlink:href=\"#m904d0404fc\" x=\"206.548893\" y=\"217.891967\" style=\"fill: #1f77b4; stroke: #1f77b4\"/>\n     <use xlink:href=\"#m904d0404fc\" x=\"244.457881\" y=\"193.42843\" style=\"fill: #1f77b4; stroke: #1f77b4\"/>\n     <use xlink:href=\"#m904d0404fc\" x=\"174.324705\" y=\"227.745658\" style=\"fill: #1f77b4; stroke: #1f77b4\"/>\n     <use xlink:href=\"#m904d0404fc\" x=\"258.024282\" y=\"180.025287\" style=\"fill: #1f77b4; stroke: #1f77b4\"/>\n     <use xlink:href=\"#m904d0404fc\" x=\"122.444207\" y=\"252.878695\" style=\"fill: #1f77b4; stroke: #1f77b4\"/>\n     <use xlink:href=\"#m904d0404fc\" x=\"170.270125\" y=\"219.092593\" style=\"fill: #1f77b4; stroke: #1f77b4\"/>\n     <use xlink:href=\"#m904d0404fc\" x=\"252.875492\" y=\"187.836897\" style=\"fill: #1f77b4; stroke: #1f77b4\"/>\n     <use xlink:href=\"#m904d0404fc\" x=\"152.424935\" y=\"232.760295\" style=\"fill: #1f77b4; stroke: #1f77b4\"/>\n     <use xlink:href=\"#m904d0404fc\" x=\"197.291327\" y=\"215.088481\" style=\"fill: #1f77b4; stroke: #1f77b4\"/>\n     <use xlink:href=\"#m904d0404fc\" x=\"193.575395\" y=\"218.322224\" style=\"fill: #1f77b4; stroke: #1f77b4\"/>\n     <use xlink:href=\"#m904d0404fc\" x=\"218.985555\" y=\"215.555361\" style=\"fill: #1f77b4; stroke: #1f77b4\"/>\n     <use xlink:href=\"#m904d0404fc\" x=\"143.726223\" y=\"240.43317\" style=\"fill: #1f77b4; stroke: #1f77b4\"/>\n     <use xlink:href=\"#m904d0404fc\" x=\"160.076382\" y=\"228.864502\" style=\"fill: #1f77b4; stroke: #1f77b4\"/>\n     <use xlink:href=\"#m904d0404fc\" x=\"89.52421\" y=\"261.197707\" style=\"fill: #1f77b4; stroke: #1f77b4\"/>\n     <use xlink:href=\"#m904d0404fc\" x=\"166.715616\" y=\"234.194837\" style=\"fill: #1f77b4; stroke: #1f77b4\"/>\n     <use xlink:href=\"#m904d0404fc\" x=\"244.08522\" y=\"194.453174\" style=\"fill: #1f77b4; stroke: #1f77b4\"/>\n     <use xlink:href=\"#m904d0404fc\" x=\"174.540184\" y=\"219.320436\" style=\"fill: #1f77b4; stroke: #1f77b4\"/>\n     <use xlink:href=\"#m904d0404fc\" x=\"92.761094\" y=\"263.113328\" style=\"fill: #1f77b4; stroke: #1f77b4\"/>\n     <use xlink:href=\"#m904d0404fc\" x=\"129.056887\" y=\"252.534855\" style=\"fill: #1f77b4; stroke: #1f77b4\"/>\n     <use xlink:href=\"#m904d0404fc\" x=\"107.785864\" y=\"252.576513\" style=\"fill: #1f77b4; stroke: #1f77b4\"/>\n     <use xlink:href=\"#m904d0404fc\" x=\"226.13287\" y=\"196.217551\" style=\"fill: #1f77b4; stroke: #1f77b4\"/>\n     <use xlink:href=\"#m904d0404fc\" x=\"147.893057\" y=\"241.99008\" style=\"fill: #1f77b4; stroke: #1f77b4\"/>\n     <use xlink:href=\"#m904d0404fc\" x=\"219.154147\" y=\"205.542529\" style=\"fill: #1f77b4; stroke: #1f77b4\"/>\n     <use xlink:href=\"#m904d0404fc\" x=\"204.321354\" y=\"212.168301\" style=\"fill: #1f77b4; stroke: #1f77b4\"/>\n     <use xlink:href=\"#m904d0404fc\" x=\"209.150604\" y=\"199.059811\" style=\"fill: #1f77b4; stroke: #1f77b4\"/>\n     <use xlink:href=\"#m904d0404fc\" x=\"256.723191\" y=\"183.613406\" style=\"fill: #1f77b4; stroke: #1f77b4\"/>\n     <use xlink:href=\"#m904d0404fc\" x=\"220.375632\" y=\"199.342328\" style=\"fill: #1f77b4; stroke: #1f77b4\"/>\n     <use xlink:href=\"#m904d0404fc\" x=\"145.454492\" y=\"248.355074\" style=\"fill: #1f77b4; stroke: #1f77b4\"/>\n     <use xlink:href=\"#m904d0404fc\" x=\"179.450276\" y=\"223.797959\" style=\"fill: #1f77b4; stroke: #1f77b4\"/>\n     <use xlink:href=\"#m904d0404fc\" x=\"146.987486\" y=\"249.073468\" style=\"fill: #1f77b4; stroke: #1f77b4\"/>\n     <use xlink:href=\"#m904d0404fc\" x=\"189.142524\" y=\"206.072187\" style=\"fill: #1f77b4; stroke: #1f77b4\"/>\n     <use xlink:href=\"#m904d0404fc\" x=\"139.195598\" y=\"236.013827\" style=\"fill: #1f77b4; stroke: #1f77b4\"/>\n     <use xlink:href=\"#m904d0404fc\" x=\"138.119816\" y=\"251.456089\" style=\"fill: #1f77b4; stroke: #1f77b4\"/>\n     <use xlink:href=\"#m904d0404fc\" x=\"178.115015\" y=\"225.953847\" style=\"fill: #1f77b4; stroke: #1f77b4\"/>\n     <use xlink:href=\"#m904d0404fc\" x=\"154.999883\" y=\"232.369769\" style=\"fill: #1f77b4; stroke: #1f77b4\"/>\n     <use xlink:href=\"#m904d0404fc\" x=\"159.338888\" y=\"226.73201\" style=\"fill: #1f77b4; stroke: #1f77b4\"/>\n     <use xlink:href=\"#m904d0404fc\" x=\"194.86979\" y=\"222.56287\" style=\"fill: #1f77b4; stroke: #1f77b4\"/>\n     <use xlink:href=\"#m904d0404fc\" x=\"178.861669\" y=\"229.513733\" style=\"fill: #1f77b4; stroke: #1f77b4\"/>\n     <use xlink:href=\"#m904d0404fc\" x=\"202.194248\" y=\"214.252215\" style=\"fill: #1f77b4; stroke: #1f77b4\"/>\n     <use xlink:href=\"#m904d0404fc\" x=\"219.307365\" y=\"208.64514\" style=\"fill: #1f77b4; stroke: #1f77b4\"/>\n     <use xlink:href=\"#m904d0404fc\" x=\"132.125747\" y=\"250.49405\" style=\"fill: #1f77b4; stroke: #1f77b4\"/>\n     <use xlink:href=\"#m904d0404fc\" x=\"130.928581\" y=\"251.157309\" style=\"fill: #1f77b4; stroke: #1f77b4\"/>\n     <use xlink:href=\"#m904d0404fc\" x=\"194.824913\" y=\"213.709852\" style=\"fill: #1f77b4; stroke: #1f77b4\"/>\n     <use xlink:href=\"#m904d0404fc\" x=\"116.465347\" y=\"245.462718\" style=\"fill: #1f77b4; stroke: #1f77b4\"/>\n     <use xlink:href=\"#m904d0404fc\" x=\"59.428849\" y=\"269.688253\" style=\"fill: #1f77b4; stroke: #1f77b4\"/>\n     <use xlink:href=\"#m904d0404fc\" x=\"134.05969\" y=\"257.20743\" style=\"fill: #1f77b4; stroke: #1f77b4\"/>\n     <use xlink:href=\"#m904d0404fc\" x=\"211.977789\" y=\"223.743406\" style=\"fill: #1f77b4; stroke: #1f77b4\"/>\n     <use xlink:href=\"#m904d0404fc\" x=\"198.402067\" y=\"216.647714\" style=\"fill: #1f77b4; stroke: #1f77b4\"/>\n     <use xlink:href=\"#m904d0404fc\" x=\"167.535213\" y=\"222.723074\" style=\"fill: #1f77b4; stroke: #1f77b4\"/>\n     <use xlink:href=\"#m904d0404fc\" x=\"201.949091\" y=\"217.957833\" style=\"fill: #1f77b4; stroke: #1f77b4\"/>\n     <use xlink:href=\"#m904d0404fc\" x=\"199.264176\" y=\"214.63804\" style=\"fill: #1f77b4; stroke: #1f77b4\"/>\n     <use xlink:href=\"#m904d0404fc\" x=\"230.652518\" y=\"206.098872\" style=\"fill: #1f77b4; stroke: #1f77b4\"/>\n     <use xlink:href=\"#m904d0404fc\" x=\"206.492645\" y=\"207.295862\" style=\"fill: #1f77b4; stroke: #1f77b4\"/>\n     <use xlink:href=\"#m904d0404fc\" x=\"169.300165\" y=\"230.226601\" style=\"fill: #1f77b4; stroke: #1f77b4\"/>\n     <use xlink:href=\"#m904d0404fc\" x=\"165.410033\" y=\"221.767345\" style=\"fill: #1f77b4; stroke: #1f77b4\"/>\n     <use xlink:href=\"#m904d0404fc\" x=\"199.289467\" y=\"219.762548\" style=\"fill: #1f77b4; stroke: #1f77b4\"/>\n     <use xlink:href=\"#m904d0404fc\" x=\"162.46861\" y=\"229.260902\" style=\"fill: #1f77b4; stroke: #1f77b4\"/>\n     <use xlink:href=\"#m904d0404fc\" x=\"151.351509\" y=\"221.933958\" style=\"fill: #1f77b4; stroke: #1f77b4\"/>\n     <use xlink:href=\"#m904d0404fc\" x=\"179.42359\" y=\"213.713569\" style=\"fill: #1f77b4; stroke: #1f77b4\"/>\n     <use xlink:href=\"#m904d0404fc\" x=\"214.136613\" y=\"207.737492\" style=\"fill: #1f77b4; stroke: #1f77b4\"/>\n     <use xlink:href=\"#m904d0404fc\" x=\"170.806531\" y=\"225.863051\" style=\"fill: #1f77b4; stroke: #1f77b4\"/>\n     <use xlink:href=\"#m904d0404fc\" x=\"216.478919\" y=\"211.652309\" style=\"fill: #1f77b4; stroke: #1f77b4\"/>\n     <use xlink:href=\"#m904d0404fc\" x=\"221.764054\" y=\"209.660966\" style=\"fill: #1f77b4; stroke: #1f77b4\"/>\n     <use xlink:href=\"#m904d0404fc\" x=\"123.110649\" y=\"244.988861\" style=\"fill: #1f77b4; stroke: #1f77b4\"/>\n     <use xlink:href=\"#m904d0404fc\" x=\"212.450653\" y=\"221.530973\" style=\"fill: #1f77b4; stroke: #1f77b4\"/>\n     <use xlink:href=\"#m904d0404fc\" x=\"153.17409\" y=\"237.790917\" style=\"fill: #1f77b4; stroke: #1f77b4\"/>\n     <use xlink:href=\"#m904d0404fc\" x=\"135.070167\" y=\"249.19166\" style=\"fill: #1f77b4; stroke: #1f77b4\"/>\n     <use xlink:href=\"#m904d0404fc\" x=\"98.999829\" y=\"245.427177\" style=\"fill: #1f77b4; stroke: #1f77b4\"/>\n     <use xlink:href=\"#m904d0404fc\" x=\"211.954288\" y=\"218.24191\" style=\"fill: #1f77b4; stroke: #1f77b4\"/>\n     <use xlink:href=\"#m904d0404fc\" x=\"193.120689\" y=\"208.495231\" style=\"fill: #1f77b4; stroke: #1f77b4\"/>\n     <use xlink:href=\"#m904d0404fc\" x=\"184.485939\" y=\"221.364493\" style=\"fill: #1f77b4; stroke: #1f77b4\"/>\n     <use xlink:href=\"#m904d0404fc\" x=\"186.149859\" y=\"228.456617\" style=\"fill: #1f77b4; stroke: #1f77b4\"/>\n     <use xlink:href=\"#m904d0404fc\" x=\"164.934074\" y=\"226.789251\" style=\"fill: #1f77b4; stroke: #1f77b4\"/>\n     <use xlink:href=\"#m904d0404fc\" x=\"115.27177\" y=\"261.116601\" style=\"fill: #1f77b4; stroke: #1f77b4\"/>\n     <use xlink:href=\"#m904d0404fc\" x=\"229.965484\" y=\"211.11\" style=\"fill: #1f77b4; stroke: #1f77b4\"/>\n    </g>\n   </g>\n   <g id=\"PathCollection_2\">\n    <defs>\n     <path id=\"m0f9f5f7ac8\" d=\"M 0 3 \nC 0.795609 3 1.55874 2.683901 2.12132 2.12132 \nC 2.683901 1.55874 3 0.795609 3 0 \nC 3 -0.795609 2.683901 -1.55874 2.12132 -2.12132 \nC 1.55874 -2.683901 0.795609 -3 0 -3 \nC -0.795609 -3 -1.55874 -2.683901 -2.12132 -2.12132 \nC -2.683901 -1.55874 -3 -0.795609 -3 0 \nC -3 0.795609 -2.683901 1.55874 -2.12132 2.12132 \nC -1.55874 2.683901 -0.795609 3 0 3 \nz\n\" style=\"stroke: #ff7f0e\"/>\n    </defs>\n    <g clip-path=\"url(#pe75bd8dcbe)\">\n     <use xlink:href=\"#m0f9f5f7ac8\" x=\"170.403009\" y=\"225.021746\" style=\"fill: #ff7f0e; stroke: #ff7f0e\"/>\n     <use xlink:href=\"#m0f9f5f7ac8\" x=\"227.936021\" y=\"206.912437\" style=\"fill: #ff7f0e; stroke: #ff7f0e\"/>\n     <use xlink:href=\"#m0f9f5f7ac8\" x=\"199.952384\" y=\"218.965941\" style=\"fill: #ff7f0e; stroke: #ff7f0e\"/>\n     <use xlink:href=\"#m0f9f5f7ac8\" x=\"182.355427\" y=\"231.282133\" style=\"fill: #ff7f0e; stroke: #ff7f0e\"/>\n     <use xlink:href=\"#m0f9f5f7ac8\" x=\"162.189311\" y=\"245.020743\" style=\"fill: #ff7f0e; stroke: #ff7f0e\"/>\n     <use xlink:href=\"#m0f9f5f7ac8\" x=\"201.519056\" y=\"217.757712\" style=\"fill: #ff7f0e; stroke: #ff7f0e\"/>\n     <use xlink:href=\"#m0f9f5f7ac8\" x=\"114.695731\" y=\"260.958374\" style=\"fill: #ff7f0e; stroke: #ff7f0e\"/>\n     <use xlink:href=\"#m0f9f5f7ac8\" x=\"203.467931\" y=\"208.032577\" style=\"fill: #ff7f0e; stroke: #ff7f0e\"/>\n     <use xlink:href=\"#m0f9f5f7ac8\" x=\"261.54056\" y=\"204.636919\" style=\"fill: #ff7f0e; stroke: #ff7f0e\"/>\n     <use xlink:href=\"#m0f9f5f7ac8\" x=\"179.056273\" y=\"232.989328\" style=\"fill: #ff7f0e; stroke: #ff7f0e\"/>\n     <use xlink:href=\"#m0f9f5f7ac8\" x=\"216.838055\" y=\"220.25344\" style=\"fill: #ff7f0e; stroke: #ff7f0e\"/>\n     <use xlink:href=\"#m0f9f5f7ac8\" x=\"174.453084\" y=\"234.277753\" style=\"fill: #ff7f0e; stroke: #ff7f0e\"/>\n     <use xlink:href=\"#m0f9f5f7ac8\" x=\"178.053466\" y=\"227.561261\" style=\"fill: #ff7f0e; stroke: #ff7f0e\"/>\n     <use xlink:href=\"#m0f9f5f7ac8\" x=\"190.652673\" y=\"227.70133\" style=\"fill: #ff7f0e; stroke: #ff7f0e\"/>\n     <use xlink:href=\"#m0f9f5f7ac8\" x=\"191.931917\" y=\"227.786503\" style=\"fill: #ff7f0e; stroke: #ff7f0e\"/>\n     <use xlink:href=\"#m0f9f5f7ac8\" x=\"233.663138\" y=\"195.523037\" style=\"fill: #ff7f0e; stroke: #ff7f0e\"/>\n     <use xlink:href=\"#m0f9f5f7ac8\" x=\"191.848828\" y=\"218.943268\" style=\"fill: #ff7f0e; stroke: #ff7f0e\"/>\n     <use xlink:href=\"#m0f9f5f7ac8\" x=\"160.50136\" y=\"227.991594\" style=\"fill: #ff7f0e; stroke: #ff7f0e\"/>\n     <use xlink:href=\"#m0f9f5f7ac8\" x=\"78.633027\" y=\"270.753217\" style=\"fill: #ff7f0e; stroke: #ff7f0e\"/>\n     <use xlink:href=\"#m0f9f5f7ac8\" x=\"215.292903\" y=\"222.649014\" style=\"fill: #ff7f0e; stroke: #ff7f0e\"/>\n     <use xlink:href=\"#m0f9f5f7ac8\" x=\"219.828078\" y=\"217.217613\" style=\"fill: #ff7f0e; stroke: #ff7f0e\"/>\n     <use xlink:href=\"#m0f9f5f7ac8\" x=\"142.511354\" y=\"238.954011\" style=\"fill: #ff7f0e; stroke: #ff7f0e\"/>\n     <use xlink:href=\"#m0f9f5f7ac8\" x=\"162.166297\" y=\"227.851968\" style=\"fill: #ff7f0e; stroke: #ff7f0e\"/>\n     <use xlink:href=\"#m0f9f5f7ac8\" x=\"109.71473\" y=\"262.388811\" style=\"fill: #ff7f0e; stroke: #ff7f0e\"/>\n     <use xlink:href=\"#m0f9f5f7ac8\" x=\"120.947593\" y=\"249.509826\" style=\"fill: #ff7f0e; stroke: #ff7f0e\"/>\n     <use xlink:href=\"#m0f9f5f7ac8\" x=\"233.234104\" y=\"201.461232\" style=\"fill: #ff7f0e; stroke: #ff7f0e\"/>\n     <use xlink:href=\"#m0f9f5f7ac8\" x=\"165.614738\" y=\"235.693711\" style=\"fill: #ff7f0e; stroke: #ff7f0e\"/>\n     <use xlink:href=\"#m0f9f5f7ac8\" x=\"230.04152\" y=\"207.949877\" style=\"fill: #ff7f0e; stroke: #ff7f0e\"/>\n     <use xlink:href=\"#m0f9f5f7ac8\" x=\"137.668833\" y=\"246.054236\" style=\"fill: #ff7f0e; stroke: #ff7f0e\"/>\n     <use xlink:href=\"#m0f9f5f7ac8\" x=\"229.302875\" y=\"206.849516\" style=\"fill: #ff7f0e; stroke: #ff7f0e\"/>\n     <use xlink:href=\"#m0f9f5f7ac8\" x=\"137.654278\" y=\"242.243357\" style=\"fill: #ff7f0e; stroke: #ff7f0e\"/>\n     <use xlink:href=\"#m0f9f5f7ac8\" x=\"279.452699\" y=\"182.960499\" style=\"fill: #ff7f0e; stroke: #ff7f0e\"/>\n     <use xlink:href=\"#m0f9f5f7ac8\" x=\"237.099561\" y=\"201.115315\" style=\"fill: #ff7f0e; stroke: #ff7f0e\"/>\n     <use xlink:href=\"#m0f9f5f7ac8\" x=\"130.279988\" y=\"248.317148\" style=\"fill: #ff7f0e; stroke: #ff7f0e\"/>\n     <use xlink:href=\"#m0f9f5f7ac8\" x=\"184.46338\" y=\"217.951763\" style=\"fill: #ff7f0e; stroke: #ff7f0e\"/>\n     <use xlink:href=\"#m0f9f5f7ac8\" x=\"112.572348\" y=\"267.108808\" style=\"fill: #ff7f0e; stroke: #ff7f0e\"/>\n     <use xlink:href=\"#m0f9f5f7ac8\" x=\"230.5398\" y=\"204.399971\" style=\"fill: #ff7f0e; stroke: #ff7f0e\"/>\n     <use xlink:href=\"#m0f9f5f7ac8\" x=\"196.370454\" y=\"216.189337\" style=\"fill: #ff7f0e; stroke: #ff7f0e\"/>\n     <use xlink:href=\"#m0f9f5f7ac8\" x=\"232.12247\" y=\"209.030512\" style=\"fill: #ff7f0e; stroke: #ff7f0e\"/>\n     <use xlink:href=\"#m0f9f5f7ac8\" x=\"172.867701\" y=\"215.496858\" style=\"fill: #ff7f0e; stroke: #ff7f0e\"/>\n     <use xlink:href=\"#m0f9f5f7ac8\" x=\"186.140662\" y=\"227.697812\" style=\"fill: #ff7f0e; stroke: #ff7f0e\"/>\n     <use xlink:href=\"#m0f9f5f7ac8\" x=\"56.463068\" y=\"281.639837\" style=\"fill: #ff7f0e; stroke: #ff7f0e\"/>\n     <use xlink:href=\"#m0f9f5f7ac8\" x=\"208.043689\" y=\"211.375576\" style=\"fill: #ff7f0e; stroke: #ff7f0e\"/>\n     <use xlink:href=\"#m0f9f5f7ac8\" x=\"135.181466\" y=\"239.385318\" style=\"fill: #ff7f0e; stroke: #ff7f0e\"/>\n     <use xlink:href=\"#m0f9f5f7ac8\" x=\"220.420365\" y=\"212.508615\" style=\"fill: #ff7f0e; stroke: #ff7f0e\"/>\n     <use xlink:href=\"#m0f9f5f7ac8\" x=\"180.53798\" y=\"236.187072\" style=\"fill: #ff7f0e; stroke: #ff7f0e\"/>\n     <use xlink:href=\"#m0f9f5f7ac8\" x=\"257.647369\" y=\"189.649043\" style=\"fill: #ff7f0e; stroke: #ff7f0e\"/>\n     <use xlink:href=\"#m0f9f5f7ac8\" x=\"272.821711\" y=\"193.096167\" style=\"fill: #ff7f0e; stroke: #ff7f0e\"/>\n     <use xlink:href=\"#m0f9f5f7ac8\" x=\"177.377937\" y=\"238.176651\" style=\"fill: #ff7f0e; stroke: #ff7f0e\"/>\n     <use xlink:href=\"#m0f9f5f7ac8\" x=\"134.998252\" y=\"251.545924\" style=\"fill: #ff7f0e; stroke: #ff7f0e\"/>\n     <use xlink:href=\"#m0f9f5f7ac8\" x=\"220.899077\" y=\"207.815322\" style=\"fill: #ff7f0e; stroke: #ff7f0e\"/>\n     <use xlink:href=\"#m0f9f5f7ac8\" x=\"178.625791\" y=\"223.216624\" style=\"fill: #ff7f0e; stroke: #ff7f0e\"/>\n     <use xlink:href=\"#m0f9f5f7ac8\" x=\"207.54044\" y=\"207.179365\" style=\"fill: #ff7f0e; stroke: #ff7f0e\"/>\n     <use xlink:href=\"#m0f9f5f7ac8\" x=\"210.937478\" y=\"219.668508\" style=\"fill: #ff7f0e; stroke: #ff7f0e\"/>\n     <use xlink:href=\"#m0f9f5f7ac8\" x=\"190.564524\" y=\"215.856169\" style=\"fill: #ff7f0e; stroke: #ff7f0e\"/>\n     <use xlink:href=\"#m0f9f5f7ac8\" x=\"310.099432\" y=\"172.074619\" style=\"fill: #ff7f0e; stroke: #ff7f0e\"/>\n     <use xlink:href=\"#m0f9f5f7ac8\" x=\"158.012326\" y=\"250.82746\" style=\"fill: #ff7f0e; stroke: #ff7f0e\"/>\n     <use xlink:href=\"#m0f9f5f7ac8\" x=\"126.953249\" y=\"253.390684\" style=\"fill: #ff7f0e; stroke: #ff7f0e\"/>\n     <use xlink:href=\"#m0f9f5f7ac8\" x=\"138.360038\" y=\"250.190482\" style=\"fill: #ff7f0e; stroke: #ff7f0e\"/>\n     <use xlink:href=\"#m0f9f5f7ac8\" x=\"140.171895\" y=\"239.543529\" style=\"fill: #ff7f0e; stroke: #ff7f0e\"/>\n     <use xlink:href=\"#m0f9f5f7ac8\" x=\"144.240193\" y=\"239.445753\" style=\"fill: #ff7f0e; stroke: #ff7f0e\"/>\n     <use xlink:href=\"#m0f9f5f7ac8\" x=\"197.033977\" y=\"222.363726\" style=\"fill: #ff7f0e; stroke: #ff7f0e\"/>\n     <use xlink:href=\"#m0f9f5f7ac8\" x=\"247.180737\" y=\"210.863626\" style=\"fill: #ff7f0e; stroke: #ff7f0e\"/>\n     <use xlink:href=\"#m0f9f5f7ac8\" x=\"193.394148\" y=\"217.355399\" style=\"fill: #ff7f0e; stroke: #ff7f0e\"/>\n     <use xlink:href=\"#m0f9f5f7ac8\" x=\"152.456173\" y=\"240.116135\" style=\"fill: #ff7f0e; stroke: #ff7f0e\"/>\n     <use xlink:href=\"#m0f9f5f7ac8\" x=\"237.835215\" y=\"199.179012\" style=\"fill: #ff7f0e; stroke: #ff7f0e\"/>\n     <use xlink:href=\"#m0f9f5f7ac8\" x=\"154.986035\" y=\"234.136442\" style=\"fill: #ff7f0e; stroke: #ff7f0e\"/>\n     <use xlink:href=\"#m0f9f5f7ac8\" x=\"168.799151\" y=\"234.081017\" style=\"fill: #ff7f0e; stroke: #ff7f0e\"/>\n     <use xlink:href=\"#m0f9f5f7ac8\" x=\"130.220772\" y=\"236.557936\" style=\"fill: #ff7f0e; stroke: #ff7f0e\"/>\n     <use xlink:href=\"#m0f9f5f7ac8\" x=\"199.534913\" y=\"224.892199\" style=\"fill: #ff7f0e; stroke: #ff7f0e\"/>\n     <use xlink:href=\"#m0f9f5f7ac8\" x=\"256.901517\" y=\"195.876696\" style=\"fill: #ff7f0e; stroke: #ff7f0e\"/>\n     <use xlink:href=\"#m0f9f5f7ac8\" x=\"154.273478\" y=\"243.025963\" style=\"fill: #ff7f0e; stroke: #ff7f0e\"/>\n     <use xlink:href=\"#m0f9f5f7ac8\" x=\"198.228925\" y=\"213.06606\" style=\"fill: #ff7f0e; stroke: #ff7f0e\"/>\n     <use xlink:href=\"#m0f9f5f7ac8\" x=\"198.977412\" y=\"210.288095\" style=\"fill: #ff7f0e; stroke: #ff7f0e\"/>\n     <use xlink:href=\"#m0f9f5f7ac8\" x=\"205.661113\" y=\"210.483519\" style=\"fill: #ff7f0e; stroke: #ff7f0e\"/>\n     <use xlink:href=\"#m0f9f5f7ac8\" x=\"140.256898\" y=\"250.838457\" style=\"fill: #ff7f0e; stroke: #ff7f0e\"/>\n     <use xlink:href=\"#m0f9f5f7ac8\" x=\"193.76311\" y=\"215.243375\" style=\"fill: #ff7f0e; stroke: #ff7f0e\"/>\n     <use xlink:href=\"#m0f9f5f7ac8\" x=\"88.453442\" y=\"270.217559\" style=\"fill: #ff7f0e; stroke: #ff7f0e\"/>\n     <use xlink:href=\"#m0f9f5f7ac8\" x=\"285.943907\" y=\"178.315863\" style=\"fill: #ff7f0e; stroke: #ff7f0e\"/>\n     <use xlink:href=\"#m0f9f5f7ac8\" x=\"133.764564\" y=\"246.824934\" style=\"fill: #ff7f0e; stroke: #ff7f0e\"/>\n     <use xlink:href=\"#m0f9f5f7ac8\" x=\"143.204538\" y=\"233.839024\" style=\"fill: #ff7f0e; stroke: #ff7f0e\"/>\n     <use xlink:href=\"#m0f9f5f7ac8\" x=\"188.398726\" y=\"227.674657\" style=\"fill: #ff7f0e; stroke: #ff7f0e\"/>\n     <use xlink:href=\"#m0f9f5f7ac8\" x=\"149.168364\" y=\"246.46451\" style=\"fill: #ff7f0e; stroke: #ff7f0e\"/>\n     <use xlink:href=\"#m0f9f5f7ac8\" x=\"198.369512\" y=\"214.193795\" style=\"fill: #ff7f0e; stroke: #ff7f0e\"/>\n     <use xlink:href=\"#m0f9f5f7ac8\" x=\"191.024516\" y=\"214.645135\" style=\"fill: #ff7f0e; stroke: #ff7f0e\"/>\n     <use xlink:href=\"#m0f9f5f7ac8\" x=\"133.381778\" y=\"252.128447\" style=\"fill: #ff7f0e; stroke: #ff7f0e\"/>\n     <use xlink:href=\"#m0f9f5f7ac8\" x=\"185.264561\" y=\"237.495016\" style=\"fill: #ff7f0e; stroke: #ff7f0e\"/>\n     <use xlink:href=\"#m0f9f5f7ac8\" x=\"98.410106\" y=\"261.289616\" style=\"fill: #ff7f0e; stroke: #ff7f0e\"/>\n     <use xlink:href=\"#m0f9f5f7ac8\" x=\"251.2301\" y=\"190.444019\" style=\"fill: #ff7f0e; stroke: #ff7f0e\"/>\n     <use xlink:href=\"#m0f9f5f7ac8\" x=\"190.492364\" y=\"227.542871\" style=\"fill: #ff7f0e; stroke: #ff7f0e\"/>\n     <use xlink:href=\"#m0f9f5f7ac8\" x=\"215.983622\" y=\"215.227752\" style=\"fill: #ff7f0e; stroke: #ff7f0e\"/>\n     <use xlink:href=\"#m0f9f5f7ac8\" x=\"209.127141\" y=\"214.352973\" style=\"fill: #ff7f0e; stroke: #ff7f0e\"/>\n     <use xlink:href=\"#m0f9f5f7ac8\" x=\"152.318544\" y=\"243.529843\" style=\"fill: #ff7f0e; stroke: #ff7f0e\"/>\n     <use xlink:href=\"#m0f9f5f7ac8\" x=\"181.619937\" y=\"219.644618\" style=\"fill: #ff7f0e; stroke: #ff7f0e\"/>\n     <use xlink:href=\"#m0f9f5f7ac8\" x=\"233.321781\" y=\"193.524447\" style=\"fill: #ff7f0e; stroke: #ff7f0e\"/>\n     <use xlink:href=\"#m0f9f5f7ac8\" x=\"131.915405\" y=\"261.095552\" style=\"fill: #ff7f0e; stroke: #ff7f0e\"/>\n     <use xlink:href=\"#m0f9f5f7ac8\" x=\"149.438497\" y=\"249.777054\" style=\"fill: #ff7f0e; stroke: #ff7f0e\"/>\n     <use xlink:href=\"#m0f9f5f7ac8\" x=\"210.036663\" y=\"214.556059\" style=\"fill: #ff7f0e; stroke: #ff7f0e\"/>\n     <use xlink:href=\"#m0f9f5f7ac8\" x=\"146.392386\" y=\"236.900431\" style=\"fill: #ff7f0e; stroke: #ff7f0e\"/>\n     <use xlink:href=\"#m0f9f5f7ac8\" x=\"263.697296\" y=\"190.367191\" style=\"fill: #ff7f0e; stroke: #ff7f0e\"/>\n    </g>\n   </g>\n   <g id=\"patch_9\">\n    <path d=\"M 43.78125 287.118098 \nL 43.78125 166.596359 \n\" style=\"fill: none; stroke: #ffffff; stroke-width: 0.8; stroke-linejoin: miter; stroke-linecap: square\"/>\n   </g>\n   <g id=\"patch_10\">\n    <path d=\"M 322.78125 287.118098 \nL 322.78125 166.596359 \n\" style=\"fill: none; stroke: #ffffff; stroke-width: 0.8; stroke-linejoin: miter; stroke-linecap: square\"/>\n   </g>\n   <g id=\"patch_11\">\n    <path d=\"M 43.78125 287.118098 \nL 322.78125 287.118098 \n\" style=\"fill: none; stroke: #ffffff; stroke-width: 0.8; stroke-linejoin: miter; stroke-linecap: square\"/>\n   </g>\n   <g id=\"patch_12\">\n    <path d=\"M 43.78125 166.596359 \nL 322.78125 166.596359 \n\" style=\"fill: none; stroke: #ffffff; stroke-width: 0.8; stroke-linejoin: miter; stroke-linecap: square\"/>\n   </g>\n   <g id=\"legend_2\">\n    <g id=\"patch_13\">\n     <path d=\"M 50.78125 203.952609 \nL 134.434375 203.952609 \nQ 136.434375 203.952609 136.434375 201.952609 \nL 136.434375 173.596359 \nQ 136.434375 171.596359 134.434375 171.596359 \nL 50.78125 171.596359 \nQ 48.78125 171.596359 48.78125 173.596359 \nL 48.78125 201.952609 \nQ 48.78125 203.952609 50.78125 203.952609 \nz\n\" style=\"fill: #eaeaf2; opacity: 0.8; stroke: #cccccc; stroke-linejoin: miter\"/>\n    </g>\n    <g id=\"PathCollection_3\">\n     <g>\n      <use xlink:href=\"#m904d0404fc\" x=\"62.78125\" y=\"180.569796\" style=\"fill: #1f77b4; stroke: #1f77b4\"/>\n     </g>\n    </g>\n    <g id=\"text_31\">\n     <!-- real -->\n     <g style=\"fill: #262626\" transform=\"translate(80.78125 183.194796) scale(0.1 -0.1)\">\n      <use xlink:href=\"#DejaVuSans-72\"/>\n      <use xlink:href=\"#DejaVuSans-65\" x=\"38.863281\"/>\n      <use xlink:href=\"#DejaVuSans-61\" x=\"100.386719\"/>\n      <use xlink:href=\"#DejaVuSans-6c\" x=\"161.666016\"/>\n     </g>\n    </g>\n    <g id=\"PathCollection_4\">\n     <g>\n      <use xlink:href=\"#m0f9f5f7ac8\" x=\"62.78125\" y=\"195.247921\" style=\"fill: #ff7f0e; stroke: #ff7f0e\"/>\n     </g>\n    </g>\n    <g id=\"text_32\">\n     <!-- generated -->\n     <g style=\"fill: #262626\" transform=\"translate(80.78125 197.872921) scale(0.1 -0.1)\">\n      <use xlink:href=\"#DejaVuSans-67\"/>\n      <use xlink:href=\"#DejaVuSans-65\" x=\"63.476562\"/>\n      <use xlink:href=\"#DejaVuSans-6e\" x=\"125\"/>\n      <use xlink:href=\"#DejaVuSans-65\" x=\"188.378906\"/>\n      <use xlink:href=\"#DejaVuSans-72\" x=\"249.902344\"/>\n      <use xlink:href=\"#DejaVuSans-61\" x=\"291.015625\"/>\n      <use xlink:href=\"#DejaVuSans-74\" x=\"352.294922\"/>\n      <use xlink:href=\"#DejaVuSans-65\" x=\"391.503906\"/>\n      <use xlink:href=\"#DejaVuSans-64\" x=\"453.027344\"/>\n     </g>\n    </g>\n   </g>\n  </g>\n </g>\n <defs>\n  <clipPath id=\"p2c0b1887a4\">\n   <rect x=\"43.78125\" y=\"9.918098\" width=\"279\" height=\"120.521739\"/>\n  </clipPath>\n  <clipPath id=\"pe75bd8dcbe\">\n   <rect x=\"43.78125\" y=\"166.596359\" width=\"279\" height=\"120.521739\"/>\n  </clipPath>\n </defs>\n</svg>\n"
          },
          "metadata": {}
        }
      ],
      "source": [
        "lr_D, lr_G, latent_dim, num_epochs = 0.05, 0.005, 2, 20\n",
        "train(net_D, net_G, data_iter, num_epochs, lr_D, lr_G,\n",
        "      latent_dim, data[:100].numpy())"
      ]
    },
    {
      "cell_type": "markdown",
      "id": "b4174981",
      "metadata": {
        "origin_pos": 33,
        "id": "b4174981"
      },
      "source": [
        "<br>\n",
        "<br>\n",
        "\n",
        "## Summary\n",
        "\n",
        "* Generative adversarial networks (GANs) composes of two deep networks, the generator and the discriminator.\n",
        "* The generator generates the image as much closer to the true image as possible to fool the discriminator, via maximizing the cross-entropy loss, *i.e.*, $\\max \\log(D(\\mathbf{x'}))$.\n",
        "* The discriminator tries to distinguish the generated images from the true images, via minimizing the cross-entropy loss, *i.e.*, $\\min - y \\log D(\\mathbf{x}) - (1-y)\\log(1-D(\\mathbf{x}))$.\n",
        "\n",
        "\n"
      ]
    },
    {
      "cell_type": "markdown",
      "source": [
        "<br>\n",
        "<br>\n",
        "\n",
        "## Exercises\n",
        "\n",
        "* Does an equilibrium exist where the generator wins, *i.e.* the discriminator ends up unable to distinguish the two distributions on finite samples?"
      ],
      "metadata": {
        "id": "IjtEK-Mbg5B1"
      },
      "id": "IjtEK-Mbg5B1"
    },
    {
      "cell_type": "markdown",
      "id": "1b0dea6f",
      "metadata": {
        "origin_pos": 35,
        "tab": [
          "pytorch"
        ],
        "id": "1b0dea6f"
      },
      "source": [
        "> [Discussions](https://discuss.d2l.ai/t/1082)\n"
      ]
    },
    {
      "cell_type": "markdown",
      "source": [
        "<br>\n",
        "<br>\n",
        "\n",
        "## Previews"
      ],
      "metadata": {
        "id": "pQd_jRxvy_Om"
      },
      "id": "pQd_jRxvy_Om"
    },
    {
      "cell_type": "code",
      "source": [
        "print(batch_size)"
      ],
      "metadata": {
        "colab": {
          "base_uri": "https://localhost:8080/"
        },
        "id": "pJIQ_9pXzKdk",
        "outputId": "975d48b2-4189-4947-e1d0-c2aa5b8daf3e"
      },
      "id": "pJIQ_9pXzKdk",
      "execution_count": 20,
      "outputs": [
        {
          "output_type": "stream",
          "name": "stdout",
          "text": [
            "8\n"
          ]
        }
      ]
    },
    {
      "cell_type": "code",
      "source": [
        "X.shape"
      ],
      "metadata": {
        "colab": {
          "base_uri": "https://localhost:8080/"
        },
        "id": "KgDqS_-rzREi",
        "outputId": "e2338777-8668-4292-e7c9-f4c83ddedeaa"
      },
      "id": "KgDqS_-rzREi",
      "execution_count": 21,
      "outputs": [
        {
          "output_type": "execute_result",
          "data": {
            "text/plain": [
              "TensorShape([1000, 2])"
            ]
          },
          "metadata": {},
          "execution_count": 21
        }
      ]
    },
    {
      "cell_type": "code",
      "source": [
        "X.device"
      ],
      "metadata": {
        "colab": {
          "base_uri": "https://localhost:8080/",
          "height": 35
        },
        "id": "bpIYtHeYzV5g",
        "outputId": "475ea93b-c797-4a1f-f986-aa38c681ba09"
      },
      "id": "bpIYtHeYzV5g",
      "execution_count": 22,
      "outputs": [
        {
          "output_type": "execute_result",
          "data": {
            "text/plain": [
              "'/job:localhost/replica:0/task:0/device:CPU:0'"
            ],
            "application/vnd.google.colaboratory.intrinsic+json": {
              "type": "string"
            }
          },
          "metadata": {},
          "execution_count": 22
        }
      ]
    }
  ],
  "metadata": {
    "kernelspec": {
      "display_name": "Python 3",
      "name": "python3"
    },
    "language_info": {
      "name": "python"
    },
    "required_libs": [],
    "colab": {
      "provenance": [],
      "toc_visible": true
    }
  },
  "nbformat": 4,
  "nbformat_minor": 5
}