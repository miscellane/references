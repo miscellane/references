{
  "nbformat": 4,
  "nbformat_minor": 0,
  "metadata": {
    "kernelspec": {
      "display_name": "Python 3",
      "language": "python",
      "name": "python3"
    },
    "language_info": {
      "codemirror_mode": {
        "name": "ipython",
        "version": 3
      },
      "file_extension": ".py",
      "mimetype": "text/x-python",
      "name": "python",
      "nbconvert_exporter": "python",
      "pygments_lexer": "ipython3",
      "version": "3.7.2"
    },
    "colab": {
      "provenance": [],
      "toc_visible": true
    }
  },
  "cells": [
    {
      "cell_type": "markdown",
      "metadata": {
        "id": "2B8Do06hVuVY"
      },
      "source": [
        "# Regression in Python\n",
        "\n",
        "<br>\n",
        "\n",
        "This is a very quick run-through of some basic statistical concepts, adapted from [Lab 4 in Harvard's CS109](https://github.com/cs109/2015lab4) course. Please feel free to try the original lab if you're feeling ambitious :-) The CS109 git repository also has the solutions if you're stuck.\n",
        "\n",
        "* Linear Regression Models\n",
        "* Prediction using linear regression\n",
        "\n",
        "Linear regression is used to model and predict continuous outcomes with normal random errors. There are nearly an infinite number of different types of regression models and each regression model is typically defined by the distribution of the prediction errors (called \"residuals\") of the type of data. Logistic regression is used to model binary outcomes whereas Poisson regression is used to predict counts. In this exercise, we'll see some examples of linear regression as well as Train-test splits.\n",
        "\n",
        "The packages we'll cover are: `statsmodels`, `seaborn`, and `scikit-learn`. While we don't explicitly teach `statsmodels` and `seaborn` in the Springboard workshop, those are great libraries to know.\n",
        "\n",
        "<br>\n",
        "<br>"
      ]
    },
    {
      "cell_type": "markdown",
      "metadata": {
        "id": "g6q1CEWEVuVd"
      },
      "source": [
        "<img width=600 height=500 src=\"https://imgs.xkcd.com/comics/sustainable.png\"/>"
      ]
    },
    {
      "cell_type": "markdown",
      "metadata": {
        "id": "dyPoY9KuE1zD"
      },
      "source": [
        "<br>\n",
        "<br>\n",
        "\n",
        "**Libraries**"
      ]
    },
    {
      "cell_type": "code",
      "metadata": {
        "id": "v46RC0mwVuVg"
      },
      "source": [
        "# special IPython command to prepare the notebook for matplotlib and other libraries\n",
        "%matplotlib inline \n",
        "\n",
        "import numpy as np\n",
        "import pandas as pd\n",
        "import scipy.stats as stats\n",
        "import matplotlib.pyplot as plt\n",
        "import sklearn\n",
        "import seaborn as sns\n",
        "\n",
        "from matplotlib import rcParams\n",
        "\n",
        "# special matplotlib arguments for plots\n",
        "sns.set_style(\"darkgrid\")\n",
        "sns.set_context(\"poster\")\n"
      ],
      "execution_count": null,
      "outputs": []
    },
    {
      "cell_type": "markdown",
      "metadata": {
        "id": "BkmI6wxKwjk3"
      },
      "source": [
        "## Part 1: Introduction to Linear Regression"
      ]
    },
    {
      "cell_type": "markdown",
      "metadata": {
        "id": "u-lDGsI8VuVs"
      },
      "source": [
        "\n",
        "\n",
        "### Purpose of linear regression\n",
        "\n",
        "<div class=\"span5 alert alert-info\">\n",
        "\n",
        "<p> Given a dataset containing predictor variables $X$ and outcome/response variable $Y$, linear regression can be used to: </p>\n",
        "<ul>\n",
        "  <li> Build a <b>predictive model</b> to predict future values of $\\hat{Y}$, using new data $X^*$ where $Y$ is unknown.</li>\n",
        "  <li> Model the <b>strength of the relationship</b> between each independent variable $X_i$ and $Y$</li>\n",
        "    <ul>\n",
        "      <li> Many times, only a subset of independent variables $X_i$ will have a linear relationship with $Y$</li>\n",
        "      <li> Need to figure out which $X_i$ contributes most information to predict $Y$ </li>\n",
        "    </ul>\n",
        "   <li>It is in many cases, the first pass prediction algorithm for continuous outcomes. </li>\n",
        "</ul>\n",
        "</div>\n",
        "\n",
        "<br>\n",
        "<br>\n",
        "\n",
        "### A Brief Mathematical Recap\n",
        "\n",
        "[Linear Regression](http://en.wikipedia.org/wiki/Linear_regression) is a method to model the relationship between a set of independent variables $X$ (also knowns as explanatory variables, features, predictors) and a dependent variable $Y$.  This method assumes the relationship between each predictor $X$ is **linearly** related to the dependent variable $Y$. The most basic linear regression model contains one independent variable $X$, we'll call this the simple model. \n",
        "\n",
        "$$ Y = \\beta_0 + \\beta_1 X + \\epsilon$$\n",
        "\n",
        "where $\\epsilon$ is considered as an unobservable random variable that adds noise to the linear relationship. In linear regression, $\\epsilon$ is assumed to be normally distributed with a mean of 0. In other words, what this means is that on average, if we know $Y$, a roughly equal number of predictions $\\hat{Y}$ will be above $Y$ and others will be below $Y$. That is, on average, the error is zero. The residuals, $\\epsilon$ are also assumed to be \"i.i.d.\": independently and identically distributed. Independence means that the residuals are not correlated -- the residual from one prediction has no effect on the residual from another prediction. Correlated errors are common in time series analysis and spatial analyses.\n",
        "\n",
        "* $\\beta_0$ is the intercept of the linear model and represents the average of $Y$ when all independent variables $X$ are set to 0.\n",
        "\n",
        "* $\\beta_1$ is the slope of the line associated with the regression model and represents the average effect of a one-unit increase in $X$ on $Y$.\n",
        "\n",
        "* Back to the simple model. The model in linear regression is the *conditional mean* of $Y$ given the values in $X$ is expressed a linear function.  \n",
        "\n",
        "$$ y = f(x) = E(Y | X = x)$$ \n",
        "\n",
        "![conditional mean](images/conditionalmean.png)\n",
        "http://www.learner.org/courses/againstallodds/about/glossary.html\n",
        "\n",
        "* The goal is to estimate the coefficients (e.g. $\\beta_0$ and $\\beta_1$). We represent the estimates of the coefficients with a \"hat\" on top of the letter.  \n",
        "\n",
        "$$ \\hat{\\beta}_0, \\hat{\\beta}_1 $$\n",
        "\n",
        "* Once we estimate the coefficients $\\hat{\\beta}_0$ and $\\hat{\\beta}_1$, we can use these to predict new values of $Y$ given new data $X$.\n",
        "\n",
        "$$\\hat{y} = \\hat{\\beta}_0 + \\hat{\\beta}_1 x_1$$\n",
        "\n",
        "* Multiple linear regression is when you have more than one independent variable and the estimation involves matrices\n",
        "    * $X_1$, $X_2$, $X_3$, $\\ldots$\n",
        "\n",
        "\n",
        "* How do you estimate the coefficients? \n",
        "    * There are many ways to fit a linear regression model\n",
        "    * The method called **least squares** is the most common methods\n",
        "    * We will discuss least squares\n",
        "\n",
        "$$ Y = \\beta_0 + \\beta_1 X_1 + \\ldots + \\beta_p X_p + \\epsilon$$ \n",
        "\n",
        "<br>\n",
        "<br>\n",
        "\n",
        "### Estimating $\\hat\\beta$: Least squares\n",
        "\n",
        "[Least squares](http://en.wikipedia.org/wiki/Least_squares) is a method that can estimate the coefficients of a linear model by minimizing the squared residuals: \n",
        "\n",
        "$$ \\mathscr{L} = \\sum_{i=1}^N \\epsilon_i^2 = \\sum_{i=1}^N \\left( y_i - \\hat{y}_i \\right)^2  = \\sum_{i=1}^N \\left(y_i - \\left(\\beta_0 + \\beta_1 x_i\\right)\\right)^2 $$\n",
        "\n",
        "where $N$ is the number of observations and $\\epsilon$ represents a residual or error, ACTUAL - PREDICTED.  \n",
        "\n",
        "<br>\n",
        "<br>\n",
        "\n",
        "#### Estimating the intercept $\\hat{\\beta_0}$ for the simple linear model\n",
        "\n",
        "We want to minimize the squared residuals and solve for $\\hat{\\beta_0}$ so we take the partial derivative of $\\mathscr{L}$ with respect to $\\hat{\\beta_0}$ "
      ]
    },
    {
      "cell_type": "markdown",
      "metadata": {
        "id": "tzFDS7gKVuVu"
      },
      "source": [
        "$\n",
        "\\begin{align}\n",
        "\\frac{\\partial \\mathscr{L}}{\\partial \\hat{\\beta_0}} &= \\frac{\\partial}{\\partial \\hat{\\beta_0}} \\sum_{i=1}^N \\epsilon^2 \\\\\n",
        "&= \\frac{\\partial}{\\partial \\hat{\\beta_0}} \\sum_{i=1}^N \\left( y_i - \\hat{y}_i \\right)^2 \\\\\n",
        "&= \\frac{\\partial}{\\partial \\hat{\\beta_0}} \\sum_{i=1}^N \\left( y_i - \\left( \\hat{\\beta}_0 + \\hat{\\beta}_1 x_i \\right) \\right)^2 \\\\\n",
        "&= -2 \\sum_{i=1}^N \\left( y_i - \\left( \\hat{\\beta}_0 + \\hat{\\beta}_1 x_i \\right) \\right) \\hspace{25mm} \\mbox{(by chain rule)} \\\\\n",
        "&= -2 \\sum_{i=1}^N (y_i - \\hat{\\beta}_0 - \\hat{\\beta}_1 x_i) \\\\\n",
        "&= -2 \\left[ \\left( \\sum_{i=1}^N y_i \\right) - N \\hat{\\beta_0} - \\hat{\\beta}_1 \\left( \\sum_{i=1}^N x_i\n",
        "\\right) \\right] \\\\\n",
        "& 2 \\left[ N \\hat{\\beta}_0 + \\hat{\\beta}_1 \\sum_{i=1}^N x_i - \\sum_{i=1}^N y_i \\right] = 0 \\hspace{20mm} \\mbox{(Set equal to 0 and solve for $\\hat{\\beta}_0$)} \\\\\n",
        "& N \\hat{\\beta}_0 + \\hat{\\beta}_1 \\sum_{i=1}^N x_i - \\sum_{i=1}^N y_i = 0 \\\\\n",
        "& N \\hat{\\beta}_0 = \\sum_{i=1}^N y_i - \\hat{\\beta}_1 \\sum_{i=1}^N x_i \\\\\n",
        "& \\hat{\\beta}_0 = \\frac{\\sum_{i=1}^N y_i - \\hat{\\beta}_1 \\sum_{i=1}^N x_i}{N} \\\\\n",
        "& \\hat{\\beta}_0 = \\frac{\\sum_{i=1}^N y_i}{N} - \\hat{\\beta}_1 \\frac{\\sum_{i=1}^N x_i}{N} \\\\\n",
        "& \\boxed{\\hat{\\beta}_0 = \\bar{y} - \\hat{\\beta}_1 \\bar{x}}\n",
        "\\end{align}\n",
        "$"
      ]
    },
    {
      "cell_type": "markdown",
      "metadata": {
        "id": "YGFZF3ITVuVw"
      },
      "source": [
        "Using this new information, we can compute the estimate for $\\hat{\\beta}_1$ by taking the partial derivative of $\\mathscr{L}$ with respect to $\\hat{\\beta}_1$."
      ]
    },
    {
      "cell_type": "markdown",
      "metadata": {
        "id": "33jRwey3VuVy"
      },
      "source": [
        "$\n",
        "\\begin{align}\n",
        "\\frac{\\partial \\mathscr{L}}{\\partial \\hat{\\beta_1}} &= \\frac{\\partial}{\\partial \\hat{\\beta_1}} \\sum_{i=1}^N \\epsilon^2 \\\\\n",
        "&= \\frac{\\partial}{\\partial \\hat{\\beta_1}} \\sum_{i=1}^N \\left( y_i - \\hat{y}_i \\right)^2 \\\\\n",
        "&= \\frac{\\partial}{\\partial \\hat{\\beta_1}} \\sum_{i=1}^N \\left( y_i - \\left( \\hat{\\beta}_0 + \\hat{\\beta}_1 x_i \\right) \\right)^2 \\\\\n",
        "&= 2 \\sum_{i=1}^N \\left( y_i - \\left( \\hat{\\beta}_0 + \\hat{\\beta}_1 x_i \\right) \\right) \\left( -x_i \\right) \\hspace{25mm}\\mbox{(by chain rule)} \\\\\n",
        "&= -2 \\sum_{i=1}^N x_i \\left( y_i - \\hat{\\beta}_0 - \\hat{\\beta}_1 x_i \\right) \\\\\n",
        "&= -2 \\sum_{i=1}^N x_i (y_i - \\hat{\\beta}_0 x_i - \\hat{\\beta}_1 x_i^2) \\\\\n",
        "&= -2 \\sum_{i=1}^N x_i (y_i - \\left( \\bar{y} - \\hat{\\beta}_1 \\bar{x} \\right) x_i - \\hat{\\beta}_1 x_i^2) \\\\\n",
        "&= -2 \\sum_{i=1}^N (x_i y_i - \\bar{y}x_i + \\hat{\\beta}_1\\bar{x}x_i - \\hat{\\beta}_1 x_i^2) \\\\\n",
        "&= -2 \\left[ \\sum_{i=1}^N x_i y_i - \\bar{y} \\sum_{i=1}^N x_i + \\hat{\\beta}_1\\bar{x}\\sum_{i=1}^N x_i - \\hat{\\beta}_1 \\sum_{i=1}^N x_i^2 \\right] \\\\\n",
        "&= -2 \\left[ \\hat{\\beta}_1 \\left\\{ \\bar{x} \\sum_{i=1}^N x_i - \\sum_{i=1}^N x_i^2 \\right\\} + \\left\\{ \\sum_{i=1}^N x_i y_i - \\bar{y} \\sum_{i=1}^N x_i \\right\\}\\right] \\\\\n",
        "& 2 \\left[ \\hat{\\beta}_1 \\left\\{ \\sum_{i=1}^N x_i^2 - \\bar{x} \\sum_{i=1}^N x_i \\right\\} + \\left\\{ \\bar{y} \\sum_{i=1}^N x_i - \\sum_{i=1}^N x_i y_i \\right\\} \\right] = 0 \\\\\n",
        "& \\hat{\\beta}_1 = \\frac{-\\left( \\bar{y} \\sum_{i=1}^N x_i - \\sum_{i=1}^N x_i y_i \\right)}{\\sum_{i=1}^N x_i^2 - \\bar{x}\\sum_{i=1}^N x_i} \\\\\n",
        "&= \\frac{\\sum_{i=1}^N x_i y_i - \\bar{y} \\sum_{i=1}^N x_i}{\\sum_{i=1}^N x_i^2 - \\bar{x} \\sum_{i=1}^N x_i} \\\\\n",
        "& \\boxed{\\hat{\\beta}_1 = \\frac{\\sum_{i=1}^N x_i y_i - \\bar{x}\\bar{y}n}{\\sum_{i=1}^N x_i^2 - n \\bar{x}^2}}\n",
        "\\end{align}\n",
        "$"
      ]
    },
    {
      "cell_type": "markdown",
      "metadata": {
        "id": "ovsm-3gIVuV0"
      },
      "source": [
        "The solution can be written in compact matrix notation as\n",
        "\n",
        "$$\\hat\\beta =  (X^T X)^{-1}X^T Y$$ \n",
        "\n",
        "We wanted to show you this in case you remember linear algebra, in order for this solution to exist we need $X^T X$ to be invertible. Of course this requires a few extra assumptions, $X$ must be full rank so that $X^T X$ is invertible, etc. Basically, $X^T X$ is full rank if all rows and columns are linearly independent. This has a loose relationship to variables and observations being independent respective. **This is important for us because this means that having redundant features in our regression models will lead to poorly fitting (and unstable) models.** We'll see an implementation of this in the extra linear regression example."
      ]
    },
    {
      "cell_type": "markdown",
      "metadata": {
        "id": "RxeZdxthwveQ"
      },
      "source": [
        "<br>\n",
        "<br>\n",
        "\n",
        "## Part 2: Exploratory Data Analysis for Linear Relationships\n",
        "\n",
        "The [Boston Housing data set](https://archive.ics.uci.edu/ml/datasets/Housing) contains information about the housing values in suburbs of Boston.  This dataset was originally taken from the StatLib library which is maintained at Carnegie Mellon University and is now available on the UCI Machine Learning Repository. "
      ]
    },
    {
      "cell_type": "markdown",
      "metadata": {
        "id": "JNjw1mubVuV3"
      },
      "source": [
        "<br>\n",
        "<br>\n",
        "\n",
        "### Load the Boston Housing data set from `sklearn`\n",
        "\n",
        "This data set is available in the [sklearn](http://scikit-learn.org/stable/modules/generated/sklearn.datasets.load_boston.html#sklearn.datasets.load_boston) python module which is how we will access it today.  "
      ]
    },
    {
      "cell_type": "code",
      "metadata": {
        "id": "cy35-xufVuV5"
      },
      "source": [
        "from sklearn.datasets import load_boston\n",
        "import pandas as pd\n",
        "\n",
        "boston = load_boston()"
      ],
      "execution_count": null,
      "outputs": []
    },
    {
      "cell_type": "code",
      "metadata": {
        "id": "wUpzVNJDVuWB",
        "colab": {
          "base_uri": "https://localhost:8080/",
          "height": 35
        },
        "outputId": "b2deef99-58aa-4a70-f3f6-bd55e5228f66"
      },
      "source": [
        "boston.keys()"
      ],
      "execution_count": null,
      "outputs": [
        {
          "output_type": "execute_result",
          "data": {
            "text/plain": [
              "dict_keys(['data', 'target', 'feature_names', 'DESCR', 'filename'])"
            ]
          },
          "metadata": {
            "tags": []
          },
          "execution_count": 3
        }
      ]
    },
    {
      "cell_type": "code",
      "metadata": {
        "id": "yCIq5BMeVuWI",
        "colab": {
          "base_uri": "https://localhost:8080/",
          "height": 35
        },
        "outputId": "e05ab28c-a4f0-4380-9355-93f511b02057"
      },
      "source": [
        "boston.data.shape"
      ],
      "execution_count": null,
      "outputs": [
        {
          "output_type": "execute_result",
          "data": {
            "text/plain": [
              "(506, 13)"
            ]
          },
          "metadata": {
            "tags": []
          },
          "execution_count": 4
        }
      ]
    },
    {
      "cell_type": "code",
      "metadata": {
        "id": "WKSzZvkMVuWP",
        "colab": {
          "base_uri": "https://localhost:8080/",
          "height": 53
        },
        "outputId": "75a46348-cc78-48df-f86e-d61338c9d5a2"
      },
      "source": [
        "# Print column names\n",
        "print(boston.feature_names)"
      ],
      "execution_count": null,
      "outputs": [
        {
          "output_type": "stream",
          "text": [
            "['CRIM' 'ZN' 'INDUS' 'CHAS' 'NOX' 'RM' 'AGE' 'DIS' 'RAD' 'TAX' 'PTRATIO'\n",
            " 'B' 'LSTAT']\n"
          ],
          "name": "stdout"
        }
      ]
    },
    {
      "cell_type": "code",
      "metadata": {
        "id": "s49m05WAVuWU",
        "colab": {
          "base_uri": "https://localhost:8080/",
          "height": 964
        },
        "outputId": "a005bc51-bf89-4f99-aa60-3ea07ca80489"
      },
      "source": [
        "# Print description of Boston housing data set\n",
        "print(boston.DESCR)"
      ],
      "execution_count": null,
      "outputs": [
        {
          "output_type": "stream",
          "text": [
            ".. _boston_dataset:\n",
            "\n",
            "Boston house prices dataset\n",
            "---------------------------\n",
            "\n",
            "**Data Set Characteristics:**  \n",
            "\n",
            "    :Number of Instances: 506 \n",
            "\n",
            "    :Number of Attributes: 13 numeric/categorical predictive. Median Value (attribute 14) is usually the target.\n",
            "\n",
            "    :Attribute Information (in order):\n",
            "        - CRIM     per capita crime rate by town\n",
            "        - ZN       proportion of residential land zoned for lots over 25,000 sq.ft.\n",
            "        - INDUS    proportion of non-retail business acres per town\n",
            "        - CHAS     Charles River dummy variable (= 1 if tract bounds river; 0 otherwise)\n",
            "        - NOX      nitric oxides concentration (parts per 10 million)\n",
            "        - RM       average number of rooms per dwelling\n",
            "        - AGE      proportion of owner-occupied units built prior to 1940\n",
            "        - DIS      weighted distances to five Boston employment centres\n",
            "        - RAD      index of accessibility to radial highways\n",
            "        - TAX      full-value property-tax rate per $10,000\n",
            "        - PTRATIO  pupil-teacher ratio by town\n",
            "        - B        1000(Bk - 0.63)^2 where Bk is the proportion of blacks by town\n",
            "        - LSTAT    % lower status of the population\n",
            "        - MEDV     Median value of owner-occupied homes in $1000's\n",
            "\n",
            "    :Missing Attribute Values: None\n",
            "\n",
            "    :Creator: Harrison, D. and Rubinfeld, D.L.\n",
            "\n",
            "This is a copy of UCI ML housing dataset.\n",
            "https://archive.ics.uci.edu/ml/machine-learning-databases/housing/\n",
            "\n",
            "\n",
            "This dataset was taken from the StatLib library which is maintained at Carnegie Mellon University.\n",
            "\n",
            "The Boston house-price data of Harrison, D. and Rubinfeld, D.L. 'Hedonic\n",
            "prices and the demand for clean air', J. Environ. Economics & Management,\n",
            "vol.5, 81-102, 1978.   Used in Belsley, Kuh & Welsch, 'Regression diagnostics\n",
            "...', Wiley, 1980.   N.B. Various transformations are used in the table on\n",
            "pages 244-261 of the latter.\n",
            "\n",
            "The Boston house-price data has been used in many machine learning papers that address regression\n",
            "problems.   \n",
            "     \n",
            ".. topic:: References\n",
            "\n",
            "   - Belsley, Kuh & Welsch, 'Regression diagnostics: Identifying Influential Data and Sources of Collinearity', Wiley, 1980. 244-261.\n",
            "   - Quinlan,R. (1993). Combining Instance-Based and Model-Based Learning. In Proceedings on the Tenth International Conference of Machine Learning, 236-243, University of Massachusetts, Amherst. Morgan Kaufmann.\n",
            "\n"
          ],
          "name": "stdout"
        }
      ]
    },
    {
      "cell_type": "markdown",
      "metadata": {
        "id": "qs3ZvLxeVuWd"
      },
      "source": [
        "Now let's explore the data set itself. "
      ]
    },
    {
      "cell_type": "code",
      "metadata": {
        "id": "ww3BLCUgVuWf",
        "colab": {
          "base_uri": "https://localhost:8080/",
          "height": 206
        },
        "outputId": "c914b8a6-dfb3-4332-e275-338fbd53e7af"
      },
      "source": [
        "bos = pd.DataFrame(boston.data)\n",
        "bos.head()"
      ],
      "execution_count": null,
      "outputs": [
        {
          "output_type": "execute_result",
          "data": {
            "text/html": [
              "<div>\n",
              "<style scoped>\n",
              "    .dataframe tbody tr th:only-of-type {\n",
              "        vertical-align: middle;\n",
              "    }\n",
              "\n",
              "    .dataframe tbody tr th {\n",
              "        vertical-align: top;\n",
              "    }\n",
              "\n",
              "    .dataframe thead th {\n",
              "        text-align: right;\n",
              "    }\n",
              "</style>\n",
              "<table border=\"1\" class=\"dataframe\">\n",
              "  <thead>\n",
              "    <tr style=\"text-align: right;\">\n",
              "      <th></th>\n",
              "      <th>0</th>\n",
              "      <th>1</th>\n",
              "      <th>2</th>\n",
              "      <th>3</th>\n",
              "      <th>4</th>\n",
              "      <th>5</th>\n",
              "      <th>6</th>\n",
              "      <th>7</th>\n",
              "      <th>8</th>\n",
              "      <th>9</th>\n",
              "      <th>10</th>\n",
              "      <th>11</th>\n",
              "      <th>12</th>\n",
              "    </tr>\n",
              "  </thead>\n",
              "  <tbody>\n",
              "    <tr>\n",
              "      <th>0</th>\n",
              "      <td>0.00632</td>\n",
              "      <td>18.0</td>\n",
              "      <td>2.31</td>\n",
              "      <td>0.0</td>\n",
              "      <td>0.538</td>\n",
              "      <td>6.575</td>\n",
              "      <td>65.2</td>\n",
              "      <td>4.0900</td>\n",
              "      <td>1.0</td>\n",
              "      <td>296.0</td>\n",
              "      <td>15.3</td>\n",
              "      <td>396.90</td>\n",
              "      <td>4.98</td>\n",
              "    </tr>\n",
              "    <tr>\n",
              "      <th>1</th>\n",
              "      <td>0.02731</td>\n",
              "      <td>0.0</td>\n",
              "      <td>7.07</td>\n",
              "      <td>0.0</td>\n",
              "      <td>0.469</td>\n",
              "      <td>6.421</td>\n",
              "      <td>78.9</td>\n",
              "      <td>4.9671</td>\n",
              "      <td>2.0</td>\n",
              "      <td>242.0</td>\n",
              "      <td>17.8</td>\n",
              "      <td>396.90</td>\n",
              "      <td>9.14</td>\n",
              "    </tr>\n",
              "    <tr>\n",
              "      <th>2</th>\n",
              "      <td>0.02729</td>\n",
              "      <td>0.0</td>\n",
              "      <td>7.07</td>\n",
              "      <td>0.0</td>\n",
              "      <td>0.469</td>\n",
              "      <td>7.185</td>\n",
              "      <td>61.1</td>\n",
              "      <td>4.9671</td>\n",
              "      <td>2.0</td>\n",
              "      <td>242.0</td>\n",
              "      <td>17.8</td>\n",
              "      <td>392.83</td>\n",
              "      <td>4.03</td>\n",
              "    </tr>\n",
              "    <tr>\n",
              "      <th>3</th>\n",
              "      <td>0.03237</td>\n",
              "      <td>0.0</td>\n",
              "      <td>2.18</td>\n",
              "      <td>0.0</td>\n",
              "      <td>0.458</td>\n",
              "      <td>6.998</td>\n",
              "      <td>45.8</td>\n",
              "      <td>6.0622</td>\n",
              "      <td>3.0</td>\n",
              "      <td>222.0</td>\n",
              "      <td>18.7</td>\n",
              "      <td>394.63</td>\n",
              "      <td>2.94</td>\n",
              "    </tr>\n",
              "    <tr>\n",
              "      <th>4</th>\n",
              "      <td>0.06905</td>\n",
              "      <td>0.0</td>\n",
              "      <td>2.18</td>\n",
              "      <td>0.0</td>\n",
              "      <td>0.458</td>\n",
              "      <td>7.147</td>\n",
              "      <td>54.2</td>\n",
              "      <td>6.0622</td>\n",
              "      <td>3.0</td>\n",
              "      <td>222.0</td>\n",
              "      <td>18.7</td>\n",
              "      <td>396.90</td>\n",
              "      <td>5.33</td>\n",
              "    </tr>\n",
              "  </tbody>\n",
              "</table>\n",
              "</div>"
            ],
            "text/plain": [
              "        0     1     2    3      4   ...   8      9     10      11    12\n",
              "0  0.00632  18.0  2.31  0.0  0.538  ...  1.0  296.0  15.3  396.90  4.98\n",
              "1  0.02731   0.0  7.07  0.0  0.469  ...  2.0  242.0  17.8  396.90  9.14\n",
              "2  0.02729   0.0  7.07  0.0  0.469  ...  2.0  242.0  17.8  392.83  4.03\n",
              "3  0.03237   0.0  2.18  0.0  0.458  ...  3.0  222.0  18.7  394.63  2.94\n",
              "4  0.06905   0.0  2.18  0.0  0.458  ...  3.0  222.0  18.7  396.90  5.33\n",
              "\n",
              "[5 rows x 13 columns]"
            ]
          },
          "metadata": {
            "tags": []
          },
          "execution_count": 7
        }
      ]
    },
    {
      "cell_type": "markdown",
      "metadata": {
        "id": "ik-qQyusVuWk"
      },
      "source": [
        "There are no column names in the DataFrame. Let's add those. "
      ]
    },
    {
      "cell_type": "code",
      "metadata": {
        "id": "C38DWc29VuWo",
        "colab": {
          "base_uri": "https://localhost:8080/",
          "height": 206
        },
        "outputId": "e85c4f31-4eb0-448d-f386-3de652a09a16"
      },
      "source": [
        "bos.columns = boston.feature_names\n",
        "bos.head()"
      ],
      "execution_count": null,
      "outputs": [
        {
          "output_type": "execute_result",
          "data": {
            "text/html": [
              "<div>\n",
              "<style scoped>\n",
              "    .dataframe tbody tr th:only-of-type {\n",
              "        vertical-align: middle;\n",
              "    }\n",
              "\n",
              "    .dataframe tbody tr th {\n",
              "        vertical-align: top;\n",
              "    }\n",
              "\n",
              "    .dataframe thead th {\n",
              "        text-align: right;\n",
              "    }\n",
              "</style>\n",
              "<table border=\"1\" class=\"dataframe\">\n",
              "  <thead>\n",
              "    <tr style=\"text-align: right;\">\n",
              "      <th></th>\n",
              "      <th>CRIM</th>\n",
              "      <th>ZN</th>\n",
              "      <th>INDUS</th>\n",
              "      <th>CHAS</th>\n",
              "      <th>NOX</th>\n",
              "      <th>RM</th>\n",
              "      <th>AGE</th>\n",
              "      <th>DIS</th>\n",
              "      <th>RAD</th>\n",
              "      <th>TAX</th>\n",
              "      <th>PTRATIO</th>\n",
              "      <th>B</th>\n",
              "      <th>LSTAT</th>\n",
              "    </tr>\n",
              "  </thead>\n",
              "  <tbody>\n",
              "    <tr>\n",
              "      <th>0</th>\n",
              "      <td>0.00632</td>\n",
              "      <td>18.0</td>\n",
              "      <td>2.31</td>\n",
              "      <td>0.0</td>\n",
              "      <td>0.538</td>\n",
              "      <td>6.575</td>\n",
              "      <td>65.2</td>\n",
              "      <td>4.0900</td>\n",
              "      <td>1.0</td>\n",
              "      <td>296.0</td>\n",
              "      <td>15.3</td>\n",
              "      <td>396.90</td>\n",
              "      <td>4.98</td>\n",
              "    </tr>\n",
              "    <tr>\n",
              "      <th>1</th>\n",
              "      <td>0.02731</td>\n",
              "      <td>0.0</td>\n",
              "      <td>7.07</td>\n",
              "      <td>0.0</td>\n",
              "      <td>0.469</td>\n",
              "      <td>6.421</td>\n",
              "      <td>78.9</td>\n",
              "      <td>4.9671</td>\n",
              "      <td>2.0</td>\n",
              "      <td>242.0</td>\n",
              "      <td>17.8</td>\n",
              "      <td>396.90</td>\n",
              "      <td>9.14</td>\n",
              "    </tr>\n",
              "    <tr>\n",
              "      <th>2</th>\n",
              "      <td>0.02729</td>\n",
              "      <td>0.0</td>\n",
              "      <td>7.07</td>\n",
              "      <td>0.0</td>\n",
              "      <td>0.469</td>\n",
              "      <td>7.185</td>\n",
              "      <td>61.1</td>\n",
              "      <td>4.9671</td>\n",
              "      <td>2.0</td>\n",
              "      <td>242.0</td>\n",
              "      <td>17.8</td>\n",
              "      <td>392.83</td>\n",
              "      <td>4.03</td>\n",
              "    </tr>\n",
              "    <tr>\n",
              "      <th>3</th>\n",
              "      <td>0.03237</td>\n",
              "      <td>0.0</td>\n",
              "      <td>2.18</td>\n",
              "      <td>0.0</td>\n",
              "      <td>0.458</td>\n",
              "      <td>6.998</td>\n",
              "      <td>45.8</td>\n",
              "      <td>6.0622</td>\n",
              "      <td>3.0</td>\n",
              "      <td>222.0</td>\n",
              "      <td>18.7</td>\n",
              "      <td>394.63</td>\n",
              "      <td>2.94</td>\n",
              "    </tr>\n",
              "    <tr>\n",
              "      <th>4</th>\n",
              "      <td>0.06905</td>\n",
              "      <td>0.0</td>\n",
              "      <td>2.18</td>\n",
              "      <td>0.0</td>\n",
              "      <td>0.458</td>\n",
              "      <td>7.147</td>\n",
              "      <td>54.2</td>\n",
              "      <td>6.0622</td>\n",
              "      <td>3.0</td>\n",
              "      <td>222.0</td>\n",
              "      <td>18.7</td>\n",
              "      <td>396.90</td>\n",
              "      <td>5.33</td>\n",
              "    </tr>\n",
              "  </tbody>\n",
              "</table>\n",
              "</div>"
            ],
            "text/plain": [
              "      CRIM    ZN  INDUS  CHAS    NOX  ...  RAD    TAX  PTRATIO       B  LSTAT\n",
              "0  0.00632  18.0   2.31   0.0  0.538  ...  1.0  296.0     15.3  396.90   4.98\n",
              "1  0.02731   0.0   7.07   0.0  0.469  ...  2.0  242.0     17.8  396.90   9.14\n",
              "2  0.02729   0.0   7.07   0.0  0.469  ...  2.0  242.0     17.8  392.83   4.03\n",
              "3  0.03237   0.0   2.18   0.0  0.458  ...  3.0  222.0     18.7  394.63   2.94\n",
              "4  0.06905   0.0   2.18   0.0  0.458  ...  3.0  222.0     18.7  396.90   5.33\n",
              "\n",
              "[5 rows x 13 columns]"
            ]
          },
          "metadata": {
            "tags": []
          },
          "execution_count": 8
        }
      ]
    },
    {
      "cell_type": "markdown",
      "metadata": {
        "id": "GiFa0KVeVuWt"
      },
      "source": [
        "Now we have a pandas DataFrame called `bos` containing all the data we want to use to predict Boston Housing prices.  Let's create a variable called `PRICE` which will contain the prices. This information is contained in the `target` data. "
      ]
    },
    {
      "cell_type": "code",
      "metadata": {
        "id": "IsflF6ysVuWv",
        "colab": {
          "base_uri": "https://localhost:8080/",
          "height": 35
        },
        "outputId": "b3f8e8f9-cdb5-4c29-ff50-7ed5de698187"
      },
      "source": [
        "print(boston.target.shape)"
      ],
      "execution_count": null,
      "outputs": [
        {
          "output_type": "stream",
          "text": [
            "(506,)\n"
          ],
          "name": "stdout"
        }
      ]
    },
    {
      "cell_type": "code",
      "metadata": {
        "id": "hcsqmpuoVuWz",
        "colab": {
          "base_uri": "https://localhost:8080/",
          "height": 206
        },
        "outputId": "2243d3ea-eadc-4ccd-86bf-0f1ed9adb3c9"
      },
      "source": [
        "bos['PRICE'] = boston.target\n",
        "bos.head()"
      ],
      "execution_count": null,
      "outputs": [
        {
          "output_type": "execute_result",
          "data": {
            "text/html": [
              "<div>\n",
              "<style scoped>\n",
              "    .dataframe tbody tr th:only-of-type {\n",
              "        vertical-align: middle;\n",
              "    }\n",
              "\n",
              "    .dataframe tbody tr th {\n",
              "        vertical-align: top;\n",
              "    }\n",
              "\n",
              "    .dataframe thead th {\n",
              "        text-align: right;\n",
              "    }\n",
              "</style>\n",
              "<table border=\"1\" class=\"dataframe\">\n",
              "  <thead>\n",
              "    <tr style=\"text-align: right;\">\n",
              "      <th></th>\n",
              "      <th>CRIM</th>\n",
              "      <th>ZN</th>\n",
              "      <th>INDUS</th>\n",
              "      <th>CHAS</th>\n",
              "      <th>NOX</th>\n",
              "      <th>RM</th>\n",
              "      <th>AGE</th>\n",
              "      <th>DIS</th>\n",
              "      <th>RAD</th>\n",
              "      <th>TAX</th>\n",
              "      <th>PTRATIO</th>\n",
              "      <th>B</th>\n",
              "      <th>LSTAT</th>\n",
              "      <th>PRICE</th>\n",
              "    </tr>\n",
              "  </thead>\n",
              "  <tbody>\n",
              "    <tr>\n",
              "      <th>0</th>\n",
              "      <td>0.00632</td>\n",
              "      <td>18.0</td>\n",
              "      <td>2.31</td>\n",
              "      <td>0.0</td>\n",
              "      <td>0.538</td>\n",
              "      <td>6.575</td>\n",
              "      <td>65.2</td>\n",
              "      <td>4.0900</td>\n",
              "      <td>1.0</td>\n",
              "      <td>296.0</td>\n",
              "      <td>15.3</td>\n",
              "      <td>396.90</td>\n",
              "      <td>4.98</td>\n",
              "      <td>24.0</td>\n",
              "    </tr>\n",
              "    <tr>\n",
              "      <th>1</th>\n",
              "      <td>0.02731</td>\n",
              "      <td>0.0</td>\n",
              "      <td>7.07</td>\n",
              "      <td>0.0</td>\n",
              "      <td>0.469</td>\n",
              "      <td>6.421</td>\n",
              "      <td>78.9</td>\n",
              "      <td>4.9671</td>\n",
              "      <td>2.0</td>\n",
              "      <td>242.0</td>\n",
              "      <td>17.8</td>\n",
              "      <td>396.90</td>\n",
              "      <td>9.14</td>\n",
              "      <td>21.6</td>\n",
              "    </tr>\n",
              "    <tr>\n",
              "      <th>2</th>\n",
              "      <td>0.02729</td>\n",
              "      <td>0.0</td>\n",
              "      <td>7.07</td>\n",
              "      <td>0.0</td>\n",
              "      <td>0.469</td>\n",
              "      <td>7.185</td>\n",
              "      <td>61.1</td>\n",
              "      <td>4.9671</td>\n",
              "      <td>2.0</td>\n",
              "      <td>242.0</td>\n",
              "      <td>17.8</td>\n",
              "      <td>392.83</td>\n",
              "      <td>4.03</td>\n",
              "      <td>34.7</td>\n",
              "    </tr>\n",
              "    <tr>\n",
              "      <th>3</th>\n",
              "      <td>0.03237</td>\n",
              "      <td>0.0</td>\n",
              "      <td>2.18</td>\n",
              "      <td>0.0</td>\n",
              "      <td>0.458</td>\n",
              "      <td>6.998</td>\n",
              "      <td>45.8</td>\n",
              "      <td>6.0622</td>\n",
              "      <td>3.0</td>\n",
              "      <td>222.0</td>\n",
              "      <td>18.7</td>\n",
              "      <td>394.63</td>\n",
              "      <td>2.94</td>\n",
              "      <td>33.4</td>\n",
              "    </tr>\n",
              "    <tr>\n",
              "      <th>4</th>\n",
              "      <td>0.06905</td>\n",
              "      <td>0.0</td>\n",
              "      <td>2.18</td>\n",
              "      <td>0.0</td>\n",
              "      <td>0.458</td>\n",
              "      <td>7.147</td>\n",
              "      <td>54.2</td>\n",
              "      <td>6.0622</td>\n",
              "      <td>3.0</td>\n",
              "      <td>222.0</td>\n",
              "      <td>18.7</td>\n",
              "      <td>396.90</td>\n",
              "      <td>5.33</td>\n",
              "      <td>36.2</td>\n",
              "    </tr>\n",
              "  </tbody>\n",
              "</table>\n",
              "</div>"
            ],
            "text/plain": [
              "      CRIM    ZN  INDUS  CHAS    NOX  ...    TAX  PTRATIO       B  LSTAT  PRICE\n",
              "0  0.00632  18.0   2.31   0.0  0.538  ...  296.0     15.3  396.90   4.98   24.0\n",
              "1  0.02731   0.0   7.07   0.0  0.469  ...  242.0     17.8  396.90   9.14   21.6\n",
              "2  0.02729   0.0   7.07   0.0  0.469  ...  242.0     17.8  392.83   4.03   34.7\n",
              "3  0.03237   0.0   2.18   0.0  0.458  ...  222.0     18.7  394.63   2.94   33.4\n",
              "4  0.06905   0.0   2.18   0.0  0.458  ...  222.0     18.7  396.90   5.33   36.2\n",
              "\n",
              "[5 rows x 14 columns]"
            ]
          },
          "metadata": {
            "tags": []
          },
          "execution_count": 10
        }
      ]
    },
    {
      "cell_type": "markdown",
      "metadata": {
        "id": "GkpGwzYQVuW6"
      },
      "source": [
        "<br>\n",
        "<br>\n",
        "\n",
        "### EDA and Summary Statistics\n",
        "\n",
        "Let's explore this data set.  First we use `describe()` to get basic summary statistics for each of the columns. "
      ]
    },
    {
      "cell_type": "code",
      "metadata": {
        "id": "mgYn3U1vVuW7",
        "colab": {
          "base_uri": "https://localhost:8080/",
          "height": 320
        },
        "outputId": "44b4ad35-131c-44ad-842c-5ccd5038c9a0"
      },
      "source": [
        "bos.describe()"
      ],
      "execution_count": null,
      "outputs": [
        {
          "output_type": "execute_result",
          "data": {
            "text/html": [
              "<div>\n",
              "<style scoped>\n",
              "    .dataframe tbody tr th:only-of-type {\n",
              "        vertical-align: middle;\n",
              "    }\n",
              "\n",
              "    .dataframe tbody tr th {\n",
              "        vertical-align: top;\n",
              "    }\n",
              "\n",
              "    .dataframe thead th {\n",
              "        text-align: right;\n",
              "    }\n",
              "</style>\n",
              "<table border=\"1\" class=\"dataframe\">\n",
              "  <thead>\n",
              "    <tr style=\"text-align: right;\">\n",
              "      <th></th>\n",
              "      <th>CRIM</th>\n",
              "      <th>ZN</th>\n",
              "      <th>INDUS</th>\n",
              "      <th>CHAS</th>\n",
              "      <th>NOX</th>\n",
              "      <th>RM</th>\n",
              "      <th>AGE</th>\n",
              "      <th>DIS</th>\n",
              "      <th>RAD</th>\n",
              "      <th>TAX</th>\n",
              "      <th>PTRATIO</th>\n",
              "      <th>B</th>\n",
              "      <th>LSTAT</th>\n",
              "      <th>PRICE</th>\n",
              "    </tr>\n",
              "  </thead>\n",
              "  <tbody>\n",
              "    <tr>\n",
              "      <th>count</th>\n",
              "      <td>506.000000</td>\n",
              "      <td>506.000000</td>\n",
              "      <td>506.000000</td>\n",
              "      <td>506.000000</td>\n",
              "      <td>506.000000</td>\n",
              "      <td>506.000000</td>\n",
              "      <td>506.000000</td>\n",
              "      <td>506.000000</td>\n",
              "      <td>506.000000</td>\n",
              "      <td>506.000000</td>\n",
              "      <td>506.000000</td>\n",
              "      <td>506.000000</td>\n",
              "      <td>506.000000</td>\n",
              "      <td>506.000000</td>\n",
              "    </tr>\n",
              "    <tr>\n",
              "      <th>mean</th>\n",
              "      <td>3.613524</td>\n",
              "      <td>11.363636</td>\n",
              "      <td>11.136779</td>\n",
              "      <td>0.069170</td>\n",
              "      <td>0.554695</td>\n",
              "      <td>6.284634</td>\n",
              "      <td>68.574901</td>\n",
              "      <td>3.795043</td>\n",
              "      <td>9.549407</td>\n",
              "      <td>408.237154</td>\n",
              "      <td>18.455534</td>\n",
              "      <td>356.674032</td>\n",
              "      <td>12.653063</td>\n",
              "      <td>22.532806</td>\n",
              "    </tr>\n",
              "    <tr>\n",
              "      <th>std</th>\n",
              "      <td>8.601545</td>\n",
              "      <td>23.322453</td>\n",
              "      <td>6.860353</td>\n",
              "      <td>0.253994</td>\n",
              "      <td>0.115878</td>\n",
              "      <td>0.702617</td>\n",
              "      <td>28.148861</td>\n",
              "      <td>2.105710</td>\n",
              "      <td>8.707259</td>\n",
              "      <td>168.537116</td>\n",
              "      <td>2.164946</td>\n",
              "      <td>91.294864</td>\n",
              "      <td>7.141062</td>\n",
              "      <td>9.197104</td>\n",
              "    </tr>\n",
              "    <tr>\n",
              "      <th>min</th>\n",
              "      <td>0.006320</td>\n",
              "      <td>0.000000</td>\n",
              "      <td>0.460000</td>\n",
              "      <td>0.000000</td>\n",
              "      <td>0.385000</td>\n",
              "      <td>3.561000</td>\n",
              "      <td>2.900000</td>\n",
              "      <td>1.129600</td>\n",
              "      <td>1.000000</td>\n",
              "      <td>187.000000</td>\n",
              "      <td>12.600000</td>\n",
              "      <td>0.320000</td>\n",
              "      <td>1.730000</td>\n",
              "      <td>5.000000</td>\n",
              "    </tr>\n",
              "    <tr>\n",
              "      <th>25%</th>\n",
              "      <td>0.082045</td>\n",
              "      <td>0.000000</td>\n",
              "      <td>5.190000</td>\n",
              "      <td>0.000000</td>\n",
              "      <td>0.449000</td>\n",
              "      <td>5.885500</td>\n",
              "      <td>45.025000</td>\n",
              "      <td>2.100175</td>\n",
              "      <td>4.000000</td>\n",
              "      <td>279.000000</td>\n",
              "      <td>17.400000</td>\n",
              "      <td>375.377500</td>\n",
              "      <td>6.950000</td>\n",
              "      <td>17.025000</td>\n",
              "    </tr>\n",
              "    <tr>\n",
              "      <th>50%</th>\n",
              "      <td>0.256510</td>\n",
              "      <td>0.000000</td>\n",
              "      <td>9.690000</td>\n",
              "      <td>0.000000</td>\n",
              "      <td>0.538000</td>\n",
              "      <td>6.208500</td>\n",
              "      <td>77.500000</td>\n",
              "      <td>3.207450</td>\n",
              "      <td>5.000000</td>\n",
              "      <td>330.000000</td>\n",
              "      <td>19.050000</td>\n",
              "      <td>391.440000</td>\n",
              "      <td>11.360000</td>\n",
              "      <td>21.200000</td>\n",
              "    </tr>\n",
              "    <tr>\n",
              "      <th>75%</th>\n",
              "      <td>3.677083</td>\n",
              "      <td>12.500000</td>\n",
              "      <td>18.100000</td>\n",
              "      <td>0.000000</td>\n",
              "      <td>0.624000</td>\n",
              "      <td>6.623500</td>\n",
              "      <td>94.075000</td>\n",
              "      <td>5.188425</td>\n",
              "      <td>24.000000</td>\n",
              "      <td>666.000000</td>\n",
              "      <td>20.200000</td>\n",
              "      <td>396.225000</td>\n",
              "      <td>16.955000</td>\n",
              "      <td>25.000000</td>\n",
              "    </tr>\n",
              "    <tr>\n",
              "      <th>max</th>\n",
              "      <td>88.976200</td>\n",
              "      <td>100.000000</td>\n",
              "      <td>27.740000</td>\n",
              "      <td>1.000000</td>\n",
              "      <td>0.871000</td>\n",
              "      <td>8.780000</td>\n",
              "      <td>100.000000</td>\n",
              "      <td>12.126500</td>\n",
              "      <td>24.000000</td>\n",
              "      <td>711.000000</td>\n",
              "      <td>22.000000</td>\n",
              "      <td>396.900000</td>\n",
              "      <td>37.970000</td>\n",
              "      <td>50.000000</td>\n",
              "    </tr>\n",
              "  </tbody>\n",
              "</table>\n",
              "</div>"
            ],
            "text/plain": [
              "             CRIM          ZN       INDUS  ...           B       LSTAT       PRICE\n",
              "count  506.000000  506.000000  506.000000  ...  506.000000  506.000000  506.000000\n",
              "mean     3.613524   11.363636   11.136779  ...  356.674032   12.653063   22.532806\n",
              "std      8.601545   23.322453    6.860353  ...   91.294864    7.141062    9.197104\n",
              "min      0.006320    0.000000    0.460000  ...    0.320000    1.730000    5.000000\n",
              "25%      0.082045    0.000000    5.190000  ...  375.377500    6.950000   17.025000\n",
              "50%      0.256510    0.000000    9.690000  ...  391.440000   11.360000   21.200000\n",
              "75%      3.677083   12.500000   18.100000  ...  396.225000   16.955000   25.000000\n",
              "max     88.976200  100.000000   27.740000  ...  396.900000   37.970000   50.000000\n",
              "\n",
              "[8 rows x 14 columns]"
            ]
          },
          "metadata": {
            "tags": []
          },
          "execution_count": 11
        }
      ]
    },
    {
      "cell_type": "markdown",
      "metadata": {
        "id": "aoPVsy8Hi0JM"
      },
      "source": [
        "<br>\n",
        "<br>\n",
        "\n",
        "### Part 2 Checkup Exercise Set I\n",
        "\n",
        "Let's look at some scatter plots for three variables: 'CRIM' (per capita crime rate), 'RM' (number of rooms) and 'PTRATIO' (pupil-to-teacher ratio in schools).\n",
        "\n",
        "<br>\n",
        "\n",
        "**Exercise:** What kind of relationship do you see? e.g. positive, negative? linear? non-linear? Is there anything else strange or interesting about the data? What about outliers?"
      ]
    },
    {
      "cell_type": "markdown",
      "metadata": {
        "id": "lwtCDaqdkO39"
      },
      "source": [
        "\n",
        "**Response: Per Capita Crime Rate (CRIM) & House Prices (PRICE)**\n",
        "\n",
        "The graph below suggests an inverse and non-linear relationship between house prices and crime rates; as the crime rates increase, the house prices tend to decline non-linearly, akin to a relationsip $y = exp^{-ax}$ wherein $a$ is an unknown constant, $x$ is the crime rate, and y is the price.  However, this is not generally true; the top left corner of the graph suggest that \n",
        "\n",
        "\n",
        "*   above a certain price a non-linear, or otherwise, relationship is not discernible between the variables.\n",
        "*   some relatively expensive houses are in areas that have high per capita crime rate compared to similarly priced houses; outliers.\n",
        "\n",
        "<br>\n"
      ]
    },
    {
      "cell_type": "code",
      "metadata": {
        "id": "Tyfn6JrTVuXB",
        "colab": {
          "base_uri": "https://localhost:8080/",
          "height": 276
        },
        "outputId": "9fe4797b-0cdf-460a-a711-edcb79327094"
      },
      "source": [
        "plt.figure(figsize=(5,3))\n",
        "plt.tick_params(axis='both', labelsize='xx-small')\n",
        "plt.scatter(bos.CRIM, bos.PRICE, s=(rcParams['lines.markersize'] ** 1))\n",
        "plt.xlabel(\"Per capita crime rate by town (CRIM)\", fontsize='xx-small')\n",
        "plt.ylabel(\"House Prices [K]\", fontsize='xx-small')\n",
        "plt.title(\"Relationship between CRIM and PRICE\", fontsize='xx-small')"
      ],
      "execution_count": null,
      "outputs": [
        {
          "output_type": "execute_result",
          "data": {
            "text/plain": [
              "Text(0.5, 1.0, 'Relationship between CRIM and PRICE')"
            ]
          },
          "metadata": {
            "tags": []
          },
          "execution_count": 12
        },
        {
          "output_type": "display_data",
          "data": {
            "image/png": "[encoded data removed]",
            "text/plain": [
              "<Figure size 360x216 with 1 Axes>"
            ]
          },
          "metadata": {
            "tags": []
          }
        }
      ]
    },
    {
      "cell_type": "markdown",
      "metadata": {
        "id": "2evE23yUjopW"
      },
      "source": [
        "<br>\n",
        "<br>\n",
        "\n",
        "**Exercise:** Create scatter plots between *RM* and *PRICE*, and *PTRATIO* and *PRICE*. Label your axes appropriately using human readable labels. Tell a story about what you see."
      ]
    },
    {
      "cell_type": "markdown",
      "metadata": {
        "id": "ovJdGWsSv2KX"
      },
      "source": [
        "**Response: Average Number of Rooms per Dwelling (RM) & House Prices (PRICE)** \n",
        "\n",
        "In the case of RM & PRICE, illustrated below, \n",
        "\n",
        "* The relationship might be weakly or moderately positively linear; a regression line through the points will require a wide uncertanity band - houses with a similar number of rooms have quite varying prices.  \n",
        "\n",
        "* There are quite a few outliers. \n",
        "\n",
        "* Most dwellings seem to have between 5 and 7 rooms."
      ]
    },
    {
      "cell_type": "code",
      "metadata": {
        "id": "Vmfbgj4IVuXO",
        "colab": {
          "base_uri": "https://localhost:8080/",
          "height": 276
        },
        "outputId": "5c0769b0-b9aa-47a0-dd91-629bd6d726a1"
      },
      "source": [
        "# your turn: scatter plot between *RM* and *PRICE*\n",
        "plt.figure(figsize=(5,3))\n",
        "plt.tick_params(axis='both', labelsize='xx-small')\n",
        "plt.scatter(bos.RM, bos.PRICE, s=(rcParams['lines.markersize'] ** 1))\n",
        "plt.xlabel(\"Average number of rooms per dwelling (RM)\", fontsize='xx-small')\n",
        "plt.ylabel(\"House Prices [K]\", fontsize='xx-small')\n",
        "plt.title(\"Relationship between RM and PRICE\", fontsize='xx-small')"
      ],
      "execution_count": null,
      "outputs": [
        {
          "output_type": "execute_result",
          "data": {
            "text/plain": [
              "Text(0.5, 1.0, 'Relationship between RM and PRICE')"
            ]
          },
          "metadata": {
            "tags": []
          },
          "execution_count": 13
        },
        {
          "output_type": "display_data",
          "data": {
            "image/png": "[encoded data removed]",
            "text/plain": [
              "<Figure size 360x216 with 1 Axes>"
            ]
          },
          "metadata": {
            "tags": []
          }
        }
      ]
    },
    {
      "cell_type": "markdown",
      "metadata": {
        "id": "gZhekfos8u7t"
      },
      "source": [
        "<br>\n",
        "<br>\n",
        "\n",
        "**Response: Pupil/Teacher Ratio by Town (PTRATIO) & House Prices (PRICE)** \n",
        "\n",
        "In this case, illustrated below, a relationship is not quite discernible to the naked-eye.  There might be a weak negatively-linear relationship; a linear correlation measure will be helpful.\n"
      ]
    },
    {
      "cell_type": "code",
      "metadata": {
        "id": "vSKCw_G-VuXU",
        "colab": {
          "base_uri": "https://localhost:8080/",
          "height": 276
        },
        "outputId": "a7f1e986-49b2-4c3e-c3b1-304957be3536"
      },
      "source": [
        "# your turn: scatter plot between *PTRATIO* and *PRICE*\n",
        "plt.figure(figsize=(4.4,3))\n",
        "plt.tick_params(axis='both', labelsize='xx-small')\n",
        "plt.scatter(bos.PTRATIO, bos.PRICE, s=(rcParams['lines.markersize'] ** 1))\n",
        "plt.xlabel(\"Pupil-teacher ratio by town (PTRATIO)\", fontsize='xx-small')\n",
        "plt.ylabel(\"House Prices [K]\", fontsize='xx-small')\n",
        "plt.title(\"Relationship between PTRATIO & PRICE\", fontsize='xx-small')"
      ],
      "execution_count": null,
      "outputs": [
        {
          "output_type": "execute_result",
          "data": {
            "text/plain": [
              "Text(0.5, 1.0, 'Relationship between PTRATIO & PRICE')"
            ]
          },
          "metadata": {
            "tags": []
          },
          "execution_count": 14
        },
        {
          "output_type": "display_data",
          "data": {
            "image/png": "[encoded data removed]",
            "text/plain": [
              "<Figure size 316.8x216 with 1 Axes>"
            ]
          },
          "metadata": {
            "tags": []
          }
        }
      ]
    },
    {
      "cell_type": "markdown",
      "metadata": {
        "id": "oAZTcEIcj9ax"
      },
      "source": [
        "<br>\n",
        "<br>\n",
        "\n",
        "**Exercise:** What are some other numeric variables of interest? Why do you think they are interesting? Plot scatterplots with these variables and *PRICE* (house price) and tell a story about what you see."
      ]
    },
    {
      "cell_type": "markdown",
      "metadata": {
        "id": "7fQGzCjnPu__"
      },
      "source": [
        "**Response: % Lower Status of the Population (LSTAT) & House Prices (PRICE)** \n",
        "\n",
        "Studies such as [Council tax valuation bands, socio-economic status and health outcome](https://www.ncbi.nlm.nih.gov/pmc/articles/PMC1513204/) have reported relationships between property values and socio-economic status.  The graph below suggests a non-linear, exponentially decaying, relationship between price and the percentage of the population classed as low status, i.e., prices decrease, non-linearly, as the lower status percentage increases."
      ]
    },
    {
      "cell_type": "code",
      "metadata": {
        "id": "2HoXyzdGVuXZ",
        "colab": {
          "base_uri": "https://localhost:8080/",
          "height": 276
        },
        "outputId": "d0d43230-892f-40f9-c84d-e6c1776f1815"
      },
      "source": [
        "plt.figure(figsize=(5,3))\n",
        "plt.tick_params(axis='both', labelsize='xx-small')\n",
        "plt.scatter(bos.LSTAT, bos.PRICE, s=(rcParams['lines.markersize'] ** 1))\n",
        "plt.xlabel(\"% lower status of the population (LSTAT)\", fontsize='xx-small')\n",
        "plt.ylabel(\"House Prices [K]\", fontsize='xx-small')\n",
        "plt.title(\"Relationship between LSTAT and PRICE\", fontsize='xx-small')"
      ],
      "execution_count": null,
      "outputs": [
        {
          "output_type": "execute_result",
          "data": {
            "text/plain": [
              "Text(0.5, 1.0, 'Relationship between LSTAT and PRICE')"
            ]
          },
          "metadata": {
            "tags": []
          },
          "execution_count": 15
        },
        {
          "output_type": "display_data",
          "data": {
            "image/png": "[encoded data removed]",
            "text/plain": [
              "<Figure size 360x216 with 1 Axes>"
            ]
          },
          "metadata": {
            "tags": []
          }
        }
      ]
    },
    {
      "cell_type": "markdown",
      "metadata": {
        "id": "LINNwhvNq2mn"
      },
      "source": [
        "<br>\n",
        "<br>\n",
        "\n",
        "**Response: Nitric Oxides Concentration (NOX) & House Prices (PRICE)** \n",
        "\n",
        "Nitric oxides are used as a [measure of air pollution](https://naei.beis.gov.uk/overview/pollutants?pollutant_id=6). And because studies such as [The True Cost of Air Pollution: Evidence from House Prices and Migration](https://heep.hks.harvard.edu/files/heep/files/dp69_sullivan.pdf) highlight an inverse relationship between pollution and house prices, the Boston data relationship, if any, is of interest.  \n",
        "\n",
        "If there is a relationship between price and nitric oxide concentrations, it is either\n",
        "\n",
        "* a negative non-linear relationship, or\n",
        "* a moderately negative linear relationship\n"
      ]
    },
    {
      "cell_type": "code",
      "metadata": {
        "id": "zbcvABHxqYRO",
        "colab": {
          "base_uri": "https://localhost:8080/",
          "height": 276
        },
        "outputId": "6dee6b2b-175d-4c85-c0b8-2b7304028882"
      },
      "source": [
        "plt.figure(figsize=(5,3))\n",
        "plt.tick_params(axis='both', labelsize='xx-small')\n",
        "plt.scatter(bos.NOX, bos.PRICE, s=(rcParams['lines.markersize'] ** 1))\n",
        "plt.xlabel(\"nitric oxides concentration (parts per 10 million) (NOX)\", fontsize='xx-small')\n",
        "plt.ylabel(\"House Prices [K]\", fontsize='xx-small')\n",
        "plt.title(\"Relationship between NOX and PRICE\", fontsize='xx-small')"
      ],
      "execution_count": null,
      "outputs": [
        {
          "output_type": "execute_result",
          "data": {
            "text/plain": [
              "Text(0.5, 1.0, 'Relationship between NOX and PRICE')"
            ]
          },
          "metadata": {
            "tags": []
          },
          "execution_count": 16
        },
        {
          "output_type": "display_data",
          "data": {
            "image/png": "[encoded data removed]",
            "text/plain": [
              "<Figure size 360x216 with 1 Axes>"
            ]
          },
          "metadata": {
            "tags": []
          }
        }
      ]
    },
    {
      "cell_type": "markdown",
      "metadata": {
        "id": "MYekYPkSspom"
      },
      "source": [
        "<br>\n",
        "<br>\n",
        "\n",
        "**Response: Index of Accessibility to Radial Highways (RAD) & House Prices (PRICE)** \n",
        "\n",
        "The [relationship between accessibility to highways and price is sometimes of interest](https://link.springer.com/article/10.1007/s11116-015-9580-7), depending on how a highway in question serves its proximal cities and towns, and depending on the effects of traffic intensity, air pollution, and noise pollution.  There is no obvious relationship between PRICE & RAD below."
      ]
    },
    {
      "cell_type": "code",
      "metadata": {
        "id": "86LvVSsJpv-k",
        "colab": {
          "base_uri": "https://localhost:8080/",
          "height": 276
        },
        "outputId": "5f119f82-e852-481d-a42c-1e339d3e71bf"
      },
      "source": [
        "plt.figure(figsize=(5,3))\n",
        "plt.tick_params(axis='both', labelsize='xx-small')\n",
        "plt.scatter(bos.RAD, bos.PRICE, s=(rcParams['lines.markersize'] ** 1))\n",
        "plt.xlabel(\"index of accessibility to radial highways (RAD)\", fontsize='xx-small')\n",
        "plt.ylabel(\"House Prices [K]\", fontsize='xx-small')\n",
        "plt.title(\"Relationship between RAD and PRICE\", fontsize='xx-small')"
      ],
      "execution_count": null,
      "outputs": [
        {
          "output_type": "execute_result",
          "data": {
            "text/plain": [
              "Text(0.5, 1.0, 'Relationship between RAD and PRICE')"
            ]
          },
          "metadata": {
            "tags": []
          },
          "execution_count": 17
        },
        {
          "output_type": "display_data",
          "data": {
            "image/png": "[encoded data removed]",
            "text/plain": [
              "<Figure size 360x216 with 1 Axes>"
            ]
          },
          "metadata": {
            "tags": []
          }
        }
      ]
    },
    {
      "cell_type": "markdown",
      "metadata": {
        "id": "fyoGpiYmVuXf"
      },
      "source": [
        "<br>\n",
        "<br>\n",
        "\n",
        "### Scatterplots using Seaborn\n",
        "\n",
        "[Seaborn](https://stanford.edu/~mwaskom/software/seaborn/) is a cool Python plotting library built on top of matplotlib. It provides convenient syntax and shortcuts for many common types of plots, along with better-looking defaults.\n",
        "\n",
        "We can also use [seaborn regplot](https://stanford.edu/~mwaskom/software/seaborn/tutorial/regression.html#functions-to-draw-linear-regression-models) for the scatterplot above. This provides automatic linear regression fits (useful for data exploration later on). Here's one example below."
      ]
    },
    {
      "cell_type": "code",
      "metadata": {
        "id": "mklusbk8VuXg",
        "colab": {
          "base_uri": "https://localhost:8080/",
          "height": 276
        },
        "outputId": "a317abfb-dfae-4c16-8818-52f46ddfd55a"
      },
      "source": [
        "# Edited\n",
        "plt.figure(figsize=(4,3))\n",
        "plt.tick_params(axis='both', labelsize='xx-small')\n",
        "sns.regplot(y=\"PRICE\", x=\"RM\", data=bos, fit_reg = True)\n",
        "plt.title(\"RM & PRICE\", fontsize='xx-small')\n",
        "plt.xlabel(\"# of Rooms per Dwelling (RM)\", fontsize='xx-small')\n",
        "plt.ylabel(\"House Prices [K]\", fontsize='xx-small')"
      ],
      "execution_count": null,
      "outputs": [
        {
          "output_type": "execute_result",
          "data": {
            "text/plain": [
              "Text(0, 0.5, 'House Prices [K]')"
            ]
          },
          "metadata": {
            "tags": []
          },
          "execution_count": 18
        },
        {
          "output_type": "display_data",
          "data": {
            "image/png": "[encoded data removed]",
            "text/plain": [
              "<Figure size 288x216 with 1 Axes>"
            ]
          },
          "metadata": {
            "tags": []
          }
        }
      ]
    },
    {
      "cell_type": "markdown",
      "metadata": {
        "id": "76nA9xNTVuXo"
      },
      "source": [
        "<br>\n",
        "<br>\n",
        "\n",
        "### Histograms"
      ]
    },
    {
      "cell_type": "code",
      "metadata": {
        "id": "qjSDl9x2VuXr",
        "colab": {
          "base_uri": "https://localhost:8080/",
          "height": 258
        },
        "outputId": "6f2302d2-dc9f-4227-b4b3-831474e03fe9"
      },
      "source": [
        "# Edited\n",
        "plt.figure(figsize=(5,3))\n",
        "plt.tick_params(axis='both', labelsize='xx-small')\n",
        "plt.hist(np.log(bos.CRIM))\n",
        "plt.title(\"CRIM\", fontsize='xx-small')\n",
        "plt.xlabel(\"Crime rate per capita (log of)\", fontsize='xx-small')\n",
        "plt.ylabel(\"Frequency\", fontsize='xx-small')\n",
        "plt.show()"
      ],
      "execution_count": null,
      "outputs": [
        {
          "output_type": "display_data",
          "data": {
            "image/png": "[encoded data removed]",
            "text/plain": [
              "<Figure size 360x216 with 1 Axes>"
            ]
          },
          "metadata": {
            "tags": []
          }
        }
      ]
    },
    {
      "cell_type": "markdown",
      "metadata": {
        "id": "OaiE2JsjVuXv"
      },
      "source": [
        "### Part 2 Checkup Exercise Set II\n",
        "\n",
        "<br>\n",
        "\n",
        "<div class=\"span5 alert alert-info\">\n",
        "<p><b>Exercise:</b> In the above histogram, we took the logarithm of the crime rate per capita. Repeat this histogram without taking the log. What was the purpose of taking the log? What do we gain by making this transformation? What do you now notice about this variable that is not obvious without making the transformation?</p>\n",
        "</div>"
      ]
    },
    {
      "cell_type": "markdown",
      "metadata": {
        "id": "3IOw3nXwgkQJ"
      },
      "source": [
        "**Response: Log Transformations**\n",
        "\n",
        "Log transformations make it easier to detect and/or visualise highly skewed data; the other purposes that transformations are considered for are [contentious](https://www.ncbi.nlm.nih.gov/pmc/articles/PMC4120293/).\n",
        "\n",
        "In this instance, the log transformation makes it easier to observe that a large proportion of the crime percentage values are within the [0 1.0) percent range; the truncated scatter plot further below also illustrates this."
      ]
    },
    {
      "cell_type": "code",
      "metadata": {
        "id": "PJXYtQQvVuXw",
        "colab": {
          "base_uri": "https://localhost:8080/",
          "height": 258
        },
        "outputId": "d7a05cde-f92d-49fc-c6b8-19a46ad7c75c"
      },
      "source": [
        "plt.figure(figsize=(5,3))\n",
        "plt.tick_params(axis='both', labelsize='xx-small')\n",
        "plt.hist(bos.CRIM)\n",
        "plt.title(\"CRIM\", fontsize='xx-small')\n",
        "plt.xlabel(\"Crime rate per capita\", fontsize='xx-small')\n",
        "plt.ylabel(\"Frequency\", fontsize='xx-small')\n",
        "plt.show()"
      ],
      "execution_count": null,
      "outputs": [
        {
          "output_type": "display_data",
          "data": {
            "image/png": "[encoded data removed]",
            "text/plain": [
              "<Figure size 360x216 with 1 Axes>"
            ]
          },
          "metadata": {
            "tags": []
          }
        }
      ]
    },
    {
      "cell_type": "code",
      "metadata": {
        "id": "n-gl0b_jlKiD",
        "colab": {
          "base_uri": "https://localhost:8080/",
          "height": 333
        },
        "outputId": "ffc17609-e70e-44d2-a8dd-c92f3ada9083"
      },
      "source": [
        "less_than_one = bos[bos.CRIM < 1]\n",
        "print(f\"The number of records: {len(bos)}\")\n",
        "print(f\"The percentage of records that have a crime per capita value below 1.00%: {100*len(less_than_one)/len(bos):.2f}%\")\n",
        "print(f\" \")\n",
        "plt.figure(figsize=(5,3))\n",
        "plt.tick_params(axis='both', labelsize='xx-small')\n",
        "sns.regplot(y=\"CRIM\", x=\"CRIM\", data=less_than_one, fit_reg = False, x_jitter=.1, y_jitter=.1)\n",
        "plt.title(\"< 1.0% Crime Rate per Capita\", fontsize='xx-small')\n",
        "plt.xlabel(\"Crime rate per capita (CRIM)\", fontsize='xx-small')\n",
        "plt.ylabel(\"Crime rate per capita (CRIM)\", fontsize='xx-small')"
      ],
      "execution_count": null,
      "outputs": [
        {
          "output_type": "stream",
          "text": [
            "The number of records: 506\n",
            "The percentage of records that have a crime per capita value below 1.00%: 65.61%\n",
            " \n"
          ],
          "name": "stdout"
        },
        {
          "output_type": "execute_result",
          "data": {
            "text/plain": [
              "Text(0, 0.5, 'Crime rate per capita (CRIM)')"
            ]
          },
          "metadata": {
            "tags": []
          },
          "execution_count": 21
        },
        {
          "output_type": "display_data",
          "data": {
            "image/png": "[encoded data removed]",
            "text/plain": [
              "<Figure size 360x216 with 1 Axes>"
            ]
          },
          "metadata": {
            "tags": []
          }
        }
      ]
    },
    {
      "cell_type": "markdown",
      "metadata": {
        "id": "WrcVqyyve968"
      },
      "source": [
        "<br>\n",
        "<br>\n",
        "\n",
        "**Exercise:** Plot the histogram for *RM* and *PTRATIO* against each other, along with the two variables you picked in the previous section. We are looking for correlations in predictors here."
      ]
    },
    {
      "cell_type": "markdown",
      "metadata": {
        "id": "I3l5_LeL0YgI"
      },
      "source": [
        "**Response:** Pupil/teacher ratio & average number of rooms per dwelling\n",
        "\n",
        "A correlation is not discernible."
      ]
    },
    {
      "cell_type": "code",
      "metadata": {
        "id": "JNKchxvCx5ul",
        "colab": {
          "base_uri": "https://localhost:8080/",
          "height": 431
        },
        "outputId": "615e2628-c243-49a9-d217-e1cb57d6af60"
      },
      "source": [
        "plt.figure(figsize=(5,3))\n",
        "sns.jointplot(x='RM', y='PTRATIO', data=bos, kind='reg')\n",
        "plt.tick_params(axis='both', labelsize='xx-small')\n",
        "plt.xlabel(\"Avg. # of rooms per dwelling (RM)\", fontsize='xx-small')\n",
        "plt.ylabel(\"Pupil/Teacher Ratio (PTRATIO)\", fontsize='xx-small')"
      ],
      "execution_count": null,
      "outputs": [
        {
          "output_type": "execute_result",
          "data": {
            "text/plain": [
              "Text(-0.75, 0.5, 'Pupil/Teacher Ratio (PTRATIO)')"
            ]
          },
          "metadata": {
            "tags": []
          },
          "execution_count": 22
        },
        {
          "output_type": "display_data",
          "data": {
            "text/plain": [
              "<Figure size 360x216 with 0 Axes>"
            ]
          },
          "metadata": {
            "tags": []
          }
        },
        {
          "output_type": "display_data",
          "data": {
            "image/png": "[encoded data removed]",
            "text/plain": [
              "<Figure size 432x432 with 3 Axes>"
            ]
          },
          "metadata": {
            "tags": []
          }
        }
      ]
    },
    {
      "cell_type": "markdown",
      "metadata": {
        "id": "OXuoOTg51P2x"
      },
      "source": [
        "<br>\n",
        "<br>\n",
        "\n",
        "**Response:** Case average number of rooms per dwelling & % low status population.\n",
        "\n",
        "A non-linear relationship might exist between these two predictors."
      ]
    },
    {
      "cell_type": "code",
      "metadata": {
        "id": "7CTfhKDLn-pG",
        "colab": {
          "base_uri": "https://localhost:8080/",
          "height": 431
        },
        "outputId": "e3835ad1-0014-435a-b3e7-2899b0e9b2b9"
      },
      "source": [
        "plt.figure(figsize=(5,3))\n",
        "sns.jointplot(x='LSTAT', y='RM', data=bos, kind='reg')\n",
        "plt.tick_params(axis='both', labelsize='xx-small')\n",
        "plt.xlabel(\"% low status population (LSTAT)\", fontsize='xx-small')\n",
        "plt.ylabel(\"Avg. # of rooms per dwelling (RM)\", fontsize='xx-small')"
      ],
      "execution_count": null,
      "outputs": [
        {
          "output_type": "execute_result",
          "data": {
            "text/plain": [
              "Text(-0.75, 0.5, 'Avg. # of rooms per dwelling (RM)')"
            ]
          },
          "metadata": {
            "tags": []
          },
          "execution_count": 23
        },
        {
          "output_type": "display_data",
          "data": {
            "text/plain": [
              "<Figure size 360x216 with 0 Axes>"
            ]
          },
          "metadata": {
            "tags": []
          }
        },
        {
          "output_type": "display_data",
          "data": {
            "image/png": "[encoded data removed]",
            "text/plain": [
              "<Figure size 432x432 with 3 Axes>"
            ]
          },
          "metadata": {
            "tags": []
          }
        }
      ]
    },
    {
      "cell_type": "markdown",
      "metadata": {
        "id": "ggereIuEVuX0"
      },
      "source": [
        "<br>\n",
        "<br>\n",
        "\n",
        "## Part 3: Linear Regression with Boston Housing Data Example\n",
        "\n",
        "Here, \n",
        "\n",
        "* $Y$ = boston housing prices (called \"target\" data in python, and referred to as the dependent variable or response variable)\n",
        "\n",
        "and\n",
        "\n",
        "* $X$ = all the other features (or independent variables, predictors or explanatory variables)\n",
        "\n",
        "which we will use to fit a linear regression model and predict Boston housing prices. We will use the least-squares method to estimate the coefficients.  We'll use two ways of fitting a linear regression. We recommend the first but the second is also powerful in its features. "
      ]
    },
    {
      "cell_type": "markdown",
      "metadata": {
        "id": "4X8tVe_9VuX3"
      },
      "source": [
        "<br>\n",
        "<br>\n",
        "\n",
        "### Fitting Linear Regression using `statsmodels`\n",
        "\n",
        "[Statsmodels](http://statsmodels.sourceforge.net/) is a great Python library for a lot of basic and inferential statistics. It also provides basic regression functions using an R-like syntax, so it's commonly used by statisticians. While we don't cover statsmodels officially in the Data Science Intensive workshop, it's a good library to have in your toolbox. Here's a quick example of what you could do with it. The version of least-squares we will use in statsmodels is called *ordinary least-squares (OLS)*. There are many other versions of least-squares such as [partial least squares (PLS)](https://en.wikipedia.org/wiki/Partial_least_squares_regression) and [weighted least squares (WLS)](https://en.wikipedia.org/wiki/Iteratively_reweighted_least_squares)."
      ]
    },
    {
      "cell_type": "code",
      "metadata": {
        "id": "NkHsjHEmVuX4"
      },
      "source": [
        "# Import regression modules\n",
        "import statsmodels.api as sm\n",
        "from statsmodels.stats.outliers_influence import OLSInfluence as olsinf\n",
        "from statsmodels.formula.api import ols"
      ],
      "execution_count": null,
      "outputs": []
    },
    {
      "cell_type": "code",
      "metadata": {
        "id": "97Ier3WzVuX_",
        "colab": {
          "base_uri": "https://localhost:8080/",
          "height": 471
        },
        "outputId": "9ccaa052-11a3-4acc-f675-1be1120746e9"
      },
      "source": [
        "# statsmodels works nicely with pandas dataframes\n",
        "# The thing inside the \"quotes\" is called a formula, a bit on that below\n",
        "m = ols('PRICE ~ RM',bos).fit()\n",
        "print(m.summary())"
      ],
      "execution_count": null,
      "outputs": [
        {
          "output_type": "stream",
          "text": [
            "                            OLS Regression Results                            \n",
            "==============================================================================\n",
            "Dep. Variable:                  PRICE   R-squared:                       0.484\n",
            "Model:                            OLS   Adj. R-squared:                  0.483\n",
            "Method:                 Least Squares   F-statistic:                     471.8\n",
            "Date:                Wed, 27 Nov 2019   Prob (F-statistic):           2.49e-74\n",
            "Time:                        00:58:28   Log-Likelihood:                -1673.1\n",
            "No. Observations:                 506   AIC:                             3350.\n",
            "Df Residuals:                     504   BIC:                             3359.\n",
            "Df Model:                           1                                         \n",
            "Covariance Type:            nonrobust                                         \n",
            "==============================================================================\n",
            "                 coef    std err          t      P>|t|      [0.025      0.975]\n",
            "------------------------------------------------------------------------------\n",
            "Intercept    -34.6706      2.650    -13.084      0.000     -39.877     -29.465\n",
            "RM             9.1021      0.419     21.722      0.000       8.279       9.925\n",
            "==============================================================================\n",
            "Omnibus:                      102.585   Durbin-Watson:                   0.684\n",
            "Prob(Omnibus):                  0.000   Jarque-Bera (JB):              612.449\n",
            "Skew:                           0.726   Prob(JB):                    1.02e-133\n",
            "Kurtosis:                       8.190   Cond. No.                         58.4\n",
            "==============================================================================\n",
            "\n",
            "Warnings:\n",
            "[1] Standard Errors assume that the covariance matrix of the errors is correctly specified.\n"
          ],
          "name": "stdout"
        }
      ]
    },
    {
      "cell_type": "markdown",
      "metadata": {
        "id": "pZCIeSt0VuYK"
      },
      "source": [
        "<br>\n",
        "<br>\n",
        "\n",
        "#### Interpreting coefficients\n",
        "\n",
        "There is a ton of information in this output. But we'll concentrate on the coefficient table (middle table). We can interpret the `RM` coefficient (9.1021) by first noticing that the p-value (under `P>|t|`) is so small, basically zero. This means that the number of rooms, `RM`, is a statisticall significant predictor of `PRICE`. The regression coefficient for `RM` of 9.1021 means that *on average, each additional room is associated with an increase of $\\$9,100$ in house price net of the other variables*. The confidence interval gives us a range of plausible values for this average change, about ($\\$8,279, \\$9,925$), definitely not chump change. \n",
        "\n",
        "In general, the $\\hat{\\beta_i}, i > 0$ can be interpreted as the following: \"A one unit increase in $x_i$ is associated with, on average, a $\\hat{\\beta_i}$ increase/decrease in $y$ net of all other variables.\"\n",
        "\n",
        "On the other hand, the interpretation for the intercept, $\\hat{\\beta}_0$ is the average of $y$ given that all of the independent variables $x_i$ are 0."
      ]
    },
    {
      "cell_type": "markdown",
      "metadata": {
        "id": "vOQhC25VVuYN"
      },
      "source": [
        "<br>\n",
        "<br>\n",
        "\n",
        "####  `statsmodels` formulas\n",
        "\n",
        "This formula notation will seem familiar to `R` users, but will take some getting used to for people coming from other languages or are new to statistics.\n",
        "\n",
        "The formula gives instruction for a general structure for a regression call. For `statsmodels` (`ols` or `logit`) calls you need to have a Pandas dataframe with column names that you will add to your formula. In the below example you need a pandas data frame that includes the columns named (`Outcome`, `X1`,`X2`, ...), but you don't need to build a new dataframe for every regression. Use the same dataframe with all these things in it. The structure is very simple:\n",
        "\n",
        "`Outcome ~ X1`\n",
        "\n",
        "But of course we want to to be able to handle more complex models, for example multiple regression is doone like this:\n",
        "\n",
        "`Outcome ~ X1 + X2 + X3`\n",
        "\n",
        "In general, a formula for an OLS multiple linear regression is\n",
        "\n",
        "`Y ~ X1 + X2 + ... + Xp`\n",
        "\n",
        "This is the very basic structure but it should be enough to get you through the homework. Things can get much more complex. You can force statsmodels to treat variables as categorical with the `C()` function, call numpy functions to transform data such as `np.log` for extremely-skewed data, or fit a model without an intercept by including `- 1` in the formula. For a quick run-down of further uses see the `statsmodels` [help page](http://statsmodels.sourceforge.net/devel/example_formulas.html).\n"
      ]
    },
    {
      "cell_type": "markdown",
      "metadata": {
        "id": "Af4qzH-xVuYO"
      },
      "source": [
        "Let's see how our model actually fit our data. We can see below that there is a ceiling effect, we should probably look into that. Also, for large values of $Y$ we get underpredictions, most predictions are below the 45-degree gridlines. "
      ]
    },
    {
      "cell_type": "markdown",
      "metadata": {
        "id": "AgNzhkcMVuYO"
      },
      "source": [
        "### Part 3 Checkup Exercise Set I\n",
        "\n",
        "<br>\n",
        "\n",
        "<div class=\"span5 alert alert-info\">\n",
        "<p><b>Exercise:</b> Create a scatterplot between the predicted prices, available in `m.fittedvalues` (where `m` is the fitted model) and the original prices. How does the plot look? Do you notice anything interesting or weird in the plot? Comment on what you see.</p>\n",
        "</div>"
      ]
    },
    {
      "cell_type": "markdown",
      "metadata": {
        "id": "2HDOtX7AlQqq"
      },
      "source": [
        "**Response**\n",
        "\n",
        "The graph is more or less a mirror image of the **house prices against number of rooms per dwelling** scatter plot; it also mimics the outliers. \n",
        "\n",
        "The illustrated relationship does not reflect what we expect if there is a linear relationship between RM & price, or if RM is a sole predictor of price; we expect points scattered closely along the 45 degree line."
      ]
    },
    {
      "cell_type": "code",
      "metadata": {
        "id": "5kA8Ky8lVuYR",
        "colab": {
          "base_uri": "https://localhost:8080/",
          "height": 276
        },
        "outputId": "5aaa25f2-dd44-4120-8320-c99e62ef88a3"
      },
      "source": [
        "# your turn\n",
        "plt.figure(figsize=(4,3))\n",
        "plt.tick_params(axis='both', labelsize='xx-small')\n",
        "sns.regplot(x=m.fittedvalues, y=bos['PRICE'], scatter=True, fit_reg = True)\n",
        "plt.title(\"Original & Predicted House Prices\", fontsize='xx-small')\n",
        "plt.xlabel(\"Predicted [K]\", fontsize='xx-small')\n",
        "plt.ylabel(\"Original [K]\", fontsize='xx-small')"
      ],
      "execution_count": null,
      "outputs": [
        {
          "output_type": "execute_result",
          "data": {
            "text/plain": [
              "Text(0, 0.5, 'Original [K]')"
            ]
          },
          "metadata": {
            "tags": []
          },
          "execution_count": 26
        },
        {
          "output_type": "display_data",
          "data": {
            "image/png": "[encoded data removed]",
            "text/plain": [
              "<Figure size 288x216 with 1 Axes>"
            ]
          },
          "metadata": {
            "tags": []
          }
        }
      ]
    },
    {
      "cell_type": "markdown",
      "metadata": {
        "id": "d_bd17-5VuYU"
      },
      "source": [
        "<br>\n",
        "<br>\n",
        "\n",
        "### Fitting Linear Regression using `sklearn`\n"
      ]
    },
    {
      "cell_type": "code",
      "metadata": {
        "id": "4BYHh9UVVuYV",
        "colab": {
          "base_uri": "https://localhost:8080/",
          "height": 35
        },
        "outputId": "ea529255-d50b-4d89-f7e7-3f4734414624"
      },
      "source": [
        "from sklearn.linear_model import LinearRegression\n",
        "X = bos.drop('PRICE', axis = 1)\n",
        "\n",
        "# This creates a LinearRegression object\n",
        "lm = LinearRegression()\n",
        "lm"
      ],
      "execution_count": null,
      "outputs": [
        {
          "output_type": "execute_result",
          "data": {
            "text/plain": [
              "LinearRegression(copy_X=True, fit_intercept=True, n_jobs=None, normalize=False)"
            ]
          },
          "metadata": {
            "tags": []
          },
          "execution_count": 27
        }
      ]
    },
    {
      "cell_type": "markdown",
      "metadata": {
        "id": "Jmrr3y2RVuYY"
      },
      "source": [
        "<br>\n",
        "\n",
        "#### What can you do with a LinearRegression object? \n",
        "\n",
        "Check out the scikit-learn [docs here](http://scikit-learn.org/stable/modules/generated/sklearn.linear_model.LinearRegression.html). We have listed the main functions here. Most machine learning models in scikit-learn follow this same API of fitting a model with `fit`, making predictions with `predict` and the appropriate scoring function `score` for each model."
      ]
    },
    {
      "cell_type": "markdown",
      "metadata": {
        "id": "uNMexOl_VuYZ"
      },
      "source": [
        "Main functions | Description\n",
        "--- | --- \n",
        "`lm.fit()` | Fit a linear model\n",
        "`lm.predict()` | Predict Y using the linear model with estimated coefficients\n",
        "`lm.score()` | Returns the coefficient of determination (R^2). *A measure of how well observed outcomes are replicated by the model, as the proportion of total variation of outcomes explained by the model*"
      ]
    },
    {
      "cell_type": "markdown",
      "metadata": {
        "id": "CqySbYFLVuYa"
      },
      "source": [
        "<br>\n",
        "\n",
        "#### What output can you get?"
      ]
    },
    {
      "cell_type": "code",
      "metadata": {
        "id": "jMz-N8SeVuYb"
      },
      "source": [
        "# Look inside lm object\n",
        "# lm"
      ],
      "execution_count": null,
      "outputs": []
    },
    {
      "cell_type": "markdown",
      "metadata": {
        "id": "8PLLWe86VuYf"
      },
      "source": [
        "Output | Description\n",
        "--- | --- \n",
        "`lm.coef_` | Estimated coefficients\n",
        "`lm.intercept_` | Estimated intercept "
      ]
    },
    {
      "cell_type": "markdown",
      "metadata": {
        "id": "4t1ZDYO2VuYf"
      },
      "source": [
        "<br>\n",
        "<br>\n",
        "\n",
        "### Fit a linear model\n",
        "\n",
        "The `lm.fit()` function estimates the coefficients the linear regression using least squares. "
      ]
    },
    {
      "cell_type": "code",
      "metadata": {
        "id": "IBUkfcOaVuYg",
        "colab": {
          "base_uri": "https://localhost:8080/",
          "height": 35
        },
        "outputId": "60fd80d3-e3be-466d-bdbd-4a405768c88f"
      },
      "source": [
        "# Use all 13 predictors to fit linear regression model\n",
        "lm.fit(X, bos.PRICE)"
      ],
      "execution_count": null,
      "outputs": [
        {
          "output_type": "execute_result",
          "data": {
            "text/plain": [
              "LinearRegression(copy_X=True, fit_intercept=True, n_jobs=None, normalize=False)"
            ]
          },
          "metadata": {
            "tags": []
          },
          "execution_count": 29
        }
      ]
    },
    {
      "cell_type": "markdown",
      "metadata": {
        "id": "3wfJDroUVuYk"
      },
      "source": [
        "<br>\n",
        "<br>\n",
        "\n",
        "### Part 3 Checkup Exercise Set II\n",
        "\n",
        "<br>\n",
        "\n",
        "<p><b>Exercise:</b> How would you change the model to not fit an intercept term? Would you recommend not having an intercept? Why or why not? For more information on why to include or exclude an intercept, look [here](https://stats.idre.ucla.edu/other/mult-pkg/faq/general/faq-what-is-regression-through-the-origin/).</p>\n",
        "\n",
        "**Response**\n",
        "\n",
        "To disable intercept fitting, the expression\n",
        "\n",
        "\n",
        "```python\n",
        "lm = LinearRegression()\n",
        "```\n",
        "\n",
        "should be replaced with\n",
        "\n",
        "```python\n",
        "lm = LinearRegression(fit_intercept=False)\n",
        "```\n",
        "\n",
        "In this case, an intercept is recommended because a house might still exists when the value of each feature is zero.  It seems implausible, but sometimes there are collections of empty dwellings within a desolate area of a city or town.\n"
      ]
    },
    {
      "cell_type": "markdown",
      "metadata": {
        "id": "mbpe2WMT0CPx"
      },
      "source": [
        "<br>\n",
        "<br>\n",
        "\n",
        "<p><b>Exercise:</b> One of the assumptions of the linear model is that the residuals must be i.i.d. (independently and identically distributed). To satisfy this, is it enough that the residuals are normally distributed? Explain your answer.</p>\n",
        "\n",
        "**Response**\n",
        "\n",
        "No.  In addition to being normally distributed, the residuals must\n",
        "\n",
        "* have constant variance.  This can be tested via a graph of residuals against predictions; constant variance is denoted by a patternless graph.\n",
        "\n",
        "* be independent.  The residuals must neither be related nor should they exhibit a trend over time and/or data order. These can be tested via run-sequence and lag plots. \n"
      ]
    },
    {
      "cell_type": "markdown",
      "metadata": {
        "id": "ZWAdgPBbp3vk"
      },
      "source": [
        "<br>\n",
        "<br>\n",
        "\n",
        "<p><b>Exercise:</b> True or false. To use linear regression, $Y$ must be normally distributed. Explain your answer.</p>\n",
        "\n",
        "**Response**\n",
        "\n",
        "False.  It is the residuals that should be normally distributed."
      ]
    },
    {
      "cell_type": "markdown",
      "metadata": {
        "id": "BNXV8MpsVuYo"
      },
      "source": [
        "<br>\n",
        "<br>\n",
        "\n",
        "### Estimated intercept and coefficients\n",
        "\n",
        "Let's look at the estimated coefficients from the linear model using `1m.intercept_` and `lm.coef_`.  \n",
        "\n",
        "After we have fit our linear regression model using the least squares method, we want to see what are the estimates of our coefficients $\\beta_0$, $\\beta_1$, ..., $\\beta_{13}$: \n",
        "\n",
        "$$ \\hat{\\beta}_0, \\hat{\\beta}_1, \\ldots, \\hat{\\beta}_{13} $$\n",
        "\n"
      ]
    },
    {
      "cell_type": "code",
      "metadata": {
        "id": "NsfiijBtVuYp",
        "colab": {
          "base_uri": "https://localhost:8080/",
          "height": 35
        },
        "outputId": "f2aea06f-374b-4e4b-b8d1-76246a892f08"
      },
      "source": [
        "print('Estimated intercept coefficient: {}'.format(lm.intercept_))"
      ],
      "execution_count": null,
      "outputs": [
        {
          "output_type": "stream",
          "text": [
            "Estimated intercept coefficient: 36.45948838508978\n"
          ],
          "name": "stdout"
        }
      ]
    },
    {
      "cell_type": "code",
      "metadata": {
        "id": "nuKWX_lyVuYs",
        "colab": {
          "base_uri": "https://localhost:8080/",
          "height": 35
        },
        "outputId": "e863e321-e628-469e-830c-720346a04158"
      },
      "source": [
        "print('Number of coefficients: {}'.format(len(lm.coef_)))"
      ],
      "execution_count": null,
      "outputs": [
        {
          "output_type": "stream",
          "text": [
            "Number of coefficients: 13\n"
          ],
          "name": "stdout"
        }
      ]
    },
    {
      "cell_type": "code",
      "metadata": {
        "id": "mjc6tn6OVuYw",
        "colab": {
          "base_uri": "https://localhost:8080/",
          "height": 457
        },
        "outputId": "92b8355d-1cce-48e1-8458-be54668529a6"
      },
      "source": [
        "# The coefficients\n",
        "pd.DataFrame({'features': X.columns, 'estimatedCoefficients': lm.coef_})[['features', 'estimatedCoefficients']]"
      ],
      "execution_count": null,
      "outputs": [
        {
          "output_type": "execute_result",
          "data": {
            "text/html": [
              "<div>\n",
              "<style scoped>\n",
              "    .dataframe tbody tr th:only-of-type {\n",
              "        vertical-align: middle;\n",
              "    }\n",
              "\n",
              "    .dataframe tbody tr th {\n",
              "        vertical-align: top;\n",
              "    }\n",
              "\n",
              "    .dataframe thead th {\n",
              "        text-align: right;\n",
              "    }\n",
              "</style>\n",
              "<table border=\"1\" class=\"dataframe\">\n",
              "  <thead>\n",
              "    <tr style=\"text-align: right;\">\n",
              "      <th></th>\n",
              "      <th>features</th>\n",
              "      <th>estimatedCoefficients</th>\n",
              "    </tr>\n",
              "  </thead>\n",
              "  <tbody>\n",
              "    <tr>\n",
              "      <th>0</th>\n",
              "      <td>CRIM</td>\n",
              "      <td>-0.108011</td>\n",
              "    </tr>\n",
              "    <tr>\n",
              "      <th>1</th>\n",
              "      <td>ZN</td>\n",
              "      <td>0.046420</td>\n",
              "    </tr>\n",
              "    <tr>\n",
              "      <th>2</th>\n",
              "      <td>INDUS</td>\n",
              "      <td>0.020559</td>\n",
              "    </tr>\n",
              "    <tr>\n",
              "      <th>3</th>\n",
              "      <td>CHAS</td>\n",
              "      <td>2.686734</td>\n",
              "    </tr>\n",
              "    <tr>\n",
              "      <th>4</th>\n",
              "      <td>NOX</td>\n",
              "      <td>-17.766611</td>\n",
              "    </tr>\n",
              "    <tr>\n",
              "      <th>5</th>\n",
              "      <td>RM</td>\n",
              "      <td>3.809865</td>\n",
              "    </tr>\n",
              "    <tr>\n",
              "      <th>6</th>\n",
              "      <td>AGE</td>\n",
              "      <td>0.000692</td>\n",
              "    </tr>\n",
              "    <tr>\n",
              "      <th>7</th>\n",
              "      <td>DIS</td>\n",
              "      <td>-1.475567</td>\n",
              "    </tr>\n",
              "    <tr>\n",
              "      <th>8</th>\n",
              "      <td>RAD</td>\n",
              "      <td>0.306049</td>\n",
              "    </tr>\n",
              "    <tr>\n",
              "      <th>9</th>\n",
              "      <td>TAX</td>\n",
              "      <td>-0.012335</td>\n",
              "    </tr>\n",
              "    <tr>\n",
              "      <th>10</th>\n",
              "      <td>PTRATIO</td>\n",
              "      <td>-0.952747</td>\n",
              "    </tr>\n",
              "    <tr>\n",
              "      <th>11</th>\n",
              "      <td>B</td>\n",
              "      <td>0.009312</td>\n",
              "    </tr>\n",
              "    <tr>\n",
              "      <th>12</th>\n",
              "      <td>LSTAT</td>\n",
              "      <td>-0.524758</td>\n",
              "    </tr>\n",
              "  </tbody>\n",
              "</table>\n",
              "</div>"
            ],
            "text/plain": [
              "   features  estimatedCoefficients\n",
              "0      CRIM              -0.108011\n",
              "1        ZN               0.046420\n",
              "2     INDUS               0.020559\n",
              "3      CHAS               2.686734\n",
              "4       NOX             -17.766611\n",
              "5        RM               3.809865\n",
              "6       AGE               0.000692\n",
              "7       DIS              -1.475567\n",
              "8       RAD               0.306049\n",
              "9       TAX              -0.012335\n",
              "10  PTRATIO              -0.952747\n",
              "11        B               0.009312\n",
              "12    LSTAT              -0.524758"
            ]
          },
          "metadata": {
            "tags": []
          },
          "execution_count": 32
        }
      ]
    },
    {
      "cell_type": "markdown",
      "metadata": {
        "id": "XqDKPdE5VuYz"
      },
      "source": [
        "<br>\n",
        "<br>\n",
        "\n",
        "### Predict Prices \n",
        "\n",
        "We can calculate the predicted prices ($\\hat{Y}_i$) using `lm.predict`. \n",
        "\n",
        "$$ \\hat{Y}_i = \\hat{\\beta}_0 + \\hat{\\beta}_1 X_1 + \\ldots \\hat{\\beta}_{13} X_{13} $$"
      ]
    },
    {
      "cell_type": "code",
      "metadata": {
        "id": "pr_Ou5f_VuY1",
        "colab": {
          "base_uri": "https://localhost:8080/",
          "height": 35
        },
        "outputId": "ee721056-2723-4ebb-f709-0f97c71a0b7d"
      },
      "source": [
        "# first five predicted prices\n",
        "lm.predict(X)[0:5]"
      ],
      "execution_count": null,
      "outputs": [
        {
          "output_type": "execute_result",
          "data": {
            "text/plain": [
              "array([30.00384338, 25.02556238, 30.56759672, 28.60703649, 27.94352423])"
            ]
          },
          "metadata": {
            "tags": []
          },
          "execution_count": 33
        }
      ]
    },
    {
      "cell_type": "markdown",
      "metadata": {
        "id": "wkZIsltiVuY4"
      },
      "source": [
        "<br>\n",
        "<br>\n",
        "\n",
        "### Part 3 Checkup Exercise Set III\n",
        "\n",
        "<br>\n",
        "\n",
        "<p><b>Exercise:</b> Histogram: Plot a histogram of all the predicted prices. Write a story about what you see. Describe the shape, center and spread of the distribution. Are there any outliers? What might be the reason for them? Should we do anything special with them?</p>"
      ]
    },
    {
      "cell_type": "markdown",
      "metadata": {
        "id": "KP4ym4k7pLRn"
      },
      "source": [
        "**Response**\n",
        "\n",
        "The resulting distribution is normally distributed; the probability plot further below supports this observation.  It is centred around 22.533.  This is similar to the mean of the original prices; also ```22.533```.  However, the standard deviation of the predicted values, ```7.91```, differs from the standard deviation of the original prices ```9.197```.  The histograms plot further below illustrates the different spreads of the predicted & original values distributions.\n",
        "\n",
        "<br>\n",
        "\n",
        "The histograms plot also illustrates the aforementioned ceiling effect.  The maximum predicted value is ```44.666```.  In general, original values in the [45 50] price range have been under-estimated, and values at the lower end have also been under-estimated.  The histograms plot suggests potential outliers at the low price and high price ends.  This might be due to data collection errors or unknown affecting predictors."
      ]
    },
    {
      "cell_type": "code",
      "metadata": {
        "id": "8b-ogV5Q-PQk",
        "colab": {
          "base_uri": "https://localhost:8080/",
          "height": 55
        },
        "outputId": "51981680-e2fe-4974-db1a-8b906428db46"
      },
      "source": [
        "predicted_prices_stats = stats.describe(lm.predict(X))\n",
        "predicted_prices_stats"
      ],
      "execution_count": null,
      "outputs": [
        {
          "output_type": "execute_result",
          "data": {
            "text/plain": [
              "DescribeResult(nobs=506, minmax=(-4.281310709184886, 44.67308338731267), mean=22.53280632411068, variance=62.648536311018326, skewness=0.11071842432057807, kurtosis=0.10343116979617273)"
            ]
          },
          "metadata": {
            "tags": []
          },
          "execution_count": 34
        }
      ]
    },
    {
      "cell_type": "code",
      "metadata": {
        "id": "sY8yCmA7-cQX",
        "colab": {
          "base_uri": "https://localhost:8080/",
          "height": 35
        },
        "outputId": "4113f578-1afa-49d9-f787-93f50689d0eb"
      },
      "source": [
        "lm.predict(X).std()"
      ],
      "execution_count": null,
      "outputs": [
        {
          "output_type": "execute_result",
          "data": {
            "text/plain": [
              "7.90725774048344"
            ]
          },
          "metadata": {
            "tags": []
          },
          "execution_count": 35
        }
      ]
    },
    {
      "cell_type": "code",
      "metadata": {
        "id": "aXlM_RiRVuY5",
        "colab": {
          "base_uri": "https://localhost:8080/",
          "height": 258
        },
        "outputId": "546f031e-954d-4107-b428-ea8ba636f87e"
      },
      "source": [
        "# your turn\n",
        "plt.figure(figsize=(5,3))\n",
        "plt.tick_params(axis='both', labelsize='xx-small')\n",
        "plt.hist(lm.predict(X))\n",
        "plt.title(\"Predicted Prices\", fontsize='xx-small')\n",
        "plt.xlabel(\"Bins of Predicted Prices [K]\", fontsize='xx-small')\n",
        "plt.ylabel(\"Tally\", fontsize='xx-small')\n",
        "plt.show()"
      ],
      "execution_count": null,
      "outputs": [
        {
          "output_type": "display_data",
          "data": {
            "image/png": "[encoded data removed]",
            "text/plain": [
              "<Figure size 360x216 with 1 Axes>"
            ]
          },
          "metadata": {
            "tags": []
          }
        }
      ]
    },
    {
      "cell_type": "code",
      "metadata": {
        "id": "iNjive3XqKMz",
        "colab": {
          "base_uri": "https://localhost:8080/",
          "height": 276
        },
        "outputId": "c7f9f5f0-81ae-4cac-90c3-1cee9b75a94a"
      },
      "source": [
        "plt.figure(figsize=(4.5,3))\n",
        "plt.tick_params(axis='both', labelsize='xx-small')\n",
        "stats.probplot(lm.predict(X), dist='norm', fit=True, plot=plt)\n",
        "plt.title(\"Probability Plot\", fontsize='xx-small')\n",
        "plt.xlabel(\"Theoretical Quantiles\", fontsize='xx-small')\n",
        "plt.ylabel(\"Ordered Values\", fontsize='xx-small')\n",
        "plt.show"
      ],
      "execution_count": null,
      "outputs": [
        {
          "output_type": "execute_result",
          "data": {
            "text/plain": [
              "<function matplotlib.pyplot.show>"
            ]
          },
          "metadata": {
            "tags": []
          },
          "execution_count": 37
        },
        {
          "output_type": "display_data",
          "data": {
            "image/png": "[encoded data removed]",
            "text/plain": [
              "<Figure size 324x216 with 1 Axes>"
            ]
          },
          "metadata": {
            "tags": []
          }
        }
      ]
    },
    {
      "cell_type": "code",
      "metadata": {
        "id": "hXK__ECUoVR5",
        "colab": {
          "base_uri": "https://localhost:8080/",
          "height": 259
        },
        "outputId": "7e610952-a24f-4759-b5ae-fea8fb213515"
      },
      "source": [
        "plt.figure(figsize=(5,3))\n",
        "plt.tick_params(axis='both', labelsize='xx-small')\n",
        "sns.distplot(lm.predict(X), bins=9,  kde=False, label='predicted')\n",
        "sns.distplot(bos['PRICE'], bins=9,  kde=False, label='original')\n",
        "plt.xlabel(\"bins of prices [K]\", fontsize='xx-small')\n",
        "plt.ylabel(\"tally\", fontsize='xx-small')\n",
        "plt.legend(loc='upper right', fontsize='xx-small', frameon=False)"
      ],
      "execution_count": null,
      "outputs": [
        {
          "output_type": "execute_result",
          "data": {
            "text/plain": [
              "<matplotlib.legend.Legend at 0x7f796e3337b8>"
            ]
          },
          "metadata": {
            "tags": []
          },
          "execution_count": 38
        },
        {
          "output_type": "display_data",
          "data": {
            "image/png": "[encoded data removed]",
            "text/plain": [
              "<Figure size 360x216 with 1 Axes>"
            ]
          },
          "metadata": {
            "tags": []
          }
        }
      ]
    },
    {
      "cell_type": "markdown",
      "metadata": {
        "id": "jfYv5I6rgIWx"
      },
      "source": [
        "<br>\n",
        "<br>\n",
        "\n",
        "<p><b>Exercise:</b> Scatterplot: Let's plot the true prices compared to the predicted prices to see they disagree (we did this with `statsmodels` before).</p>"
      ]
    },
    {
      "cell_type": "markdown",
      "metadata": {
        "id": "hNWrtizk-24Q"
      },
      "source": [
        "**Response**"
      ]
    },
    {
      "cell_type": "code",
      "metadata": {
        "id": "U9PlBpUvCKyB",
        "colab": {
          "base_uri": "https://localhost:8080/",
          "height": 276
        },
        "outputId": "d347c13f-6a61-4b71-eef3-893282f7d20f"
      },
      "source": [
        "plt.figure(figsize=(4,3))\n",
        "plt.tick_params(axis='both', labelsize='xx-small')\n",
        "sns.regplot(x=lm.predict(X), y=bos['PRICE'], scatter=True, fit_reg = True)\n",
        "plt.title(\"Original & Predicted House Prices\", fontsize='xx-small')\n",
        "plt.xlabel(\"predicted\", fontsize='xx-small')\n",
        "plt.ylabel(\"original\", fontsize='xx-small')"
      ],
      "execution_count": null,
      "outputs": [
        {
          "output_type": "execute_result",
          "data": {
            "text/plain": [
              "Text(0, 0.5, 'original')"
            ]
          },
          "metadata": {
            "tags": []
          },
          "execution_count": 39
        },
        {
          "output_type": "display_data",
          "data": {
            "image/png": "[encoded data removed]",
            "text/plain": [
              "<Figure size 288x216 with 1 Axes>"
            ]
          },
          "metadata": {
            "tags": []
          }
        }
      ]
    },
    {
      "cell_type": "markdown",
      "metadata": {
        "id": "W_poHp7_CARB"
      },
      "source": [
        "<br>\n",
        "<br>\n",
        "\n",
        "**Exercise:** We have looked at fitting a linear model in both `statsmodels` and `scikit-learn`. What are the advantages and disadvantages of each based on your exploration? Based on the information provided by both packages, what advantage does `statsmodels` provide?\n",
        "\n",
        "**Response**\n",
        "\n",
        "* statsmodels: Provides quite a wide range of statistical measures, e.g., $R^{2}$, Adjusted $R^{2}$, F-Statistic, the F-Statistic *p-value*, the standard error of each estimated coefficient, the statistical significance of a predictor, etc.\n",
        "\n",
        "* scikit-learn: It does not provide most of the statistics provided by statsmodel; the $R^{2}$ value can be evaluated via ```LinearRegression.score(self, X, y[, sample_weight])```.   However, it does provide the rank of the data matrix and its singular values, these are important tools for assessing the independence of predictors or for identify multicollinearity."
      ]
    },
    {
      "cell_type": "markdown",
      "metadata": {
        "id": "UkyZuBYhVuY9"
      },
      "source": [
        "<br>\n",
        "<br>\n",
        "\n",
        "### Evaluating the Model: Sum-of-Squares\n",
        "\n",
        "The partitioning of the sum-of-squares shows the variance in the predictions explained by the model and the variance that is attributed to error.\n",
        "\n",
        "$$TSS = ESS + RSS$$\n",
        "\n",
        "#### Residual Sum-of-Squares (aka $RSS$)\n",
        "\n",
        "The residual sum-of-squares is one of the basic ways of quantifying how much error exists in the fitted model. We will revisit this in a bit.\n",
        "\n",
        "$$ RSS = \\sum_{i=1}^N r_i^2 = \\sum_{i=1}^N \\left(y_i - \\left(\\beta_0 + \\beta_1 x_i\\right)\\right)^2 $$"
      ]
    },
    {
      "cell_type": "code",
      "metadata": {
        "id": "9GhqKDZoVuY-",
        "colab": {
          "base_uri": "https://localhost:8080/",
          "height": 35
        },
        "outputId": "0390941d-e99e-45ae-fa4f-91540ed41574"
      },
      "source": [
        "print(np.sum((bos.PRICE - lm.predict(X)) ** 2))"
      ],
      "execution_count": null,
      "outputs": [
        {
          "output_type": "stream",
          "text": [
            "11078.784577954977\n"
          ],
          "name": "stdout"
        }
      ]
    },
    {
      "cell_type": "markdown",
      "metadata": {
        "id": "dkhGzsvkVuZB"
      },
      "source": [
        "<br>\n",
        "<br>\n",
        "\n",
        "### Explained Sum-of-Squares (aka $ESS$)\n",
        "\n",
        "The explained sum-of-squares measures the variance explained by the regression model.\n",
        "\n",
        "$$ESS = \\sum_{i=1}^N \\left( \\hat{y}_i - \\bar{y} \\right)^2 = \\sum_{i=1}^N \\left( \\left( \\hat{\\beta}_0 + \\hat{\\beta}_1 x_i \\right) - \\bar{y} \\right)^2$$"
      ]
    },
    {
      "cell_type": "code",
      "metadata": {
        "id": "iZ2PB29bVuZD",
        "colab": {
          "base_uri": "https://localhost:8080/",
          "height": 35
        },
        "outputId": "7d54abb9-c081-4e4e-c96b-ffd92d063fbe"
      },
      "source": [
        "print(np.sum((lm.predict(X) - np.mean(bos.PRICE))**2))"
      ],
      "execution_count": null,
      "outputs": [
        {
          "output_type": "stream",
          "text": [
            "31637.510837064256\n"
          ],
          "name": "stdout"
        }
      ]
    },
    {
      "cell_type": "markdown",
      "metadata": {
        "id": "NCx6wdqjVuZG"
      },
      "source": [
        "<br>\n",
        "<br>\n",
        "\n",
        "### Evaluating the Model: The Coefficient of Determination ($R^2$)\n",
        "\n",
        "The coefficient of determination, $R^2$, tells us the percentage of the variance in the response variable $Y$ that can be explained by the linear regression model.\n",
        "\n",
        "$$ R^2 = \\frac{ESS}{TSS} $$\n",
        "\n",
        "The $R^2$ value is one of the most common metrics that people use in describing the quality of a model, but it is important to note that *$R^2$ increases artificially as a side-effect of increasing the number of independent variables.* While $R^2$ is reported in almost all statistical packages, another metric called the *adjusted $R^2$* is also provided as it takes into account the number of variables in the model, and can sometimes even be used for non-linear regression models!\n",
        "\n",
        "$$R_{adj}^2 = 1 - \\left( 1 - R^2 \\right) \\frac{N - 1}{N - K - 1} = R^2 - \\left( 1 - R^2 \\right) \\frac{K}{N - K - 1} = 1 - \\frac{\\frac{RSS}{DF_R}}{\\frac{TSS}{DF_T}}$$\n",
        "\n",
        "where $N$ is the number of observations, $K$ is the number of variables, $DF_R = N - K - 1$ is the degrees of freedom associated with the residual error and $DF_T = N - 1$ is the degrees of the freedom of the total error."
      ]
    },
    {
      "cell_type": "markdown",
      "metadata": {
        "id": "Kh_nVRFTVuZI"
      },
      "source": [
        "<br>\n",
        "<br>\n",
        "\n",
        "### Evaluating the Model: Mean Squared Error and the $F$-Statistic\n",
        "\n",
        "The mean squared errors are just the *averages* of the sum-of-squares errors over their respective degrees of freedom.\n",
        "\n",
        "$$MSR = \\frac{ESS}{K}$$\n",
        "\n",
        "$$MSE = \\frac{RSS}{N-K-1}$$\n",
        "\n",
        "**Remember:** Notation may vary across resources particularly the use of *R* and *E* in *RSS/ESS* and *MSR/MSE*. In some resources, E = explained and R = residual. In other resources, E = error and R = regression (explained). **This is a very important distinction that requires looking at the formula to determine which naming scheme is being used.**\n",
        "\n",
        "Given the MSR and MSE, we can now determine whether or not the entire model we just fit is even statistically significant. We use an $F$-test for this. The null hypothesis is that all of the $\\beta$ coefficients are zero, that is, none of them have any effect on $Y$. The alternative is that *at least one* $\\beta$ coefficient is nonzero, but it doesn't tell us which one in a multiple regression:\n",
        "\n",
        "$$H_0: \\beta_i = 0, \\mbox{for all $i$} \\\\\n",
        "H_A: \\beta_i > 0, \\mbox{for some $i$}$$ \n",
        "\n",
        "$$F = \\frac{MSR}{MSE} = \\left( \\frac{R^2}{1 - R^2} \\right) \\left( \\frac{N - K - 1}{K} \\right)$$\n",
        " \n",
        "Once we compute the $F$-statistic, we can use the $F$-distribution with $N-K$ and $K-1$ degrees of degrees of freedom to get a p-value.\n",
        "\n",
        "**Warning!** The $F$-statistic mentioned in this section is NOT the same as the F1-measure or F1-value discused in Unit 7."
      ]
    },
    {
      "cell_type": "markdown",
      "metadata": {
        "id": "GuQzPd1eVuZJ"
      },
      "source": [
        "<br>\n",
        "<br>\n",
        "\n",
        "### Part 3 Checkup Exercise Set IV\n",
        "\n",
        "Let's look at the relationship between `PTRATIO` and housing price.\n",
        "\n",
        "* **Exercise:** Try fitting a linear regression model using only the 'PTRATIO' (pupil-teacher ratio by town) and interpret the intercept and the coefficients.\n",
        "\n",
        "* **Exercise:** Calculate (or extract) the $R^2$ value. What does it tell you?\n",
        "\n",
        "* **Exercise:** Compute the $F$-statistic. What does it tell you?\n",
        "\n",
        "* **Exercise:** Take a close look at the $F$-statistic and the $t$-statistic for the regression coefficient. What relationship do you notice? Note that this relationship only applies in *simple* linear regression models."
      ]
    },
    {
      "cell_type": "markdown",
      "metadata": {
        "id": "Al9m4K57MS2x"
      },
      "source": [
        "<br>\n",
        "<br>\n",
        "\n",
        "**Preliminaries**\n",
        "\n",
        "Calculations via statsmodel"
      ]
    },
    {
      "cell_type": "code",
      "metadata": {
        "id": "lZkM0KiWl2iN",
        "colab": {
          "base_uri": "https://localhost:8080/",
          "height": 471
        },
        "outputId": "3c569555-3626-4872-cc8a-b8908976c1c3"
      },
      "source": [
        "psm = ols('PRICE ~ PTRATIO',bos).fit()\n",
        "print(psm.summary())"
      ],
      "execution_count": null,
      "outputs": [
        {
          "output_type": "stream",
          "text": [
            "                            OLS Regression Results                            \n",
            "==============================================================================\n",
            "Dep. Variable:                  PRICE   R-squared:                       0.258\n",
            "Model:                            OLS   Adj. R-squared:                  0.256\n",
            "Method:                 Least Squares   F-statistic:                     175.1\n",
            "Date:                Wed, 27 Nov 2019   Prob (F-statistic):           1.61e-34\n",
            "Time:                        00:58:30   Log-Likelihood:                -1764.8\n",
            "No. Observations:                 506   AIC:                             3534.\n",
            "Df Residuals:                     504   BIC:                             3542.\n",
            "Df Model:                           1                                         \n",
            "Covariance Type:            nonrobust                                         \n",
            "==============================================================================\n",
            "                 coef    std err          t      P>|t|      [0.025      0.975]\n",
            "------------------------------------------------------------------------------\n",
            "Intercept     62.3446      3.029     20.581      0.000      56.393      68.296\n",
            "PTRATIO       -2.1572      0.163    -13.233      0.000      -2.477      -1.837\n",
            "==============================================================================\n",
            "Omnibus:                       92.924   Durbin-Watson:                   0.725\n",
            "Prob(Omnibus):                  0.000   Jarque-Bera (JB):              191.444\n",
            "Skew:                           1.001   Prob(JB):                     2.68e-42\n",
            "Kurtosis:                       5.252   Cond. No.                         160.\n",
            "==============================================================================\n",
            "\n",
            "Warnings:\n",
            "[1] Standard Errors assume that the covariance matrix of the errors is correctly specified.\n"
          ],
          "name": "stdout"
        }
      ]
    },
    {
      "cell_type": "markdown",
      "metadata": {
        "id": "L9T2PpD6NIqP"
      },
      "source": [
        "Calculations via scikit-learn"
      ]
    },
    {
      "cell_type": "code",
      "metadata": {
        "id": "HZY3EOx9NPHY",
        "colab": {
          "base_uri": "https://localhost:8080/",
          "height": 72
        },
        "outputId": "c4ecbb13-ae0c-4255-892b-46645938bb1f"
      },
      "source": [
        "# LinearRegression Object\n",
        "pskl = LinearRegression()\n",
        "\n",
        "# PTRATIO Values\n",
        "P = bos[['PTRATIO']]\n",
        "\n",
        "# Using predictor PTRATIO to fit a linear regression model\n",
        "pskl.fit(P, bos.PRICE)\n",
        "\n",
        "# The intercept\n",
        "print('Estimated intercept coefficient: {:.4f}'.format(pskl.intercept_))\n",
        "\n",
        "# The coefficient\n",
        "print(f\"Estimated PTRATIO coefficient {pskl.coef_.take(0):.4f}\")\n",
        "\n",
        "# R^2\n",
        "print(f\"R^{2}: {pskl.score(P, bos['PRICE']):.4f}\")"
      ],
      "execution_count": null,
      "outputs": [
        {
          "output_type": "stream",
          "text": [
            "Estimated intercept coefficient: 62.3446\n",
            "Estimated PTRATIO coefficient -2.1572\n",
            "R^2: 0.2578\n"
          ],
          "name": "stdout"
        }
      ]
    },
    {
      "cell_type": "markdown",
      "metadata": {
        "id": "AmsU3B69PEpH"
      },
      "source": [
        "Calculations based on theory: As a supplement to using scikit-learn."
      ]
    },
    {
      "cell_type": "code",
      "metadata": {
        "id": "9TbCgztOPJGu",
        "colab": {
          "base_uri": "https://localhost:8080/",
          "height": 72
        },
        "outputId": "e17745e6-4ace-441b-98a2-c62c90e5e9dc"
      },
      "source": [
        "# RSS & ESS\n",
        "RSSP = np.sum(( bos.PRICE - pskl.predict(P) ) ** 2)\n",
        "ESSP = np.sum(( pskl.predict(P) - np.mean(bos.PRICE) ) ** 2)\n",
        "\n",
        "# The number of variables: PTRATIO only\n",
        "K = 1\n",
        "\n",
        "# The number of observations\n",
        "N = bos.shape[0]\n",
        "\n",
        "# R^2\n",
        "R2P = ESSP/(RSSP + ESSP)\n",
        "print(f\"Calculated R^{2}: {R2P:.4f}\")\n",
        "\n",
        "# Adjusted R^2\n",
        "R2PADJ = R2P - (1 - R2P)*K/(N - K - 1)\n",
        "print(f\"Calculated R^{2} Adjusted: {R2PADJ:.4f}\")\n",
        "\n",
        "# Hence, the F-Statistic\n",
        "FPT = (1/K)*(N - K - 1)*R2P/(1 - R2P)\n",
        "print(f\"Calculated F-Statistic: {FPT:.4f}\")"
      ],
      "execution_count": null,
      "outputs": [
        {
          "output_type": "stream",
          "text": [
            "Calculated R^2: 0.2578\n",
            "Calculated R^2 Adjusted: 0.2564\n",
            "Calculated F-Statistic: 175.1055\n"
          ],
          "name": "stdout"
        }
      ]
    },
    {
      "cell_type": "markdown",
      "metadata": {
        "id": "YpLRxpo9aVy4"
      },
      "source": [
        "<br>\n",
        "\n",
        "**Response: Intercept & Coefficients**\n",
        "\n",
        "A single point increase in pupil/teacher ratio leads to a ```~$2,157``` decrease in price.  And, as the pupil/teacher ratio approaches zero, the house price approaches a maximum of ```~$62,344```, i.e., the intercept value.  Additionally, the statsmodel summary indicates that pupil/teacher ratio is a statistically significant predictor of house prices."
      ]
    },
    {
      "cell_type": "markdown",
      "metadata": {
        "id": "zglG4-9rgxsB"
      },
      "source": [
        "<br>\n",
        "\n",
        "**Response: $R^{2}$**\n",
        "\n",
        "The $R^{2}$ value indicates that approximately 25% of house price variance might be due to pupil/teacher ratio levels. "
      ]
    },
    {
      "cell_type": "markdown",
      "metadata": {
        "id": "_jOVW_afXb_8"
      },
      "source": [
        "<br>\n",
        "\n",
        "**Response: $F$-statistic**\n",
        "\n",
        "The $F$-statistic of $175.105$, with p-value $1.610e$-34, indicates that the model is statistically significant.  The $F$-statistic roughly indicates the ratio of explained variation to unexplained variation, hence we would like it to increase."
      ]
    },
    {
      "cell_type": "markdown",
      "metadata": {
        "id": "uFrC2-8ymJcf"
      },
      "source": [
        "<br>\n",
        "\n",
        "**Response: $F$-Statistic & $t$-statistic**\n",
        "\n",
        "In this case\n",
        "\n",
        "$$F = t^{2}$$\n",
        "\n",
        "wherein $F$ denotes the $F$-statistic and $t$ denotes the t-statistic.  This is in line with the posit \n",
        "\n",
        "```\n",
        "in the case of a simple, single predictor, regression model the F-statistic is the square of the t-statistic.\n",
        "```\n"
      ]
    },
    {
      "cell_type": "markdown",
      "metadata": {
        "id": "uydRHsvUVuZM"
      },
      "source": [
        "<br>\n",
        "<br>\n",
        "\n",
        "### Part 3 Checkup Exercise Set V\n",
        "\n",
        "* **Exercise:** Fit a linear regression model using three independent variables\n",
        "\n",
        "  * 'CRIM' (per capita crime rate by town)\n",
        "  * 'RM' (average number of rooms per dwelling)\n",
        "  * 'PTRATIO' (pupil-teacher ratio by town)\n",
        "\n",
        "\n",
        "* **Exercise:** Compute or extract the $F$-statistic. What does it tell you about the model?\n",
        "\n",
        "* **Exercise:** Compute or extract the $R^2$ statistic. What does it tell you about the model?\n",
        "\n",
        "* **Exercise:** Which variables in the model are significant in predicting house price? Write a story that interprets the coefficients."
      ]
    },
    {
      "cell_type": "markdown",
      "metadata": {
        "id": "Mtx81mxmbyeS"
      },
      "source": [
        "<br>\n",
        "<br>\n",
        "\n",
        "**Preliminaries**\n",
        "\n",
        "Calculations via statsmodel"
      ]
    },
    {
      "cell_type": "code",
      "metadata": {
        "id": "fr7IcEldVuZP",
        "colab": {
          "base_uri": "https://localhost:8080/",
          "height": 508
        },
        "outputId": "b6eb7a36-3aba-4d9d-e98b-240aa39ccf44"
      },
      "source": [
        "# CRIM, RM, PTRATIO\n",
        "three = ols('PRICE ~ CRIM + RM + PTRATIO',bos).fit()\n",
        "print(three.summary())"
      ],
      "execution_count": null,
      "outputs": [
        {
          "output_type": "stream",
          "text": [
            "                            OLS Regression Results                            \n",
            "==============================================================================\n",
            "Dep. Variable:                  PRICE   R-squared:                       0.594\n",
            "Model:                            OLS   Adj. R-squared:                  0.592\n",
            "Method:                 Least Squares   F-statistic:                     245.2\n",
            "Date:                Wed, 27 Nov 2019   Prob (F-statistic):           6.15e-98\n",
            "Time:                        00:58:31   Log-Likelihood:                -1612.0\n",
            "No. Observations:                 506   AIC:                             3232.\n",
            "Df Residuals:                     502   BIC:                             3249.\n",
            "Df Model:                           3                                         \n",
            "Covariance Type:            nonrobust                                         \n",
            "==============================================================================\n",
            "                 coef    std err          t      P>|t|      [0.025      0.975]\n",
            "------------------------------------------------------------------------------\n",
            "Intercept     -3.3707      4.034     -0.836      0.404     -11.296       4.555\n",
            "CRIM          -0.2050      0.032     -6.399      0.000      -0.268      -0.142\n",
            "RM             7.3804      0.402     18.382      0.000       6.592       8.169\n",
            "PTRATIO       -1.0695      0.133     -8.051      0.000      -1.331      -0.809\n",
            "==============================================================================\n",
            "Omnibus:                      234.656   Durbin-Watson:                   0.830\n",
            "Prob(Omnibus):                  0.000   Jarque-Bera (JB):             2020.689\n",
            "Skew:                           1.815   Prob(JB):                         0.00\n",
            "Kurtosis:                      12.092   Cond. No.                         311.\n",
            "==============================================================================\n",
            "\n",
            "Warnings:\n",
            "[1] Standard Errors assume that the covariance matrix of the errors is correctly specified.\n"
          ],
          "name": "stdout"
        }
      ]
    },
    {
      "cell_type": "markdown",
      "metadata": {
        "id": "eGNNMbjxcOnO"
      },
      "source": [
        "<br>\n",
        "<br>\n",
        "\n",
        "**Response: $F$-statistic**\n",
        "\n",
        "The $F$-statistic, especially in relation to the single predictor model of **Part 3 Checkup Exercise Set IV**, illustrates that the addition of the two extra predictors, i.e., the addition of CRIM & RM, has improved the model - the $F$-statistic has increased, and the new model is statistically significant, as indicated by the $p$-value of the $F$-statistic: $6.15e^{-98}$.  [In **Part 3 Checkup Exercise Set IV** the model's predictor is PTRATIO]"
      ]
    },
    {
      "cell_type": "markdown",
      "metadata": {
        "id": "MYTQxygvd-oM"
      },
      "source": [
        "<br>\n",
        "<br>\n",
        "\n",
        "**Response: $R^{2}$**\n",
        "\n",
        "The $R^{2}$ value indicates that approximately $59$% of house price variation might be explained by the predictors CRIM, RM, & PTRATIO."
      ]
    },
    {
      "cell_type": "markdown",
      "metadata": {
        "id": "Bkyo-Y9ofj3n"
      },
      "source": [
        "<br>\n",
        "<br>\n",
        "\n",
        "**Response: Estimated Coefficients**\n",
        "\n",
        "Each of the predictors is a statistically significant predictor of house prices.  A unit increase in crime rate per capita (CRIM) or pupil/teacher ratio (PTRATIO) leads to a fall in house price.  Whereas, a unit increase in average number of rooms per dwelling (RM) increases a house price.\n",
        "\n",
        "Coefficient | Effect of a 1 unit increase on the price of a house\n",
        "--- | --- \n",
        "crime rate per capita (CRIM) | ~$\\$205$ decrease\n",
        "number of rooms per dwelling (RM) | ~$\\$7,380$ increase\n",
        "pupil/teacher ratio (PTRATIO) | ~$\\$1,069$ decrease \n",
        "\n",
        "\n",
        "As the table illustrates, RM does have quite a positive monetary impact.  The effect of crime rate per capita seems relatively small.\n"
      ]
    },
    {
      "cell_type": "markdown",
      "metadata": {
        "id": "RPw_kM9UVuZS"
      },
      "source": [
        "<br>\n",
        "<br>\n",
        "\n",
        "## Part 4: Comparing Models"
      ]
    },
    {
      "cell_type": "markdown",
      "metadata": {
        "id": "CY816uLMVuZT"
      },
      "source": [
        "During modeling, there will be times when we want to compare models to see which one is more predictive or fits the data better. There are many ways to compare models, but we will focus on two."
      ]
    },
    {
      "cell_type": "markdown",
      "metadata": {
        "id": "DGLQgX1sVuZU"
      },
      "source": [
        "### The $F$-Statistic Revisited\n",
        "\n",
        "The $F$-statistic can also be used to compare two *nested* models, that is, two models trained on the same dataset where one of the models contains a *subset* of the variables of the other model. The *full* model contains $K$ variables and the *reduced* model contains a subset of these $K$ variables. This allows us to add additional variables to a base model and then test if adding the variables helped the model fit.\n",
        "\n",
        "$$F = \\frac{\\left( \\frac{RSS_{reduced} - RSS_{full}}{DF_{reduced} - DF_{full}} \\right)}{\\left( \\frac{RSS_{full}}{DF_{full}} \\right)}$$\n",
        "\n",
        "where $DF_x = N - K_x - 1$ where $K_x$ is the number of variables in model $x$."
      ]
    },
    {
      "cell_type": "markdown",
      "metadata": {
        "id": "mPoyRRFeVuZV"
      },
      "source": [
        "### Akaike Information Criterion (AIC)\n",
        "\n",
        "Another statistic for comparing two models is AIC, which is based on the likelihood function and takes into account the number of variables in the model.\n",
        "\n",
        "$$AIC = 2 K - 2 \\log_e{L}$$\n",
        "\n",
        "where $L$ is the likelihood of the model. AIC is meaningless in the absolute sense, and is only meaningful when compared to AIC values from other models. Lower values of AIC indicate better fitting models.\n",
        "\n",
        "`statsmodels` provides the AIC in its output."
      ]
    },
    {
      "cell_type": "markdown",
      "metadata": {
        "id": "0QNa_jgaVuZW"
      },
      "source": [
        "<br>\n",
        "<br>\n",
        "\n",
        "### Part 4 Checkup Exercises\n",
        "\n",
        "<div class=\"span5 alert alert-info\">\n",
        "<p><b>Exercise:</b> Find another variable (or two) to add to the model we built in Part 3. Compute the $F$-test comparing the two models as well as the AIC. Which model is better?</p>\n",
        "</div>"
      ]
    },
    {
      "cell_type": "code",
      "metadata": {
        "id": "uv4llXtj3In1",
        "colab": {
          "base_uri": "https://localhost:8080/",
          "height": 526
        },
        "outputId": "0e3d5452-5027-4e90-ff5a-5c25f3be1c6a"
      },
      "source": [
        "# CRIM, RM, PTRATIO, LSTAT\n",
        "four = ols('PRICE ~ CRIM + RM + PTRATIO + LSTAT',bos).fit()\n",
        "print(four.summary())"
      ],
      "execution_count": null,
      "outputs": [
        {
          "output_type": "stream",
          "text": [
            "                            OLS Regression Results                            \n",
            "==============================================================================\n",
            "Dep. Variable:                  PRICE   R-squared:                       0.681\n",
            "Model:                            OLS   Adj. R-squared:                  0.679\n",
            "Method:                 Least Squares   F-statistic:                     268.0\n",
            "Date:                Wed, 27 Nov 2019   Prob (F-statistic):          5.84e-123\n",
            "Time:                        00:58:31   Log-Likelihood:                -1550.8\n",
            "No. Observations:                 506   AIC:                             3112.\n",
            "Df Residuals:                     501   BIC:                             3133.\n",
            "Df Model:                           4                                         \n",
            "Covariance Type:            nonrobust                                         \n",
            "==============================================================================\n",
            "                 coef    std err          t      P>|t|      [0.025      0.975]\n",
            "------------------------------------------------------------------------------\n",
            "Intercept     16.9233      3.976      4.257      0.000       9.112      24.734\n",
            "CRIM          -0.0654      0.031     -2.124      0.034      -0.126      -0.005\n",
            "RM             4.6186      0.427     10.812      0.000       3.779       5.458\n",
            "PTRATIO       -0.8897      0.119     -7.487      0.000      -1.123      -0.656\n",
            "LSTAT         -0.5343      0.046    -11.708      0.000      -0.624      -0.445\n",
            "==============================================================================\n",
            "Omnibus:                      219.815   Durbin-Watson:                   0.887\n",
            "Prob(Omnibus):                  0.000   Jarque-Bera (JB):             1220.115\n",
            "Skew:                           1.840   Prob(JB):                    1.14e-265\n",
            "Kurtosis:                       9.658   Cond. No.                         417.\n",
            "==============================================================================\n",
            "\n",
            "Warnings:\n",
            "[1] Standard Errors assume that the covariance matrix of the errors is correctly specified.\n"
          ],
          "name": "stdout"
        }
      ]
    },
    {
      "cell_type": "markdown",
      "metadata": {
        "id": "9kfcX_kdmPE6"
      },
      "source": [
        "<br>\n",
        "<br>\n",
        "\n",
        "**Response: Model Comparison**\n",
        "\n",
        "Predictors | $F$-Statistic | $F$-Statistic $p$-value | AIC \n",
        "--- | --- | --- | ----\n",
        "CRIM, RM, PTRATIO | 245.164 | $6.15e$-98 | 3231.945\n",
        "CRIM, RM, PTRATIO, LSTAT | 267.990 | $5.84e$-123 | 3111.561\n",
        " | | |\n",
        "\n",
        "The four predictors model is the better model because\n",
        "\n",
        "* the $F$-statistic has increased; the $F$-Statistic $p$-value indicates that the model is statistically significant.\n",
        "* the AIC value has decreased.\n"
      ]
    },
    {
      "cell_type": "markdown",
      "metadata": {
        "id": "oRZmD0wiVuZX"
      },
      "source": [
        "<br>\n",
        "<br>\n",
        "\n",
        "## Part 5: Evaluating the Model via Model Assumptions and Other Issues\n",
        "\n",
        "<br>\n",
        "\n",
        "Linear regression makes several assumptions. It is always best to check that these assumptions are valid after fitting a linear regression model.\n",
        "\n",
        "* **Linearity**. The dependent variable $Y$ is a linear combination of the regression coefficients and the independent variables $X$. This can be verified with a scatterplot of each $X$ vs. $Y$ and plotting correlations among $X$. Nonlinearity can sometimes be resolved by [transforming](https://onlinecourses.science.psu.edu/stat501/node/318) one or more independent variables, the dependent variable, or both. In other cases, a [generalized linear model](https://en.wikipedia.org/wiki/Generalized_linear_model) or a [nonlinear model](https://en.wikipedia.org/wiki/Nonlinear_regression) may be warranted.\n",
        "\n",
        "* **Constant standard deviation**. The SD of the dependent variable $Y$ should be constant for different values of X. We can check this by plotting each $X$ against $Y$ and verifying that there is no \"funnel\" shape showing data points fanning out as $X$ increases or decreases. Some techniques for dealing with non-constant variance include weighted least squares (WLS), [robust standard errors](https://en.wikipedia.org/wiki/Heteroscedasticity-consistent_standard_errors), or variance stabilizing transformations.\n",
        "\n",
        "* **Normal distribution for errors**.  The $\\epsilon$ term we discussed at the beginning are assumed to be normally distributed. This can be verified with a fitted values vs. residuals plot and verifying that there is no pattern, and with a quantile plot.\n",
        "  $$ \\epsilon_i \\sim N(0, \\sigma^2)$$\n",
        "Sometimes the distributions of responses $Y$ may not be normally distributed at any given value of $X$.  e.g. skewed positively or negatively. </li>\n",
        "\n",
        "* **Independent errors**.  The observations are assumed to be obtained independently, e.g. Observations across time may be correlated.\n",
        "\n",
        "<br>\n",
        "\n",
        "There are some other issues that are important investigate with linear regression models.\n",
        "\n",
        "\n",
        "* **Correlated Predictors:** Care should be taken to make sure that the independent variables in a regression model are not too highly correlated. Correlated predictors typically do not majorly affect prediction, but do inflate standard errors of coefficients making interpretation unreliable. Common solutions are dropping the least important variables involved in the correlations, using regularlization, or, when many predictors are highly correlated, considering a dimension reduction technique such as principal component analysis (PCA).\n",
        "* **Influential Points:** Data points that have undue influence on the regression model. These points can be high leverage points or outliers. Such points are typically removed and the regression model rerun."
      ]
    },
    {
      "cell_type": "markdown",
      "metadata": {
        "id": "DuPfSKCaVuZY"
      },
      "source": [
        "<br>\n",
        "<br>\n",
        "\n",
        "### Part 5 Checkup Exercises\n",
        "\n",
        "Take the reduced model from Part 3 to answer the following exercises. Take a look at [this blog post](http://mpastell.com/2013/04/19/python_regression/) for more information on using statsmodels to construct these plots.\n",
        "    \n",
        "* **Exercise:** Construct a fitted values versus residuals plot. What does the plot tell you? Are there any violations of the model assumptions?\n",
        "\n",
        "* **Exercise:** Construct a quantile plot of the residuals. What does the plot tell you?\n",
        "\n",
        "* **Exercise:** What are some advantages and disadvantages of the fitted vs. residual and quantile plot compared to each other?\n",
        "\n",
        "* **Exercise:** Identify any outliers (if any) in your model and write a story describing what these outliers might represent.\n",
        "\n",
        "* **Exercise:** Construct a leverage plot and identify high leverage points in the model. Write a story explaining possible reasons for the high leverage points.\n",
        "\n",
        "* **Exercise:** Remove the outliers and high leverage points from your model and run the regression again. How do the results change?"
      ]
    },
    {
      "cell_type": "markdown",
      "metadata": {
        "id": "bTPp3tw8zvvk"
      },
      "source": [
        "<br>\n",
        "<br>\n",
        "\n",
        "**Response: Residuals & Fitted Values**\n",
        "\n",
        "The graph below illustrates a violation of the constant variance requirement; funnel shaped pattern instead of patternless."
      ]
    },
    {
      "cell_type": "code",
      "metadata": {
        "id": "3Xe-Su5t6cYd",
        "colab": {
          "base_uri": "https://localhost:8080/",
          "height": 331
        },
        "outputId": "7c62c5d5-25bf-445d-a739-abdd5d2dcdcb"
      },
      "source": [
        "plt.figure(figsize=(5,4))\n",
        "plt.tick_params(axis='both', labelsize='xx-small')\n",
        "sns.regplot(x=three.fittedvalues, y=three.resid, scatter=True, fit_reg = True)\n",
        "plt.title(\"Residuals & Fitted Values\", fontsize='xx-small')\n",
        "plt.xlabel(\"Fitted Values\", fontsize='xx-small')\n",
        "plt.ylabel(\"Residuals\", fontsize='xx-small')"
      ],
      "execution_count": null,
      "outputs": [
        {
          "output_type": "execute_result",
          "data": {
            "text/plain": [
              "Text(0, 0.5, 'Residuals')"
            ]
          },
          "metadata": {
            "tags": []
          },
          "execution_count": 47
        },
        {
          "output_type": "display_data",
          "data": {
            "image/png": "[encoded data removed]",
            "text/plain": [
              "<Figure size 360x288 with 1 Axes>"
            ]
          },
          "metadata": {
            "tags": []
          }
        }
      ]
    },
    {
      "cell_type": "markdown",
      "metadata": {
        "id": "o3JJSQYw3IYb"
      },
      "source": [
        "<br>\n",
        "<br>\n",
        "\n",
        "**Response: Quantile-Quantile Plot**\n",
        "\n",
        "The quantile-quantile plot below, which is a normal probability plot,  illustrates that the residuals can't be described as normally distributed because a number of points veer-off the $45^{o}$ diagonal.  These points can be described as outliers.\n"
      ]
    },
    {
      "cell_type": "code",
      "metadata": {
        "id": "CbBkXOBZVuZZ",
        "colab": {
          "base_uri": "https://localhost:8080/",
          "height": 349
        },
        "outputId": "810904a4-d715-4a33-ba8f-4eb35e57754d"
      },
      "source": [
        "plt.figure(figsize=(1,0.5))\n",
        "sm.qqplot(three.resid, fit=True, line='45')\n",
        "plt.tick_params(axis='both', labelsize='xx-small')\n",
        "plt.title(\"Quantile-Quantile Plot\", fontsize='xx-small')\n",
        "plt.xlabel(\"Theoretical Quantiles\", fontsize='xx-small')\n",
        "plt.ylabel(\"Sample Quantiles\", fontsize='xx-small')"
      ],
      "execution_count": null,
      "outputs": [
        {
          "output_type": "execute_result",
          "data": {
            "text/plain": [
              "Text(0, 0.5, 'Sample Quantiles')"
            ]
          },
          "metadata": {
            "tags": []
          },
          "execution_count": 48
        },
        {
          "output_type": "display_data",
          "data": {
            "text/plain": [
              "<Figure size 72x36 with 0 Axes>"
            ]
          },
          "metadata": {
            "tags": []
          }
        },
        {
          "output_type": "display_data",
          "data": {
            "image/png": "[encoded data removed]",
            "text/plain": [
              "<Figure size 432x288 with 1 Axes>"
            ]
          },
          "metadata": {
            "tags": []
          }
        }
      ]
    },
    {
      "cell_type": "markdown",
      "metadata": {
        "id": "SOQb4Y3W5q46"
      },
      "source": [
        "<br>\n",
        "<br>\n",
        "\n",
        "**Response: Residuals/Predictions Plots & Quantile-Quantile Plots of Residuals**\n",
        "\n",
        "A quantile-quantile plot of a data set visually illustrates a data set's  departure, or otherwise, from normality.  It also aids outlier detection.\n",
        "\n",
        "On the other hand, a residuals/predictions graph allows us to visually assess the variance property of the residuals."
      ]
    },
    {
      "cell_type": "markdown",
      "metadata": {
        "id": "ar5SlIHB9TRF"
      },
      "source": [
        "<br>\n",
        "<br>\n",
        "\n",
        "**Response: Outliers**\n",
        "\n",
        "Outliers can be quantitatively detected via Studentized Residuals.  In the case of statsmodel's ordinary least squares (OLS) regression, these values can be calculated and classified - as outliers or otherwise - via an OLS result's ```outlier_test``` method.  This approach is used to determine the outliers w.r.t. the reduced model of Part 3, i.e. model ```three```.\n",
        "\n",
        "The approach identified 6 outliers.  Five of them are 50,000USD houses, and what seems to differentiate them from other houses of the same price is their  full-value property-tax rate per 10,000USD (TAX).  Only these five 50,000USD houses have a TAX value of 666USD; this is the highest value amongst 50,000USD PRICE group.\n",
        "\n",
        "```python\n",
        "bos[bos['PRICE'] > 49]\n",
        "```\n",
        "\n",
        "```python\n",
        "bos[bos['TAX'] > 665]\n",
        "```\n",
        "\n",
        "It is difficult to discern why the final outlier is an outlier."
      ]
    },
    {
      "cell_type": "code",
      "metadata": {
        "id": "eiiP-fN_Rgsx",
        "colab": {
          "base_uri": "https://localhost:8080/",
          "height": 237
        },
        "outputId": "3e80466e-98d3-404d-955c-5a83e794f68b"
      },
      "source": [
        "# Determining the outlier indices\n",
        "significance_level = 0.05\n",
        "outliers_three_det = three.outlier_test(method='bonf', alpha=significance_level, labels=None, order=False, cutoff=None)\n",
        "outliers_three_init = outliers_three_det[outliers_three_det['bonf(p)'] < significance_level]\n",
        "outliers_three_init.reset_index(level=0, inplace=True)\n",
        "outliers_three = outliers_three_init.rename(columns={\"index\": \"id\"})\n",
        "outliers_three"
      ],
      "execution_count": null,
      "outputs": [
        {
          "output_type": "execute_result",
          "data": {
            "text/html": [
              "<div>\n",
              "<style scoped>\n",
              "    .dataframe tbody tr th:only-of-type {\n",
              "        vertical-align: middle;\n",
              "    }\n",
              "\n",
              "    .dataframe tbody tr th {\n",
              "        vertical-align: top;\n",
              "    }\n",
              "\n",
              "    .dataframe thead th {\n",
              "        text-align: right;\n",
              "    }\n",
              "</style>\n",
              "<table border=\"1\" class=\"dataframe\">\n",
              "  <thead>\n",
              "    <tr style=\"text-align: right;\">\n",
              "      <th></th>\n",
              "      <th>id</th>\n",
              "      <th>student_resid</th>\n",
              "      <th>unadj_p</th>\n",
              "      <th>bonf(p)</th>\n",
              "    </tr>\n",
              "  </thead>\n",
              "  <tbody>\n",
              "    <tr>\n",
              "      <th>0</th>\n",
              "      <td>365</td>\n",
              "      <td>4.797961</td>\n",
              "      <td>2.118084e-06</td>\n",
              "      <td>1.071751e-03</td>\n",
              "    </tr>\n",
              "    <tr>\n",
              "      <th>1</th>\n",
              "      <td>368</td>\n",
              "      <td>7.036931</td>\n",
              "      <td>6.493439e-12</td>\n",
              "      <td>3.285680e-09</td>\n",
              "    </tr>\n",
              "    <tr>\n",
              "      <th>2</th>\n",
              "      <td>369</td>\n",
              "      <td>4.669117</td>\n",
              "      <td>3.889705e-06</td>\n",
              "      <td>1.968191e-03</td>\n",
              "    </tr>\n",
              "    <tr>\n",
              "      <th>3</th>\n",
              "      <td>370</td>\n",
              "      <td>4.262646</td>\n",
              "      <td>2.414605e-05</td>\n",
              "      <td>1.221790e-02</td>\n",
              "    </tr>\n",
              "    <tr>\n",
              "      <th>4</th>\n",
              "      <td>371</td>\n",
              "      <td>5.432903</td>\n",
              "      <td>8.666085e-08</td>\n",
              "      <td>4.385039e-05</td>\n",
              "    </tr>\n",
              "    <tr>\n",
              "      <th>5</th>\n",
              "      <td>372</td>\n",
              "      <td>5.865813</td>\n",
              "      <td>8.126215e-09</td>\n",
              "      <td>4.111865e-06</td>\n",
              "    </tr>\n",
              "  </tbody>\n",
              "</table>\n",
              "</div>"
            ],
            "text/plain": [
              "    id  student_resid       unadj_p       bonf(p)\n",
              "0  365       4.797961  2.118084e-06  1.071751e-03\n",
              "1  368       7.036931  6.493439e-12  3.285680e-09\n",
              "2  369       4.669117  3.889705e-06  1.968191e-03\n",
              "3  370       4.262646  2.414605e-05  1.221790e-02\n",
              "4  371       5.432903  8.666085e-08  4.385039e-05\n",
              "5  372       5.865813  8.126215e-09  4.111865e-06"
            ]
          },
          "metadata": {
            "tags": []
          },
          "execution_count": 49
        }
      ]
    },
    {
      "cell_type": "code",
      "metadata": {
        "id": "85i1qHCInhIZ",
        "colab": {
          "base_uri": "https://localhost:8080/",
          "height": 237
        },
        "outputId": "0ab37170-b0d2-4bf5-bc3d-fc1f23e7c808"
      },
      "source": [
        "# extracting the ourliers records\n",
        "oddities = bos.iloc[outliers_three.id]\n",
        "oddities"
      ],
      "execution_count": null,
      "outputs": [
        {
          "output_type": "execute_result",
          "data": {
            "text/html": [
              "<div>\n",
              "<style scoped>\n",
              "    .dataframe tbody tr th:only-of-type {\n",
              "        vertical-align: middle;\n",
              "    }\n",
              "\n",
              "    .dataframe tbody tr th {\n",
              "        vertical-align: top;\n",
              "    }\n",
              "\n",
              "    .dataframe thead th {\n",
              "        text-align: right;\n",
              "    }\n",
              "</style>\n",
              "<table border=\"1\" class=\"dataframe\">\n",
              "  <thead>\n",
              "    <tr style=\"text-align: right;\">\n",
              "      <th></th>\n",
              "      <th>CRIM</th>\n",
              "      <th>ZN</th>\n",
              "      <th>INDUS</th>\n",
              "      <th>CHAS</th>\n",
              "      <th>NOX</th>\n",
              "      <th>RM</th>\n",
              "      <th>AGE</th>\n",
              "      <th>DIS</th>\n",
              "      <th>RAD</th>\n",
              "      <th>TAX</th>\n",
              "      <th>PTRATIO</th>\n",
              "      <th>B</th>\n",
              "      <th>LSTAT</th>\n",
              "      <th>PRICE</th>\n",
              "    </tr>\n",
              "  </thead>\n",
              "  <tbody>\n",
              "    <tr>\n",
              "      <th>365</th>\n",
              "      <td>4.55587</td>\n",
              "      <td>0.0</td>\n",
              "      <td>18.1</td>\n",
              "      <td>0.0</td>\n",
              "      <td>0.718</td>\n",
              "      <td>3.561</td>\n",
              "      <td>87.9</td>\n",
              "      <td>1.6132</td>\n",
              "      <td>24.0</td>\n",
              "      <td>666.0</td>\n",
              "      <td>20.2</td>\n",
              "      <td>354.70</td>\n",
              "      <td>7.12</td>\n",
              "      <td>27.5</td>\n",
              "    </tr>\n",
              "    <tr>\n",
              "      <th>368</th>\n",
              "      <td>4.89822</td>\n",
              "      <td>0.0</td>\n",
              "      <td>18.1</td>\n",
              "      <td>0.0</td>\n",
              "      <td>0.631</td>\n",
              "      <td>4.970</td>\n",
              "      <td>100.0</td>\n",
              "      <td>1.3325</td>\n",
              "      <td>24.0</td>\n",
              "      <td>666.0</td>\n",
              "      <td>20.2</td>\n",
              "      <td>375.52</td>\n",
              "      <td>3.26</td>\n",
              "      <td>50.0</td>\n",
              "    </tr>\n",
              "    <tr>\n",
              "      <th>369</th>\n",
              "      <td>5.66998</td>\n",
              "      <td>0.0</td>\n",
              "      <td>18.1</td>\n",
              "      <td>1.0</td>\n",
              "      <td>0.631</td>\n",
              "      <td>6.683</td>\n",
              "      <td>96.8</td>\n",
              "      <td>1.3567</td>\n",
              "      <td>24.0</td>\n",
              "      <td>666.0</td>\n",
              "      <td>20.2</td>\n",
              "      <td>375.33</td>\n",
              "      <td>3.73</td>\n",
              "      <td>50.0</td>\n",
              "    </tr>\n",
              "    <tr>\n",
              "      <th>370</th>\n",
              "      <td>6.53876</td>\n",
              "      <td>0.0</td>\n",
              "      <td>18.1</td>\n",
              "      <td>1.0</td>\n",
              "      <td>0.631</td>\n",
              "      <td>7.016</td>\n",
              "      <td>97.5</td>\n",
              "      <td>1.2024</td>\n",
              "      <td>24.0</td>\n",
              "      <td>666.0</td>\n",
              "      <td>20.2</td>\n",
              "      <td>392.05</td>\n",
              "      <td>2.96</td>\n",
              "      <td>50.0</td>\n",
              "    </tr>\n",
              "    <tr>\n",
              "      <th>371</th>\n",
              "      <td>9.23230</td>\n",
              "      <td>0.0</td>\n",
              "      <td>18.1</td>\n",
              "      <td>0.0</td>\n",
              "      <td>0.631</td>\n",
              "      <td>6.216</td>\n",
              "      <td>100.0</td>\n",
              "      <td>1.1691</td>\n",
              "      <td>24.0</td>\n",
              "      <td>666.0</td>\n",
              "      <td>20.2</td>\n",
              "      <td>366.15</td>\n",
              "      <td>9.53</td>\n",
              "      <td>50.0</td>\n",
              "    </tr>\n",
              "    <tr>\n",
              "      <th>372</th>\n",
              "      <td>8.26725</td>\n",
              "      <td>0.0</td>\n",
              "      <td>18.1</td>\n",
              "      <td>1.0</td>\n",
              "      <td>0.668</td>\n",
              "      <td>5.875</td>\n",
              "      <td>89.6</td>\n",
              "      <td>1.1296</td>\n",
              "      <td>24.0</td>\n",
              "      <td>666.0</td>\n",
              "      <td>20.2</td>\n",
              "      <td>347.88</td>\n",
              "      <td>8.88</td>\n",
              "      <td>50.0</td>\n",
              "    </tr>\n",
              "  </tbody>\n",
              "</table>\n",
              "</div>"
            ],
            "text/plain": [
              "        CRIM   ZN  INDUS  CHAS    NOX  ...    TAX  PTRATIO       B  LSTAT  PRICE\n",
              "365  4.55587  0.0   18.1   0.0  0.718  ...  666.0     20.2  354.70   7.12   27.5\n",
              "368  4.89822  0.0   18.1   0.0  0.631  ...  666.0     20.2  375.52   3.26   50.0\n",
              "369  5.66998  0.0   18.1   1.0  0.631  ...  666.0     20.2  375.33   3.73   50.0\n",
              "370  6.53876  0.0   18.1   1.0  0.631  ...  666.0     20.2  392.05   2.96   50.0\n",
              "371  9.23230  0.0   18.1   0.0  0.631  ...  666.0     20.2  366.15   9.53   50.0\n",
              "372  8.26725  0.0   18.1   1.0  0.668  ...  666.0     20.2  347.88   8.88   50.0\n",
              "\n",
              "[6 rows x 14 columns]"
            ]
          },
          "metadata": {
            "tags": []
          },
          "execution_count": 50
        }
      ]
    },
    {
      "cell_type": "code",
      "metadata": {
        "id": "wUE0pI00h5wW",
        "colab": {
          "base_uri": "https://localhost:8080/",
          "height": 276
        },
        "outputId": "6d1ca91b-970d-45e2-9532-2529fb58dbfd"
      },
      "source": [
        "plt.figure(figsize=(4,3))\n",
        "plt.tick_params(axis='both', labelsize='xx-small')\n",
        "sns.regplot(x=outliers_three_det['bonf(p)'], y=outliers_three_det['student_resid'], scatter=True, fit_reg=False)\n",
        "plt.tick_params(axis='both', labelsize='xx-small')\n",
        "plt.title(\"Identifying Outliers via Studentized Residuals\", fontsize='xx-small')\n",
        "plt.xlabel(\"Corrected p-value\", fontsize='xx-small')\n",
        "plt.ylabel(\"Studentized Residuals\", fontsize='xx-small')"
      ],
      "execution_count": null,
      "outputs": [
        {
          "output_type": "execute_result",
          "data": {
            "text/plain": [
              "Text(0, 0.5, 'Studentized Residuals')"
            ]
          },
          "metadata": {
            "tags": []
          },
          "execution_count": 51
        },
        {
          "output_type": "display_data",
          "data": {
            "image/png": "[encoded data removed]",
            "text/plain": [
              "<Figure size 288x216 with 1 Axes>"
            ]
          },
          "metadata": {
            "tags": []
          }
        }
      ]
    },
    {
      "cell_type": "markdown",
      "metadata": {
        "id": "2C95jQ132YmZ"
      },
      "source": [
        "<br>\n",
        "<br>\n",
        "\n",
        "**Response: Leverage**\n",
        "\n",
        "The leverage plot is illustrated below.  Subsequently, the high leverage points are printed via dataframe ```of_high_leverage```.  The high leverage points are distinguishable as points that have both\n",
        "\n",
        "* high crime per capita rates\n",
        "* high full-value property-tax rates per 10,000USD\n",
        "\n",
        "as the CRIM/TAX graph illustrates; orange points.\n",
        "\n",
        "<br>\n",
        "\n",
        "Note: The influence & leverage plot methods\n",
        "\n",
        "```python\n",
        "sm.graphics.influence_plot(three, external=True, alpha=0.05, criterion='cooks', size=24, plot_alpha=0.75, ax=None, labels=None)\n",
        "```\n",
        "\n",
        "```python\n",
        "sm.graphics.plot_leverage_resid2(three, alpha=0.05)\n",
        "```\n",
        "\n",
        "where not used because the point labels where obscuring.\n"
      ]
    },
    {
      "cell_type": "markdown",
      "metadata": {
        "id": "BZjCR88QCMAQ"
      },
      "source": [
        "**Influence Data**\n",
        "\n",
        "The influence data, which includes the studentized residuals, leverage, and cook's distance values."
      ]
    },
    {
      "cell_type": "code",
      "metadata": {
        "id": "QlBqKeK6YisY",
        "colab": {
          "base_uri": "https://localhost:8080/",
          "height": 226
        },
        "outputId": "859d4070-f9ea-48a2-bc84-3e03ad3db077"
      },
      "source": [
        "influence_object = olsinf(three)\n",
        "influence_data = influence_object.summary_frame()\n",
        "influence_data.head()"
      ],
      "execution_count": null,
      "outputs": [
        {
          "output_type": "execute_result",
          "data": {
            "text/html": [
              "<div>\n",
              "<style scoped>\n",
              "    .dataframe tbody tr th:only-of-type {\n",
              "        vertical-align: middle;\n",
              "    }\n",
              "\n",
              "    .dataframe tbody tr th {\n",
              "        vertical-align: top;\n",
              "    }\n",
              "\n",
              "    .dataframe thead th {\n",
              "        text-align: right;\n",
              "    }\n",
              "</style>\n",
              "<table border=\"1\" class=\"dataframe\">\n",
              "  <thead>\n",
              "    <tr style=\"text-align: right;\">\n",
              "      <th></th>\n",
              "      <th>dfb_Intercept</th>\n",
              "      <th>dfb_CRIM</th>\n",
              "      <th>dfb_RM</th>\n",
              "      <th>dfb_PTRATIO</th>\n",
              "      <th>cooks_d</th>\n",
              "      <th>standard_resid</th>\n",
              "      <th>hat_diag</th>\n",
              "      <th>dffits_internal</th>\n",
              "      <th>student_resid</th>\n",
              "      <th>dffits</th>\n",
              "    </tr>\n",
              "  </thead>\n",
              "  <tbody>\n",
              "    <tr>\n",
              "      <th>0</th>\n",
              "      <td>-0.035140</td>\n",
              "      <td>0.000412</td>\n",
              "      <td>0.004115</td>\n",
              "      <td>0.049678</td>\n",
              "      <td>0.001045</td>\n",
              "      <td>-0.817854</td>\n",
              "      <td>0.006208</td>\n",
              "      <td>-0.064642</td>\n",
              "      <td>-0.817584</td>\n",
              "      <td>-0.064621</td>\n",
              "    </tr>\n",
              "    <tr>\n",
              "      <th>1</th>\n",
              "      <td>-0.003705</td>\n",
              "      <td>0.008572</td>\n",
              "      <td>-0.001235</td>\n",
              "      <td>0.004238</td>\n",
              "      <td>0.000199</td>\n",
              "      <td>-0.575202</td>\n",
              "      <td>0.002397</td>\n",
              "      <td>-0.028193</td>\n",
              "      <td>-0.574819</td>\n",
              "      <td>-0.028174</td>\n",
              "    </tr>\n",
              "    <tr>\n",
              "      <th>2</th>\n",
              "      <td>-0.025394</td>\n",
              "      <td>-0.005671</td>\n",
              "      <td>0.037987</td>\n",
              "      <td>0.006262</td>\n",
              "      <td>0.000653</td>\n",
              "      <td>0.697322</td>\n",
              "      <td>0.005347</td>\n",
              "      <td>0.051126</td>\n",
              "      <td>0.696965</td>\n",
              "      <td>0.051100</td>\n",
              "    </tr>\n",
              "    <tr>\n",
              "      <th>3</th>\n",
              "      <td>-0.036905</td>\n",
              "      <td>-0.012698</td>\n",
              "      <td>0.042049</td>\n",
              "      <td>0.022197</td>\n",
              "      <td>0.000911</td>\n",
              "      <td>0.875186</td>\n",
              "      <td>0.004736</td>\n",
              "      <td>0.060373</td>\n",
              "      <td>0.874982</td>\n",
              "      <td>0.060359</td>\n",
              "    </tr>\n",
              "    <tr>\n",
              "      <th>4</th>\n",
              "      <td>-0.059036</td>\n",
              "      <td>-0.015171</td>\n",
              "      <td>0.068097</td>\n",
              "      <td>0.033309</td>\n",
              "      <td>0.001991</td>\n",
              "      <td>1.167191</td>\n",
              "      <td>0.005811</td>\n",
              "      <td>0.089234</td>\n",
              "      <td>1.167614</td>\n",
              "      <td>0.089266</td>\n",
              "    </tr>\n",
              "  </tbody>\n",
              "</table>\n",
              "</div>"
            ],
            "text/plain": [
              "   dfb_Intercept  dfb_CRIM    dfb_RM  ...  dffits_internal  student_resid    dffits\n",
              "0      -0.035140  0.000412  0.004115  ...        -0.064642      -0.817584 -0.064621\n",
              "1      -0.003705  0.008572 -0.001235  ...        -0.028193      -0.574819 -0.028174\n",
              "2      -0.025394 -0.005671  0.037987  ...         0.051126       0.696965  0.051100\n",
              "3      -0.036905 -0.012698  0.042049  ...         0.060373       0.874982  0.060359\n",
              "4      -0.059036 -0.015171  0.068097  ...         0.089234       1.167614  0.089266\n",
              "\n",
              "[5 rows x 10 columns]"
            ]
          },
          "metadata": {
            "tags": []
          },
          "execution_count": 52
        }
      ]
    },
    {
      "cell_type": "markdown",
      "metadata": {
        "id": "ONDUXqRvCrui"
      },
      "source": [
        "**Leverage Plot**"
      ]
    },
    {
      "cell_type": "code",
      "metadata": {
        "id": "FQ1f56_m7ogN",
        "colab": {
          "base_uri": "https://localhost:8080/",
          "height": 276
        },
        "outputId": "73bd6ce1-7cda-42fb-8b14-18d0bf3f96f2"
      },
      "source": [
        "# Influence Plot\n",
        "# plt.figure(figsize=(4,3))\n",
        "# plt.tick_params(axis='both', labelsize='xx-small')\n",
        "# sns.regplot(x=influence_data.hat_diag, y=influence_data.student_resid, scatter=True, fit_reg=False, scatter_kws={'s': 1000*influence_data.cooks_d})\n",
        "# plt.tick_params(axis='both', labelsize='xx-small')\n",
        "# plt.title(\"Influence Plot\", fontsize='xx-small')\n",
        "# plt.xlabel(\"H Leverage\", fontsize='xx-small')\n",
        "# plt.ylabel(\"Studentized Residuals\", fontsize='xx-small')\n",
        "\n",
        "# Leverage Plot\n",
        "plt.figure(figsize=(5,3))\n",
        "plt.tick_params(axis='both', labelsize='xx-small')\n",
        "sns.regplot(x=influence_data.student_resid**2, y=influence_data.hat_diag, scatter=True, fit_reg=False, scatter_kws={'s': 1000*influence_data.cooks_d})\n",
        "plt.tick_params(axis='both', labelsize='xx-small')\n",
        "plt.title(\"Leverage Plot\", fontsize='xx-small')\n",
        "plt.xlabel(\"Normalised Residuals\", fontsize='xx-small')\n",
        "plt.ylabel(\"Leverage\", fontsize='xx-small')"
      ],
      "execution_count": null,
      "outputs": [
        {
          "output_type": "execute_result",
          "data": {
            "text/plain": [
              "Text(0, 0.5, 'Leverage')"
            ]
          },
          "metadata": {
            "tags": []
          },
          "execution_count": 53
        },
        {
          "output_type": "display_data",
          "data": {
            "image/png": "[encoded data removed]",
            "text/plain": [
              "<Figure size 360x216 with 1 Axes>"
            ]
          },
          "metadata": {
            "tags": []
          }
        }
      ]
    },
    {
      "cell_type": "code",
      "metadata": {
        "id": "YOkZOlhkDt6m",
        "colab": {
          "base_uri": "https://localhost:8080/",
          "height": 226
        },
        "outputId": "26a33474-08ed-436f-92ba-63ee8ec22f17"
      },
      "source": [
        "of_high_leverage = influence_data[influence_data.hat_diag >= 0.05]\n",
        "of_high_leverage"
      ],
      "execution_count": null,
      "outputs": [
        {
          "output_type": "execute_result",
          "data": {
            "text/html": [
              "<div>\n",
              "<style scoped>\n",
              "    .dataframe tbody tr th:only-of-type {\n",
              "        vertical-align: middle;\n",
              "    }\n",
              "\n",
              "    .dataframe tbody tr th {\n",
              "        vertical-align: top;\n",
              "    }\n",
              "\n",
              "    .dataframe thead th {\n",
              "        text-align: right;\n",
              "    }\n",
              "</style>\n",
              "<table border=\"1\" class=\"dataframe\">\n",
              "  <thead>\n",
              "    <tr style=\"text-align: right;\">\n",
              "      <th></th>\n",
              "      <th>dfb_Intercept</th>\n",
              "      <th>dfb_CRIM</th>\n",
              "      <th>dfb_RM</th>\n",
              "      <th>dfb_PTRATIO</th>\n",
              "      <th>cooks_d</th>\n",
              "      <th>standard_resid</th>\n",
              "      <th>hat_diag</th>\n",
              "      <th>dffits_internal</th>\n",
              "      <th>student_resid</th>\n",
              "      <th>dffits</th>\n",
              "    </tr>\n",
              "  </thead>\n",
              "  <tbody>\n",
              "    <tr>\n",
              "      <th>380</th>\n",
              "      <td>-0.024896</td>\n",
              "      <td>0.220433</td>\n",
              "      <td>0.056969</td>\n",
              "      <td>-0.025819</td>\n",
              "      <td>0.012558</td>\n",
              "      <td>0.421333</td>\n",
              "      <td>0.220554</td>\n",
              "      <td>0.224125</td>\n",
              "      <td>0.420988</td>\n",
              "      <td>0.223941</td>\n",
              "    </tr>\n",
              "    <tr>\n",
              "      <th>405</th>\n",
              "      <td>0.006071</td>\n",
              "      <td>0.126452</td>\n",
              "      <td>0.006301</td>\n",
              "      <td>-0.020662</td>\n",
              "      <td>0.004146</td>\n",
              "      <td>0.353878</td>\n",
              "      <td>0.116949</td>\n",
              "      <td>0.128783</td>\n",
              "      <td>0.353569</td>\n",
              "      <td>0.128671</td>\n",
              "    </tr>\n",
              "    <tr>\n",
              "      <th>410</th>\n",
              "      <td>0.013227</td>\n",
              "      <td>0.355592</td>\n",
              "      <td>0.014385</td>\n",
              "      <td>-0.046489</td>\n",
              "      <td>0.033519</td>\n",
              "      <td>1.401601</td>\n",
              "      <td>0.063889</td>\n",
              "      <td>0.366161</td>\n",
              "      <td>1.402952</td>\n",
              "      <td>0.366514</td>\n",
              "    </tr>\n",
              "    <tr>\n",
              "      <th>414</th>\n",
              "      <td>0.111967</td>\n",
              "      <td>0.295909</td>\n",
              "      <td>-0.113389</td>\n",
              "      <td>-0.074649</td>\n",
              "      <td>0.029396</td>\n",
              "      <td>1.401732</td>\n",
              "      <td>0.056465</td>\n",
              "      <td>0.342908</td>\n",
              "      <td>1.403084</td>\n",
              "      <td>0.343238</td>\n",
              "    </tr>\n",
              "    <tr>\n",
              "      <th>418</th>\n",
              "      <td>0.001694</td>\n",
              "      <td>0.356404</td>\n",
              "      <td>0.038088</td>\n",
              "      <td>-0.054241</td>\n",
              "      <td>0.032546</td>\n",
              "      <td>0.895820</td>\n",
              "      <td>0.139582</td>\n",
              "      <td>0.360811</td>\n",
              "      <td>0.895644</td>\n",
              "      <td>0.360740</td>\n",
              "    </tr>\n",
              "  </tbody>\n",
              "</table>\n",
              "</div>"
            ],
            "text/plain": [
              "     dfb_Intercept  dfb_CRIM  ...  student_resid    dffits\n",
              "380      -0.024896  0.220433  ...       0.420988  0.223941\n",
              "405       0.006071  0.126452  ...       0.353569  0.128671\n",
              "410       0.013227  0.355592  ...       1.402952  0.366514\n",
              "414       0.111967  0.295909  ...       1.403084  0.343238\n",
              "418       0.001694  0.356404  ...       0.895644  0.360740\n",
              "\n",
              "[5 rows x 10 columns]"
            ]
          },
          "metadata": {
            "tags": []
          },
          "execution_count": 54
        }
      ]
    },
    {
      "cell_type": "code",
      "metadata": {
        "id": "qzYoarpYEGJq",
        "colab": {
          "base_uri": "https://localhost:8080/",
          "height": 206
        },
        "outputId": "38c07325-c8f9-41d5-d336-5569cf7fafda"
      },
      "source": [
        "bos_lev = bos.iloc[of_high_leverage.index]\n",
        "bos_lev"
      ],
      "execution_count": null,
      "outputs": [
        {
          "output_type": "execute_result",
          "data": {
            "text/html": [
              "<div>\n",
              "<style scoped>\n",
              "    .dataframe tbody tr th:only-of-type {\n",
              "        vertical-align: middle;\n",
              "    }\n",
              "\n",
              "    .dataframe tbody tr th {\n",
              "        vertical-align: top;\n",
              "    }\n",
              "\n",
              "    .dataframe thead th {\n",
              "        text-align: right;\n",
              "    }\n",
              "</style>\n",
              "<table border=\"1\" class=\"dataframe\">\n",
              "  <thead>\n",
              "    <tr style=\"text-align: right;\">\n",
              "      <th></th>\n",
              "      <th>CRIM</th>\n",
              "      <th>ZN</th>\n",
              "      <th>INDUS</th>\n",
              "      <th>CHAS</th>\n",
              "      <th>NOX</th>\n",
              "      <th>RM</th>\n",
              "      <th>AGE</th>\n",
              "      <th>DIS</th>\n",
              "      <th>RAD</th>\n",
              "      <th>TAX</th>\n",
              "      <th>PTRATIO</th>\n",
              "      <th>B</th>\n",
              "      <th>LSTAT</th>\n",
              "      <th>PRICE</th>\n",
              "    </tr>\n",
              "  </thead>\n",
              "  <tbody>\n",
              "    <tr>\n",
              "      <th>380</th>\n",
              "      <td>88.9762</td>\n",
              "      <td>0.0</td>\n",
              "      <td>18.1</td>\n",
              "      <td>0.0</td>\n",
              "      <td>0.671</td>\n",
              "      <td>6.968</td>\n",
              "      <td>91.9</td>\n",
              "      <td>1.4165</td>\n",
              "      <td>24.0</td>\n",
              "      <td>666.0</td>\n",
              "      <td>20.2</td>\n",
              "      <td>396.90</td>\n",
              "      <td>17.21</td>\n",
              "      <td>10.4</td>\n",
              "    </tr>\n",
              "    <tr>\n",
              "      <th>405</th>\n",
              "      <td>67.9208</td>\n",
              "      <td>0.0</td>\n",
              "      <td>18.1</td>\n",
              "      <td>0.0</td>\n",
              "      <td>0.693</td>\n",
              "      <td>5.683</td>\n",
              "      <td>100.0</td>\n",
              "      <td>1.4254</td>\n",
              "      <td>24.0</td>\n",
              "      <td>666.0</td>\n",
              "      <td>20.2</td>\n",
              "      <td>384.97</td>\n",
              "      <td>22.98</td>\n",
              "      <td>5.0</td>\n",
              "    </tr>\n",
              "    <tr>\n",
              "      <th>410</th>\n",
              "      <td>51.1358</td>\n",
              "      <td>0.0</td>\n",
              "      <td>18.1</td>\n",
              "      <td>0.0</td>\n",
              "      <td>0.597</td>\n",
              "      <td>5.757</td>\n",
              "      <td>100.0</td>\n",
              "      <td>1.4130</td>\n",
              "      <td>24.0</td>\n",
              "      <td>666.0</td>\n",
              "      <td>20.2</td>\n",
              "      <td>2.60</td>\n",
              "      <td>10.11</td>\n",
              "      <td>15.0</td>\n",
              "    </tr>\n",
              "    <tr>\n",
              "      <th>414</th>\n",
              "      <td>45.7461</td>\n",
              "      <td>0.0</td>\n",
              "      <td>18.1</td>\n",
              "      <td>0.0</td>\n",
              "      <td>0.693</td>\n",
              "      <td>4.519</td>\n",
              "      <td>100.0</td>\n",
              "      <td>1.6582</td>\n",
              "      <td>24.0</td>\n",
              "      <td>666.0</td>\n",
              "      <td>20.2</td>\n",
              "      <td>88.27</td>\n",
              "      <td>36.98</td>\n",
              "      <td>7.0</td>\n",
              "    </tr>\n",
              "    <tr>\n",
              "      <th>418</th>\n",
              "      <td>73.5341</td>\n",
              "      <td>0.0</td>\n",
              "      <td>18.1</td>\n",
              "      <td>0.0</td>\n",
              "      <td>0.679</td>\n",
              "      <td>5.957</td>\n",
              "      <td>100.0</td>\n",
              "      <td>1.8026</td>\n",
              "      <td>24.0</td>\n",
              "      <td>666.0</td>\n",
              "      <td>20.2</td>\n",
              "      <td>16.45</td>\n",
              "      <td>20.62</td>\n",
              "      <td>8.8</td>\n",
              "    </tr>\n",
              "  </tbody>\n",
              "</table>\n",
              "</div>"
            ],
            "text/plain": [
              "        CRIM   ZN  INDUS  CHAS    NOX  ...    TAX  PTRATIO       B  LSTAT  PRICE\n",
              "380  88.9762  0.0   18.1   0.0  0.671  ...  666.0     20.2  396.90  17.21   10.4\n",
              "405  67.9208  0.0   18.1   0.0  0.693  ...  666.0     20.2  384.97  22.98    5.0\n",
              "410  51.1358  0.0   18.1   0.0  0.597  ...  666.0     20.2    2.60  10.11   15.0\n",
              "414  45.7461  0.0   18.1   0.0  0.693  ...  666.0     20.2   88.27  36.98    7.0\n",
              "418  73.5341  0.0   18.1   0.0  0.679  ...  666.0     20.2   16.45  20.62    8.8\n",
              "\n",
              "[5 rows x 14 columns]"
            ]
          },
          "metadata": {
            "tags": []
          },
          "execution_count": 55
        }
      ]
    },
    {
      "cell_type": "code",
      "metadata": {
        "id": "05rVUO4QEnjh",
        "colab": {
          "base_uri": "https://localhost:8080/",
          "height": 277
        },
        "outputId": "266b362a-6239-4314-ea9f-6757473527b8"
      },
      "source": [
        "plt.figure(figsize=(5,3))\n",
        "plt.tick_params(axis='both', labelsize='xx-small')\n",
        "sns.regplot(x=bos['TAX'], y=bos['CRIM'], scatter=True, fit_reg=False)\n",
        "sns.regplot(x=bos_lev['TAX'], y=bos_lev['CRIM'], scatter=True, fit_reg=False)\n",
        "plt.title(\"TAX & CRIM\", fontsize='xx-small')\n",
        "plt.xlabel(\"full-value property-tax rate per $10,000 (TAX)\", fontsize='xx-small')\n",
        "plt.ylabel(\"crime rate per capita (CRIM)\", fontsize='xx-small')"
      ],
      "execution_count": null,
      "outputs": [
        {
          "output_type": "execute_result",
          "data": {
            "text/plain": [
              "Text(0, 0.5, 'crime rate per capita (CRIM)')"
            ]
          },
          "metadata": {
            "tags": []
          },
          "execution_count": 56
        },
        {
          "output_type": "display_data",
          "data": {
            "image/png": "[encoded data removed]",
            "text/plain": [
              "<Figure size 360x216 with 1 Axes>"
            ]
          },
          "metadata": {
            "tags": []
          }
        }
      ]
    },
    {
      "cell_type": "markdown",
      "metadata": {
        "id": "ve9G8n1tPcXW"
      },
      "source": [
        "<br>\n",
        "<br>\n",
        "\n",
        "**Response: Excluding Outliers & High Leverage Points**\n",
        "\n",
        "In this case the leverage plot is used to exclude both outliers and high leverage points.   Hence, instead of excluding outliers via the $p$-values of the studentized test, the outliers are excluded via normalised residuals.\n",
        "\n",
        "<br>\n",
        "\n",
        "The reduced data set has 493, instead of 506, observations.  The statsmodel report is printed further below.  The reduced data set led to a much better model, as the comparison with previous models illustrates (in the table below reduced means outliers & high leverage points have been excluded).\n",
        "\n",
        "<br>\n",
        "\n",
        "Data Set | Predictors | $F$-Statistic | $F$-Statistic $p$-value | AIC | $R^{2}$ Adjusted\n",
        "--- | --- | --- | --- | ---- | ----\n",
        "Full | CRIM, RM, PTRATIO | 245.164 | $6.15e$-98 | 3231.945 | 0.59\n",
        "Full | CRIM, RM, PTRATIO, LSTAT | 267.990 | $5.84e$-123 | 3111.561 | 0.68\n",
        "Reduced | CRIM, RM, PTRATIO | 445.148 | $2.34e$-139 | 2899.515 |  0.73\n",
        "\n",
        "<br>\n",
        "\n",
        "The model based on the reduced data set has\n",
        "\n",
        "* the lowest AIC value thus far. \n",
        "* an adjusted $R^{2}$ value that indicates that 73% of house price variation might be due to its three predictors; this model has the highest adjusted $R^{2}$ value thus far.  \n",
        "* the highest $F$-statistic value thus far; the $p$-value indicates that the model is statistically significant.\n",
        "\n",
        "Finally, each of the predictors is a statistically significant predictor of house prices, as indicated by the statsmodel report further below.  The latest effect of a predictor unit increase is summarised in the table below.  [Note: Compared to the three predictors model based on the full data set, the absolute effects of CRIM and RM have increased, whilst that of PTRATIO has decreased.]\n",
        "\n",
        "Coefficient | Effect of a 1 unit increase on the price of a house\n",
        "--- | --- \n",
        "crime rate per capita (CRIM) | ~$\\$320$ decrease\n",
        "number of rooms per dwelling (RM) | ~$\\$8,183$ increase\n",
        "pupil/teacher ratio (PTRATIO) | ~$\\$1,037$ decrease\n"
      ]
    },
    {
      "cell_type": "markdown",
      "metadata": {
        "id": "CWWrzCc7C5ji"
      },
      "source": [
        "<br>\n",
        "\n",
        "**Outliers Exclusion**"
      ]
    },
    {
      "cell_type": "code",
      "metadata": {
        "id": "Kz8v3hOu-m13",
        "colab": {
          "base_uri": "https://localhost:8080/",
          "height": 276
        },
        "outputId": "f39f8442-976d-4bdb-a0c4-9a05e6419d46"
      },
      "source": [
        "Z = influence_data[ (influence_data.hat_diag < 0.05) & (influence_data.student_resid**2 < 9)]\n",
        "plt.figure(figsize=(5,3))\n",
        "plt.tick_params(axis='both', labelsize='xx-small')\n",
        "sns.regplot(x=Z.student_resid**2, y=Z.hat_diag, scatter=True, fit_reg=False, scatter_kws={'s': 1000*Z.cooks_d})\n",
        "plt.tick_params(axis='both', labelsize='xx-small')\n",
        "plt.title(\"Leverage Plot (Excl. Outliers & High Leverage Points)\", fontsize='xx-small')\n",
        "plt.xlabel(\"Normalised Residuals\", fontsize='xx-small')\n",
        "plt.ylabel(\"Leverage\", fontsize='xx-small')"
      ],
      "execution_count": null,
      "outputs": [
        {
          "output_type": "execute_result",
          "data": {
            "text/plain": [
              "Text(0, 0.5, 'Leverage')"
            ]
          },
          "metadata": {
            "tags": []
          },
          "execution_count": 57
        },
        {
          "output_type": "display_data",
          "data": {
            "image/png": "[encoded data removed]",
            "text/plain": [
              "<Figure size 360x216 with 1 Axes>"
            ]
          },
          "metadata": {
            "tags": []
          }
        }
      ]
    },
    {
      "cell_type": "code",
      "metadata": {
        "id": "saRJGzba_uDZ"
      },
      "source": [
        "bos_reduced = bos.iloc[Z.index]"
      ],
      "execution_count": null,
      "outputs": []
    },
    {
      "cell_type": "markdown",
      "metadata": {
        "id": "V2F4WDhPDAey"
      },
      "source": [
        "<br>\n",
        "\n",
        "**New Model**"
      ]
    },
    {
      "cell_type": "code",
      "metadata": {
        "id": "Q2_pSNhtAVog",
        "colab": {
          "base_uri": "https://localhost:8080/",
          "height": 508
        },
        "outputId": "a7913caa-a37e-4e11-9918-16ea25fa4d02"
      },
      "source": [
        "# CRIM, RM, PTRATIO\n",
        "three_reduced = ols('PRICE ~ CRIM + RM + PTRATIO', bos_reduced).fit()\n",
        "print(three_reduced.summary())"
      ],
      "execution_count": null,
      "outputs": [
        {
          "output_type": "stream",
          "text": [
            "                            OLS Regression Results                            \n",
            "==============================================================================\n",
            "Dep. Variable:                  PRICE   R-squared:                       0.732\n",
            "Model:                            OLS   Adj. R-squared:                  0.730\n",
            "Method:                 Least Squares   F-statistic:                     445.1\n",
            "Date:                Wed, 27 Nov 2019   Prob (F-statistic):          2.34e-139\n",
            "Time:                        00:58:34   Log-Likelihood:                -1445.8\n",
            "No. Observations:                 493   AIC:                             2900.\n",
            "Df Residuals:                     489   BIC:                             2916.\n",
            "Df Model:                           3                                         \n",
            "Covariance Type:            nonrobust                                         \n",
            "==============================================================================\n",
            "                 coef    std err          t      P>|t|      [0.025      0.975]\n",
            "------------------------------------------------------------------------------\n",
            "Intercept     -9.1148      3.261     -2.795      0.005     -15.521      -2.708\n",
            "CRIM          -0.3198      0.038     -8.364      0.000      -0.395      -0.245\n",
            "RM             8.1836      0.333     24.548      0.000       7.529       8.839\n",
            "PTRATIO       -1.0373      0.105     -9.837      0.000      -1.245      -0.830\n",
            "==============================================================================\n",
            "Omnibus:                       25.355   Durbin-Watson:                   1.080\n",
            "Prob(Omnibus):                  0.000   Jarque-Bera (JB):               42.475\n",
            "Skew:                           0.361   Prob(JB):                     5.98e-10\n",
            "Kurtosis:                       4.243   Cond. No.                         316.\n",
            "==============================================================================\n",
            "\n",
            "Warnings:\n",
            "[1] Standard Errors assume that the covariance matrix of the errors is correctly specified.\n"
          ],
          "name": "stdout"
        }
      ]
    },
    {
      "cell_type": "markdown",
      "metadata": {
        "id": "qML0dSS3VfV5"
      },
      "source": [
        "## Requirements"
      ]
    },
    {
      "cell_type": "code",
      "metadata": {
        "id": "Mdf_AWpHgxke",
        "colab": {
          "base_uri": "https://localhost:8080/",
          "height": 371
        },
        "outputId": "57fcee1e-fe20-43de-be23-6e47afd9874e"
      },
      "source": [
        "# !pip install pipreqs\n",
        "\n",
        "import pip\n",
        "import pipreqs\n",
        "import subprocess"
      ],
      "execution_count": null,
      "outputs": [
        {
          "output_type": "error",
          "ename": "ModuleNotFoundError",
          "evalue": "ignored",
          "traceback": [
            "\u001b[0;31m---------------------------------------------------------------------------\u001b[0m",
            "\u001b[0;31mModuleNotFoundError\u001b[0m                       Traceback (most recent call last)",
            "\u001b[0;32m<ipython-input-60-e97ad798936c>\u001b[0m in \u001b[0;36m<module>\u001b[0;34m()\u001b[0m\n\u001b[1;32m      1\u001b[0m \u001b[0;34m\u001b[0m\u001b[0m\n\u001b[1;32m      2\u001b[0m \u001b[0;32mimport\u001b[0m \u001b[0mpip\u001b[0m\u001b[0;34m\u001b[0m\u001b[0;34m\u001b[0m\u001b[0m\n\u001b[0;32m----> 3\u001b[0;31m \u001b[0;32mimport\u001b[0m \u001b[0mpipreqs\u001b[0m\u001b[0;34m\u001b[0m\u001b[0;34m\u001b[0m\u001b[0m\n\u001b[0m\u001b[1;32m      4\u001b[0m \u001b[0;32mimport\u001b[0m \u001b[0msubprocess\u001b[0m\u001b[0;34m\u001b[0m\u001b[0;34m\u001b[0m\u001b[0m\n",
            "\u001b[0;31mModuleNotFoundError\u001b[0m: No module named 'pipreqs'",
            "",
            "\u001b[0;31m---------------------------------------------------------------------------\u001b[0;32m\nNOTE: If your import is failing due to a missing package, you can\nmanually install dependencies using either !pip or !apt.\n\nTo view examples of installing some common dependencies, click the\n\"Open Examples\" button below.\n\u001b[0;31m---------------------------------------------------------------------------\u001b[0m\n"
          ]
        }
      ]
    },
    {
      "cell_type": "markdown",
      "metadata": {
        "id": "diTiT4usg-Sr"
      },
      "source": [
        "<br>\n",
        "\n",
        "Via pip freeze"
      ]
    },
    {
      "cell_type": "code",
      "metadata": {
        "id": "A0JPZU9OYMnz"
      },
      "source": [
        "# !pip freeze > requirements.txt\n",
        "\n",
        "subprocess.Popen(['pip3', 'freeze', '--local'], stdout=open('requirements.txt', 'w'))"
      ],
      "execution_count": null,
      "outputs": []
    },
    {
      "cell_type": "code",
      "metadata": {
        "id": "p_Jz48fIZ5M1"
      },
      "source": [
        "f = open(\"requirements.txt\", \"r\")\n",
        "if f.mode == \"r\":\n",
        "  contents = f.read()\n",
        "  print(contents)\n",
        "f.close()"
      ],
      "execution_count": null,
      "outputs": []
    },
    {
      "cell_type": "markdown",
      "metadata": {
        "id": "y268txhmhCL9"
      },
      "source": [
        "<br>\n",
        "\n",
        "Via pipreqs"
      ]
    },
    {
      "cell_type": "code",
      "metadata": {
        "id": "uOHGkuX8cb59"
      },
      "source": [
        "# !pipreqs --force .\n",
        "\n",
        "subprocess.Popen(['pipreqs', '--force'], stdout=open('requirements.txt', 'w'))"
      ],
      "execution_count": null,
      "outputs": []
    },
    {
      "cell_type": "code",
      "metadata": {
        "id": "e9TLoSsjiMW4"
      },
      "source": [
        "f = open(\"requirements.txt\", \"r\")\n",
        "if f.mode == \"r\":\n",
        "  contents = f.read()\n",
        "  print(contents)\n",
        "f.close()"
      ],
      "execution_count": null,
      "outputs": []
    }
  ]
}